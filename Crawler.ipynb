{
  "nbformat": 4,
  "nbformat_minor": 0,
  "metadata": {
    "colab": {
      "name": "Crawler.ipynb",
      "provenance": [],
      "collapsed_sections": [],
      "toc_visible": true,
      "mount_file_id": "1hZlMXLIqWPpVh3XG7L-lnNHp4yKnQX4n",
      "authorship_tag": "ABX9TyPHcCK4FqbsTppScaz+YUyh",
      "include_colab_link": true
    },
    "kernelspec": {
      "display_name": "Python 3",
      "name": "python3"
    },
    "language_info": {
      "name": "python"
    }
  },
  "cells": [
    {
      "cell_type": "markdown",
      "metadata": {
        "id": "view-in-github",
        "colab_type": "text"
      },
      "source": [
        "<a href=\"https://colab.research.google.com/github/ProtikDey/News-Crawler/blob/main/Crawler.ipynb\" target=\"_parent\"><img src=\"https://colab.research.google.com/assets/colab-badge.svg\" alt=\"Open In Colab\"/></a>"
      ]
    },
    {
      "cell_type": "code",
      "metadata": {
        "colab": {
          "base_uri": "https://localhost:8080/"
        },
        "id": "ufh043Unfpza",
        "outputId": "8dab1fa5-0958-4db9-9d20-d70566b33dbc"
      },
      "source": [
        "!pip install beautifulsoup4\n",
        "!pip install numpy\n",
        "!pip install requests\n",
        "!pip install spacy\n",
        "!pip install trafilatura"
      ],
      "execution_count": null,
      "outputs": [
        {
          "output_type": "stream",
          "text": [
            "Requirement already satisfied: beautifulsoup4 in /usr/local/lib/python3.7/dist-packages (4.6.3)\n",
            "Requirement already satisfied: numpy in /usr/local/lib/python3.7/dist-packages (1.19.5)\n",
            "Requirement already satisfied: requests in /usr/local/lib/python3.7/dist-packages (2.23.0)\n",
            "Requirement already satisfied: chardet<4,>=3.0.2 in /usr/local/lib/python3.7/dist-packages (from requests) (3.0.4)\n",
            "Requirement already satisfied: urllib3!=1.25.0,!=1.25.1,<1.26,>=1.21.1 in /usr/local/lib/python3.7/dist-packages (from requests) (1.24.3)\n",
            "Requirement already satisfied: certifi>=2017.4.17 in /usr/local/lib/python3.7/dist-packages (from requests) (2020.12.5)\n",
            "Requirement already satisfied: idna<3,>=2.5 in /usr/local/lib/python3.7/dist-packages (from requests) (2.10)\n",
            "Requirement already satisfied: spacy in /usr/local/lib/python3.7/dist-packages (2.2.4)\n",
            "Requirement already satisfied: murmurhash<1.1.0,>=0.28.0 in /usr/local/lib/python3.7/dist-packages (from spacy) (1.0.5)\n",
            "Requirement already satisfied: wasabi<1.1.0,>=0.4.0 in /usr/local/lib/python3.7/dist-packages (from spacy) (0.8.2)\n",
            "Requirement already satisfied: srsly<1.1.0,>=1.0.2 in /usr/local/lib/python3.7/dist-packages (from spacy) (1.0.5)\n",
            "Requirement already satisfied: tqdm<5.0.0,>=4.38.0 in /usr/local/lib/python3.7/dist-packages (from spacy) (4.41.1)\n",
            "Requirement already satisfied: plac<1.2.0,>=0.9.6 in /usr/local/lib/python3.7/dist-packages (from spacy) (1.1.3)\n",
            "Requirement already satisfied: requests<3.0.0,>=2.13.0 in /usr/local/lib/python3.7/dist-packages (from spacy) (2.23.0)\n",
            "Requirement already satisfied: numpy>=1.15.0 in /usr/local/lib/python3.7/dist-packages (from spacy) (1.19.5)\n",
            "Requirement already satisfied: cymem<2.1.0,>=2.0.2 in /usr/local/lib/python3.7/dist-packages (from spacy) (2.0.5)\n",
            "Requirement already satisfied: thinc==7.4.0 in /usr/local/lib/python3.7/dist-packages (from spacy) (7.4.0)\n",
            "Requirement already satisfied: blis<0.5.0,>=0.4.0 in /usr/local/lib/python3.7/dist-packages (from spacy) (0.4.1)\n",
            "Requirement already satisfied: setuptools in /usr/local/lib/python3.7/dist-packages (from spacy) (56.1.0)\n",
            "Requirement already satisfied: catalogue<1.1.0,>=0.0.7 in /usr/local/lib/python3.7/dist-packages (from spacy) (1.0.0)\n",
            "Requirement already satisfied: preshed<3.1.0,>=3.0.2 in /usr/local/lib/python3.7/dist-packages (from spacy) (3.0.5)\n",
            "Requirement already satisfied: chardet<4,>=3.0.2 in /usr/local/lib/python3.7/dist-packages (from requests<3.0.0,>=2.13.0->spacy) (3.0.4)\n",
            "Requirement already satisfied: certifi>=2017.4.17 in /usr/local/lib/python3.7/dist-packages (from requests<3.0.0,>=2.13.0->spacy) (2020.12.5)\n",
            "Requirement already satisfied: idna<3,>=2.5 in /usr/local/lib/python3.7/dist-packages (from requests<3.0.0,>=2.13.0->spacy) (2.10)\n",
            "Requirement already satisfied: urllib3!=1.25.0,!=1.25.1,<1.26,>=1.21.1 in /usr/local/lib/python3.7/dist-packages (from requests<3.0.0,>=2.13.0->spacy) (1.24.3)\n",
            "Requirement already satisfied: importlib-metadata>=0.20; python_version < \"3.8\" in /usr/local/lib/python3.7/dist-packages (from catalogue<1.1.0,>=0.0.7->spacy) (4.0.1)\n",
            "Requirement already satisfied: zipp>=0.5 in /usr/local/lib/python3.7/dist-packages (from importlib-metadata>=0.20; python_version < \"3.8\"->catalogue<1.1.0,>=0.0.7->spacy) (3.4.1)\n",
            "Requirement already satisfied: typing-extensions>=3.6.4; python_version < \"3.8\" in /usr/local/lib/python3.7/dist-packages (from importlib-metadata>=0.20; python_version < \"3.8\"->catalogue<1.1.0,>=0.0.7->spacy) (3.7.4.3)\n",
            "Collecting trafilatura\n",
            "\u001b[?25l  Downloading https://files.pythonhosted.org/packages/a0/eb/3725c95c55cf4f40c842f393e4310d569ca7efa7066f8ca7bcda757e27c7/trafilatura-0.8.2-py3-none-any.whl (165kB)\n",
            "\u001b[K     |████████████████████████████████| 174kB 5.1MB/s \n",
            "\u001b[?25hCollecting justext>=2.2.0\n",
            "\u001b[?25l  Downloading https://files.pythonhosted.org/packages/6c/5f/c7b909b4b864ebcacfac23ce2f6f01a50c53628787cc14b3c06f79464cab/jusText-2.2.0-py2.py3-none-any.whl (860kB)\n",
            "\u001b[K     |████████████████████████████████| 870kB 16.1MB/s \n",
            "\u001b[?25hRequirement already satisfied: certifi in /usr/local/lib/python3.7/dist-packages (from trafilatura) (2020.12.5)\n",
            "Collecting urllib3<2,>=1.25\n",
            "\u001b[?25l  Downloading https://files.pythonhosted.org/packages/0c/cd/1e2ec680ec7b09846dc6e605f5a7709dfb9d7128e51a026e7154e18a234e/urllib3-1.26.5-py2.py3-none-any.whl (138kB)\n",
            "\u001b[K     |████████████████████████████████| 143kB 22.6MB/s \n",
            "\u001b[?25hCollecting courlan>=0.3.1\n",
            "  Downloading https://files.pythonhosted.org/packages/e5/0c/cedc2592fdd601b9cb9c26a4c533ab1a505ef3a3fdd7fb9ef21d84ca6633/courlan-0.4.0-py3-none-any.whl\n",
            "Collecting readability-lxml>=0.8.1\n",
            "  Downloading https://files.pythonhosted.org/packages/39/a6/cfe22aaa19ac69b97d127043a76a5bbcb0ef24f3a0b22793c46608190caa/readability_lxml-0.8.1-py3-none-any.whl\n",
            "Requirement already satisfied: chardet>=3.0.4; python_version >= \"3.6\" in /usr/local/lib/python3.7/dist-packages (from trafilatura) (3.0.4)\n",
            "Collecting lxml>=4.6.2; python_version > \"3.4\"\n",
            "\u001b[?25l  Downloading https://files.pythonhosted.org/packages/30/c0/d0526314971fc661b083ab135747dc68446a3022686da8c16d25fcf6ef07/lxml-4.6.3-cp37-cp37m-manylinux2014_x86_64.whl (6.3MB)\n",
            "\u001b[K     |████████████████████████████████| 6.3MB 17.9MB/s \n",
            "\u001b[?25hCollecting htmldate>=0.8.1\n",
            "  Downloading https://files.pythonhosted.org/packages/16/13/9284824d9269a357b2467d1274e4ecebc6bd80e1f90c033f6a77779703fa/htmldate-0.8.1-py3-none-any.whl\n",
            "Collecting tld; python_version >= \"3.6\"\n",
            "\u001b[?25l  Downloading https://files.pythonhosted.org/packages/1f/51/ec8741d354a59450327be40591ef50b0ddb78bfb359fe1319003b233e5c8/tld-0.12.5-py37-none-any.whl (408kB)\n",
            "\u001b[K     |████████████████████████████████| 409kB 36.7MB/s \n",
            "\u001b[?25hCollecting cssselect\n",
            "  Downloading https://files.pythonhosted.org/packages/3b/d4/3b5c17f00cce85b9a1e6f91096e1cc8e8ede2e1be8e96b87ce1ed09e92c5/cssselect-1.1.0-py2.py3-none-any.whl\n",
            "Collecting dateparser>=1.0.0; python_version > \"3.4\"\n",
            "\u001b[?25l  Downloading https://files.pythonhosted.org/packages/78/c4/b5ddc3eeac974d85055d88c1e6b62cc492fc1a93dbe3b66a45a756a7b807/dateparser-1.0.0-py2.py3-none-any.whl (279kB)\n",
            "\u001b[K     |████████████████████████████████| 286kB 29.8MB/s \n",
            "\u001b[?25hRequirement already satisfied: python-dateutil>=2.8.1 in /usr/local/lib/python3.7/dist-packages (from htmldate>=0.8.1->trafilatura) (2.8.1)\n",
            "Collecting regex>=2020.11.13\n",
            "\u001b[?25l  Downloading https://files.pythonhosted.org/packages/c4/28/5f08d8841013ccf72cd95dfff2500fe7fb39467af12c5e7b802d8381d811/regex-2021.4.4-cp37-cp37m-manylinux2014_x86_64.whl (720kB)\n",
            "\u001b[K     |████████████████████████████████| 727kB 25.5MB/s \n",
            "\u001b[?25hRequirement already satisfied: tzlocal in /usr/local/lib/python3.7/dist-packages (from dateparser>=1.0.0; python_version > \"3.4\"->htmldate>=0.8.1->trafilatura) (1.5.1)\n",
            "Requirement already satisfied: pytz in /usr/local/lib/python3.7/dist-packages (from dateparser>=1.0.0; python_version > \"3.4\"->htmldate>=0.8.1->trafilatura) (2018.9)\n",
            "Requirement already satisfied: six>=1.5 in /usr/local/lib/python3.7/dist-packages (from python-dateutil>=2.8.1->htmldate>=0.8.1->trafilatura) (1.15.0)\n",
            "\u001b[31mERROR: requests 2.23.0 has requirement urllib3!=1.25.0,!=1.25.1,<1.26,>=1.21.1, but you'll have urllib3 1.26.5 which is incompatible.\u001b[0m\n",
            "\u001b[31mERROR: datascience 0.10.6 has requirement folium==0.2.1, but you'll have folium 0.8.3 which is incompatible.\u001b[0m\n",
            "Installing collected packages: lxml, justext, urllib3, tld, courlan, cssselect, readability-lxml, regex, dateparser, htmldate, trafilatura\n",
            "  Found existing installation: lxml 4.2.6\n",
            "    Uninstalling lxml-4.2.6:\n",
            "      Successfully uninstalled lxml-4.2.6\n",
            "  Found existing installation: urllib3 1.24.3\n",
            "    Uninstalling urllib3-1.24.3:\n",
            "      Successfully uninstalled urllib3-1.24.3\n",
            "  Found existing installation: regex 2019.12.20\n",
            "    Uninstalling regex-2019.12.20:\n",
            "      Successfully uninstalled regex-2019.12.20\n",
            "Successfully installed courlan-0.4.0 cssselect-1.1.0 dateparser-1.0.0 htmldate-0.8.1 justext-2.2.0 lxml-4.6.3 readability-lxml-0.8.1 regex-2021.4.4 tld-0.12.5 trafilatura-0.8.2 urllib3-1.26.5\n"
          ],
          "name": "stdout"
        }
      ]
    },
    {
      "cell_type": "code",
      "metadata": {
        "id": "N0WGtY3_hmrH",
        "colab": {
          "base_uri": "https://localhost:8080/"
        },
        "outputId": "fc9bc7da-c22d-4940-83f6-04cb6c2dbcfc"
      },
      "source": [
        "from bs4 import BeautifulSoup\n",
        "import json\n",
        "import numpy as np\n",
        "import pandas as pd\n",
        "import glob\n",
        "import os\n",
        "import requests\n",
        "from requests.models import MissingSchema\n",
        "import spacy\n",
        "import trafilatura\n",
        "import time"
      ],
      "execution_count": null,
      "outputs": [
        {
          "output_type": "stream",
          "text": [
            "/usr/local/lib/python3.7/dist-packages/requests/__init__.py:91: RequestsDependencyWarning: urllib3 (1.26.5) or chardet (3.0.4) doesn't match a supported version!\n",
            "  RequestsDependencyWarning)\n"
          ],
          "name": "stderr"
        }
      ]
    },
    {
      "cell_type": "markdown",
      "metadata": {
        "id": "YffX13VCwdTd"
      },
      "source": [
        "## **Extracting Text**"
      ]
    },
    {
      "cell_type": "code",
      "metadata": {
        "id": "veavwdhygBwT"
      },
      "source": [
        "def beautifulsoup_extract_text_fallback(response_content):\n",
        "    \n",
        "    \n",
        "    \n",
        "    # Create the beautifulsoup object:\n",
        "    soup = BeautifulSoup(response_content, 'html.parser')\n",
        "    \n",
        "    # Finding the text:\n",
        "    text = soup.find_all(text=True)\n",
        "    \n",
        "    # Remove unwanted tag elements:\n",
        "    cleaned_text = ''\n",
        "    blacklist = [\n",
        "        '[document]',\n",
        "        'noscript',\n",
        "        'header',\n",
        "        'html',\n",
        "        'meta',\n",
        "        'head', \n",
        "        'input',\n",
        "        'script',\n",
        "        'style',]\n",
        "\n",
        "    # Then we will loop over every item in the extract text and make sure that the beautifulsoup4 tag\n",
        "    # is NOT in the blacklist\n",
        "    for item in text:\n",
        "        if item.parent.name not in blacklist:\n",
        "            cleaned_text += '{} '.format(item)\n",
        "            \n",
        "    # Remove any tab separation and strip the text:\n",
        "    cleaned_text = cleaned_text.replace('\\t', '')\n",
        "    return cleaned_text.strip()\n",
        "    \n",
        "\n",
        "def extract_text_from_single_web_page(url):\n",
        "    \n",
        "    downloaded_url = trafilatura.fetch_url(url)\n",
        "    \n",
        "    try:\n",
        "        a = trafilatura.extract(downloaded_url, output_format='json', with_metadata=False, include_comments = False, include_images = False,                  \n",
        "              include_tables = False, include_links = False , date_extraction_params={'extensive_search': True, 'original_date': True})\n",
        "        \n",
        "    except AttributeError:\n",
        "        a = trafilatura.extract(downloaded_url, output_format='json', with_metadata=False, include_comments = False, include_images = False,            \n",
        "                    include_tables = False, include_links = False, date_extraction_params={'extensive_search': True, 'original_date': True})\n",
        "    \n",
        "    if a:\n",
        "        json_output = json.loads(a)\n",
        "        return json_output['text']\n",
        "    else:\n",
        "        try:\n",
        "            resp = requests.get(url)\n",
        "            # We will only extract the text from successful requests:\n",
        "            if resp.status_code == 200:\n",
        "                return beautifulsoup_extract_text_fallback(resp.content)\n",
        "            else:\n",
        "                # This line will handle for any failures in both the Trafilature and BeautifulSoup4 functions:\n",
        "                print('None')\n",
        "                return np.nan\n",
        "        # Handling for any URLs that don't have the correct protocol\n",
        "        except requests.exceptions.RequestException as e:\n",
        "            print(e)\n",
        "            return np.nan\n",
        "        "
      ],
      "execution_count": null,
      "outputs": []
    },
    {
      "cell_type": "markdown",
      "metadata": {
        "id": "A_pHDfGwQWrF"
      },
      "source": [
        "## **CSV Column Dropping**"
      ]
    },
    {
      "cell_type": "code",
      "metadata": {
        "colab": {
          "base_uri": "https://localhost:8080/"
        },
        "id": "_8guJxLkQe53",
        "outputId": "1d6b9739-d2ee-4203-942b-4d3fbb015356"
      },
      "source": [
        "real_path = r'/content/drive/MyDrive/Try CSV/Real'\n",
        "edited_path = r'/content/drive/MyDrive/Try CSV/Edited/'\n",
        "all_files = glob.glob(real_path + \"/*.csv\")\n",
        "#all_files\n",
        "\n",
        "columnsToDelete = [\"User Name\", \"Facebook Id\", \"Page Created\", \"Likes at Posting\", \"Followers at Posting\", \"Total Interactions\", \"Likes\", \"Comments\", \"Shares\", \"Love\", \"Wow\",\n",
        "                   \"Haha\", \"Sad\", \"Angry\", \"Care\", \"Is Video Owner?\", \"Post Views\", \"Total Views\", \"Total Views For All Crossposts\", \"Video Length\",\n",
        "                   \"Sponsor Id\", \"Sponsor Name\", \"Sponsor Category\", \"Total Interactions (weighted  —  Likes 1x Shares 1x Comments 1x Love 1x Wow 1x Haha 1x Sad 1x Angry 1x Care 1x )\",\n",
        "                   \"Overperforming Score\" ]\n",
        "\n",
        "# get all file names\n",
        "file_name=[]\n",
        "for files in all_files:\n",
        "  file_w_ext = (os.path.basename(files))\n",
        "  fname, ext = os.path.splitext(file_w_ext)\n",
        "  file_name.append(fname)\n",
        "\n",
        "#file_name\n",
        "\n",
        "# drop columns and create new 'Label' column\n",
        "for i in range(0, len(all_files)):\n",
        "  csv_file = pd.read_csv(all_files[i],encoding='utf-8')\n",
        "  dropped_file = csv_file.drop(columnsToDelete, axis=1, inplace=False)\n",
        "  dropped_file['Label'] = np.nan \n",
        "  dropped_file.to_csv(edited_path + file_name[i] + '_edited.csv', index=False, encoding='utf-8')\n",
        "  print(edited_path + file_name[i] + '_edited.csv created')"
      ],
      "execution_count": null,
      "outputs": [
        {
          "output_type": "stream",
          "text": [
            "/content/drive/MyDrive/Try CSV/Edited/Dec 26_edited.csv created\n"
          ],
          "name": "stdout"
        }
      ]
    },
    {
      "cell_type": "markdown",
      "metadata": {
        "id": "qtgN1941w6Zn"
      },
      "source": [
        "## **Writing Description in  CSV**"
      ]
    },
    {
      "cell_type": "code",
      "metadata": {
        "id": "Ffilb1U-Xlqu",
        "colab": {
          "base_uri": "https://localhost:8080/"
        },
        "outputId": "4a9bb1d4-9dea-4dd8-9375-3f1c8d3e62b2"
      },
      "source": [
        "filePath = '/content/drive/MyDrive/Try CSV/Edited/' \n",
        "editedPath = '/content/drive/MyDrive/Try CSV/Crawled/'\n",
        "\n",
        "all_files = glob.glob(filePath + \"/*.csv\")\n",
        "#all_files\n",
        "\n",
        "# get all file names\n",
        "file_name=[]\n",
        "for files in all_files:\n",
        "  file_w_ext = (os.path.basename(files))\n",
        "  fname, ext = os.path.splitext(file_w_ext)\n",
        "  file_name.append(fname)\n",
        "\n",
        "#file_name\n",
        "\n",
        "unreachableSites = ['http://cumillabarta.com', 'https://www.analysisbd.net', 'https://bit.ly', 'https://www.hasivalobashi.club', \n",
        "                    'https://www.bengalbreakingnews.com', 'https://dailymorning24.com', 'https://www.sangbad24x7.com/', \n",
        "                    'http://www.naturalhealthtips.us/', 'https://kalerdarpan24.com', 'https://notunalo.press/', \n",
        "                    'https://www.timeofkushtia.com/', 'https://somoybd24.info/', 'https://www.sarakhon.com/']\n",
        "\n",
        "for j in range(len(all_files)):\n",
        "  df = pd.read_csv(all_files[j],encoding='utf-8')\n",
        "  for i in range(len(df)):\n",
        "    print(i)\n",
        "\n",
        "    #if Status or Link is of Facebook, dont do anything\n",
        "    if df.loc[i, 'Type'] == 'Status' or 'https://www.facebook.com' in df.loc[i, 'Link'] :\n",
        "      print('Status Type')\n",
        "      print('Continuing')\n",
        "      continue\n",
        "      #URL = df.loc[i, 'URL']\n",
        "\n",
        "    elif df.loc[i, 'Type'] == 'Link':\n",
        "      print('Link Type')\n",
        "      URL = df.loc[i, 'Link']\n",
        "      # if 'https://www.facebook.com' in URL:\n",
        "      #   print('Facebook')\n",
        "      #   print('Continuing')\n",
        "      #   continue \n",
        "\n",
        "    else :\n",
        "      df.drop([i], inplace=True)\n",
        "      print('Other type')\n",
        "      print('dropped')\n",
        "      continue\n",
        "    \n",
        "    print(URL)\n",
        "\n",
        "    if any(x in URL for x in unreachableSites ):\n",
        "      df.drop([i], inplace = True )\n",
        "      print('dropped as unreachable')\n",
        "      continue\n",
        "\n",
        "\n",
        "    try:\n",
        "      text = extract_text_from_single_web_page(url=URL)\n",
        "    except KeyboardInterrupt as e:\n",
        "      print('Key pressed')\n",
        "      df.drop([i], inplace = True )\n",
        "      print('dropped as key pressed')\n",
        "      continue\n",
        "      \n",
        "    \n",
        "\n",
        "    #  if the url is unreachable, drop it\n",
        "    if text is np.nan:\n",
        "      df.drop([i], inplace = True )\n",
        "      print('dropped')\n",
        "      continue\n",
        "\n",
        "    # replace Description with text extracted from the link\n",
        "    df.replace(to_replace = df.loc[i, 'Description'], \n",
        "                 value = text, \n",
        "                  inplace = True)\n",
        "    print(\"Description Updated\")\n",
        "    #print(df.loc[i,'Description'])\n",
        "\n",
        "  df.to_csv(editedPath + file_name[j] +  'crawled.csv', index=False, encoding='utf-8')\n",
        "  print(editedPath + file_name[j] +  'crawled.csv created')"
      ],
      "execution_count": null,
      "outputs": [
        {
          "output_type": "stream",
          "text": [
            "0\n",
            "Link Type\n",
            "https://www.unicef.org/bangladesh/%E0%A6%95%E0%A7%8B%E0%A6%AD%E0%A6%BF%E0%A6%A1-%E0%A7%A7%E0%A7%AF-%E0%A6%8F%E0%A6%AC%E0%A6%82-%E0%A6%AE%E0%A6%BE%E0%A6%B8%E0%A7%8D%E0%A6%95-%E0%A6%AA%E0%A6%B0%E0%A6%BF%E0%A6%AC%E0%A6%BE%E0%A6%B0%E0%A7%87%E0%A6%B0-%E0%A6%9C%E0%A6%A8%E0%A7%8D%E0%A6%AF-%E0%A6%95%E0%A6%BF%E0%A6%9B%E0%A7%81-%E0%A6%A8%E0%A6%BF%E0%A6%B0%E0%A7%8D%E0%A6%A6%E0%A7%87%E0%A6%B6%E0%A6%A8%E0%A6%BE\n",
            "Description Updated\n",
            "1\n",
            "Link Type\n",
            "https://www.prothomalo.com/entertainment/bollywood/%E0%A6%95%E0%A6%B0%E0%A7%8B%E0%A6%A8%E0%A6%BE-%E0%A6%A5%E0%A7%87%E0%A6%95%E0%A7%87-%E0%A6%B8%E0%A7%87%E0%A6%B0%E0%A7%87-%E0%A6%AE%E0%A6%BE%E0%A6%B0%E0%A6%BE-%E0%A6%97%E0%A7%87%E0%A6%B2%E0%A7%87%E0%A6%A8-%E0%A6%8F-%E0%A6%86%E0%A6%B0-%E0%A6%B0%E0%A6%B9%E0%A6%AE%E0%A6%BE%E0%A6%A8%E0%A7%87%E0%A6%B0-%E0%A6%AE%E0%A6%BE\n",
            "Description Updated\n",
            "2\n",
            "Status Type\n",
            "Continuing\n",
            "3\n",
            "Link Type\n",
            "https://www.somoynews.tv/pages/details/254839\n",
            "Description Updated\n",
            "4\n",
            "Status Type\n",
            "Continuing\n",
            "5\n",
            "Link Type\n",
            "https://todaykhobor.com/healthy/%e0%a6%b8%e0%a6%95%e0%a6%b2-%e0%a6%8f%e0%a7%9f%e0%a6%be%e0%a6%b0%e0%a6%b2%e0%a6%be%e0%a6%87%e0%a6%a8%e0%a7%8d%e0%a6%b8%e0%a6%95%e0%a7%87-%e0%a6%95%e0%a7%8b%e0%a6%a0%e0%a6%b0-%e0%a6%a8%e0%a6%bf/\n",
            "Description Updated\n",
            "6\n",
            "Link Type\n",
            "https://www.somoynews.tv/pages/details/255229\n"
          ],
          "name": "stdout"
        },
        {
          "output_type": "stream",
          "text": [
            "WARNING:trafilatura.utils:wrong encoding detected: utf-8\n"
          ],
          "name": "stderr"
        },
        {
          "output_type": "stream",
          "text": [
            "Description Updated\n",
            "7\n",
            "Link Type\n",
            "https://news.studyhourbd.com/?p=598\n",
            "Description Updated\n",
            "8\n",
            "Link Type\n",
            "http://banglanewzz.com/archives/11083\n",
            "Description Updated\n",
            "9\n",
            "Link Type\n",
            "https://www.somoynews.tv/pages/details/255581\n"
          ],
          "name": "stdout"
        },
        {
          "output_type": "stream",
          "text": [
            "WARNING:trafilatura.utils:wrong encoding detected: utf-8\n"
          ],
          "name": "stderr"
        },
        {
          "output_type": "stream",
          "text": [
            "Description Updated\n",
            "10\n",
            "Link Type\n",
            "http://www.independent24.com/details/69028/%E0%A6%A1.%20%E0%A6%87%E0%A6%89%E0%A6%A8%E0%A7%81%E0%A6%B8%E0%A7%87%E0%A6%B0%20%E0%A6%B8%E0%A6%B9%E0%A6%BE%E0%A7%9F%E0%A6%A4%E0%A6%BE%20%E0%A6%A8%E0%A6%BF%E0%A6%B2%E0%A7%87%20%E0%A6%B8%E0%A6%B9%E0%A6%9C%E0%A7%87%20%E0%A6%AD%E0%A7%8D%E0%A6%AF%E0%A6%BE%E0%A6%95%E0%A6%B8%E0%A6%BF%E0%A6%A8%20%E0%A6%AA%E0%A7%87%E0%A6%A4%20%E0%A6%AE%E0%A6%BE%E0%A6%A8%E0%A7%81%E0%A6%B7\n",
            "Description Updated\n",
            "11\n",
            "Link Type\n",
            "https://www.ntvbd.com/bangladesh/%E0%A6%86%E0%A6%97%E0%A6%BE%E0%A6%AE%E0%A7%80%E0%A6%95%E0%A6%BE%E0%A6%B2-%E0%A6%AC%E0%A6%87-%E0%A6%AC%E0%A6%BF%E0%A6%A4%E0%A6%B0%E0%A6%A3-%E0%A6%89%E0%A6%A6%E0%A7%8D%E0%A6%AC%E0%A7%8B%E0%A6%A7%E0%A6%A8-%E0%A6%95%E0%A6%B0%E0%A6%AC%E0%A7%87%E0%A6%A8-%E0%A6%AA%E0%A7%8D%E0%A6%B0%E0%A6%A7%E0%A6%BE%E0%A6%A8%E0%A6%AE%E0%A6%A8%E0%A7%8D%E0%A6%A4%E0%A7%8D%E0%A6%B0%E0%A7%80-847917\n",
            "Description Updated\n",
            "12\n",
            "Link Type\n",
            "http://independent24.com/details/69067/%E0%A6%95%E0%A6%B0%E0%A7%8B%E0%A6%A8%E0%A6%BE%20%E0%A6%A8%E0%A6%BE%20%E0%A6%95%E0%A6%AE%E0%A6%B2%E0%A7%87%20%E0%A6%A1%E0%A6%BF%E0%A6%9C%E0%A6%BF%E0%A6%9F%E0%A6%BE%E0%A6%B2%20%E0%A6%AA%E0%A6%A6%E0%A7%8D%E0%A6%A7%E0%A6%A4%E0%A6%BF%E0%A6%A4%E0%A7%87%20%E0%A6%B6%E0%A6%BF%E0%A6%95%E0%A7%8D%E0%A6%B7%E0%A6%BE%20%E0%A6%95%E0%A6%BE%E0%A6%B0%E0%A7%8D%E0%A6%AF%E0%A6%95%E0%A7%8D%E0%A6%B0%E0%A6%AE:%20%E0%A6%AA%E0%A7%8D%E0%A6%B0%E0%A6%A7%E0%A6%BE%E0%A6%A8%E0%A6%AE%E0%A6%A8%E0%A7%8D%E0%A6%A4%E0%A7%8D%E0%A6%B0%E0%A7%80\n",
            "Description Updated\n",
            "13\n",
            "Link Type\n",
            "https://banglanews24.com/entertainment/news/bd/831740.details\n",
            "Description Updated\n",
            "14\n",
            "Link Type\n",
            "https://www.bd-pratidin.com/entertainment/2020/12/27/601681\n",
            "Description Updated\n",
            "15\n",
            "Link Type\n",
            "http://zeenews.india.com/bengali/photos/having-sex-with-covid-infected-by-opening-ppe-in-hospital-bathroom-dismissed-nurse-361340\n",
            "Description Updated\n",
            "16\n",
            "Link Type\n",
            "https://www.somoynews.tv/pages/details/255013\n",
            "Description Updated\n",
            "17\n",
            "Link Type\n",
            "https://www.somoynews.tv/pages/details/255198\n",
            "Description Updated\n",
            "18\n",
            "Link Type\n",
            "https://jamuna.tv/news/194662\n",
            "Description Updated\n",
            "19\n",
            "Link Type\n",
            "https://www.somoynews.tv/pages/details/254853\n",
            "Description Updated\n",
            "20\n",
            "Link Type\n",
            "https://www.somoynews.tv/pages/details/254905\n",
            "Description Updated\n",
            "21\n",
            "Link Type\n",
            "https://www.somoynews.tv/pages/details/255057\n",
            "Description Updated\n",
            "22\n",
            "Link Type\n",
            "https://www.somoynews.tv/pages/details/255691\n",
            "Description Updated\n",
            "23\n",
            "Link Type\n",
            "https://m.hoophaap.com/article/kareena-kapoor-celebrated-31st-december-with-family/16585\n",
            "Description Updated\n",
            "24\n",
            "Link Type\n",
            "https://jamuna.tv/news/194077\n",
            "Description Updated\n",
            "25\n",
            "Link Type\n",
            "https://jamuna.tv/news/194265\n",
            "Description Updated\n",
            "26\n",
            "Link Type\n",
            "https://bijoytimes.com/%e0%a6%b8%e0%a7%8d%e0%a6%ac%e0%a6%be%e0%a6%ae%e0%a7%80%e0%a6%b0-%e0%a6%95%e0%a6%b0%e0%a7%8b%e0%a6%a8%e0%a6%be-%e0%a6%b8%e0%a7%8d%e0%a6%a4%e0%a7%8d%e0%a6%b0%e0%a7%80-%e0%a6%ac%e0%a6%be%e0%a6%aa/\n",
            "Description Updated\n",
            "27\n",
            "Link Type\n",
            "https://www.somoynews.tv/pages/details/255650\n"
          ],
          "name": "stdout"
        },
        {
          "output_type": "stream",
          "text": [
            "ERROR:trafilatura.utils:not a 200 response: 404 for URL https://probashtime.com/2020/12/29/%E0%A6%AC%E0%A6%BF%E0%A6%A8%E0%A6%BE%E0%A6%AE%E0%A7%82%E0%A6%B2%E0%A7%8D%E0%A6%AF%E0%A7%87-%E0%A6%AD%E0%A6%BF%E0%A6%B8%E0%A6%BE-%E0%A6%A8%E0%A6%AC%E0%A6%BE%E0%A7%9F%E0%A6%A8%E0%A7%87%E0%A6%B0/\n",
            "ERROR:trafilatura.utils:this type cannot be processed: <class 'NoneType'>\n"
          ],
          "name": "stderr"
        },
        {
          "output_type": "stream",
          "text": [
            "Description Updated\n",
            "28\n",
            "Link Type\n",
            "https://probashtime.com/2020/12/29/%E0%A6%AC%E0%A6%BF%E0%A6%A8%E0%A6%BE%E0%A6%AE%E0%A7%82%E0%A6%B2%E0%A7%8D%E0%A6%AF%E0%A7%87-%E0%A6%AD%E0%A6%BF%E0%A6%B8%E0%A6%BE-%E0%A6%A8%E0%A6%AC%E0%A6%BE%E0%A7%9F%E0%A6%A8%E0%A7%87%E0%A6%B0/\n",
            "None\n",
            "dropped\n",
            "29\n",
            "Link Type\n",
            "http://zeenews.india.com/bengali/photos/santa-superspreader-18-elderly-residents-dead-after-covid-infected-santa-claus-pays-christmas-visit-to-belgian-care-home-360504\n",
            "Description Updated\n",
            "30\n",
            "Link Type\n",
            "https://www.prothomalo.com/world/china/%E0%A6%89%E0%A6%B9%E0%A6%BE%E0%A6%A8%E0%A7%87%E0%A6%B0-%E0%A6%95%E0%A6%B0%E0%A7%8B%E0%A6%A8%E0%A6%BE-%E0%A6%A8%E0%A6%BF%E0%A7%9F%E0%A7%87-%E0%A6%B0%E0%A6%BF%E0%A6%AA%E0%A7%8B%E0%A6%B0%E0%A7%8D%E0%A6%9F-%E0%A6%95%E0%A6%B0%E0%A6%BE-%E0%A6%B8%E0%A6%BE%E0%A6%82%E0%A6%AC%E0%A6%BE%E0%A6%A6%E0%A6%BF%E0%A6%95%E0%A7%87%E0%A6%B0-%E0%A7%AA-%E0%A6%AC%E0%A6%9B%E0%A6%B0%E0%A7%87%E0%A6%B0-%E0%A6%9C%E0%A7%87%E0%A6%B2\n",
            "Description Updated\n",
            "31\n",
            "Link Type\n",
            "https://www.somoynews.tv/pages/details/255419\n",
            "Description Updated\n",
            "32\n",
            "Link Type\n",
            "http://thecityvpn.com/?p=31246\n",
            "Description Updated\n",
            "33\n",
            "Link Type\n",
            "https://festalnews.com/archives/21046\n",
            "Description Updated\n",
            "34\n",
            "Link Type\n",
            "https://www.anandabazar.com/international/china-s-citizen-journalist-sentenced-4-year-jail-for-repoting-covid-outbreak-in-wuhan-dgtl-1.1250548?utm_source=facebook&utm_medium=social&utm_campaign=dailymage-4\n",
            "Description Updated\n",
            "35\n",
            "Link Type\n",
            "https://insaf24.net/saturday-26december-dotnet-news102/\n",
            "Description Updated\n",
            "36\n",
            "Link Type\n",
            "https://www.bd24live.com/bangla/saudi-receives-five-million-pilgrims-since-resuming-umrah-no-covid-19-cases-detected/\n",
            "Description Updated\n",
            "37\n",
            "Link Type\n",
            "https://www.dainikshiksha.com/%E0%A6%85%E0%A6%A8%E0%A6%BE%E0%A6%B0%E0%A7%8D%E0%A6%B8-%E0%A7%AA%E0%A6%B0%E0%A7%8D%E0%A6%A5-%E0%A6%AC%E0%A6%B0%E0%A7%8D%E0%A6%B7-%E0%A6%AA%E0%A6%B0%E0%A7%80%E0%A6%95%E0%A7%8D%E0%A6%B7%E0%A6%BE-%E0%A6%B6%E0%A7%81%E0%A6%B0%E0%A7%81-%E0%A7%A7%E0%A7%AD-%E0%A6%9C%E0%A6%BE%E0%A6%A8%E0%A7%81%E0%A7%9F%E0%A6%BE%E0%A6%B0%E0%A6%BF/201088/\n",
            "Description Updated\n",
            "38\n",
            "Link Type\n",
            "https://www.dainikshiksha.com/%E0%A6%B8%E0%A7%8D%E0%A6%95%E0%A7%81%E0%A6%B2%E0%A7%87-%E0%A6%B8%E0%A7%8D%E0%A6%95%E0%A7%81%E0%A6%B2%E0%A7%87-%E0%A6%AC%E0%A6%87-%E0%A6%AC%E0%A6%BF%E0%A6%A4%E0%A6%B0%E0%A6%A3-%E0%A6%B6%E0%A7%81%E0%A6%B0%E0%A7%81-%E0%A6%95%E0%A6%BE%E0%A6%B2/201186/\n",
            "Description Updated\n",
            "39\n",
            "Link Type\n",
            "http://worldlivenewz.com/archives/17254\n",
            "Description Updated\n",
            "40\n",
            "Link Type\n",
            "https://www.prothomalo.com/sports/football/%E0%A6%95%E0%A6%B0%E0%A7%8B%E0%A6%A8%E0%A6%BE-%E0%A6%AE%E0%A6%BE%E0%A6%A0%E0%A7%87%E0%A6%87-%E0%A6%A8%E0%A6%BE%E0%A6%AE%E0%A6%A4%E0%A7%87-%E0%A6%A6%E0%A6%BF%E0%A6%B2-%E0%A6%A8%E0%A6%BE-%E0%A6%97%E0%A6%BE%E0%A6%B0%E0%A7%8D%E0%A6%A6%E0%A6%BF%E0%A6%93%E0%A6%B2%E0%A6%BE%E0%A6%B0-%E0%A6%B8%E0%A6%BF%E0%A6%9F%E0%A6%BF%E0%A6%95%E0%A7%87\n",
            "Description Updated\n",
            "41\n",
            "Link Type\n",
            "https://www.ntvbd.com/bangladesh/%E0%A6%B9%E0%A6%BE%E0%A6%87%E0%A6%95%E0%A7%8B%E0%A6%B0%E0%A7%8D%E0%A6%9F%E0%A7%87-%E0%A6%A1%E0%A6%BE-%E0%A6%B8%E0%A6%BE%E0%A6%AC%E0%A6%B0%E0%A7%80%E0%A6%A8%E0%A6%BE%E0%A6%B0-%E0%A6%9C%E0%A6%BE%E0%A6%AE%E0%A6%BF%E0%A6%A8-%E0%A6%86%E0%A6%AC%E0%A7%87%E0%A6%A6%E0%A6%A8-%E0%A6%96%E0%A6%BE%E0%A6%B0%E0%A6%BF%E0%A6%9C-847153\n",
            "Description Updated\n",
            "42\n",
            "Link Type\n",
            "https://bangla.bdnews24.com/world/article1842864.bdnews\n",
            "Description Updated\n",
            "43\n",
            "Status Type\n",
            "Continuing\n",
            "44\n",
            "Link Type\n",
            "https://www.somoynews.tv/pages/details/255627\n",
            "Description Updated\n",
            "45\n",
            "Link Type\n",
            "https://www.prothomalo.com/world/china/%E0%A6%97%E0%A6%A3%E0%A6%B9%E0%A6%BE%E0%A6%B0%E0%A7%87-%E0%A6%9F%E0%A6%BF%E0%A6%95%E0%A6%BE-%E0%A6%AC%E0%A7%8D%E0%A6%AF%E0%A6%AC%E0%A6%B9%E0%A6%BE%E0%A6%B0%E0%A7%87%E0%A6%B0-%E0%A6%85%E0%A6%A8%E0%A7%81%E0%A6%AE%E0%A7%8B%E0%A6%A6%E0%A6%A8-%E0%A6%A6%E0%A6%BF%E0%A6%B2-%E0%A6%9A%E0%A7%80%E0%A6%A8\n",
            "Description Updated\n",
            "46\n",
            "Link Type\n",
            "https://www.somoynews.tv/pages/details/254873\n"
          ],
          "name": "stdout"
        },
        {
          "output_type": "stream",
          "text": [
            "WARNING:trafilatura.utils:wrong encoding detected: utf-8\n"
          ],
          "name": "stderr"
        },
        {
          "output_type": "stream",
          "text": [
            "Description Updated\n",
            "47\n",
            "Link Type\n",
            "https://www.thewall.in/feature-story-of-shubhadeep-bandyopadhyay-about-stars-wedding-of-tollywood/\n"
          ],
          "name": "stdout"
        },
        {
          "output_type": "stream",
          "text": [
            "ERROR:trafilatura.core:not enough text None\n"
          ],
          "name": "stderr"
        },
        {
          "output_type": "stream",
          "text": [
            "Description Updated\n",
            "48\n",
            "Link Type\n",
            "https://www.somoynews.tv/pages/details/254823\n",
            "Description Updated\n",
            "49\n",
            "Link Type\n",
            "https://www.somoynews.tv/pages/details/255554\n"
          ],
          "name": "stdout"
        },
        {
          "output_type": "stream",
          "text": [
            "WARNING:trafilatura.utils:wrong encoding detected: utf-8\n"
          ],
          "name": "stderr"
        },
        {
          "output_type": "stream",
          "text": [
            "Description Updated\n",
            "50\n",
            "Link Type\n",
            "https://jamuna.tv/news/194648\n",
            "Description Updated\n",
            "51\n",
            "Link Type\n",
            "https://enews.bd24report.com/2020/12/31/%e0%a6%aa%e0%a6%ac%e0%a6%bf%e0%a6%a4%e0%a7%8d%e0%a6%b0-%e0%a6%9c%e0%a7%81%e0%a6%ae%e0%a6%be%e0%a6%b0-%e0%a6%ae%e0%a6%a7%e0%a7%8d%e0%a6%af-%e0%a6%a6%e0%a6%bf%e0%a7%9f%e0%a7%87-%e0%a6%a8%e0%a6%a4/\n",
            "Description Updated\n",
            "52\n",
            "Link Type\n",
            "https://www.somoynews.tv/pages/details/255616\n",
            "Description Updated\n",
            "53\n",
            "Link Type\n",
            "https://www.somoynews.tv/pages/details/255050\n"
          ],
          "name": "stdout"
        },
        {
          "output_type": "stream",
          "text": [
            "WARNING:trafilatura.utils:wrong encoding detected: utf-8\n"
          ],
          "name": "stderr"
        },
        {
          "output_type": "stream",
          "text": [
            "Description Updated\n",
            "54\n",
            "Link Type\n",
            "https://www.prothomalo.com/world/usa/%E0%A6%A8%E0%A6%BE%E0%A6%A8%E0%A6%BE-%E0%A6%A8%E0%A6%BE%E0%A6%9F%E0%A6%95%E0%A7%87%E0%A6%B0-%E0%A6%AA%E0%A6%B0-%E0%A6%B0%E0%A6%BF%E0%A6%B2%E0%A6%BF%E0%A6%AB-%E0%A6%AA%E0%A7%8D%E0%A6%AF%E0%A6%BE%E0%A6%95%E0%A7%87%E0%A6%9C-%E0%A6%AC%E0%A6%BF%E0%A6%B2%E0%A7%87-%E0%A6%9F%E0%A7%8D%E0%A6%B0%E0%A6%BE%E0%A6%AE%E0%A7%8D%E0%A6%AA%E0%A7%87%E0%A6%B0-%E0%A6%B8%E0%A6%87\n"
          ],
          "name": "stdout"
        },
        {
          "output_type": "stream",
          "text": [
            "ERROR:trafilatura.utils:not a 200 response: 404 for URL https://www.prothomalo.com/world/usa/%E0%A6%A8%E0%A6%BE%E0%A6%A8%E0%A6%BE-%E0%A6%A8%E0%A6%BE%E0%A6%9F%E0%A6%95%E0%A7%87%E0%A6%B0-%E0%A6%AA%E0%A6%B0-%E0%A6%B0%E0%A6%BF%E0%A6%B2%E0%A6%BF%E0%A6%AB-%E0%A6%AA%E0%A7%8D%E0%A6%AF%E0%A6%BE%E0%A6%95%E0%A7%87%E0%A6%9C-%E0%A6%AC%E0%A6%BF%E0%A6%B2%E0%A7%87-%E0%A6%9F%E0%A7%8D%E0%A6%B0%E0%A6%BE%E0%A6%AE%E0%A7%8D%E0%A6%AA%E0%A7%87%E0%A6%B0-%E0%A6%B8%E0%A6%87\n",
            "ERROR:trafilatura.utils:this type cannot be processed: <class 'NoneType'>\n"
          ],
          "name": "stderr"
        },
        {
          "output_type": "stream",
          "text": [
            "None\n",
            "dropped\n",
            "55\n",
            "Link Type\n",
            "https://www.somoynews.tv/pages/details/255622\n"
          ],
          "name": "stdout"
        },
        {
          "output_type": "stream",
          "text": [
            "WARNING:trafilatura.utils:wrong encoding detected: utf-8\n"
          ],
          "name": "stderr"
        },
        {
          "output_type": "stream",
          "text": [
            "Description Updated\n",
            "56\n",
            "Link Type\n",
            "https://www.prothomalo.com/bangladesh/%E0%A6%AC%E0%A6%BF%E0%A6%A6%E0%A7%87%E0%A6%B6%E0%A6%97%E0%A6%BE%E0%A6%AE%E0%A7%80%E0%A6%A6%E0%A7%87%E0%A6%B0-%E0%A6%95%E0%A7%8B%E0%A6%AD%E0%A6%BF%E0%A6%A1-%E0%A6%B8%E0%A6%A8%E0%A6%A6-%E0%A6%A6%E0%A7%87%E0%A6%AC%E0%A7%87-%E0%A6%86%E0%A6%B0%E0%A6%93-%E0%A7%A8%E0%A7%A7-%E0%A6%AA%E0%A7%8D%E0%A6%B0%E0%A6%A4%E0%A6%BF%E0%A6%B7%E0%A7%8D%E0%A6%A0%E0%A6%BE%E0%A6%A8\n",
            "Description Updated\n",
            "57\n",
            "Link Type\n",
            "https://www.somoyerkonthosor.com/2020/12/29/466119.htm\n",
            "Description Updated\n",
            "58\n",
            "Link Type\n",
            "https://www.somoyerkonthosor.com/2020/12/31/466331.htm\n",
            "Description Updated\n",
            "59\n",
            "Link Type\n",
            "https://www.lastnewsbd.com/news/286818#.X-hNMrUKlcg.facebook\n",
            "Description Updated\n",
            "60\n",
            "Link Type\n",
            "https://www.jugantor.com/country-news/378485/%E0%A6%AD%E0%A7%8B%E0%A6%9F-%E0%A6%9A%E0%A6%B2%E0%A6%BE%E0%A6%95%E0%A6%BE%E0%A6%B2%E0%A7%87%E0%A6%87-%E0%A6%AE%E0%A6%BE%E0%A6%B0%E0%A6%BE-%E0%A6%97%E0%A7%87%E0%A6%B2%E0%A7%87%E0%A6%A8-%E0%A6%AC%E0%A6%BF%E0%A6%8F%E0%A6%A8%E0%A6%AA%E0%A6%BF%E0%A6%B0-%E0%A6%AE%E0%A7%87%E0%A7%9F%E0%A6%B0-%E0%A6%AA%E0%A7%8D%E0%A6%B0%E0%A6%BE%E0%A6%B0%E0%A7%8D%E0%A6%A5%E0%A7%80-%E0%A6%86%E0%A6%AC%E0%A7%81%E0%A6%B2-%E0%A6%96%E0%A7%9F%E0%A7%87%E0%A6%B0\n",
            "Description Updated\n",
            "61\n",
            "Link Type\n",
            "https://zeenews.india.com/bengali/entertainment/director-debidas-bhattacharya-dies-due-to-covid-19_360579.html\n",
            "Description Updated\n",
            "62\n",
            "Link Type\n",
            "https://jamuna.tv/news/194516\n",
            "Description Updated\n",
            "63\n",
            "Link Type\n",
            "https://www.somoynews.tv/pages/details/255215\n"
          ],
          "name": "stdout"
        },
        {
          "output_type": "stream",
          "text": [
            "WARNING:trafilatura.utils:wrong encoding detected: utf-8\n"
          ],
          "name": "stderr"
        },
        {
          "output_type": "stream",
          "text": [
            "Description Updated\n",
            "64\n",
            "Link Type\n",
            "https://www.somoynews.tv/pages/details/255231\n"
          ],
          "name": "stdout"
        },
        {
          "output_type": "stream",
          "text": [
            "WARNING:trafilatura.utils:wrong encoding detected: utf-8\n"
          ],
          "name": "stderr"
        },
        {
          "output_type": "stream",
          "text": [
            "Description Updated\n",
            "65\n",
            "Link Type\n",
            "https://www.somoynews.tv/pages/details/255181\n"
          ],
          "name": "stdout"
        },
        {
          "output_type": "stream",
          "text": [
            "WARNING:trafilatura.utils:wrong encoding detected: utf-8\n"
          ],
          "name": "stderr"
        },
        {
          "output_type": "stream",
          "text": [
            "Description Updated\n",
            "66\n",
            "Link Type\n",
            "https://www.prothomalo.com/sports/football/%E0%A6%95%E0%A7%8B%E0%A6%AD%E0%A6%BF%E0%A6%A1%E0%A7%87%E0%A6%B0-%E0%A6%AD%E0%A7%9F-%E0%A6%8F%E0%A7%9C%E0%A6%BF%E0%A7%9F%E0%A7%87-%E0%A6%B8%E0%A6%BF%E0%A6%9F%E0%A6%BF%E0%A6%B0-%E0%A6%9C%E0%A7%9F\n",
            "Description Updated\n",
            "67\n",
            "Link Type\n",
            "https://www.somoynews.tv/pages/details/255245\n",
            "Description Updated\n",
            "68\n",
            "Link Type\n",
            "https://ntvbd.com/breaking-news?bnid=52429\n",
            "Description Updated\n",
            "69\n",
            "Link Type\n",
            "https://www.ntvbd.com/world/%E0%A6%AC%E0%A6%BF%E0%A6%B6%E0%A7%8D%E0%A6%AC%E0%A6%AC%E0%A7%8D%E0%A6%AF%E0%A6%BE%E0%A6%AA%E0%A7%80-%E0%A6%9B%E0%A7%9C%E0%A6%BF%E0%A7%9F%E0%A7%87-%E0%A6%AA%E0%A7%9C%E0%A7%87%E0%A6%9B%E0%A7%87-%E0%A6%95%E0%A6%B0%E0%A7%8B%E0%A6%A8%E0%A6%BE%E0%A6%B0-%E0%A6%A8%E0%A6%A4%E0%A7%81%E0%A6%A8-%E0%A6%A7%E0%A6%B0%E0%A6%A8-846273\n",
            "Description Updated\n",
            "70\n",
            "Link Type\n",
            "https://www.dainikshiksha.com/%E0%A6%95%E0%A6%B0%E0%A7%8B%E0%A6%A8%E0%A6%BE-%E0%A6%AA%E0%A6%B0%E0%A6%BF%E0%A6%B8%E0%A7%8D%E0%A6%A5%E0%A6%BF%E0%A6%A4%E0%A6%BF-%E0%A6%85%E0%A6%A8%E0%A7%81%E0%A6%95%E0%A7%82%E0%A6%B2%E0%A7%87-%E0%A6%A8%E0%A6%BE-%E0%A6%86%E0%A6%B8%E0%A6%B2%E0%A7%87-%E0%A6%B6%E0%A6%BF%E0%A6%95%E0%A7%8D%E0%A6%B7%E0%A6%BE%E0%A6%AA%E0%A7%8D%E0%A6%B0%E0%A6%A4%E0%A6%BF%E0%A6%B7%E0%A7%8D%E0%A6%A0%E0%A6%BE%E0%A6%A8-%E0%A6%96%E0%A7%8B%E0%A6%B2%E0%A6%BE-%E0%A6%B9%E0%A6%AC%E0%A7%87-%E0%A6%A8%E0%A6%BE-%E0%A6%AA%E0%A7%8D%E0%A6%B0%E0%A6%A7%E0%A6%BE%E0%A6%A8%E0%A6%AE%E0%A6%A8%E0%A7%8D%E0%A6%A4%E0%A7%8D%E0%A6%B0%E0%A7%80/201172/\n",
            "Description Updated\n",
            "71\n",
            "Link Type\n",
            "https://bengali.news18.com/news/international/nurse-suspended-after-having-sex-with-covid-patient-in-hospital-toilet-pb-541794.html\n",
            "Description Updated\n",
            "72\n",
            "Link Type\n",
            "https://www.ntvbd.com/bangladesh/%E0%A6%86%E0%A6%9C-%E0%A6%AC%E0%A6%87-%E0%A6%AC%E0%A6%BF%E0%A6%A4%E0%A6%B0%E0%A6%A3-%E0%A6%89%E0%A6%A6%E0%A7%8D%E0%A6%AC%E0%A7%8B%E0%A6%A7%E0%A6%A8-%E0%A6%95%E0%A6%B0%E0%A6%AC%E0%A7%87%E0%A6%A8-%E0%A6%AA%E0%A7%8D%E0%A6%B0%E0%A6%A7%E0%A6%BE%E0%A6%A8%E0%A6%AE%E0%A6%A8%E0%A7%8D%E0%A6%A4%E0%A7%8D%E0%A6%B0%E0%A7%80-848017\n",
            "Description Updated\n",
            "73\n",
            "Link Type\n",
            "https://www.prothomalo.com/bangladesh/district/%E0%A6%AD%E0%A7%8B%E0%A6%9F%E0%A7%87%E0%A6%B0-%E0%A6%AB%E0%A6%B2%E0%A6%BE%E0%A6%AB%E0%A6%B2%E0%A7%87%E0%A6%B0-%E0%A6%86%E0%A6%97%E0%A7%87%E0%A6%87-%E0%A6%8F%E0%A6%B2-%E0%A6%AE%E0%A7%87%E0%A7%9F%E0%A6%B0-%E0%A6%AA%E0%A7%8D%E0%A6%B0%E0%A6%BE%E0%A6%B0%E0%A7%8D%E0%A6%A5%E0%A7%80%E0%A6%B0-%E0%A6%AE%E0%A7%83%E0%A6%A4%E0%A7%8D%E0%A6%AF%E0%A7%81%E0%A6%B0-%E0%A6%96%E0%A6%AC%E0%A6%B0\n",
            "Description Updated\n",
            "74\n",
            "Link Type\n",
            "http://independent24.com/details/69000/%E0%A7%AA%20%E0%A6%A5%E0%A7%87%E0%A6%95%E0%A7%87%20%E0%A7%AC%20%E0%A6%AE%E0%A6%BE%E0%A6%B8%20%E0%A6%B8%E0%A7%81%E0%A6%B0%E0%A6%95%E0%A7%8D%E0%A6%B7%E0%A6%BE%20%E0%A6%A6%E0%A6%BF%E0%A6%A4%E0%A7%87%20%E0%A6%AA%E0%A6%BE%E0%A6%B0%E0%A7%87%20%E0%A6%95%E0%A6%B0%E0%A7%8B%E0%A6%A8%E0%A6%BE%20%E0%A6%9F%E0%A6%BF%E0%A6%95%E0%A6%BE:%20%E0%A6%97%E0%A6%AC%E0%A7%87%E0%A6%B7%E0%A6%95\n",
            "Description Updated\n",
            "75\n",
            "Link Type\n",
            "https://www.prothomalo.com/world/usa/%E0%A6%95%E0%A6%B0%E0%A7%8B%E0%A6%A8%E0%A6%BE-%E0%A6%B8%E0%A6%82%E0%A6%95%E0%A7%8D%E0%A6%B0%E0%A6%AE%E0%A6%A3-%E0%A7%A8-%E0%A6%95%E0%A7%8B%E0%A6%9F%E0%A6%BF-%E0%A6%9B%E0%A7%8B%E0%A6%81%E0%A7%9F%E0%A6%BE%E0%A6%B0-%E0%A6%AA%E0%A6%A5%E0%A7%87-%E0%A6%AF%E0%A7%81%E0%A6%95%E0%A7%8D%E0%A6%A4%E0%A6%B0%E0%A6%BE%E0%A6%B7%E0%A7%8D%E0%A6%9F%E0%A7%8D%E0%A6%B0\n",
            "Description Updated\n",
            "76\n",
            "Link Type\n",
            "https://bengali.abplive.com/news/states/corona-antigen-in-new-born-babies-presence-corona-antibodies-found-two-newborns-in-east-midnapur-776592\n"
          ],
          "name": "stdout"
        },
        {
          "output_type": "stream",
          "text": [
            "ERROR:trafilatura.core:not enough text None\n"
          ],
          "name": "stderr"
        },
        {
          "output_type": "stream",
          "text": [
            "Description Updated\n",
            "77\n",
            "Link Type\n",
            "https://www.somoynews.tv/pages/details/255302\n"
          ],
          "name": "stdout"
        },
        {
          "output_type": "stream",
          "text": [
            "WARNING:trafilatura.utils:wrong encoding detected: utf-8\n"
          ],
          "name": "stderr"
        },
        {
          "output_type": "stream",
          "text": [
            "Description Updated\n",
            "78\n",
            "Link Type\n",
            "https://northamerica.prothomalo.com/usa/%E0%A6%A8%E0%A6%BF%E0%A6%89%E0%A6%87%E0%A7%9F%E0%A6%B0%E0%A7%8D%E0%A6%95%E0%A7%87-%E0%A6%86%E0%A6%AC%E0%A6%BE%E0%A6%B0-%E0%A6%9C%E0%A7%87%E0%A6%81%E0%A6%95%E0%A7%87-%E0%A6%AC%E0%A6%B8%E0%A6%9B%E0%A7%87-%E0%A6%95%E0%A6%B0%E0%A7%8B%E0%A6%A8%E0%A6%BE\n",
            "Description Updated\n",
            "79\n",
            "Link Type\n",
            "https://www.ntvbd.com/world/%E0%A6%95%E0%A6%B0%E0%A7%8B%E0%A6%A8%E0%A6%BE%E0%A6%B0-%E0%A6%9F%E0%A6%BF%E0%A6%95%E0%A6%BE-%E0%A6%A8%E0%A6%BF%E0%A6%B2%E0%A7%87%E0%A6%A8-%E0%A6%95%E0%A6%AE%E0%A6%B2%E0%A6%BE-%E0%A6%B9%E0%A7%8D%E0%A6%AF%E0%A6%BE%E0%A6%B0%E0%A6%BF%E0%A6%B8-847465\n",
            "Description Updated\n",
            "80\n",
            "Link Type\n",
            "https://www.jugantor.com/international/378177/%E0%A6%9F%E0%A7%8D%E0%A6%B0%E0%A6%BE%E0%A6%AE%E0%A7%8D%E0%A6%AA%E0%A7%87%E0%A6%B0-%E0%A6%9C%E0%A6%BE%E0%A6%B2%E0%A7%87-%E0%A6%86%E0%A6%B0%E0%A6%AC-%E0%A6%AC%E0%A6%BF%E0%A6%B6%E0%A7%8D%E0%A6%AC-%E0%A6%AB%E0%A6%BF%E0%A6%B2%E0%A6%BF%E0%A6%B8%E0%A7%8D%E0%A6%A4%E0%A6%BF%E0%A6%A8%E0%A6%BF%E0%A6%A6%E0%A7%87%E0%A6%B0-%E0%A6%AA%E0%A6%BF%E0%A6%A0%E0%A7%87-%E0%A6%9B%E0%A7%81%E0%A6%B0%E0%A6%BF%E0%A6%95%E0%A6%BE%E0%A6%98%E0%A6%BE%E0%A6%A4\n",
            "Description Updated\n",
            "81\n",
            "Link Type\n",
            "https://www.banglatribune.com/columns/opinion/658954/%E0%A6%AD%E0%A7%8D%E0%A6%AF%E0%A6%BE%E0%A6%95%E0%A6%B8%E0%A6%BF%E0%A6%A8-%E0%A6%A8%E0%A6%BF%E0%A6%AF%E0%A6%BC%E0%A7%87-%E0%A6%85%E0%A6%AA%E0%A6%AA%E0%A7%8D%E0%A6%B0%E0%A6%9A%E0%A6%BE%E0%A6%B0-%E0%A6%B8%E0%A6%A4%E0%A7%8D%E0%A6%AF%E0%A6%9F%E0%A6%BE-%E0%A6%95%E0%A7%80\n",
            "Description Updated\n",
            "82\n",
            "Status Type\n",
            "Continuing\n",
            "83\n",
            "Link Type\n",
            "https://www.jagonews24.com/probash/article/633097\n",
            "Description Updated\n",
            "84\n",
            "Link Type\n",
            "https://www.somoynews.tv/pages/details/254909\n"
          ],
          "name": "stdout"
        },
        {
          "output_type": "stream",
          "text": [
            "WARNING:trafilatura.utils:wrong encoding detected: utf-8\n"
          ],
          "name": "stderr"
        },
        {
          "output_type": "stream",
          "text": [
            "Description Updated\n",
            "85\n",
            "Link Type\n",
            "https://www.unicef.org/bangladesh/%E0%A6%95%E0%A7%8B%E0%A6%AD%E0%A6%BF%E0%A6%A1-%E0%A7%A7%E0%A7%AF-%E0%A6%93-%E0%A6%9F%E0%A6%BF%E0%A6%95%E0%A6%BE-%E0%A6%A6%E0%A6%BE%E0%A6%A8-%E0%A6%85%E0%A6%AD%E0%A6%BF%E0%A6%AD%E0%A6%BE%E0%A6%AC%E0%A6%95%E0%A6%A6%E0%A7%87%E0%A6%B0-%E0%A6%AF%E0%A6%BE-%E0%A6%9C%E0%A6%BE%E0%A6%A8%E0%A6%BE-%E0%A6%AA%E0%A7%8D%E0%A6%B0%E0%A7%9F%E0%A7%8B%E0%A6%9C%E0%A6%A8\n",
            "Description Updated\n",
            "86\n",
            "Link Type\n",
            "https://mzamin.com/article.php?mzamin=256213&cat=5%2F--%E0%A6%AA%E0%A6%BF%E0%A6%9B%E0%A6%BF%E0%A7%9F%E0%A7%87-%E0%A6%AA%E0%A7%9C%E0%A6%BE%E0%A6%B0-%E0%A6%AC%E0%A6%9B%E0%A6%B0\n",
            "Description Updated\n",
            "87\n",
            "Status Type\n",
            "Continuing\n",
            "88\n",
            "Link Type\n",
            "https://www.jugantor.com/international/379143/%E0%A6%AB%E0%A6%BE%E0%A6%87%E0%A6%9C%E0%A6%BE%E0%A6%B0%E0%A7%87%E0%A6%B0-%E0%A6%9F%E0%A6%BF%E0%A6%95%E0%A6%BE-%E0%A6%A8%E0%A7%87%E0%A7%9F%E0%A6%BE%E0%A6%B0-%E0%A6%8F%E0%A6%95-%E0%A6%B8%E0%A6%AA%E0%A7%8D%E0%A6%A4%E0%A6%BE%E0%A6%B9-%E0%A6%AA%E0%A6%B0-%E0%A6%A8%E0%A6%BE%E0%A6%B0%E0%A7%8D%E0%A6%B8%E0%A7%87%E0%A6%B0-%E0%A6%95%E0%A6%B0%E0%A7%8B%E0%A6%A8%E0%A6%BE-%E0%A6%AA%E0%A6%9C%E0%A6%BF%E0%A6%9F%E0%A6%BF%E0%A6%AD\n",
            "Description Updated\n",
            "89\n",
            "Status Type\n",
            "Continuing\n",
            "90\n",
            "Link Type\n",
            "https://jamuna.tv/news/194268\n",
            "Description Updated\n",
            "91\n",
            "Link Type\n",
            "https://festalnews.com/archives/20947\n",
            "Description Updated\n",
            "92\n",
            "Link Type\n",
            "http://banglanewzz.com/archives/11028\n",
            "Description Updated\n",
            "93\n",
            "Link Type\n",
            "https://albd.org/bn/articles/news/35556/%E0%A6%B6%E0%A6%A4-%E0%A6%AA%E0%A7%8D%E0%A6%B0%E0%A6%A4%E0%A6%BF%E0%A6%95%E0%A7%82%E0%A6%B2%E0%A6%A4%E0%A6%BE%E0%A7%9F%E0%A6%93-%E0%A6%8F%E0%A6%97%E0%A6%BF%E0%A7%9F%E0%A7%87-%E0%A6%AF%E0%A6%BE%E0%A6%9A%E0%A7%8D%E0%A6%9B%E0%A7%87-%E0%A6%A6%E0%A7%87%E0%A6%B6%E0%A6%83-%E0%A6%B8%E0%A6%BE%E0%A6%AB%E0%A6%B2%E0%A7%8D%E0%A6%AF%E0%A7%87%E0%A6%B0-%E0%A6%AE%E0%A7%82%E0%A6%B2%E0%A7%87-%E0%A6%AA%E0%A7%8D%E0%A6%B0%E0%A6%A7%E0%A6%BE%E0%A6%A8%E0%A6%AE%E0%A6%A8%E0%A7%8D%E0%A6%A4%E0%A7%8D%E0%A6%B0%E0%A7%80-%E0%A6%B6%E0%A7%87%E0%A6%96-%E0%A6%B9%E0%A6%BE%E0%A6%B8%E0%A6%BF%E0%A6%A8%E0%A6%BE%E0%A6%B0-%E0%A6%AC%E0%A6%BF%E0%A6%9A%E0%A6%95%E0%A7%8D%E0%A6%B7%E0%A6%A3-%E0%A6%A8%E0%A7%87%E0%A6%A4%E0%A7%83%E0%A6%A4%E0%A7%8D%E0%A6%AC\n",
            "Description Updated\n",
            "94\n",
            "Link Type\n",
            "https://jamuna.tv/news/194260\n",
            "Description Updated\n",
            "95\n",
            "Link Type\n",
            "https://www.jugantor.com/country-news/378485/%E0%A6%AD%E0%A7%8B%E0%A6%9F-%E0%A6%9A%E0%A6%B2%E0%A6%BE%E0%A6%95%E0%A6%BE%E0%A6%B2%E0%A7%87%E0%A6%87-%E0%A6%AE%E0%A6%BE%E0%A6%B0%E0%A6%BE-%E0%A6%97%E0%A7%87%E0%A6%B2%E0%A7%87%E0%A6%A8-%E0%A6%AC%E0%A6%BF%E0%A6%8F%E0%A6%A8%E0%A6%AA%E0%A6%BF%E0%A6%B0-%E0%A6%AE%E0%A7%87%E0%A7%9F%E0%A6%B0-%E0%A6%AA%E0%A7%8D%E0%A6%B0%E0%A6%BE%E0%A6%B0%E0%A7%8D%E0%A6%A5%E0%A7%80-%E0%A6%86%E0%A6%AC%E0%A7%81%E0%A6%B2-%E0%A6%96%E0%A7%9F%E0%A7%87%E0%A6%B0\n",
            "Description Updated\n",
            "96\n",
            "Status Type\n",
            "Continuing\n",
            "97\n",
            "Link Type\n",
            "https://www.somoynews.tv/pages/details/254838\n",
            "Description Updated\n",
            "98\n",
            "Link Type\n",
            "https://www.dailynayadiganta.com/usa-canada/552477/%E0%A6%AD%E0%A7%8D%E0%A6%AF%E0%A6%BE%E0%A6%95%E0%A6%B8%E0%A6%BF%E0%A6%A8-%E0%A6%A8%E0%A7%87%E0%A7%9F%E0%A6%BE%E0%A6%B0-%E0%A7%AC-%E0%A6%A6%E0%A6%BF%E0%A6%A8-%E0%A6%AA%E0%A6%B0-%E0%A6%95%E0%A6%B0%E0%A7%8B%E0%A6%A8%E0%A6%BE-%E0%A6%AA%E0%A6%9C%E0%A6%BF%E0%A6%9F%E0%A6%BF%E0%A6%AD-%E0%A6%B9%E0%A6%B2%E0%A7%87%E0%A6%A8-%E0%A6%A8%E0%A6%BE%E0%A6%B0%E0%A7%8D%E0%A6%B8\n",
            "Description Updated\n",
            "99\n",
            "Status Type\n",
            "Continuing\n",
            "100\n",
            "Link Type\n",
            "https://www.somoynews.tv/pages/details/254897\n"
          ],
          "name": "stdout"
        },
        {
          "output_type": "stream",
          "text": [
            "WARNING:trafilatura.utils:wrong encoding detected: utf-8\n"
          ],
          "name": "stderr"
        },
        {
          "output_type": "stream",
          "text": [
            "Description Updated\n",
            "101\n",
            "Link Type\n",
            "https://indiarag.in/narendra-modi-popularity-rose-to-the-highest-among-all-global-leaders/\n",
            "Description Updated\n",
            "102\n",
            "Link Type\n",
            "https://zeenews.india.com/bengali/health/20-cases-of-uk-coronavirus-strain-as-india-steps-up-testing_361112.html\n",
            "Description Updated\n",
            "103\n",
            "Link Type\n",
            "https://bengali.abplive.com/news/veteran-singer-artist-nirmala-mishra-hospitalized-condition-serious-775543\n"
          ],
          "name": "stdout"
        },
        {
          "output_type": "stream",
          "text": [
            "ERROR:trafilatura.core:not enough text None\n"
          ],
          "name": "stderr"
        },
        {
          "output_type": "stream",
          "text": [
            "Description Updated\n",
            "104\n",
            "Link Type\n",
            "https://www.somoynews.tv/pages/details/254944\n"
          ],
          "name": "stdout"
        },
        {
          "output_type": "stream",
          "text": [
            "WARNING:trafilatura.utils:wrong encoding detected: utf-8\n"
          ],
          "name": "stderr"
        },
        {
          "output_type": "stream",
          "text": [
            "Description Updated\n",
            "105\n",
            "Link Type\n",
            "https://www.prothomalo.com/world/pakistan/%E0%A6%9A%E0%A7%80%E0%A6%A8%E0%A7%87%E0%A6%B0-%E0%A6%B8%E0%A6%BF%E0%A6%A8%E0%A7%8B%E0%A6%AB%E0%A6%BE%E0%A6%B0%E0%A7%8D%E0%A6%AE%E0%A7%87%E0%A6%B0-%E0%A6%9F%E0%A6%BF%E0%A6%95%E0%A6%BE-%E0%A6%95%E0%A6%BF%E0%A6%A8%E0%A6%AC%E0%A7%87-%E0%A6%AA%E0%A6%BE%E0%A6%95%E0%A6%BF%E0%A6%B8%E0%A7%8D%E0%A6%A4%E0%A6%BE%E0%A6%A8\n",
            "Description Updated\n",
            "106\n",
            "Status Type\n",
            "Continuing\n",
            "107\n",
            "Link Type\n",
            "https://www.somoyerkonthosor.com/2020/12/27/465955.htm\n",
            "Description Updated\n",
            "108\n",
            "Link Type\n",
            "https://www.dailyinqilab.com/article/346282/%E0%A6%95%E0%A6%B0%E0%A7%8B%E0%A6%A8%E0%A6%BE-%E0%A6%9F%E0%A7%87%E0%A6%B8%E0%A7%8D%E0%A6%9F-%E0%A6%9C%E0%A6%BE%E0%A6%B2%E0%A6%BF%E0%A7%9F%E0%A6%BE%E0%A6%A4%E0%A6%BF-%E0%A6%9C%E0%A6%BE%E0%A6%AE%E0%A6%BF%E0%A6%A8-%E0%A6%AA%E0%A6%BE%E0%A6%A8%E0%A6%A8%E0%A6%BF-%E0%A6%A1%E0%A6%BE-%E0%A6%B8%E0%A6%BE%E0%A6%AC%E0%A6%B0%E0%A6%BF%E0%A6%A8%E0%A6%BE\n",
            "Description Updated\n",
            "109\n",
            "Link Type\n",
            "https://www.somoynews.tv/pages/details/254836\n",
            "Description Updated\n",
            "110\n",
            "Link Type\n",
            "https://bbc.in/3n2Bc9i\n",
            "Description Updated\n",
            "111\n",
            "Link Type\n",
            "https://www.anandabazar.com/calcutta/coronavirus-in-kolkata-year-ending-sale-attracted-crowd-in-this-pandemic-situation-1.1250312?utm_source=facebook&utm_medium=social&utm_campaign=daily\n",
            "Description Updated\n",
            "112\n",
            "Link Type\n",
            "https://bn.bdcrictime.com/%E0%A6%AC%E0%A6%BE%E0%A6%82%E0%A6%B2%E0%A6%BE%E0%A6%A6%E0%A7%87%E0%A6%B6-%E0%A6%B8%E0%A6%AB%E0%A6%B0%E0%A7%87-%E0%A6%85%E0%A6%A8%E0%A6%BE%E0%A6%97%E0%A7%8D%E0%A6%B0%E0%A6%B9%E0%A7%80-%E0%A6%93/\n",
            "Description Updated\n",
            "113\n",
            "Link Type\n",
            "http://newzwhois.com/archives/13852\n",
            "Description Updated\n",
            "114\n",
            "Link Type\n",
            "https://www.somoynews.tv/pages/details/255084\n",
            "Description Updated\n",
            "115\n",
            "Link Type\n",
            "https://city24news.com/bn/archives/49630\n",
            "Description Updated\n",
            "116\n",
            "Status Type\n",
            "Continuing\n",
            "117\n",
            "Link Type\n",
            "https://www.prothomalo.com/world/china/%E0%A6%89%E0%A6%B9%E0%A6%BE%E0%A6%A8%E0%A7%87-%E0%A6%95%E0%A6%B0%E0%A7%8B%E0%A6%A8%E0%A6%BE-%E0%A6%A8%E0%A6%BF%E0%A7%9F%E0%A7%87-%E0%A6%B0%E0%A6%BF%E0%A6%AA%E0%A7%8B%E0%A6%B0%E0%A7%8D%E0%A6%9F-%E0%A6%95%E0%A6%B0%E0%A6%BE-%E0%A6%B8%E0%A6%BE%E0%A6%82%E0%A6%AC%E0%A6%BE%E0%A6%A6%E0%A6%BF%E0%A6%95%E0%A7%87%E0%A6%B0-%E0%A6%AC%E0%A6%BF%E0%A6%9A%E0%A6%BE%E0%A6%B0-%E0%A6%B6%E0%A7%81%E0%A6%B0%E0%A7%81\n",
            "Description Updated\n",
            "118\n",
            "Link Type\n",
            "https://bangla.bdnews24.com/lifestyle/article1843040.bdnews\n",
            "Description Updated\n",
            "119\n",
            "Status Type\n",
            "Continuing\n",
            "120\n",
            "Link Type\n",
            "https://www.jugantor.com/international/378789/%E0%A6%AC%E0%A6%A8%E0%A7%8D%E0%A6%A7%E0%A7%81%E0%A6%A4%E0%A7%8D%E0%A6%AC%E0%A7%87%E0%A6%B0-%E0%A6%B9%E0%A6%BE%E0%A6%A4-%E0%A6%AC%E0%A6%BE%E0%A7%9C%E0%A6%BF%E0%A7%9F%E0%A7%87-%E0%A6%A6%E0%A6%BF%E0%A6%B2-%E0%A6%9A%E0%A7%80%E0%A6%A8-%E0%A6%A4%E0%A7%81%E0%A6%B0%E0%A6%B8%E0%A7%8D%E0%A6%95%E0%A6%95%E0%A7%87-%E0%A6%95%E0%A6%B0%E0%A7%8B%E0%A6%A8%E0%A6%BE%E0%A6%B0-%E0%A6%9F%E0%A6%BF%E0%A6%95%E0%A6%BE-%E0%A6%A6%E0%A6%BF%E0%A6%9A%E0%A7%8D%E0%A6%9B%E0%A7%87-%E0%A6%AC%E0%A7%87%E0%A6%87%E0%A6%9C%E0%A6%BF%E0%A6%82\n",
            "Description Updated\n",
            "121\n",
            "Link Type\n",
            "https://news.studyhourbd.com/news/article-id/344\n",
            "Description Updated\n",
            "122\n",
            "Link Type\n",
            "https://www.prothomalo.com/world/europe/%E0%A6%95%E0%A6%B0%E0%A7%8B%E0%A6%A8%E0%A6%BE%E0%A6%87-%E0%A6%AC%E0%A7%9C-%E0%A6%AE%E0%A6%B9%E0%A6%BE%E0%A6%AE%E0%A6%BE%E0%A6%B0%E0%A6%BF-%E0%A6%A8%E0%A7%9F-%E0%A6%86%E0%A6%B0%E0%A6%93-%E0%A6%86%E0%A6%B8%E0%A6%A4%E0%A7%87-%E0%A6%AA%E0%A6%BE%E0%A6%B0%E0%A7%87-%E0%A6%A1%E0%A6%AC%E0%A7%8D%E0%A6%B2%E0%A6%BF%E0%A6%89%E0%A6%8F%E0%A6%87%E0%A6%9A%E0%A6%93\n",
            "Description Updated\n",
            "123\n",
            "Status Type\n",
            "Continuing\n",
            "124\n",
            "Link Type\n",
            "https://www.binodon69.com/article/142144/\n"
          ],
          "name": "stdout"
        },
        {
          "output_type": "stream",
          "text": [
            "ERROR:trafilatura.core:not enough text None\n"
          ],
          "name": "stderr"
        },
        {
          "output_type": "stream",
          "text": [
            "Description Updated\n",
            "125\n",
            "Status Type\n",
            "Continuing\n",
            "126\n",
            "Status Type\n",
            "Continuing\n",
            "127\n",
            "Link Type\n",
            "https://festalnews.com/archives/20825\n",
            "Description Updated\n",
            "128\n",
            "Link Type\n",
            "https://www.bd-pratidin.com/probash-potro/2020/12/30/602782\n",
            "Description Updated\n",
            "129\n",
            "Link Type\n",
            "https://www.unicef.org/bangladesh/%E0%A6%97%E0%A6%B2%E0%A7%8D%E0%A6%AA%E0%A6%B8%E0%A6%AE%E0%A7%82%E0%A6%B9/%E0%A6%95%E0%A7%8B%E0%A6%AD%E0%A6%BF%E0%A6%A1-%E0%A7%A7%E0%A7%AF-%E0%A6%AC%E0%A7%88%E0%A6%B6%E0%A7%8D%E0%A6%AC%E0%A6%BF%E0%A6%95-%E0%A6%AE%E0%A6%B9%E0%A6%BE%E0%A6%AE%E0%A6%BE%E0%A6%B0%E0%A6%BF%E0%A6%B0-%E0%A6%B8%E0%A6%AE%E0%A6%AF%E0%A6%BC%E0%A7%87-%E0%A6%97%E0%A6%B0%E0%A7%8D%E0%A6%AD%E0%A6%BE%E0%A6%AC%E0%A6%B8%E0%A7%8D%E0%A6%A5%E0%A6%BE%E0%A6%B0-%E0%A6%AA%E0%A6%B0%E0%A6%BF%E0%A6%9A%E0%A6%B0%E0%A7%8D%E0%A6%AF%E0%A6%BE\n",
            "Description Updated\n",
            "130\n",
            "Link Type\n",
            "https://www.ittefaq.com.bd/national/210098/%E0%A7%A9%E0%A7%A6%E0%A7%A6-%E0%A6%9F%E0%A6%BE%E0%A6%95%E0%A6%BE%E0%A7%9F-%E0%A6%AC%E0%A6%BF%E0%A6%A6%E0%A7%87%E0%A6%B6%E0%A6%97%E0%A6%BE%E0%A6%AE%E0%A7%80%E0%A6%A6%E0%A7%87%E0%A6%B0-%E0%A6%95%E0%A6%B0%E0%A7%8B%E0%A6%A8%E0%A6%BE-%E0%A6%AA%E0%A6%B0%E0%A7%80%E0%A6%95%E0%A7%8D%E0%A6%B7%E0%A6%BE\n",
            "Description Updated\n",
            "131\n",
            "Link Type\n",
            "https://www.sarakhon.com/c/10936/%E0%A6%85%E0%A6%A8%E0%A7%87%E0%A6%95%E0%A7%87-%E0%A6%B8%E0%A6%AE%E0%A6%BE%E0%A6%B2%E0%A7%8B%E0%A6%9A%E0%A6%A8%E0%A6%BE-%E0%A6%95%E0%A6%B0%E0%A6%B2%E0%A7%87%E0%A6%93-%E0%A6%AC%E0%A6%BF%E0%A6%B6%E0%A7%8D%E0%A6%AC%E0%A7%87%E0%A6%B0-%E0%A6%AA%E0%A7%8D%E0%A6%B0%E0%A6%B6%E0%A6%82%E0%A6%B8%E0%A6%BE-%E0%A6%AA%E0%A7%87%E0%A7%9F%E0%A7%87%E0%A6%9B%E0%A6%BF\n",
            "dropped as unreachable\n",
            "132\n",
            "Link Type\n",
            "https://www.prothomalo.com/entertainment/bollywood/%E0%A6%95%E0%A6%B0%E0%A7%8B%E0%A6%A8%E0%A6%BE%E0%A7%9F-%E0%A6%86%E0%A6%95%E0%A7%8D%E0%A6%B0%E0%A6%BE%E0%A6%A8%E0%A7%8D%E0%A6%A4-%E0%A6%B0%E0%A6%BE%E0%A6%AE-%E0%A6%9A%E0%A6%B0%E0%A6%A3\n",
            "Description Updated\n",
            "133\n",
            "Link Type\n",
            "https://jamuna.tv/news/194662\n",
            "Description Updated\n",
            "134\n",
            "Link Type\n",
            "http://newzwhois.com/archives/13164\n",
            "Description Updated\n",
            "135\n",
            "Link Type\n",
            "https://www.somoynews.tv/pages/details/255348\n"
          ],
          "name": "stdout"
        },
        {
          "output_type": "stream",
          "text": [
            "WARNING:trafilatura.utils:wrong encoding detected: utf-8\n"
          ],
          "name": "stderr"
        },
        {
          "output_type": "stream",
          "text": [
            "Description Updated\n",
            "136\n",
            "Link Type\n",
            "https://www.somoynews.tv/pages/details/254853\n",
            "Description Updated\n",
            "137\n",
            "Status Type\n",
            "Continuing\n",
            "138\n",
            "Link Type\n",
            "https://jamuna.tv/news/194662\n",
            "Description Updated\n",
            "139\n",
            "Status Type\n",
            "Continuing\n",
            "140\n",
            "Link Type\n",
            "https://www.ekushey-tv.com/education/news/120084#.X-rrvztp7PM.facebook\n",
            "Description Updated\n",
            "141\n",
            "Link Type\n",
            "https://www.news24bd.tv/details/48243/%E0%A6%AA%E0%A6%B0%E0%A6%BF%E0%A6%B8%E0%A7%8D%E0%A6%A5%E0%A6%BF%E0%A6%A4%E0%A6%BF-%E0%A6%AD%E0%A6%BE%E0%A6%B2-%E0%A6%B9%E0%A6%B2%E0%A7%87-%E0%A7%A7%E0%A7%AB-%E0%A6%9C%E0%A6%BE%E0%A6%A8%E0%A7%81%E0%A7%9F%E0%A6%BE%E0%A6%B0%E0%A6%BF%E0%A6%B0-%E0%A6%AA%E0%A6%B0-%E0%A6%B6%E0%A6%BF%E0%A6%95%E0%A7%8D%E0%A6%B7%E0%A6%BE%E0%A6%AA%E0%A7%8D%E0%A6%B0%E0%A6%A4%E0%A6%BF%E0%A6%B7%E0%A7%8D%E0%A6%A0%E0%A6%BE%E0%A6%A8-%E0%A6%96%E0%A7%8B%E0%A6%B2%E0%A6%BE-%E0%A6%B9%E0%A6%AC%E0%A7%87:-%E0%A6%AA%E0%A7%8D%E0%A6%B0%E0%A6%A7%E0%A6%BE%E0%A6%A8%E0%A6%AE%E0%A6%A8%E0%A7%8D%E0%A6%A4%E0%A7%8D%E0%A6%B0%E0%A7%80\n",
            "Description Updated\n",
            "142\n",
            "Link Type\n",
            "https://www.somoynews.tv/pages/details/255169\n"
          ],
          "name": "stdout"
        },
        {
          "output_type": "stream",
          "text": [
            "WARNING:trafilatura.utils:wrong encoding detected: utf-8\n"
          ],
          "name": "stderr"
        },
        {
          "output_type": "stream",
          "text": [
            "Description Updated\n",
            "143\n",
            "Status Type\n",
            "Continuing\n",
            "144\n",
            "Link Type\n",
            "https://bengali.news18.com/news/coronavirus-latest-news/new-coronavirus-strain-found-in-kolkata-dd-541617.html\n",
            "Description Updated\n",
            "145\n",
            "Link Type\n",
            "https://www.dakghar24.com/%e0%a6%ac%e0%a6%bf%e0%a6%a6%e0%a7%87%e0%a6%b6%e0%a6%af%e0%a6%be%e0%a6%a4%e0%a7%8d%e0%a6%b0%e0%a7%80%e0%a6%a6%e0%a7%87%e0%a6%b0-%e0%a6%95%e0%a7%8b%e0%a6%ad%e0%a6%bf%e0%a6%a1/\n",
            "Description Updated\n",
            "146\n",
            "Link Type\n",
            "https://www.dainikshiksha.com/%E0%A6%95%E0%A6%B0%E0%A7%8B%E0%A6%A8%E0%A6%BE-%E0%A6%85%E0%A6%A8%E0%A7%81%E0%A6%95%E0%A7%82%E0%A6%B2%E0%A7%87-%E0%A6%A8%E0%A6%BE-%E0%A6%86%E0%A6%B8%E0%A6%B2%E0%A7%87-%E0%A6%B8%E0%A7%8D%E0%A6%95%E0%A7%81%E0%A6%B2-%E0%A6%96%E0%A7%8B%E0%A6%B2%E0%A6%BE-%E0%A6%B9%E0%A6%AC%E0%A7%87-%E0%A6%A8%E0%A6%BE-%E0%A6%AA%E0%A7%8D%E0%A6%B0%E0%A6%A7%E0%A6%BE%E0%A6%A8%E0%A6%AE%E0%A6%A8%E0%A7%8D%E0%A6%A4%E0%A7%8D%E0%A6%B0%E0%A7%80/201172/\n",
            "Description Updated\n",
            "147\n",
            "Link Type\n",
            "https://jamuna.tv/news/194063\n",
            "Description Updated\n",
            "148\n",
            "Link Type\n",
            "https://www.somoynews.tv/pages/details/255233\n",
            "Description Updated\n",
            "149\n",
            "Link Type\n",
            "https://zeenews.india.com/bengali/nation/dawai-bhi-kadaai-bhi-pm-modis-mantra-for-2021-ahead-of-vaccination_361387.html\n",
            "Description Updated\n",
            "150\n",
            "Link Type\n",
            "https://www.ntvbd.com/world/%E0%A6%A8%E0%A6%A4%E0%A7%81%E0%A6%A8-%E0%A6%AC%E0%A6%9B%E0%A6%B0%E0%A6%95%E0%A7%87-%E0%A6%B8%E0%A7%8D%E0%A6%AC%E0%A6%BE%E0%A6%97%E0%A6%A4-%E0%A6%9C%E0%A6%BE%E0%A6%A8%E0%A6%BE%E0%A6%B2-%E0%A6%A8%E0%A6%BF%E0%A6%89%E0%A6%9C%E0%A6%BF%E0%A6%B2%E0%A7%8D%E0%A6%AF%E0%A6%BE%E0%A6%A8%E0%A7%8D%E0%A6%A1-%E0%A6%93-%E0%A6%85%E0%A6%B8%E0%A7%8D%E0%A6%9F%E0%A7%8D%E0%A6%B0%E0%A7%87%E0%A6%B2%E0%A6%BF%E0%A7%9F%E0%A6%BE-%E0%A6%AD%E0%A6%BF%E0%A6%A1%E0%A6%BF%E0%A6%93-848333\n",
            "Description Updated\n",
            "151\n",
            "Link Type\n",
            "https://jamuna.tv/news/194662\n",
            "Description Updated\n",
            "152\n",
            "Status Type\n",
            "Continuing\n",
            "153\n",
            "Link Type\n",
            "https://www.vairalnews.com/post11941/\n"
          ],
          "name": "stdout"
        },
        {
          "output_type": "stream",
          "text": [
            "ERROR:trafilatura.utils:not a 200 response: 404 for URL https://www.vairalnews.com/post11941/\n",
            "ERROR:trafilatura.utils:this type cannot be processed: <class 'NoneType'>\n"
          ],
          "name": "stderr"
        },
        {
          "output_type": "stream",
          "text": [
            "None\n",
            "dropped\n",
            "154\n",
            "Link Type\n",
            "http://independent24.com/details/69083/%E0%A6%95%E0%A6%B0%E0%A7%8B%E0%A6%A8%E0%A6%BE%E0%A6%AE%E0%A7%81%E0%A6%95%E0%A7%8D%E0%A6%A4%E0%A6%BF%E0%A6%B0%20%E0%A6%AA%E0%A7%8D%E0%A6%B0%E0%A6%A4%E0%A7%8D%E0%A6%AF%E0%A6%BE%E0%A6%B6%E0%A6%BE%E0%A7%9F%20%E0%A6%A8%E0%A6%A4%E0%A7%81%E0%A6%A8%20%E0%A6%AC%E0%A6%9B%E0%A6%B0%E0%A6%95%E0%A7%87%20%E0%A6%B8%E0%A7%8D%E0%A6%AC%E0%A6%BE%E0%A6%97%E0%A6%A4%20%E0%A6%9C%E0%A6%BE%E0%A6%A8%E0%A6%BE%E0%A6%B2%E0%A7%8B%20%E0%A6%AC%E0%A6%BF%E0%A6%B6%E0%A7%8D%E0%A6%AC\n",
            "Description Updated\n",
            "155\n",
            "Link Type\n",
            "https://bangla.bdnews24.com/coronavirus-pandemic/article1843007.bdnews\n",
            "Description Updated\n",
            "156\n",
            "Link Type\n",
            "https://www.anandabazar.com/sport/west-indies-tour-of-bangladesh-squad-announced-jason-holder-and-other-10-players-opted-out-dgtl-1.1251596?utm_source=facebook&utm_medium=social&utm_campaign=daily\n"
          ],
          "name": "stdout"
        },
        {
          "output_type": "stream",
          "text": [
            "ERROR:trafilatura.core:not enough text None\n"
          ],
          "name": "stderr"
        },
        {
          "output_type": "stream",
          "text": [
            "Description Updated\n",
            "157\n",
            "Link Type\n",
            "https://jamuna.tv/news/194568\n",
            "Description Updated\n",
            "158\n",
            "Link Type\n",
            "https://www.somoyerkonthosor.com/2020/12/29/466116.htm\n",
            "Description Updated\n",
            "159\n",
            "Link Type\n",
            "https://www.ittefaq.com.bd/national/210397/%E0%A6%95%E0%A6%B0%E0%A7%8B%E0%A6%A8%E0%A6%BE%E0%A7%9F-%E0%A6%86%E0%A6%B0%E0%A7%8B-%E0%A7%A8%E0%A7%A8-%E0%A6%9C%E0%A6%A8%E0%A7%87%E0%A6%B0-%E0%A6%AE%E0%A7%83%E0%A6%A4%E0%A7%8D%E0%A6%AF%E0%A7%81-%E0%A6%A8%E0%A6%A4%E0%A7%81%E0%A6%A8-%E0%A6%86%E0%A6%95%E0%A7%8D%E0%A6%B0%E0%A6%BE%E0%A6%A8%E0%A7%8D%E0%A6%A4-%E0%A7%A7%E0%A7%A8%E0%A7%A9%E0%A7%AB\n",
            "Description Updated\n",
            "160\n",
            "Link Type\n",
            "https://mzamin.com/article.php?mzamin=256682&cat=3\n",
            "Description Updated\n",
            "161\n",
            "Link Type\n",
            "https://www.somoynews.tv/pages/details/255369\n",
            "Description Updated\n",
            "162\n",
            "Link Type\n",
            "https://www.vairalnews.com/post11956/\n"
          ],
          "name": "stdout"
        },
        {
          "output_type": "stream",
          "text": [
            "ERROR:trafilatura.utils:not a 200 response: 404 for URL https://www.vairalnews.com/post11956/\n",
            "ERROR:trafilatura.utils:this type cannot be processed: <class 'NoneType'>\n"
          ],
          "name": "stderr"
        },
        {
          "output_type": "stream",
          "text": [
            "None\n",
            "dropped\n",
            "163\n",
            "Link Type\n",
            "https://www.dailyinqilab.com/article/346068/%E0%A6%9F%E0%A7%8D%E0%A6%B0%E0%A6%BE%E0%A6%AE%E0%A7%8D%E0%A6%AA%E0%A7%87%E0%A6%B0-%E0%A6%9C%E0%A6%BE%E0%A6%B2%E0%A7%87-%E0%A6%86%E0%A6%B0%E0%A6%AC-%E0%A6%AC%E0%A6%BF%E0%A6%B6%E0%A7%8D%E0%A6%AC-%E0%A6%AB%E0%A6%BF%E0%A6%B2%E0%A6%BF%E0%A6%B8%E0%A7%8D%E0%A6%A4%E0%A6%BF%E0%A6%A8%E0%A6%BF%E0%A6%A6%E0%A7%87%E0%A6%B0-%E0%A6%AA%E0%A6%BF%E0%A6%A0%E0%A7%87-%E0%A6%9B%E0%A7%81%E0%A6%B0%E0%A6%BF%E0%A6%95%E0%A6%BE%E0%A6%98%E0%A6%BE%E0%A6%A4\n",
            "Description Updated\n",
            "164\n",
            "Link Type\n",
            "https://jamuna.tv/news/194662\n",
            "Description Updated\n",
            "165\n",
            "Link Type\n",
            "https://jamuna.tv/news/194648\n",
            "Description Updated\n",
            "166\n",
            "Link Type\n",
            "https://ctgtimes.com/2020/12/city/22354/\n",
            "Description Updated\n",
            "167\n",
            "Link Type\n",
            "https://banglanews24.com/national/news/bd/832247.details\n",
            "Description Updated\n",
            "168\n",
            "Link Type\n",
            "https://www.somoynews.tv/pages/details/254772\n"
          ],
          "name": "stdout"
        },
        {
          "output_type": "stream",
          "text": [
            "WARNING:trafilatura.utils:wrong encoding detected: utf-8\n"
          ],
          "name": "stderr"
        },
        {
          "output_type": "stream",
          "text": [
            "Description Updated\n",
            "169\n",
            "Link Type\n",
            "http://zeenews.india.com/bengali/photos/burnt-smell-with-raw-fish-anxiety-about-the-new-strain-of-corona-is-raising-new-symptoms-361394\n",
            "Description Updated\n",
            "170\n",
            "Link Type\n",
            "https://www.somoynews.tv/pages/details/255573\n",
            "Description Updated\n",
            "171\n",
            "Status Type\n",
            "Continuing\n",
            "172\n",
            "Link Type\n",
            "https://zeenews.india.com/bengali/kolkata/the-whereabouts-of-the-second-victim-returned-to-the-uk-in-kolkata-the-city-is-searching-for-another-222-people_361179.html\n",
            "Description Updated\n",
            "173\n",
            "Link Type\n",
            "https://timesbd20.com/archives/16598\n"
          ],
          "name": "stdout"
        },
        {
          "output_type": "stream",
          "text": [
            "ERROR:trafilatura.utils:retries/redirects: https://timesbd20.com/archives/16598 HTTPSConnectionPool(host='timesbd20.com', port=443): Max retries exceeded with url: /archives/16598 (Caused by SSLError(SSLCertVerificationError(1, '[SSL: CERTIFICATE_VERIFY_FAILED] certificate verify failed: certificate has expired (_ssl.c:1091)')))\n",
            "ERROR:trafilatura.utils:parsing failed: Document is empty\n"
          ],
          "name": "stderr"
        },
        {
          "output_type": "stream",
          "text": [
            "HTTPSConnectionPool(host='timesbd20.com', port=443): Max retries exceeded with url: /archives/16598 (Caused by SSLError(SSLCertVerificationError(1, '[SSL: CERTIFICATE_VERIFY_FAILED] certificate verify failed: certificate has expired (_ssl.c:1091)')))\n",
            "dropped\n",
            "174\n",
            "Link Type\n",
            "http://m.kholakagojbd.com/national/67494\n",
            "Description Updated\n",
            "175\n",
            "Status Type\n",
            "Continuing\n",
            "176\n",
            "Link Type\n",
            "https://www.dainikshiksha.com/%E0%A6%9C%E0%A7%87%E0%A6%8F%E0%A6%B8%E0%A6%B8%E0%A6%BF-%E0%A6%AA%E0%A6%B0%E0%A7%80%E0%A6%95%E0%A7%8D%E0%A6%B7%E0%A6%BE%E0%A6%B0%E0%A7%8D%E0%A6%A5%E0%A7%80%E0%A6%B0%E0%A6%BE-%E0%A6%89%E0%A6%A4%E0%A7%8D%E0%A6%A4%E0%A7%80%E0%A6%B0%E0%A7%8D%E0%A6%A3-%E0%A6%B8%E0%A6%A8%E0%A6%A6-%E0%A6%AA%E0%A6%BE%E0%A6%AC%E0%A7%87-%E0%A6%9C%E0%A6%BE%E0%A6%A8%E0%A7%81%E0%A7%9F%E0%A6%BE%E0%A6%B0%E0%A6%BF%E0%A6%B0-%E0%A6%AE%E0%A6%A7%E0%A7%8D%E0%A6%AF%E0%A7%87-%E0%A6%A8%E0%A6%AE%E0%A7%8D%E0%A6%AC%E0%A6%B0%E0%A6%AA%E0%A6%A4%E0%A7%8D%E0%A6%B0-%E0%A6%A8%E0%A7%9F/201086/\n",
            "Description Updated\n",
            "177\n",
            "Link Type\n",
            "https://www.somoynews.tv/pages/details/255188\n"
          ],
          "name": "stdout"
        },
        {
          "output_type": "stream",
          "text": [
            "WARNING:trafilatura.utils:wrong encoding detected: utf-8\n"
          ],
          "name": "stderr"
        },
        {
          "output_type": "stream",
          "text": [
            "Description Updated\n",
            "178\n",
            "Link Type\n",
            "https://www.dainikshiksha.com/%E0%A7%A7%E0%A7%A8-%E0%A6%A6%E0%A6%BF%E0%A6%A8%E0%A7%87-%E0%A6%AA%E0%A6%BE%E0%A6%A0%E0%A7%8D%E0%A6%AF%E0%A6%AC%E0%A6%87-%E0%A6%AC%E0%A6%BF%E0%A6%A4%E0%A6%B0%E0%A6%A3-%E0%A6%B9%E0%A6%AC%E0%A7%87/201080/\n",
            "Description Updated\n",
            "179\n",
            "Status Type\n",
            "Continuing\n",
            "180\n",
            "Link Type\n",
            "https://www.bd24live.news/bangla/%e0%a6%a2%e0%a6%be%e0%a6%ac%e0%a6%bf-%e0%a6%b6%e0%a6%bf%e0%a6%95%e0%a7%8d%e0%a6%b7%e0%a6%be%e0%a6%b0%e0%a7%8d%e0%a6%a5%e0%a7%80%e0%a6%a6%e0%a7%87%e0%a6%b0-%e0%a6%86%e0%a6%b8%e0%a7%8d%e0%a6%a5%e0%a6%be/\n",
            "Description Updated\n",
            "181\n",
            "Link Type\n",
            "https://www.jtvbangla24.com/%E0%A6%AC%E0%A6%BE%E0%A6%82%E0%A6%B2%E0%A6%BE%E0%A6%A6%E0%A7%87%E0%A6%B6%E0%A7%87%E0%A6%87-%E0%A6%95%E0%A6%B0%E0%A7%8B%E0%A6%A8%E0%A6%BE-%E0%A6%A8%E0%A6%BF%E0%A6%B0%E0%A7%8D%E0%A6%AE%E0%A7%81%E0%A6%B2%E0%A7%87%E0%A6%B0-%E0%A6%94%E0%A6%B7%E0%A6%A7-%E0%A6%86%E0%A6%AC%E0%A6%BF%E0%A6%B8%E0%A7%8D%E0%A6%95%E0%A6%BE%E0%A6%B0-%E0%A6%AA%E0%A7%8D%E0%A6%B0%E0%A7%9F%E0%A7%8B%E0%A6%9C%E0%A6%A8-%E0%A6%B8%E0%A6%B0%E0%A6%95%E0%A6%BE%E0%A6%B0%E0%A7%80-%E0%A6%93-%E0%A6%AC%E0%A6%BF%E0%A6%B6%E0%A7%8D%E0%A6%AC-%E0%A6%B8/1798\n"
          ],
          "name": "stdout"
        },
        {
          "output_type": "stream",
          "text": [
            "ERROR:trafilatura.core:not enough text None\n"
          ],
          "name": "stderr"
        },
        {
          "output_type": "stream",
          "text": [
            "Description Updated\n",
            "182\n",
            "Link Type\n",
            "https://thedailycampus.com/education-ministry/60173/%E0%A6%AB%E0%A7%87%E0%A6%AC%E0%A7%8D%E0%A6%B0%E0%A7%81%E0%A7%9F%E0%A6%BE%E0%A6%B0%E0%A6%BF%E0%A6%A4%E0%A7%87-%E0%A6%AA%E0%A6%B0%E0%A7%80%E0%A6%95%E0%A7%8D%E0%A6%B7%E0%A6%BE%E0%A6%B0%E0%A7%8D%E0%A6%A5%E0%A7%80%E0%A6%A6%E0%A7%87%E0%A6%B0-%E0%A6%B6%E0%A6%BF%E0%A6%95%E0%A7%8D%E0%A6%B7%E0%A6%BE%E0%A6%AA%E0%A7%8D%E0%A6%B0%E0%A6%A4%E0%A6%BF%E0%A6%B7%E0%A7%8D%E0%A6%A0%E0%A6%BE%E0%A6%A8%E0%A7%87-%E0%A6%86%E0%A6%A8%E0%A6%BE%E0%A6%B0-%E0%A6%9A%E0%A6%BF%E0%A6%A8%E0%A7%8D%E0%A6%A4%E0%A6%BE\n",
            "Description Updated\n",
            "183\n",
            "Link Type\n",
            "http://independent24.com/details/69046/%E0%A6%AA%E0%A7%8B%E0%A6%B2%E0%A6%BE%E0%A6%B0%E0%A7%8D%E0%A6%A1%E2%80%93%E0%A6%B9%E0%A7%8B%E0%A6%B2%E0%A7%8D%E0%A6%A1%E0%A6%BE%E0%A6%B0%E0%A6%A6%E0%A7%87%E0%A6%B0%20%E0%A6%9B%E0%A6%BE%E0%A7%9C%E0%A6%BE%E0%A6%87%20%E0%A6%AC%E0%A6%BE%E0%A6%82%E0%A6%B2%E0%A6%BE%E0%A6%A6%E0%A7%87%E0%A6%B6%E0%A7%87%20%E0%A6%86%E0%A6%B8%E0%A6%9B%E0%A7%87%20%E0%A6%93%E0%A7%9F%E0%A7%87%E0%A6%B8%E0%A7%8D%E0%A6%9F%20%E0%A6%87%E0%A6%A8%E0%A7%8D%E0%A6%A1%E0%A6%BF%E0%A6%9C\n",
            "Description Updated\n",
            "184\n",
            "Link Type\n",
            "https://bengali.news18.com/news/coronavirus-latest-news/long-covid-patients-are-exeperiencing-the-smell-of-fish-and-burn-swd-541735.html\n",
            "Description Updated\n",
            "185\n",
            "Link Type\n",
            "https://www.ittefaq.com.bd/national/210617/%E0%A6%AE%E0%A6%BE%E0%A6%A8%E0%A6%AC%E0%A6%BF%E0%A6%95-%E0%A6%95%E0%A6%BE%E0%A6%9C%E0%A7%87-%E0%A6%AC%E0%A6%9B%E0%A6%B0-%E0%A6%AA%E0%A6%BE%E0%A6%B0-%E0%A6%86%E0%A6%87%E0%A6%A8%E0%A6%B6%E0%A7%83%E0%A6%99%E0%A7%8D%E0%A6%96%E0%A6%B2%E0%A6%BE-%E0%A6%AC%E0%A6%BE%E0%A6%B9%E0%A6%BF%E0%A6%A8%E0%A7%80%E0%A6%B0\n",
            "Description Updated\n",
            "186\n",
            "Link Type\n",
            "https://sarabangla.net/post/sb-500407/\n",
            "Description Updated\n",
            "187\n",
            "Link Type\n",
            "https://www.somoynews.tv/pages/details/255675\n"
          ],
          "name": "stdout"
        },
        {
          "output_type": "stream",
          "text": [
            "WARNING:trafilatura.utils:wrong encoding detected: utf-8\n"
          ],
          "name": "stderr"
        },
        {
          "output_type": "stream",
          "text": [
            "Description Updated\n",
            "188\n",
            "Status Type\n",
            "Continuing\n",
            "189\n",
            "Link Type\n",
            "https://www.somoynews.tv/pages/details/254984\n"
          ],
          "name": "stdout"
        },
        {
          "output_type": "stream",
          "text": [
            "WARNING:trafilatura.utils:wrong encoding detected: utf-8\n"
          ],
          "name": "stderr"
        },
        {
          "output_type": "stream",
          "text": [
            "Description Updated\n",
            "190\n",
            "Link Type\n",
            "https://bbc.in/2WPUaVI\n",
            "Description Updated\n",
            "191\n",
            "Status Type\n",
            "Continuing\n",
            "192\n",
            "Status Type\n",
            "Continuing\n",
            "193\n",
            "Link Type\n",
            "https://www.boombd.com/fake-news/false-data-gone-viral-on-facebook-regarding-coronavirus-vaccine-allotment-11139\n",
            "Description Updated\n",
            "194\n",
            "Link Type\n",
            "https://www.prothomalo.com/business/%E0%A6%8F%E0%A6%A4-%E0%A6%86%E0%A6%97%E0%A7%8D%E0%A6%B0%E0%A6%B9-%E0%A6%95%E0%A7%87%E0%A6%A8-%E0%A6%B9%E0%A6%BE%E0%A6%A4-%E0%A6%A7%E0%A7%8B%E0%A7%9F%E0%A6%BE-%E0%A6%AA%E0%A7%8D%E0%A6%B0%E0%A6%95%E0%A6%B2%E0%A7%8D%E0%A6%AA%E0%A7%87\n",
            "Description Updated\n",
            "195\n",
            "Link Type\n",
            "http://bartabazar.com/archives/249640\n",
            "Description Updated\n",
            "196\n",
            "Link Type\n",
            "https://inabd.com/archives/8693\n",
            "Description Updated\n",
            "197\n",
            "Link Type\n",
            "https://sarabangla.net/post/sb-500747/\n",
            "Description Updated\n",
            "198\n",
            "Status Type\n",
            "Continuing\n",
            "199\n",
            "Status Type\n",
            "Continuing\n",
            "200\n",
            "Link Type\n",
            "https://jamuna.tv/news/194282\n",
            "Description Updated\n",
            "201\n",
            "Link Type\n",
            "https://www.anandabazar.com/business/year-end-special-2020-new-trades-businesses-in-the-time-of-corona-dgtls-1.1248558?utm_source=facebook&utm_medium=social&utm_campaign=daily\n",
            "Description Updated\n",
            "202\n",
            "Link Type\n",
            "https://www.dailyinqilab.com/article/346764/%E0%A6%95%E0%A6%B0%E0%A7%8B%E0%A6%A8%E0%A6%BE-%E0%A6%AD%E0%A7%8D%E0%A6%AF%E0%A6%BE%E0%A6%95%E0%A6%B8%E0%A6%BF%E0%A6%A8-%E0%A6%89%E0%A7%8E%E0%A6%AA%E0%A6%BE%E0%A6%A6%E0%A6%A8%E0%A7%87-%E0%A6%AC%E0%A6%BF%E0%A6%B6%E0%A7%8D%E0%A6%AC%E0%A7%87%E0%A6%B0-%E0%A7%A7%E0%A7%A6%E0%A6%AE-%E0%A6%A6%E0%A7%87%E0%A6%B6-%E0%A6%87%E0%A6%B0%E0%A6%BE%E0%A6%A8\n",
            "Description Updated\n",
            "203\n",
            "Link Type\n",
            "https://www.channelionline.com/%e0%a6%85%e0%a6%95%e0%a7%8d%e0%a6%b8%e0%a6%ab%e0%a7%8b%e0%a6%b0%e0%a7%8d%e0%a6%a1%e0%a7%87%e0%a6%b0-%e0%a6%95%e0%a6%b0%e0%a7%8b%e0%a6%a8%e0%a6%be-%e0%a6%ad%e0%a7%8d%e0%a6%af%e0%a6%be%e0%a6%95/\n"
          ],
          "name": "stdout"
        },
        {
          "output_type": "stream",
          "text": [
            "ERROR:trafilatura.core:not enough text None\n"
          ],
          "name": "stderr"
        },
        {
          "output_type": "stream",
          "text": [
            "Description Updated\n",
            "204\n",
            "Link Type\n",
            "https://techzoom.tv/e-commerce/we/details/39447/\n",
            "Description Updated\n",
            "205\n",
            "Link Type\n",
            "https://www.bigganchinta.com/%E0%A6%95%E0%A6%B2%E0%A7%87%E0%A6%B0%E0%A6%BE-%E0%A6%A5%E0%A7%87%E0%A6%95%E0%A7%87-%E0%A6%95%E0%A6%B0%E0%A7%8B%E0%A6%A8%E0%A6%BE-%E0%A6%9C%E0%A6%BE%E0%A6%B0%E0%A7%8D%E0%A6%AE%E0%A6%BE%E0%A6%A8-%E0%A6%AC%E0%A6%BF%E0%A6%9C%E0%A7%8D%E0%A6%9E%E0%A6%BE%E0%A6%A8%E0%A7%80%E0%A6%A6%E0%A7%87%E0%A6%B0-%E0%A6%85%E0%A6%AC%E0%A6%A6%E0%A6%BE%E0%A6%A8\n",
            "Description Updated\n",
            "206\n",
            "Link Type\n",
            "https://www.banglanews24.com/national/news/bd/832408.details\n",
            "Description Updated\n",
            "207\n",
            "Status Type\n",
            "Continuing\n",
            "208\n",
            "Link Type\n",
            "https://www.channel24bd.tv/news24/article/157369/%E0%A6%95%E0%A6%B0%E0%A7%8B%E0%A6%A8%E0%A6%BE-%E0%A6%AD%E0%A7%8D%E0%A6%AF%E0%A6%BE%E0%A6%95%E0%A6%B8%E0%A6%BF%E0%A6%A8-%E0%A6%AA%E0%A6%BE%E0%A6%AC%E0%A6%BE%E0%A6%B0-%E0%A6%85%E0%A6%97%E0%A7%8D%E0%A6%B0%E0%A6%BE%E0%A6%A7%E0%A6%BF%E0%A6%95%E0%A6%BE%E0%A6%B0-%E0%A6%A4%E0%A6%BE%E0%A6%B2%E0%A6%BF%E0%A6%95%E0%A6%BE%E0%A7%9F-%E0%A6%A8%E0%A7%87%E0%A6%87-%E0%A6%B6%E0%A6%BF%E0%A6%B6%E0%A7%81%E0%A6%B0%E0%A6%BE\n",
            "Description Updated\n",
            "209\n",
            "Link Type\n",
            "https://jamuna.tv/news/194405\n",
            "Description Updated\n",
            "210\n",
            "Link Type\n",
            "https://www.somoynews.tv/pages/details/255258\n",
            "Description Updated\n",
            "211\n",
            "Link Type\n",
            "https://www.somoynews.tv/pages/details/255013\n",
            "Description Updated\n",
            "212\n",
            "Status Type\n",
            "Continuing\n",
            "213\n",
            "Link Type\n",
            "https://www.ittefaq.com.bd/education/210139/%E0%A6%9C%E0%A7%81%E0%A6%A8%E0%A7%87-%E0%A6%B9%E0%A6%A4%E0%A7%87-%E0%A6%AA%E0%A6%BE%E0%A6%B0%E0%A7%87-%E0%A6%8F%E0%A6%B8%E0%A6%8F%E0%A6%B8%E0%A6%B8%E0%A6%BF-%E0%A6%9C%E0%A7%81%E0%A6%B2%E0%A6%BE%E0%A6%87-%E0%A6%86%E0%A6%97%E0%A6%B8%E0%A7%8D%E0%A6%9F%E0%A7%87-%E0%A6%8F%E0%A6%87%E0%A6%9A%E0%A6%8F%E0%A6%B8%E0%A6%B8%E0%A6%BF%C2%A0\n",
            "Description Updated\n",
            "214\n",
            "Link Type\n",
            "https://bangla.bdnews24.com/world/article1841740.bdnews\n",
            "Description Updated\n",
            "215\n",
            "Link Type\n",
            "https://www.thedailystar.net/bangla/%E0%A6%B6%E0%A7%80%E0%A6%B0%E0%A7%8D%E0%A6%B7-%E0%A6%96%E0%A6%AC%E0%A6%B0/%E0%A6%95%E0%A6%B0%E0%A7%8B%E0%A6%A8%E0%A6%BE-%E0%A6%AA%E0%A6%B0%E0%A6%BF%E0%A6%B8%E0%A7%8D%E0%A6%A5%E0%A6%BF%E0%A6%A4%E0%A6%BF%E0%A6%B0-%E0%A6%89%E0%A6%A8%E0%A7%8D%E0%A6%A8%E0%A6%A4%E0%A6%BF-%E0%A6%A8%E0%A6%BE-%E0%A6%B9%E0%A6%B2%E0%A7%87-%E0%A6%B6%E0%A6%BF%E0%A6%95%E0%A7%8D%E0%A6%B7%E0%A6%BE%E0%A6%AA%E0%A7%8D%E0%A6%B0%E0%A6%A4%E0%A6%BF%E0%A6%B7%E0%A7%8D%E0%A6%A0%E0%A6%BE%E0%A6%A8-%E0%A6%96%E0%A7%81%E0%A6%B2%E0%A6%AC%E0%A7%87-%E0%A6%A8%E0%A6%BE-%E0%A6%AA%E0%A7%8D%E0%A6%B0%E0%A6%A7%E0%A6%BE%E0%A6%A8%E0%A6%AE%E0%A6%A8%E0%A7%8D%E0%A6%A4%E0%A7%8D%E0%A6%B0%E0%A7%80-195745\n",
            "Description Updated\n",
            "216\n",
            "Link Type\n",
            "https://www.bd-pratidin.com/national/2020/12/28/602046\n",
            "Description Updated\n",
            "217\n",
            "Link Type\n",
            "https://jamuna.tv/news/194084\n",
            "Description Updated\n",
            "218\n",
            "Status Type\n",
            "Continuing\n",
            "219\n",
            "Link Type\n",
            "https://www.somoynews.tv/pages/details/255198\n"
          ],
          "name": "stdout"
        },
        {
          "output_type": "stream",
          "text": [
            "ERROR:trafilatura.utils:retries/redirects: https://shikshabarta.com/%e0%a7%a7-%e0%a6%9c%e0%a6%be%e0%a6%a8%e0%a7%81%e0%a7%9f%e0%a6%be%e0%a6%b0%e0%a6%bf-%e0%a6%a5%e0%a7%87%e0%a6%95%e0%a7%87-%e0%a7%a7%e0%a7%a8-%e0%a6%9c%e0%a6%be%e0%a6%a8%e0%a7%81%e0%a7%9f/ HTTPSConnectionPool(host='shikshabarta.com', port=443): Max retries exceeded with url: /%E0%A7%A7-%E0%A6%9C%E0%A6%BE%E0%A6%A8%E0%A7%81%E0%A7%9F%E0%A6%BE%E0%A6%B0%E0%A6%BF-%E0%A6%A5%E0%A7%87%E0%A6%95%E0%A7%87-%E0%A7%A7%E0%A7%A8-%E0%A6%9C%E0%A6%BE%E0%A6%A8%E0%A7%81%E0%A7%9F/ (Caused by ResponseError('too many 503 error responses'))\n",
            "ERROR:trafilatura.utils:parsing failed: Document is empty\n"
          ],
          "name": "stderr"
        },
        {
          "output_type": "stream",
          "text": [
            "Description Updated\n",
            "220\n",
            "Link Type\n",
            "https://shikshabarta.com/%e0%a7%a7-%e0%a6%9c%e0%a6%be%e0%a6%a8%e0%a7%81%e0%a7%9f%e0%a6%be%e0%a6%b0%e0%a6%bf-%e0%a6%a5%e0%a7%87%e0%a6%95%e0%a7%87-%e0%a7%a7%e0%a7%a8-%e0%a6%9c%e0%a6%be%e0%a6%a8%e0%a7%81%e0%a7%9f/\n",
            "None\n",
            "dropped\n",
            "221\n",
            "Link Type\n",
            "https://timesbd20.com/archives/17042\n"
          ],
          "name": "stdout"
        },
        {
          "output_type": "stream",
          "text": [
            "ERROR:trafilatura.utils:retries/redirects: https://timesbd20.com/archives/17042 HTTPSConnectionPool(host='timesbd20.com', port=443): Max retries exceeded with url: /archives/17042 (Caused by SSLError(SSLCertVerificationError(1, '[SSL: CERTIFICATE_VERIFY_FAILED] certificate verify failed: certificate has expired (_ssl.c:1091)')))\n",
            "ERROR:trafilatura.utils:parsing failed: Document is empty\n"
          ],
          "name": "stderr"
        },
        {
          "output_type": "stream",
          "text": [
            "HTTPSConnectionPool(host='timesbd20.com', port=443): Max retries exceeded with url: /archives/17042 (Caused by SSLError(SSLCertVerificationError(1, '[SSL: CERTIFICATE_VERIFY_FAILED] certificate verify failed: certificate has expired (_ssl.c:1091)')))\n",
            "dropped\n",
            "222\n",
            "Link Type\n",
            "https://mzamin.com/article.php?mzamin=256682\n",
            "Description Updated\n",
            "223\n",
            "Link Type\n",
            "https://www.dailyinqilab.com/article/346275/%E0%A6%87%E0%A6%A8%E0%A7%8D%E0%A6%A6%E0%A7%8B%E0%A6%A8%E0%A7%87%E0%A6%B6%E0%A6%BF%E0%A7%9F%E0%A6%BE-%E0%A6%95%E0%A6%B0%E0%A7%8B%E0%A6%A8%E0%A6%BE-%E0%A6%A8%E0%A6%BF%E0%A6%B0%E0%A7%8D%E0%A6%A3%E0%A7%9F%E0%A7%87%E0%A6%B0-%E0%A6%B8%E0%A6%B9%E0%A6%9C-%E0%A6%AF%E0%A6%A8%E0%A7%8D%E0%A6%A4%E0%A7%8D%E0%A6%B0-%E0%A6%86%E0%A6%AC%E0%A6%BF%E0%A6%B7%E0%A7%8D%E0%A6%95%E0%A6%BE%E0%A6%B0-%E0%A6%95%E0%A6%B0%E0%A6%B2%E0%A7%8B\n",
            "Description Updated\n",
            "224\n",
            "Link Type\n",
            "https://www.somoynews.tv/pages/details/255198\n",
            "Description Updated\n",
            "225\n",
            "Link Type\n",
            "https://www.dailyinqilab.com/article/346277/%E0%A6%95%E0%A6%B0%E0%A7%8B%E0%A6%A8%E0%A6%BE-%E0%A6%B6%E0%A7%87%E0%A6%B7-%E0%A6%A8%E0%A7%9F-%E0%A6%86%E0%A6%B0%E0%A6%93-%E0%A6%AC%E0%A7%9C-%E0%A6%AE%E0%A6%B9%E0%A6%BE%E0%A6%AE%E0%A6%BE%E0%A6%B0%E0%A6%BF-%E0%A6%86%E0%A6%B8%E0%A6%A4%E0%A7%87-%E0%A6%AA%E0%A6%BE%E0%A6%B0%E0%A7%87-%E0%A6%A1%E0%A6%AC%E0%A7%8D%E0%A6%B2%E0%A6%BF%E0%A6%89%E0%A6%8F%E0%A6%87%E0%A6%9A%E0%A6%93\n",
            "Description Updated\n",
            "226\n",
            "Link Type\n",
            "https://www.somoyerkonthosor.com/2020/12/31/466342.htm\n",
            "Description Updated\n",
            "227\n",
            "Link Type\n",
            "https://educationsinbd.com/bn/campus/13331/\n",
            "Description Updated\n",
            "228\n",
            "Link Type\n",
            "https://www.somoyerkonthosor.com/2020/12/27/465900.htm\n",
            "Description Updated\n",
            "229\n",
            "Link Type\n",
            "https://www.prothomalo.com/business/%E0%A6%B8%E0%A7%81%E0%A6%A8%E0%A7%8D%E0%A6%A6%E0%A6%B0-%E0%A6%AA%E0%A7%8B%E0%A6%B6%E0%A6%BE%E0%A6%95%E0%A7%87%E0%A6%B0-%E0%A6%85%E0%A6%B8%E0%A7%81%E0%A6%A8%E0%A7%8D%E0%A6%A6%E0%A6%B0-%E0%A6%9A%E0%A7%87%E0%A6%B9%E0%A6%BE%E0%A6%B0%E0%A6%BE-%E0%A6%A6%E0%A7%87%E0%A6%96%E0%A6%BE%E0%A6%B2-%E0%A6%95%E0%A6%B0%E0%A7%8B%E0%A6%A8%E0%A6%BE\n",
            "Description Updated\n",
            "230\n",
            "Link Type\n",
            "http://independent24.com/details/69008/%E0%A6%86%E0%A6%B0%E0%A7%8B%20%E0%A7%A8%E0%A7%AA%20%E0%A6%AE%E0%A7%83%E0%A6%A4%E0%A7%8D%E0%A6%AF%E0%A7%81:%20%E0%A6%B6%E0%A6%A8%E0%A6%BE%E0%A6%95%E0%A7%8D%E0%A6%A4%20%E0%A7%A7%E0%A7%A6%E0%A7%AA%E0%A7%AF\n",
            "Description Updated\n",
            "231\n",
            "Link Type\n",
            "http://newzimmo.com/archives/3295\n",
            "Description Updated\n",
            "232\n",
            "Link Type\n",
            "https://albd.org/bn/articles/news/35575/%E0%A6%95%E0%A7%8B%E0%A6%AD%E0%A6%BF%E0%A6%A1-%E0%A7%A7%E0%A7%AF-%E0%A6%8F%E0%A6%B0-%E0%A6%AC%E0%A6%BF%E0%A6%AA%E0%A6%B0%E0%A7%8D%E0%A6%AF%E0%A7%9F-%E0%A6%AE%E0%A7%8B%E0%A6%95%E0%A6%BE%E0%A6%AC%E0%A6%BF%E0%A6%B2%E0%A6%BE%E0%A7%9F-%E0%A6%B6%E0%A7%87%E0%A6%96-%E0%A6%B9%E0%A6%BE%E0%A6%B8%E0%A6%BF%E0%A6%A8%E0%A6%BE%E0%A6%B0-%E0%A6%A8%E0%A7%87%E0%A6%A4%E0%A7%83%E0%A6%A4%E0%A7%8D%E0%A6%AC%E0%A7%87%E0%A6%B0-%E0%A6%AA%E0%A7%8D%E0%A6%B0%E0%A6%AD%E0%A6%BE%E0%A6%AC\n",
            "Description Updated\n",
            "233\n",
            "Link Type\n",
            "https://jamuna.tv/news/194662\n",
            "Description Updated\n",
            "234\n",
            "Link Type\n",
            "https://www.jeneniin.com/2020/12/29/%E0%A6%87%E0%A6%B8%E0%A6%B2%E0%A6%BE%E0%A6%AE-%E0%A6%A7%E0%A6%B0%E0%A7%8D%E0%A6%AE-%E0%A6%97%E0%A7%8D%E0%A6%B0%E0%A6%B9%E0%A6%A8-%E0%A6%95%E0%A6%B0%E0%A6%B2%E0%A7%87%E0%A6%A8-%E0%A6%85%E0%A6%AD/\n",
            "Description Updated\n",
            "235\n",
            "Link Type\n",
            "https://bd.dailynewslive24.com/2020/12/%e0%a6%b9%e0%a6%9c%e0%a7%87-%e0%a6%97%e0%a6%bf%e0%a7%9f%e0%a7%87-%e0%a6%8f%e0%a6%96%e0%a6%a8-%e0%a6%aa%e0%a6%b0%e0%a7%8d%e0%a6%af%e0%a6%a8%e0%a7%8d%e0%a6%a4-%e0%a6%95%e0%a7%87%e0%a6%89-%e0%a6%95/\n",
            "Description Updated\n",
            "236\n",
            "Link Type\n",
            "https://www.somoynews.tv/pages/details/255345\n"
          ],
          "name": "stdout"
        },
        {
          "output_type": "stream",
          "text": [
            "WARNING:trafilatura.utils:wrong encoding detected: utf-8\n"
          ],
          "name": "stderr"
        },
        {
          "output_type": "stream",
          "text": [
            "Description Updated\n",
            "237\n",
            "Status Type\n",
            "Continuing\n",
            "238\n",
            "Link Type\n",
            "https://www.channel24bd.tv/news24/article/157290/%E0%A6%B2%E0%A6%A8%E0%A7%8D%E0%A6%A1%E0%A6%A8-%E0%A6%AB%E0%A7%87%E0%A6%B0%E0%A6%A4%E0%A6%B0%E0%A6%BE-%E0%A6%95%E0%A6%B0%E0%A7%8B%E0%A6%A8%E0%A6%BE-%E0%A6%A8%E0%A7%87%E0%A6%97%E0%A7%87%E0%A6%9F%E0%A6%BF%E0%A6%AD-%E0%A6%B9%E0%A6%B2%E0%A7%87%E0%A6%93-%E0%A6%AA%E0%A7%8D%E0%A6%B0%E0%A6%BE%E0%A6%A4%E0%A6%BF%E0%A6%B7%E0%A7%8D%E0%A6%A0%E0%A6%BE%E0%A6%A8%E0%A6%BF%E0%A6%95-%E0%A6%95%E0%A7%8B%E0%A7%9F%E0%A6%BE%E0%A6%B0%E0%A7%87%E0%A6%A8%E0%A7%8D%E0%A6%9F%E0%A6%BF%E0%A6%A8%E0%A7%87-%E0%A6%A5%E0%A6%BE%E0%A6%95%E0%A6%A4%E0%A7%87-%E0%A6%B9%E0%A6%AC%E0%A7%87\n",
            "Description Updated\n",
            "239\n",
            "Link Type\n",
            "https://news.viewer.com.bd/2020/12/28/%e0%a6%b8%e0%a7%8c%e0%a6%a6%e0%a6%bf-%e0%a6%aa%e0%a7%8d%e0%a6%b0%e0%a6%ac%e0%a6%be%e0%a6%b8%e0%a7%80%e0%a6%a6%e0%a7%87%e0%a6%b0-%e0%a6%b8%e0%a7%8c%e0%a6%a6%e0%a6%bf-%e0%a6%a4%e0%a7%8d%e0%a6%af/\n",
            "Description Updated\n",
            "240\n",
            "Link Type\n",
            "https://www.jeneniin.com/2020/12/27/%E0%A6%B9%E0%A6%9C%E0%A7%87-%E0%A6%97%E0%A6%BF%E0%A7%9F%E0%A7%87-%E0%A6%8F%E0%A6%96%E0%A6%A8-%E0%A6%AA%E0%A6%B0%E0%A7%8D%E0%A6%AF%E0%A6%A8%E0%A7%8D%E0%A6%A4-%E0%A6%95%E0%A7%87%E0%A6%89-%E0%A6%95/\n",
            "Description Updated\n",
            "241\n",
            "Link Type\n",
            "https://jamuna.tv/news/194339\n",
            "Description Updated\n",
            "242\n",
            "Link Type\n",
            "https://www.ittefaq.com.bd/national/210098/%E0%A7%A9%E0%A7%A6%E0%A7%A6-%E0%A6%9F%E0%A6%BE%E0%A6%95%E0%A6%BE%E0%A7%9F-%E0%A6%AC%E0%A6%BF%E0%A6%A6%E0%A7%87%E0%A6%B6%E0%A6%97%E0%A6%BE%E0%A6%AE%E0%A7%80%E0%A6%A6%E0%A7%87%E0%A6%B0-%E0%A6%95%E0%A6%B0%E0%A7%8B%E0%A6%A8%E0%A6%BE-%E0%A6%AA%E0%A6%B0%E0%A7%80%E0%A6%95%E0%A7%8D%E0%A6%B7%E0%A6%BE\n",
            "Description Updated\n",
            "243\n",
            "Link Type\n",
            "https://www.ittefaq.com.bd/worldnews/209668/%E0%A6%95%E0%A6%B0%E0%A7%8B%E0%A6%A8%E0%A6%BE%E0%A6%87-%E0%A6%B6%E0%A7%87%E0%A6%B7-%E0%A6%AE%E0%A6%B9%E0%A6%BE%E0%A6%AE%E0%A6%BE%E0%A6%B0%E0%A6%BF-%E0%A6%A8%E0%A7%9F--%E0%A6%AC%E0%A6%BF%E0%A6%B6%E0%A7%8D%E0%A6%AC-%E0%A6%B8%E0%A7%8D%E0%A6%AC%E0%A6%BE%E0%A6%B8%E0%A7%8D%E0%A6%A5%E0%A7%8D%E0%A6%AF-%E0%A6%B8%E0%A6%82%E0%A6%B8%E0%A7%8D%E0%A6%A5%E0%A6%BE%C2%A0\n",
            "Description Updated\n",
            "244\n",
            "Link Type\n",
            "https://www.ittefaq.com.bd/worldnews/209693/%E0%A6%93%E0%A6%AE%E0%A6%B0%E0%A6%BE%E0%A6%B9-%E0%A6%AA%E0%A6%BE%E0%A6%B2%E0%A6%A8%E0%A7%87-%E0%A6%97%E0%A6%BF%E0%A7%9F%E0%A7%87-%E0%A6%8F%E0%A6%96%E0%A6%A8%E0%A7%8B-%E0%A6%95%E0%A7%87%E0%A6%89-%E0%A6%95%E0%A6%B0%E0%A7%8B%E0%A6%A8%E0%A6%BE%E0%A7%9F-%E0%A6%86%E0%A6%95%E0%A7%8D%E0%A6%B0%E0%A6%BE%E0%A6%A8%E0%A7%8D%E0%A6%A4-%E0%A6%B9%E0%A6%A8%E0%A6%A8%E0%A6%BF\n",
            "Description Updated\n",
            "245\n",
            "Link Type\n",
            "https://www.somoynews.tv/pages/details/254905\n",
            "Description Updated\n",
            "246\n",
            "Link Type\n",
            "https://www.ittefaq.com.bd/worldnews/210481/%E0%A6%9F%E0%A6%BF%E0%A6%95%E0%A6%BE-%E0%A6%A8%E0%A7%87%E0%A6%93%E0%A7%9F%E0%A6%BE%E0%A6%B0-%E0%A7%AE-%E0%A6%A6%E0%A6%BF%E0%A6%A8-%E0%A6%AA%E0%A6%B0%E0%A6%87-%E0%A6%95%E0%A6%B0%E0%A7%8B%E0%A6%A8%E0%A6%BE-%E0%A6%86%E0%A6%95%E0%A7%8D%E0%A6%B0%E0%A6%BE%E0%A6%A8%E0%A7%8D%E0%A6%A4\n",
            "Description Updated\n",
            "247\n",
            "Link Type\n",
            "https://ctgtimes.com/2020/12/international/22413/\n",
            "Description Updated\n",
            "248\n",
            "Link Type\n",
            "https://bengali.news18.com/news/coronavirus-latest-news/woman-returns-from-uk-to-andhra-pradesh-test-coronavirus-variant-positive-pbd-541604.html\n",
            "Description Updated\n",
            "249\n",
            "Link Type\n",
            "https://jamuna.tv/news/194583\n",
            "Description Updated\n",
            "250\n",
            "Status Type\n",
            "Continuing\n",
            "251\n",
            "Link Type\n",
            "https://www.anandabazar.com/entertainment/veteran-singer-nirmala-mishra-is-in-critical-condition-dgtl-1.1249709?utm_source=facebook&utm_medium=social&utm_campaign=AnandaPlus\n",
            "Description Updated\n",
            "252\n",
            "Link Type\n",
            "http://ournews25.com/post/9796\n",
            "Description Updated\n",
            "253\n",
            "Link Type\n",
            "https://www.channel24bd.tv/desh24/article/157258/%E0%A6%AA%E0%A7%8D%E0%A6%B0%E0%A6%A5%E0%A6%AE-%E0%A6%A7%E0%A6%BE%E0%A6%AA%E0%A7%87-%E0%A7%A8%E0%A7%AA%E0%A6%9F%E0%A6%BF-%E0%A6%AA%E0%A7%8C%E0%A6%B0%E0%A6%B8%E0%A6%AD%E0%A6%BE%E0%A7%9F-%E0%A6%AD%E0%A7%8B%E0%A6%9F-%E0%A6%95%E0%A6%BE%E0%A6%B2\n",
            "Description Updated\n",
            "254\n",
            "Link Type\n",
            "https://www.somoynews.tv/pages/details/255027\n"
          ],
          "name": "stdout"
        },
        {
          "output_type": "stream",
          "text": [
            "WARNING:trafilatura.utils:wrong encoding detected: utf-8\n"
          ],
          "name": "stderr"
        },
        {
          "output_type": "stream",
          "text": [
            "Description Updated\n",
            "255\n",
            "Link Type\n",
            "http://cplusbd.net/%e0%a6%aa%e0%a7%8d%e0%a6%b0%e0%a6%ac%e0%a6%be%e0%a6%b8%e0%a7%80%e0%a6%b0%e0%a6%be-%e0%a6%9a%e0%a6%9f%e0%a7%8d%e0%a6%9f%e0%a6%97%e0%a7%8d%e0%a6%b0%e0%a6%be%e0%a6%ae%e0%a7%87-%e0%a6%8f%e0%a6%b2%e0%a7%87/\n",
            "Description Updated\n",
            "256\n",
            "Link Type\n",
            "https://www.ittefaq.com.bd/worldnews/209648/%E0%A6%AC%E0%A6%BF%E0%A6%A6%E0%A7%87%E0%A6%B6%E0%A6%BF%E0%A6%A6%E0%A7%87%E0%A6%B0-%E0%A6%AA%E0%A7%8D%E0%A6%B0%E0%A6%AC%E0%A7%87%E0%A6%B6%E0%A7%87-%E0%A6%9C%E0%A6%BE%E0%A6%AA%E0%A6%BE%E0%A6%A8%E0%A7%87%E0%A6%B0-%E0%A6%A8%E0%A6%BF%E0%A6%B7%E0%A7%87%E0%A6%A7%E0%A6%BE%E0%A6%9C%E0%A7%8D%E0%A6%9E%E0%A6%BE\n",
            "Description Updated\n",
            "257\n",
            "Link Type\n",
            "https://www.ittefaq.com.bd/worldnews/209896/%E0%A6%AB%E0%A7%87%E0%A6%B0-%E0%A6%AA%E0%A7%8D%E0%A6%B0%E0%A6%AC%E0%A7%87%E0%A6%B6-%E0%A6%A8%E0%A6%BF%E0%A6%B7%E0%A7%87%E0%A6%A7%E0%A6%BE%E0%A6%9C%E0%A7%8D%E0%A6%9E%E0%A6%BE-%E0%A6%AC%E0%A6%BE%E0%A7%9C%E0%A6%BE%E0%A6%B2-%E0%A6%B8%E0%A7%8C%E0%A6%A6%E0%A6%BF%C2%A0\n",
            "Description Updated\n",
            "258\n",
            "Link Type\n",
            "https://www.somoynews.tv/pages/details/255057\n",
            "Description Updated\n",
            "259\n",
            "Link Type\n",
            "https://www.jugantor.com/international/378101/%E0%A6%95%E0%A6%B0%E0%A7%8B%E0%A6%A8%E0%A6%BE%E0%A6%B0-%E0%A6%AA%E0%A7%8D%E0%A6%B0%E0%A6%A3%E0%A7%8B%E0%A6%A6%E0%A6%A8%E0%A6%BE-%E0%A6%AC%E0%A6%BF%E0%A6%B2%E0%A7%87-%E0%A6%B8%E0%A6%87-%E0%A6%A8%E0%A6%BE-%E0%A6%95%E0%A6%B0%E0%A6%BE%E0%A7%9F-%E0%A6%9F%E0%A7%8D%E0%A6%B0%E0%A6%BE%E0%A6%AE%E0%A7%8D%E0%A6%AA%E0%A6%95%E0%A7%87-%E0%A6%B9%E0%A7%81%E0%A6%B6%E0%A6%BF%E0%A7%9F%E0%A6%BE%E0%A6%B0%E0%A6%BF-%E0%A6%AC%E0%A6%BE%E0%A6%87%E0%A6%A1%E0%A7%87%E0%A6%A8%E0%A7%87%E0%A6%B0\n",
            "Description Updated\n",
            "260\n",
            "Link Type\n",
            "https://www.somoynews.tv/pages/details/255546\n"
          ],
          "name": "stdout"
        },
        {
          "output_type": "stream",
          "text": [
            "WARNING:trafilatura.utils:wrong encoding detected: utf-8\n"
          ],
          "name": "stderr"
        },
        {
          "output_type": "stream",
          "text": [
            "Description Updated\n",
            "261\n",
            "Status Type\n",
            "Continuing\n",
            "262\n",
            "Link Type\n",
            "https://www.kalerkantho.com/online/world/2020/12/30/990529\n",
            "Description Updated\n",
            "263\n",
            "Link Type\n",
            "https://banglanews24.com/daily-chittagong/news/bd/831735.details\n",
            "Description Updated\n",
            "264\n",
            "Link Type\n",
            "https://www.bharatbarta.com/puja-devi-who-is-the-first-female-bus-driver-in-jk/\n",
            "Description Updated\n",
            "265\n",
            "Link Type\n",
            "https://agamirbarta.com/archives/11005\n",
            "Description Updated\n",
            "266\n",
            "Status Type\n",
            "Continuing\n",
            "267\n",
            "Status Type\n",
            "Continuing\n",
            "268\n",
            "Link Type\n",
            "https://news.viewer.com.bd/2020/12/28/%e0%a6%b8%e0%a7%8c%e0%a6%a6%e0%a6%bf%e0%a6%a4%e0%a7%87-%e0%a6%86%e0%a6%b2%e0%a6%b9%e0%a6%be%e0%a6%ae%e0%a6%a6%e0%a7%81%e0%a6%b2%e0%a6%bf%e0%a6%b2%e0%a7%8d%e0%a6%b2%e0%a6%be%e0%a6%b9-%e0%a6%95%e0%a6%b0/\n",
            "Description Updated\n",
            "269\n",
            "Status Type\n",
            "Continuing\n",
            "270\n",
            "Link Type\n",
            "https://www.banglanews24.com/health/news/bd/832341.details\n",
            "Description Updated\n",
            "271\n",
            "Link Type\n",
            "https://www.jugantor.com/covid-19/378532/%E0%A6%95%E0%A6%B0%E0%A7%8B%E0%A6%A8%E0%A6%BE-%E0%A6%86%E0%A6%95%E0%A7%8D%E0%A6%B0%E0%A6%BE%E0%A6%A8%E0%A7%8D%E0%A6%A4-%E0%A6%AE%E0%A6%BE%E0%A6%9C%E0%A7%87%E0%A6%A6%E0%A6%BE%E0%A6%B0-%E0%A6%B8%E0%A7%81%E0%A6%9A%E0%A6%BF%E0%A6%95%E0%A6%BF%E0%A7%8E%E0%A6%B8%E0%A6%BE%E0%A6%B0-%E0%A6%A8%E0%A6%BF%E0%A6%B0%E0%A7%8D%E0%A6%A6%E0%A7%87%E0%A6%B6-%E0%A6%A6%E0%A6%BF%E0%A6%B2%E0%A7%87%E0%A6%A8-%E0%A6%AA%E0%A7%8D%E0%A6%B0%E0%A6%A7%E0%A6%BE%E0%A6%A8%E0%A6%AE%E0%A6%A8%E0%A7%8D%E0%A6%A4%E0%A7%8D%E0%A6%B0%E0%A7%80\n",
            "Description Updated\n",
            "272\n",
            "Link Type\n",
            "https://zeenews.india.com/bengali/sports/holder-pollard-pooran-among-high-profile-names-to-miss-bangladesh-tour_361156.html\n",
            "Description Updated\n",
            "273\n",
            "Status Type\n",
            "Continuing\n",
            "274\n",
            "Status Type\n",
            "Continuing\n",
            "275\n",
            "Link Type\n",
            "https://www.somoynews.tv/pages/details/254896\n"
          ],
          "name": "stdout"
        },
        {
          "output_type": "stream",
          "text": [
            "WARNING:trafilatura.utils:wrong encoding detected: utf-8\n"
          ],
          "name": "stderr"
        },
        {
          "output_type": "stream",
          "text": [
            "Description Updated\n",
            "276\n",
            "Link Type\n",
            "https://www.anandabazar.com/international/year-end-special-2020-icons-who-lost-lives-after-being-infected-with-covid-19-dgtls-1.1249124?utm_source=facebook&utm_medium=social&utm_campaign=daily\n",
            "Description Updated\n",
            "277\n",
            "Link Type\n",
            "https://bangla.bdnews24.com/world/article1841754.bdnews\n",
            "Description Updated\n",
            "278\n",
            "Link Type\n",
            "https://www.dainikshiksha.com/%E0%A6%AC%E0%A6%87-%E0%A6%AC%E0%A6%BF%E0%A6%A4%E0%A6%B0%E0%A6%A3-%E0%A6%95%E0%A6%BE%E0%A6%B0%E0%A7%8D%E0%A6%AF%E0%A6%95%E0%A7%8D%E0%A6%B0%E0%A6%AE%E0%A7%87%E0%A6%B0-%E0%A6%89%E0%A6%A6%E0%A7%8D%E0%A6%AC%E0%A7%8B%E0%A6%A7%E0%A6%A8-%E0%A6%86%E0%A6%9C/201166/\n",
            "Description Updated\n",
            "279\n",
            "Link Type\n",
            "https://banglanews24.com/national/news/bd/831967.details\n",
            "Description Updated\n",
            "280\n",
            "Link Type\n",
            "http://cplusbd.net/%e0%a6%ab%e0%a7%8d%e0%a6%b2%e0%a6%be%e0%a6%87%e0%a6%9f-%e0%a6%ac%e0%a6%be%e0%a6%a4%e0%a6%bf%e0%a6%b2%e0%a7%87%e0%a6%b0-%e0%a6%a8%e0%a6%bf%e0%a6%b7%e0%a7%87%e0%a6%a7%e0%a6%be%e0%a6%9c%e0%a7%8d%e0%a6%9e/\n",
            "Description Updated\n",
            "281\n",
            "Status Type\n",
            "Continuing\n",
            "282\n",
            "Link Type\n",
            "http://www.bd-pratidin.com/coronavirus/2020/12/31/602937\n",
            "Description Updated\n",
            "283\n",
            "Link Type\n",
            "http://dw.com/p/3nFzs\n",
            "Description Updated\n",
            "284\n",
            "Link Type\n",
            "https://aajkerbarta.com/igdfixhgkihkixohoihxohjohjolxjoohixohoghjxohjoxhjogoixhghoxhjohgokxhjohjgoxhjogohxlhjgklhxohjgoijxohjgojxolgjgljxojjxjholjxoljoxhjooj/\n"
          ],
          "name": "stdout"
        },
        {
          "output_type": "stream",
          "text": [
            "ERROR:trafilatura.utils:not a 200 response: 404 for URL https://aajkerbarta.com/igdfixhgkihkixohoihxohjohjolxjoohixohoghjxohjoxhjogoixhghoxhjohgokxhjohjgoxhjogohxlhjgklhxohjgoijxohjgojxolgjgljxojjxjholjxoljoxhjooj/\n",
            "ERROR:trafilatura.utils:this type cannot be processed: <class 'NoneType'>\n"
          ],
          "name": "stderr"
        },
        {
          "output_type": "stream",
          "text": [
            "None\n",
            "dropped\n",
            "285\n",
            "Link Type\n",
            "https://www.banglatribune.com/tech-and-gadget/news/656097/%E0%A6%95%E0%A6%B0%E0%A7%8B%E0%A6%A8%E0%A6%BE%E0%A6%95%E0%A6%BE%E0%A6%B2%E0%A7%87-%E0%A6%AD%E0%A6%BE%E0%A6%B2%E0%A7%8B-%E0%A6%95%E0%A6%B0%E0%A6%9B%E0%A7%87-%E0%A6%B2%E0%A6%BE%E0%A6%B0%E0%A7%8D%E0%A6%A8%E0%A6%BF%E0%A6%82-%E0%A6%86%E0%A6%B0%E0%A7%8D%E0%A6%A8%E0%A6%BF%E0%A6%82-%E0%A6%AA%E0%A7%8D%E0%A6%B0%E0%A6%9C%E0%A7%87%E0%A6%95%E0%A7%8D%E0%A6%9F%E0%A7%87%E0%A6%B0\n",
            "Description Updated\n",
            "286\n",
            "Link Type\n",
            "https://www.ittefaq.com.bd/worldnews/210481/%E0%A6%9F%E0%A6%BF%E0%A6%95%E0%A6%BE-%E0%A6%A8%E0%A7%87%E0%A6%93%E0%A7%9F%E0%A6%BE%E0%A6%B0-%E0%A7%AE-%E0%A6%A6%E0%A6%BF%E0%A6%A8-%E0%A6%AA%E0%A6%B0%E0%A6%87-%E0%A6%95%E0%A6%B0%E0%A7%8B%E0%A6%A8%E0%A6%BE-%E0%A6%86%E0%A6%95%E0%A7%8D%E0%A6%B0%E0%A6%BE%E0%A6%A8%E0%A7%8D%E0%A6%A4\n"
          ],
          "name": "stdout"
        },
        {
          "output_type": "stream",
          "text": [
            "ERROR:trafilatura.utils:not a 200 response: 403 for URL https://www.bangla.24livenewspaper.com/world/73347-oxford-vaccine-approval-in-britain\n",
            "ERROR:trafilatura.utils:this type cannot be processed: <class 'NoneType'>\n"
          ],
          "name": "stderr"
        },
        {
          "output_type": "stream",
          "text": [
            "Description Updated\n",
            "287\n",
            "Link Type\n",
            "https://www.bangla.24livenewspaper.com/world/73347-oxford-vaccine-approval-in-britain\n",
            "None\n",
            "dropped\n",
            "288\n",
            "Link Type\n",
            "https://banglanews24.com/entertainment/news/bd/831740.details\n",
            "Description Updated\n",
            "289\n",
            "Status Type\n",
            "Continuing\n",
            "290\n",
            "Link Type\n",
            "https://www.somoynews.tv/pages/details/255455\n"
          ],
          "name": "stdout"
        },
        {
          "output_type": "stream",
          "text": [
            "WARNING:trafilatura.utils:wrong encoding detected: utf-8\n"
          ],
          "name": "stderr"
        },
        {
          "output_type": "stream",
          "text": [
            "Description Updated\n",
            "291\n",
            "Status Type\n",
            "Continuing\n",
            "292\n",
            "Link Type\n",
            "https://www.somoynews.tv/pages/details/255691\n"
          ],
          "name": "stdout"
        },
        {
          "output_type": "stream",
          "text": [
            "ERROR:trafilatura.utils:not a 200 response: 403 for URL https://samakal.com/todays-print-edition/tp-khobor/article/201274417/%E0%A6%AC%E0%A6%BE%E0%A6%82%E0%A6%B2%E0%A6%BE%E0%A6%A6%E0%A7%87%E0%A6%B6%E0%A6%BF%E0%A6%A6%E0%A7%87%E0%A6%B0-%E0%A6%9C%E0%A6%A8%E0%A7%8D%E0%A6%AF-%E0%A6%AC%E0%A6%A8%E0%A7%8D%E0%A6%A7-%E0%A6%A6%E0%A6%95%E0%A7%8D%E0%A6%B7%E0%A6%BF%E0%A6%A3-%E0%A6%95%E0%A7%8B%E0%A6%B0%E0%A6%BF%E0%A7%9F%E0%A6%BE%E0%A6%B0-%E0%A6%A6%E0%A7%81%E0%A7%9F%E0%A6%BE%E0%A6%B0-\n",
            "ERROR:trafilatura.utils:this type cannot be processed: <class 'NoneType'>\n"
          ],
          "name": "stderr"
        },
        {
          "output_type": "stream",
          "text": [
            "Description Updated\n",
            "293\n",
            "Link Type\n",
            "https://samakal.com/todays-print-edition/tp-khobor/article/201274417/%E0%A6%AC%E0%A6%BE%E0%A6%82%E0%A6%B2%E0%A6%BE%E0%A6%A6%E0%A7%87%E0%A6%B6%E0%A6%BF%E0%A6%A6%E0%A7%87%E0%A6%B0-%E0%A6%9C%E0%A6%A8%E0%A7%8D%E0%A6%AF-%E0%A6%AC%E0%A6%A8%E0%A7%8D%E0%A6%A7-%E0%A6%A6%E0%A6%95%E0%A7%8D%E0%A6%B7%E0%A6%BF%E0%A6%A3-%E0%A6%95%E0%A7%8B%E0%A6%B0%E0%A6%BF%E0%A7%9F%E0%A6%BE%E0%A6%B0-%E0%A6%A6%E0%A7%81%E0%A7%9F%E0%A6%BE%E0%A6%B0-\n",
            "None\n",
            "dropped\n",
            "294\n",
            "Link Type\n",
            "https://indiarag.in/narendra-modi-popularity-rose-to-the-highest-among-all-global-leaders/\n",
            "Description Updated\n",
            "295\n",
            "Link Type\n",
            "http://cplusbd.net/%e0%a6%ac%e0%a7%83%e0%a6%b9%e0%a6%b8%e0%a7%8d%e0%a6%aa%e0%a6%a4%e0%a6%bf%e0%a6%ac%e0%a6%be%e0%a6%b0-%e0%a6%a5%e0%a7%87%e0%a6%95%e0%a7%87-%e0%a6%9a%e0%a6%9f%e0%a7%8d%e0%a6%9f%e0%a6%97%e0%a7%8d-2/\n",
            "Description Updated\n",
            "296\n",
            "Link Type\n",
            "https://zeenews.india.com/bengali/nation/telangana-on-high-alert-after-279-uk-returnees-untraceable_360475.html\n",
            "Description Updated\n",
            "297\n",
            "Status Type\n",
            "Continuing\n",
            "298\n",
            "Status Type\n",
            "Continuing\n",
            "299\n",
            "Link Type\n",
            "https://amardesh.co.uk/%E0%A7%A8%E0%A7%A6%E0%A7%A8%E0%A7%A6-%E0%A6%B8%E0%A6%BE%E0%A6%B2%E0%A7%87%E0%A6%93-%E0%A6%AC%E0%A6%BF%E0%A6%9A%E0%A6%BE%E0%A6%B0%E0%A6%AC%E0%A6%B9%E0%A6%BF%E0%A6%B0%E0%A7%8D%E0%A6%AD%E0%A7%82%E0%A6%A4/\n"
          ],
          "name": "stdout"
        },
        {
          "output_type": "stream",
          "text": [
            "ERROR:trafilatura.utils:retries/redirects: https://amardesh.co.uk/%E0%A7%A8%E0%A7%A6%E0%A7%A8%E0%A7%A6-%E0%A6%B8%E0%A6%BE%E0%A6%B2%E0%A7%87%E0%A6%93-%E0%A6%AC%E0%A6%BF%E0%A6%9A%E0%A6%BE%E0%A6%B0%E0%A6%AC%E0%A6%B9%E0%A6%BF%E0%A6%B0%E0%A7%8D%E0%A6%AD%E0%A7%82%E0%A6%A4/ HTTPSConnectionPool(host='amardesh.co.uk', port=443): Max retries exceeded with url: /%E0%A7%A8%E0%A7%A6%E0%A7%A8%E0%A7%A6-%E0%A6%B8%E0%A6%BE%E0%A6%B2%E0%A7%87%E0%A6%93-%E0%A6%AC%E0%A6%BF%E0%A6%9A%E0%A6%BE%E0%A6%B0%E0%A6%AC%E0%A6%B9%E0%A6%BF%E0%A6%B0%E0%A7%8D%E0%A6%AD%E0%A7%82%E0%A6%A4/ (Caused by NewConnectionError('<urllib3.connection.HTTPSConnection object at 0x7f96cd864550>: Failed to establish a new connection: [Errno -2] Name or service not known'))\n",
            "ERROR:trafilatura.utils:parsing failed: Document is empty\n"
          ],
          "name": "stderr"
        },
        {
          "output_type": "stream",
          "text": [
            "HTTPSConnectionPool(host='amardesh.co.uk', port=443): Max retries exceeded with url: /%E0%A7%A8%E0%A7%A6%E0%A7%A8%E0%A7%A6-%E0%A6%B8%E0%A6%BE%E0%A6%B2%E0%A7%87%E0%A6%93-%E0%A6%AC%E0%A6%BF%E0%A6%9A%E0%A6%BE%E0%A6%B0%E0%A6%AC%E0%A6%B9%E0%A6%BF%E0%A6%B0%E0%A7%8D%E0%A6%AD%E0%A7%82%E0%A6%A4/ (Caused by NewConnectionError('<urllib3.connection.HTTPSConnection object at 0x7f96cc4c60d0>: Failed to establish a new connection: [Errno -2] Name or service not known'))\n",
            "dropped\n",
            "300\n",
            "Link Type\n",
            "https://www.anandabazar.com/international/year-end-special-2020-icons-who-lost-lives-after-being-infected-with-covid-19-dgtls-1.1249124?utm_source=facebook&utm_medium=social&utm_campaign=daily\n",
            "Description Updated\n",
            "301\n",
            "Link Type\n",
            "https://cutt.ly/0jq7lUD\n"
          ],
          "name": "stdout"
        },
        {
          "output_type": "stream",
          "text": [
            "WARNING:urllib3.connectionpool:Retrying (Retry(total=1, connect=None, read=None, redirect=None, status=None)) after connection broken by 'NewConnectionError('<urllib3.connection.HTTPSConnection object at 0x7f96cc375b90>: Failed to establish a new connection: [Errno -2] Name or service not known')': /2020/06/Dont.Stigmatize.foreign.worker.health.DG..html?fbclid=IwAR2F4zPQiadwzKDCEqUCsfwZzFI_oX1st4nsIRV3UVvQy8CgeAqQD3q2hiE&m=1\n",
            "WARNING:urllib3.connectionpool:Retrying (Retry(total=0, connect=None, read=None, redirect=None, status=None)) after connection broken by 'NewConnectionError('<urllib3.connection.HTTPSConnection object at 0x7f96cb4a1410>: Failed to establish a new connection: [Errno -2] Name or service not known')': /2020/06/Dont.Stigmatize.foreign.worker.health.DG..html?fbclid=IwAR2F4zPQiadwzKDCEqUCsfwZzFI_oX1st4nsIRV3UVvQy8CgeAqQD3q2hiE&m=1\n",
            "ERROR:trafilatura.utils:retries/redirects: https://cutt.ly/0jq7lUD HTTPSConnectionPool(host='www.ovibashikantho.com', port=443): Max retries exceeded with url: /2020/06/Dont.Stigmatize.foreign.worker.health.DG..html?fbclid=IwAR2F4zPQiadwzKDCEqUCsfwZzFI_oX1st4nsIRV3UVvQy8CgeAqQD3q2hiE&m=1 (Caused by NewConnectionError('<urllib3.connection.HTTPSConnection object at 0x7f96cd07ff10>: Failed to establish a new connection: [Errno -2] Name or service not known'))\n",
            "ERROR:trafilatura.utils:parsing failed: Document is empty\n"
          ],
          "name": "stderr"
        },
        {
          "output_type": "stream",
          "text": [
            "HTTPSConnectionPool(host='www.ovibashikantho.com', port=443): Max retries exceeded with url: /2020/06/Dont.Stigmatize.foreign.worker.health.DG..html?fbclid=IwAR2F4zPQiadwzKDCEqUCsfwZzFI_oX1st4nsIRV3UVvQy8CgeAqQD3q2hiE&m=1 (Caused by NewConnectionError('<urllib3.connection.HTTPSConnection object at 0x7f96cb2732d0>: Failed to establish a new connection: [Errno -2] Name or service not known'))\n",
            "dropped\n",
            "302\n",
            "Status Type\n",
            "Continuing\n",
            "303\n",
            "Link Type\n",
            "https://cutt.ly/0jq7lUD\n"
          ],
          "name": "stdout"
        },
        {
          "output_type": "stream",
          "text": [
            "WARNING:urllib3.connectionpool:Retrying (Retry(total=1, connect=None, read=None, redirect=None, status=None)) after connection broken by 'NewConnectionError('<urllib3.connection.HTTPSConnection object at 0x7f96cd0b58d0>: Failed to establish a new connection: [Errno -2] Name or service not known')': /2020/06/Dont.Stigmatize.foreign.worker.health.DG..html?fbclid=IwAR2F4zPQiadwzKDCEqUCsfwZzFI_oX1st4nsIRV3UVvQy8CgeAqQD3q2hiE&m=1\n",
            "WARNING:urllib3.connectionpool:Retrying (Retry(total=0, connect=None, read=None, redirect=None, status=None)) after connection broken by 'NewConnectionError('<urllib3.connection.HTTPSConnection object at 0x7f96cdbd7d50>: Failed to establish a new connection: [Errno -2] Name or service not known')': /2020/06/Dont.Stigmatize.foreign.worker.health.DG..html?fbclid=IwAR2F4zPQiadwzKDCEqUCsfwZzFI_oX1st4nsIRV3UVvQy8CgeAqQD3q2hiE&m=1\n",
            "ERROR:trafilatura.utils:retries/redirects: https://cutt.ly/0jq7lUD HTTPSConnectionPool(host='www.ovibashikantho.com', port=443): Max retries exceeded with url: /2020/06/Dont.Stigmatize.foreign.worker.health.DG..html?fbclid=IwAR2F4zPQiadwzKDCEqUCsfwZzFI_oX1st4nsIRV3UVvQy8CgeAqQD3q2hiE&m=1 (Caused by NewConnectionError('<urllib3.connection.HTTPSConnection object at 0x7f96cbf3f690>: Failed to establish a new connection: [Errno -2] Name or service not known'))\n",
            "ERROR:trafilatura.utils:parsing failed: Document is empty\n"
          ],
          "name": "stderr"
        },
        {
          "output_type": "stream",
          "text": [
            "HTTPSConnectionPool(host='www.ovibashikantho.com', port=443): Max retries exceeded with url: /2020/06/Dont.Stigmatize.foreign.worker.health.DG..html?fbclid=IwAR2F4zPQiadwzKDCEqUCsfwZzFI_oX1st4nsIRV3UVvQy8CgeAqQD3q2hiE&m=1 (Caused by NewConnectionError('<urllib3.connection.HTTPSConnection object at 0x7f96cc06d3d0>: Failed to establish a new connection: [Errno -2] Name or service not known'))\n",
            "dropped\n",
            "304\n",
            "Link Type\n",
            "https://www.ittefaq.com.bd/national/210156/%E0%A6%95%E0%A6%B0%E0%A7%8B%E0%A6%A8%E0%A6%BE%E0%A7%9F-%E0%A6%86%E0%A6%B0%E0%A7%8B-%E0%A7%A9%E0%A7%A6-%E0%A6%9C%E0%A6%A8%E0%A7%87%E0%A6%B0-%E0%A6%AE%E0%A7%83%E0%A6%A4%E0%A7%8D%E0%A6%AF%E0%A7%81\n",
            "Description Updated\n",
            "305\n",
            "Link Type\n",
            "https://www.ntvbd.com/world/%E0%A6%B8%E0%A6%BE%E0%A6%AE%E0%A6%A8%E0%A7%87-%E0%A6%86%E0%A6%B0%E0%A7%8B-%E0%A6%AC%E0%A7%9C-%E0%A6%AE%E0%A6%B9%E0%A6%BE%E0%A6%AE%E0%A6%BE%E0%A6%B0%E0%A6%BF-%E0%A6%86%E0%A6%B8%E0%A6%A4%E0%A7%87-%E0%A6%AA%E0%A6%BE%E0%A6%B0%E0%A7%87-%E0%A6%A1%E0%A6%AC%E0%A7%8D%E0%A6%B2%E0%A6%BF%E0%A6%93%E0%A6%8F%E0%A6%87%E0%A6%9A%E0%A6%93-847437\n",
            "Description Updated\n",
            "306\n",
            "Link Type\n",
            "https://www.somoynews.tv/pages/details/255419\n",
            "Description Updated\n",
            "307\n",
            "Link Type\n",
            "https://bdcountrynews24.com/2020/12/30/%E0%A6%95%E0%A6%B0%E0%A7%8B%E0%A6%A8%E0%A6%BE%E0%A6%B0-%E0%A6%AD%E0%A7%8D%E0%A6%AF%E0%A6%BE%E0%A6%95%E0%A6%B8%E0%A6%BF%E0%A6%A8-%E0%A6%A8%E0%A7%87%E0%A6%AF%E0%A6%BC%E0%A6%BE%E0%A6%B0-%E0%A6%8F/\n",
            "Description Updated\n",
            "308\n",
            "Link Type\n",
            "https://www.dainikshiksha.com/%E0%A6%B6%E0%A6%BF%E0%A6%95%E0%A7%8D%E0%A6%B7%E0%A6%95-%E0%A6%B6%E0%A6%BF%E0%A6%95%E0%A7%8D%E0%A6%B7%E0%A6%BE%E0%A6%B0%E0%A7%8D%E0%A6%A5%E0%A7%80%E0%A6%A6%E0%A7%87%E0%A6%B0-%E0%A6%9C%E0%A6%A8%E0%A7%8D%E0%A6%AF-%E0%A6%AA%E0%A7%8D%E0%A6%B0%E0%A6%A7%E0%A6%BE%E0%A6%A8%E0%A6%AE%E0%A6%A8%E0%A7%8D%E0%A6%A4%E0%A7%8D%E0%A6%B0%E0%A7%80%E0%A6%B0-%E0%A6%AF%E0%A6%A4-%E0%A6%A8%E0%A6%BF%E0%A6%B0%E0%A7%8D%E0%A6%A6%E0%A7%87%E0%A6%B6%E0%A6%A8%E0%A6%BE/201190/\n"
          ],
          "name": "stdout"
        },
        {
          "output_type": "stream",
          "text": [
            "ERROR:trafilatura.utils:retries/redirects: https://www.ourislam24.com/2020/12/27/%e0%a6%95%e0%a6%b0%e0%a7%8b%e0%a6%a8%e0%a6%be-%e0%a6%a8%e0%a6%bf%e0%a6%b0%e0%a7%8d%e0%a6%a7%e0%a6%be%e0%a6%b0%e0%a6%bf%e0%a6%a4-%e0%a6%b8%e0%a6%ae%e0%a7%9f%e0%a7%87-%e0%a6%ac%e0%a6%bf%e0%a6%b6/ HTTPSConnectionPool(host='www.ourislam24.com', port=443): Max retries exceeded with url: /2020/12/27/%E0%A6%95%E0%A6%B0%E0%A7%8B%E0%A6%A8%E0%A6%BE-%E0%A6%A8%E0%A6%BF%E0%A6%B0%E0%A7%8D%E0%A6%A7%E0%A6%BE%E0%A6%B0%E0%A6%BF%E0%A6%A4-%E0%A6%B8%E0%A6%AE%E0%A7%9F%E0%A7%87-%E0%A6%AC%E0%A6%BF%E0%A6%B6/ (Caused by ResponseError('too many 503 error responses'))\n",
            "ERROR:trafilatura.utils:parsing failed: Document is empty\n"
          ],
          "name": "stderr"
        },
        {
          "output_type": "stream",
          "text": [
            "Description Updated\n",
            "309\n",
            "Link Type\n",
            "https://www.ourislam24.com/2020/12/27/%e0%a6%95%e0%a6%b0%e0%a7%8b%e0%a6%a8%e0%a6%be-%e0%a6%a8%e0%a6%bf%e0%a6%b0%e0%a7%8d%e0%a6%a7%e0%a6%be%e0%a6%b0%e0%a6%bf%e0%a6%a4-%e0%a6%b8%e0%a6%ae%e0%a7%9f%e0%a7%87-%e0%a6%ac%e0%a6%bf%e0%a6%b6/\n",
            "None\n",
            "dropped\n",
            "310\n",
            "Link Type\n",
            "https://www.banglanews24.com/daily-chittagong/news/bd/831679.details\n"
          ],
          "name": "stdout"
        },
        {
          "output_type": "stream",
          "text": [
            "ERROR:trafilatura.utils:not a 200 response: 404 for URL https://probashtime.com/2020/12/27/%E0%A6%AA%E0%A7%8D%E0%A6%B0%E0%A6%AC%E0%A6%BE%E0%A6%B8%E0%A7%80%E0%A6%A6%E0%A7%87%E0%A6%B0-%E0%A6%AC%E0%A6%BF%E0%A6%A8%E0%A6%BE%E0%A6%AE%E0%A7%82%E0%A6%B2%E0%A7%8D%E0%A6%AF%E0%A7%87-%E0%A6%95%E0%A6%B0/\n",
            "ERROR:trafilatura.utils:this type cannot be processed: <class 'NoneType'>\n"
          ],
          "name": "stderr"
        },
        {
          "output_type": "stream",
          "text": [
            "Description Updated\n",
            "311\n",
            "Link Type\n",
            "https://probashtime.com/2020/12/27/%E0%A6%AA%E0%A7%8D%E0%A6%B0%E0%A6%AC%E0%A6%BE%E0%A6%B8%E0%A7%80%E0%A6%A6%E0%A7%87%E0%A6%B0-%E0%A6%AC%E0%A6%BF%E0%A6%A8%E0%A6%BE%E0%A6%AE%E0%A7%82%E0%A6%B2%E0%A7%8D%E0%A6%AF%E0%A7%87-%E0%A6%95%E0%A6%B0/\n"
          ],
          "name": "stdout"
        },
        {
          "output_type": "stream",
          "text": [
            "ERROR:trafilatura.utils:not a 200 response: 404 for URL https://probashtime.com/2020/12/27/%E0%A6%93%E0%A6%AE%E0%A6%BE%E0%A6%A8%E0%A7%87-%E0%A6%86%E0%A6%A8%E0%A7%81%E0%A6%B7%E0%A7%8D%E0%A6%A0%E0%A6%BE%E0%A6%A8%E0%A6%BF%E0%A6%95-%E0%A6%AD%E0%A6%BE%E0%A6%AC%E0%A7%87-%E0%A6%B6%E0%A7%81/\n",
            "ERROR:trafilatura.utils:this type cannot be processed: <class 'NoneType'>\n"
          ],
          "name": "stderr"
        },
        {
          "output_type": "stream",
          "text": [
            "None\n",
            "dropped\n",
            "312\n",
            "Status Type\n",
            "Continuing\n",
            "313\n",
            "Link Type\n",
            "https://probashtime.com/2020/12/27/%E0%A6%93%E0%A6%AE%E0%A6%BE%E0%A6%A8%E0%A7%87-%E0%A6%86%E0%A6%A8%E0%A7%81%E0%A6%B7%E0%A7%8D%E0%A6%A0%E0%A6%BE%E0%A6%A8%E0%A6%BF%E0%A6%95-%E0%A6%AD%E0%A6%BE%E0%A6%AC%E0%A7%87-%E0%A6%B6%E0%A7%81/\n",
            "None\n",
            "dropped\n",
            "314\n",
            "Link Type\n",
            "https://www.somoynews.tv/pages/details/255622\n"
          ],
          "name": "stdout"
        },
        {
          "output_type": "stream",
          "text": [
            "WARNING:trafilatura.utils:wrong encoding detected: utf-8\n"
          ],
          "name": "stderr"
        },
        {
          "output_type": "stream",
          "text": [
            "Description Updated\n",
            "315\n",
            "Link Type\n",
            "https://www.somoynews.tv/pages/details/255229\n"
          ],
          "name": "stdout"
        },
        {
          "output_type": "stream",
          "text": [
            "WARNING:trafilatura.utils:wrong encoding detected: utf-8\n"
          ],
          "name": "stderr"
        },
        {
          "output_type": "stream",
          "text": [
            "Description Updated\n",
            "316\n",
            "Link Type\n",
            "https://banglanews24.com/national/news/bd/832134.details\n",
            "Description Updated\n",
            "317\n",
            "Link Type\n",
            "https://www.somoynews.tv/pages/details/254818\n",
            "Description Updated\n",
            "318\n",
            "Status Type\n",
            "Continuing\n",
            "319\n",
            "Status Type\n",
            "Continuing\n",
            "320\n",
            "Status Type\n",
            "Continuing\n",
            "321\n",
            "Link Type\n",
            "https://www.somoynews.tv/pages/details/255489\n",
            "Description Updated\n",
            "322\n",
            "Status Type\n",
            "Continuing\n",
            "323\n",
            "Link Type\n",
            "https://www.somoynews.tv/pages/details/254856\n",
            "Description Updated\n",
            "324\n",
            "Link Type\n",
            "https://www.somoynews.tv/pages/details/255302\n"
          ],
          "name": "stdout"
        },
        {
          "output_type": "stream",
          "text": [
            "WARNING:trafilatura.utils:wrong encoding detected: utf-8\n"
          ],
          "name": "stderr"
        },
        {
          "output_type": "stream",
          "text": [
            "Description Updated\n",
            "325\n",
            "Status Type\n",
            "Continuing\n",
            "326\n",
            "Link Type\n",
            "https://www.somoynews.tv/pages/details/255419\n",
            "Description Updated\n",
            "327\n",
            "Link Type\n",
            "https://www.somoynews.tv/pages/details/254873\n"
          ],
          "name": "stdout"
        },
        {
          "output_type": "stream",
          "text": [
            "WARNING:trafilatura.utils:wrong encoding detected: utf-8\n"
          ],
          "name": "stderr"
        },
        {
          "output_type": "stream",
          "text": [
            "Description Updated\n",
            "328\n",
            "Status Type\n",
            "Continuing\n",
            "329\n",
            "Link Type\n",
            "https://news.studyhourbd.com/?p=560\n"
          ],
          "name": "stdout"
        },
        {
          "output_type": "stream",
          "text": [
            "WARNING:trafilatura.core:unexpected in p: amp-img None None\n",
            "WARNING:trafilatura.core:unexpected in p: i-amphtml-sizer None None\n"
          ],
          "name": "stderr"
        },
        {
          "output_type": "stream",
          "text": [
            "Description Updated\n",
            "330\n",
            "Link Type\n",
            "https://banglanews24.com/politics/news/bd/832020.details\n",
            "Description Updated\n",
            "331\n",
            "Link Type\n",
            "https://banglanews24.com/national/news/bd/832512.details\n",
            "Description Updated\n",
            "332\n",
            "Link Type\n",
            "https://city24news.com/bn/archives/49633\n",
            "Description Updated\n",
            "333\n",
            "Link Type\n",
            "https://inabd.com/archives/9200\n",
            "Description Updated\n",
            "334\n",
            "Status Type\n",
            "Continuing\n",
            "335\n",
            "Link Type\n",
            "https://zeenews.india.com/bengali/entertainment/director-debidas-bhattacharya-dies-due-to-covid-19_360579.html\n",
            "Description Updated\n",
            "336\n",
            "Link Type\n",
            "https://www.dailynayadiganta.com/miscellaneous/552293/%E0%A6%AA%E0%A7%83%E0%A6%A5%E0%A6%BF%E0%A6%AC%E0%A7%80%E0%A6%B0-%E0%A6%B6%E0%A7%87%E0%A6%B7%E0%A6%AA%E0%A7%8D%E0%A6%B0%E0%A6%BE%E0%A6%A8%E0%A7%8D%E0%A6%A4%E0%A7%87%E0%A6%93-%E0%A6%A5%E0%A6%BE%E0%A6%AC%E0%A6%BE-%E0%A6%AC%E0%A6%B8%E0%A6%BE%E0%A6%B2-%E0%A6%95%E0%A6%B0%E0%A7%8B%E0%A6%A8%E0%A6%BE%E0%A6%AD%E0%A6%BE%E0%A6%87%E0%A6%B0%E0%A6%BE%E0%A6%B8-%E0%A6%86%E0%A6%95%E0%A7%8D%E0%A6%B0%E0%A6%BE%E0%A6%A8%E0%A7%8D%E0%A6%A4-%E0%A7%A9%E0%A7%AC\n",
            "Description Updated\n",
            "337\n",
            "Link Type\n",
            "https://www.banglatribune.com/national/news/660017/%E0%A6%95%E0%A6%B0%E0%A7%8B%E0%A6%A8%E0%A6%BE-%E0%A6%AA%E0%A6%B0%E0%A6%BF%E0%A6%B8%E0%A7%8D%E0%A6%A5%E0%A6%BF%E0%A6%A4%E0%A6%BF-%E0%A6%85%E0%A6%A8%E0%A7%81%E0%A6%95%E0%A7%82%E0%A6%B2%E0%A7%87-%E0%A6%A8%E0%A6%BE-%E0%A6%86%E0%A6%B8%E0%A6%B2%E0%A7%87-%E0%A6%B6%E0%A6%BF%E0%A6%95%E0%A7%8D%E0%A6%B7%E0%A6%BE%E0%A6%AA%E0%A7%8D%E0%A6%B0%E0%A6%A4%E0%A6%BF%E0%A6%B7%E0%A7%8D%E0%A6%A0%E0%A6%BE%E0%A6%A8\n",
            "Description Updated\n",
            "338\n",
            "Link Type\n",
            "http://independent24.com/details/69072/%E0%A6%9C%E0%A6%A8%E0%A6%B6%E0%A7%82%E0%A6%A8%E0%A7%8D%E0%A6%AF%20%E0%A6%9F%E0%A6%BE%E0%A6%87%E0%A6%AE%E0%A6%B8%20%E0%A6%B8%E0%A7%8D%E0%A6%95%E0%A7%9F%E0%A6%BE%E0%A6%B0%E0%A7%87%20%E0%A6%9C%E0%A6%BE%E0%A6%81%E0%A6%95%E0%A6%9C%E0%A6%AE%E0%A6%95%20%E0%A6%95%E0%A6%BE%E0%A6%89%E0%A6%A8%E0%A7%8D%E0%A6%9F%E0%A6%A1%E0%A6%BE%E0%A6%89%E0%A6%A8\n",
            "Description Updated\n",
            "339\n",
            "Status Type\n",
            "Continuing\n",
            "340\n",
            "Link Type\n",
            "https://akhonbangla.com/%E0%A6%8F%E0%A6%A5%E0%A7%87%E0%A6%A8%E0%A7%8D%E0%A6%B8%E0%A7%87%E0%A6%B0-%E0%A6%AA%E0%A7%8D%E0%A6%B0%E0%A6%A5%E0%A6%AE-%E0%A6%B8%E0%A6%B0%E0%A6%95%E0%A6%BE%E0%A6%B0%E0%A6%BF-%E0%A6%AE%E0%A6%B8/\n",
            "Description Updated\n",
            "341\n",
            "Link Type\n",
            "https://bijoytimes.com/%e0%a6%b8%e0%a7%8d%e0%a6%ac%e0%a6%be%e0%a6%ae%e0%a7%80%e0%a6%b0-%e0%a6%95%e0%a6%b0%e0%a7%8b%e0%a6%a8%e0%a6%be-%e0%a6%b8%e0%a7%8d%e0%a6%a4%e0%a7%8d%e0%a6%b0%e0%a7%80-%e0%a6%ac%e0%a6%be%e0%a6%aa/\n",
            "Description Updated\n",
            "342\n",
            "Link Type\n",
            "https://www.ittefaq.com.bd/wholecountry/210068/%E0%A6%95%E0%A6%B0%E0%A7%8B%E0%A6%A8%E0%A6%BE%E0%A6%B0-%E0%A6%A8%E0%A6%A4%E0%A7%81%E0%A6%A8-%E0%A6%A7%E0%A6%B0%E0%A6%A8-%E0%A6%A8%E0%A6%BF%E0%A7%9F%E0%A7%87-%E0%A6%B8%E0%A6%BF%E0%A6%B2%E0%A7%87%E0%A6%9F%E0%A7%87-%E0%A6%86%E0%A6%A4%E0%A6%99%E0%A7%8D%E0%A6%95\n"
          ],
          "name": "stdout"
        },
        {
          "output_type": "stream",
          "text": [
            "ERROR:root:unknown error: 'বৃদ্ধাশ্রম', 'তোমায় ছাড়া ঘুম আসে না মা', 'রাগে অনুরাগে' সহ একাধিক ধারাবাহিকের পরিচালক ছিলেন দেবীদাস ভট্টাচার্য\n",
            "নিজস্ব প্রতিবেদন : প্রয়াত পরিচালক দেবীদাস ভট্টাচার্য। শনিবার ভোর রাতে পরিচালকের মৃত্যু হয় বলে জানা যাচ্ছে। মৃত্যুকালে পরিচালকের বয়স হয়েছিল ৫৮ বছর। তিনি করোনা আক্রান্ত হয়ে গত ২ ডিসেম্বর থেকে প্রথমে বাইপাসের ধারে একটি হাসপাতালে, পরে দক্ষিণ কলকাতার একটি বেসরকারি হাসপাতালে ভর্তি ছিলেন বলে খবর।\n",
            "পরিচালকের চিকিৎসা খরচের জন্য টলিপাড়ার অনেকেই এগিয়ে এসেছিলেন বলে জানা যাচ্ছে। তবে শেষরক্ষা হল না। দেবীদাস ভট্টাচার্যের মৃত্যুতে শোকপ্রকাশ করেছেন অভিনেত্রী সুদীপ্তা চক্রবর্তী, অভিনেতা নীল চট্টোপাধ্যায়, জয়জিৎ বন্দ্যোপাধ্যায় সহ আরও অনেকেই।\n",
            "আরও পড়ুন-গুরুতর অসুস্থ সঙ্গীতশিল্পী Nirmala Mishra, ভর্তি সার্দান অ্যাভিনিউ-এর নার্সিংহোমে\n",
            "ভদ্র, মার্জিত, শিক্ষিত, সুন্দর, সুপুরুষ, ভালো মানুষ, সু অভিনেতা, সু পরিচালক.... এই এতগুলো বিশেষণ একটা মানুষের নামের পাশে...\n",
            "Posted by Sudiptaa Chakraborty on Saturday, 26 December 2020\n",
            "January, 2014.. Jatin Das Park er #Akash_Aath channel er office.. Ekta manus apadmostok amake porjobekkhn korchilen.....\n",
            "Posted by Neil Chatterjee on Saturday, 26 December 2020\n",
            "দেবী দা তুমি থাকবে ۔۔۔ তোমার ব্যবহারে ۔۔ তোমার মজার কথায় ۔۔ তোমার কাজে ۔۔ ওম শান্তি Debidas Bhattacharyya\n",
            "Posted by জয়জিৎ ব্যানার্জী on Saturday, 26 December 2020\n",
            "জনপ্রিয় বাংলা ধারাবাহিক 'বৃদ্ধাশ্রম' ও 'বৃদ্ধাশ্রম ২'-এর পরিচালক ছিলেন দেবীদাস ভট্টাচার্য। বর্ষীয়ান অভিনেত্রী লিলি চক্রবর্তী বৃদ্ধাশ্রম ধারাবাহিকে কেন্দ্রীয় চরিত্রে অভিনয় করছিলেন। এছাড়াও 'তোমায় ছাড়া ঘুম আসে না মা', 'রাগে অনুরাগে' সহ একাধিক ধারাবাহিকের পরিচালক ছিলেন তিনি।\n",
            "আরও পড়ুন-''মৃত্যুর পর আমার চিতাভস্ম গঙ্গায় ভাসিও না'', কবিতায় বললেন Kangana Ranaut Failed to parse: 'বৃদ্ধাশ্রম', 'তোমায় ছাড়া ঘুম আসে না মা', 'রাগে অনুরাগে' সহ একাধিক ধারাবাহিকের পরিচালক ছিলেন দেবীদাস ভট্টাচার্য\n",
            "নিজস্ব প্রতিবেদন : প্রয়াত পরিচালক দেবীদাস ভট্টাচার্য। শনিবার ভোর রাতে পরিচালকের মৃত্যু হয় বলে জানা যাচ্ছে। মৃত্যুকালে পরিচালকের বয়স হয়েছিল ৫৮ বছর। তিনি করোনা আক্রান্ত হয়ে গত ২ ডিসেম্বর থেকে প্রথমে বাইপাসের ধারে একটি হাসপাতালে, পরে দক্ষিণ কলকাতার একটি বেসরকারি হাসপাতালে ভর্তি ছিলেন বলে খবর।\n",
            "পরিচালকের চিকিৎসা খরচের জন্য টলিপাড়ার অনেকেই এগিয়ে এসেছিলেন বলে জানা যাচ্ছে। তবে শেষরক্ষা হল না। দেবীদাস ভট্টাচার্যের মৃত্যুতে শোকপ্রকাশ করেছেন অভিনেত্রী সুদীপ্তা চক্রবর্তী, অভিনেতা নীল চট্টোপাধ্যায়, জয়জিৎ বন্দ্যোপাধ্যায় সহ আরও অনেকেই।\n",
            "আরও পড়ুন-গুরুতর অসুস্থ সঙ্গীতশিল্পী Nirmala Mishra, ভর্তি সার্দান অ্যাভিনিউ-এর নার্সিংহোমে\n",
            "ভদ্র, মার্জিত, শিক্ষিত, সুন্দর, সুপুরুষ, ভালো মানুষ, সু অভিনেতা, সু পরিচালক.... এই এতগুলো বিশেষণ একটা মানুষের নামের পাশে...\n",
            "Posted by Sudiptaa Chakraborty on Saturday, 26 December 2020\n",
            "January, 2014.. Jatin Das Park er #Akash_Aath channel er office.. Ekta manus apadmostok amake porjobekkhn korchilen.....\n",
            "Posted by Neil Chatterjee on Saturday, 26 December 2020\n",
            "দেবী দা তুমি থাকবে ۔۔۔ তোমার ব্যবহারে ۔۔ তোমার মজার কথায় ۔۔ তোমার কাজে ۔۔ ওম শান্তি Debidas Bhattacharyya\n",
            "Posted by জয়জিৎ ব্যানার্জী on Saturday, 26 December 2020\n",
            "জনপ্রিয় বাংলা ধারাবাহিক 'বৃদ্ধাশ্রম' ও 'বৃদ্ধাশ্রম ২'-এর পরিচালক ছিলেন দেবীদাস ভট্টাচার্য। বর্ষীয়ান অভিনেত্রী লিলি চক্রবর্তী বৃদ্ধাশ্রম ধারাবাহিকে কেন্দ্রীয় চরিত্রে অভিনয় করছিলেন। এছাড়াও 'তোমায় ছাড়া ঘুম আসে না মা', 'রাগে অনুরাগে' সহ একাধিক ধারাবাহিকের পরিচালক ছিলেন তিনি।\n",
            "আরও পড়ুন-''মৃত্যুর পর আমার চিতাভস্ম গঙ্গায় ভাসিও না'', কবিতায় বললেন Kangana Ranaut\n",
            "ERROR:trafilatura.utils:this type cannot be processed: <class 'NoneType'>\n"
          ],
          "name": "stderr"
        },
        {
          "output_type": "stream",
          "text": [
            "Description Updated\n",
            "343\n",
            "Link Type\n",
            "'বৃদ্ধাশ্রম', 'তোমায় ছাড়া ঘুম আসে না মা', 'রাগে অনুরাগে' সহ একাধিক ধারাবাহিকের পরিচালক ছিলেন দেবীদাস ভট্টাচার্য\n",
            "নিজস্ব প্রতিবেদন : প্রয়াত পরিচালক দেবীদাস ভট্টাচার্য। শনিবার ভোর রাতে পরিচালকের মৃত্যু হয় বলে জানা যাচ্ছে। মৃত্যুকালে পরিচালকের বয়স হয়েছিল ৫৮ বছর। তিনি করোনা আক্রান্ত হয়ে গত ২ ডিসেম্বর থেকে প্রথমে বাইপাসের ধারে একটি হাসপাতালে, পরে দক্ষিণ কলকাতার একটি বেসরকারি হাসপাতালে ভর্তি ছিলেন বলে খবর।\n",
            "পরিচালকের চিকিৎসা খরচের জন্য টলিপাড়ার অনেকেই এগিয়ে এসেছিলেন বলে জানা যাচ্ছে। তবে শেষরক্ষা হল না। দেবীদাস ভট্টাচার্যের মৃত্যুতে শোকপ্রকাশ করেছেন অভিনেত্রী সুদীপ্তা চক্রবর্তী, অভিনেতা নীল চট্টোপাধ্যায়, জয়জিৎ বন্দ্যোপাধ্যায় সহ আরও অনেকেই।\n",
            "আরও পড়ুন-গুরুতর অসুস্থ সঙ্গীতশিল্পী Nirmala Mishra, ভর্তি সার্দান অ্যাভিনিউ-এর নার্সিংহোমে\n",
            "ভদ্র, মার্জিত, শিক্ষিত, সুন্দর, সুপুরুষ, ভালো মানুষ, সু অভিনেতা, সু পরিচালক.... এই এতগুলো বিশেষণ একটা মানুষের নামের পাশে...\n",
            "Posted by Sudiptaa Chakraborty on Saturday, 26 December 2020\n",
            "January, 2014.. Jatin Das Park er #Akash_Aath channel er office.. Ekta manus apadmostok amake porjobekkhn korchilen.....\n",
            "Posted by Neil Chatterjee on Saturday, 26 December 2020\n",
            "দেবী দা তুমি থাকবে ۔۔۔ তোমার ব্যবহারে ۔۔ তোমার মজার কথায় ۔۔ তোমার কাজে ۔۔ ওম শান্তি Debidas Bhattacharyya\n",
            "Posted by জয়জিৎ ব্যানার্জী on Saturday, 26 December 2020\n",
            "জনপ্রিয় বাংলা ধারাবাহিক 'বৃদ্ধাশ্রম' ও 'বৃদ্ধাশ্রম ২'-এর পরিচালক ছিলেন দেবীদাস ভট্টাচার্য। বর্ষীয়ান অভিনেত্রী লিলি চক্রবর্তী বৃদ্ধাশ্রম ধারাবাহিকে কেন্দ্রীয় চরিত্রে অভিনয় করছিলেন। এছাড়াও 'তোমায় ছাড়া ঘুম আসে না মা', 'রাগে অনুরাগে' সহ একাধিক ধারাবাহিকের পরিচালক ছিলেন তিনি।\n",
            "আরও পড়ুন-''মৃত্যুর পর আমার চিতাভস্ম গঙ্গায় ভাসিও না'', কবিতায় বললেন Kangana Ranaut\n",
            "No connection adapters were found for \"'বৃদ্ধাশ্রম', 'তোমায় ছাড়া ঘুম আসে না মা', 'রাগে অনুরাগে' সহ একাধিক ধারাবাহিকের পরিচালক ছিলেন দেবীদাস ভট্টাচার্য\\nনিজস্ব প্রতিবেদন : প্রয়াত পরিচালক দেবীদাস ভট্টাচার্য। শনিবার ভোর রাতে পরিচালকের মৃত্যু হয় বলে জানা যাচ্ছে। মৃত্যুকালে পরিচালকের বয়স হয়েছিল ৫৮ বছর। তিনি করোনা আক্রান্ত হয়ে গত ২ ডিসেম্বর থেকে প্রথমে বাইপাসের ধারে একটি হাসপাতালে, পরে দক্ষিণ কলকাতার একটি বেসরকারি হাসপাতালে ভর্তি ছিলেন বলে খবর।\\nপরিচালকের চিকিৎসা খরচের জন্য টলিপাড়ার অনেকেই এগিয়ে এসেছিলেন বলে জানা যাচ্ছে। তবে শেষরক্ষা হল না। দেবীদাস ভট্টাচার্যের মৃত্যুতে শোকপ্রকাশ করেছেন অভিনেত্রী সুদীপ্তা চক্রবর্তী, অভিনেতা নীল চট্টোপাধ্যায়, জয়জিৎ বন্দ্যোপাধ্যায় সহ আরও অনেকেই।\\nআরও পড়ুন-গুরুতর অসুস্থ সঙ্গীতশিল্পী Nirmala Mishra, ভর্তি সার্দান অ্যাভিনিউ-এর নার্সিংহোমে\\nভদ্র, মার্জিত, শিক্ষিত, সুন্দর, সুপুরুষ, ভালো মানুষ, সু অভিনেতা, সু পরিচালক.... এই এতগুলো বিশেষণ একটা মানুষের নামের পাশে...\\nPosted by Sudiptaa Chakraborty on Saturday, 26 December 2020\\nJanuary, 2014.. Jatin Das Park er #Akash_Aath channel er office.. Ekta manus apadmostok amake porjobekkhn korchilen.....\\nPosted by Neil Chatterjee on Saturday, 26 December 2020\\nদেবী দা তুমি থাকবে ۔۔۔ তোমার ব্যবহারে ۔۔ তোমার মজার কথায় ۔۔ তোমার কাজে ۔۔ ওম শান্তি Debidas Bhattacharyya\\nPosted by জয়জিৎ ব্যানার্জী on Saturday, 26 December 2020\\nজনপ্রিয় বাংলা ধারাবাহিক 'বৃদ্ধাশ্রম' ও 'বৃদ্ধাশ্রম ২'-এর পরিচালক ছিলেন দেবীদাস ভট্টাচার্য। বর্ষীয়ান অভিনেত্রী লিলি চক্রবর্তী বৃদ্ধাশ্রম ধারাবাহিকে কেন্দ্রীয় চরিত্রে অভিনয় করছিলেন। এছাড়াও 'তোমায় ছাড়া ঘুম আসে না মা', 'রাগে অনুরাগে' সহ একাধিক ধারাবাহিকের পরিচালক ছিলেন তিনি।\\nআরও পড়ুন-''মৃত্যুর পর আমার চিতাভস্ম গঙ্গায় ভাসিও না'', কবিতায় বললেন Kangana Ranaut\"\n",
            "dropped\n",
            "344\n",
            "Link Type\n",
            "https://dmpnews.org/%e0%a6%a5%e0%a6%be%e0%a6%b0%e0%a7%8d%e0%a6%9f%e0%a6%bf-%e0%a6%ab%e0%a6%be%e0%a6%b0%e0%a7%8d%e0%a6%b8%e0%a7%8d%e0%a6%9f-%e0%a6%a8%e0%a6%be%e0%a6%87%e0%a6%9f%e0%a6%95%e0%a7%87-%e0%a6%98%e0%a6%bf/\n",
            "Description Updated\n",
            "345\n",
            "Link Type\n",
            "https://www.banglanews24.com/information-technology/news/bd/832598.details\n"
          ],
          "name": "stdout"
        },
        {
          "output_type": "stream",
          "text": [
            "WARNING:trafilatura.core:unexpected in p: div \n",
            " \n",
            "\n"
          ],
          "name": "stderr"
        },
        {
          "output_type": "stream",
          "text": [
            "Description Updated\n",
            "346\n",
            "Link Type\n",
            "https://www.anandabazar.com/state/a-year-that-has-left-unimaginable-void-among-people-s-lives-1.1251969?utm_source=facebook&utm_medium=social&utm_campaign=daily\n",
            "Description Updated\n",
            "347\n",
            "Link Type\n",
            "https://www.somoyerkonthosor.com/2020/12/27/465876.htm\n",
            "Description Updated\n",
            "348\n",
            "Link Type\n",
            "https://www.banglanews24.com/national/news/bd/831888.details\n",
            "Description Updated\n",
            "349\n",
            "Link Type\n",
            "https://www.ittefaq.com.bd/national/210397/%E0%A6%95%E0%A6%B0%E0%A7%8B%E0%A6%A8%E0%A6%BE%E0%A7%9F-%E0%A6%86%E0%A6%B0%E0%A7%8B-%E0%A7%A8%E0%A7%A8-%E0%A6%9C%E0%A6%A8%E0%A7%87%E0%A6%B0-%E0%A6%AE%E0%A7%83%E0%A6%A4%E0%A7%8D%E0%A6%AF%E0%A7%81-%E0%A6%A8%E0%A6%A4%E0%A7%81%E0%A6%A8-%E0%A6%86%E0%A6%95%E0%A7%8D%E0%A6%B0%E0%A6%BE%E0%A6%A8%E0%A7%8D%E0%A6%A4-%E0%A7%A7%E0%A7%A8%E0%A7%A9%E0%A7%AB\n",
            "Description Updated\n",
            "350\n",
            "Link Type\n",
            "https://www.channelionline.com/%e0%a6%ac%e0%a6%9b%e0%a6%b0-%e0%a6%b6%e0%a7%87%e0%a6%b7%e0%a7%87-%e0%a6%ac%e0%a6%bf%e0%a6%b6%e0%a7%8d%e0%a6%ac-%e0%a6%ac%e0%a6%bf%e0%a6%a8%e0%a7%8b%e0%a6%a6%e0%a6%a8%e0%a7%87-%e0%a6%98%e0%a6%9f/\n"
          ],
          "name": "stdout"
        },
        {
          "output_type": "stream",
          "text": [
            "ERROR:trafilatura.core:not enough text None\n"
          ],
          "name": "stderr"
        },
        {
          "output_type": "stream",
          "text": [
            "Description Updated\n",
            "351\n",
            "Link Type\n",
            "https://zeenews.india.com/bengali/entertainment/ram-charan-tests-positive-for-coronavirus-says-he%E2%80%99s-asymptomatic-and-home-quarantined_360866.html\n",
            "Description Updated\n",
            "352\n",
            "Link Type\n",
            "https://www.somoynews.tv/pages/details/254905\n",
            "Description Updated\n",
            "353\n",
            "Status Type\n",
            "Continuing\n",
            "354\n",
            "Status Type\n",
            "Continuing\n",
            "355\n",
            "Link Type\n",
            "https://bn.mpnews.com.bd/?other_posts=%E0%A6%95%E0%A6%B0%E0%A7%8B%E0%A6%A8%E0%A6%BE%E0%A7%9F-%E0%A6%AE%E0%A6%BE%E0%A6%B0%E0%A6%BE-%E0%A6%97%E0%A7%87%E0%A6%B2%E0%A7%87%E0%A6%A8-%E0%A6%AA%E0%A7%8D%E0%A6%B0%E0%A6%A7%E0%A6%BE%E0%A6%A8\n",
            "Description Updated\n",
            "356\n",
            "Status Type\n",
            "Continuing\n",
            "357\n",
            "Link Type\n",
            "https://www.ittefaq.com.bd/national/210397/%E0%A6%95%E0%A6%B0%E0%A7%8B%E0%A6%A8%E0%A6%BE%E0%A7%9F-%E0%A6%86%E0%A6%B0%E0%A7%8B-%E0%A7%A8%E0%A7%A8-%E0%A6%9C%E0%A6%A8%E0%A7%87%E0%A6%B0-%E0%A6%AE%E0%A7%83%E0%A6%A4%E0%A7%8D%E0%A6%AF%E0%A7%81-%E0%A6%A8%E0%A6%A4%E0%A7%81%E0%A6%A8-%E0%A6%86%E0%A6%95%E0%A7%8D%E0%A6%B0%E0%A6%BE%E0%A6%A8%E0%A7%8D%E0%A6%A4-%E0%A7%A7%E0%A7%A8%E0%A7%A9%E0%A7%AB\n",
            "Description Updated\n",
            "358\n",
            "Link Type\n",
            "https://banglamirror.net/details/%E0%A6%95%E0%A6%B0%E0%A7%8B%E0%A6%A8%E0%A6%BE-%E0%A6%AA%E0%A6%B0%E0%A6%BF%E0%A6%B8%E0%A7%8D%E0%A6%A5%E0%A6%BF%E0%A6%A4%E0%A6%BF-%E0%A6%B8%E0%A7%8D%E0%A6%AC%E0%A6%BE%E0%A6%AD%E0%A6%BE%E0%A6%AC%E0%A6%BF%E0%A6%95-%E0%A6%A8%E0%A6%BE-%E0%A6%B9%E0%A6%B2%E0%A7%87-%E0%A6%B6%E0%A6%BF%E0%A6%95%E0%A7%8D%E0%A6%B7%E0%A6%BE-%E0%A6%AA%E0%A7%8D%E0%A6%B0%E0%A6%A4%E0%A6%BF%E0%A6%B7%E0%A7%8D%E0%A6%A0%E0%A6%BE%E0%A6%A8-%E0%A6%96%E0%A7%81%E0%A6%B2%E0%A6%AC%E0%A7%87-%E0%A6%A8%E0%A6%BE,-%E0%A6%AA%E0%A7%8D%E0%A6%B0%E0%A6%A7%E0%A6%BE%E0%A6%A8%E0%A6%AE%E0%A6%A8%E0%A7%8D%E0%A6%A4%E0%A7%8D%E0%A6%B0%E0%A7%80/82/\n",
            "Description Updated\n",
            "359\n",
            "Link Type\n",
            "https://www.thedailystar.net/bangla/%E0%A6%B6%E0%A7%80%E0%A6%B0%E0%A7%8D%E0%A6%B7-%E0%A6%96%E0%A6%AC%E0%A6%B0/%E0%A6%95%E0%A6%B0%E0%A7%8B%E0%A6%A8%E0%A6%BE%E0%A6%B0-%E0%A6%9C%E0%A6%BF%E0%A6%A8-%E0%A6%AC%E0%A6%BF%E0%A6%A8%E0%A7%8D%E0%A6%AF%E0%A6%BE%E0%A6%B8-%E0%A6%89%E0%A6%A8%E0%A7%8D%E0%A6%AE%E0%A7%8B%E0%A6%9A%E0%A6%A8-%E0%A6%95%E0%A6%B0%E0%A6%B2%E0%A7%87%E0%A6%A8-%E0%A6%9A%E0%A6%AC%E0%A6%BF-%E0%A6%97%E0%A6%AC%E0%A7%87%E0%A6%B7%E0%A6%95%E0%A6%B0%E0%A6%BE-194869\n",
            "Description Updated\n",
            "360\n",
            "Link Type\n",
            "https://jamuna.tv/news/194026\n",
            "Description Updated\n",
            "361\n",
            "Link Type\n",
            "https://khulnagazette.com/%e0%a6%95%e0%a6%b0%e0%a7%8b%e0%a6%a8%e0%a6%be-%e0%a6%ae%e0%a6%b9%e0%a6%be%e0%a6%ae%e0%a6%be%e0%a6%b0%e0%a6%bf%e0%a6%a4%e0%a7%87%e0%a6%93-%e0%a6%9c%e0%a6%be%e0%a6%aa%e0%a6%be%e0%a6%a8%e0%a7%87%e0%a6%b0/\n",
            "Description Updated\n",
            "362\n",
            "Link Type\n",
            "https://banglatv.tv/news/2020/12/40098/\n",
            "Description Updated\n",
            "363\n",
            "Link Type\n",
            "https://www.ekushey-tv.com/capital/news/120112#.X-svGEUyTII.facebook\n",
            "Description Updated\n",
            "364\n",
            "Link Type\n",
            "https://www.ittefaq.com.bd/national/210160/%E0%A6%9B%E0%A6%BE%E0%A6%A6%E0%A7%87%E0%A6%93-%E0%A6%A5%E0%A6%BE%E0%A6%B0%E0%A7%8D%E0%A6%9F%E0%A6%BF-%E0%A6%AB%E0%A6%BE%E0%A6%B0%E0%A7%8D%E0%A6%B8%E0%A7%8D%E0%A6%9F%E0%A7%87%E0%A6%B0-%E0%A6%85%E0%A6%A8%E0%A7%81%E0%A6%B7%E0%A7%8D%E0%A6%A0%E0%A6%BE%E0%A6%A8%E0%A7%87-%E0%A6%A8%E0%A6%BF%E0%A6%B7%E0%A7%87%E0%A6%A7%E0%A6%BE%E0%A6%9C%E0%A7%8D%E0%A6%9E%E0%A6%BE\n",
            "Description Updated\n",
            "365\n",
            "Link Type\n",
            "https://www.jugantor.com/international/379494/%E0%A6%AC%E0%A6%A8%E0%A7%8D%E0%A6%A7%E0%A7%81-%E0%A6%9A%E0%A7%80%E0%A6%A8%E0%A7%87%E0%A6%B0-%E0%A6%A4%E0%A7%88%E0%A6%B0%E0%A6%BF-%E0%A6%95%E0%A6%B0%E0%A7%8B%E0%A6%A8%E0%A6%BE-%E0%A6%9F%E0%A6%BF%E0%A6%95%E0%A6%BE-%E0%A6%95%E0%A6%BF%E0%A6%A8%E0%A6%AC%E0%A7%87-%E0%A6%AA%E0%A6%BE%E0%A6%95%E0%A6%BF%E0%A6%B8%E0%A7%8D%E0%A6%A4%E0%A6%BE%E0%A6%A8\n",
            "Description Updated\n",
            "366\n",
            "Link Type\n",
            "https://albd.org/bn/articles/news/35550/%E0%A6%95%E0%A6%B0%E0%A7%8B%E0%A6%A8%E0%A6%BE%E0%A6%95%E0%A6%BE%E0%A6%B2%E0%A7%87-%E0%A6%A1%E0%A6%BF%E0%A6%9C%E0%A6%BF%E0%A6%9F%E0%A6%BE%E0%A6%B2-%E0%A6%B8%E0%A7%87%E0%A6%AC%E0%A6%BE:-%E0%A6%86%E0%A6%93%E0%A7%9F%E0%A6%BE%E0%A6%AE%E0%A7%80-%E0%A6%B2%E0%A7%80%E0%A6%97-%E0%A6%B8%E0%A6%B0%E0%A6%95%E0%A6%BE%E0%A6%B0%E0%A7%87%E0%A6%B0-%E0%A6%85%E0%A6%A8%E0%A7%8D%E0%A6%AF%E0%A6%A4%E0%A6%AE-%E0%A6%B8%E0%A6%BE%E0%A6%AB%E0%A6%B2%E0%A7%8D%E0%A6%AF\n",
            "Description Updated\n",
            "367\n",
            "Link Type\n",
            "https://www.prothomalo.com/opinion/column/%E0%A6%95%E0%A6%B0%E0%A7%8B%E0%A6%A8%E0%A6%BE%E0%A6%AD%E0%A6%BE%E0%A6%87%E0%A6%B0%E0%A6%BE%E0%A6%B8%E0%A7%87%E0%A6%B0-%E0%A6%A8%E0%A6%A4%E0%A7%81%E0%A6%A8-%E0%A6%A7%E0%A6%B0%E0%A6%A8%E0%A6%9F%E0%A6%BF-%E0%A6%85%E0%A6%B0%E0%A7%8D%E0%A6%A5%E0%A6%A8%E0%A7%80%E0%A6%A4%E0%A6%BF%E0%A6%B0-%E0%A6%9C%E0%A6%A8%E0%A7%8D%E0%A6%AF-%E0%A6%95%E0%A6%A4%E0%A6%9F%E0%A6%BE-%E0%A6%95%E0%A7%8D%E0%A6%B7%E0%A6%A4%E0%A6%BF%E0%A6%95%E0%A6%B0\n",
            "Description Updated\n",
            "368\n",
            "Link Type\n",
            "https://www.bangla-bazaar.com/international/news/92576\n",
            "Description Updated\n",
            "369\n",
            "Link Type\n",
            "https://www.dainikshiksha.com/%E0%A6%AC%E0%A6%87-%E0%A6%AC%E0%A6%BF%E0%A6%A4%E0%A6%B0%E0%A6%A3-%E0%A6%95%E0%A6%BE%E0%A6%B0%E0%A7%8D%E0%A6%AF%E0%A6%95%E0%A7%8D%E0%A6%B0%E0%A6%AE%E0%A7%87%E0%A6%B0-%E0%A6%89%E0%A6%A6%E0%A7%8D%E0%A6%AC%E0%A7%8B%E0%A6%A7%E0%A6%A8-%E0%A6%95%E0%A6%BE%E0%A6%B2/201132/\n",
            "Description Updated\n",
            "370\n",
            "Link Type\n",
            "https://www.jagonews24.com/national/news/633085\n",
            "Description Updated\n",
            "371\n",
            "Link Type\n",
            "https://news.dailyekattor.com/59212/\n",
            "Description Updated\n",
            "372\n",
            "Link Type\n",
            "https://www.somoynews.tv/pages/details/254905\n",
            "Description Updated\n",
            "373\n",
            "Link Type\n",
            "https://banglatraffic.com/bn/%E0%A6%AE%E0%A7%81%E0%A6%B8%E0%A6%B2%E0%A6%BF%E0%A6%AE%E0%A6%A6%E0%A7%87%E0%A6%B0-%E0%A6%9C%E0%A6%A8%E0%A7%8D%E0%A6%AF-%E0%A6%95%E0%A6%B0%E0%A7%8B%E0%A6%A8%E0%A6%BE-%E0%A6%AD%E0%A7%8D%E0%A6%AF/\n",
            "Description Updated\n",
            "374\n",
            "Link Type\n",
            "https://banglawashcricket.com/2020/12/27/1589/\n",
            "Description Updated\n",
            "375\n",
            "Link Type\n",
            "https://insaf24.net/saturday-26december-dotnet-news102/\n",
            "Description Updated\n",
            "376\n",
            "Link Type\n",
            "https://ctgtimes.com/2020/12/city/22415/\n",
            "Description Updated\n",
            "377\n",
            "Status Type\n",
            "Continuing\n",
            "378\n",
            "Link Type\n",
            "https://www.anandabazar.com/national/coronavirus-update-31st-dec-96-percent-of-total-covid-19-cases-are-recovered-dgtl-1.1252125?utm_source=facebook&utm_medium=social&utm_campaign=daily\n",
            "Description Updated\n",
            "379\n",
            "Link Type\n",
            "https://bn.bdcrictime.com/%E0%A6%B8%E0%A6%BF%E0%A6%A1%E0%A6%A8%E0%A6%BF%E0%A6%B0-%E0%A6%A6%E0%A6%B0%E0%A7%8D%E0%A6%B6%E0%A6%95%E0%A6%A6%E0%A7%87%E0%A6%B0-%E0%A6%9C%E0%A7%8B%E0%A6%B0%E0%A7%87-%E0%A6%9A%E0%A6%BF%E0%A7%8E/?utm_source=google&utm_medium=organic&utm_campaign=RNAR\n",
            "Description Updated\n",
            "380\n",
            "Status Type\n",
            "Continuing\n",
            "381\n",
            "Link Type\n",
            "https://banglanews24.com/daily-chittagong/news/bd/831885.details\n",
            "Description Updated\n",
            "382\n",
            "Link Type\n",
            "https://www.thedailystar.net/bangla/%E0%A6%B6%E0%A7%80%E0%A6%B0%E0%A7%8D%E0%A6%B7-%E0%A6%96%E0%A6%AC%E0%A6%B0/%E0%A6%AC%E0%A6%BF%E0%A6%9A%E0%A6%BE%E0%A6%B0%E0%A6%AC%E0%A6%B9%E0%A6%BF%E0%A6%B0%E0%A7%8D%E0%A6%AD%E0%A7%81%E0%A6%A4-%E0%A6%B9%E0%A6%A4%E0%A7%8D%E0%A6%AF%E0%A6%BE-%E0%A7%A9%E0%A7%A6%E0%A7%A6-%E0%A6%AC%E0%A7%87%E0%A7%9C%E0%A7%87%E0%A6%9B%E0%A7%87-%E0%A6%A8%E0%A6%BE%E0%A6%B0%E0%A7%80-%E0%A6%93-%E0%A6%B6%E0%A6%BF%E0%A6%B6%E0%A7%81%E0%A6%B0-%E0%A6%AA%E0%A7%8D%E0%A6%B0%E0%A6%A4%E0%A6%BF-%E0%A6%B8%E0%A6%B9%E0%A6%BF%E0%A6%82%E0%A6%B8%E0%A6%A4%E0%A6%BE-195837\n",
            "Description Updated\n",
            "383\n",
            "Link Type\n",
            "https://www.somoynews.tv/pages/details/255181\n"
          ],
          "name": "stdout"
        },
        {
          "output_type": "stream",
          "text": [
            "WARNING:trafilatura.utils:wrong encoding detected: utf-8\n"
          ],
          "name": "stderr"
        },
        {
          "output_type": "stream",
          "text": [
            "Description Updated\n",
            "384\n",
            "Link Type\n",
            "https://dbcnews.tv/news/%E0%A7%A8%E0%A7%A6%E0%A7%A8%E0%A7%A6-%E0%A6%8F-%E0%A6%AF%E0%A7%87%E0%A6%B8%E0%A6%AC-%E0%A6%A4%E0%A6%BE%E0%A6%B0%E0%A6%95%E0%A6%BE%E0%A6%95%E0%A7%87-%E0%A6%B9%E0%A6%BE%E0%A6%B0%E0%A6%BE%E0%A6%B2-%E0%A6%AC%E0%A6%BF%E0%A6%B6%E0%A7%8D%E0%A6%AC\n",
            "Description Updated\n",
            "385\n",
            "Link Type\n",
            "https://p.dw.com/p/3nLdZ\n",
            "Description Updated\n",
            "386\n",
            "Link Type\n",
            "https://bijoytimes.com/%E0%A6%B9%E0%A6%9C%E0%A7%87-%E0%A6%97%E0%A6%BF%E0%A7%9F%E0%A7%87-%E0%A6%95%E0%A7%87%E0%A6%89-%E0%A6%95%E0%A6%B0%E0%A7%8B%E0%A6%A8%E0%A6%BE-%E0%A6%86%E0%A6%95%E0%A7%8D%E0%A6%B0%E0%A6%BE%E0%A6%A8/\n",
            "Description Updated\n",
            "387\n",
            "Link Type\n",
            "https://banglatraffic.com/bn/%E0%A6%AE%E0%A7%81%E0%A6%B8%E0%A6%B2%E0%A6%BF%E0%A6%AE%E0%A6%A6%E0%A7%87%E0%A6%B0-%E0%A6%9C%E0%A6%A8%E0%A7%8D%E0%A6%AF-%E0%A6%95%E0%A6%B0%E0%A7%8B%E0%A6%A8%E0%A6%BE-%E0%A6%AD%E0%A7%8D%E0%A6%AF/\n",
            "Description Updated\n",
            "388\n",
            "Link Type\n",
            "https://www.channelionline.com/%e0%a6%95%e0%a6%be%e0%a6%a8%e0%a6%be%e0%a6%a1%e0%a6%be%e0%a7%9f-%e0%a6%95%e0%a6%b0%e0%a7%8b%e0%a6%a8%e0%a6%be%e0%a6%b0-%e0%a6%a8%e0%a6%a4%e0%a7%81%e0%a6%a8-%e0%a6%a7%e0%a6%b0%e0%a6%a3-%e0%a6%b6/\n"
          ],
          "name": "stdout"
        },
        {
          "output_type": "stream",
          "text": [
            "ERROR:trafilatura.core:not enough text None\n"
          ],
          "name": "stderr"
        },
        {
          "output_type": "stream",
          "text": [
            "Description Updated\n",
            "389\n",
            "Link Type\n",
            "https://www.ittefaq.com.bd/worldnews/209904/%E0%A6%95%E0%A6%B0%E0%A7%8B%E0%A6%A8%E0%A6%BE-%E0%A6%A8%E0%A6%BF%E0%A7%9F%E0%A7%87-%E0%A6%AA%E0%A7%8D%E0%A6%B0%E0%A6%A4%E0%A6%BF%E0%A6%AC%E0%A7%87%E0%A6%A6%E0%A6%A8-%E0%A6%9A%E0%A7%80%E0%A6%A8%E0%A6%BE-%E0%A6%B8%E0%A6%BE%E0%A6%82%E0%A6%AC%E0%A6%BE%E0%A6%A6%E0%A6%BF%E0%A6%95%E0%A7%87%E0%A6%B0-%E0%A7%AA-%E0%A6%AC%E0%A6%9B%E0%A6%B0%E0%A7%87%E0%A6%B0-%E0%A6%9C%E0%A7%87%E0%A6%B2\n",
            "Description Updated\n",
            "390\n",
            "Status Type\n",
            "Continuing\n",
            "391\n",
            "Link Type\n",
            "https://www.banglanews24.com/saltamami/news/bd/832348.details\n",
            "Description Updated\n",
            "392\n",
            "Status Type\n",
            "Continuing\n",
            "393\n",
            "Link Type\n",
            "https://dbcnews.tv/news/%E0%A6%9C%E0%A7%81%E0%A6%A8%E0%A7%87-%E0%A6%8F%E0%A6%B8%E0%A6%8F%E0%A6%B8%E0%A6%B8%E0%A6%BF-%E0%A6%9C%E0%A7%81%E0%A6%B2%E0%A6%BE%E0%A6%87-%E0%A6%86%E0%A6%97%E0%A6%B8%E0%A7%8D%E0%A6%9F%E0%A7%87-%E0%A6%8F%E0%A6%87%E0%A6%9A%E0%A6%8F%E0%A6%B8%E0%A6%B8%E0%A6%BF\n",
            "Description Updated\n",
            "394\n",
            "Link Type\n",
            "https://www.somoynews.tv/pages/details/254823\n",
            "Description Updated\n",
            "395\n",
            "Status Type\n",
            "Continuing\n",
            "396\n",
            "Status Type\n",
            "Continuing\n",
            "397\n",
            "Link Type\n",
            "https://www.channel24bd.tv/international/article/157279/%E0%A6%85%E0%A6%AC%E0%A6%B6%E0%A7%87%E0%A6%B7%E0%A7%87-%E0%A6%95%E0%A6%B0%E0%A7%8B%E0%A6%A8%E0%A6%BE-%E0%A6%AA%E0%A7%8D%E0%A6%B0%E0%A6%A3%E0%A7%8B%E0%A6%A6%E0%A6%A8%E0%A6%BE-%E0%A6%AC%E0%A6%BF%E0%A6%B2%E0%A7%87-%E0%A6%9F%E0%A7%8D%E0%A6%B0%E0%A6%BE%E0%A6%AE%E0%A7%8D%E0%A6%AA%E0%A7%87%E0%A6%B0-%E0%A6%B8%E0%A6%87\n",
            "Description Updated\n",
            "398\n",
            "Link Type\n",
            "https://ctgtimes.com/2020/12/national/22350/\n",
            "Description Updated\n",
            "399\n",
            "Link Type\n",
            "https://bn.mpnews.com.bd/?other_posts=%E0%A6%B2%E0%A6%A8%E0%A7%8D%E0%A6%A1%E0%A6%A8-%E0%A6%A5%E0%A7%87%E0%A6%95%E0%A7%87-%E0%A6%A6%E0%A7%87%E0%A6%B6%E0%A7%87-%E0%A6%AB%E0%A6%BF%E0%A6%B0%E0%A6%B2%E0%A7%87%E0%A6%87-%E0%A7%A7%E0%A7%AA\n",
            "Description Updated\n",
            "400\n",
            "Link Type\n",
            "https://www.somoynews.tv/pages/details/254839\n",
            "Description Updated\n",
            "401\n",
            "Status Type\n",
            "Continuing\n",
            "402\n",
            "Link Type\n",
            "https://www.bd-pratidin.com/city-news/2020/12/31/603002\n",
            "Description Updated\n",
            "403\n",
            "Link Type\n",
            "https://www.anandabazar.com/national/coronavirus-update-29th-dec-new-covid-19-cases-in-india-is-16432-dgtl-1.1251055?utm_source=facebook&utm_medium=social&utm_campaign=daily\n",
            "Description Updated\n",
            "404\n",
            "Link Type\n",
            "https://www.ntvbd.com/entertainment/%E0%A6%95%E0%A6%B0%E0%A7%8B%E0%A6%A8%E0%A6%BE-%E0%A6%A5%E0%A7%87%E0%A6%95%E0%A7%87-%E0%A6%AE%E0%A7%81%E0%A6%95%E0%A7%8D%E0%A6%A4%E0%A6%BF%E0%A6%B0-%E0%A6%AA%E0%A6%B0-%E0%A6%A4%E0%A6%B0-%E0%A6%B8%E0%A6%87%E0%A6%9B%E0%A7%87-%E0%A6%A8%E0%A6%BE-%E0%A6%B0%E0%A6%BE%E0%A6%95%E0%A7%81%E0%A6%B2%E0%A7%87%E0%A6%B0-847169\n",
            "Description Updated\n",
            "405\n",
            "Status Type\n",
            "Continuing\n",
            "406\n",
            "Link Type\n",
            "https://ctgtimes.com/2020/12/city/22371/\n",
            "Description Updated\n",
            "407\n",
            "Link Type\n",
            "https://news.bd24report.com/post/%e0%a6%8f%e0%a6%ac%e0%a6%be%e0%a6%b0-%e0%a6%a8%e0%a6%a4%e0%a7%81%e0%a6%a8-%e0%a6%a7%e0%a6%b0%e0%a6%a8%e0%a7%87%e0%a6%b0-%e0%a6%95%e0%a6%b0%e0%a7%8b%e0%a6%a8%e0%a6%be-%e0%a6%ae%e0%a6%bf%e0%a6%b2/\n",
            "Description Updated\n",
            "408\n",
            "Link Type\n",
            "https://www.somoynews.tv/pages/details/255252\n",
            "Description Updated\n",
            "409\n",
            "Link Type\n",
            "https://www.thedailystar.net/bangla/%E0%A6%B6%E0%A7%80%E0%A6%B0%E0%A7%8D%E0%A6%B7-%E0%A6%96%E0%A6%AC%E0%A6%B0/%E0%A6%95%E0%A6%B0%E0%A7%8B%E0%A6%A8%E0%A6%BE%E0%A6%B0-%E0%A6%9C%E0%A6%BF%E0%A6%A8-%E0%A6%AC%E0%A6%BF%E0%A6%A8%E0%A7%8D%E0%A6%AF%E0%A6%BE%E0%A6%B8-%E0%A6%89%E0%A6%A8%E0%A7%8D%E0%A6%AE%E0%A7%8B%E0%A6%9A%E0%A6%A8-%E0%A6%95%E0%A6%B0%E0%A6%B2%E0%A7%87%E0%A6%A8-%E0%A6%9A%E0%A6%AC%E0%A6%BF-%E0%A6%97%E0%A6%AC%E0%A7%87%E0%A6%B7%E0%A6%95%E0%A6%B0%E0%A6%BE-194869\n",
            "Description Updated\n",
            "410\n",
            "Link Type\n",
            "https://banglanews24.com/education/news/bd/832353.details\n",
            "Description Updated\n",
            "411\n",
            "Link Type\n",
            "https://newsnow24.com/%e0%a6%aa%e0%a7%8d%e0%a6%b0%e0%a6%bf%e0%a7%9f-%e0%a6%9a%e0%a6%9f%e0%a7%8d%e0%a6%9f%e0%a6%97%e0%a7%8d%e0%a6%b0%e0%a6%be%e0%a6%ae/%e0%a6%a1%e0%a6%be-%e0%a6%ac%e0%a6%bf%e0%a6%a6%e0%a7%8d%e0%a6%af%e0%a7%81%e0%a7%8e-%e0%a6%ac%e0%a7%9c%e0%a7%81%e0%a7%9f%e0%a6%be%e0%a6%95%e0%a7%87-%e0%a6%b8%e0%a6%ae%e0%a7%8d%e0%a6%ae%e0%a6%be%e0%a6%a8%e0%a6%a8%e0%a6%be-%e0%a6%a6%e0%a6%bf%e0%a6%b2-%e0%a6%b0%e0%a7%8b%e0%a6%9f%e0%a6%be%e0%a6%b0%e0%a6%bf-%e0%a6%95%e0%a7%8d%e0%a6%b2%e0%a6%be%e0%a6%ac-%e0%a6%9a%e0%a6%bf%e0%a6%9f%e0%a6%be%e0%a6%97%e0%a6%82/\n"
          ],
          "name": "stdout"
        },
        {
          "output_type": "stream",
          "text": [
            "ERROR:trafilatura.core:not enough text None\n"
          ],
          "name": "stderr"
        },
        {
          "output_type": "stream",
          "text": [
            "Description Updated\n",
            "412\n",
            "Link Type\n",
            "https://www.ittefaq.com.bd/corona/210619/%E0%A6%AB%E0%A6%BE%E0%A6%87%E0%A6%9C%E0%A6%BE%E0%A6%B0%E0%A7%87%E0%A6%B0-%E0%A6%AD%E0%A7%8D%E0%A6%AF%E0%A6%BE%E0%A6%95%E0%A6%B8%E0%A6%BF%E0%A6%A8-\n",
            "Description Updated\n",
            "413\n",
            "Link Type\n",
            "https://agamirbarta.com/archives/11005\n",
            "Description Updated\n",
            "414\n",
            "Status Type\n",
            "Continuing\n",
            "415\n",
            "Link Type\n",
            "https://www.jugantor.com/international/379143/%E0%A6%AB%E0%A6%BE%E0%A6%87%E0%A6%9C%E0%A6%BE%E0%A6%B0%E0%A7%87%E0%A6%B0-%E0%A6%9F%E0%A6%BF%E0%A6%95%E0%A6%BE-%E0%A6%A8%E0%A7%87%E0%A7%9F%E0%A6%BE%E0%A6%B0-%E0%A6%8F%E0%A6%95-%E0%A6%B8%E0%A6%AA%E0%A7%8D%E0%A6%A4%E0%A6%BE%E0%A6%B9-%E0%A6%AA%E0%A6%B0-%E0%A6%A8%E0%A6%BE%E0%A6%B0%E0%A7%8D%E0%A6%B8%E0%A7%87%E0%A6%B0-%E0%A6%95%E0%A6%B0%E0%A7%8B%E0%A6%A8%E0%A6%BE-%E0%A6%AA%E0%A6%9C%E0%A6%BF%E0%A6%9F%E0%A6%BF%E0%A6%AD\n",
            "Description Updated\n",
            "416\n",
            "Status Type\n",
            "Continuing\n",
            "417\n",
            "Link Type\n",
            "https://www.dailyinqilab.com/article/345852/%E0%A6%87%E0%A6%89%E0%A6%B0%E0%A7%8B%E0%A6%AA%E0%A7%87-%E0%A6%AD%E0%A7%8D%E0%A6%AF%E0%A6%BE%E0%A6%95%E0%A6%B8%E0%A6%BF%E0%A6%A8-%E0%A6%AA%E0%A7%8D%E0%A6%B0%E0%A6%A6%E0%A6%BE%E0%A6%A8-%E0%A6%B6%E0%A7%81%E0%A6%B0%E0%A7%81-%E0%A6%A6%E0%A7%87%E0%A7%9F%E0%A6%BE-%E0%A6%B9%E0%A6%AC%E0%A7%87-%E0%A7%AA%E0%A7%AB-%E0%A6%95%E0%A7%8B%E0%A6%9F%E0%A6%BF-%E0%A6%AE%E0%A6%BE%E0%A6%A8%E0%A7%81%E0%A6%B7%E0%A6%95%E0%A7%87\n",
            "Description Updated\n",
            "418\n",
            "Link Type\n",
            "https://www.somoynews.tv/pages/details/254932\n",
            "Description Updated\n",
            "419\n",
            "Link Type\n",
            "https://www.prothomalo.com/education/science-tech/%E0%A6%95%E0%A6%B0%E0%A7%8B%E0%A6%A8%E0%A6%BE-%E0%A6%B9%E0%A6%B2%E0%A7%87%E0%A6%93-%E0%A6%9F%E0%A6%BF%E0%A6%95%E0%A6%BE-%E0%A6%A8%E0%A6%BF%E0%A6%B2%E0%A7%87-%E0%A6%95%E0%A6%BF-%E0%A6%95%E0%A7%8D%E0%A6%B7%E0%A6%A4%E0%A6%BF-%E0%A6%B9%E0%A6%A4%E0%A7%87-%E0%A6%AA%E0%A6%BE%E0%A6%B0%E0%A7%87\n",
            "Description Updated\n",
            "420\n",
            "Status Type\n",
            "Continuing\n",
            "421\n",
            "Link Type\n",
            "https://www.dailynayadiganta.com/subcontinent/552522/%E0%A6%AD%E0%A7%81%E0%A6%B2-%E0%A6%95%E0%A6%B0%E0%A7%87%E0%A6%93-%E0%A6%95%E0%A6%B0%E0%A7%8B%E0%A6%A8%E0%A6%BE-%E0%A6%AD%E0%A7%8D%E0%A6%AF%E0%A6%BE%E0%A6%95%E0%A6%B8%E0%A6%BF%E0%A6%A8%E0%A7%87%E0%A6%B0-%E0%A6%8F%E0%A6%87-%E0%A6%B8%E0%A7%8D%E0%A6%95%E0%A6%BF%E0%A6%AE%E0%A7%87%E0%A6%B0-%E0%A6%AB%E0%A6%BE%E0%A6%81%E0%A6%A6%E0%A7%87-%E0%A6%AA%E0%A6%BE-%E0%A6%A6%E0%A7%87%E0%A6%AC%E0%A7%87%E0%A6%A8-%E0%A6%A8%E0%A6%BE\n",
            "Description Updated\n",
            "422\n",
            "Link Type\n",
            "http://www.independent24.com/details/69052/%E0%A6%85%E0%A6%95%E0%A7%8D%E0%A6%B8%E0%A6%AB%E0%A7%8B%E0%A6%B0%E0%A7%8D%E0%A6%A1%E0%A7%87%E0%A6%B0%20%E0%A6%9F%E0%A6%BF%E0%A6%95%E0%A6%BE%20%E0%A6%85%E0%A6%A8%E0%A7%81%E0%A6%AE%E0%A7%8B%E0%A6%A6%E0%A6%A8%20%E0%A6%AA%E0%A7%87%E0%A6%B2%20%E0%A6%AF%E0%A7%81%E0%A6%95%E0%A7%8D%E0%A6%A4%E0%A6%B0%E0%A6%BE%E0%A6%9C%E0%A7%8D%E0%A6%AF%E0%A7%87\n",
            "Description Updated\n",
            "423\n",
            "Link Type\n",
            "https://www.dailynayadiganta.com/international-organizations/552230/%E0%A6%B8%E0%A6%BE%E0%A6%AE%E0%A6%A8%E0%A7%87-%E0%A6%86%E0%A6%B0%E0%A7%8B-%E0%A6%AC%E0%A7%9C-%E0%A6%AE%E0%A6%B9%E0%A6%BE%E0%A6%AE%E0%A6%BE%E0%A6%B0%E0%A6%BF-%E0%A6%86%E0%A6%B8%E0%A6%A4%E0%A7%87-%E0%A6%AA%E0%A6%BE%E0%A6%B0%E0%A7%87-%E0%A6%A1%E0%A6%AC%E0%A7%8D%E0%A6%B2%E0%A6%BF%E0%A6%93%E0%A6%8F%E0%A6%87%E0%A6%9A%E0%A6%93\n",
            "Description Updated\n",
            "424\n",
            "Link Type\n",
            "https://amramoulvibazari.com/%E0%A6%B9%E0%A6%9C-%E0%A6%93-%E0%A6%93%E0%A6%AE%E0%A6%B0%E0%A6%BE%E0%A6%B9-%E0%A6%AA%E0%A6%BE%E0%A6%B2%E0%A6%A8-%E0%A6%95%E0%A6%B0%E0%A6%A4%E0%A7%87-%E0%A6%97%E0%A6%BF%E0%A7%9F%E0%A7%87-%E0%A6%95/\n",
            "Description Updated\n",
            "425\n",
            "Link Type\n",
            "https://albd.org/bn/articles/news/35556/%E0%A6%B6%E0%A6%A4-%E0%A6%AA%E0%A7%8D%E0%A6%B0%E0%A6%A4%E0%A6%BF%E0%A6%95%E0%A7%82%E0%A6%B2%E0%A6%A4%E0%A6%BE%E0%A7%9F%E0%A6%93-%E0%A6%8F%E0%A6%97%E0%A6%BF%E0%A7%9F%E0%A7%87-%E0%A6%AF%E0%A6%BE%E0%A6%9A%E0%A7%8D%E0%A6%9B%E0%A7%87-%E0%A6%A6%E0%A7%87%E0%A6%B6%E0%A6%83-%E0%A6%B8%E0%A6%BE%E0%A6%AB%E0%A6%B2%E0%A7%8D%E0%A6%AF%E0%A7%87%E0%A6%B0-%E0%A6%AE%E0%A7%82%E0%A6%B2%E0%A7%87-%E0%A6%AA%E0%A7%8D%E0%A6%B0%E0%A6%A7%E0%A6%BE%E0%A6%A8%E0%A6%AE%E0%A6%A8%E0%A7%8D%E0%A6%A4%E0%A7%8D%E0%A6%B0%E0%A7%80-%E0%A6%B6%E0%A7%87%E0%A6%96-%E0%A6%B9%E0%A6%BE%E0%A6%B8%E0%A6%BF%E0%A6%A8%E0%A6%BE%E0%A6%B0-%E0%A6%AC%E0%A6%BF%E0%A6%9A%E0%A6%95%E0%A7%8D%E0%A6%B7%E0%A6%A3-%E0%A6%A8%E0%A7%87%E0%A6%A4%E0%A7%83%E0%A6%A4%E0%A7%8D%E0%A6%AC\n",
            "Description Updated\n",
            "426\n",
            "Link Type\n",
            "https://www.somoynews.tv/pages/details/255627\n",
            "Description Updated\n",
            "427\n",
            "Link Type\n",
            "https://banglanews24.com/national/news/bd/831914.details\n"
          ],
          "name": "stdout"
        },
        {
          "output_type": "stream",
          "text": [
            "WARNING:trafilatura.core:unexpected in p: div \n",
            " \n",
            "\n"
          ],
          "name": "stderr"
        },
        {
          "output_type": "stream",
          "text": [
            "Description Updated\n",
            "428\n",
            "Status Type\n",
            "Continuing\n",
            "429\n",
            "Link Type\n",
            "https://greenbangladesh24.com/%E0%A6%AE%E0%A7%81%E0%A6%B8%E0%A6%B2%E0%A6%BF%E0%A6%AE%E0%A6%A6%E0%A7%87%E0%A6%B0-%E0%A6%9C%E0%A6%A8%E0%A7%8D%E0%A6%AF-%E0%A6%95%E0%A6%B0%E0%A7%8B%E0%A6%A8%E0%A6%BE-%E0%A6%AD%E0%A7%8D%E0%A6%AF/\n",
            "Description Updated\n",
            "430\n",
            "Link Type\n",
            "https://www.ittefaq.com.bd/covid19-update/209683/%E0%A6%95%E0%A6%B0%E0%A7%8B%E0%A6%A8%E0%A6%BE%E0%A7%9F-%E0%A6%86%E0%A6%B0%E0%A7%8B-%E0%A7%A8%E0%A7%AA-%E0%A6%9C%E0%A6%A8%E0%A7%87%E0%A6%B0-%E0%A6%AE%E0%A7%83%E0%A6%A4%E0%A7%8D%E0%A6%AF%E0%A7%81-%E0%A7%A7%E0%A7%A6%E0%A7%AA%E0%A7%AF\n",
            "Description Updated\n",
            "431\n",
            "Link Type\n",
            "http://www.independent24.com/details/69034/%E0%A6%AB%E0%A6%BF%E0%A6%B0%E0%A7%87%20%E0%A6%A6%E0%A7%87%E0%A6%96%E0%A6%BE%20%E0%A7%A8%E0%A7%A6%E0%A7%A8%E0%A7%A6:%20%E0%A6%A6%E0%A7%87%E0%A6%B6%E0%A7%87%20%E0%A6%87%E0%A6%A4%E0%A6%BF%E0%A6%B9%E0%A6%BE%E0%A6%B8%E0%A7%87%E0%A6%B0%20%E0%A6%AA%E0%A7%8D%E0%A6%B0%E0%A6%A5%E0%A6%AE%20%E0%A6%AD%E0%A6%BE%E0%A6%B0%E0%A7%8D%E0%A6%9A%E0%A7%81%E0%A7%9F%E0%A6%BE%E0%A6%B2%20%E0%A6%86%E0%A6%A6%E0%A6%BE%E0%A6%B2%E0%A6%A4\n",
            "Description Updated\n",
            "432\n",
            "Link Type\n",
            "https://m.dainikshiksha.com/%E0%A6%95%E0%A6%B0%E0%A7%8B%E0%A6%A8%E0%A6%BE-%E0%A6%AA%E0%A6%B0%E0%A6%BF%E0%A6%B8%E0%A7%8D%E0%A6%A5%E0%A6%BF%E0%A6%A4%E0%A6%BF-%E0%A6%85%E0%A6%A8%E0%A7%81%E0%A6%95%E0%A7%82%E0%A6%B2%E0%A7%87-%E0%A6%A8%E0%A6%BE-%E0%A6%86%E0%A6%B8%E0%A6%B2%E0%A7%87-%E0%A6%B6%E0%A6%BF%E0%A6%95%E0%A7%8D%E0%A6%B7%E0%A6%BE%E0%A6%AA%E0%A7%8D%E0%A6%B0%E0%A6%A4%E0%A6%BF%E0%A6%B7%E0%A7%8D%E0%A6%A0%E0%A6%BE%E0%A6%A8-%E0%A6%96%E0%A7%8B%E0%A6%B2%E0%A6%BE-%E0%A6%B9%E0%A6%AC%E0%A7%87-%E0%A6%A8%E0%A6%BE-%E0%A6%AA%E0%A7%8D%E0%A6%B0%E0%A6%A7%E0%A6%BE%E0%A6%A8%E0%A6%AE%E0%A6%A8%E0%A7%8D%E0%A6%A4%E0%A7%8D%E0%A6%B0%E0%A7%80/201172/\n",
            "Description Updated\n",
            "433\n",
            "Link Type\n",
            "https://www.jagonews24.com/international/news/632867\n",
            "Description Updated\n",
            "434\n",
            "Link Type\n",
            "http://www.onebanglanews.com/news/136648\n",
            "Description Updated\n",
            "435\n",
            "Link Type\n",
            "https://thedailycampus.com/health-and-life/60156/%E0%A6%95%E0%A6%B0%E0%A7%8B%E0%A6%A8%E0%A6%BE%E0%A7%9F-%E0%A6%AA%E0%A7%8D%E0%A6%B0%E0%A6%BE%E0%A6%A3-%E0%A6%97%E0%A7%87%E0%A6%B2-%E0%A6%89%E0%A6%A4%E0%A7%8D%E0%A6%A4%E0%A6%B0%E0%A6%BE-%E0%A6%AC%E0%A6%BF%E0%A6%B6%E0%A7%8D%E0%A6%AC%E0%A6%AC%E0%A6%BF%E0%A6%A6%E0%A7%8D%E0%A6%AF%E0%A6%BE%E0%A6%B2%E0%A7%9F-%E0%A6%B6%E0%A6%BF%E0%A6%95%E0%A7%8D%E0%A6%B7%E0%A6%95%E0%A7%87%E0%A6%B0\n",
            "Description Updated\n",
            "436\n",
            "Link Type\n",
            "https://dbcnews.tv/news/%E0%A7%A8%E0%A7%A6%E0%A7%A8%E0%A7%A6-%E0%A6%B8%E0%A6%BE%E0%A6%B2-%E0%A6%9C%E0%A7%81%E0%A7%9C%E0%A7%87%E0%A6%87-%E0%A6%86%E0%A6%B2%E0%A7%8B%E0%A6%9A%E0%A6%A8%E0%A6%BE%E0%A7%9F-%E0%A6%9B%E0%A6%BF%E0%A6%B2%E0%A7%8B-%E0%A6%B8%E0%A7%8D%E0%A6%AC%E0%A6%BE%E0%A6%B8%E0%A7%8D%E0%A6%A5%E0%A7%8D%E0%A6%AF-%E0%A6%AC%E0%A6%BF%E0%A6%AD%E0%A6%BE%E0%A6%97%E0%A7%87%E0%A6%B0-%E0%A6%A8%E0%A6%BE%E0%A6%A8%E0%A6%BE-%E0%A6%85%E0%A6%A8%E0%A6%BF%E0%A7%9F%E0%A6%AE-%E0%A6%A6%E0%A7%81%E0%A6%B0%E0%A7%8D%E0%A6%A8%E0%A7%80%E0%A6%A4%E0%A6%BF\n",
            "Description Updated\n",
            "437\n",
            "Link Type\n",
            "https://www.somoynews.tv/pages/details/255050\n"
          ],
          "name": "stdout"
        },
        {
          "output_type": "stream",
          "text": [
            "WARNING:trafilatura.utils:wrong encoding detected: utf-8\n"
          ],
          "name": "stderr"
        },
        {
          "output_type": "stream",
          "text": [
            "Description Updated\n",
            "438\n",
            "Link Type\n",
            "https://www.somoynews.tv/pages/details/255689\n",
            "Description Updated\n",
            "439\n",
            "Link Type\n",
            "https://www.bd24live.com/bangla/%E0%A6%A8%E0%A6%BF%E0%A6%B0%E0%A7%8D%E0%A6%A7%E0%A6%BE%E0%A6%B0%E0%A6%BF%E0%A6%A4-%E0%A6%B8%E0%A6%AE%E0%A7%9F%E0%A7%87-%E0%A6%B9%E0%A6%9A%E0%A7%8D%E0%A6%9B%E0%A7%87-%E0%A6%A8%E0%A6%BE-%E0%A6%AC/\n",
            "Description Updated\n",
            "440\n",
            "Link Type\n",
            "https://iman24.com/%E0%A7%AB%E0%A7%A6-%E0%A6%B2%E0%A6%95%E0%A7%8D%E0%A6%B7-%E0%A6%93%E0%A6%AE%E0%A6%B0%E0%A6%BE%E0%A6%95%E0%A6%BE%E0%A6%B0%E0%A7%80%E0%A6%B0-%E0%A6%95%E0%A7%87%E0%A6%89-%E0%A6%95%E0%A6%B0%E0%A7%8B/\n",
            "Description Updated\n",
            "441\n",
            "Link Type\n",
            "https://www.somoynews.tv/pages/details/255173\n"
          ],
          "name": "stdout"
        },
        {
          "output_type": "stream",
          "text": [
            "WARNING:trafilatura.utils:wrong encoding detected: utf-8\n"
          ],
          "name": "stderr"
        },
        {
          "output_type": "stream",
          "text": [
            "Description Updated\n",
            "442\n",
            "Link Type\n",
            "https://www.jugantor.com/national/378426/%E0%A6%95%E0%A6%B0%E0%A7%8B%E0%A6%A8%E0%A6%BE%E0%A7%9F-%E0%A6%AA%E0%A7%8D%E0%A6%B0%E0%A6%A7%E0%A6%BE%E0%A6%A8%E0%A6%AE%E0%A6%A8%E0%A7%8D%E0%A6%A4%E0%A7%8D%E0%A6%B0%E0%A7%80%E0%A6%B0-%E0%A6%89%E0%A6%AA%E0%A6%A6%E0%A7%87%E0%A6%B7%E0%A7%8D%E0%A6%9F%E0%A6%BE-%E0%A6%AE%E0%A6%B8%E0%A6%BF%E0%A6%89%E0%A6%B0-%E0%A6%B0%E0%A6%B9%E0%A6%AE%E0%A6%BE%E0%A6%A8%E0%A7%87%E0%A6%B0-%E0%A6%B8%E0%A7%8D%E0%A6%A4%E0%A7%8D%E0%A6%B0%E0%A7%80%E0%A6%B0-%E0%A6%AE%E0%A7%83%E0%A6%A4%E0%A7%8D%E0%A6%AF%E0%A7%81\n",
            "Description Updated\n",
            "443\n",
            "Link Type\n",
            "https://timesbd20.com/archives/17073\n"
          ],
          "name": "stdout"
        },
        {
          "output_type": "stream",
          "text": [
            "ERROR:trafilatura.utils:retries/redirects: https://timesbd20.com/archives/17073 HTTPSConnectionPool(host='timesbd20.com', port=443): Max retries exceeded with url: /archives/17073 (Caused by SSLError(SSLCertVerificationError(1, '[SSL: CERTIFICATE_VERIFY_FAILED] certificate verify failed: certificate has expired (_ssl.c:1091)')))\n",
            "ERROR:trafilatura.utils:parsing failed: Document is empty\n"
          ],
          "name": "stderr"
        },
        {
          "output_type": "stream",
          "text": [
            "HTTPSConnectionPool(host='timesbd20.com', port=443): Max retries exceeded with url: /archives/17073 (Caused by SSLError(SSLCertVerificationError(1, '[SSL: CERTIFICATE_VERIFY_FAILED] certificate verify failed: certificate has expired (_ssl.c:1091)')))\n",
            "dropped\n",
            "444\n",
            "Link Type\n",
            "https://www.ittefaq.com.bd/worldnews/209678/%E0%A6%8F%E0%A6%AC%E0%A6%BE%E0%A6%B0-%E0%A6%95%E0%A6%BE%E0%A6%A8%E0%A6%BE%E0%A6%A1%E0%A6%BE%E0%A6%A4%E0%A7%87%E0%A6%93-%E0%A6%A8%E0%A6%A4%E0%A7%81%E0%A6%A8-%E0%A6%95%E0%A6%B0%E0%A7%8B%E0%A6%A8%E0%A6%BE-%E0%A6%AD%E0%A6%BE%E0%A6%87%E0%A6%B0%E0%A6%BE%E0%A6%B8\n",
            "Description Updated\n",
            "445\n",
            "Link Type\n",
            "https://iman24.com/%E0%A7%AB%E0%A7%A6-%E0%A6%B2%E0%A6%95%E0%A7%8D%E0%A6%B7-%E0%A6%93%E0%A6%AE%E0%A6%B0%E0%A6%BE%E0%A6%95%E0%A6%BE%E0%A6%B0%E0%A7%80%E0%A6%B0-%E0%A6%95%E0%A7%87%E0%A6%89-%E0%A6%95%E0%A6%B0%E0%A7%8B/\n",
            "Description Updated\n",
            "446\n",
            "Status Type\n",
            "Continuing\n",
            "447\n",
            "Link Type\n",
            "https://www.dailyinqilab.com/article/345850/%E0%A6%9B%E0%A6%BE%E0%A6%A4%E0%A6%95-%E0%A6%B8%E0%A6%BF%E0%A6%B2%E0%A7%87%E0%A6%9F-%E0%A6%B0%E0%A7%87%E0%A6%B2%E0%A6%AA%E0%A6%A5%E0%A7%87-%E0%A7%AF-%E0%A6%AE%E0%A6%BE%E0%A6%B8-%E0%A6%A7%E0%A6%B0%E0%A7%87-%E0%A6%AC%E0%A6%A8%E0%A7%8D%E0%A6%A7-%E0%A6%9F%E0%A7%8D%E0%A6%B0%E0%A7%87%E0%A6%A8\n",
            "Description Updated\n",
            "448\n",
            "Link Type\n",
            "https://www.channelionline.com/%e0%a6%95%e0%a6%95%e0%a7%8d%e0%a6%b8%e0%a6%ac%e0%a6%be%e0%a6%9c%e0%a6%be%e0%a6%b0-%e0%a6%b8%e0%a7%88%e0%a6%95%e0%a6%a4%e0%a7%87-%e0%a7%a8%e0%a7%a6%e0%a7%a8%e0%a7%a6-%e0%a6%b8%e0%a6%be%e0%a6%b2/\n"
          ],
          "name": "stdout"
        },
        {
          "output_type": "stream",
          "text": [
            "ERROR:trafilatura.core:not enough text None\n"
          ],
          "name": "stderr"
        },
        {
          "output_type": "stream",
          "text": [
            "Description Updated\n",
            "449\n",
            "Status Type\n",
            "Continuing\n",
            "450\n",
            "Link Type\n",
            "https://www.risingbd.com/economics/corporate-corner/386872\n",
            "Description Updated\n",
            "451\n",
            "Link Type\n",
            "https://timesbd20.com/archives/16911\n"
          ],
          "name": "stdout"
        },
        {
          "output_type": "stream",
          "text": [
            "ERROR:trafilatura.utils:retries/redirects: https://timesbd20.com/archives/16911 HTTPSConnectionPool(host='timesbd20.com', port=443): Max retries exceeded with url: /archives/16911 (Caused by SSLError(SSLCertVerificationError(1, '[SSL: CERTIFICATE_VERIFY_FAILED] certificate verify failed: certificate has expired (_ssl.c:1091)')))\n",
            "ERROR:trafilatura.utils:parsing failed: Document is empty\n"
          ],
          "name": "stderr"
        },
        {
          "output_type": "stream",
          "text": [
            "HTTPSConnectionPool(host='timesbd20.com', port=443): Max retries exceeded with url: /archives/16911 (Caused by SSLError(SSLCertVerificationError(1, '[SSL: CERTIFICATE_VERIFY_FAILED] certificate verify failed: certificate has expired (_ssl.c:1091)')))\n",
            "dropped\n",
            "452\n",
            "Link Type\n",
            "https://enews.bd24report.com/2020/12/31/%e0%a6%b8%e0%a6%a8%e0%a7%8d%e0%a6%a7%e0%a7%8d%e0%a6%af%e0%a6%be%e0%a6%b0-%e0%a6%aa%e0%a6%b0-%e0%a6%b9%e0%a6%be%e0%a6%a4%e0%a6%bf%e0%a6%b0%e0%a6%9d%e0%a6%bf%e0%a6%b2%e0%a7%87-%e0%a6%af%e0%a6%be/\n",
            "Description Updated\n",
            "453\n",
            "Link Type\n",
            "https://www.thedailystar.net/bangla/%E0%A6%B6%E0%A7%80%E0%A6%B0%E0%A7%8D%E0%A6%B7-%E0%A6%96%E0%A6%AC%E0%A6%B0/%E0%A6%95%E0%A6%B0%E0%A7%8B%E0%A6%A8%E0%A6%BE-%E0%A6%AA%E0%A6%B0%E0%A6%BF%E0%A6%B8%E0%A7%8D%E0%A6%A5%E0%A6%BF%E0%A6%A4%E0%A6%BF%E0%A6%B0-%E0%A6%89%E0%A6%A8%E0%A7%8D%E0%A6%A8%E0%A6%A4%E0%A6%BF-%E0%A6%A8%E0%A6%BE-%E0%A6%B9%E0%A6%B2%E0%A7%87-%E0%A6%B6%E0%A6%BF%E0%A6%95%E0%A7%8D%E0%A6%B7%E0%A6%BE%E0%A6%AA%E0%A7%8D%E0%A6%B0%E0%A6%A4%E0%A6%BF%E0%A6%B7%E0%A7%8D%E0%A6%A0%E0%A6%BE%E0%A6%A8-%E0%A6%96%E0%A7%81%E0%A6%B2%E0%A6%AC%E0%A7%87-%E0%A6%A8%E0%A6%BE-%E0%A6%AA%E0%A7%8D%E0%A6%B0%E0%A6%A7%E0%A6%BE%E0%A6%A8%E0%A6%AE%E0%A6%A8%E0%A7%8D%E0%A6%A4%E0%A7%8D%E0%A6%B0%E0%A7%80-195745\n",
            "Description Updated\n",
            "454\n",
            "Link Type\n",
            "https://bongtrend.com/husband-went-to-work-in-lockdown-the-mother-of-three-pooja-devi-is-driving-the-bus/\n",
            "Description Updated\n",
            "455\n",
            "Link Type\n",
            "https://www.somoynews.tv/pages/details/255691\n",
            "Description Updated\n",
            "456\n",
            "Link Type\n",
            "https://www.gulfbangla.com/news/8040\n"
          ],
          "name": "stdout"
        },
        {
          "output_type": "stream",
          "text": [
            "WARNING:trafilatura.metadata:no main title found\n",
            "WARNING:trafilatura.metadata:no h2 title found\n",
            "ERROR:trafilatura.core:not enough text None\n"
          ],
          "name": "stderr"
        },
        {
          "output_type": "stream",
          "text": [
            "Description Updated\n",
            "457\n",
            "Status Type\n",
            "Continuing\n",
            "458\n",
            "Link Type\n",
            "https://www.jugantor.com/international/379498/%E0%A6%A8%E0%A6%A4%E0%A7%81%E0%A6%A8-%E0%A6%AC%E0%A6%9B%E0%A6%B0%E0%A7%87-%E0%A6%A8%E0%A6%A4%E0%A7%81%E0%A6%A8-%E0%A6%AA%E0%A7%8D%E0%A6%B0%E0%A6%A4%E0%A7%8D%E0%A6%AF%E0%A6%BE%E0%A6%B6%E0%A6%BE-%E0%A6%AE%E0%A6%BE%E0%A6%B2%E0%A7%9F%E0%A7%87%E0%A6%B6%E0%A6%BF%E0%A7%9F%E0%A6%BE-%E0%A6%AA%E0%A7%8D%E0%A6%B0%E0%A6%AC%E0%A6%BE%E0%A6%B8%E0%A7%80%E0%A6%A6%E0%A7%87%E0%A6%B0\n",
            "Description Updated\n",
            "459\n",
            "Status Type\n",
            "Continuing\n",
            "460\n",
            "Status Type\n",
            "Continuing\n",
            "461\n",
            "Link Type\n",
            "https://www.bd-pratidin.com/coronavirus/2020/12/26/601421\n",
            "Description Updated\n",
            "462\n",
            "Link Type\n",
            "https://city24news.com/bn/archives/49581\n",
            "Description Updated\n",
            "463\n",
            "Link Type\n",
            "https://www.somoynews.tv/pages/details/255252\n"
          ],
          "name": "stdout"
        },
        {
          "output_type": "stream",
          "text": [
            "ERROR:trafilatura.utils:retries/redirects: https://www.thebanglamagazine.com/2020/12/27/%e0%a7%ab%e0%a7%a6-%e0%a6%b2%e0%a6%be%e0%a6%96-%e0%a6%93%e0%a6%ae%e0%a6%b0%e0%a6%be%e0%a6%95%e0%a6%be%e0%a6%b0%e0%a7%80%e0%a6%b0-%e0%a6%95%e0%a7%87%e0%a6%89-%e0%a6%95%e0%a6%b0%e0%a7%8b%e0%a6%a8/ HTTPSConnectionPool(host='www.thebanglamagazine.com', port=443): Max retries exceeded with url: /2020/12/27/%E0%A7%AB%E0%A7%A6-%E0%A6%B2%E0%A6%BE%E0%A6%96-%E0%A6%93%E0%A6%AE%E0%A6%B0%E0%A6%BE%E0%A6%95%E0%A6%BE%E0%A6%B0%E0%A7%80%E0%A6%B0-%E0%A6%95%E0%A7%87%E0%A6%89-%E0%A6%95%E0%A6%B0%E0%A7%8B%E0%A6%A8/ (Caused by ProtocolError('Connection aborted.', OSError(0, 'Error')))\n",
            "ERROR:trafilatura.utils:parsing failed: Document is empty\n"
          ],
          "name": "stderr"
        },
        {
          "output_type": "stream",
          "text": [
            "Description Updated\n",
            "464\n",
            "Link Type\n",
            "https://www.thebanglamagazine.com/2020/12/27/%e0%a7%ab%e0%a7%a6-%e0%a6%b2%e0%a6%be%e0%a6%96-%e0%a6%93%e0%a6%ae%e0%a6%b0%e0%a6%be%e0%a6%95%e0%a6%be%e0%a6%b0%e0%a7%80%e0%a6%b0-%e0%a6%95%e0%a7%87%e0%a6%89-%e0%a6%95%e0%a6%b0%e0%a7%8b%e0%a6%a8/\n",
            "('Connection aborted.', OSError(0, 'Error'))\n",
            "dropped\n",
            "465\n",
            "Status Type\n",
            "Continuing\n",
            "466\n",
            "Status Type\n",
            "Continuing\n",
            "467\n",
            "Status Type\n",
            "Continuing\n",
            "468\n",
            "Link Type\n",
            "https://ctgtimes.com/2020/12/city/22343/\n",
            "Description Updated\n",
            "469\n",
            "Status Type\n",
            "Continuing\n",
            "470\n",
            "Link Type\n",
            "https://www.somoynews.tv/pages/details/255549\n"
          ],
          "name": "stdout"
        },
        {
          "output_type": "stream",
          "text": [
            "WARNING:trafilatura.utils:wrong encoding detected: utf-8\n",
            "ERROR:trafilatura.utils:retries/redirects: https://shikshabarta.com/%e0%a6%b6%e0%a6%bf%e0%a6%b6%e0%a7%81%e0%a6%a6%e0%a7%87%e0%a6%b0-%e0%a6%ac%e0%a7%87%e0%a6%b6%e0%a6%bf-%e0%a6%86%e0%a6%95%e0%a7%8d%e0%a6%b0%e0%a6%ae%e0%a6%a3-%e0%a6%95%e0%a6%b0%e0%a6%9b%e0%a7%87/ HTTPSConnectionPool(host='shikshabarta.com', port=443): Max retries exceeded with url: /%E0%A6%B6%E0%A6%BF%E0%A6%B6%E0%A7%81%E0%A6%A6%E0%A7%87%E0%A6%B0-%E0%A6%AC%E0%A7%87%E0%A6%B6%E0%A6%BF-%E0%A6%86%E0%A6%95%E0%A7%8D%E0%A6%B0%E0%A6%AE%E0%A6%A3-%E0%A6%95%E0%A6%B0%E0%A6%9B%E0%A7%87/ (Caused by ResponseError('too many 503 error responses'))\n",
            "ERROR:trafilatura.utils:parsing failed: Document is empty\n"
          ],
          "name": "stderr"
        },
        {
          "output_type": "stream",
          "text": [
            "Description Updated\n",
            "471\n",
            "Link Type\n",
            "https://shikshabarta.com/%e0%a6%b6%e0%a6%bf%e0%a6%b6%e0%a7%81%e0%a6%a6%e0%a7%87%e0%a6%b0-%e0%a6%ac%e0%a7%87%e0%a6%b6%e0%a6%bf-%e0%a6%86%e0%a6%95%e0%a7%8d%e0%a6%b0%e0%a6%ae%e0%a6%a3-%e0%a6%95%e0%a6%b0%e0%a6%9b%e0%a7%87/\n",
            "None\n",
            "dropped\n",
            "472\n",
            "Link Type\n",
            "https://ctgpratidin.com/%e0%a6%9a%e0%a6%9f%e0%a7%8d%e0%a6%9f%e0%a6%97%e0%a7%8d%e0%a6%b0%e0%a6%be%e0%a6%ae%e0%a7%87-%e0%a6%b6%e0%a7%87%e0%a6%ad%e0%a6%b0%e0%a6%a8%e0%a6%93-%e0%a6%aa%e0%a7%87%e0%a6%b2-%e0%a6%ac%e0%a6%bf/\n",
            "Description Updated\n",
            "473\n",
            "Status Type\n",
            "Continuing\n",
            "474\n",
            "Link Type\n",
            "https://www.somoynews.tv/pages/details/255245\n",
            "Description Updated\n",
            "475\n",
            "Link Type\n",
            "https://bengali.news18.com/news/coronavirus-latest-news/last-24-hours-no-more-corona-cases-in-burdwan-good-news-before-new-year-pbd-541670.html\n",
            "Description Updated\n",
            "476\n",
            "Link Type\n",
            "https://www.ntvbd.com/bangladesh/%E0%A6%AC%E0%A6%BE%E0%A6%AC%E0%A6%BE%E0%A6%B0-%E0%A6%B2%E0%A6%BE%E0%A6%B6-%E0%A6%B0%E0%A7%87%E0%A6%96%E0%A7%87-%E0%A6%AA%E0%A6%BE%E0%A6%B2%E0%A6%BF%E0%A7%9F%E0%A7%87-%E0%A6%AF%E0%A6%BE%E0%A6%93%E0%A7%9F%E0%A6%BE-%E0%A6%8F%E0%A6%AC%E0%A6%82-%E0%A6%86%E0%A6%9C%E0%A6%95%E0%A7%87%E0%A6%B0-%E0%A6%95%E0%A6%B0%E0%A7%8B%E0%A6%A8%E0%A6%BE-846453\n"
          ],
          "name": "stdout"
        },
        {
          "output_type": "stream",
          "text": [
            "ERROR:trafilatura.utils:retries/redirects: https://www.maasranga24.com/?p=59079 HTTPSConnectionPool(host='www.maasranga24.com', port=443): Max retries exceeded with url: /?p=59079 (Caused by ProtocolError('Connection aborted.', ConnectionResetError(104, 'Connection reset by peer')))\n",
            "ERROR:trafilatura.utils:parsing failed: Document is empty\n"
          ],
          "name": "stderr"
        },
        {
          "output_type": "stream",
          "text": [
            "Description Updated\n",
            "477\n",
            "Link Type\n",
            "https://www.maasranga24.com/?p=59079\n",
            "None\n",
            "dropped\n",
            "478\n",
            "Link Type\n",
            "https://www.channel24bd.tv/desh24/article/157437/%E0%A6%B6%E0%A7%80%E0%A6%A4%E0%A7%87-%E0%A6%95%E0%A6%B0%E0%A7%8B%E0%A6%A8%E0%A6%BE-%E0%A6%AC%E0%A6%BE%E0%A6%A1%E0%A6%BC%E0%A6%B2%E0%A7%87%E0%A6%93-%E0%A6%97%E0%A6%BE%E0%A6%9C%E0%A7%80%E0%A6%AA%E0%A7%81%E0%A6%B0%E0%A7%87-%E0%A6%A8%E0%A7%87%E0%A6%87-%E0%A6%B8%E0%A6%9A%E0%A7%87%E0%A6%A4%E0%A6%A8%E0%A6%A4%E0%A6%BE\n",
            "Description Updated\n",
            "479\n",
            "Link Type\n",
            "http://newzvillas.com/archives/2535\n",
            "Description Updated\n",
            "480\n",
            "Link Type\n",
            "https://islamtime24.com/2020/12/29/%e0%a6%95%e0%a6%b0%e0%a7%8b%e0%a6%a8%e0%a6%be-%e0%a6%aa%e0%a6%b0%e0%a6%bf%e0%a6%b8%e0%a7%8d%e0%a6%a5%e0%a6%bf%e0%a6%a4%e0%a6%bf%e0%a6%a4%e0%a7%87-%e0%a6%a8%e0%a6%bf%e0%a6%b0%e0%a7%8d%e0%a6%a7%e0%a6%be/\n",
            "Description Updated\n",
            "481\n",
            "Link Type\n",
            "https://www.somoyerkonthosor.com/2020/12/29/466187.htm\n",
            "Description Updated\n",
            "482\n",
            "Link Type\n",
            "https://agamirbarta.com/archives/11005\n",
            "Description Updated\n",
            "483\n",
            "Status Type\n",
            "Continuing\n",
            "484\n",
            "Link Type\n",
            "https://greenbangladesh24.com/%E0%A6%93%E0%A6%AE%E0%A6%B0%E0%A6%BE%E0%A6%B9-%E0%A6%AA%E0%A6%BE%E0%A6%B2%E0%A6%A8%E0%A7%87-%E0%A7%AB%E0%A7%A6-%E0%A6%B2%E0%A6%BE%E0%A6%96-%E0%A6%AE%E0%A6%BE%E0%A6%A8%E0%A7%81%E0%A6%B7-%E0%A6%95/\n",
            "Description Updated\n",
            "485\n",
            "Status Type\n",
            "Continuing\n",
            "486\n",
            "Status Type\n",
            "Continuing\n",
            "487\n",
            "Link Type\n",
            "https://ctgtimes.com/2020/12/special-news/22335/\n",
            "Description Updated\n",
            "488\n",
            "Link Type\n",
            "https://www.bharatbarta.com/actor-anil-nedumangad-death/\n",
            "Description Updated\n",
            "489\n",
            "Link Type\n",
            "https://ctgtimes.com/2020/12/city/22459/\n",
            "Description Updated\n",
            "490\n",
            "Link Type\n",
            "https://apsnews24.com/news/17211\n",
            "Description Updated\n",
            "491\n",
            "Link Type\n",
            "http://ournews25.com/post/9796\n",
            "Description Updated\n",
            "492\n",
            "Link Type\n",
            "https://www.asomiyapratidin.in/bookfair-life-of-a-driver-news/\n",
            "Description Updated\n",
            "493\n",
            "Link Type\n",
            "https://www.somoynews.tv/pages/details/255622\n"
          ],
          "name": "stdout"
        },
        {
          "output_type": "stream",
          "text": [
            "WARNING:trafilatura.utils:wrong encoding detected: utf-8\n"
          ],
          "name": "stderr"
        },
        {
          "output_type": "stream",
          "text": [
            "Description Updated\n",
            "494\n",
            "Link Type\n",
            "https://pavilion.com.bd/details/news/19035/%E0%A6%95%E0%A6%B0%E0%A7%8B%E0%A6%A8%E0%A6%BE-%E0%A6%AD%E0%A6%BE%E0%A6%87%E0%A6%B0%E0%A6%BE%E0%A6%B8%E0%A7%87%E0%A6%B0-%E0%A6%B8%E0%A6%AE%E0%A7%9F-%E0%A7%AB%E0%A7%A6%E0%A7%A6-%E0%A6%AE%E0%A6%BE%E0%A6%A8%E0%A7%81%E0%A6%B7-%E0%A6%A8%E0%A6%BF%E0%A7%9F%E0%A7%87-%E0%A6%AA%E0%A6%BE%E0%A6%B0%E0%A7%8D%E0%A6%9F%E0%A6%BF-%E0%A6%A6%E0%A6%BF%E0%A6%9A%E0%A7%8D%E0%A6%9B%E0%A7%87%E0%A6%A8-%E0%A6%A8%E0%A7%87%E0%A6%87%E0%A6%AE%E0%A6%BE%E0%A6%B0\n",
            "Description Updated\n",
            "495\n",
            "Link Type\n",
            "https://enews.bd24report.com/2020/12/29/%e0%a6%9c%e0%a7%81%e0%a6%a8%e0%a7%87-%e0%a6%8f%e0%a6%b8%e0%a6%8f%e0%a6%b8%e0%a6%b8%e0%a6%bf-%e0%a6%9c%e0%a7%81%e0%a6%b2%e0%a6%be%e0%a6%87%e0%a7%9f%e0%a7%87-%e0%a6%8f%e0%a6%87%e0%a6%9a%e0%a6%8f/\n",
            "Description Updated\n",
            "496\n",
            "Status Type\n",
            "Continuing\n",
            "497\n",
            "Link Type\n",
            "https://sarabangla.net/post/sb-501620/\n",
            "Description Updated\n",
            "498\n",
            "Link Type\n",
            "https://www.somoynews.tv/pages/details/254836\n",
            "Description Updated\n",
            "499\n",
            "Link Type\n",
            "https://news.studyhourbd.com/?p=551\n"
          ],
          "name": "stdout"
        },
        {
          "output_type": "stream",
          "text": [
            "WARNING:trafilatura.core:unexpected in p: amp-img None None\n",
            "WARNING:trafilatura.core:unexpected in p: i-amphtml-sizer None None\n"
          ],
          "name": "stderr"
        },
        {
          "output_type": "stream",
          "text": [
            "Description Updated\n",
            "500\n",
            "Link Type\n",
            "https://www.aviationnewsbd.com/%e0%a6%b8%e0%a7%8c%e0%a6%a6%e0%a6%bf%e0%a6%a4%e0%a7%87-%e0%a6%93%e0%a6%ae%e0%a6%b0%e0%a6%be%e0%a6%b9-%e0%a6%aa%e0%a6%be%e0%a6%b2%e0%a6%a8%e0%a7%87-%e0%a7%ab%e0%a7%a6-%e0%a6%b2%e0%a6%be%e0%a6%96/\n"
          ],
          "name": "stdout"
        },
        {
          "output_type": "stream",
          "text": [
            "ERROR:trafilatura.core:not enough text None\n"
          ],
          "name": "stderr"
        },
        {
          "output_type": "stream",
          "text": [
            "Description Updated\n",
            "501\n",
            "Link Type\n",
            "https://banglanews24.com/football/news/bd/832344.details\n",
            "Description Updated\n",
            "502\n",
            "Link Type\n",
            "https://ctgpratidin.com/%e0%a6%9a%e0%a6%9f%e0%a7%8d%e0%a6%9f%e0%a6%97%e0%a7%8d%e0%a6%b0%e0%a6%be%e0%a6%ae%e0%a7%87-%e0%a6%b6%e0%a7%87%e0%a6%ad%e0%a6%b0%e0%a6%a8%e0%a6%93-%e0%a6%aa%e0%a7%87%e0%a6%b2-%e0%a6%ac%e0%a6%bf/\n",
            "Description Updated\n",
            "503\n",
            "Link Type\n",
            "https://www.bd-pratidin.com/national/2020/12/27/601609\n",
            "Description Updated\n",
            "504\n",
            "Link Type\n",
            "https://www.channelionline.com/%E0%A6%95%E0%A6%B0%E0%A7%8B%E0%A6%A8%E0%A6%BE%E0%A6%AD%E0%A6%BE%E0%A6%87%E0%A6%B0%E0%A6%BE%E0%A6%B8-%E0%A6%A6%E0%A7%87%E0%A6%B6%E0%A7%87-%E0%A6%A8%E0%A6%A4%E0%A7%81%E0%A6%A8-%E0%A6%B6%E0%A6%A8-2/\n"
          ],
          "name": "stdout"
        },
        {
          "output_type": "stream",
          "text": [
            "ERROR:trafilatura.core:not enough text None\n"
          ],
          "name": "stderr"
        },
        {
          "output_type": "stream",
          "text": [
            "Description Updated\n",
            "505\n",
            "Link Type\n",
            "https://www.somoynews.tv/pages/details/255050\n"
          ],
          "name": "stdout"
        },
        {
          "output_type": "stream",
          "text": [
            "WARNING:trafilatura.utils:wrong encoding detected: utf-8\n"
          ],
          "name": "stderr"
        },
        {
          "output_type": "stream",
          "text": [
            "Description Updated\n",
            "506\n",
            "Status Type\n",
            "Continuing\n",
            "507\n",
            "Status Type\n",
            "Continuing\n",
            "508\n",
            "Link Type\n",
            "https://ctgtimes.com/2020/12/city/22481/\n",
            "Description Updated\n",
            "509\n",
            "Link Type\n",
            "http://newzta.com/archives/839\n"
          ],
          "name": "stdout"
        },
        {
          "output_type": "stream",
          "text": [
            "ERROR:trafilatura.utils:not a 200 response: 403 for URL http://newzta.com/archives/839\n",
            "ERROR:trafilatura.utils:this type cannot be processed: <class 'NoneType'>\n"
          ],
          "name": "stderr"
        },
        {
          "output_type": "stream",
          "text": [
            "None\n",
            "dropped\n",
            "510\n",
            "Status Type\n",
            "Continuing\n",
            "511\n",
            "Link Type\n",
            "https://www.prothomalo.com/education/examination/%E0%A6%8F%E0%A6%B8%E0%A6%8F%E0%A6%B8%E0%A6%B8%E0%A6%BF-%E0%A6%AA%E0%A6%B0%E0%A7%80%E0%A6%95%E0%A7%8D%E0%A6%B7%E0%A6%BE-%E0%A6%9C%E0%A7%81%E0%A6%A8%E0%A7%87-%E0%A6%8F%E0%A6%87%E0%A6%9A%E0%A6%8F%E0%A6%B8%E0%A6%B8%E0%A6%BF-%E0%A6%9C%E0%A7%81%E0%A6%B2%E0%A6%BE%E0%A6%87-%E0%A6%86%E0%A6%97%E0%A6%B8%E0%A7%8D%E0%A6%9F%E0%A7%87\n",
            "Description Updated\n",
            "512\n",
            "Link Type\n",
            "https://enews.bd24report.com/2020/12/30/%e0%a6%95%e0%a6%b0%e0%a7%8b%e0%a6%a8%e0%a6%be%e0%a7%9f-%e0%a6%97%e0%a6%a4-%e0%a7%a8%e0%a7%aa-%e0%a6%98%e0%a6%a3%e0%a7%8d%e0%a6%9f%e0%a6%be%e0%a7%9f-%e0%a6%ae%e0%a7%83%e0%a6%a4%e0%a7%8d%e0%a6%af/\n",
            "Description Updated\n",
            "513\n",
            "Link Type\n",
            "https://www.banglatribune.com/others/news/660027/%E0%A6%AC%E0%A6%BF%E0%A6%95%E0%A6%BE%E0%A6%B2-%E0%A7%AB%E0%A6%9F%E0%A6%BE-%E0%A6%A5%E0%A7%87%E0%A6%95%E0%A7%87-%E0%A6%B9%E0%A6%BE%E0%A6%A4%E0%A6%BF%E0%A6%B0%E0%A6%9D%E0%A6%BF%E0%A6%B2%E0%A7%87-%E0%A6%AA%E0%A7%8D%E0%A6%B0%E0%A6%AC%E0%A7%87%E0%A6%B6%E0%A7%87-%E0%A6%A8%E0%A6%BF%E0%A6%B7%E0%A7%87%E0%A6%A7%E0%A6%BE%E0%A6%9C%E0%A7%8D%E0%A6%9E%E0%A6%BE\n",
            "Description Updated\n",
            "514\n",
            "Link Type\n",
            "https://www.ntvbd.com/world/%E0%A6%AE%E0%A6%BF%E0%A6%B8%E0%A6%B0%E0%A7%87-%E0%A6%95%E0%A6%B0%E0%A7%8B%E0%A6%A8%E0%A6%BE-%E0%A6%9A%E0%A6%BF%E0%A6%95%E0%A6%BF%E0%A7%8E%E0%A6%B8%E0%A6%BE%E0%A6%B0-%E0%A6%B9%E0%A6%BE%E0%A6%B8%E0%A6%AA%E0%A6%BE%E0%A6%A4%E0%A6%BE%E0%A6%B2%E0%A7%87-%E0%A6%86%E0%A6%97%E0%A7%81%E0%A6%A8-%E0%A6%B8%E0%A6%BE%E0%A6%A4%E0%A6%9C%E0%A6%A8%E0%A7%87%E0%A6%B0-%E0%A6%AE%E0%A7%83%E0%A6%A4%E0%A7%8D%E0%A6%AF%E0%A7%81-846605\n",
            "Description Updated\n",
            "515\n",
            "Link Type\n",
            "https://m.somoynews.tv/pages/details/254772\n"
          ],
          "name": "stdout"
        },
        {
          "output_type": "stream",
          "text": [
            "ERROR:trafilatura.utils:not a 200 response: 403 for URL https://www.bangla.24livenewspaper.com/world/73214-putin-decides-to-receive-coronavirus-vaccine\n",
            "ERROR:trafilatura.utils:this type cannot be processed: <class 'NoneType'>\n"
          ],
          "name": "stderr"
        },
        {
          "output_type": "stream",
          "text": [
            "Description Updated\n",
            "516\n",
            "Link Type\n",
            "https://www.bangla.24livenewspaper.com/world/73214-putin-decides-to-receive-coronavirus-vaccine\n",
            "None\n",
            "dropped\n",
            "517\n",
            "Link Type\n",
            "https://zeenews.india.com/bengali/health/the-total-number-of-corona-infections-has-reached-one-crore-the-lowest-infection-in-india-in-24-hours_360696.html\n"
          ],
          "name": "stdout"
        },
        {
          "output_type": "stream",
          "text": [
            "ERROR:trafilatura.utils:not a 200 response: 404 for URL https://probashtime.com/2020/12/30/%E0%A6%93%E0%A6%AE%E0%A6%BE%E0%A6%A8%E0%A7%87-%E0%A6%86%E0%A6%9C-%E0%A6%86%E0%A6%95%E0%A7%8D%E0%A6%B0%E0%A6%BE%E0%A6%A8%E0%A7%8D%E0%A6%A4-%E0%A7%AE%E0%A7%AC-%E0%A6%B9%E0%A6%B2%E0%A7%87%E0%A6%93/\n",
            "ERROR:trafilatura.utils:this type cannot be processed: <class 'NoneType'>\n"
          ],
          "name": "stderr"
        },
        {
          "output_type": "stream",
          "text": [
            "Description Updated\n",
            "518\n",
            "Status Type\n",
            "Continuing\n",
            "519\n",
            "Link Type\n",
            "https://probashtime.com/2020/12/30/%E0%A6%93%E0%A6%AE%E0%A6%BE%E0%A6%A8%E0%A7%87-%E0%A6%86%E0%A6%9C-%E0%A6%86%E0%A6%95%E0%A7%8D%E0%A6%B0%E0%A6%BE%E0%A6%A8%E0%A7%8D%E0%A6%A4-%E0%A7%AE%E0%A7%AC-%E0%A6%B9%E0%A6%B2%E0%A7%87%E0%A6%93/\n",
            "None\n",
            "dropped\n",
            "520\n",
            "Link Type\n",
            "https://opinion.bdnews24.com/bangla/archives/64951\n",
            "Description Updated\n",
            "521\n",
            "Link Type\n",
            "https://www.prothomalo.com/world/africa/%E0%A6%95%E0%A6%BE%E0%A7%9F%E0%A6%B0%E0%A7%8B%E0%A7%9F-%E0%A6%95%E0%A6%B0%E0%A7%8B%E0%A6%A8%E0%A6%BE-%E0%A6%B9%E0%A6%BE%E0%A6%B8%E0%A6%AA%E0%A6%BE%E0%A6%A4%E0%A6%BE%E0%A6%B2%E0%A7%87-%E0%A6%86%E0%A6%97%E0%A7%81%E0%A6%A8-%E0%A6%85%E0%A6%A8%E0%A7%8D%E0%A6%A4%E0%A6%A4-%E0%A7%AD-%E0%A6%9C%E0%A6%A8%E0%A7%87%E0%A6%B0-%E0%A6%AE%E0%A7%83%E0%A6%A4%E0%A7%8D%E0%A6%AF%E0%A7%81\n",
            "Description Updated\n",
            "522\n",
            "Status Type\n",
            "Continuing\n",
            "523\n",
            "Link Type\n",
            "https://amarsangbad24.com/2020/12/%e0%a6%b9%e0%a6%9c%e0%a7%87-%e0%a6%97%e0%a6%bf%e0%a7%9f%e0%a7%87-%e0%a6%95%e0%a7%87%e0%a6%89-%e0%a6%95%e0%a6%b0%e0%a7%8b%e0%a6%a8%e0%a6%be-%e0%a6%86%e0%a6%95%e0%a7%8d%e0%a6%b0%e0%a6%be%e0%a6%a8/\n",
            "Description Updated\n",
            "524\n",
            "Link Type\n",
            "https://www.jugantor.com/international/378790/%E0%A6%A8%E0%A6%A4%E0%A7%81%E0%A6%A8-%E0%A6%AC%E0%A7%88%E0%A6%B6%E0%A6%BF%E0%A6%B7%E0%A7%8D%E0%A6%9F%E0%A7%8D%E0%A6%AF%E0%A7%87%E0%A6%B0-%E0%A6%95%E0%A6%B0%E0%A7%8B%E0%A6%A8%E0%A6%BE-%E0%A6%AA%E0%A7%8C%E0%A6%81%E0%A6%9B%E0%A6%BE%E0%A6%B2-%E0%A6%AA%E0%A6%BE%E0%A6%95%E0%A6%BF%E0%A6%B8%E0%A7%8D%E0%A6%A4%E0%A6%BE%E0%A6%A8%E0%A7%87\n",
            "Description Updated\n",
            "525\n",
            "Link Type\n",
            "https://www.jugantor.com/international/378456/%E0%A6%A6.-%E0%A6%95%E0%A7%8B%E0%A6%B0%E0%A6%BF%E0%A7%9F%E0%A6%BE%E0%A7%9F-%E0%A6%A8%E0%A6%A4%E0%A7%81%E0%A6%A8-%E0%A6%AC%E0%A7%88%E0%A6%B6%E0%A6%BF%E0%A6%B7%E0%A7%8D%E0%A6%9F%E0%A7%8D%E0%A6%AF%E0%A7%87%E0%A6%B0-%E0%A6%95%E0%A6%B0%E0%A7%8B%E0%A6%A8%E0%A6%BE-%E0%A6%B6%E0%A6%A8%E0%A6%BE%E0%A6%95%E0%A7%8D%E0%A6%A4\n",
            "Description Updated\n",
            "526\n",
            "Link Type\n",
            "https://gulfbangla.com/news/8045\n"
          ],
          "name": "stdout"
        },
        {
          "output_type": "stream",
          "text": [
            "WARNING:trafilatura.metadata:no main title found\n",
            "WARNING:trafilatura.metadata:no h2 title found\n",
            "ERROR:trafilatura.core:not enough text None\n"
          ],
          "name": "stderr"
        },
        {
          "output_type": "stream",
          "text": [
            "Description Updated\n",
            "527\n",
            "Status Type\n",
            "Continuing\n",
            "528\n",
            "Link Type\n",
            "https://www.emiratessangbad.com/archives/47953\n",
            "Description Updated\n",
            "529\n",
            "Status Type\n",
            "Continuing\n",
            "530\n",
            "Link Type\n",
            "https://www.channelionline.com/%E0%A6%AB%E0%A7%87%E0%A6%AC%E0%A7%8D%E0%A6%B0%E0%A7%81%E0%A7%9F%E0%A6%BE%E0%A6%B0%E0%A6%BF%E0%A6%A4%E0%A7%87-%E0%A6%A6%E0%A7%87%E0%A6%B6%E0%A7%87-%E0%A6%86%E0%A6%B8%E0%A6%9B%E0%A7%87/\n"
          ],
          "name": "stdout"
        },
        {
          "output_type": "stream",
          "text": [
            "ERROR:trafilatura.core:not enough text None\n"
          ],
          "name": "stderr"
        },
        {
          "output_type": "stream",
          "text": [
            "Description Updated\n",
            "531\n",
            "Status Type\n",
            "Continuing\n",
            "532\n",
            "Link Type\n",
            "https://writebangla24.com/%e0%a6%86%e0%a6%b2%e0%a6%b9%e0%a6%be%e0%a6%ae%e0%a6%a6%e0%a7%81%e0%a6%b2%e0%a6%bf%e0%a6%b2%e0%a7%8d%e0%a6%b2%e0%a6%be%e0%a6%b9%e0%a7%8d%e2%80%8c-%e0%a6%93%e0%a6%ae%e0%a6%b0%e0%a6%be%e0%a6%b9/\n",
            "Description Updated\n",
            "533\n",
            "Link Type\n",
            "https://banglawashcricket.com/2020/12/30/1635/\n",
            "Description Updated\n",
            "534\n",
            "Status Type\n",
            "Continuing\n",
            "535\n",
            "Status Type\n",
            "Continuing\n",
            "536\n",
            "Link Type\n",
            "https://insaf24.net/saturday-26december-dotnet-news102/\n",
            "Description Updated\n",
            "537\n",
            "Link Type\n",
            "https://www.channelionline.com/%e0%a6%89%e0%a6%b9%e0%a6%be%e0%a6%a8%e0%a7%87-%e0%a6%95%e0%a6%b0%e0%a7%8b%e0%a6%a8%e0%a6%be-%e0%a6%a8%e0%a6%bf%e0%a7%9f%e0%a7%87-%e0%a6%b0%e0%a6%bf%e0%a6%aa%e0%a7%8b%e0%a6%b0%e0%a7%8d%e0%a6%9f/\n"
          ],
          "name": "stdout"
        },
        {
          "output_type": "stream",
          "text": [
            "ERROR:trafilatura.core:not enough text None\n"
          ],
          "name": "stderr"
        },
        {
          "output_type": "stream",
          "text": [
            "Description Updated\n",
            "538\n",
            "Link Type\n",
            "https://www.banglanews24.com/education/news/bd/832139.details\n",
            "Description Updated\n",
            "539\n",
            "Status Type\n",
            "Continuing\n",
            "540\n",
            "Link Type\n",
            "https://timesbd20.com/archives/17070\n"
          ],
          "name": "stdout"
        },
        {
          "output_type": "stream",
          "text": [
            "ERROR:trafilatura.utils:retries/redirects: https://timesbd20.com/archives/17070 HTTPSConnectionPool(host='timesbd20.com', port=443): Max retries exceeded with url: /archives/17070 (Caused by SSLError(SSLCertVerificationError(1, '[SSL: CERTIFICATE_VERIFY_FAILED] certificate verify failed: certificate has expired (_ssl.c:1091)')))\n",
            "ERROR:trafilatura.utils:parsing failed: Document is empty\n"
          ],
          "name": "stderr"
        },
        {
          "output_type": "stream",
          "text": [
            "HTTPSConnectionPool(host='timesbd20.com', port=443): Max retries exceeded with url: /archives/17070 (Caused by SSLError(SSLCertVerificationError(1, '[SSL: CERTIFICATE_VERIFY_FAILED] certificate verify failed: certificate has expired (_ssl.c:1091)')))\n",
            "dropped\n",
            "541\n",
            "Link Type\n",
            "https://www.sharebarta.com/19950/%e0%a7%a8%e0%a7%a6%e0%a7%a8%e0%a7%a6-%e0%a6%b8%e0%a6%be%e0%a6%b2%e0%a7%87-%e0%a6%b2%e0%a7%87%e0%a6%a8%e0%a6%a6%e0%a7%87%e0%a6%a8%e0%a7%87%e0%a6%b0-%e0%a6%b6%e0%a7%80%e0%a6%b0%e0%a7%8d%e0%a6%b7/\n",
            "Description Updated\n",
            "542\n",
            "Status Type\n",
            "Continuing\n",
            "543\n",
            "Status Type\n",
            "Continuing\n",
            "544\n",
            "Link Type\n",
            "https://bengali.news18.com/photogallery/off-beat/kalpataru-utsav-2021-door-of-dakkhineswar-mandir-will-remain-shut-for-pilgrims-akd-541014.html\n",
            "Description Updated\n",
            "545\n",
            "Link Type\n",
            "https://banglavision.tv/%e0%a6%9c%e0%a6%be%e0%a6%a4%e0%a7%80%e0%a6%af%e0%a6%bc/63788/\n",
            "Description Updated\n",
            "546\n",
            "Link Type\n",
            "https://mzamin.com/article.php?mzamin=256143\n",
            "Description Updated\n",
            "547\n",
            "Status Type\n",
            "Continuing\n",
            "548\n",
            "Link Type\n",
            "https://bijoytimes.com/%E0%A6%B9%E0%A6%9C%E0%A7%87-%E0%A6%97%E0%A6%BF%E0%A7%9F%E0%A7%87-%E0%A6%95%E0%A7%87%E0%A6%89-%E0%A6%95%E0%A6%B0%E0%A7%8B%E0%A6%A8%E0%A6%BE-%E0%A6%86%E0%A6%95%E0%A7%8D%E0%A6%B0%E0%A6%BE%E0%A6%A8/\n",
            "Description Updated\n",
            "549\n",
            "Link Type\n",
            "https://www.somoynews.tv/pages/details/255229\n"
          ],
          "name": "stdout"
        },
        {
          "output_type": "stream",
          "text": [
            "WARNING:trafilatura.utils:wrong encoding detected: utf-8\n"
          ],
          "name": "stderr"
        },
        {
          "output_type": "stream",
          "text": [
            "Description Updated\n",
            "550\n",
            "Link Type\n",
            "https://m.somoynews.tv/pages/details/254905\n",
            "Description Updated\n",
            "551\n",
            "Link Type\n",
            "https://jamuna.tv/news/194468\n",
            "Description Updated\n",
            "552\n",
            "Status Type\n",
            "Continuing\n",
            "553\n",
            "Link Type\n",
            "https://p.dw.com/p/3nIsc\n",
            "Description Updated\n",
            "554\n",
            "Link Type\n",
            "https://cutt.ly/0jq7lUD\n"
          ],
          "name": "stdout"
        },
        {
          "output_type": "stream",
          "text": [
            "WARNING:urllib3.connectionpool:Retrying (Retry(total=1, connect=None, read=None, redirect=None, status=None)) after connection broken by 'NewConnectionError('<urllib3.connection.HTTPSConnection object at 0x7f96cc6b0f90>: Failed to establish a new connection: [Errno -2] Name or service not known')': /2020/06/Dont.Stigmatize.foreign.worker.health.DG..html?fbclid=IwAR2F4zPQiadwzKDCEqUCsfwZzFI_oX1st4nsIRV3UVvQy8CgeAqQD3q2hiE&m=1\n",
            "WARNING:urllib3.connectionpool:Retrying (Retry(total=0, connect=None, read=None, redirect=None, status=None)) after connection broken by 'NewConnectionError('<urllib3.connection.HTTPSConnection object at 0x7f96d92b5390>: Failed to establish a new connection: [Errno -2] Name or service not known')': /2020/06/Dont.Stigmatize.foreign.worker.health.DG..html?fbclid=IwAR2F4zPQiadwzKDCEqUCsfwZzFI_oX1st4nsIRV3UVvQy8CgeAqQD3q2hiE&m=1\n",
            "ERROR:trafilatura.utils:retries/redirects: https://cutt.ly/0jq7lUD HTTPSConnectionPool(host='www.ovibashikantho.com', port=443): Max retries exceeded with url: /2020/06/Dont.Stigmatize.foreign.worker.health.DG..html?fbclid=IwAR2F4zPQiadwzKDCEqUCsfwZzFI_oX1st4nsIRV3UVvQy8CgeAqQD3q2hiE&m=1 (Caused by NewConnectionError('<urllib3.connection.HTTPSConnection object at 0x7f96cc1139d0>: Failed to establish a new connection: [Errno -2] Name or service not known'))\n",
            "ERROR:trafilatura.utils:parsing failed: Document is empty\n"
          ],
          "name": "stderr"
        },
        {
          "output_type": "stream",
          "text": [
            "HTTPSConnectionPool(host='www.ovibashikantho.com', port=443): Max retries exceeded with url: /2020/06/Dont.Stigmatize.foreign.worker.health.DG..html?fbclid=IwAR2F4zPQiadwzKDCEqUCsfwZzFI_oX1st4nsIRV3UVvQy8CgeAqQD3q2hiE&m=1 (Caused by NewConnectionError('<urllib3.connection.HTTPSConnection object at 0x7f96cc9c3dd0>: Failed to establish a new connection: [Errno -2] Name or service not known'))\n",
            "dropped\n",
            "555\n",
            "Link Type\n",
            "https://www.ittefaq.com.bd/worldnews/209876/%E0%A6%9A%E0%A7%80%E0%A6%A8%E0%A7%87-%E0%A6%A8%E0%A6%A4%E0%A7%81%E0%A6%A8-%E0%A6%95%E0%A6%B0%E0%A7%87-%E0%A6%B6%E0%A6%A8%E0%A6%BE%E0%A6%95%E0%A7%8D%E0%A6%A4-%E0%A7%A8%E0%A7%A8-%E0%A6%9C%E0%A6%A8\n",
            "Description Updated\n",
            "556\n",
            "Link Type\n",
            "https://www.somoynews.tv/pages/details/254873\n"
          ],
          "name": "stdout"
        },
        {
          "output_type": "stream",
          "text": [
            "WARNING:trafilatura.utils:wrong encoding detected: utf-8\n"
          ],
          "name": "stderr"
        },
        {
          "output_type": "stream",
          "text": [
            "Description Updated\n",
            "557\n",
            "Link Type\n",
            "https://jamuna.tv/news/194604\n",
            "Description Updated\n",
            "558\n",
            "Link Type\n",
            "https://www.somoynews.tv/pages/details/255215\n"
          ],
          "name": "stdout"
        },
        {
          "output_type": "stream",
          "text": [
            "WARNING:trafilatura.utils:wrong encoding detected: utf-8\n"
          ],
          "name": "stderr"
        },
        {
          "output_type": "stream",
          "text": [
            "Description Updated\n",
            "559\n",
            "Link Type\n",
            "https://agamirbarta.com/archives/11005\n",
            "Description Updated\n",
            "560\n",
            "Link Type\n",
            "https://greenbangladesh24.com/%E0%A6%AE%E0%A7%81%E0%A6%B8%E0%A6%B2%E0%A6%BF%E0%A6%AE%E0%A6%A6%E0%A7%87%E0%A6%B0-%E0%A6%9C%E0%A6%A8%E0%A7%8D%E0%A6%AF-%E0%A6%95%E0%A6%B0%E0%A7%8B%E0%A6%A8%E0%A6%BE-%E0%A6%AD%E0%A7%8D%E0%A6%AF/\n",
            "Description Updated\n",
            "561\n",
            "Status Type\n",
            "Continuing\n",
            "562\n",
            "Link Type\n",
            "https://www.ntvbd.com/world/%E0%A6%9A%E0%A7%80%E0%A6%A8%E0%A7%87%E0%A6%B0-%E0%A6%A4%E0%A7%88%E0%A6%B0%E0%A6%BF-%E0%A6%95%E0%A6%B0%E0%A7%8B%E0%A6%A8%E0%A6%BE-%E0%A6%9F%E0%A6%BF%E0%A6%95%E0%A6%BE%E0%A6%B0-%E0%A7%A7%E0%A7%A8-%E0%A6%B2%E0%A6%BE%E0%A6%96-%E0%A6%A1%E0%A7%8B%E0%A6%9C-%E0%A6%95%E0%A6%BF%E0%A6%A8%E0%A6%9B%E0%A7%87-%E0%A6%AA%E0%A6%BE%E0%A6%95%E0%A6%BF%E0%A6%B8%E0%A7%8D%E0%A6%A4%E0%A6%BE%E0%A6%A8-848353\n",
            "Description Updated\n",
            "563\n",
            "Link Type\n",
            "https://www.maasranga24.com/?p=60057\n"
          ],
          "name": "stdout"
        },
        {
          "output_type": "stream",
          "text": [
            "ERROR:trafilatura.utils:not a 200 response: 404 for URL https://www.maasranga24.com/?p=60057\n",
            "ERROR:trafilatura.utils:this type cannot be processed: <class 'NoneType'>\n"
          ],
          "name": "stderr"
        },
        {
          "output_type": "stream",
          "text": [
            "None\n",
            "dropped\n",
            "564\n",
            "Link Type\n",
            "https://www.bd-pratidin.com/probash-potro/2020/12/28/601912\n",
            "Description Updated\n",
            "565\n",
            "Status Type\n",
            "Continuing\n",
            "566\n",
            "Link Type\n",
            "https://www.somoynews.tv/pages/details/254804\n"
          ],
          "name": "stdout"
        },
        {
          "output_type": "stream",
          "text": [
            "WARNING:trafilatura.utils:wrong encoding detected: utf-8\n"
          ],
          "name": "stderr"
        },
        {
          "output_type": "stream",
          "text": [
            "Description Updated\n",
            "567\n",
            "Link Type\n",
            "https://dailycricket.com.bd/bn/news/%E0%A6%AC%E0%A6%BF%E0%A6%A6%E0%A6%BE%E0%A7%9F-%E0%A7%A8%E0%A7%A6%E0%A7%A8%E0%A7%A6--%E0%A6%AC%E0%A6%BF%E0%A6%A6%E0%A6%BE%E0%A7%9F-%E0%A6%AC%E0%A6%BE%E0%A6%82%E0%A6%B2%E0%A6%BE%E0%A6%A6%E0%A7%87%E0%A6%B6%E0%A7%87%E0%A6%B0-%E0%A6%95%E0%A7%8D%E0%A6%B0%E0%A6%BF%E0%A6%95%E0%A7%87%E0%A6%9F%E0%A7%87%E0%A6%B0-%E0%A6%98%E0%A6%9F%E0%A6%A8%E0%A6%BE%E0%A6%AC%E0%A6%B9%E0%A7%81%E0%A6%B2-%E0%A6%AC%E0%A6%9B%E0%A6%B0\n",
            "Description Updated\n",
            "568\n",
            "Link Type\n",
            "https://www.kolkata24x7.com/coronavirus-vaccine-preparations-in-last-stages-says-pm-modi/\n",
            "Description Updated\n",
            "569\n",
            "Link Type\n",
            "https://www.jagonews24.com/national/news/632463\n",
            "Description Updated\n",
            "570\n",
            "Link Type\n",
            "https://www.prothomalo.com/bangladesh/%E0%A6%95%E0%A6%B0%E0%A7%8B%E0%A6%A8%E0%A6%BE%E0%A6%95%E0%A6%BE%E0%A6%B2%E0%A7%87%E0%A6%B0-%E0%A6%A6%E0%A7%81%E0%A6%B0%E0%A7%8D%E0%A6%A8%E0%A7%80%E0%A6%A4%E0%A6%BF%E0%A6%A4%E0%A7%87-%E0%A6%B8%E0%A6%AE%E0%A6%BE%E0%A6%B2%E0%A7%8B%E0%A6%9A%E0%A6%BF%E0%A6%A4-%E0%A6%B8%E0%A7%8D%E0%A6%AC%E0%A6%BE%E0%A6%B8%E0%A7%8D%E0%A6%A5%E0%A7%8D%E0%A6%AF-%E0%A6%96%E0%A6%BE%E0%A6%A4\n",
            "Description Updated\n",
            "571\n",
            "Link Type\n",
            "https://zeenews.india.com/bengali/kolkata/police-decides-to-fine-offenders-for-not-wearing-mask-during-new-year-celebration-in-kolkata_361323.html\n",
            "Description Updated\n",
            "572\n",
            "Link Type\n",
            "https://www.dailyinqilab.com/article/346716/%E0%A6%AF%E0%A7%81%E0%A6%95%E0%A7%8D%E0%A6%A4%E0%A6%B0%E0%A6%BE%E0%A6%B7%E0%A7%8D%E0%A6%9F%E0%A7%8D%E0%A6%B0-%E0%A6%AA%E0%A7%8D%E0%A6%B0%E0%A6%AC%E0%A6%BE%E0%A6%B8%E0%A7%80-%E0%A6%AC%E0%A6%BE%E0%A6%82%E0%A6%B2%E0%A6%BE%E0%A6%A6%E0%A7%87%E0%A6%B6%E0%A7%80%E0%A6%A6%E0%A7%87%E0%A6%B0-%E0%A6%95%E0%A7%8B%E0%A6%AD%E0%A6%BF%E0%A6%A1-%E0%A7%A7%E0%A7%AF-%E0%A6%AD%E0%A7%8D%E0%A6%AF%E0%A6%BE%E0%A6%95%E0%A6%B8%E0%A6%BF%E0%A6%A8-%E0%A6%97%E0%A7%8D%E0%A6%B0%E0%A6%B9%E0%A6%A3\n",
            "Description Updated\n",
            "573\n",
            "Link Type\n",
            "https://www.jagonews24.com/campus/news/632482\n",
            "Description Updated\n",
            "574\n",
            "Link Type\n",
            "https://ekushernews.com/?p=23051\n",
            "Description Updated\n",
            "575\n",
            "Link Type\n",
            "http://www.onebanglanews.com/news/136745\n",
            "Description Updated\n",
            "576\n",
            "Link Type\n",
            "https://banglanews24.com/national/news/bd/832387.details\n",
            "Description Updated\n",
            "577\n",
            "Status Type\n",
            "Continuing\n",
            "578\n",
            "Status Type\n",
            "Continuing\n",
            "579\n",
            "Link Type\n",
            "https://parstoday.com/bn/news/iran-i85713\n",
            "Description Updated\n",
            "580\n",
            "Link Type\n",
            "https://www.channel24bd.tv/news24/article/157396/%E0%A6%A6%E0%A7%87%E0%A6%B6%E0%A7%87-%E0%A6%95%E0%A6%B0%E0%A7%8B%E0%A6%A8%E0%A6%BE%E0%A7%9F-%E0%A6%86%E0%A6%B0%E0%A6%93-%E0%A7%A8%E0%A7%A8-%E0%A6%9C%E0%A6%A8%E0%A7%87%E0%A6%B0-%E0%A6%AE%E0%A7%83%E0%A6%A4%E0%A7%8D%E0%A6%AF%E0%A7%81-%E0%A6%B6%E0%A6%A8%E0%A6%BE%E0%A6%95%E0%A7%8D%E0%A6%A4-%E0%A7%A7%E0%A7%A8%E0%A7%A9%E0%A7%AB\n",
            "Description Updated\n",
            "581\n",
            "Link Type\n",
            "https://www.dailyinqilab.com/article/346777/%E0%A6%B8%E0%A7%8D%E0%A6%95%E0%A7%81%E0%A6%B2-%E0%A6%96%E0%A7%8B%E0%A6%B2%E0%A6%BE-%E0%A6%B8%E0%A6%AE%E0%A7%8D%E0%A6%AD%E0%A6%AC-%E0%A6%A8%E0%A6%BE-%E0%A6%B9%E0%A6%B2%E0%A7%87-%E0%A6%A1%E0%A6%BF%E0%A6%9C%E0%A6%BF%E0%A6%9F%E0%A6%BE%E0%A6%B2-%E0%A6%AA%E0%A6%A6%E0%A7%8D%E0%A6%A7%E0%A6%A4%E0%A6%BF%E0%A6%A4%E0%A7%87-%E0%A6%AA%E0%A6%BE%E0%A6%A0%E0%A6%A6%E0%A6%BE%E0%A6%A8-%E0%A6%9A%E0%A6%B2%E0%A6%AC%E0%A7%87-%E0%A6%AA%E0%A7%8D%E0%A6%B0%E0%A6%A7%E0%A6%BE%E0%A6%A8%E0%A6%AE%E0%A6%A8%E0%A7%8D%E0%A6%A4%E0%A7%8D%E0%A6%B0%E0%A7%80\n",
            "Description Updated\n",
            "582\n",
            "Link Type\n",
            "https://www.channelionline.com/%e0%a7%a8%e0%a7%a6%e0%a7%a8%e0%a7%a6-%e0%a6%95%e0%a7%8b%e0%a6%ad%e0%a6%bf%e0%a6%a1-%e0%a6%af%e0%a7%87%e0%a6%ad%e0%a6%be%e0%a6%ac%e0%a7%87-%e0%a6%ab%e0%a7%8d%e0%a6%af%e0%a6%be%e0%a6%b6%e0%a6%a8/\n"
          ],
          "name": "stdout"
        },
        {
          "output_type": "stream",
          "text": [
            "ERROR:trafilatura.core:not enough text None\n"
          ],
          "name": "stderr"
        },
        {
          "output_type": "stream",
          "text": [
            "Description Updated\n",
            "583\n",
            "Link Type\n",
            "https://www.ittefaq.com.bd/capital/209644/%E0%A6%A8%E0%A6%BF%E0%A6%B0%E0%A7%8D%E0%A6%A7%E0%A6%BE%E0%A6%B0%E0%A6%BF%E0%A6%A4-%E0%A6%B8%E0%A6%AE%E0%A7%9F%E0%A7%87-%E0%A6%AC%E0%A6%BF%E0%A6%B6%E0%A7%8D%E0%A6%AC-%E0%A6%87%E0%A6%9C%E0%A6%A4%E0%A7%87%E0%A6%AE%E0%A6%BE-%E0%A6%A8%E0%A6%BF%E0%A7%9F%E0%A7%87-%E0%A6%85%E0%A6%A8%E0%A6%BF%E0%A6%B6%E0%A7%8D%E0%A6%9A%E0%A7%9F%E0%A6%A4%E0%A6%BE\n",
            "Description Updated\n",
            "584\n",
            "Link Type\n",
            "https://www.somoyerkonthosor.com/2020/12/27/465871.htm\n",
            "Description Updated\n",
            "585\n",
            "Link Type\n",
            "https://gulfbangla.com/news/8048\n"
          ],
          "name": "stdout"
        },
        {
          "output_type": "stream",
          "text": [
            "WARNING:trafilatura.metadata:no main title found\n",
            "WARNING:trafilatura.metadata:no h2 title found\n",
            "ERROR:trafilatura.core:not enough text None\n"
          ],
          "name": "stderr"
        },
        {
          "output_type": "stream",
          "text": [
            "Description Updated\n",
            "586\n",
            "Link Type\n",
            "https://city24news.com/bn/archives/49567\n",
            "Description Updated\n",
            "587\n",
            "Link Type\n",
            "https://insaf24.net/sunday-27december-dotnet-news110/\n",
            "Description Updated\n",
            "588\n",
            "Link Type\n",
            "https://www.ittefaq.com.bd/national/209914/%E0%A6%AE%E0%A7%83%E0%A6%A4%E0%A7%8D%E0%A6%AF%E0%A7%81-%E0%A6%AC%E0%A7%87%E0%A7%9C%E0%A7%87-%E0%A7%AD%E0%A7%AA%E0%A7%AD%E0%A7%AF-%E0%A6%B6%E0%A6%A8%E0%A6%BE%E0%A6%95%E0%A7%8D%E0%A6%A4-%E0%A6%9B%E0%A6%BE%E0%A7%9C%E0%A6%BF%E0%A7%9F%E0%A7%87%E0%A6%9B%E0%A7%87-%E0%A6%AA%E0%A6%BE%E0%A6%81%E0%A6%9A-%E0%A6%B2%E0%A6%BE%E0%A6%96\n",
            "Description Updated\n",
            "589\n",
            "Link Type\n",
            "https://athensbd24.com/archives/3233\n"
          ],
          "name": "stdout"
        },
        {
          "output_type": "stream",
          "text": [
            "ERROR:trafilatura.utils:retries/redirects: https://athensbd24.com/archives/3233 HTTPSConnectionPool(host='athensbd24.com', port=443): Max retries exceeded with url: /archives/3233 (Caused by ConnectTimeoutError(<urllib3.connection.HTTPSConnection object at 0x7f96ccdc8b10>, 'Connection to athensbd24.com timed out. (connect timeout=30)'))\n",
            "ERROR:trafilatura.utils:parsing failed: Document is empty\n"
          ],
          "name": "stderr"
        },
        {
          "output_type": "stream",
          "text": [
            "HTTPSConnectionPool(host='athensbd24.com', port=443): Max retries exceeded with url: /archives/3233 (Caused by NewConnectionError('<urllib3.connection.HTTPSConnection object at 0x7f96cd8ffd10>: Failed to establish a new connection: [Errno 110] Connection timed out'))\n",
            "dropped\n",
            "590\n",
            "Link Type\n",
            "https://www.kolkata24x7.com/new-strain-of-coronavirus-reported-in-these-countries/\n",
            "Description Updated\n",
            "591\n",
            "Status Type\n",
            "Continuing\n",
            "592\n",
            "Link Type\n",
            "https://www.kolkata24x7.com/india-gears-up-for-mass-roll-out-of-covid-19-vaccine-dry-run-to-be-held-in-4-states/\n",
            "Description Updated\n",
            "593\n",
            "Link Type\n",
            "https://www.somoynews.tv/pages/details/255675\n"
          ],
          "name": "stdout"
        },
        {
          "output_type": "stream",
          "text": [
            "WARNING:trafilatura.utils:wrong encoding detected: utf-8\n"
          ],
          "name": "stderr"
        },
        {
          "output_type": "stream",
          "text": [
            "Description Updated\n",
            "594\n",
            "Link Type\n",
            "https://www.jagonews24.com/national/news/632916\n",
            "Description Updated\n",
            "595\n",
            "Link Type\n",
            "https://www.bd24live.com/bangla/%e0%a6%b8%e0%a7%8c%e0%a6%a6%e0%a6%bf-%e0%a6%86%e0%a6%b0%e0%a6%ac%e0%a7%87-%e0%a6%86%e0%a6%b0%e0%a6%93-%e0%a6%8f%e0%a6%95-%e0%a6%b8%e0%a6%aa%e0%a7%8d%e0%a6%a4%e0%a6%be%e0%a6%b9-%e0%a6%ac%e0%a6%a8/\n",
            "Description Updated\n",
            "596\n",
            "Status Type\n",
            "Continuing\n",
            "597\n",
            "Link Type\n",
            "https://www.anandabazar.com/state/mla-akhil-giri-tests-corona-positive-admitted-in-id-dgtl-1.1250595?utm_source=facebook&utm_medium=social&utm_campaign=daily\n",
            "Description Updated\n",
            "598\n",
            "Link Type\n",
            "https://www.banglanews24.com/national/news/bd/832566.details\n"
          ],
          "name": "stdout"
        },
        {
          "output_type": "stream",
          "text": [
            "ERROR:trafilatura.utils:not a 200 response: 403 for URL https://www.bangla.24livenewspaper.com/world/73366-nurse-infected-covid-19-after-taking-vaccine\n",
            "ERROR:trafilatura.utils:this type cannot be processed: <class 'NoneType'>\n"
          ],
          "name": "stderr"
        },
        {
          "output_type": "stream",
          "text": [
            "Description Updated\n",
            "599\n",
            "Link Type\n",
            "https://www.bangla.24livenewspaper.com/world/73366-nurse-infected-covid-19-after-taking-vaccine\n",
            "None\n",
            "dropped\n",
            "600\n",
            "Link Type\n",
            "https://www.jagonews24.com/probash/news/632225\n",
            "Description Updated\n",
            "601\n",
            "Link Type\n",
            "https://jamuna.tv/news/194260\n",
            "Description Updated\n",
            "602\n",
            "Link Type\n",
            "https://dainikanandabazar.com/%e0%a6%b9%e0%a6%9c%e0%a7%87-%e0%a6%97%e0%a6%bf%e0%a7%9f%e0%a7%87-%e0%a7%ab%e0%a7%a6-%e0%a6%b2%e0%a6%be%e0%a6%96-%e0%a6%b9%e0%a6%be%e0%a6%9c%e0%a6%bf%e0%a6%b0-%e0%a6%ae%e0%a6%a7%e0%a7%8d%e0%a6%af/\n",
            "Description Updated\n",
            "603\n",
            "Link Type\n",
            "https://timesbd20.com/archives/16478\n"
          ],
          "name": "stdout"
        },
        {
          "output_type": "stream",
          "text": [
            "ERROR:trafilatura.utils:retries/redirects: https://timesbd20.com/archives/16478 HTTPSConnectionPool(host='timesbd20.com', port=443): Max retries exceeded with url: /archives/16478 (Caused by SSLError(SSLCertVerificationError(1, '[SSL: CERTIFICATE_VERIFY_FAILED] certificate verify failed: certificate has expired (_ssl.c:1091)')))\n",
            "ERROR:trafilatura.utils:parsing failed: Document is empty\n"
          ],
          "name": "stderr"
        },
        {
          "output_type": "stream",
          "text": [
            "HTTPSConnectionPool(host='timesbd20.com', port=443): Max retries exceeded with url: /archives/16478 (Caused by SSLError(SSLCertVerificationError(1, '[SSL: CERTIFICATE_VERIFY_FAILED] certificate verify failed: certificate has expired (_ssl.c:1091)')))\n",
            "dropped\n",
            "604\n",
            "Link Type\n",
            "https://www.channelionline.com/%e0%a6%87%e0%a6%89%e0%a6%b0%e0%a7%8b%e0%a6%aa%e0%a7%87-%e0%a6%95%e0%a6%b0%e0%a7%8b%e0%a6%a8%e0%a6%be%e0%a6%b0-%e0%a6%ad%e0%a7%8d%e0%a6%af%e0%a6%be%e0%a6%95%e0%a6%b8%e0%a6%bf%e0%a6%a8-%e0%a6%a6/\n"
          ],
          "name": "stdout"
        },
        {
          "output_type": "stream",
          "text": [
            "ERROR:trafilatura.core:not enough text None\n"
          ],
          "name": "stderr"
        },
        {
          "output_type": "stream",
          "text": [
            "Description Updated\n",
            "605\n",
            "Link Type\n",
            "http://newzwhois.com/archives/13250\n"
          ],
          "name": "stdout"
        },
        {
          "output_type": "stream",
          "text": [
            "ERROR:trafilatura.utils:not a 200 response: 403 for URL https://samakal.com/international/article/201248030/%E0%A6%B8%E0%A7%81%E0%A6%87%E0%A6%9C%E0%A6%BE%E0%A6%B0%E0%A6%B2%E0%A7%8D%E0%A6%AF%E0%A6%BE%E0%A6%A8%E0%A7%8D%E0%A6%A1%E0%A7%87-%E0%A6%95%E0%A6%B0%E0%A7%8B%E0%A6%A8%E0%A6%BE-%E0%A6%9F%E0%A6%BF%E0%A6%95%E0%A6%BE-%E0%A6%A8%E0%A7%87%E0%A6%93%E0%A7%9F%E0%A6%BE%E0%A6%B0-%E0%A6%AA%E0%A6%B0-%E0%A6%8F%E0%A6%95%E0%A6%9C%E0%A6%A8%E0%A7%87%E0%A6%B0-%E0%A6%AE%E0%A7%83%E0%A6%A4%E0%A7%8D%E0%A6%AF%E0%A7%81\n",
            "ERROR:trafilatura.utils:this type cannot be processed: <class 'NoneType'>\n"
          ],
          "name": "stderr"
        },
        {
          "output_type": "stream",
          "text": [
            "Description Updated\n",
            "606\n",
            "Link Type\n",
            "https://samakal.com/international/article/201248030/%E0%A6%B8%E0%A7%81%E0%A6%87%E0%A6%9C%E0%A6%BE%E0%A6%B0%E0%A6%B2%E0%A7%8D%E0%A6%AF%E0%A6%BE%E0%A6%A8%E0%A7%8D%E0%A6%A1%E0%A7%87-%E0%A6%95%E0%A6%B0%E0%A7%8B%E0%A6%A8%E0%A6%BE-%E0%A6%9F%E0%A6%BF%E0%A6%95%E0%A6%BE-%E0%A6%A8%E0%A7%87%E0%A6%93%E0%A7%9F%E0%A6%BE%E0%A6%B0-%E0%A6%AA%E0%A6%B0-%E0%A6%8F%E0%A6%95%E0%A6%9C%E0%A6%A8%E0%A7%87%E0%A6%B0-%E0%A6%AE%E0%A7%83%E0%A6%A4%E0%A7%8D%E0%A6%AF%E0%A7%81\n",
            "None\n",
            "dropped\n",
            "607\n",
            "Link Type\n",
            "http://www.sylhetview24.net/news/details/Sylhet/204628\n",
            "Description Updated\n",
            "608\n",
            "Link Type\n",
            "https://www.ittefaq.com.bd/worldnews/210375/%E0%A6%9F%E0%A6%BF%E0%A6%AD%E0%A6%BF-%E0%A6%B2%E0%A6%BE%E0%A6%87%E0%A6%AD%E0%A7%87%C2%A0%E0%A6%AD%E0%A7%8D%E0%A6%AF%E0%A6%BE%E0%A6%95%E0%A6%B8%E0%A6%BF%E0%A6%A8-%E0%A6%A8%E0%A6%BF%E0%A6%B2%E0%A7%87%E0%A6%A8-%E0%A6%95%E0%A6%AE%E0%A6%B2%E0%A6%BE-%E0%A6%B9%E0%A7%8D%E0%A6%AF%E0%A6%BE%E0%A6%B0%E0%A6%BF%E0%A6%B8\n",
            "Description Updated\n",
            "609\n",
            "Link Type\n",
            "https://www.news24bd.tv/details/48251/%E0%A6%AC%E0%A6%BF%E0%A6%95%E0%A7%87%E0%A6%B2-%E0%A6%A5%E0%A7%87%E0%A6%95%E0%A7%87-%E0%A6%B9%E0%A6%BE%E0%A6%A4%E0%A6%BF%E0%A6%B0%E0%A6%9D%E0%A6%BF%E0%A6%B2%E0%A7%87-%E0%A6%A2%E0%A7%81%E0%A6%95%E0%A6%A4%E0%A7%87-%E0%A6%AE%E0%A6%BE%E0%A6%A8%E0%A6%BE\n",
            "Description Updated\n",
            "610\n",
            "Link Type\n",
            "https://www.somoynews.tv/pages/details/254821\n"
          ],
          "name": "stdout"
        },
        {
          "output_type": "stream",
          "text": [
            "WARNING:trafilatura.utils:wrong encoding detected: utf-8\n"
          ],
          "name": "stderr"
        },
        {
          "output_type": "stream",
          "text": [
            "Description Updated\n",
            "611\n",
            "Link Type\n",
            "https://bengali.abplive.com/news/oxford-astrazeneca-corona-virus-covid-19-vaccine-approved-in-uk-britain-1701313-776848\n"
          ],
          "name": "stdout"
        },
        {
          "output_type": "stream",
          "text": [
            "ERROR:trafilatura.core:not enough text None\n"
          ],
          "name": "stderr"
        },
        {
          "output_type": "stream",
          "text": [
            "Description Updated\n",
            "612\n",
            "Link Type\n",
            "https://www.jugantor.com/covid-19/379070/%E0%A6%AF%E0%A7%81%E0%A6%95%E0%A7%8D%E0%A6%A4%E0%A6%B0%E0%A6%BE%E0%A6%B7%E0%A7%8D%E0%A6%9F%E0%A7%8D%E0%A6%B0%E0%A7%87-%E0%A6%95%E0%A6%B0%E0%A7%8B%E0%A6%A8%E0%A6%BE-%E0%A6%B0%E0%A7%8B%E0%A6%97%E0%A7%80-%E0%A7%A8-%E0%A6%95%E0%A7%8B%E0%A6%9F%E0%A6%BF-%E0%A6%9B%E0%A7%81%E0%A6%81%E0%A6%87-%E0%A6%9B%E0%A7%81%E0%A6%81%E0%A6%87\n",
            "Description Updated\n",
            "613\n",
            "Link Type\n",
            "https://banglavision.tv/%e0%a6%b2%e0%a6%bf%e0%a6%a1-%e0%a6%a8%e0%a6%bf%e0%a6%89%e0%a6%9c/63402/\n"
          ],
          "name": "stdout"
        },
        {
          "output_type": "stream",
          "text": [
            "ERROR:trafilatura.utils:not a 200 response: 404 for URL https://banglavision.tv/%e0%a6%b2%e0%a6%bf%e0%a6%a1-%e0%a6%a8%e0%a6%bf%e0%a6%89%e0%a6%9c/63402/\n",
            "ERROR:trafilatura.utils:this type cannot be processed: <class 'NoneType'>\n"
          ],
          "name": "stderr"
        },
        {
          "output_type": "stream",
          "text": [
            "None\n",
            "dropped\n",
            "614\n",
            "Link Type\n",
            "https://www.jugantor.com/todays-paper/second-edition/378682/%E0%A6%AA%E0%A7%8D%E0%A6%B0%E0%A6%A5%E0%A6%AE-%E0%A6%B6%E0%A7%8D%E0%A6%B0%E0%A7%87%E0%A6%A3%E0%A6%BF%E0%A6%B0-%E0%A6%93%E0%A6%B7%E0%A7%81%E0%A6%A7-%E0%A6%89%E0%A7%8E%E0%A6%AA%E0%A6%BE%E0%A6%A6%E0%A6%A8%E0%A6%95%E0%A6%BE%E0%A6%B0%E0%A7%80-%E0%A6%A6%E0%A7%87%E0%A6%B6-%E0%A6%B9%E0%A6%A4%E0%A7%8B-%E0%A6%AC%E0%A6%BE%E0%A6%82%E0%A6%B2%E0%A6%BE%E0%A6%A6%E0%A7%87%E0%A6%B6\n",
            "Description Updated\n",
            "615\n",
            "Link Type\n",
            "https://www.ittefaq.com.bd/worldnews/210630/%E0%A6%AD%E0%A6%BE%E0%A6%B0%E0%A6%A4%E0%A7%87-%E0%A6%95%E0%A6%B0%E0%A7%8B%E0%A6%A8%E0%A6%BE%E0%A7%9F-%E0%A6%AE%E0%A7%83%E0%A6%A4%E0%A6%A6%E0%A7%87%E0%A6%B0-%E0%A7%AD%E0%A7%A6-%E0%A6%B6%E0%A6%A4%E0%A6%BE%E0%A6%82%E0%A6%B6%E0%A6%87-%E0%A6%AA%E0%A7%81%E0%A6%B0%E0%A7%81%E0%A6%B7\n",
            "Description Updated\n",
            "616\n",
            "Link Type\n",
            "https://www.somoynews.tv/pages/details/255573\n",
            "Description Updated\n",
            "617\n",
            "Link Type\n",
            "https://www.jugantor.com/covid-19/378107/%E0%A7%AE-%E0%A6%95%E0%A7%8B%E0%A6%9F%E0%A6%BF%E0%A6%B0-%E0%A6%AE%E0%A6%BE%E0%A6%87%E0%A6%B2%E0%A6%AB%E0%A6%B2%E0%A6%95-%E0%A6%9B%E0%A6%BE%E0%A7%9C%E0%A6%BE%E0%A6%B2-%E0%A6%95%E0%A6%B0%E0%A7%8B%E0%A6%A8%E0%A6%BE-%E0%A6%B8%E0%A6%82%E0%A6%95%E0%A7%8D%E0%A6%B0%E0%A6%AE%E0%A6%A3\n",
            "Description Updated\n",
            "618\n",
            "Link Type\n",
            "https://www.prothomalo.com/world/africa/%E0%A6%95%E0%A6%BE%E0%A7%9F%E0%A6%B0%E0%A7%8B%E0%A7%9F-%E0%A6%95%E0%A6%B0%E0%A7%8B%E0%A6%A8%E0%A6%BE-%E0%A6%B9%E0%A6%BE%E0%A6%B8%E0%A6%AA%E0%A6%BE%E0%A6%A4%E0%A6%BE%E0%A6%B2%E0%A7%87-%E0%A6%86%E0%A6%97%E0%A7%81%E0%A6%A8-%E0%A6%85%E0%A6%A8%E0%A7%8D%E0%A6%A4%E0%A6%A4-%E0%A7%AD-%E0%A6%9C%E0%A6%A8%E0%A7%87%E0%A6%B0-%E0%A6%AE%E0%A7%83%E0%A6%A4%E0%A7%8D%E0%A6%AF%E0%A7%81\n",
            "Description Updated\n",
            "619\n",
            "Link Type\n",
            "https://banglanews24.com/daily-chittagong/news/bd/832487.details\n",
            "Description Updated\n",
            "620\n",
            "Link Type\n",
            "https://www.thedailystar.net/bangla/%E0%A6%B6%E0%A7%80%E0%A6%B0%E0%A7%8D%E0%A6%B7-%E0%A6%96%E0%A6%AC%E0%A6%B0/%E0%A6%95%E0%A6%BF%E0%A6%89%E0%A6%87-%E0%A6%AC%E0%A7%8D%E0%A6%AF%E0%A6%BE%E0%A6%82%E0%A6%95-%E0%A6%B2%E0%A7%8B%E0%A6%95%E0%A6%BE%E0%A6%B2-%E0%A6%B9%E0%A6%BF%E0%A6%B0%E0%A7%8B-%E0%A6%AC%E0%A6%BE%E0%A6%82%E0%A6%B2%E0%A6%BE%E0%A6%A6%E0%A7%87%E0%A6%B6%E0%A7%87%E0%A6%B0-%E0%A6%A1-%E0%A6%B6%E0%A7%8D%E0%A6%AF%E0%A6%BE%E0%A6%AE%E0%A6%B2-%E0%A6%A6%E0%A6%BE%E0%A6%B8-194933\n",
            "Description Updated\n",
            "621\n",
            "Link Type\n",
            "https://durgafest.com/covid-effect-on-kalpataru-utsav/\n",
            "Description Updated\n",
            "622\n",
            "Link Type\n",
            "https://www.jugantor.com/covid-19/378434/%E0%A6%B8%E0%A6%BE%E0%A6%AE%E0%A6%A8%E0%A7%87-%E0%A6%86%E0%A6%B0%E0%A6%93-%E0%A6%AD%E0%A7%9F%E0%A6%99%E0%A7%8D%E0%A6%95%E0%A6%B0-%E0%A6%B8%E0%A6%AE%E0%A7%9F-%E0%A6%85%E0%A6%AA%E0%A7%87%E0%A6%95%E0%A7%8D%E0%A6%B7%E0%A6%BE-%E0%A6%95%E0%A6%B0%E0%A6%9B%E0%A7%87-%E0%A6%AB%E0%A6%BE%E0%A6%89%E0%A6%B8%E0%A6%BF\n",
            "Description Updated\n",
            "623\n",
            "Link Type\n",
            "https://www.somoynews.tv/pages/details/255231\n"
          ],
          "name": "stdout"
        },
        {
          "output_type": "stream",
          "text": [
            "WARNING:trafilatura.utils:wrong encoding detected: utf-8\n"
          ],
          "name": "stderr"
        },
        {
          "output_type": "stream",
          "text": [
            "Description Updated\n",
            "624\n",
            "Link Type\n",
            "https://www.jamuna.tv/news/193911\n",
            "Description Updated\n",
            "625\n",
            "Status Type\n",
            "Continuing\n",
            "626\n",
            "Status Type\n",
            "Continuing\n",
            "627\n",
            "Link Type\n",
            "https://enews.bd24report.com/2020/12/31/%e0%a6%95%e0%a6%b0%e0%a7%8b%e0%a6%a8%e0%a6%be%e0%a7%9f-%e0%a6%97%e0%a6%a4-%e0%a7%a8%e0%a7%aa-%e0%a6%98%e0%a6%a3%e0%a7%8d%e0%a6%9f%e0%a6%be%e0%a7%9f-%e0%a6%ae%e0%a7%83%e0%a6%a4%e0%a7%8d%e0%a6%af-2/\n"
          ],
          "name": "stdout"
        },
        {
          "output_type": "stream",
          "text": [
            "ERROR:trafilatura.utils:retries/redirects: https://www.ourislam24.com/2020/12/31/%e0%a6%95%e0%a6%b0%e0%a7%8b%e0%a6%a8%e0%a6%be-%e0%a6%aa%e0%a6%b0%e0%a6%bf%e0%a6%b8%e0%a7%8d%e0%a6%a5%e0%a6%bf%e0%a6%a4%e0%a6%bf-%e0%a6%85%e0%a6%a8%e0%a7%81%e0%a6%95%e0%a7%82%e0%a6%b2%e0%a7%87/ HTTPSConnectionPool(host='www.ourislam24.com', port=443): Max retries exceeded with url: /2020/12/31/%E0%A6%95%E0%A6%B0%E0%A7%8B%E0%A6%A8%E0%A6%BE-%E0%A6%AA%E0%A6%B0%E0%A6%BF%E0%A6%B8%E0%A7%8D%E0%A6%A5%E0%A6%BF%E0%A6%A4%E0%A6%BF-%E0%A6%85%E0%A6%A8%E0%A7%81%E0%A6%95%E0%A7%82%E0%A6%B2%E0%A7%87/ (Caused by ResponseError('too many 503 error responses'))\n",
            "ERROR:trafilatura.utils:parsing failed: Document is empty\n"
          ],
          "name": "stderr"
        },
        {
          "output_type": "stream",
          "text": [
            "Description Updated\n",
            "628\n",
            "Link Type\n",
            "https://www.ourislam24.com/2020/12/31/%e0%a6%95%e0%a6%b0%e0%a7%8b%e0%a6%a8%e0%a6%be-%e0%a6%aa%e0%a6%b0%e0%a6%bf%e0%a6%b8%e0%a7%8d%e0%a6%a5%e0%a6%bf%e0%a6%a4%e0%a6%bf-%e0%a6%85%e0%a6%a8%e0%a7%81%e0%a6%95%e0%a7%82%e0%a6%b2%e0%a7%87/\n",
            "None\n",
            "dropped\n",
            "629\n",
            "Link Type\n",
            "https://www.dailyjagaran.com/education/news/51748\n",
            "Description Updated\n",
            "630\n",
            "Status Type\n",
            "Continuing\n",
            "631\n",
            "Link Type\n",
            "https://www.ekushey-tv.com/economics-business/news/120105#.X-shi8HpyRI.facebook\n",
            "Description Updated\n",
            "632\n",
            "Status Type\n",
            "Continuing\n",
            "633\n",
            "Link Type\n",
            "https://dbcnews.tv/news/%E0%A6%9A%E0%A6%9F%E0%A7%8D%E0%A6%9F%E0%A6%97%E0%A7%8D%E0%A6%B0%E0%A6%BE%E0%A6%AE%E0%A7%87-%E0%A6%95%E0%A6%B0%E0%A7%8B%E0%A6%A8%E0%A6%BE-%E0%A6%86%E0%A6%95%E0%A7%8D%E0%A6%B0%E0%A6%BE%E0%A6%A8%E0%A7%8D%E0%A6%A4%E0%A7%87%E0%A6%B0-%E0%A6%AA%E0%A6%BE%E0%A6%B6%E0%A6%BE%E0%A6%AA%E0%A6%BE%E0%A6%B6%E0%A6%BF-%E0%A6%AC%E0%A7%87%E0%A7%9C%E0%A7%87%E0%A6%9B%E0%A7%87-%E0%A6%AE%E0%A7%83%E0%A6%A4%E0%A7%8D%E0%A6%AF%E0%A7%81%E0%A6%B9%E0%A6%BE%E0%A6%B0\n"
          ],
          "name": "stdout"
        },
        {
          "output_type": "stream",
          "text": [
            "ERROR:trafilatura.utils:retries/redirects: https://shikshabarta.com/%e0%a6%86%e0%a6%97%e0%a6%be%e0%a6%ae%e0%a7%80%e0%a6%95%e0%a6%be%e0%a6%b2-%e0%a6%ac%e0%a6%87-%e0%a6%ac%e0%a6%bf%e0%a6%a4%e0%a6%b0%e0%a6%a3-%e0%a6%89%e0%a6%a6%e0%a7%8d%e0%a6%ac%e0%a7%8b%e0%a6%a7/ HTTPSConnectionPool(host='shikshabarta.com', port=443): Max retries exceeded with url: /%E0%A6%86%E0%A6%97%E0%A6%BE%E0%A6%AE%E0%A7%80%E0%A6%95%E0%A6%BE%E0%A6%B2-%E0%A6%AC%E0%A6%87-%E0%A6%AC%E0%A6%BF%E0%A6%A4%E0%A6%B0%E0%A6%A3-%E0%A6%89%E0%A6%A6%E0%A7%8D%E0%A6%AC%E0%A7%8B%E0%A6%A7/ (Caused by ResponseError('too many 503 error responses'))\n",
            "ERROR:trafilatura.utils:parsing failed: Document is empty\n"
          ],
          "name": "stderr"
        },
        {
          "output_type": "stream",
          "text": [
            "Description Updated\n",
            "634\n",
            "Link Type\n",
            "https://shikshabarta.com/%e0%a6%86%e0%a6%97%e0%a6%be%e0%a6%ae%e0%a7%80%e0%a6%95%e0%a6%be%e0%a6%b2-%e0%a6%ac%e0%a6%87-%e0%a6%ac%e0%a6%bf%e0%a6%a4%e0%a6%b0%e0%a6%a3-%e0%a6%89%e0%a6%a6%e0%a7%8d%e0%a6%ac%e0%a7%8b%e0%a6%a7/\n",
            "None\n",
            "dropped\n",
            "635\n",
            "Link Type\n",
            "https://jamuna.tv/news/194468\n",
            "Description Updated\n",
            "636\n",
            "Link Type\n",
            "http://www.polliralo.com/?p=14807\n",
            "Description Updated\n",
            "637\n",
            "Status Type\n",
            "Continuing\n",
            "638\n",
            "Status Type\n",
            "Continuing\n",
            "639\n",
            "Link Type\n",
            "http://pavilion.com.bd/details/news/19046\n",
            "Description Updated\n",
            "640\n",
            "Link Type\n",
            "https://www.bd-pratidin.com/national/2020/12/30/602791\n",
            "Description Updated\n",
            "641\n",
            "Link Type\n",
            "https://www.somoynews.tv/pages/details/254820\n"
          ],
          "name": "stdout"
        },
        {
          "output_type": "stream",
          "text": [
            "WARNING:trafilatura.utils:wrong encoding detected: utf-8\n"
          ],
          "name": "stderr"
        },
        {
          "output_type": "stream",
          "text": [
            "Description Updated\n",
            "642\n",
            "Link Type\n",
            "https://www.bd24live.com/bangla/%e0%a7%a7%e0%a7%a8-%e0%a6%a6%e0%a6%bf%e0%a6%a8%e0%a7%87%e0%a6%b0-%e0%a6%ae%e0%a6%a7%e0%a7%8d%e0%a6%af%e0%a7%87-%e0%a6%a8%e0%a6%a4%e0%a7%81%e0%a6%a8-%e0%a6%ac%e0%a6%87-%e0%a6%aa%e0%a6%be%e0%a6%ac/\n",
            "Description Updated\n",
            "643\n",
            "Link Type\n",
            "https://gulfbangla.com/news/8029\n"
          ],
          "name": "stdout"
        },
        {
          "output_type": "stream",
          "text": [
            "WARNING:trafilatura.metadata:no main title found\n",
            "WARNING:trafilatura.metadata:no h2 title found\n",
            "ERROR:trafilatura.core:not enough text None\n"
          ],
          "name": "stderr"
        },
        {
          "output_type": "stream",
          "text": [
            "Description Updated\n",
            "644\n",
            "Link Type\n",
            "https://www.daily-bangladesh.com/international/224434\n",
            "Description Updated\n",
            "645\n",
            "Link Type\n",
            "https://city24news.com/bn/archives/49639\n",
            "Description Updated\n",
            "646\n",
            "Status Type\n",
            "Continuing\n",
            "647\n",
            "Link Type\n",
            "https://www.sangbadpratidin.in/lifestyle/relationship/nurse-suspended-after-getting-involved-with-covid-19-patient-in-hospital-toilet/\n"
          ],
          "name": "stdout"
        },
        {
          "output_type": "stream",
          "text": [
            "ERROR:trafilatura.utils:not a 200 response: 404 for URL https://probashtime.com/2020/12/29/%E0%A6%B8%E0%A6%AE%E0%A6%97%E0%A7%8D%E0%A6%B0-%E0%A6%93%E0%A6%AE%E0%A6%BE%E0%A6%A8%E0%A7%87-%E0%A6%B6%E0%A7%81%E0%A6%B0%E0%A7%81-%E0%A6%B9%E0%A6%B2%E0%A7%8B-%E0%A6%95%E0%A6%B0%E0%A7%8B%E0%A6%A8/\n",
            "ERROR:trafilatura.utils:this type cannot be processed: <class 'NoneType'>\n"
          ],
          "name": "stderr"
        },
        {
          "output_type": "stream",
          "text": [
            "Description Updated\n",
            "648\n",
            "Link Type\n",
            "https://probashtime.com/2020/12/29/%E0%A6%B8%E0%A6%AE%E0%A6%97%E0%A7%8D%E0%A6%B0-%E0%A6%93%E0%A6%AE%E0%A6%BE%E0%A6%A8%E0%A7%87-%E0%A6%B6%E0%A7%81%E0%A6%B0%E0%A7%81-%E0%A6%B9%E0%A6%B2%E0%A7%8B-%E0%A6%95%E0%A6%B0%E0%A7%8B%E0%A6%A8/\n",
            "None\n",
            "dropped\n",
            "649\n",
            "Link Type\n",
            "https://www.banglanews24.com/economics-business/news/bd/832543.details\n"
          ],
          "name": "stdout"
        },
        {
          "output_type": "stream",
          "text": [
            "WARNING:trafilatura.core:unexpected in p: div \n",
            " \n",
            "এখন মোবাইল ফোনের পাশাপাশি বাসা ও অফিস থেকেও গ্রাহকরা গ্রামীণফোনের ফোরজি কানেক্টিভিটির সুবিধা গ্রহণ করতে পারবেন।  \n"
          ],
          "name": "stderr"
        },
        {
          "output_type": "stream",
          "text": [
            "Description Updated\n",
            "650\n",
            "Link Type\n",
            "https://www.prothomalo.com/world/china/%E0%A6%89%E0%A6%B9%E0%A6%BE%E0%A6%A8%E0%A7%87%E0%A6%B0-%E0%A6%95%E0%A6%B0%E0%A7%8B%E0%A6%A8%E0%A6%BE-%E0%A6%A8%E0%A6%BF%E0%A7%9F%E0%A7%87-%E0%A6%B0%E0%A6%BF%E0%A6%AA%E0%A7%8B%E0%A6%B0%E0%A7%8D%E0%A6%9F-%E0%A6%95%E0%A6%B0%E0%A6%BE-%E0%A6%B8%E0%A6%BE%E0%A6%82%E0%A6%AC%E0%A6%BE%E0%A6%A6%E0%A6%BF%E0%A6%95%E0%A7%87%E0%A6%B0-%E0%A7%AA-%E0%A6%AC%E0%A6%9B%E0%A6%B0%E0%A7%87%E0%A6%B0-%E0%A6%9C%E0%A7%87%E0%A6%B2\n",
            "Description Updated\n",
            "651\n",
            "Link Type\n",
            "https://aamarkatha.in/in-durgapur-death-was-of-a-senior-nurse-of-dsp-main-hospital/\n",
            "Description Updated\n",
            "652\n",
            "Link Type\n",
            "https://p.dw.com/p/3nLda\n",
            "Description Updated\n",
            "653\n",
            "Link Type\n",
            "https://dbcnews.tv/news/%E0%A6%89%E0%A6%87%E0%A6%A8%E0%A7%8D%E0%A6%A1%E0%A6%BF%E0%A6%9C-%E0%A6%A4%E0%A6%BF%E0%A6%A8-%E0%A6%95%E0%A7%8D%E0%A6%B0%E0%A6%BF%E0%A6%95%E0%A7%87%E0%A6%9F%E0%A6%BE%E0%A6%B0%E0%A7%87%E0%A6%B0-%E0%A6%AC%E0%A6%BE%E0%A6%82%E0%A6%B2%E0%A6%BE%E0%A6%A6%E0%A7%87%E0%A6%B6-%E0%A6%B8%E0%A6%AB%E0%A6%B0%E0%A7%87-%E0%A6%86%E0%A6%B8%E0%A6%A4%E0%A7%87-%E0%A6%86%E0%A6%AA%E0%A6%A4%E0%A7%8D%E0%A6%A4%E0%A6%BF\n",
            "Description Updated\n",
            "654\n",
            "Link Type\n",
            "https://www.ittefaq.com.bd/national/210647/%E0%A6%95%E0%A6%B0%E0%A7%8B%E0%A6%A8%E0%A6%BE%E0%A7%9F-%E0%A6%86%E0%A6%B0%E0%A7%8B-%E0%A7%A8%E0%A7%AE-%E0%A6%9C%E0%A6%A8%E0%A7%87%E0%A6%B0-%E0%A6%AE%E0%A7%83%E0%A6%A4%E0%A7%8D%E0%A6%AF%E0%A7%81-%E0%A6%B6%E0%A6%A8%E0%A6%BE%E0%A6%95%E0%A7%8D%E0%A6%A4-%E0%A7%A7%E0%A7%A6%E0%A7%A7%E0%A7%AA\n",
            "Description Updated\n",
            "655\n",
            "Link Type\n",
            "https://www.ittefaq.com.bd/capital/209692/%E0%A6%A5%E0%A6%BE%E0%A6%B0%E0%A7%8D%E0%A6%9F%E0%A6%BF-%E0%A6%AB%E0%A6%BE%E0%A6%B0%E0%A7%8D%E0%A6%B8%E0%A7%8D%E0%A6%9F-%E0%A6%A8%E0%A6%BE%E0%A6%87%E0%A6%9F%E0%A7%87-%E0%A6%A4%E0%A6%BF%E0%A6%A8-%E0%A6%B8%E0%A7%8D%E0%A6%A4%E0%A6%B0%E0%A7%87%E0%A6%B0-%E0%A6%A8%E0%A6%BF%E0%A6%B0%E0%A6%BE%E0%A6%AA%E0%A6%A4%E0%A7%8D%E0%A6%A4%E0%A6%BE--%E0%A6%B0%E2%80%8C%E0%A7%8D%E0%A6%AF%E0%A6%BE%E0%A6%AC\n",
            "Description Updated\n",
            "656\n",
            "Link Type\n",
            "https://jamuna.tv/news/194265\n",
            "Description Updated\n",
            "657\n",
            "Status Type\n",
            "Continuing\n",
            "658\n",
            "Link Type\n",
            "http://worldlivenewz.com/archives/17359\n",
            "Description Updated\n",
            "659\n",
            "Link Type\n",
            "https://www.channelionline.com/%e0%a6%95%e0%a6%b0%e0%a7%8b%e0%a6%a8%e0%a6%be%e0%a7%9f-%e0%a6%a8%e0%a6%a4%e0%a7%81%e0%a6%a8-%e0%a6%ae%e0%a7%83%e0%a6%a4%e0%a7%8d%e0%a6%af%e0%a7%81-%e0%a7%a8%e0%a7%ad/\n"
          ],
          "name": "stdout"
        },
        {
          "output_type": "stream",
          "text": [
            "ERROR:trafilatura.core:not enough text None\n"
          ],
          "name": "stderr"
        },
        {
          "output_type": "stream",
          "text": [
            "Description Updated\n",
            "660\n",
            "Link Type\n",
            "https://jamuna.tv/news/194648\n",
            "Description Updated\n",
            "661\n",
            "Link Type\n",
            "https://www.dailyinqilab.com/article/345837/%E0%A6%AE%E0%A6%BF%E0%A6%B6%E0%A6%B0%E0%A7%87-%E0%A6%95%E0%A6%B0%E0%A7%8B%E0%A6%A8%E0%A6%BE-%E0%A6%B9%E0%A6%BE%E0%A6%B8%E0%A6%AA%E0%A6%BE%E0%A6%A4%E0%A6%BE%E0%A6%B2%E0%A7%87-%E0%A6%86%E0%A6%97%E0%A7%81%E0%A6%A8-%E0%A6%85%E0%A6%A8%E0%A7%8D%E0%A6%A4%E0%A6%A4-%E0%A7%AD-%E0%A6%9C%E0%A6%A8-%E0%A6%A8%E0%A6%BF%E0%A6%B9%E0%A6%A4\n",
            "Description Updated\n",
            "662\n",
            "Link Type\n",
            "https://www.jugantor.com/national/378766/%E0%A6%AB%E0%A7%87%E0%A6%AC%E0%A7%8D%E0%A6%B0%E0%A7%81%E0%A7%9F%E0%A6%BE%E0%A6%B0%E0%A6%BF%E0%A6%A4%E0%A7%87-%E0%A6%96%E0%A7%81%E0%A6%B2%E0%A6%9B%E0%A7%87-%E0%A6%B8%E0%A7%8D%E0%A6%95%E0%A7%81%E0%A6%B2%E0%A6%95%E0%A6%B2%E0%A7%87%E0%A6%9C%C2%A0\n",
            "Description Updated\n",
            "663\n",
            "Link Type\n",
            "https://www.somoynews.tv/pages/details/255554\n"
          ],
          "name": "stdout"
        },
        {
          "output_type": "stream",
          "text": [
            "WARNING:trafilatura.utils:wrong encoding detected: utf-8\n"
          ],
          "name": "stderr"
        },
        {
          "output_type": "stream",
          "text": [
            "Description Updated\n",
            "664\n",
            "Link Type\n",
            "http://probashbarta.com/2020/12/29/%e0%a6%ac%e0%a6%bf%e0%a6%a6%e0%a7%87%e0%a6%b6%e0%a6%97%e0%a6%be%e0%a6%ae%e0%a7%80-%e0%a6%95%e0%a6%b0%e0%a7%8d%e0%a6%ae%e0%a7%80%e0%a6%a6%e0%a7%87%e0%a6%b0-%e0%a6%95%e0%a6%b0%e0%a7%8b%e0%a6%a8-2/\n",
            "Description Updated\n",
            "665\n",
            "Link Type\n",
            "https://www.dailyjagaran.com/education/news/51748\n",
            "Description Updated\n",
            "666\n",
            "Status Type\n",
            "Continuing\n",
            "667\n",
            "Status Type\n",
            "Continuing\n",
            "668\n",
            "Link Type\n",
            "https://www.anandabazar.com/entertainment/director-aanand-l-rai-tests-positive-for-coronavirus-dgtl-1.1252266?utm_source=facebook&utm_medium=social&utm_campaign=daily\n",
            "Description Updated\n",
            "669\n",
            "Link Type\n",
            "https://jamuna.tv/news/194077\n",
            "Description Updated\n",
            "670\n",
            "Link Type\n",
            "https://timesbd20.com/archives/15099\n"
          ],
          "name": "stdout"
        },
        {
          "output_type": "stream",
          "text": [
            "ERROR:trafilatura.utils:retries/redirects: https://timesbd20.com/archives/15099 HTTPSConnectionPool(host='timesbd20.com', port=443): Max retries exceeded with url: /archives/15099 (Caused by SSLError(SSLCertVerificationError(1, '[SSL: CERTIFICATE_VERIFY_FAILED] certificate verify failed: certificate has expired (_ssl.c:1091)')))\n",
            "ERROR:trafilatura.utils:parsing failed: Document is empty\n"
          ],
          "name": "stderr"
        },
        {
          "output_type": "stream",
          "text": [
            "HTTPSConnectionPool(host='timesbd20.com', port=443): Max retries exceeded with url: /archives/15099 (Caused by SSLError(SSLCertVerificationError(1, '[SSL: CERTIFICATE_VERIFY_FAILED] certificate verify failed: certificate has expired (_ssl.c:1091)')))\n",
            "dropped\n",
            "671\n",
            "Link Type\n",
            "https://www.jagonews24.com/national/news/632079\n",
            "Description Updated\n",
            "672\n",
            "Link Type\n",
            "https://www.bd24live.com/bangla/%e0%a6%b2%e0%a6%a8%e0%a7%8d%e0%a6%a1%e0%a6%a8-%e0%a6%a5%e0%a7%87%e0%a6%95%e0%a7%87-%e0%a6%86%e0%a6%b8%e0%a6%be-%e0%a6%b8%e0%a6%ac-%e0%a6%ab%e0%a7%8d%e0%a6%b2%e0%a6%be%e0%a6%87%e0%a6%9f-%e0%a6%ac/\n",
            "Description Updated\n",
            "673\n",
            "Link Type\n",
            "http://fcn24news.com/%e0%a6%ae%e0%a6%be%e0%a6%a8%e0%a6%ac-%e0%a6%b8%e0%a7%87%e0%a6%ac%e0%a6%be%e0%a7%9f-%e0%a6%a8%e0%a6%bf%e0%a6%b0%e0%a6%a8%e0%a7%8d%e0%a6%a4%e0%a6%b0-%e0%a6%aa%e0%a6%a5-%e0%a6%9a%e0%a6%b2%e0%a6%be/\n",
            "Description Updated\n",
            "674\n",
            "Link Type\n",
            "https://inabd.com/archives/9363\n",
            "Description Updated\n",
            "675\n",
            "Link Type\n",
            "http://www.bangalitimes.com/archives/65534\n",
            "Description Updated\n",
            "676\n",
            "Link Type\n",
            "https://www.ittefaq.com.bd/worldnews/210330/%E0%A6%95%E0%A6%BE%E0%A6%A8%E0%A6%BE%E0%A6%A1%E0%A6%BE%E0%A6%B0-%E0%A6%86%E0%A6%97%E0%A6%BE%E0%A6%AE%E0%A7%80-%E0%A6%A8%E0%A6%BF%E0%A6%B0%E0%A7%8D%E0%A6%AC%E0%A6%BE%E0%A6%9A%E0%A6%A8-%E0%A6%A8%E0%A6%BF%E0%A7%9F%E0%A7%87-%E0%A6%9C%E0%A6%BE%E0%A6%B8%E0%A7%8D%E0%A6%9F%E0%A6%BF%E0%A6%A8%E0%A7%87%E0%A6%B0-%E0%A6%AD%E0%A6%BE%E0%A6%AC%E0%A6%A8%E0%A6%BE\n",
            "Description Updated\n",
            "677\n",
            "Link Type\n",
            "https://www.jugantor.com/international/379503/%E0%A6%A8%E0%A6%AC%E0%A6%AC%E0%A6%B0%E0%A7%8D%E0%A6%B7-%E0%A6%89%E0%A6%A6%E0%A6%AF%E0%A6%BE%E0%A6%AA%E0%A6%A8-%E0%A6%A0%E0%A7%87%E0%A6%95%E0%A6%BE%E0%A6%A4%E0%A7%87-%E0%A6%A6.-%E0%A6%86%E0%A6%AB%E0%A7%8D%E0%A6%B0%E0%A6%BF%E0%A6%95%E0%A6%BE%E0%A7%9F-%E0%A6%B0%E0%A6%BE%E0%A6%A4-%E0%A7%AF%E0%A6%9F%E0%A6%BE%E0%A6%B0-%E0%A6%AE%E0%A6%A7%E0%A7%8D%E0%A6%AF%E0%A7%87-%E0%A6%98%E0%A7%81%E0%A6%AE%E0%A6%BE%E0%A6%A8%E0%A7%8B%E0%A6%B0-%E0%A6%A8%E0%A6%BF%E0%A6%B0%E0%A7%8D%E0%A6%A6%E0%A7%87%E0%A6%B6\n",
            "Description Updated\n",
            "678\n",
            "Status Type\n",
            "Continuing\n",
            "679\n",
            "Status Type\n",
            "Continuing\n",
            "680\n",
            "Link Type\n",
            "https://eisamay.indiatimes.com/world/kamala-harris-receives-first-dose-of-moderna-covid-19-vaccine/articleshow/80024453.cms\n",
            "Description Updated\n",
            "681\n",
            "Link Type\n",
            "https://www.somoynews.tv/pages/details/255242\n"
          ],
          "name": "stdout"
        },
        {
          "output_type": "stream",
          "text": [
            "WARNING:trafilatura.utils:wrong encoding detected: utf-8\n"
          ],
          "name": "stderr"
        },
        {
          "output_type": "stream",
          "text": [
            "Description Updated\n",
            "682\n",
            "Link Type\n",
            "https://www.somoyerkonthosor.com/2020/12/26/465832.htm\n",
            "Description Updated\n",
            "683\n",
            "Link Type\n",
            "https://www.voabangla.com/a/bangladesh-relieved-to-hear-approval-of-oxford-based-corona-vaccine/5718536.html\n",
            "Description Updated\n",
            "684\n",
            "Link Type\n",
            "https://dhakatop.com/%E0%A7%A7%E0%A7%AA-%E0%A6%A6%E0%A7%87%E0%A6%B6%E0%A7%87-%E0%A6%9B%E0%A7%9C%E0%A6%BF%E0%A7%9F%E0%A7%87%E0%A6%9B%E0%A7%87-%E0%A6%95%E0%A6%B0%E0%A7%8B%E0%A6%A8%E0%A6%BE%E0%A6%B0-%E0%A6%A8%E0%A6%A4/\n"
          ],
          "name": "stdout"
        },
        {
          "output_type": "stream",
          "text": [
            "ERROR:trafilatura.utils:not a 200 response: 404 for URL https://dhakatop.com/%E0%A7%A7%E0%A7%AA-%E0%A6%A6%E0%A7%87%E0%A6%B6%E0%A7%87-%E0%A6%9B%E0%A7%9C%E0%A6%BF%E0%A7%9F%E0%A7%87%E0%A6%9B%E0%A7%87-%E0%A6%95%E0%A6%B0%E0%A7%8B%E0%A6%A8%E0%A6%BE%E0%A6%B0-%E0%A6%A8%E0%A6%A4/\n",
            "ERROR:trafilatura.utils:this type cannot be processed: <class 'NoneType'>\n"
          ],
          "name": "stderr"
        },
        {
          "output_type": "stream",
          "text": [
            "None\n",
            "dropped\n",
            "685\n",
            "Link Type\n",
            "https://news.bd24report.com/post/%e0%a6%8f%e0%a6%b0-%e0%a6%86%e0%a6%97%e0%a7%87%e0%a6%93-%e0%a6%93%e0%a7%9f%e0%a7%87%e0%a6%b8%e0%a7%8d%e0%a6%9f-%e0%a6%87%e0%a6%a8%e0%a7%8d%e0%a6%a1%e0%a6%bf%e0%a6%9c-%e0%a6%aa%e0%a7%82%e0%a6%b0/\n"
          ],
          "name": "stdout"
        },
        {
          "output_type": "stream",
          "text": [
            "ERROR:trafilatura.utils:not a 200 response: 403 for URL https://samakal.com/international/article/201247660/%E0%A6%B8%E0%A7%87%E0%A6%A8%E0%A6%BE%E0%A6%AC%E0%A6%BE%E0%A6%B9%E0%A6%BF%E0%A6%A8%E0%A7%80%E0%A6%B0-%E0%A6%AE%E0%A6%BE%E0%A6%A7%E0%A7%8D%E0%A6%AF%E0%A6%AE%E0%A7%87-%E0%A6%95%E0%A6%B0%E0%A7%8B%E0%A6%A8%E0%A6%BE%E0%A6%B0-%E0%A6%AD%E0%A7%8D%E0%A6%AF%E0%A6%BE%E0%A6%95%E0%A6%B8%E0%A6%BF%E0%A6%A8-%E0%A6%AC%E0%A6%BF%E0%A6%A4%E0%A6%B0%E0%A6%A3%E0%A7%87%E0%A6%B0-%E0%A6%B8%E0%A6%BF%E0%A6%A6%E0%A7%8D%E0%A6%A7%E0%A6%BE%E0%A6%A8%E0%A7%8D%E0%A6%A4-%E0%A6%95%E0%A6%BE%E0%A6%A8%E0%A6%BE%E0%A6%A1%E0%A6%BE%E0%A6%B0\n",
            "ERROR:trafilatura.utils:this type cannot be processed: <class 'NoneType'>\n"
          ],
          "name": "stderr"
        },
        {
          "output_type": "stream",
          "text": [
            "Description Updated\n",
            "686\n",
            "Link Type\n",
            "https://samakal.com/international/article/201247660/%E0%A6%B8%E0%A7%87%E0%A6%A8%E0%A6%BE%E0%A6%AC%E0%A6%BE%E0%A6%B9%E0%A6%BF%E0%A6%A8%E0%A7%80%E0%A6%B0-%E0%A6%AE%E0%A6%BE%E0%A6%A7%E0%A7%8D%E0%A6%AF%E0%A6%AE%E0%A7%87-%E0%A6%95%E0%A6%B0%E0%A7%8B%E0%A6%A8%E0%A6%BE%E0%A6%B0-%E0%A6%AD%E0%A7%8D%E0%A6%AF%E0%A6%BE%E0%A6%95%E0%A6%B8%E0%A6%BF%E0%A6%A8-%E0%A6%AC%E0%A6%BF%E0%A6%A4%E0%A6%B0%E0%A6%A3%E0%A7%87%E0%A6%B0-%E0%A6%B8%E0%A6%BF%E0%A6%A6%E0%A7%8D%E0%A6%A7%E0%A6%BE%E0%A6%A8%E0%A7%8D%E0%A6%A4-%E0%A6%95%E0%A6%BE%E0%A6%A8%E0%A6%BE%E0%A6%A1%E0%A6%BE%E0%A6%B0\n",
            "None\n",
            "dropped\n",
            "687\n",
            "Link Type\n",
            "https://www.jugantor.com/international/379116/%E0%A6%B6%E0%A6%A4%E0%A6%AC%E0%A6%B0%E0%A7%8D%E0%A6%B7-%E0%A6%AA%E0%A6%B0%E0%A7%87-%E0%A6%AE%E0%A6%B9%E0%A6%BE%E0%A6%AE%E0%A6%BE%E0%A6%B0%E0%A7%80%E0%A6%A4%E0%A7%87-%E0%A6%AC%E0%A6%BF%E0%A6%A7%E0%A7%8D%E0%A6%AC%E0%A6%B8%E0%A7%8D%E0%A6%A4-%E0%A6%AA%E0%A7%81%E0%A6%B0%E0%A7%8B-%E0%A6%AC%E0%A6%BF%E0%A6%B6%E0%A7%8D%E0%A6%AC\n",
            "Description Updated\n",
            "688\n",
            "Link Type\n",
            "https://educationsinbd.com/bn/campus/13331/\n",
            "Description Updated\n",
            "689\n",
            "Link Type\n",
            "https://banglanews24.com/health/news/bd/831738.details\n"
          ],
          "name": "stdout"
        },
        {
          "output_type": "stream",
          "text": [
            "WARNING:trafilatura.core:unexpected in p: div \n",
            " \n",
            "’\n",
            "ERROR:trafilatura.utils:not a 200 response: 404 for URL https://probashtime.com/2020/12/28/%E0%A6%AE%E0%A6%BE%E0%A6%A4%E0%A7%8D%E0%A6%B0-%E0%A7%A9%E0%A7%A6%E0%A7%A6-%E0%A6%9F%E0%A6%BE%E0%A6%95%E0%A6%BE%E0%A7%9F-%E0%A6%95%E0%A6%B0%E0%A7%8B%E0%A6%A8%E0%A6%BE-%E0%A6%AA%E0%A6%B0%E0%A7%80/\n",
            "ERROR:trafilatura.utils:this type cannot be processed: <class 'NoneType'>\n"
          ],
          "name": "stderr"
        },
        {
          "output_type": "stream",
          "text": [
            "Description Updated\n",
            "690\n",
            "Link Type\n",
            "https://probashtime.com/2020/12/28/%E0%A6%AE%E0%A6%BE%E0%A6%A4%E0%A7%8D%E0%A6%B0-%E0%A7%A9%E0%A7%A6%E0%A7%A6-%E0%A6%9F%E0%A6%BE%E0%A6%95%E0%A6%BE%E0%A7%9F-%E0%A6%95%E0%A6%B0%E0%A7%8B%E0%A6%A8%E0%A6%BE-%E0%A6%AA%E0%A6%B0%E0%A7%80/\n",
            "None\n",
            "dropped\n",
            "691\n",
            "Status Type\n",
            "Continuing\n",
            "692\n",
            "Link Type\n",
            "https://www.somoynews.tv/pages/details/255366\n",
            "Description Updated\n",
            "693\n",
            "Link Type\n",
            "https://www.prothomalo.com/business/industry/%E0%A6%AE%E0%A6%BE%E0%A6%B2%E0%A6%BF%E0%A6%95%E0%A6%A6%E0%A7%87%E0%A6%B0-%E0%A6%A8%E0%A6%A4%E0%A7%81%E0%A6%A8-%E0%A6%86%E0%A6%AC%E0%A6%A6%E0%A6%BE%E0%A6%B0\n",
            "Description Updated\n",
            "694\n",
            "Link Type\n",
            "https://www.channelionline.com/%e0%a6%95%e0%a6%b0%e0%a7%8b%e0%a6%a8%e0%a6%be%e0%a7%9f-%e0%a6%86%e0%a6%b0%e0%a6%93-%e0%a7%a9%e0%a7%a6-%e0%a6%9c%e0%a6%a8%e0%a7%87%e0%a6%b0-%e0%a6%ae%e0%a7%83%e0%a6%a4%e0%a7%8d%e0%a6%af%e0%a7%81/\n"
          ],
          "name": "stdout"
        },
        {
          "output_type": "stream",
          "text": [
            "ERROR:trafilatura.core:not enough text None\n"
          ],
          "name": "stderr"
        },
        {
          "output_type": "stream",
          "text": [
            "Description Updated\n",
            "695\n",
            "Link Type\n",
            "https://gulfbangla.com/news/8018\n"
          ],
          "name": "stdout"
        },
        {
          "output_type": "stream",
          "text": [
            "WARNING:trafilatura.metadata:no main title found\n",
            "WARNING:trafilatura.metadata:no h2 title found\n",
            "ERROR:trafilatura.core:not enough text None\n"
          ],
          "name": "stderr"
        },
        {
          "output_type": "stream",
          "text": [
            "Description Updated\n",
            "696\n",
            "Status Type\n",
            "Continuing\n",
            "697\n",
            "Link Type\n",
            "https://www.dailyinqilab.com/article/346561/%E0%A6%95%E0%A6%95%E0%A7%8D%E0%A6%B8%E0%A6%AC%E0%A6%BE%E0%A6%9C%E0%A6%BE%E0%A6%B0%E0%A7%87-%E0%A6%AC%E0%A6%BE%E0%A7%9C%E0%A6%9B%E0%A7%87-%E0%A6%AA%E0%A6%B0%E0%A7%8D%E0%A6%AF%E0%A6%9F%E0%A6%95\n",
            "Description Updated\n",
            "698\n",
            "Link Type\n",
            "https://cutt.ly/6jtiOav\n"
          ],
          "name": "stdout"
        },
        {
          "output_type": "stream",
          "text": [
            "WARNING:urllib3.connectionpool:Retrying (Retry(total=1, connect=None, read=None, redirect=None, status=None)) after connection broken by 'NewConnectionError('<urllib3.connection.HTTPSConnection object at 0x7f96ccd5c6d0>: Failed to establish a new connection: [Errno -2] Name or service not known')': /2020/12/4.million.people.may.affected.by.coronavirus%20%20%20.html\n",
            "WARNING:urllib3.connectionpool:Retrying (Retry(total=0, connect=None, read=None, redirect=None, status=None)) after connection broken by 'NewConnectionError('<urllib3.connection.HTTPSConnection object at 0x7f96cbdc7590>: Failed to establish a new connection: [Errno -2] Name or service not known')': /2020/12/4.million.people.may.affected.by.coronavirus%20%20%20.html\n",
            "ERROR:trafilatura.utils:retries/redirects: https://cutt.ly/6jtiOav HTTPSConnectionPool(host='www.ovibashikantho.com', port=443): Max retries exceeded with url: /2020/12/4.million.people.may.affected.by.coronavirus%20%20%20.html (Caused by NewConnectionError('<urllib3.connection.HTTPSConnection object at 0x7f96cb0e96d0>: Failed to establish a new connection: [Errno -2] Name or service not known'))\n",
            "ERROR:trafilatura.utils:parsing failed: Document is empty\n"
          ],
          "name": "stderr"
        },
        {
          "output_type": "stream",
          "text": [
            "HTTPSConnectionPool(host='www.ovibashikantho.com', port=443): Max retries exceeded with url: /2020/12/4.million.people.may.affected.by.coronavirus%20%20%20.html (Caused by NewConnectionError('<urllib3.connection.HTTPSConnection object at 0x7f96ce575f90>: Failed to establish a new connection: [Errno -2] Name or service not known'))\n",
            "dropped\n",
            "699\n",
            "Link Type\n",
            "https://www.anandabazar.com/international/year-end-special-2020-some-economists-think-that-china-may-cross-america-after-covid-19-dgtls-1.1248398?utm_source=facebook&utm_medium=social&utm_campaign=daily\n",
            "Description Updated\n",
            "700\n",
            "Status Type\n",
            "Continuing\n",
            "701\n",
            "Link Type\n",
            "https://dainikpurbokone.net/chattogram/167658/%e0%a6%95%e0%a6%be%e0%a6%b2-%e0%a6%a5%e0%a7%87%e0%a6%95%e0%a7%87-%e0%a7%a9%e0%a7%a6%e0%a7%a6-%e0%a6%9f%e0%a6%be%e0%a6%95%e0%a6%be%e0%a7%9f-%e0%a6%ac%e0%a6%bf%e0%a6%a6%e0%a7%87%e0%a6%b6%e0%a6%97/\n"
          ],
          "name": "stdout"
        },
        {
          "output_type": "stream",
          "text": [
            "WARNING:trafilatura.utils:wrong encoding detected: utf-8\n"
          ],
          "name": "stderr"
        },
        {
          "output_type": "stream",
          "text": [
            "Description Updated\n",
            "702\n",
            "Link Type\n",
            "https://www.cvoice24.com/news/36118\n",
            "Description Updated\n",
            "703\n",
            "Link Type\n",
            "https://sarabangla.net/post/sb-499932/\n",
            "Description Updated\n",
            "704\n",
            "Status Type\n",
            "Continuing\n",
            "705\n",
            "Link Type\n",
            "https://jamuna.tv/news/194282\n",
            "Description Updated\n",
            "706\n",
            "Link Type\n",
            "https://ejobsresult.com/2020/12/28/%e0%a6%b9%e0%a6%9c%e0%a7%87-%e0%a6%97%e0%a6%bf%e0%a7%9f%e0%a7%87-%e0%a6%8f%e0%a6%96%e0%a6%a8-%e0%a6%aa%e0%a6%b0%e0%a7%8d%e0%a6%af%e0%a6%a8%e0%a7%8d%e0%a6%a4-%e0%a6%95%e0%a7%87%e0%a6%89-%e0%a6%95/\n",
            "Description Updated\n",
            "707\n",
            "Status Type\n",
            "Continuing\n",
            "708\n",
            "Link Type\n",
            "https://www.ittefaq.com.bd/entertainment/210621/%E0%A6%B8%E0%A6%82%E0%A6%97%E0%A7%80%E0%A6%A4%E0%A6%BE%E0%A6%99%E0%A7%8D%E0%A6%97%E0%A6%A8-%E0%A7%A8%E0%A7%A6%E0%A7%A8%E0%A7%A6-%E0%A6%AE%E0%A7%87%E0%A6%A7%E0%A6%BE%E0%A6%B8%E0%A7%8D%E0%A6%AC%E0%A6%A4%E0%A7%8D%E0%A6%AC-%E0%A6%A8%E0%A6%BF%E0%A7%9F%E0%A7%87-%E0%A6%B8%E0%A6%9A%E0%A7%87%E0%A6%A4%E0%A6%A8%E0%A6%A4%E0%A6%BE%E0%A6%B0-%E0%A6%AC%E0%A6%9B%E0%A6%B0\n",
            "Description Updated\n",
            "709\n",
            "Link Type\n",
            "https://bengali.news18.com/news/national/lockdown-in-maharashtra-extended-till-31st-january-dc-541747.html\n",
            "Description Updated\n",
            "710\n",
            "Link Type\n",
            "https://news.bd24report.com/post/%e0%a6%85%e0%a6%ac%e0%a6%b6%e0%a7%87%e0%a6%b7%e0%a7%87-%e0%a6%a8%e0%a6%bf%e0%a6%9c%e0%a7%87%e0%a6%a6%e0%a7%87%e0%a6%b0-%e0%a6%a4%e0%a7%88%e0%a6%b0%e0%a6%bf-%e0%a6%9f%e0%a6%bf%e0%a6%95%e0%a6%be/\n"
          ],
          "name": "stdout"
        },
        {
          "output_type": "stream",
          "text": [
            "ERROR:trafilatura.utils:retries/redirects: https://www.ourislam24.com/2020/12/28/%e0%a6%86%e0%a6%b0%e0%a7%87%e0%a6%95-%e0%a6%b8%e0%a6%aa%e0%a7%8d%e0%a6%a4%e0%a6%be%e0%a6%b9%e0%a7%87%e0%a6%b0-%e0%a6%9c%e0%a6%a8%e0%a7%8d%e0%a6%af-%e0%a6%86%e0%a6%a8%e0%a7%8d%e0%a6%a4%e0%a6%b0/ HTTPSConnectionPool(host='www.ourislam24.com', port=443): Max retries exceeded with url: /2020/12/28/%E0%A6%86%E0%A6%B0%E0%A7%87%E0%A6%95-%E0%A6%B8%E0%A6%AA%E0%A7%8D%E0%A6%A4%E0%A6%BE%E0%A6%B9%E0%A7%87%E0%A6%B0-%E0%A6%9C%E0%A6%A8%E0%A7%8D%E0%A6%AF-%E0%A6%86%E0%A6%A8%E0%A7%8D%E0%A6%A4%E0%A6%B0/ (Caused by ResponseError('too many 503 error responses'))\n",
            "ERROR:trafilatura.utils:parsing failed: Document is empty\n"
          ],
          "name": "stderr"
        },
        {
          "output_type": "stream",
          "text": [
            "Description Updated\n",
            "711\n",
            "Status Type\n",
            "Continuing\n",
            "712\n",
            "Link Type\n",
            "https://www.ourislam24.com/2020/12/28/%e0%a6%86%e0%a6%b0%e0%a7%87%e0%a6%95-%e0%a6%b8%e0%a6%aa%e0%a7%8d%e0%a6%a4%e0%a6%be%e0%a6%b9%e0%a7%87%e0%a6%b0-%e0%a6%9c%e0%a6%a8%e0%a7%8d%e0%a6%af-%e0%a6%86%e0%a6%a8%e0%a7%8d%e0%a6%a4%e0%a6%b0/\n",
            "None\n",
            "dropped\n",
            "713\n",
            "Link Type\n",
            "https://radiomunnabd.com/51792/\n",
            "Description Updated\n",
            "714\n",
            "Link Type\n",
            "https://www.anandabazar.com/national/covid-19-vaccine-in-india-preparations-in-last-stages-for-vaccination-says-pm-narendra-modi-dgtl-1.1252182?utm_source=facebook&utm_medium=social&utm_campaign=daily\n",
            "Description Updated\n",
            "715\n",
            "Link Type\n",
            "https://www.somoynews.tv/pages/details/255343\n"
          ],
          "name": "stdout"
        },
        {
          "output_type": "stream",
          "text": [
            "WARNING:trafilatura.utils:wrong encoding detected: utf-8\n"
          ],
          "name": "stderr"
        },
        {
          "output_type": "stream",
          "text": [
            "Description Updated\n",
            "716\n",
            "Link Type\n",
            "https://www.jagonews24.com/probash/article/633140\n",
            "Description Updated\n",
            "717\n",
            "Link Type\n",
            "https://www.somoyerkonthosor.com/2020/12/31/466334.htm\n",
            "Description Updated\n",
            "718\n",
            "Status Type\n",
            "Continuing\n",
            "719\n",
            "Link Type\n",
            "https://starmail24.com/2020/12/31/%e0%a6%ae%e0%a6%be%e0%a6%b2%e0%a7%9f%e0%a7%87%e0%a6%b6%e0%a6%bf%e0%a7%9f%e0%a6%be%e0%a7%9f-%e0%a6%ac%e0%a6%be%e0%a6%82%e0%a6%b2%e0%a6%be%e0%a6%a6%e0%a7%87%e0%a6%b6-%e0%a6%a6%e0%a7%82%e0%a6%a4%e0%a6%be/\n",
            "Description Updated\n",
            "720\n",
            "Link Type\n",
            "https://bengali.news18.com/news/south-bengal/tmc-mla-akhil-giri-tests-coronavirus-positive-541021.html\n",
            "Description Updated\n",
            "721\n",
            "Link Type\n",
            "https://banglanews24.com/national/news/bd/832512.details\n",
            "Description Updated\n",
            "722\n",
            "Link Type\n",
            "https://banglatraffic.com/bn/%E0%A6%AE%E0%A7%81%E0%A6%B8%E0%A6%B2%E0%A6%BF%E0%A6%AE%E0%A6%A6%E0%A7%87%E0%A6%B0-%E0%A6%9C%E0%A6%A8%E0%A7%8D%E0%A6%AF-%E0%A6%95%E0%A6%B0%E0%A7%8B%E0%A6%A8%E0%A6%BE-%E0%A6%AD%E0%A7%8D%E0%A6%AF/\n",
            "Description Updated\n",
            "723\n",
            "Link Type\n",
            "https://www.jugantor.com/covid-19/379413/%E0%A6%A8%E0%A6%BF%E0%A6%9C%E0%A7%87%E0%A6%A6%E0%A7%87%E0%A6%B0-%E0%A6%A4%E0%A7%88%E0%A6%B0%E0%A6%BF-%E0%A6%95%E0%A6%B0%E0%A7%8B%E0%A6%A8%E0%A6%BE-%E0%A6%9F%E0%A6%BF%E0%A6%95%E0%A6%BE%E0%A6%B0-%E0%A6%85%E0%A6%A8%E0%A7%81%E0%A6%AE%E0%A7%8B%E0%A6%A6%E0%A6%A8-%E0%A6%A6%E0%A6%BF%E0%A6%B2-%E0%A6%9A%E0%A7%80%E0%A6%A8\n",
            "Description Updated\n",
            "724\n",
            "Link Type\n",
            "https://www.ntvbd.com/world/%E0%A6%95%E0%A7%8B%E0%A6%AD%E0%A6%BF%E0%A6%A1-%E0%A7%A7%E0%A7%AF-%E0%A6%AA%E0%A7%8D%E0%A6%B0%E0%A6%A3%E0%A7%8B%E0%A6%A6%E0%A6%A8%E0%A6%BE-%E0%A6%AC%E0%A6%BF%E0%A6%B2%E0%A7%87-%E0%A6%B8%E0%A6%87-%E0%A6%95%E0%A6%B0%E0%A6%B2%E0%A7%87%E0%A6%A8-%E0%A6%9F%E0%A7%8D%E0%A6%B0%E0%A6%BE%E0%A6%AE%E0%A7%8D%E0%A6%AA-846697\n",
            "Description Updated\n",
            "725\n",
            "Link Type\n",
            "https://www.ntvbd.com/world/%E0%A6%AD%E0%A6%BE%E0%A6%B0%E0%A6%A4%E0%A7%87-%E0%A7%AC-%E0%A6%AE%E0%A6%BE%E0%A6%B8-%E0%A6%AC%E0%A6%BF%E0%A6%B0%E0%A6%A4%E0%A6%BF%E0%A6%B0-%E0%A6%AA%E0%A6%B0-%E0%A6%8F%E0%A6%95%E0%A6%A6%E0%A6%BF%E0%A6%A8%E0%A7%87-%E0%A6%B8%E0%A6%AC%E0%A6%9A%E0%A7%87%E0%A7%9F%E0%A7%87-%E0%A6%95%E0%A6%AE-%E0%A6%95%E0%A6%B0%E0%A7%8B%E0%A6%A8%E0%A6%BE-%E0%A6%B8%E0%A6%82%E0%A6%95%E0%A7%8D%E0%A6%B0%E0%A6%AE%E0%A6%A3-846649\n",
            "Description Updated\n",
            "726\n",
            "Link Type\n",
            "https://www.dailyinqilab.com/article/346238/%E0%A6%95%E0%A6%B0%E0%A7%8B%E0%A6%A8%E0%A6%BE-%E0%A6%AE%E0%A6%B9%E0%A6%BE%E0%A6%AE%E0%A6%BE%E0%A6%B0%E0%A6%BF%E0%A6%A4%E0%A7%87-%E0%A6%95%E0%A7%8D%E0%A6%B7%E0%A7%81%E0%A6%A7%E0%A6%BE%E0%A6%B0-%E0%A6%B8%E0%A7%8D%E0%A6%B0%E0%A7%8B%E0%A6%A4%E0%A7%87-%E0%A6%AD%E0%A6%BE%E0%A6%B8%E0%A6%AE%E0%A6%BE%E0%A6%A8-%E0%A6%87%E0%A6%89%E0%A6%B0%E0%A7%8B%E0%A6%AA\n",
            "Description Updated\n",
            "727\n",
            "Status Type\n",
            "Continuing\n",
            "728\n",
            "Link Type\n",
            "https://www.amadershomoy.com/bn/2020/12/28/1264945.html\n"
          ],
          "name": "stdout"
        },
        {
          "output_type": "stream",
          "text": [
            "ERROR:root:unknown error: করোনা সংকটে সরকারের কাছ থেকে প্রণোদনা পেলেও গত এপ্রিলে শ্রমিকের মজুরি ৩৫ শতাংশ কম দিয়েছেন পোশাকশিল্পের মালিকেরা। পরে ঈদ বোনাসও কম দিয়েছেন তাঁরা। এবার শ্রমিকের বার্ষিক ৫ শতাংশ মজুরি বৃদ্ধির (ইনক্রিমেন্ট) ওপর চোখ পড়েছে মালিকদের। তাঁরা আগামী দুই বছর শ্রমিকের ইনক্রিমেন্ট না দেওয়ার আবদার জানিয়েছেন।\n",
            "তৈরি পোশাকশিল্পের মালিকদের বড় দুই সংগঠনের একটি বিকেএমইএ গতকাল রোববার শ্রম প্রতিমন্ত্রী বেগম মন্নুজান সুফিয়ানকে এ ব্যাপারে একটি চিঠি দিয়েছে। সংগঠনের সভাপতি এ কে এম সেলিম ওসমানের স্বাক্ষরিত ওই চিঠিতে বলা হয়েছে, করোনা পরিস্থিতির কারণে শ্রমিক-কর্মচারীদের বেতন-ভাতা নিয়মিত পরিশোধ করা অসম্ভব হয়ে পড়েছে। বাংলাদেশসহ সারা বিশ্বে বিভিন্ন খাতে যেখানে বেতন-ভাতা কমানো হয়েছে, সেখানে পোশাকশিল্পে ৫ শতাংশ ইনক্রিমেন্ট বাস্তবসম্মত নয়। বিকেএমইএর এই বক্তব্যকে অযৌক্তিক ও অগ্রহণযোগ্য আবদার বলে মনে করেন শ্রমিকনেতারা।\n",
            "২০১৩ সালের নিম্নতম মজুরি বোর্ডে প্রথমবারের মতো শ্রমিক-কর্মচারীদের মূল মজুরি ৫ শতাংশ হারে বার্ষিক ইনক্রিমেন্ট দেওয়া বাধ্যতামূলক করা হয়। পরে ২০১৮ সালের মজুরিকাঠামোতেও তা বহাল রাখা হয়। বর্তমান কাঠামো অনুযায়ী, সপ্তম গ্রেডের শ্রমিকের মোট মজুরি ৮ হাজার টাকা। তার মধ্যে মূল মজুরি ৪ হাজার ১০০ টাকা।\n",
            "বার্ষিক ইনক্রিমেন্ট পেলে মূল মজুরি ২০৫ টাকা বৃদ্ধি পাবে। আর বাড়িভাড়া বাড়বে ১০২ টাকা ৫০ পয়সা। সাকল্যে শ্রমিকের মজুরি বাড়বে ৩০৭ টাকা ৫০ পয়সা। অন্যান্য গ্রেডেও একেক হারে মজুরি বাড়বে। এই সামান্য অর্থ না দেওয়ার অভিপ্রায় জানিয়েই শ্রম প্রতিমন্ত্রীকে চিঠি দিয়েছে বিকেএমইএ।\n",
            "মালিকদের বিবেক-বুদ্ধি লোপ পেয়েছে। তাঁরা যে শুধু মুনাফা বোঝেন, ইনক্রিমেন্ট বন্ধের দাবি তারই প্রমাণ।বাবুল আক্তার, শ্রমিকনেতা\n",
            "শ্রম প্রতিমন্ত্রীকে চিঠি দেওয়ার বিষয়টি নিশ্চিত করে বিকেএমইএর সহসভাপতি মোহাম্মদ হাতেম গতকাল রোববার বিকেলে প্রথম আলোকে বলেন, ‘ক্রেতারা পোশাকের দাম ১০-১৫ শতাংশ পর্যন্ত কম দিচ্ছেন। লোকসান দিয়ে ক্রয়াদেশ নিতে হচ্ছে উদ্যোক্তাদের। তারপরও আমরা বেতন কমাইনি। ব্যাংকসহ অনেক প্রতিষ্ঠান কর্মীদের বেতন কমিয়ে দিয়েছে। বর্তমান অবস্থায় ইনক্রিমেন্ট দেওয়াটা বিলাসিতা ছাড়া কিছু নয়। সদস্যরা চেয়েছেন বলেই আবেদন করা হয়েছে।’ কঠিন সময়ে ইনক্রিমেন্ট না দেওয়ার স্বাধীনতা মালিকদের আছে বলে মন্তব্য করেন তিনি।\n",
            "অন্যদিকে পোশাকশিল্পের মালিকদের আরেক সংগঠন বিজিএমইএর নেতারা আনুষ্ঠানিকভাবে চিঠি না দিলেও ইনক্রিমেন্ট কয়েক মাস স্থগিত রাখতে শ্রমসচিবকে মৌখিকভাবে অনুরোধ করেছেন। একই সঙ্গে নতুন করে প্রণোদনা পেতে সরকারের সঙ্গে আলাপ-আলোচনা চলছে বলে নিশ্চিত করেছেন সংগঠনের একজন শীর্ষস্থানীয় নেতা।\n",
            "করোনার কারণে গত মার্চে পোশাকের ক্রয়াদেশ বাতিল ও স্থগিত হওয়ার পরিস্থিতিতে মালিকেরা আতঙ্কিত হয়ে পড়লে সরকার রপ্তানিমুখী শিল্পের শ্রমিকদের মজুরি দেওয়ার জন্য পাঁচ হাজার কোটি টাকার প্রণোদনা প্যাকেজ ঘোষণা করে। পরে তহবিলটির আকার বেড়ে ৯ হাজার ১৮৮ কোটি টাকা দাঁড়ায়। সেই তহবিল থেকে প্রায় ১ হাজার ৮০০ কারখানামালিক নামমাত্র সেবা মাশুল বা সুদে ঋণ নিয়ে চার মাসের মজুরি দেন। দুই মাসের ব্যবধানে পোশাক রপ্তানিতে গতি ফিরলেও বেশ কয়েক হাজার শ্রমিক ছাঁটাই করেন উদ্যোক্তারা। তার আগে এপ্রিলে কারখানা বন্ধের সময়ে ৩৫ শতাংশ মজুরি কম দেন। এমনকি শ্রমিকের ঈদ বোনাসও কম দিয়েছেন অধিকাংশ মালিক।\n",
            "বিকেএমইএর ইনক্রিমেন্ট বন্ধের আবেদনের বিষয়ে প্রতিক্রিয়া জানিয়ে শ্রমিকনেতা বাবুল আক্তার প্রথম আলোকে বলেন, পোশাকশিল্পের মালিকেরা এত সুযোগ-সুবিধা পাওয়ার পরও দুই বছরের জন্য ইনক্রিমেন্ট বন্ধের যে দাবি করেছেন, তা কোনোভাবেই গ্রহণযোগ্য নয়। করোনা সংক্রমণের ঝুঁকির মধ্যে শ্রমিকেরা উৎপাদন করছেন, তাঁদের তো সুপার ইনক্রিমেন্ট দেওয়া দরকার। আসলে মালিকদের বিবেক-বুদ্ধি লোপ পেয়েছে। তাঁরা যে শুধু মুনাফা বোঝেন, ইনক্রিমেন্ট বন্ধের দাবি তারই প্রমাণ। ৫ শতাংশ মজুরি বৃদ্ধি না হলে শ্রমিকদের মধ্যে অসন্তোষ দেখা দিতে পারে বলে মন্তব্য করেন তিনি।\n",
            "সারা বছর যে মূল্যস্ফীতি হয়, সেটি সমন্বয় করার জন্যই ৫% ইনক্রিমেন্ট দেওয়া হয়। বর্তমানে মূল্যস্ফীতি ৫.৭৮%। সুতরাং মজুরি ৫% বাড়লেও মূল্যস্ফীতি পুরোপুরি সমন্বয় হবে না।খন্দকার গোলাম মোয়াজ্জেম, গবেষণা পরিচালক, সিপিডি\n",
            "করোনার কারণে ক্রয়াদেশ বাতিল ও স্থগিত হওয়ায় গত এপ্রিলে মাত্র ৩৭ কোটি ডলারের পোশাক রপ্তানি হয়। পরের মাসে ১২৩ কোটি ডলারের রপ্তানি হয়। তারপর রপ্তানি ঘুরে দাঁড়াতে থাকে। চলতি ২০২০-২১ অর্থবছরের প্রথম ৫ মাসে ১ হাজার ৮৯ কোটি ডলারের পোশাক রপ্তানি হয়েছে, যা গত বছরের চেয়ে মাত্র দেড় শতাংশ কম।\n",
            "জানতে চাইলে বেসরকারি গবেষণা প্রতিষ্ঠান সিপিডির গবেষণা পরিচালক খন্দকার গোলাম মোয়াজ্জেম বলেন, সারা বছর যে মূল্যস্ফীতি হয়, সেটি সমন্বয় করার জন্যই ৫ শতাংশ ইনক্রিমেন্ট দেওয়া হয়। বর্তমানে মূল্যস্ফীতি ৫ দশমিক ৭৮ শতাংশ। সুতরাং মজুরি ৫ শতাংশ বাড়লেও মূল্যস্ফীতি পুরোপুরি সমন্বয় হবে না। তিনি বলেন, বিদেশি ক্রেতাদের সঙ্গে মালিকদের দর-কষাকষি না করে শ্রমিকদের ঘাড়ে পুরোটা চাপিয়ে দেওয়ার এই মানসিকতা কাঙ্ক্ষিত নয়। Failed to parse: করোনা সংকটে সরকারের কাছ থেকে প্রণোদনা পেলেও গত এপ্রিলে শ্রমিকের মজুরি ৩৫ শতাংশ কম দিয়েছেন পোশাকশিল্পের মালিকেরা। পরে ঈদ বোনাসও কম দিয়েছেন তাঁরা। এবার শ্রমিকের বার্ষিক ৫ শতাংশ মজুরি বৃদ্ধির (ইনক্রিমেন্ট) ওপর চোখ পড়েছে মালিকদের। তাঁরা আগামী দুই বছর শ্রমিকের ইনক্রিমেন্ট না দেওয়ার আবদার জানিয়েছেন।\n",
            "তৈরি পোশাকশিল্পের মালিকদের বড় দুই সংগঠনের একটি বিকেএমইএ গতকাল রোববার শ্রম প্রতিমন্ত্রী বেগম মন্নুজান সুফিয়ানকে এ ব্যাপারে একটি চিঠি দিয়েছে। সংগঠনের সভাপতি এ কে এম সেলিম ওসমানের স্বাক্ষরিত ওই চিঠিতে বলা হয়েছে, করোনা পরিস্থিতির কারণে শ্রমিক-কর্মচারীদের বেতন-ভাতা নিয়মিত পরিশোধ করা অসম্ভব হয়ে পড়েছে। বাংলাদেশসহ সারা বিশ্বে বিভিন্ন খাতে যেখানে বেতন-ভাতা কমানো হয়েছে, সেখানে পোশাকশিল্পে ৫ শতাংশ ইনক্রিমেন্ট বাস্তবসম্মত নয়। বিকেএমইএর এই বক্তব্যকে অযৌক্তিক ও অগ্রহণযোগ্য আবদার বলে মনে করেন শ্রমিকনেতারা।\n",
            "২০১৩ সালের নিম্নতম মজুরি বোর্ডে প্রথমবারের মতো শ্রমিক-কর্মচারীদের মূল মজুরি ৫ শতাংশ হারে বার্ষিক ইনক্রিমেন্ট দেওয়া বাধ্যতামূলক করা হয়। পরে ২০১৮ সালের মজুরিকাঠামোতেও তা বহাল রাখা হয়। বর্তমান কাঠামো অনুযায়ী, সপ্তম গ্রেডের শ্রমিকের মোট মজুরি ৮ হাজার টাকা। তার মধ্যে মূল মজুরি ৪ হাজার ১০০ টাকা।\n",
            "বার্ষিক ইনক্রিমেন্ট পেলে মূল মজুরি ২০৫ টাকা বৃদ্ধি পাবে। আর বাড়িভাড়া বাড়বে ১০২ টাকা ৫০ পয়সা। সাকল্যে শ্রমিকের মজুরি বাড়বে ৩০৭ টাকা ৫০ পয়সা। অন্যান্য গ্রেডেও একেক হারে মজুরি বাড়বে। এই সামান্য অর্থ না দেওয়ার অভিপ্রায় জানিয়েই শ্রম প্রতিমন্ত্রীকে চিঠি দিয়েছে বিকেএমইএ।\n",
            "মালিকদের বিবেক-বুদ্ধি লোপ পেয়েছে। তাঁরা যে শুধু মুনাফা বোঝেন, ইনক্রিমেন্ট বন্ধের দাবি তারই প্রমাণ।বাবুল আক্তার, শ্রমিকনেতা\n",
            "শ্রম প্রতিমন্ত্রীকে চিঠি দেওয়ার বিষয়টি নিশ্চিত করে বিকেএমইএর সহসভাপতি মোহাম্মদ হাতেম গতকাল রোববার বিকেলে প্রথম আলোকে বলেন, ‘ক্রেতারা পোশাকের দাম ১০-১৫ শতাংশ পর্যন্ত কম দিচ্ছেন। লোকসান দিয়ে ক্রয়াদেশ নিতে হচ্ছে উদ্যোক্তাদের। তারপরও আমরা বেতন কমাইনি। ব্যাংকসহ অনেক প্রতিষ্ঠান কর্মীদের বেতন কমিয়ে দিয়েছে। বর্তমান অবস্থায় ইনক্রিমেন্ট দেওয়াটা বিলাসিতা ছাড়া কিছু নয়। সদস্যরা চেয়েছেন বলেই আবেদন করা হয়েছে।’ কঠিন সময়ে ইনক্রিমেন্ট না দেওয়ার স্বাধীনতা মালিকদের আছে বলে মন্তব্য করেন তিনি।\n",
            "অন্যদিকে পোশাকশিল্পের মালিকদের আরেক সংগঠন বিজিএমইএর নেতারা আনুষ্ঠানিকভাবে চিঠি না দিলেও ইনক্রিমেন্ট কয়েক মাস স্থগিত রাখতে শ্রমসচিবকে মৌখিকভাবে অনুরোধ করেছেন। একই সঙ্গে নতুন করে প্রণোদনা পেতে সরকারের সঙ্গে আলাপ-আলোচনা চলছে বলে নিশ্চিত করেছেন সংগঠনের একজন শীর্ষস্থানীয় নেতা।\n",
            "করোনার কারণে গত মার্চে পোশাকের ক্রয়াদেশ বাতিল ও স্থগিত হওয়ার পরিস্থিতিতে মালিকেরা আতঙ্কিত হয়ে পড়লে সরকার রপ্তানিমুখী শিল্পের শ্রমিকদের মজুরি দেওয়ার জন্য পাঁচ হাজার কোটি টাকার প্রণোদনা প্যাকেজ ঘোষণা করে। পরে তহবিলটির আকার বেড়ে ৯ হাজার ১৮৮ কোটি টাকা দাঁড়ায়। সেই তহবিল থেকে প্রায় ১ হাজার ৮০০ কারখানামালিক নামমাত্র সেবা মাশুল বা সুদে ঋণ নিয়ে চার মাসের মজুরি দেন। দুই মাসের ব্যবধানে পোশাক রপ্তানিতে গতি ফিরলেও বেশ কয়েক হাজার শ্রমিক ছাঁটাই করেন উদ্যোক্তারা। তার আগে এপ্রিলে কারখানা বন্ধের সময়ে ৩৫ শতাংশ মজুরি কম দেন। এমনকি শ্রমিকের ঈদ বোনাসও কম দিয়েছেন অধিকাংশ মালিক।\n",
            "বিকেএমইএর ইনক্রিমেন্ট বন্ধের আবেদনের বিষয়ে প্রতিক্রিয়া জানিয়ে শ্রমিকনেতা বাবুল আক্তার প্রথম আলোকে বলেন, পোশাকশিল্পের মালিকেরা এত সুযোগ-সুবিধা পাওয়ার পরও দুই বছরের জন্য ইনক্রিমেন্ট বন্ধের যে দাবি করেছেন, তা কোনোভাবেই গ্রহণযোগ্য নয়। করোনা সংক্রমণের ঝুঁকির মধ্যে শ্রমিকেরা উৎপাদন করছেন, তাঁদের তো সুপার ইনক্রিমেন্ট দেওয়া দরকার। আসলে মালিকদের বিবেক-বুদ্ধি লোপ পেয়েছে। তাঁরা যে শুধু মুনাফা বোঝেন, ইনক্রিমেন্ট বন্ধের দাবি তারই প্রমাণ। ৫ শতাংশ মজুরি বৃদ্ধি না হলে শ্রমিকদের মধ্যে অসন্তোষ দেখা দিতে পারে বলে মন্তব্য করেন তিনি।\n",
            "সারা বছর যে মূল্যস্ফীতি হয়, সেটি সমন্বয় করার জন্যই ৫% ইনক্রিমেন্ট দেওয়া হয়। বর্তমানে মূল্যস্ফীতি ৫.৭৮%। সুতরাং মজুরি ৫% বাড়লেও মূল্যস্ফীতি পুরোপুরি সমন্বয় হবে না।খন্দকার গোলাম মোয়াজ্জেম, গবেষণা পরিচালক, সিপিডি\n",
            "করোনার কারণে ক্রয়াদেশ বাতিল ও স্থগিত হওয়ায় গত এপ্রিলে মাত্র ৩৭ কোটি ডলারের পোশাক রপ্তানি হয়। পরের মাসে ১২৩ কোটি ডলারের রপ্তানি হয়। তারপর রপ্তানি ঘুরে দাঁড়াতে থাকে। চলতি ২০২০-২১ অর্থবছরের প্রথম ৫ মাসে ১ হাজার ৮৯ কোটি ডলারের পোশাক রপ্তানি হয়েছে, যা গত বছরের চেয়ে মাত্র দেড় শতাংশ কম।\n",
            "জানতে চাইলে বেসরকারি গবেষণা প্রতিষ্ঠান সিপিডির গবেষণা পরিচালক খন্দকার গোলাম মোয়াজ্জেম বলেন, সারা বছর যে মূল্যস্ফীতি হয়, সেটি সমন্বয় করার জন্যই ৫ শতাংশ ইনক্রিমেন্ট দেওয়া হয়। বর্তমানে মূল্যস্ফীতি ৫ দশমিক ৭৮ শতাংশ। সুতরাং মজুরি ৫ শতাংশ বাড়লেও মূল্যস্ফীতি পুরোপুরি সমন্বয় হবে না। তিনি বলেন, বিদেশি ক্রেতাদের সঙ্গে মালিকদের দর-কষাকষি না করে শ্রমিকদের ঘাড়ে পুরোটা চাপিয়ে দেওয়ার এই মানসিকতা কাঙ্ক্ষিত নয়।\n",
            "ERROR:trafilatura.utils:this type cannot be processed: <class 'NoneType'>\n"
          ],
          "name": "stderr"
        },
        {
          "output_type": "stream",
          "text": [
            "Description Updated\n",
            "729\n",
            "Link Type\n",
            "করোনা সংকটে সরকারের কাছ থেকে প্রণোদনা পেলেও গত এপ্রিলে শ্রমিকের মজুরি ৩৫ শতাংশ কম দিয়েছেন পোশাকশিল্পের মালিকেরা। পরে ঈদ বোনাসও কম দিয়েছেন তাঁরা। এবার শ্রমিকের বার্ষিক ৫ শতাংশ মজুরি বৃদ্ধির (ইনক্রিমেন্ট) ওপর চোখ পড়েছে মালিকদের। তাঁরা আগামী দুই বছর শ্রমিকের ইনক্রিমেন্ট না দেওয়ার আবদার জানিয়েছেন।\n",
            "তৈরি পোশাকশিল্পের মালিকদের বড় দুই সংগঠনের একটি বিকেএমইএ গতকাল রোববার শ্রম প্রতিমন্ত্রী বেগম মন্নুজান সুফিয়ানকে এ ব্যাপারে একটি চিঠি দিয়েছে। সংগঠনের সভাপতি এ কে এম সেলিম ওসমানের স্বাক্ষরিত ওই চিঠিতে বলা হয়েছে, করোনা পরিস্থিতির কারণে শ্রমিক-কর্মচারীদের বেতন-ভাতা নিয়মিত পরিশোধ করা অসম্ভব হয়ে পড়েছে। বাংলাদেশসহ সারা বিশ্বে বিভিন্ন খাতে যেখানে বেতন-ভাতা কমানো হয়েছে, সেখানে পোশাকশিল্পে ৫ শতাংশ ইনক্রিমেন্ট বাস্তবসম্মত নয়। বিকেএমইএর এই বক্তব্যকে অযৌক্তিক ও অগ্রহণযোগ্য আবদার বলে মনে করেন শ্রমিকনেতারা।\n",
            "২০১৩ সালের নিম্নতম মজুরি বোর্ডে প্রথমবারের মতো শ্রমিক-কর্মচারীদের মূল মজুরি ৫ শতাংশ হারে বার্ষিক ইনক্রিমেন্ট দেওয়া বাধ্যতামূলক করা হয়। পরে ২০১৮ সালের মজুরিকাঠামোতেও তা বহাল রাখা হয়। বর্তমান কাঠামো অনুযায়ী, সপ্তম গ্রেডের শ্রমিকের মোট মজুরি ৮ হাজার টাকা। তার মধ্যে মূল মজুরি ৪ হাজার ১০০ টাকা।\n",
            "বার্ষিক ইনক্রিমেন্ট পেলে মূল মজুরি ২০৫ টাকা বৃদ্ধি পাবে। আর বাড়িভাড়া বাড়বে ১০২ টাকা ৫০ পয়সা। সাকল্যে শ্রমিকের মজুরি বাড়বে ৩০৭ টাকা ৫০ পয়সা। অন্যান্য গ্রেডেও একেক হারে মজুরি বাড়বে। এই সামান্য অর্থ না দেওয়ার অভিপ্রায় জানিয়েই শ্রম প্রতিমন্ত্রীকে চিঠি দিয়েছে বিকেএমইএ।\n",
            "মালিকদের বিবেক-বুদ্ধি লোপ পেয়েছে। তাঁরা যে শুধু মুনাফা বোঝেন, ইনক্রিমেন্ট বন্ধের দাবি তারই প্রমাণ।বাবুল আক্তার, শ্রমিকনেতা\n",
            "শ্রম প্রতিমন্ত্রীকে চিঠি দেওয়ার বিষয়টি নিশ্চিত করে বিকেএমইএর সহসভাপতি মোহাম্মদ হাতেম গতকাল রোববার বিকেলে প্রথম আলোকে বলেন, ‘ক্রেতারা পোশাকের দাম ১০-১৫ শতাংশ পর্যন্ত কম দিচ্ছেন। লোকসান দিয়ে ক্রয়াদেশ নিতে হচ্ছে উদ্যোক্তাদের। তারপরও আমরা বেতন কমাইনি। ব্যাংকসহ অনেক প্রতিষ্ঠান কর্মীদের বেতন কমিয়ে দিয়েছে। বর্তমান অবস্থায় ইনক্রিমেন্ট দেওয়াটা বিলাসিতা ছাড়া কিছু নয়। সদস্যরা চেয়েছেন বলেই আবেদন করা হয়েছে।’ কঠিন সময়ে ইনক্রিমেন্ট না দেওয়ার স্বাধীনতা মালিকদের আছে বলে মন্তব্য করেন তিনি।\n",
            "অন্যদিকে পোশাকশিল্পের মালিকদের আরেক সংগঠন বিজিএমইএর নেতারা আনুষ্ঠানিকভাবে চিঠি না দিলেও ইনক্রিমেন্ট কয়েক মাস স্থগিত রাখতে শ্রমসচিবকে মৌখিকভাবে অনুরোধ করেছেন। একই সঙ্গে নতুন করে প্রণোদনা পেতে সরকারের সঙ্গে আলাপ-আলোচনা চলছে বলে নিশ্চিত করেছেন সংগঠনের একজন শীর্ষস্থানীয় নেতা।\n",
            "করোনার কারণে গত মার্চে পোশাকের ক্রয়াদেশ বাতিল ও স্থগিত হওয়ার পরিস্থিতিতে মালিকেরা আতঙ্কিত হয়ে পড়লে সরকার রপ্তানিমুখী শিল্পের শ্রমিকদের মজুরি দেওয়ার জন্য পাঁচ হাজার কোটি টাকার প্রণোদনা প্যাকেজ ঘোষণা করে। পরে তহবিলটির আকার বেড়ে ৯ হাজার ১৮৮ কোটি টাকা দাঁড়ায়। সেই তহবিল থেকে প্রায় ১ হাজার ৮০০ কারখানামালিক নামমাত্র সেবা মাশুল বা সুদে ঋণ নিয়ে চার মাসের মজুরি দেন। দুই মাসের ব্যবধানে পোশাক রপ্তানিতে গতি ফিরলেও বেশ কয়েক হাজার শ্রমিক ছাঁটাই করেন উদ্যোক্তারা। তার আগে এপ্রিলে কারখানা বন্ধের সময়ে ৩৫ শতাংশ মজুরি কম দেন। এমনকি শ্রমিকের ঈদ বোনাসও কম দিয়েছেন অধিকাংশ মালিক।\n",
            "বিকেএমইএর ইনক্রিমেন্ট বন্ধের আবেদনের বিষয়ে প্রতিক্রিয়া জানিয়ে শ্রমিকনেতা বাবুল আক্তার প্রথম আলোকে বলেন, পোশাকশিল্পের মালিকেরা এত সুযোগ-সুবিধা পাওয়ার পরও দুই বছরের জন্য ইনক্রিমেন্ট বন্ধের যে দাবি করেছেন, তা কোনোভাবেই গ্রহণযোগ্য নয়। করোনা সংক্রমণের ঝুঁকির মধ্যে শ্রমিকেরা উৎপাদন করছেন, তাঁদের তো সুপার ইনক্রিমেন্ট দেওয়া দরকার। আসলে মালিকদের বিবেক-বুদ্ধি লোপ পেয়েছে। তাঁরা যে শুধু মুনাফা বোঝেন, ইনক্রিমেন্ট বন্ধের দাবি তারই প্রমাণ। ৫ শতাংশ মজুরি বৃদ্ধি না হলে শ্রমিকদের মধ্যে অসন্তোষ দেখা দিতে পারে বলে মন্তব্য করেন তিনি।\n",
            "সারা বছর যে মূল্যস্ফীতি হয়, সেটি সমন্বয় করার জন্যই ৫% ইনক্রিমেন্ট দেওয়া হয়। বর্তমানে মূল্যস্ফীতি ৫.৭৮%। সুতরাং মজুরি ৫% বাড়লেও মূল্যস্ফীতি পুরোপুরি সমন্বয় হবে না।খন্দকার গোলাম মোয়াজ্জেম, গবেষণা পরিচালক, সিপিডি\n",
            "করোনার কারণে ক্রয়াদেশ বাতিল ও স্থগিত হওয়ায় গত এপ্রিলে মাত্র ৩৭ কোটি ডলারের পোশাক রপ্তানি হয়। পরের মাসে ১২৩ কোটি ডলারের রপ্তানি হয়। তারপর রপ্তানি ঘুরে দাঁড়াতে থাকে। চলতি ২০২০-২১ অর্থবছরের প্রথম ৫ মাসে ১ হাজার ৮৯ কোটি ডলারের পোশাক রপ্তানি হয়েছে, যা গত বছরের চেয়ে মাত্র দেড় শতাংশ কম।\n",
            "জানতে চাইলে বেসরকারি গবেষণা প্রতিষ্ঠান সিপিডির গবেষণা পরিচালক খন্দকার গোলাম মোয়াজ্জেম বলেন, সারা বছর যে মূল্যস্ফীতি হয়, সেটি সমন্বয় করার জন্যই ৫ শতাংশ ইনক্রিমেন্ট দেওয়া হয়। বর্তমানে মূল্যস্ফীতি ৫ দশমিক ৭৮ শতাংশ। সুতরাং মজুরি ৫ শতাংশ বাড়লেও মূল্যস্ফীতি পুরোপুরি সমন্বয় হবে না। তিনি বলেন, বিদেশি ক্রেতাদের সঙ্গে মালিকদের দর-কষাকষি না করে শ্রমিকদের ঘাড়ে পুরোটা চাপিয়ে দেওয়ার এই মানসিকতা কাঙ্ক্ষিত নয়।\n",
            "Failed to parse: করোনা সংকটে সরকারের কাছ থেকে প্রণোদনা পেলেও গত এপ্রিলে শ্রমিকের মজুরি ৩৫ শতাংশ কম দিয়েছেন পোশাকশিল্পের মালিকেরা। পরে ঈদ বোনাসও কম দিয়েছেন তাঁরা। এবার শ্রমিকের বার্ষিক ৫ শতাংশ মজুরি বৃদ্ধির (ইনক্রিমেন্ট) ওপর চোখ পড়েছে মালিকদের। তাঁরা আগামী দুই বছর শ্রমিকের ইনক্রিমেন্ট না দেওয়ার আবদার জানিয়েছেন।\n",
            "তৈরি পোশাকশিল্পের মালিকদের বড় দুই সংগঠনের একটি বিকেএমইএ গতকাল রোববার শ্রম প্রতিমন্ত্রী বেগম মন্নুজান সুফিয়ানকে এ ব্যাপারে একটি চিঠি দিয়েছে। সংগঠনের সভাপতি এ কে এম সেলিম ওসমানের স্বাক্ষরিত ওই চিঠিতে বলা হয়েছে, করোনা পরিস্থিতির কারণে শ্রমিক-কর্মচারীদের বেতন-ভাতা নিয়মিত পরিশোধ করা অসম্ভব হয়ে পড়েছে। বাংলাদেশসহ সারা বিশ্বে বিভিন্ন খাতে যেখানে বেতন-ভাতা কমানো হয়েছে, সেখানে পোশাকশিল্পে ৫ শতাংশ ইনক্রিমেন্ট বাস্তবসম্মত নয়। বিকেএমইএর এই বক্তব্যকে অযৌক্তিক ও অগ্রহণযোগ্য আবদার বলে মনে করেন শ্রমিকনেতারা।\n",
            "২০১৩ সালের নিম্নতম মজুরি বোর্ডে প্রথমবারের মতো শ্রমিক-কর্মচারীদের মূল মজুরি ৫ শতাংশ হারে বার্ষিক ইনক্রিমেন্ট দেওয়া বাধ্যতামূলক করা হয়। পরে ২০১৮ সালের মজুরিকাঠামোতেও তা বহাল রাখা হয়। বর্তমান কাঠামো অনুযায়ী, সপ্তম গ্রেডের শ্রমিকের মোট মজুরি ৮ হাজার টাকা। তার মধ্যে মূল মজুরি ৪ হাজার ১০০ টাকা।\n",
            "বার্ষিক ইনক্রিমেন্ট পেলে মূল মজুরি ২০৫ টাকা বৃদ্ধি পাবে। আর বাড়িভাড়া বাড়বে ১০২ টাকা ৫০ পয়সা। সাকল্যে শ্রমিকের মজুরি বাড়বে ৩০৭ টাকা ৫০ পয়সা। অন্যান্য গ্রেডেও একেক হারে মজুরি বাড়বে। এই সামান্য অর্থ না দেওয়ার অভিপ্রায় জানিয়েই শ্রম প্রতিমন্ত্রীকে চিঠি দিয়েছে বিকেএমইএ।\n",
            "মালিকদের বিবেক-বুদ্ধি লোপ পেয়েছে। তাঁরা যে শুধু মুনাফা বোঝেন, ইনক্রিমেন্ট বন্ধের দাবি তারই প্রমাণ।বাবুল আক্তার, শ্রমিকনেতা\n",
            "শ্রম প্রতিমন্ত্রীকে চিঠি দেওয়ার বিষয়টি নিশ্চিত করে বিকেএমইএর সহসভাপতি মোহাম্মদ হাতেম গতকাল রোববার বিকেলে প্রথম আলোকে বলেন, ‘ক্রেতারা পোশাকের দাম ১০-১৫ শতাংশ পর্যন্ত কম দিচ্ছেন। লোকসান দিয়ে ক্রয়াদেশ নিতে হচ্ছে উদ্যোক্তাদের। তারপরও আমরা বেতন কমাইনি। ব্যাংকসহ অনেক প্রতিষ্ঠান কর্মীদের বেতন কমিয়ে দিয়েছে। বর্তমান অবস্থায় ইনক্রিমেন্ট দেওয়াটা বিলাসিতা ছাড়া কিছু নয়। সদস্যরা চেয়েছেন বলেই আবেদন করা হয়েছে।’ কঠিন সময়ে ইনক্রিমেন্ট না দেওয়ার স্বাধীনতা মালিকদের আছে বলে মন্তব্য করেন তিনি।\n",
            "অন্যদিকে পোশাকশিল্পের মালিকদের আরেক সংগঠন বিজিএমইএর নেতারা আনুষ্ঠানিকভাবে চিঠি না দিলেও ইনক্রিমেন্ট কয়েক মাস স্থগিত রাখতে শ্রমসচিবকে মৌখিকভাবে অনুরোধ করেছেন। একই সঙ্গে নতুন করে প্রণোদনা পেতে সরকারের সঙ্গে আলাপ-আলোচনা চলছে বলে নিশ্চিত করেছেন সংগঠনের একজন শীর্ষস্থানীয় নেতা।\n",
            "করোনার কারণে গত মার্চে পোশাকের ক্রয়াদেশ বাতিল ও স্থগিত হওয়ার পরিস্থিতিতে মালিকেরা আতঙ্কিত হয়ে পড়লে সরকার রপ্তানিমুখী শিল্পের শ্রমিকদের মজুরি দেওয়ার জন্য পাঁচ হাজার কোটি টাকার প্রণোদনা প্যাকেজ ঘোষণা করে। পরে তহবিলটির আকার বেড়ে ৯ হাজার ১৮৮ কোটি টাকা দাঁড়ায়। সেই তহবিল থেকে প্রায় ১ হাজার ৮০০ কারখানামালিক নামমাত্র সেবা মাশুল বা সুদে ঋণ নিয়ে চার মাসের মজুরি দেন। দুই মাসের ব্যবধানে পোশাক রপ্তানিতে গতি ফিরলেও বেশ কয়েক হাজার শ্রমিক ছাঁটাই করেন উদ্যোক্তারা। তার আগে এপ্রিলে কারখানা বন্ধের সময়ে ৩৫ শতাংশ মজুরি কম দেন। এমনকি শ্রমিকের ঈদ বোনাসও কম দিয়েছেন অধিকাংশ মালিক।\n",
            "বিকেএমইএর ইনক্রিমেন্ট বন্ধের আবেদনের বিষয়ে প্রতিক্রিয়া জানিয়ে শ্রমিকনেতা বাবুল আক্তার প্রথম আলোকে বলেন, পোশাকশিল্পের মালিকেরা এত সুযোগ-সুবিধা পাওয়ার পরও দুই বছরের জন্য ইনক্রিমেন্ট বন্ধের যে দাবি করেছেন, তা কোনোভাবেই গ্রহণযোগ্য নয়। করোনা সংক্রমণের ঝুঁকির মধ্যে শ্রমিকেরা উৎপাদন করছেন, তাঁদের তো সুপার ইনক্রিমেন্ট দেওয়া দরকার। আসলে মালিকদের বিবেক-বুদ্ধি লোপ পেয়েছে। তাঁরা যে শুধু মুনাফা বোঝেন, ইনক্রিমেন্ট বন্ধের দাবি তারই প্রমাণ। ৫ শতাংশ মজুরি বৃদ্ধি না হলে শ্রমিকদের মধ্যে অসন্তোষ দেখা দিতে পারে বলে মন্তব্য করেন তিনি।\n",
            "সারা বছর যে মূল্যস্ফীতি হয়, সেটি সমন্বয় করার জন্যই ৫% ইনক্রিমেন্ট দেওয়া হয়। বর্তমানে মূল্যস্ফীতি ৫.৭৮%। সুতরাং মজুরি ৫% বাড়লেও মূল্যস্ফীতি পুরোপুরি সমন্বয় হবে না।খন্দকার গোলাম মোয়াজ্জেম, গবেষণা পরিচালক, সিপিডি\n",
            "করোনার কারণে ক্রয়াদেশ বাতিল ও স্থগিত হওয়ায় গত এপ্রিলে মাত্র ৩৭ কোটি ডলারের পোশাক রপ্তানি হয়। পরের মাসে ১২৩ কোটি ডলারের রপ্তানি হয়। তারপর রপ্তানি ঘুরে দাঁড়াতে থাকে। চলতি ২০২০-২১ অর্থবছরের প্রথম ৫ মাসে ১ হাজার ৮৯ কোটি ডলারের পোশাক রপ্তানি হয়েছে, যা গত বছরের চেয়ে মাত্র দেড় শতাংশ কম।\n",
            "জানতে চাইলে বেসরকারি গবেষণা প্রতিষ্ঠান সিপিডির গবেষণা পরিচালক খন্দকার গোলাম মোয়াজ্জেম বলেন, সারা বছর যে মূল্যস্ফীতি হয়, সেটি সমন্বয় করার জন্যই ৫ শতাংশ ইনক্রিমেন্ট দেওয়া হয়। বর্তমানে মূল্যস্ফীতি ৫ দশমিক ৭৮ শতাংশ। সুতরাং মজুরি ৫ শতাংশ বাড়লেও মূল্যস্ফীতি পুরোপুরি সমন্বয় হবে না। তিনি বলেন, বিদেশি ক্রেতাদের সঙ্গে মালিকদের দর-কষাকষি না করে শ্রমিকদের ঘাড়ে পুরোটা চাপিয়ে দেওয়ার এই মানসিকতা কাঙ্ক্ষিত নয়।\n",
            "dropped\n",
            "730\n",
            "Link Type\n",
            "https://bengali.abplive.com/news/in-two-decades-of-improved-infrastructure-gujarat-has-been-successful-in-tackling-corona-said-prime-minister-777245\n"
          ],
          "name": "stdout"
        },
        {
          "output_type": "stream",
          "text": [
            "ERROR:trafilatura.core:not enough text None\n",
            "ERROR:trafilatura.utils:not a 200 response: 404 for URL https://probashtime.com/2020/12/29/%E0%A6%93%E0%A6%AE%E0%A6%BE%E0%A6%A8-%E0%A6%AA%E0%A7%8D%E0%A6%B0%E0%A6%AC%E0%A7%87%E0%A6%B6%E0%A7%87-%E0%A6%A8%E0%A6%A4%E0%A7%81%E0%A6%A8-%E0%A6%A8%E0%A6%BF%E0%A6%B0%E0%A7%8D%E0%A6%A6%E0%A7%87-2/\n",
            "ERROR:trafilatura.utils:this type cannot be processed: <class 'NoneType'>\n"
          ],
          "name": "stderr"
        },
        {
          "output_type": "stream",
          "text": [
            "Description Updated\n",
            "731\n",
            "Link Type\n",
            "https://probashtime.com/2020/12/29/%E0%A6%93%E0%A6%AE%E0%A6%BE%E0%A6%A8-%E0%A6%AA%E0%A7%8D%E0%A6%B0%E0%A6%AC%E0%A7%87%E0%A6%B6%E0%A7%87-%E0%A6%A8%E0%A6%A4%E0%A7%81%E0%A6%A8-%E0%A6%A8%E0%A6%BF%E0%A6%B0%E0%A7%8D%E0%A6%A6%E0%A7%87-2/\n",
            "None\n",
            "dropped\n",
            "732\n",
            "Link Type\n",
            "https://banglatraffic.com/bn/%E0%A6%AE%E0%A7%81%E0%A6%B8%E0%A6%B2%E0%A6%BF%E0%A6%AE%E0%A6%A6%E0%A7%87%E0%A6%B0-%E0%A6%9C%E0%A6%A8%E0%A7%8D%E0%A6%AF-%E0%A6%95%E0%A6%B0%E0%A7%8B%E0%A6%A8%E0%A6%BE-%E0%A6%AD%E0%A7%8D%E0%A6%AF/\n",
            "Description Updated\n",
            "733\n",
            "Link Type\n",
            "https://news.bd24report.com/post/%e0%a6%ac%e0%a6%9b%e0%a6%b0%e0%a7%87%e0%a6%b0-%e0%a6%b6%e0%a7%87%e0%a6%b7-%e0%a6%a6%e0%a6%bf%e0%a6%a8%e0%a7%87-%e0%a6%b8%e0%a6%b0%e0%a7%8d%e0%a6%ac%e0%a7%8b%e0%a6%9a%e0%a7%8d%e0%a6%9a-%e0%a6%ae/\n"
          ],
          "name": "stdout"
        },
        {
          "output_type": "stream",
          "text": [
            "ERROR:trafilatura.utils:not a 200 response: 404 for URL https://probashtime.com/2020/12/27/%E0%A6%86%E0%A6%AE%E0%A6%BF%E0%A6%B0%E0%A6%BE%E0%A6%A4%E0%A7%87-%E0%A6%87%E0%A6%B8%E0%A6%B2%E0%A6%BE%E0%A6%AE-%E0%A6%97%E0%A7%8D%E0%A6%B0%E0%A6%B9%E0%A6%A3-%E0%A6%95%E0%A6%B0%E0%A6%B2%E0%A7%87/\n",
            "ERROR:trafilatura.utils:this type cannot be processed: <class 'NoneType'>\n"
          ],
          "name": "stderr"
        },
        {
          "output_type": "stream",
          "text": [
            "Description Updated\n",
            "734\n",
            "Link Type\n",
            "https://probashtime.com/2020/12/27/%E0%A6%86%E0%A6%AE%E0%A6%BF%E0%A6%B0%E0%A6%BE%E0%A6%A4%E0%A7%87-%E0%A6%87%E0%A6%B8%E0%A6%B2%E0%A6%BE%E0%A6%AE-%E0%A6%97%E0%A7%8D%E0%A6%B0%E0%A6%B9%E0%A6%A3-%E0%A6%95%E0%A6%B0%E0%A6%B2%E0%A7%87/\n",
            "None\n",
            "dropped\n",
            "735\n",
            "Status Type\n",
            "Continuing\n",
            "736\n",
            "Link Type\n",
            "https://athensbd24.com/archives/3250\n"
          ],
          "name": "stdout"
        },
        {
          "output_type": "stream",
          "text": [
            "ERROR:trafilatura.utils:retries/redirects: https://athensbd24.com/archives/3250 HTTPSConnectionPool(host='athensbd24.com', port=443): Max retries exceeded with url: /archives/3250 (Caused by ConnectTimeoutError(<urllib3.connection.HTTPSConnection object at 0x7f96ccdeab50>, 'Connection to athensbd24.com timed out. (connect timeout=30)'))\n",
            "ERROR:trafilatura.utils:parsing failed: Document is empty\n"
          ],
          "name": "stderr"
        },
        {
          "output_type": "stream",
          "text": [
            "HTTPSConnectionPool(host='athensbd24.com', port=443): Max retries exceeded with url: /archives/3250 (Caused by NewConnectionError('<urllib3.connection.HTTPSConnection object at 0x7f96cb7948d0>: Failed to establish a new connection: [Errno 110] Connection timed out'))\n",
            "dropped\n",
            "737\n",
            "Link Type\n",
            "https://banglatraffic.com/bn/%E0%A6%93%E0%A6%AE%E0%A6%B0%E0%A6%BE%E0%A6%B9-%E0%A6%AA%E0%A6%BE%E0%A6%B2%E0%A6%A8%E0%A7%87-%E0%A7%AB%E0%A7%A6-%E0%A6%B2%E0%A6%BE%E0%A6%96-%E0%A6%AE%E0%A6%BE%E0%A6%A8%E0%A7%81%E0%A6%B7-%E0%A6%95/\n",
            "Description Updated\n",
            "738\n",
            "Link Type\n",
            "https://www.dailyinqilab.com/article/346783/%E0%A6%8F%E0%A6%AC%E0%A6%BE%E0%A6%B0-%E0%A6%95%E0%A6%B0%E0%A7%8B%E0%A6%A8%E0%A6%BE-%E0%A6%9F%E0%A6%BF%E0%A6%95%E0%A6%BE%E0%A6%B0-%E0%A6%85%E0%A6%A8%E0%A7%81%E0%A6%AE%E0%A7%8B%E0%A6%A6%E0%A6%A8-%E0%A6%A6%E0%A6%BF%E0%A6%B2-%E0%A6%9A%E0%A7%80%E0%A6%A8\n"
          ],
          "name": "stdout"
        },
        {
          "output_type": "stream",
          "text": [
            "ERROR:trafilatura.utils:not a 200 response: 403 for URL https://www.bangla.24livenewspaper.com/world/73207-china-to-leapfrog-us\n",
            "ERROR:trafilatura.utils:this type cannot be processed: <class 'NoneType'>\n"
          ],
          "name": "stderr"
        },
        {
          "output_type": "stream",
          "text": [
            "Description Updated\n",
            "739\n",
            "Link Type\n",
            "https://www.bangla.24livenewspaper.com/world/73207-china-to-leapfrog-us\n",
            "None\n",
            "dropped\n",
            "740\n",
            "Link Type\n",
            "https://www.banglatribune.com/foreign/news/660074/%E0%A6%9A%E0%A7%80%E0%A6%A8%E0%A7%87-%E0%A6%85%E0%A6%A8%E0%A7%81%E0%A6%AE%E0%A7%8B%E0%A6%A6%E0%A6%A8-%E0%A6%AA%E0%A7%87%E0%A6%B2%E0%A7%8B-%E0%A6%B8%E0%A6%BF%E0%A6%A8%E0%A7%8B%E0%A6%AB%E0%A6%BE%E0%A6%B0%E0%A7%8D%E0%A6%AE%E0%A7%87%E0%A6%B0-%E0%A6%95%E0%A6%B0%E0%A7%8B%E0%A6%A8%E0%A6%BE-%E0%A6%AD%E0%A7%8D%E0%A6%AF%E0%A6%BE%E0%A6%95%E0%A6%B8%E0%A6%BF%E0%A6%A8\n",
            "Description Updated\n",
            "741\n",
            "Link Type\n",
            "https://www.dainikshiksha.com/%E0%A7%A7%E0%A7%A8-%E0%A6%A6%E0%A6%BF%E0%A6%A8%E0%A7%87-%E0%A6%AA%E0%A6%BE%E0%A6%A0%E0%A7%8D%E0%A6%AF%E0%A6%AC%E0%A6%87-%E0%A6%AC%E0%A6%BF%E0%A6%A4%E0%A6%B0%E0%A6%A3-%E0%A6%B9%E0%A6%AC%E0%A7%87/201080/\n",
            "Description Updated\n",
            "742\n",
            "Link Type\n",
            "https://timesbd20.com/archives/14948\n"
          ],
          "name": "stdout"
        },
        {
          "output_type": "stream",
          "text": [
            "ERROR:trafilatura.utils:retries/redirects: https://timesbd20.com/archives/14948 HTTPSConnectionPool(host='timesbd20.com', port=443): Max retries exceeded with url: /archives/14948 (Caused by SSLError(SSLCertVerificationError(1, '[SSL: CERTIFICATE_VERIFY_FAILED] certificate verify failed: certificate has expired (_ssl.c:1091)')))\n",
            "ERROR:trafilatura.utils:parsing failed: Document is empty\n"
          ],
          "name": "stderr"
        },
        {
          "output_type": "stream",
          "text": [
            "HTTPSConnectionPool(host='timesbd20.com', port=443): Max retries exceeded with url: /archives/14948 (Caused by SSLError(SSLCertVerificationError(1, '[SSL: CERTIFICATE_VERIFY_FAILED] certificate verify failed: certificate has expired (_ssl.c:1091)')))\n",
            "dropped\n",
            "743\n",
            "Link Type\n",
            "https://www.thewall.in/?p=291403\n"
          ],
          "name": "stdout"
        },
        {
          "output_type": "stream",
          "text": [
            "ERROR:trafilatura.core:not enough text None\n"
          ],
          "name": "stderr"
        },
        {
          "output_type": "stream",
          "text": [
            "Description Updated\n",
            "744\n",
            "Status Type\n",
            "Continuing\n",
            "745\n",
            "Status Type\n",
            "Continuing\n",
            "746\n",
            "Link Type\n",
            "https://www.dailyinqilab.com/article/345859/%E0%A6%B8%E0%A6%BF%E0%A6%B2%E0%A7%87%E0%A6%9F%E0%A7%87-%E0%A6%95%E0%A6%B0%E0%A7%8B%E0%A6%A8%E0%A6%BE%E0%A7%9F-%E0%A6%86%E0%A6%95%E0%A7%8D%E0%A6%B0%E0%A6%BE%E0%A6%A8%E0%A7%8D%E0%A6%A4-%E0%A6%86%E0%A6%B0%E0%A7%8B%E0%A6%93-%E0%A7%A9%E0%A7%AB%E0%A6%9C%E0%A6%A8-%E0%A6%AE%E0%A7%83%E0%A6%A4%E0%A7%8D%E0%A6%AF%E0%A7%81-%E0%A6%A8%E0%A7%87%E0%A6%87\n",
            "Description Updated\n",
            "747\n",
            "Link Type\n",
            "https://www.bekarjibon.com/%e0%a6%ac%e0%a7%9f%e0%a6%b8-%e0%a6%ac%e0%a6%be%e0%a7%9c%e0%a6%be%e0%a6%a8-%e0%a6%ac%e0%a6%be%e0%a7%9c%e0%a6%be%e0%a6%a8-%e0%a6%95%e0%a6%b0%e0%a7%8d%e0%a6%ae%e0%a6%b8%e0%a6%82%e0%a6%b8%e0%a7%8d/\n"
          ],
          "name": "stdout"
        },
        {
          "output_type": "stream",
          "text": [
            "ERROR:trafilatura.utils:retries/redirects: https://modinanews.com/%e0%a6%b9%e0%a6%9c%e0%a7%87-%e0%a6%97%e0%a6%bf%e0%a7%9f%e0%a7%87-%e0%a6%95%e0%a7%87%e0%a6%89-%e0%a6%95%e0%a6%b0%e0%a7%8b%e0%a6%a8%e0%a6%be-%e0%a6%86%e0%a6%95%e0%a7%8d%e0%a6%b0%e0%a6%be%e0%a6%a8/ HTTPSConnectionPool(host='modinanews.com', port=443): Max retries exceeded with url: /%E0%A6%B9%E0%A6%9C%E0%A7%87-%E0%A6%97%E0%A6%BF%E0%A7%9F%E0%A7%87-%E0%A6%95%E0%A7%87%E0%A6%89-%E0%A6%95%E0%A6%B0%E0%A7%8B%E0%A6%A8%E0%A6%BE-%E0%A6%86%E0%A6%95%E0%A7%8D%E0%A6%B0%E0%A6%BE%E0%A6%A8/ (Caused by NewConnectionError('<urllib3.connection.HTTPSConnection object at 0x7f96cd0b4a90>: Failed to establish a new connection: [Errno -2] Name or service not known'))\n",
            "ERROR:trafilatura.utils:parsing failed: Document is empty\n"
          ],
          "name": "stderr"
        },
        {
          "output_type": "stream",
          "text": [
            "Description Updated\n",
            "748\n",
            "Link Type\n",
            "https://modinanews.com/%e0%a6%b9%e0%a6%9c%e0%a7%87-%e0%a6%97%e0%a6%bf%e0%a7%9f%e0%a7%87-%e0%a6%95%e0%a7%87%e0%a6%89-%e0%a6%95%e0%a6%b0%e0%a7%8b%e0%a6%a8%e0%a6%be-%e0%a6%86%e0%a6%95%e0%a7%8d%e0%a6%b0%e0%a6%be%e0%a6%a8/\n",
            "HTTPSConnectionPool(host='modinanews.com', port=443): Max retries exceeded with url: /%E0%A6%B9%E0%A6%9C%E0%A7%87-%E0%A6%97%E0%A6%BF%E0%A7%9F%E0%A7%87-%E0%A6%95%E0%A7%87%E0%A6%89-%E0%A6%95%E0%A6%B0%E0%A7%8B%E0%A6%A8%E0%A6%BE-%E0%A6%86%E0%A6%95%E0%A7%8D%E0%A6%B0%E0%A6%BE%E0%A6%A8/ (Caused by NewConnectionError('<urllib3.connection.HTTPSConnection object at 0x7f96cb1a2c10>: Failed to establish a new connection: [Errno -2] Name or service not known'))\n",
            "dropped\n",
            "749\n",
            "Link Type\n",
            "https://www.jagonews24.com/national/news/632758\n",
            "Description Updated\n",
            "750\n",
            "Status Type\n",
            "Continuing\n",
            "751\n",
            "Status Type\n",
            "Continuing\n",
            "752\n",
            "Link Type\n",
            "https://albd.org/bn/articles/news/35556/%E0%A6%B6%E0%A6%A4-%E0%A6%AA%E0%A7%8D%E0%A6%B0%E0%A6%A4%E0%A6%BF%E0%A6%95%E0%A7%82%E0%A6%B2%E0%A6%A4%E0%A6%BE%E0%A7%9F%E0%A6%93-%E0%A6%8F%E0%A6%97%E0%A6%BF%E0%A7%9F%E0%A7%87-%E0%A6%AF%E0%A6%BE%E0%A6%9A%E0%A7%8D%E0%A6%9B%E0%A7%87-%E0%A6%A6%E0%A7%87%E0%A6%B6%E0%A6%83-%E0%A6%B8%E0%A6%BE%E0%A6%AB%E0%A6%B2%E0%A7%8D%E0%A6%AF%E0%A7%87%E0%A6%B0-%E0%A6%AE%E0%A7%82%E0%A6%B2%E0%A7%87-%E0%A6%AA%E0%A7%8D%E0%A6%B0%E0%A6%A7%E0%A6%BE%E0%A6%A8%E0%A6%AE%E0%A6%A8%E0%A7%8D%E0%A6%A4%E0%A7%8D%E0%A6%B0%E0%A7%80-%E0%A6%B6%E0%A7%87%E0%A6%96-%E0%A6%B9%E0%A6%BE%E0%A6%B8%E0%A6%BF%E0%A6%A8%E0%A6%BE%E0%A6%B0-%E0%A6%AC%E0%A6%BF%E0%A6%9A%E0%A6%95%E0%A7%8D%E0%A6%B7%E0%A6%A3-%E0%A6%A8%E0%A7%87%E0%A6%A4%E0%A7%83%E0%A6%A4%E0%A7%8D%E0%A6%AC\n",
            "Description Updated\n",
            "753\n",
            "Link Type\n",
            "https://birohimon.com/archives/105466.php\n",
            "Description Updated\n",
            "754\n",
            "Status Type\n",
            "Continuing\n",
            "755\n",
            "Link Type\n",
            "https://www.channelionline.com/%e0%a6%95%e0%a6%b0%e0%a7%8b%e0%a6%a8%e0%a6%be%e0%a6%ad%e0%a6%be%e0%a6%87%e0%a6%b0%e0%a6%be%e0%a6%b8-%e0%a7%ab-%e0%a6%a5%e0%a7%87%e0%a6%95%e0%a7%87-%e0%a7%ac-%e0%a6%95%e0%a7%8b%e0%a6%9f%e0%a6%bf/\n"
          ],
          "name": "stdout"
        },
        {
          "output_type": "stream",
          "text": [
            "ERROR:trafilatura.core:not enough text None\n"
          ],
          "name": "stderr"
        },
        {
          "output_type": "stream",
          "text": [
            "Description Updated\n",
            "756\n",
            "Status Type\n",
            "Continuing\n",
            "757\n",
            "Link Type\n",
            "https://www.prothomalo.com/world/china/%E0%A6%89%E0%A6%B9%E0%A6%BE%E0%A6%A8%E0%A7%87%E0%A6%B0-%E0%A6%95%E0%A6%B0%E0%A7%8B%E0%A6%A8%E0%A6%BE-%E0%A6%A8%E0%A6%BF%E0%A7%9F%E0%A7%87-%E0%A6%B0%E0%A6%BF%E0%A6%AA%E0%A7%8B%E0%A6%B0%E0%A7%8D%E0%A6%9F-%E0%A6%95%E0%A6%B0%E0%A6%BE-%E0%A6%B8%E0%A6%BE%E0%A6%82%E0%A6%AC%E0%A6%BE%E0%A6%A6%E0%A6%BF%E0%A6%95%E0%A7%87%E0%A6%B0-%E0%A7%AA-%E0%A6%AC%E0%A6%9B%E0%A6%B0%E0%A7%87%E0%A6%B0-%E0%A6%9C%E0%A7%87%E0%A6%B2\n",
            "Description Updated\n",
            "758\n",
            "Status Type\n",
            "Continuing\n",
            "759\n",
            "Link Type\n",
            "https://cutt.ly/DjeHnUk\n",
            "Description Updated\n",
            "760\n",
            "Link Type\n",
            "https://www.banglarpran.com/the-prime-minister-gave-a-good-start-to-indias-first-driverless-train/\n",
            "Description Updated\n",
            "761\n",
            "Link Type\n",
            "https://www.prothomalo.com/entertainment/bollywood/%E0%A6%95%E0%A6%B0%E0%A7%8B%E0%A6%A8%E0%A6%BE-%E0%A6%A5%E0%A7%87%E0%A6%95%E0%A7%87-%E0%A6%B8%E0%A7%87%E0%A6%B0%E0%A7%87-%E0%A6%AE%E0%A6%BE%E0%A6%B0%E0%A6%BE-%E0%A6%97%E0%A7%87%E0%A6%B2%E0%A7%87%E0%A6%A8-%E0%A6%8F-%E0%A6%86%E0%A6%B0-%E0%A6%B0%E0%A6%B9%E0%A6%AE%E0%A6%BE%E0%A6%A8%E0%A7%87%E0%A6%B0-%E0%A6%AE%E0%A6%BE\n",
            "Description Updated\n",
            "762\n",
            "Link Type\n",
            "https://www.jagonews24.com/national/news/632783\n",
            "Description Updated\n",
            "763\n",
            "Link Type\n",
            "https://www.somoyerkonthosor.com/2020/12/29/466151.htm\n",
            "Description Updated\n",
            "764\n",
            "Link Type\n",
            "https://americabangla.com/international/%e0%a6%9a%e0%a7%80%e0%a6%a8-%e0%a6%a4%e0%a7%81%e0%a6%b0%e0%a6%b8%e0%a7%8d%e0%a6%95-%e0%a6%b8%e0%a6%ae%e0%a7%8d%e0%a6%aa%e0%a6%b0%e0%a7%8d%e0%a6%95%e0%a7%87-%e0%a6%a8%e0%a6%a4%e0%a7%81%e0%a6%a8/\n",
            "Description Updated\n",
            "765\n",
            "Status Type\n",
            "Continuing\n",
            "766\n",
            "Status Type\n",
            "Continuing\n",
            "767\n",
            "Status Type\n",
            "Continuing\n",
            "768\n",
            "Link Type\n",
            "http://ajkerjholok.com/education-and-culture/10531/\n",
            "Description Updated\n",
            "769\n",
            "Status Type\n",
            "Continuing\n",
            "770\n",
            "Status Type\n",
            "Continuing\n",
            "771\n",
            "Link Type\n",
            "https://www.anandabazar.com/national/new-corona-strain-suspension-of-uk-flights-to-india-may-be-extended-says-hardeep-singh-puri-dgtl-1.1251199?utm_source=facebook&utm_medium=social&utm_campaign=daily\n",
            "Description Updated\n",
            "772\n",
            "Link Type\n",
            "https://www.bd-pratidin.com/international-news/2020/12/27/601602\n",
            "Description Updated\n",
            "773\n",
            "Link Type\n",
            "https://www.crimenewstv24.com/2020/12/31/%e0%a6%ae%e0%a6%be%e0%a6%a8%e0%a6%ac-%e0%a6%b8%e0%a7%87%e0%a6%ac%e0%a6%be%e0%a7%9f-%e0%a6%a8%e0%a6%bf%e0%a6%b0%e0%a6%a8%e0%a7%8d%e0%a6%a4%e0%a6%b0-%e0%a6%aa%e0%a6%a5-%e0%a6%9a%e0%a6%b2%e0%a6%be/\n"
          ],
          "name": "stdout"
        },
        {
          "output_type": "stream",
          "text": [
            "ERROR:trafilatura.core:not enough text None\n"
          ],
          "name": "stderr"
        },
        {
          "output_type": "stream",
          "text": [
            "Description Updated\n",
            "774\n",
            "Status Type\n",
            "Continuing\n",
            "775\n",
            "Link Type\n",
            "https://birohimon.com/archives/105466.php\n",
            "Description Updated\n",
            "776\n",
            "Status Type\n",
            "Continuing\n",
            "777\n",
            "Link Type\n",
            "https://www.ittefaq.com.bd/worldnews/209835/%E0%A6%A4%E0%A7%83%E0%A6%A4%E0%A7%80%E0%A7%9F%E0%A6%AC%E0%A6%BE%E0%A6%B0%E0%A7%87%E0%A6%B0-%E0%A6%AE%E0%A6%A4%E0%A7%8B-%E0%A6%AB%E0%A7%8D%E0%A6%B0%E0%A6%BE%E0%A6%A8%E0%A7%8D%E0%A6%B8%E0%A7%87-%E0%A6%B2%E0%A6%95%E0%A6%A1%E0%A6%BE%E0%A6%89%E0%A6%A8%E0%A7%87%E0%A6%B0-%E0%A6%B8%E0%A6%AE%E0%A7%8D%E0%A6%AD%E0%A6%BE%E0%A6%AC%E0%A6%A8%E0%A6%BE\n",
            "Description Updated\n",
            "778\n",
            "Status Type\n",
            "Continuing\n",
            "779\n",
            "Link Type\n",
            "https://www.ittefaq.com.bd/entertainment/209699/%E0%A6%95%E0%A6%B0%E0%A7%8B%E0%A6%A8%E0%A6%BE%E0%A6%AE%E0%A7%81%E0%A6%95%E0%A7%8D%E0%A6%A4-%E0%A6%86%E0%A6%B0%E0%A6%BF%E0%A6%AB%E0%A6%BF%E0%A6%A8-%E0%A6%B6%E0%A7%81%E0%A6%AD-%E0%A6%A8%E0%A7%81%E0%A6%B8%E0%A6%B0%E0%A6%BE%E0%A6%A4-%E0%A6%AB%E0%A6%BE%E0%A6%B0%E0%A6%BF%E0%A7%9F%E0%A6%BE\n"
          ],
          "name": "stdout"
        },
        {
          "output_type": "stream",
          "text": [
            "ERROR:trafilatura.utils:not a 200 response: 403 for URL https://samakal.com/bangladesh/article/201248032/%E0%A6%AA%E0%A7%8D%E0%A6%B0%E0%A6%A7%E0%A6%BE%E0%A6%A8%E0%A6%AE%E0%A6%A8%E0%A7%8D%E0%A6%A4%E0%A7%8D%E0%A6%B0%E0%A7%80-%E0%A6%AC%E0%A6%87-%E0%A6%AC%E0%A6%BF%E0%A6%A4%E0%A6%B0%E0%A6%A3%E0%A7%87%E0%A6%B0-%E0%A6%86%E0%A6%A8%E0%A7%81%E0%A6%B7%E0%A7%8D%E0%A6%A0%E0%A6%BE%E0%A6%A8%E0%A6%BF%E0%A6%95-%E0%A6%89%E0%A6%A6%E0%A7%8D%E0%A6%AC%E0%A7%8B%E0%A6%A7%E0%A6%A8-%E0%A6%95%E0%A6%B0%E0%A6%AC%E0%A7%87%E0%A6%A8-%E0%A6%AC%E0%A7%83%E0%A6%B9%E0%A6%B8%E0%A7%8D%E0%A6%AA%E0%A6%A4%E0%A6%BF%E0%A6%AC%E0%A6%BE%E0%A6%B0\n",
            "ERROR:trafilatura.utils:this type cannot be processed: <class 'NoneType'>\n"
          ],
          "name": "stderr"
        },
        {
          "output_type": "stream",
          "text": [
            "Description Updated\n",
            "780\n",
            "Link Type\n",
            "https://samakal.com/bangladesh/article/201248032/%E0%A6%AA%E0%A7%8D%E0%A6%B0%E0%A6%A7%E0%A6%BE%E0%A6%A8%E0%A6%AE%E0%A6%A8%E0%A7%8D%E0%A6%A4%E0%A7%8D%E0%A6%B0%E0%A7%80-%E0%A6%AC%E0%A6%87-%E0%A6%AC%E0%A6%BF%E0%A6%A4%E0%A6%B0%E0%A6%A3%E0%A7%87%E0%A6%B0-%E0%A6%86%E0%A6%A8%E0%A7%81%E0%A6%B7%E0%A7%8D%E0%A6%A0%E0%A6%BE%E0%A6%A8%E0%A6%BF%E0%A6%95-%E0%A6%89%E0%A6%A6%E0%A7%8D%E0%A6%AC%E0%A7%8B%E0%A6%A7%E0%A6%A8-%E0%A6%95%E0%A6%B0%E0%A6%AC%E0%A7%87%E0%A6%A8-%E0%A6%AC%E0%A7%83%E0%A6%B9%E0%A6%B8%E0%A7%8D%E0%A6%AA%E0%A6%A4%E0%A6%BF%E0%A6%AC%E0%A6%BE%E0%A6%B0\n",
            "None\n",
            "dropped\n",
            "781\n",
            "Status Type\n",
            "Continuing\n",
            "782\n",
            "Link Type\n",
            "https://mzamin.com/article.php?mzamin=256353\n"
          ],
          "name": "stdout"
        },
        {
          "output_type": "stream",
          "text": [
            "ERROR:trafilatura.utils:not a 200 response: 403 for URL https://www.bangla.24livenewspaper.com/world/73245-you-have-to-pay-2000-dollars\n",
            "ERROR:trafilatura.utils:this type cannot be processed: <class 'NoneType'>\n"
          ],
          "name": "stderr"
        },
        {
          "output_type": "stream",
          "text": [
            "Description Updated\n",
            "783\n",
            "Link Type\n",
            "https://www.bangla.24livenewspaper.com/world/73245-you-have-to-pay-2000-dollars\n",
            "None\n",
            "dropped\n",
            "784\n",
            "Link Type\n",
            "https://jamuna.tv/news/194269\n",
            "Description Updated\n",
            "785\n",
            "Link Type\n",
            "https://dainikazadi.net/%e0%a6%af%e0%a7%87-%e0%a6%b0%e0%a6%95%e0%a6%ae-%e0%a6%9b%e0%a6%bf%e0%a6%b2-%e0%a6%9a%e0%a6%9f%e0%a7%8d%e0%a6%9f%e0%a6%97%e0%a7%8d%e0%a6%b0%e0%a6%be%e0%a6%ae%e0%a7%87%e0%a6%b0-%e0%a6%b8%e0%a7%8d/\n",
            "Description Updated\n",
            "786\n",
            "Status Type\n",
            "Continuing\n",
            "787\n",
            "Link Type\n",
            "https://www.somoynews.tv/pages/details/254853\n",
            "Description Updated\n",
            "788\n",
            "Link Type\n",
            "http://www.bangalitimes.com/archives/65496\n",
            "Description Updated\n",
            "789\n",
            "Link Type\n",
            "http://cplusbd.net/%e0%a6%86%e0%a6%a8%e0%a7%8d%e0%a6%a6%e0%a6%b0%e0%a6%95%e0%a6%bf%e0%a6%b2%e0%a7%8d%e0%a6%b2%e0%a6%be-%e0%a6%b8%e0%a6%bf%e0%a6%ad%e0%a6%bf%e0%a6%b2-%e0%a6%b8%e0%a6%be%e0%a6%b0%e0%a7%8d%e0%a6%9c%e0%a6%a8/\n",
            "Description Updated\n",
            "790\n",
            "Link Type\n",
            "https://www.banglatribune.com/country/news/660127/%E0%A6%B8%E0%A7%88%E0%A6%95%E0%A6%A4%E0%A7%87-%E0%A6%AA%E0%A6%B0%E0%A7%8D%E0%A6%AF%E0%A6%9F%E0%A6%95%E0%A7%87%E0%A6%B0-%E0%A6%A2%E0%A6%B2-%E0%A6%95%E0%A6%B0%E0%A7%8B%E0%A6%A8%E0%A6%BE%E0%A6%AE%E0%A7%81%E0%A6%95%E0%A7%8D%E0%A6%A4-%E0%A6%AA%E0%A7%83%E0%A6%A5%E0%A6%BF%E0%A6%AC%E0%A7%80%E0%A6%B0-%E0%A6%AA%E0%A7%8D%E0%A6%B0%E0%A6%A4%E0%A7%8D%E0%A6%AF%E0%A6%BE%E0%A6%B6%E0%A6%BE\n",
            "Description Updated\n",
            "791\n",
            "Status Type\n",
            "Continuing\n",
            "792\n",
            "Link Type\n",
            "https://timesinnovation24.com/%e0%a6%98%e0%a6%b0%e0%a7%87-%e0%a6%a5%e0%a7%87%e0%a6%95%e0%a7%87-%e0%a6%a5%e0%a6%be%e0%a6%b0%e0%a7%8d%e0%a6%9f%e0%a6%bf-%e0%a6%ab%e0%a6%be%e0%a6%b0%e0%a7%8d%e0%a6%b8%e0%a7%8d%e0%a6%9f/\n",
            "Description Updated\n",
            "793\n",
            "Link Type\n",
            "https://bengali.news18.com/photogallery/kolkata/night-curfew-in-delhi-west-bengal-denies-proposal-dmg-542044.html\n",
            "Description Updated\n",
            "794\n",
            "Status Type\n",
            "Continuing\n",
            "795\n",
            "Link Type\n",
            "https://festalnews.com/archives/20845\n",
            "Description Updated\n",
            "796\n",
            "Link Type\n",
            "https://www.ittefaq.com.bd/looking-back-2020/209670/%E0%A6%95%E0%A6%B0%E0%A7%8B%E0%A6%A8%E0%A6%BE-%E0%A6%AF%E0%A7%81%E0%A6%A6%E0%A7%8D%E0%A6%A7-%E0%A6%AE%E0%A6%B9%E0%A6%BE%E0%A6%A8%E0%A6%AC%E0%A7%80%E0%A6%95%E0%A7%87-%E0%A6%85%E0%A6%AC%E0%A6%AE%E0%A6%BE%E0%A6%A8%E0%A6%A8%E0%A6%BE%E0%A6%B8%E0%A6%B9-%E0%A6%AC%E0%A6%BF%E0%A6%B6%E0%A7%8D%E0%A6%AC%E0%A7%87-%E0%A6%86%E0%A6%B2%E0%A7%8B%E0%A6%9A%E0%A6%BF%E0%A6%A4-%E0%A6%98%E0%A6%9F%E0%A6%A8%E0%A6%BE%C2%A0\n",
            "Description Updated\n",
            "797\n",
            "Link Type\n",
            "https://www.somoynews.tv/pages/details/255187\n"
          ],
          "name": "stdout"
        },
        {
          "output_type": "stream",
          "text": [
            "WARNING:trafilatura.utils:wrong encoding detected: utf-8\n"
          ],
          "name": "stderr"
        },
        {
          "output_type": "stream",
          "text": [
            "Description Updated\n",
            "798\n",
            "Link Type\n",
            "https://www.bd24live.com/bangla/%e0%a6%b8%e0%a7%8c%e0%a6%a6%e0%a6%bf%e0%a6%a4%e0%a7%87-%e0%a6%95%e0%a6%b0%e0%a7%8b%e0%a6%a8%e0%a6%be%e0%a6%b0-%e0%a6%9f%e0%a6%bf%e0%a6%95%e0%a6%be-%e0%a6%aa%e0%a7%8d%e0%a6%b0%e0%a7%9f%e0%a7%8b/\n"
          ],
          "name": "stdout"
        },
        {
          "output_type": "stream",
          "text": [
            "ERROR:trafilatura.utils:retries/redirects: https://shikshabarta.com/%e0%a6%95%e0%a6%b0%e0%a7%8b%e0%a6%a8%e0%a6%be-%e0%a6%aa%e0%a6%b0%e0%a6%bf%e0%a6%b8%e0%a7%8d%e0%a6%a5%e0%a6%bf%e0%a6%a4%e0%a6%bf%e0%a6%b0-%e0%a6%89%e0%a6%a8%e0%a7%8d%e0%a6%a8%e0%a6%a4%e0%a6%bf/ HTTPSConnectionPool(host='shikshabarta.com', port=443): Max retries exceeded with url: /%E0%A6%95%E0%A6%B0%E0%A7%8B%E0%A6%A8%E0%A6%BE-%E0%A6%AA%E0%A6%B0%E0%A6%BF%E0%A6%B8%E0%A7%8D%E0%A6%A5%E0%A6%BF%E0%A6%A4%E0%A6%BF%E0%A6%B0-%E0%A6%89%E0%A6%A8%E0%A7%8D%E0%A6%A8%E0%A6%A4%E0%A6%BF/ (Caused by ResponseError('too many 503 error responses'))\n",
            "ERROR:trafilatura.utils:parsing failed: Document is empty\n"
          ],
          "name": "stderr"
        },
        {
          "output_type": "stream",
          "text": [
            "Description Updated\n",
            "799\n",
            "Link Type\n",
            "https://shikshabarta.com/%e0%a6%95%e0%a6%b0%e0%a7%8b%e0%a6%a8%e0%a6%be-%e0%a6%aa%e0%a6%b0%e0%a6%bf%e0%a6%b8%e0%a7%8d%e0%a6%a5%e0%a6%bf%e0%a6%a4%e0%a6%bf%e0%a6%b0-%e0%a6%89%e0%a6%a8%e0%a7%8d%e0%a6%a8%e0%a6%a4%e0%a6%bf/\n",
            "None\n",
            "dropped\n",
            "800\n",
            "Link Type\n",
            "https://www.kalerkantho.com/print-edition/last-page/2020/12/28/989729\n",
            "Description Updated\n",
            "801\n",
            "Status Type\n",
            "Continuing\n",
            "802\n",
            "Link Type\n",
            "https://www.bd-pratidin.com/coronavirus/2020/12/29/602335\n",
            "Description Updated\n",
            "803\n",
            "Link Type\n",
            "https://www.anandabazar.com/national/covid-19-vaccine-all-states-to-begin-dry-run-for-vaccination-from-january-2-dgtl-1.1252258?utm_source=facebook&utm_medium=social&utm_campaign=daily\n",
            "Description Updated\n",
            "804\n",
            "Link Type\n",
            "https://dainikbidyaloy.com/2020/12/31/%e0%a6%95%e0%a6%b0%e0%a7%8b%e0%a6%a8%e0%a6%be-%e0%a6%aa%e0%a6%b0%e0%a6%bf%e0%a6%b8%e0%a7%8d%e0%a6%a5%e0%a6%bf%e0%a6%a4%e0%a6%bf-%e0%a6%85%e0%a6%a8%e0%a7%81%e0%a6%95%e0%a7%82%e0%a6%b2%e0%a7%87/#.X-18xJMJzv4.facebook\n",
            "Description Updated\n",
            "805\n",
            "Status Type\n",
            "Continuing\n",
            "806\n",
            "Link Type\n",
            "https://bangla.bdnews24.com/world/article1842864.bdnews\n",
            "Description Updated\n",
            "807\n",
            "Status Type\n",
            "Continuing\n",
            "808\n",
            "Status Type\n",
            "Continuing\n",
            "809\n",
            "Link Type\n",
            "https://www.ntvbd.com/world/%E0%A6%B8%E0%A6%BF%E0%A6%A8%E0%A7%8B%E0%A6%AB%E0%A6%BE%E0%A6%B0%E0%A7%8D%E0%A6%AE%E0%A7%87%E0%A6%B0-%E0%A6%95%E0%A6%B0%E0%A7%8B%E0%A6%A8%E0%A6%BE-%E0%A6%9F%E0%A6%BF%E0%A6%95%E0%A6%BE%E0%A6%B0-%E0%A6%85%E0%A6%A8%E0%A7%81%E0%A6%AE%E0%A7%8B%E0%A6%A6%E0%A6%A8-%E0%A6%A6%E0%A6%BF%E0%A6%B2-%E0%A6%9A%E0%A7%80%E0%A6%A8-848133\n",
            "Description Updated\n",
            "810\n",
            "Status Type\n",
            "Continuing\n",
            "811\n",
            "Link Type\n",
            "https://www.somoynews.tv/pages/details/255650\n",
            "Description Updated\n",
            "812\n",
            "Link Type\n",
            "https://www.dailyinqilab.com/article/346275/%E0%A6%87%E0%A6%A8%E0%A7%8D%E0%A6%A6%E0%A7%8B%E0%A6%A8%E0%A7%87%E0%A6%B6%E0%A6%BF%E0%A7%9F%E0%A6%BE-%E0%A6%95%E0%A6%B0%E0%A7%8B%E0%A6%A8%E0%A6%BE-%E0%A6%A8%E0%A6%BF%E0%A6%B0%E0%A7%8D%E0%A6%A3%E0%A7%9F%E0%A7%87%E0%A6%B0-%E0%A6%B8%E0%A6%B9%E0%A6%9C-%E0%A6%AF%E0%A6%A8%E0%A7%8D%E0%A6%A4%E0%A7%8D%E0%A6%B0-%E0%A6%86%E0%A6%AC%E0%A6%BF%E0%A6%B7%E0%A7%8D%E0%A6%95%E0%A6%BE%E0%A6%B0-%E0%A6%95%E0%A6%B0%E0%A6%B2%E0%A7%8B\n",
            "Description Updated\n",
            "813\n",
            "Link Type\n",
            "https://news.viewer.com.bd/2020/12/28/%e0%a6%b8%e0%a7%8c%e0%a6%a6%e0%a6%bf-%e0%a6%86%e0%a6%b0%e0%a6%ac%e0%a7%87%e0%a6%b0-%e0%a6%ab%e0%a7%8d%e0%a6%b2%e0%a6%be%e0%a6%87%e0%a6%9f-%e0%a6%93-%e0%a6%9c%e0%a6%b2-%e0%a6%aa%e0%a6%a5%e0%a7%87/\n",
            "Description Updated\n",
            "814\n",
            "Link Type\n",
            "https://www.jugantor.com/covid-19/378413/%E0%A6%87%E0%A6%89%E0%A6%B0%E0%A7%8B%E0%A6%AA%E0%A7%80%E0%A7%9F-%E0%A6%A6%E0%A7%87%E0%A6%B6%E0%A6%97%E0%A7%81%E0%A6%B2%E0%A7%8B%E0%A6%A4%E0%A7%87-%E0%A6%8F%E0%A6%95%E0%A6%AF%E0%A7%8B%E0%A6%97%E0%A7%87-%E0%A6%95%E0%A6%B0%E0%A7%8B%E0%A6%A8%E0%A6%BE%E0%A6%B0-%E0%A6%9F%E0%A6%BF%E0%A6%95%E0%A6%BE-%E0%A6%A6%E0%A7%87%E0%A7%9F%E0%A6%BE-%E0%A6%B6%E0%A7%81%E0%A6%B0%E0%A7%81\n",
            "Description Updated\n",
            "815\n",
            "Status Type\n",
            "Continuing\n",
            "816\n",
            "Link Type\n",
            "https://www.jugantor.com/politics/378431/%E0%A6%9C%E0%A6%BE%E0%A6%A8%E0%A7%81%E0%A7%9F%E0%A6%BE%E0%A6%B0%E0%A6%BF%E0%A6%A4%E0%A7%87-%E0%A6%95%E0%A6%B0%E0%A7%8B%E0%A6%A8%E0%A6%BE%E0%A6%B0-%E0%A6%9F%E0%A6%BF%E0%A6%95%E0%A6%BE-%E0%A6%8F%E0%A6%B8%E0%A7%87-%E0%A6%AF%E0%A6%BE%E0%A6%AC%E0%A7%87-%E0%A6%95%E0%A6%BE%E0%A6%A6%E0%A7%87%E0%A6%B0\n",
            "Description Updated\n",
            "817\n",
            "Link Type\n",
            "https://www.bd24live.com/bangla/%e0%a6%95%e0%a6%b0%e0%a7%8b%e0%a6%a8%e0%a6%be-%e0%a6%aa%e0%a6%b0%e0%a7%80%e0%a6%95%e0%a7%8d%e0%a6%b7%e0%a6%be-%e0%a6%95%e0%a6%b0%e0%a6%a4%e0%a7%87-%e0%a6%97%e0%a6%bf%e0%a7%9f%e0%a7%87-%e0%a7%a7/\n",
            "Description Updated\n",
            "818\n",
            "Link Type\n",
            "https://www.ittefaq.com.bd/print-edition/first-page/210320/%E0%A6%9F%E0%A6%BF%E0%A6%95%E0%A6%BE-%E0%A6%86%E0%A6%B8%E0%A6%BE%E0%A6%B0-%E0%A6%AA%E0%A6%B0%E0%A7%87%E0%A6%93-%E0%A6%86%E0%A6%AE%E0%A6%BE%E0%A6%A6%E0%A7%87%E0%A6%B0-%E0%A6%B8%E0%A7%8D%E0%A6%AC%E0%A6%BE%E0%A6%B8%E0%A7%8D%E0%A6%A5%E0%A7%8D%E0%A6%AF%E0%A6%AC%E0%A6%BF%E0%A6%A7%E0%A6%BF-%E0%A6%AE%E0%A7%87%E0%A6%A8%E0%A7%87-%E0%A6%9A%E0%A6%B2%E0%A6%A4%E0%A7%87-%E0%A6%B9%E0%A6%AC%E0%A7%87\n",
            "Description Updated\n",
            "819\n",
            "Status Type\n",
            "Continuing\n",
            "820\n",
            "Link Type\n",
            "http://calcuttanews.tv/news-details.php?PostUrl=chinese-journalist-arrested-for-reporting-coronavirus-in-wuhan-china.\n",
            "Description Updated\n",
            "821\n",
            "Link Type\n",
            "https://gulfbangla.com/news/8044\n"
          ],
          "name": "stdout"
        },
        {
          "output_type": "stream",
          "text": [
            "WARNING:trafilatura.metadata:no main title found\n",
            "WARNING:trafilatura.metadata:no h2 title found\n",
            "ERROR:trafilatura.core:not enough text None\n"
          ],
          "name": "stderr"
        },
        {
          "output_type": "stream",
          "text": [
            "Description Updated\n",
            "822\n",
            "Link Type\n",
            "https://cutt.ly/0jq7lUD\n"
          ],
          "name": "stdout"
        },
        {
          "output_type": "stream",
          "text": [
            "WARNING:urllib3.connectionpool:Retrying (Retry(total=1, connect=None, read=None, redirect=None, status=None)) after connection broken by 'NewConnectionError('<urllib3.connection.HTTPSConnection object at 0x7f96cd90ff90>: Failed to establish a new connection: [Errno -2] Name or service not known')': /2020/06/Dont.Stigmatize.foreign.worker.health.DG..html?fbclid=IwAR2F4zPQiadwzKDCEqUCsfwZzFI_oX1st4nsIRV3UVvQy8CgeAqQD3q2hiE&m=1\n",
            "WARNING:urllib3.connectionpool:Retrying (Retry(total=0, connect=None, read=None, redirect=None, status=None)) after connection broken by 'NewConnectionError('<urllib3.connection.HTTPSConnection object at 0x7f96cd90f210>: Failed to establish a new connection: [Errno -2] Name or service not known')': /2020/06/Dont.Stigmatize.foreign.worker.health.DG..html?fbclid=IwAR2F4zPQiadwzKDCEqUCsfwZzFI_oX1st4nsIRV3UVvQy8CgeAqQD3q2hiE&m=1\n",
            "ERROR:trafilatura.utils:retries/redirects: https://cutt.ly/0jq7lUD HTTPSConnectionPool(host='www.ovibashikantho.com', port=443): Max retries exceeded with url: /2020/06/Dont.Stigmatize.foreign.worker.health.DG..html?fbclid=IwAR2F4zPQiadwzKDCEqUCsfwZzFI_oX1st4nsIRV3UVvQy8CgeAqQD3q2hiE&m=1 (Caused by NewConnectionError('<urllib3.connection.HTTPSConnection object at 0x7f96cb036410>: Failed to establish a new connection: [Errno -2] Name or service not known'))\n",
            "ERROR:trafilatura.utils:parsing failed: Document is empty\n"
          ],
          "name": "stderr"
        },
        {
          "output_type": "stream",
          "text": [
            "HTTPSConnectionPool(host='www.ovibashikantho.com', port=443): Max retries exceeded with url: /2020/06/Dont.Stigmatize.foreign.worker.health.DG..html?fbclid=IwAR2F4zPQiadwzKDCEqUCsfwZzFI_oX1st4nsIRV3UVvQy8CgeAqQD3q2hiE&m=1 (Caused by NewConnectionError('<urllib3.connection.HTTPSConnection object at 0x7f96cb6b3990>: Failed to establish a new connection: [Errno -2] Name or service not known'))\n",
            "dropped\n",
            "823\n",
            "Link Type\n",
            "https://timesbd20.com/archives/16911\n"
          ],
          "name": "stdout"
        },
        {
          "output_type": "stream",
          "text": [
            "ERROR:trafilatura.utils:retries/redirects: https://timesbd20.com/archives/16911 HTTPSConnectionPool(host='timesbd20.com', port=443): Max retries exceeded with url: /archives/16911 (Caused by SSLError(SSLCertVerificationError(1, '[SSL: CERTIFICATE_VERIFY_FAILED] certificate verify failed: certificate has expired (_ssl.c:1091)')))\n",
            "ERROR:trafilatura.utils:parsing failed: Document is empty\n"
          ],
          "name": "stderr"
        },
        {
          "output_type": "stream",
          "text": [
            "HTTPSConnectionPool(host='timesbd20.com', port=443): Max retries exceeded with url: /archives/16911 (Caused by SSLError(SSLCertVerificationError(1, '[SSL: CERTIFICATE_VERIFY_FAILED] certificate verify failed: certificate has expired (_ssl.c:1091)')))\n",
            "dropped\n",
            "824\n",
            "Link Type\n",
            "https://www.anandabazar.com/national/india-will-have-covid-19-vaccine-within-days-claims-aiims-director-randeep-guleria-dgtl-1.1252107?utm_source=facebook&utm_medium=social&utm_campaign=daily\n",
            "Description Updated\n",
            "825\n",
            "Link Type\n",
            "https://www.jugantor.com/country-news/378478/%E0%A6%AC%E0%A6%B0%E0%A6%BF%E0%A6%B6%E0%A6%BE%E0%A6%B2-%E0%A6%AC%E0%A6%BF%E0%A6%B6%E0%A7%8D%E0%A6%AC%E0%A6%AC%E0%A6%BF%E0%A6%A6%E0%A7%8D%E0%A6%AF%E0%A6%BE%E0%A6%B2%E0%A7%9F%E0%A7%87-%E0%A6%B8%E0%A7%8D%E0%A6%A8%E0%A6%BE%E0%A6%A4%E0%A6%95-%E0%A6%9A%E0%A7%82%E0%A7%9C%E0%A6%BE%E0%A6%A8%E0%A7%8D%E0%A6%A4-%E0%A6%AA%E0%A6%B0%E0%A7%8D%E0%A6%AC%E0%A7%87%E0%A6%B0-%E0%A6%AA%E0%A6%B0%E0%A7%80%E0%A6%95%E0%A7%8D%E0%A6%B7%E0%A6%BE-%E0%A6%97%E0%A7%8D%E0%A6%B0%E0%A6%B9%E0%A6%A3-%E0%A6%B6%E0%A7%81%E0%A6%B0%E0%A7%81\n",
            "Description Updated\n",
            "826\n",
            "Status Type\n",
            "Continuing\n",
            "827\n",
            "Link Type\n",
            "https://mzamin.com/article.php?mzamin=256323\n",
            "Description Updated\n",
            "828\n",
            "Link Type\n",
            "https://www.anandabazar.com/international/china-s-citizen-journalist-sentenced-4-year-jail-for-repoting-covid-outbreak-in-wuhan-dgtl-1.1250548?utm_source=facebook&utm_medium=social&utm_campaign=daily\n",
            "Description Updated\n",
            "829\n",
            "Status Type\n",
            "Continuing\n",
            "830\n",
            "Link Type\n",
            "https://rmgbd.net/2020/12/%e0%a6%aa%e0%a7%8b%e0%a6%b6%e0%a6%be%e0%a6%95-%e0%a6%b6%e0%a7%8d%e0%a6%b0%e0%a6%ae%e0%a6%bf%e0%a6%95%e0%a6%a6%e0%a7%87%e0%a6%b0-%e0%a6%ac%e0%a6%be%e0%a6%b0%e0%a7%8d%e0%a6%b7%e0%a6%bf%e0%a6%95/\n",
            "Description Updated\n",
            "831\n",
            "Link Type\n",
            "https://www.jugantor.com/country-news/378485/%E0%A6%AD%E0%A7%8B%E0%A6%9F-%E0%A6%9A%E0%A6%B2%E0%A6%BE%E0%A6%95%E0%A6%BE%E0%A6%B2%E0%A7%87%E0%A6%87-%E0%A6%AE%E0%A6%BE%E0%A6%B0%E0%A6%BE-%E0%A6%97%E0%A7%87%E0%A6%B2%E0%A7%87%E0%A6%A8-%E0%A6%AC%E0%A6%BF%E0%A6%8F%E0%A6%A8%E0%A6%AA%E0%A6%BF%E0%A6%B0-%E0%A6%AE%E0%A7%87%E0%A7%9F%E0%A6%B0-%E0%A6%AA%E0%A7%8D%E0%A6%B0%E0%A6%BE%E0%A6%B0%E0%A7%8D%E0%A6%A5%E0%A7%80-%E0%A6%86%E0%A6%AC%E0%A7%81%E0%A6%B2-%E0%A6%96%E0%A7%9F%E0%A7%87%E0%A6%B0\n",
            "Description Updated\n",
            "832\n",
            "Link Type\n",
            "https://agamirbarta.com/archives/11005\n",
            "Description Updated\n",
            "833\n",
            "Status Type\n",
            "Continuing\n",
            "834\n",
            "Link Type\n",
            "https://www.etvbharat.com/bengali/west-bengal/bharat/last-day-of-the-year-to-remember-covid-worrier-pm-narendra-modi/wb20201231125110365\n"
          ],
          "name": "stdout"
        },
        {
          "output_type": "stream",
          "text": [
            "ERROR:trafilatura.core:not enough text None\n"
          ],
          "name": "stderr"
        },
        {
          "output_type": "stream",
          "text": [
            "Description Updated\n",
            "835\n",
            "Link Type\n",
            "https://inews.zoombangla.com/%e0%a6%ac%e0%a6%bf%e0%a6%a6%e0%a6%be%e0%a7%9f%e0%a7%80-%e0%a6%ac%e0%a6%9b%e0%a6%b0%e0%a7%87-%e0%a6%ae%e0%a7%81%e0%a6%b8%e0%a6%b2%e0%a6%bf%e0%a6%ae-%e0%a6%ac%e0%a6%bf%e0%a6%b6%e0%a7%8d%e0%a6%ac/\n",
            "Description Updated\n",
            "836\n",
            "Link Type\n",
            "https://www.anandabazar.com/international/oxford-astrazeneca-s-covid-19-vaccine-gets-approval-in-uk-dgtl-1.1251657?utm_source=facebook&utm_medium=social&utm_campaign=daily\n",
            "Description Updated\n",
            "837\n",
            "Link Type\n",
            "https://www.dailyinqilab.com/article/346826/%E0%A7%A8%E0%A7%A6%E0%A7%A8%E0%A7%A6-%E0%A6%B8%E0%A6%BE%E0%A6%B2%E0%A7%87%E0%A6%B0-%E0%A6%95%E0%A6%B0%E0%A7%8B%E0%A6%A8%E0%A6%BE-%E0%A6%AE%E0%A6%B9%E0%A6%BE%E0%A6%AE%E0%A6%BE%E0%A6%B0%E0%A6%BF-%E0%A6%B6%E0%A6%A4%E0%A6%BE%E0%A6%AC%E0%A7%8D%E0%A6%A6%E0%A7%80%E0%A6%B0-%E0%A6%B8%E0%A6%AC%E0%A6%9A%E0%A7%87%E0%A7%9F%E0%A7%87-%E0%A6%AC%E0%A6%A1%E0%A6%BC-%E0%A6%9A%E0%A7%8D%E0%A6%AF%E0%A6%BE%E0%A6%B2%E0%A7%87%E0%A6%9E%E0%A7%8D%E0%A6%9C-%E0%A6%9C%E0%A6%BE%E0%A6%B0%E0%A7%8D%E0%A6%AE%E0%A6%BE%E0%A6%A8-%E0%A6%9A%E0%A7%8D%E0%A6%AF%E0%A6%BE%E0%A6%A8%E0%A7%8D%E0%A6%B8%E0%A7%87%E0%A6%B2%E0%A6%B0\n",
            "Description Updated\n",
            "838\n",
            "Link Type\n",
            "https://www.anandabazar.com/national/total-25-cases-of-mutant-britain-virus-detected-in-india-after-genome-sequencing-dgtl-1.1252140?utm_source=facebook&utm_medium=social&utm_campaign=daily\n",
            "Description Updated\n",
            "839\n",
            "Link Type\n",
            "https://www.dailyinqilab.com/article/346787/%E0%A6%A8%E0%A6%BE%E0%A6%B0%E0%A6%BE%E0%A7%9F%E0%A6%A3%E0%A6%97%E0%A6%9E%E0%A7%8D%E0%A6%9C%E0%A7%87-%E0%A6%86%E0%A6%B0%E0%A6%93-%E0%A7%AF-%E0%A6%9C%E0%A6%A8-%E0%A6%B6%E0%A6%A8%E0%A6%BE%E0%A6%95%E0%A7%8D%E0%A6%A4\n",
            "Description Updated\n",
            "840\n",
            "Link Type\n",
            "https://www.ntvbd.com/world/%E0%A6%8F%E0%A6%AC%E0%A6%BE%E0%A6%B0-%E0%A6%AF%E0%A7%81%E0%A6%95%E0%A7%8D%E0%A6%A4%E0%A6%B0%E0%A6%BE%E0%A6%B7%E0%A7%8D%E0%A6%9F%E0%A7%8D%E0%A6%B0%E0%A7%87-%E0%A6%95%E0%A6%B0%E0%A7%8B%E0%A6%A8%E0%A6%BE%E0%A6%B0-%E0%A6%A8%E0%A6%A4%E0%A7%81%E0%A6%A8-%E0%A6%A7%E0%A6%B0%E0%A6%A8-%E0%A6%B6%E0%A6%A8%E0%A6%BE%E0%A6%95%E0%A7%8D%E0%A6%A4-847513\n",
            "Description Updated\n",
            "841\n",
            "Status Type\n",
            "Continuing\n",
            "842\n",
            "Link Type\n",
            "https://timesoffeni.com/%e0%a6%9a%e0%a6%9f%e0%a7%8d%e0%a6%9f%e0%a6%97%e0%a7%8d%e0%a6%b0%e0%a6%be%e0%a6%ae%e0%a7%87-%e0%a6%b6%e0%a7%87%e0%a6%ad%e0%a6%b0%e0%a6%a8%e0%a6%93-%e0%a6%aa%e0%a7%87%e0%a6%b2-%e0%a6%ac%e0%a6%bf/\n",
            "Description Updated\n",
            "843\n",
            "Link Type\n",
            "https://educationsinbd.com/bn/news/13277/\n",
            "Description Updated\n",
            "844\n",
            "Status Type\n",
            "Continuing\n",
            "845\n",
            "Link Type\n",
            "https://www.dailyinqilab.com/article/345956/%E0%A6%B6%E0%A7%87%E0%A6%B0%E0%A6%AA%E0%A7%81%E0%A6%B0%E0%A7%87-%E0%A6%95%E0%A7%8B%E0%A6%AD%E0%A6%BF%E0%A6%A1-%E0%A7%A7%E0%A7%AF-%E0%A6%B6%E0%A6%A8%E0%A6%BE%E0%A6%95%E0%A7%8D%E0%A6%A4%E0%A7%87-%E0%A6%B0%E2%80%8D%E0%A7%8D%E0%A6%AF%E0%A6%BE%E0%A6%AA%E0%A6%BF%E0%A6%A1-%E0%A6%85%E0%A7%8D%E0%A6%AF%E0%A6%BE%E0%A6%A8%E0%A7%8D%E0%A6%9F%E0%A6%BF%E0%A6%9C%E0%A7%87%E0%A6%A8-%E0%A6%9F%E0%A7%87%E0%A6%B8%E0%A7%8D%E0%A6%9F-%E0%A6%B6%E0%A7%81%E0%A6%B0%E0%A7%81\n",
            "Description Updated\n",
            "846\n",
            "Link Type\n",
            "https://www.ntvbd.com/world/%E0%A6%9B%E0%A7%81%E0%A6%9F%E0%A6%BF%E0%A6%B0-%E0%A6%AA%E0%A6%B0-%E0%A6%95%E0%A6%B0%E0%A7%8B%E0%A6%A8%E0%A6%BE-%E0%A6%AA%E0%A6%B0%E0%A6%BF%E0%A6%B8%E0%A7%8D%E0%A6%A5%E0%A6%BF%E0%A6%A4%E0%A6%BF-%E0%A6%86%E0%A6%B0%E0%A7%8B-%E0%A6%96%E0%A6%BE%E0%A6%B0%E0%A6%BE%E0%A6%AA-%E0%A6%B9%E0%A6%A4%E0%A7%87-%E0%A6%AA%E0%A6%BE%E0%A6%B0%E0%A7%87-%E0%A6%85%E0%A7%8D%E0%A6%AF%E0%A6%BE%E0%A6%A8%E0%A7%8D%E0%A6%A5%E0%A6%A8%E0%A6%BF-%E0%A6%AB%E0%A6%B8%E0%A6%BF-846845\n",
            "Description Updated\n",
            "847\n",
            "Link Type\n",
            "http://www.dainikamadershomoy.com/post/293888\n",
            "Description Updated\n",
            "848\n",
            "Link Type\n",
            "https://www.ittefaq.com.bd/politics/210364/%E0%A6%A8%E0%A6%BF%E0%A6%B8%E0%A7%8D%E0%A6%A4%E0%A6%B0%E0%A6%99%E0%A7%8D%E0%A6%97-%E0%A6%B0%E0%A6%BE%E0%A6%9C%E0%A6%A8%E0%A7%80%E0%A6%A4%E0%A6%BF%E0%A6%95%E0%A7%87-%E0%A6%98%E0%A6%B0%E0%A7%87-%E0%A6%A4%E0%A7%81%E0%A6%B2%E0%A7%87%E0%A6%9B%E0%A7%87-%E0%A6%95%E0%A6%B0%E0%A7%8B%E0%A6%A8%E0%A6%BE\n",
            "Description Updated\n",
            "849\n",
            "Link Type\n",
            "https://www.ittefaq.com.bd/worldnews/209664/%E0%A6%95%E0%A6%B0%E0%A7%8B%E0%A6%A8%E0%A6%BE-%E0%A6%B9%E0%A6%BE%E0%A6%B8%E0%A6%AA%E0%A6%BE%E0%A6%A4%E0%A6%BE%E0%A6%B2%E0%A7%87-%E0%A6%AD%E0%A7%9F%E0%A6%BE%E0%A6%AC%E0%A6%B9-%E0%A6%86%E0%A6%97%E0%A7%81%E0%A6%A8-%E0%A6%A8%E0%A6%BF%E0%A6%B9%E0%A6%A4-%E0%A7%AD%C2%A0\n",
            "Description Updated\n",
            "850\n",
            "Link Type\n",
            "https://www.voabangla.com/a/%E0%A6%9F%E0%A7%8D%E0%A6%B0%E0%A6%BF%E0%A6%B2%E0%A6%BF%E0%A6%AF%E0%A6%BC%E0%A6%A8-%E0%A6%A1%E0%A6%B2%E0%A6%BE%E0%A6%B0-%E0%A6%AC%E0%A7%8D%E0%A6%AF%E0%A6%AF%E0%A6%BC-%E0%A6%AC%E0%A6%B0%E0%A6%BE%E0%A6%A6%E0%A7%8D%E0%A6%A6-%E0%A6%86%E0%A6%87%E0%A6%A8-%E0%A6%B8%E0%A7%8D%E0%A6%AC%E0%A6%BE%E0%A6%95%E0%A7%8D%E0%A6%B7%E0%A6%B0-%E0%A6%95%E0%A6%B0%E0%A7%87%E0%A6%9B%E0%A7%87%E0%A6%A8-%E0%A6%AA%E0%A7%8D%E0%A6%B0%E0%A7%87%E0%A6%B8%E0%A6%BF%E0%A6%A1%E0%A7%87%E0%A6%A8%E0%A7%8D%E0%A6%9F-%E0%A6%9F%E0%A7%8D%E0%A6%B0%E0%A6%BE%E0%A6%AE%E0%A7%8D%E0%A6%AA-/5715583.html\n",
            "Description Updated\n",
            "851\n",
            "Status Type\n",
            "Continuing\n",
            "852\n",
            "Link Type\n",
            "http://www.bd-pratidin.com/international/2020/12/28/601846\n",
            "Description Updated\n",
            "853\n",
            "Link Type\n",
            "https://www.voabangla.com/a/bishwa-ijtema-postponed-due-to-covid/5719918.html\n",
            "Description Updated\n",
            "854\n",
            "Link Type\n",
            "https://www.somoyerkonthosor.com/2020/12/27/465946.htm\n",
            "Description Updated\n",
            "855\n",
            "Status Type\n",
            "Continuing\n",
            "856\n",
            "Status Type\n",
            "Continuing\n",
            "857\n",
            "Link Type\n",
            "https://ejobsresult.com/2020/12/28/%e0%a6%b9%e0%a6%9c%e0%a7%87-%e0%a6%97%e0%a6%bf%e0%a7%9f%e0%a7%87-%e0%a6%8f%e0%a6%96%e0%a6%a8-%e0%a6%aa%e0%a6%b0%e0%a7%8d%e0%a6%af%e0%a6%a8%e0%a7%8d%e0%a6%a4-%e0%a6%95%e0%a7%87%e0%a6%89-%e0%a6%95/\n",
            "Description Updated\n",
            "858\n",
            "Link Type\n",
            "https://kolkatatribune.in/india-to-become-3rd-largest-economy-in-2031/\n",
            "Description Updated\n",
            "859\n",
            "Link Type\n",
            "https://banglavision.tv/%e0%a6%b2%e0%a6%bf%e0%a6%a1-%e0%a6%a8%e0%a6%bf%e0%a6%89%e0%a6%9c/63605/\n"
          ],
          "name": "stdout"
        },
        {
          "output_type": "stream",
          "text": [
            "ERROR:trafilatura.utils:not a 200 response: 404 for URL https://banglavision.tv/%e0%a6%b2%e0%a6%bf%e0%a6%a1-%e0%a6%a8%e0%a6%bf%e0%a6%89%e0%a6%9c/63605/\n",
            "ERROR:trafilatura.utils:this type cannot be processed: <class 'NoneType'>\n"
          ],
          "name": "stderr"
        },
        {
          "output_type": "stream",
          "text": [
            "None\n",
            "dropped\n",
            "860\n",
            "Link Type\n",
            "https://mzamin.com/article.php?mzamin=256728\n",
            "Description Updated\n",
            "861\n",
            "Link Type\n",
            "https://mzamin.com/article.php?mzamin=256176&cat=8\n",
            "Description Updated\n",
            "862\n",
            "Status Type\n",
            "Continuing\n",
            "863\n",
            "Link Type\n",
            "https://www.asomiyapratidin.in/golaghat-couple-who-returns-from-uk-tests-covid-19/\n",
            "Description Updated\n",
            "864\n",
            "Status Type\n",
            "Continuing\n",
            "865\n",
            "Status Type\n",
            "Continuing\n",
            "866\n",
            "Status Type\n",
            "Continuing\n",
            "867\n",
            "Link Type\n",
            "https://www.dailyinqilab.com/article/346554/%E0%A6%AC%E0%A6%BE%E0%A6%87%E0%A6%A1%E0%A7%87%E0%A6%A8%E0%A7%87%E0%A6%B0-%E0%A6%AA%E0%A6%B0-%E0%A6%8F%E0%A6%AC%E0%A6%BE%E0%A6%B0-%E0%A6%AA%E0%A7%8D%E0%A6%B0%E0%A6%95%E0%A6%BE%E0%A6%B6%E0%A7%8D%E0%A6%AF%E0%A7%87-%E0%A6%AD%E0%A7%8D%E0%A6%AF%E0%A6%BE%E0%A6%95%E0%A6%B8%E0%A6%BF%E0%A6%A8-%E0%A6%A8%E0%A6%BF%E0%A6%B2%E0%A7%87%E0%A6%A8-%E0%A6%95%E0%A6%AE%E0%A6%B2%E0%A6%BE-%E0%A6%B9%E0%A7%8D%E0%A6%AF%E0%A6%BE%E0%A6%B0%E0%A6%BF%E0%A6%B8\n",
            "Description Updated\n",
            "868\n",
            "Link Type\n",
            "http://cplusbd.net/%e0%a6%95%e0%a6%b0%e0%a7%8b%e0%a6%a8%e0%a6%be%e0%a7%9f-%e0%a6%95%e0%a7%87%e0%a7%9c%e0%a7%87-%e0%a6%a8%e0%a6%bf%e0%a6%b2-%e0%a7%ae%e0%a7%a8-%e0%a6%9c%e0%a6%a8-%e0%a6%aa%e0%a7%81%e0%a6%b2%e0%a6%bf/\n",
            "Description Updated\n",
            "869\n",
            "Link Type\n",
            "https://banglanews24.com/health/news/bd/832235.details\n",
            "Description Updated\n",
            "870\n",
            "Status Type\n",
            "Continuing\n",
            "871\n",
            "Link Type\n",
            "https://eisamay.indiatimes.com/west-bengal-news/kolkata-news/within-last-24-hours-1435-people-effected-by-coronavirus-in-west-bengal-dead-29/articleshow/79980295.cms\n"
          ],
          "name": "stdout"
        },
        {
          "output_type": "stream",
          "text": [
            "ERROR:trafilatura.utils:not a 200 response: 403 for URL https://www.bangla.24livenewspaper.com/bangladesh/73204-new-corona-of-britain-and-bangladesh-is-different\n",
            "ERROR:trafilatura.utils:this type cannot be processed: <class 'NoneType'>\n"
          ],
          "name": "stderr"
        },
        {
          "output_type": "stream",
          "text": [
            "Description Updated\n",
            "872\n",
            "Link Type\n",
            "https://www.bangla.24livenewspaper.com/bangladesh/73204-new-corona-of-britain-and-bangladesh-is-different\n",
            "None\n",
            "dropped\n",
            "873\n",
            "Link Type\n",
            "https://www.somoyerkonthosor.com/2020/12/30/466316.htm\n",
            "Description Updated\n",
            "874\n",
            "Status Type\n",
            "Continuing\n",
            "875\n",
            "Link Type\n",
            "https://jamuna.tv/news/194743\n",
            "Description Updated\n",
            "876\n",
            "Link Type\n",
            "https://www.kolkata24x7.com/india-will-have-covid-19-vaccine-within-days-aiims-director/\n",
            "Description Updated\n",
            "877\n",
            "Link Type\n",
            "https://khulnagazette.com/%E0%A6%95%E0%A6%B0%E0%A7%8B%E0%A6%A8%E0%A6%BE%E0%A7%9F-%E0%A6%B8%E0%A7%87%E0%A6%B6%E0%A6%A8%E0%A6%9C%E0%A6%9F%E0%A7%87-%E0%A6%AA%E0%A7%9C%E0%A6%A4%E0%A7%87-%E0%A6%AF%E0%A6%BE%E0%A6%9A%E0%A7%8D/\n",
            "Description Updated\n",
            "878\n",
            "Link Type\n",
            "http://bartabazar.com/archives/249376\n",
            "Description Updated\n",
            "879\n",
            "Link Type\n",
            "https://www.kalerkantho.com/online/world/2020/12/30/990548\n",
            "Description Updated\n",
            "880\n",
            "Status Type\n",
            "Continuing\n",
            "881\n",
            "Status Type\n",
            "Continuing\n",
            "882\n",
            "Status Type\n",
            "Continuing\n",
            "883\n",
            "Link Type\n",
            "https://www.kalerkantho.com/online/world/2020/12/29/990139\n",
            "Description Updated\n",
            "884\n",
            "Status Type\n",
            "Continuing\n",
            "885\n",
            "Status Type\n",
            "Continuing\n",
            "886\n",
            "Link Type\n",
            "https://www.kalerkantho.com/online/national/2020/12/31/990749\n",
            "Description Updated\n",
            "887\n",
            "Link Type\n",
            "https://www.jugerchinta.news/%E0%A6%9F%E0%A6%BF%E0%A6%AE-%E0%A6%96%E0%A7%8B%E0%A6%B0%E0%A6%B6%E0%A7%87%E0%A6%A6-%E0%A6%A7%E0%A6%A8%E0%A7%8D%E0%A6%AF%E0%A6%AC%E0%A6%BE%E0%A6%A6-%E0%A6%93-%E0%A6%95%E0%A7%83%E0%A6%A4%E0%A6%9C%E0%A7%8D%E0%A6%9E%E0%A6%A4%E0%A6%BE-%E0%A6%9C%E0%A6%BE%E0%A6%A8%E0%A6%BF%E0%A7%9F%E0%A7%87%E0%A6%9B%E0%A7%87%E0%A6%A8-%E0%A6%9C%E0%A7%87%E0%A6%B2%E0%A6%BE-%E0%A6%AA%E0%A7%8D%E0%A6%B0%E0%A6%B6%E0%A6%BE%E0%A6%B8%E0%A6%95/42507\n",
            "Description Updated\n",
            "888\n",
            "Link Type\n",
            "https://news.viewer.com.bd/2020/12/29/%e0%a6%aa%e0%a7%8d%e0%a6%b0%e0%a6%ac%e0%a6%be%e0%a6%b8%e0%a7%80%e0%a6%a6%e0%a7%87%e0%a6%b0-%e0%a6%a8%e0%a6%bf%e0%a7%9f%e0%a7%87-%e0%a6%ae%e0%a6%be%e0%a6%b2%e0%a6%af%e0%a6%bc%e0%a7%87%e0%a6%b6%e0%a6%bf/\n",
            "Description Updated\n",
            "889\n",
            "Link Type\n",
            "https://www.dailyinqilab.com/article/346835/%E0%A6%B0%E0%A6%BE%E0%A6%9C%E0%A6%B6%E0%A6%BE%E0%A6%B9%E0%A7%80-%E0%A6%AC%E0%A6%BF%E0%A6%AD%E0%A6%BE%E0%A6%97%E0%A7%87-%E0%A7%A8%E0%A7%AA-%E0%A6%98%E0%A6%A8%E0%A7%8D%E0%A6%9F%E0%A6%BE%E0%A7%9F-%E0%A7%AC%E0%A7%A8%E0%A6%9C%E0%A6%A8-%E0%A6%95%E0%A6%B0%E0%A7%8B%E0%A6%A8%E0%A6%BE-%E0%A6%B0%E0%A7%8B%E0%A6%97%E0%A7%80-%E0%A6%B6%E0%A6%A8%E0%A6%BE%E0%A6%95%E0%A7%8D%E0%A6%A4\n",
            "Description Updated\n",
            "890\n",
            "Link Type\n",
            "https://lekhaporabd.com/archives/37511\n"
          ],
          "name": "stdout"
        },
        {
          "output_type": "stream",
          "text": [
            "ERROR:trafilatura.utils:retries/redirects: https://www.ourislam24.com/2020/12/27/%e0%a6%95%e0%a6%b0%e0%a7%8b%e0%a6%a8%e0%a6%be%e0%a7%9f-%e0%a6%a4%e0%a6%bf%e0%a6%a4%e0%a7%81%e0%a6%ae%e0%a7%80%e0%a6%b0-%e0%a6%95%e0%a6%b2%e0%a7%87%e0%a6%9c-%e0%a6%b6%e0%a6%bf%e0%a6%95%e0%a7%8d/ HTTPSConnectionPool(host='www.ourislam24.com', port=443): Max retries exceeded with url: /2020/12/27/%E0%A6%95%E0%A6%B0%E0%A7%8B%E0%A6%A8%E0%A6%BE%E0%A7%9F-%E0%A6%A4%E0%A6%BF%E0%A6%A4%E0%A7%81%E0%A6%AE%E0%A7%80%E0%A6%B0-%E0%A6%95%E0%A6%B2%E0%A7%87%E0%A6%9C-%E0%A6%B6%E0%A6%BF%E0%A6%95%E0%A7%8D/ (Caused by ResponseError('too many 503 error responses'))\n",
            "ERROR:trafilatura.utils:parsing failed: Document is empty\n"
          ],
          "name": "stderr"
        },
        {
          "output_type": "stream",
          "text": [
            "Description Updated\n",
            "891\n",
            "Link Type\n",
            "https://www.ourislam24.com/2020/12/27/%e0%a6%95%e0%a6%b0%e0%a7%8b%e0%a6%a8%e0%a6%be%e0%a7%9f-%e0%a6%a4%e0%a6%bf%e0%a6%a4%e0%a7%81%e0%a6%ae%e0%a7%80%e0%a6%b0-%e0%a6%95%e0%a6%b2%e0%a7%87%e0%a6%9c-%e0%a6%b6%e0%a6%bf%e0%a6%95%e0%a7%8d/\n",
            "None\n",
            "dropped\n",
            "892\n",
            "Link Type\n",
            "https://www.jugantor.com/covid-19/379394/%E0%A6%AC%E0%A6%BF%E0%A6%AA%E0%A6%B0%E0%A7%8D%E0%A6%AF%E0%A6%B8%E0%A7%8D%E0%A6%A4-%E0%A6%AA%E0%A7%83%E0%A6%A5%E0%A6%BF%E0%A6%AC%E0%A7%80%E0%A6%B0-%E0%A6%AA%E0%A7%8D%E0%A6%B0%E0%A6%BE%E0%A6%A3%E0%A6%B6%E0%A6%95%E0%A7%8D%E0%A6%A4%E0%A6%BF-%E0%A6%B8%E0%A7%8D%E0%A6%AC%E0%A6%B8%E0%A7%8D%E0%A6%A5%E0%A6%BF-%E0%A6%95%E0%A6%B0%E0%A7%8B%E0%A6%A8%E0%A6%BE%E0%A6%B0-%E0%A6%9F%E0%A6%BF%E0%A6%95%E0%A6%BE%E0%A7%9F\n",
            "Description Updated\n",
            "893\n",
            "Link Type\n",
            "https://www.banglanews24.com/national/news/bd/832176.details\n",
            "Description Updated\n",
            "894\n",
            "Link Type\n",
            "https://www.somoynews.tv/pages/details/255013\n",
            "Description Updated\n",
            "895\n",
            "Link Type\n",
            "https://www.somoynews.tv/pages/details/254820\n"
          ],
          "name": "stdout"
        },
        {
          "output_type": "stream",
          "text": [
            "WARNING:trafilatura.utils:wrong encoding detected: utf-8\n"
          ],
          "name": "stderr"
        },
        {
          "output_type": "stream",
          "text": [
            "Description Updated\n",
            "896\n",
            "Link Type\n",
            "https://www.narayanganjpost.com/%E0%A6%AC%E0%A6%9B%E0%A6%B0%E0%A6%9C%E0%A7%81%E0%A7%9C%E0%A7%87%E0%A6%87-%E0%A6%86%E0%A6%B2%E0%A7%8B%E0%A6%9A%E0%A6%A8%E0%A6%BE%E0%A7%9F%C2%A0%E0%A6%95%E0%A6%B0%E0%A7%8B%E0%A6%A8%E0%A6%BE-%E0%A6%93-%E0%A6%95%E0%A6%BE%E0%A6%89%E0%A6%A8%E0%A7%8D%E0%A6%B8%E0%A6%BF%E0%A6%B2%E0%A6%B0%C2%A0%E0%A6%96%E0%A7%8B%E0%A6%B0%E0%A6%B6%E0%A7%87%E0%A6%A6/1999\n",
            "Description Updated\n",
            "897\n",
            "Link Type\n",
            "https://www.sangbadpratidin.in/india/after-kozhikode-a-case-of-shigella-disease-found-in-ernakulam-kerala/\n",
            "Description Updated\n",
            "898\n",
            "Link Type\n",
            "https://www.jugantor.com/todays-paper/second-edition/378688/%E0%A6%B8%E0%A6%BF%E0%A6%B2%E0%A7%87%E0%A6%9F%E0%A7%87-%E0%A6%AC%E0%A6%BF%E0%A6%AE%E0%A6%BE%E0%A6%A8%E0%A7%87-%E0%A6%B2%E0%A6%A8%E0%A7%8D%E0%A6%A1%E0%A6%A8-%E0%A6%A5%E0%A7%87%E0%A6%95%E0%A7%87-%E0%A6%8F%E0%A6%B2%E0%A7%87%E0%A6%A8-%E0%A6%86%E0%A6%B0%E0%A6%93-%E0%A7%A7%E0%A7%AC%E0%A7%AD-%E0%A6%AF%E0%A6%BE%E0%A6%A4%E0%A7%8D%E0%A6%B0%E0%A7%80\n",
            "Description Updated\n",
            "899\n",
            "Link Type\n",
            "https://news.studyhourbd.com/?p=570\n"
          ],
          "name": "stdout"
        },
        {
          "output_type": "stream",
          "text": [
            "WARNING:trafilatura.core:unexpected in p: amp-img None None\n",
            "WARNING:trafilatura.core:unexpected in p: i-amphtml-sizer None None\n"
          ],
          "name": "stderr"
        },
        {
          "output_type": "stream",
          "text": [
            "Description Updated\n",
            "900\n",
            "Link Type\n",
            "http://newzta.com/archives/760\n"
          ],
          "name": "stdout"
        },
        {
          "output_type": "stream",
          "text": [
            "ERROR:trafilatura.utils:not a 200 response: 403 for URL http://newzta.com/archives/760\n",
            "ERROR:trafilatura.utils:this type cannot be processed: <class 'NoneType'>\n"
          ],
          "name": "stderr"
        },
        {
          "output_type": "stream",
          "text": [
            "None\n",
            "dropped\n",
            "901\n",
            "Link Type\n",
            "https://www.bdnews24us.com/76919/index.html\n",
            "Description Updated\n",
            "902\n",
            "Status Type\n",
            "Continuing\n",
            "903\n",
            "Link Type\n",
            "https://www.gulfbangla.com/news/8010\n"
          ],
          "name": "stdout"
        },
        {
          "output_type": "stream",
          "text": [
            "WARNING:trafilatura.metadata:no main title found\n",
            "WARNING:trafilatura.metadata:no h2 title found\n",
            "ERROR:trafilatura.core:not enough text None\n"
          ],
          "name": "stderr"
        },
        {
          "output_type": "stream",
          "text": [
            "Description Updated\n",
            "904\n",
            "Status Type\n",
            "Continuing\n",
            "905\n",
            "Link Type\n",
            "https://bengali.news18.com/news/coronavirus-latest-news/five-alarming-symptoms-of-the-new-strain-of-covid19-swd-541391.html\n",
            "Description Updated\n",
            "906\n",
            "Link Type\n",
            "https://www.somoynews.tv/pages/details/255173\n"
          ],
          "name": "stdout"
        },
        {
          "output_type": "stream",
          "text": [
            "WARNING:trafilatura.utils:wrong encoding detected: utf-8\n"
          ],
          "name": "stderr"
        },
        {
          "output_type": "stream",
          "text": [
            "Description Updated\n",
            "907\n",
            "Link Type\n",
            "https://www.jugantor.com/todays-paper/visibility/378887/%E0%A6%86%E0%A6%AC%E0%A6%BE%E0%A6%B8%E0%A6%BF%E0%A6%95-%E0%A6%B9%E0%A6%B2-%E0%A6%AC%E0%A6%A8%E0%A7%8D%E0%A6%A7-%E0%A6%B0%E0%A7%87%E0%A6%96%E0%A7%87-%E0%A6%AA%E0%A6%B0%E0%A7%80%E0%A6%95%E0%A7%8D%E0%A6%B7%E0%A6%BE-%E0%A6%A8%E0%A7%87%E0%A7%9F%E0%A6%BE%E0%A6%B0-%E0%A6%B8%E0%A6%BF%E0%A6%A6%E0%A7%8D%E0%A6%A7%E0%A6%BE%E0%A6%A8%E0%A7%8D%E0%A6%A4-%E0%A6%95%E0%A6%A4%E0%A6%9F%E0%A6%BE-%E0%A6%AF%E0%A7%8C%E0%A6%95%E0%A7%8D%E0%A6%A4%E0%A6%BF%E0%A6%95\n"
          ],
          "name": "stdout"
        },
        {
          "output_type": "stream",
          "text": [
            "ERROR:trafilatura.utils:retries/redirects: https://modinanews.com/%e0%a6%b9%e0%a6%9c%e0%a7%87-%e0%a6%97%e0%a6%bf%e0%a7%9f%e0%a7%87-%e0%a6%95%e0%a7%87%e0%a6%89-%e0%a6%95%e0%a6%b0%e0%a7%8b%e0%a6%a8%e0%a6%be-%e0%a6%86%e0%a6%95%e0%a7%8d%e0%a6%b0%e0%a6%be%e0%a6%a8/ HTTPSConnectionPool(host='modinanews.com', port=443): Max retries exceeded with url: /%E0%A6%B9%E0%A6%9C%E0%A7%87-%E0%A6%97%E0%A6%BF%E0%A7%9F%E0%A7%87-%E0%A6%95%E0%A7%87%E0%A6%89-%E0%A6%95%E0%A6%B0%E0%A7%8B%E0%A6%A8%E0%A6%BE-%E0%A6%86%E0%A6%95%E0%A7%8D%E0%A6%B0%E0%A6%BE%E0%A6%A8/ (Caused by NewConnectionError('<urllib3.connection.HTTPSConnection object at 0x7f96cc38af10>: Failed to establish a new connection: [Errno -2] Name or service not known'))\n",
            "ERROR:trafilatura.utils:parsing failed: Document is empty\n"
          ],
          "name": "stderr"
        },
        {
          "output_type": "stream",
          "text": [
            "Description Updated\n",
            "908\n",
            "Link Type\n",
            "https://modinanews.com/%e0%a6%b9%e0%a6%9c%e0%a7%87-%e0%a6%97%e0%a6%bf%e0%a7%9f%e0%a7%87-%e0%a6%95%e0%a7%87%e0%a6%89-%e0%a6%95%e0%a6%b0%e0%a7%8b%e0%a6%a8%e0%a6%be-%e0%a6%86%e0%a6%95%e0%a7%8d%e0%a6%b0%e0%a6%be%e0%a6%a8/\n",
            "HTTPSConnectionPool(host='modinanews.com', port=443): Max retries exceeded with url: /%E0%A6%B9%E0%A6%9C%E0%A7%87-%E0%A6%97%E0%A6%BF%E0%A7%9F%E0%A7%87-%E0%A6%95%E0%A7%87%E0%A6%89-%E0%A6%95%E0%A6%B0%E0%A7%8B%E0%A6%A8%E0%A6%BE-%E0%A6%86%E0%A6%95%E0%A7%8D%E0%A6%B0%E0%A6%BE%E0%A6%A8/ (Caused by NewConnectionError('<urllib3.connection.HTTPSConnection object at 0x7f96cce8a050>: Failed to establish a new connection: [Errno -2] Name or service not known'))\n",
            "dropped\n",
            "909\n",
            "Status Type\n",
            "Continuing\n",
            "910\n",
            "Link Type\n",
            "https://www.anandabazar.com/national/33-thousand-arrived-from-uk-since-november-after-discovery-of-new-british-strain-of-covid-19-dgtl-1.1251751?utm_source=facebook&utm_medium=social&utm_campaign=daily\n",
            "Description Updated\n",
            "911\n",
            "Link Type\n",
            "https://www.sangbadpratidin.in/kolkata/bjp-mp-dilip-ghosh-slams-cm-mamata-banerjee-over-nandigram-issue/\n",
            "Description Updated\n",
            "912\n",
            "Status Type\n",
            "Continuing\n",
            "913\n",
            "Link Type\n",
            "https://www.jashoretribune.com/2020/12/news_30.html#.X-1SI-ZiQPE.facebook\n",
            "Description Updated\n",
            "914\n",
            "Link Type\n",
            "https://www.dailyinqilab.com/article/346836/%E0%A6%95%E0%A6%B0%E0%A7%8B%E0%A6%A8%E0%A6%BE%E0%A7%9F-%E0%A7%A8%E0%A7%AA-%E0%A6%98%E0%A6%A3%E0%A7%8D%E0%A6%9F%E0%A6%BE%E0%A7%9F-%E0%A6%AA%E0%A7%8D%E0%A6%B0%E0%A6%BE%E0%A6%A3-%E0%A6%97%E0%A7%87%E0%A6%B2-%E0%A6%86%E0%A6%B0%E0%A6%93-%E0%A7%A8%E0%A7%AE-%E0%A6%9C%E0%A6%A8%E0%A7%87%E0%A6%B0-%E0%A6%B6%E0%A6%A8%E0%A6%BE%E0%A6%95%E0%A7%8D%E0%A6%A4-%E0%A7%A7%E0%A7%A6%E0%A7%A7%E0%A7%AA\n",
            "Description Updated\n",
            "915\n",
            "Status Type\n",
            "Continuing\n",
            "916\n",
            "Link Type\n",
            "https://banglapost24.news/%e0%a6%93%e0%a6%ae%e0%a6%b0%e0%a6%be%e0%a6%b9-%e0%a6%aa%e0%a6%be%e0%a6%b2%e0%a6%a8%e0%a7%87-%e0%a6%97%e0%a6%bf%e0%a7%9f%e0%a7%87-%e0%a6%95%e0%a6%b0%e0%a7%8b%e0%a6%a8%e0%a6%be%e0%a7%9f-%e0%a6%86/\n",
            "Description Updated\n",
            "917\n",
            "Link Type\n",
            "https://www.dailyinqilab.com/article/346314/%E0%A7%A8%E0%A7%A6%E0%A7%A8%E0%A7%A6-%E0%A6%A6%E0%A7%81%E0%A6%B0%E0%A7%8D%E0%A6%AD%E0%A7%87%E0%A6%BE%E0%A6%97-%E0%A6%B9%E0%A6%BE%E0%A6%B9%E0%A6%BE%E0%A6%95%E0%A6%BE%E0%A6%B0-%E0%A6%93-%E0%A6%95%E0%A6%BE%E0%A6%A8%E0%A7%8D%E0%A6%A8%E0%A6%BE%E0%A6%B0-%E0%A6%AC%E0%A6%9B%E0%A6%B0-%E0%A7%A8%E0%A7%A7-%E0%A6%B9%E0%A6%AC%E0%A7%87-%E0%A6%AA%E0%A7%8D%E0%A6%B0%E0%A6%A4%E0%A7%8D%E0%A6%AF%E0%A6%BE%E0%A6%B6%E0%A6%BE%E0%A6%B0-%E0%A6%9C%E0%A6%BE%E0%A6%A4%E0%A6%BF%E0%A6%B8%E0%A6%82%E0%A6%98-%E0%A6%AE%E0%A6%B9%E0%A6%BE%E0%A6%B8%E0%A6%9A%E0%A6%BF%E0%A6%AC\n",
            "Description Updated\n",
            "918\n",
            "Link Type\n",
            "https://www.anandabazar.com/international/nearly-half-a-million-residents-in-wuhan-may-have-been-infected-with-covid-19-study-shows-dgtl-1.1251175?utm_source=facebook&utm_medium=social&utm_campaign=daily\n",
            "Description Updated\n",
            "919\n",
            "Link Type\n",
            "https://www.sonalinews.com/national/news/136826\n"
          ],
          "name": "stdout"
        },
        {
          "output_type": "stream",
          "text": [
            "ERROR:trafilatura.utils:not a 200 response: 403 for URL https://samakal.com/international/article/201247862/%E0%A6%B8%E0%A6%BE%E0%A6%AE%E0%A6%A8%E0%A7%87-%E0%A6%86%E0%A6%B0%E0%A6%93-%E0%A6%AC%E0%A7%9C-%E0%A6%AE%E0%A6%B9%E0%A6%BE%E0%A6%AE%E0%A6%BE%E0%A6%B0%E0%A6%BF-%E0%A6%86%E0%A6%B8%E0%A6%A4%E0%A7%87-%E0%A6%AA%E0%A6%BE%E0%A6%B0%E0%A7%87-%E0%A6%A1%E0%A6%AC%E0%A7%8D%E0%A6%B2%E0%A6%BF%E0%A6%89%E0%A6%8F%E0%A6%87%E0%A6%9A%E0%A6%93\n",
            "ERROR:trafilatura.utils:this type cannot be processed: <class 'NoneType'>\n"
          ],
          "name": "stderr"
        },
        {
          "output_type": "stream",
          "text": [
            "Description Updated\n",
            "920\n",
            "Link Type\n",
            "https://samakal.com/international/article/201247862/%E0%A6%B8%E0%A6%BE%E0%A6%AE%E0%A6%A8%E0%A7%87-%E0%A6%86%E0%A6%B0%E0%A6%93-%E0%A6%AC%E0%A7%9C-%E0%A6%AE%E0%A6%B9%E0%A6%BE%E0%A6%AE%E0%A6%BE%E0%A6%B0%E0%A6%BF-%E0%A6%86%E0%A6%B8%E0%A6%A4%E0%A7%87-%E0%A6%AA%E0%A6%BE%E0%A6%B0%E0%A7%87-%E0%A6%A1%E0%A6%AC%E0%A7%8D%E0%A6%B2%E0%A6%BF%E0%A6%89%E0%A6%8F%E0%A6%87%E0%A6%9A%E0%A6%93\n",
            "None\n",
            "dropped\n",
            "921\n",
            "Link Type\n",
            "https://www.dailynayadiganta.com/education/552246/%E0%A6%8F%E0%A6%87%E0%A6%9A%E0%A6%8F%E0%A6%B8%E0%A6%B8%E0%A6%BF-%E0%A6%B8%E0%A6%BE%E0%A6%B0%E0%A7%8D%E0%A6%9F%E0%A6%BF%E0%A6%AB%E0%A6%BF%E0%A6%95%E0%A7%87%E0%A6%9F%E0%A7%87-%E0%A6%89%E0%A6%B2%E0%A7%8D%E0%A6%B2%E0%A7%87%E0%A6%96-%E0%A6%A5%E0%A6%BE%E0%A6%95%E0%A6%9B%E0%A7%87-%E0%A6%A8%E0%A6%BE-%E0%A6%AA%E0%A7%8D%E0%A6%B0%E0%A6%BE%E0%A6%AA%E0%A7%8D%E0%A6%A4-%E0%A6%A8%E0%A6%AE%E0%A7%8D%E0%A6%AC%E0%A6%B0\n",
            "Description Updated\n",
            "922\n",
            "Link Type\n",
            "http://up-todaysnews.com/2020/12/28/%e0%a6%ae%e0%a7%81%e0%a6%b8%e0%a6%b2%e0%a6%bf%e0%a6%ae%e0%a6%a6%e0%a7%87%e0%a6%b0-%e0%a6%9c%e0%a6%a8%e0%a7%8d%e0%a6%af-%e0%a6%95%e0%a6%b0%e0%a7%8b%e0%a6%a8%e0%a6%be-%e0%a6%ad%e0%a7%8d%e0%a6%af/\n",
            "Description Updated\n",
            "923\n",
            "Link Type\n",
            "https://risingbengal.in/desh/pm-modi-statement-about-covid-19-vaccine-of-india\n",
            "Description Updated\n",
            "924\n",
            "Link Type\n",
            "https://banglatraffic.com/bn/%E0%A6%93%E0%A6%AE%E0%A6%B0%E0%A6%BE%E0%A6%B9-%E0%A6%AA%E0%A6%BE%E0%A6%B2%E0%A6%A8%E0%A7%87-%E0%A7%AB%E0%A7%A6-%E0%A6%B2%E0%A6%BE%E0%A6%96-%E0%A6%AE%E0%A6%BE%E0%A6%A8%E0%A7%81%E0%A6%B7-%E0%A6%95/\n",
            "Description Updated\n",
            "925\n",
            "Link Type\n",
            "https://www.bd-pratidin.com/probash-potro/2020/12/28/601936\n",
            "Description Updated\n",
            "926\n",
            "Link Type\n",
            "https://www.ntvbd.com/lifestyle/%E0%A6%A8%E0%A6%A4%E0%A7%81%E0%A6%A8-%E0%A6%AC%E0%A6%9B%E0%A6%B0%E0%A7%87-%E0%A6%AC%E0%A6%A8%E0%A7%8D%E0%A6%A7%E0%A6%A8-%E0%A6%B9%E0%A7%8B%E0%A6%95-%E0%A6%A6%E0%A7%83%E0%A7%9D-848137\n",
            "Description Updated\n",
            "927\n",
            "Link Type\n",
            "https://www.news24bd.tv/details/48218/%E0%A6%B2%E0%A6%A8%E0%A7%8D%E0%A6%A1%E0%A6%A8-%E0%A6%A5%E0%A7%87%E0%A6%95%E0%A7%87-%E0%A6%86%E0%A6%B8%E0%A6%BE-%E0%A6%B8%E0%A6%AC-%E0%A6%AB%E0%A7%8D%E0%A6%B2%E0%A6%BE%E0%A6%87%E0%A6%9F-%E0%A6%AC%E0%A6%A8%E0%A7%8D%E0%A6%A7%E0%A7%87%E0%A6%B0-%E0%A6%B8%E0%A7%81%E0%A6%AA%E0%A6%BE%E0%A6%B0%E0%A6%BF%E0%A6%B6\n",
            "Description Updated\n",
            "928\n",
            "Link Type\n",
            "https://www.24updatenews.com/bn/article/106709/\n",
            "Description Updated\n",
            "929\n",
            "Link Type\n",
            "https://www.sangbadpratidin.in/bengal/1028-people-tested-covid-positive-in-last-24-hours-in-west-bengal/\n",
            "Description Updated\n",
            "930\n",
            "Link Type\n",
            "https://www.jagonews24.com/international/news/632149\n",
            "Description Updated\n",
            "931\n",
            "Link Type\n",
            "https://www.somoyerkonthosor.com/2020/12/31/466382.htm\n",
            "Description Updated\n",
            "932\n",
            "Status Type\n",
            "Continuing\n",
            "933\n",
            "Link Type\n",
            "https://www.dainikshiksha.com/%E0%A6%B6%E0%A6%BF%E0%A6%95%E0%A7%8D%E0%A6%B7%E0%A6%BE%E0%A6%B0%E0%A7%8D%E0%A6%A5%E0%A7%80%E0%A6%B0%E0%A6%BE-%E0%A6%9A%E0%A6%BE%E0%A6%87%E0%A6%B2%E0%A7%87-%E0%A6%AC%E0%A6%BF%E0%A6%B2%E0%A6%AE%E0%A7%8D%E0%A6%AC-%E0%A6%AB%E0%A6%BF-%E0%A6%AA%E0%A6%B0%E0%A6%BF%E0%A6%B6%E0%A7%8B%E0%A6%A7%E0%A7%87%E0%A6%B0-%E0%A6%B8%E0%A6%AE%E0%A7%9F-%E0%A6%AC%E0%A7%83%E0%A6%A6%E0%A7%8D%E0%A6%A7%E0%A6%BF-%E0%A6%95%E0%A6%B0%E0%A6%BE-%E0%A6%B9%E0%A6%AC%E0%A7%87-%E0%A6%9C%E0%A6%AC%E0%A6%BF-%E0%A6%89%E0%A6%AA%E0%A6%BE%E0%A6%9A%E0%A6%BE%E0%A6%B0%E0%A7%8D%E0%A6%AF/201139/\n",
            "Description Updated\n",
            "934\n",
            "Link Type\n",
            "https://www.somoynews.tv/pages/details/254944\n"
          ],
          "name": "stdout"
        },
        {
          "output_type": "stream",
          "text": [
            "WARNING:trafilatura.utils:wrong encoding detected: utf-8\n",
            "ERROR:trafilatura.utils:not a 200 response: 404 for URL https://probashtime.com/2020/12/27/%e0%a6%93%e0%a6%ae%e0%a6%be%e0%a6%a8%e0%a7%87-%e0%a6%86%e0%a6%a8%e0%a7%81%e0%a6%b7%e0%a7%8d%e0%a6%a0%e0%a6%be%e0%a6%a8%e0%a6%bf%e0%a6%95-%e0%a6%ad%e0%a6%be%e0%a6%ac%e0%a7%87-%e0%a6%b6%e0%a7%81/\n",
            "ERROR:trafilatura.utils:this type cannot be processed: <class 'NoneType'>\n"
          ],
          "name": "stderr"
        },
        {
          "output_type": "stream",
          "text": [
            "Description Updated\n",
            "935\n",
            "Link Type\n",
            "https://probashtime.com/2020/12/27/%e0%a6%93%e0%a6%ae%e0%a6%be%e0%a6%a8%e0%a7%87-%e0%a6%86%e0%a6%a8%e0%a7%81%e0%a6%b7%e0%a7%8d%e0%a6%a0%e0%a6%be%e0%a6%a8%e0%a6%bf%e0%a6%95-%e0%a6%ad%e0%a6%be%e0%a6%ac%e0%a7%87-%e0%a6%b6%e0%a7%81/\n",
            "None\n",
            "dropped\n",
            "936\n",
            "Status Type\n",
            "Continuing\n",
            "937\n",
            "Link Type\n",
            "https://news.bd24report.com/post/%e0%a6%a1%e0%a6%be-%e0%a6%b8%e0%a6%be%e0%a6%ac%e0%a6%b0%e0%a6%bf%e0%a6%a8%e0%a6%be%e0%a6%95%e0%a7%87-%e0%a6%9c%e0%a6%be%e0%a6%ae%e0%a6%bf%e0%a6%a8-%e0%a6%a6%e0%a7%87%e0%a7%9f%e0%a6%a8%e0%a6%bf/\n",
            "Description Updated\n",
            "938\n",
            "Link Type\n",
            "https://www.jugantor.com/covid-19/378436/%E0%A6%AF%E0%A7%81%E0%A6%95%E0%A7%8D%E0%A6%A4%E0%A6%B0%E0%A6%BE%E0%A6%9C%E0%A7%8D%E0%A6%AF-%E0%A6%A5%E0%A7%87%E0%A6%95%E0%A7%87-%E0%A6%8F%E0%A6%B2%E0%A7%87%E0%A6%87-%E0%A7%A7%E0%A7%AA-%E0%A6%A6%E0%A6%BF%E0%A6%A8%E0%A7%87%E0%A6%B0-%E0%A6%95%E0%A7%8B%E0%A7%9F%E0%A6%BE%E0%A6%B0%E0%A7%87%E0%A6%A8%E0%A7%8D%E0%A6%9F%E0%A6%BF%E0%A6%A8\n",
            "Description Updated\n",
            "939\n",
            "Link Type\n",
            "http://www.tritiyamatra.com/news/317697\n"
          ],
          "name": "stdout"
        },
        {
          "output_type": "stream",
          "text": [
            "ERROR:trafilatura.utils:not a 200 response: 404 for URL http://www.tritiyamatra.com/news/317697\n",
            "ERROR:trafilatura.utils:this type cannot be processed: <class 'NoneType'>\n"
          ],
          "name": "stderr"
        },
        {
          "output_type": "stream",
          "text": [
            "None\n",
            "dropped\n",
            "940\n",
            "Link Type\n",
            "https://www.dailynayadiganta.com/politics/552680/%E0%A6%95%E0%A6%B0%E0%A7%8B%E0%A6%A8%E0%A6%BE-%E0%A6%AA%E0%A6%B0%E0%A6%BF%E0%A6%B8%E0%A7%8D%E0%A6%A5%E0%A6%BF%E0%A6%A4%E0%A6%BF%E0%A6%B0-%E0%A6%89%E0%A6%A8%E0%A7%8D%E0%A6%A8%E0%A6%A4%E0%A6%BF-%E0%A6%A8%E0%A6%BE-%E0%A6%B9%E0%A6%B2%E0%A7%87-%E0%A6%B6%E0%A6%BF%E0%A6%95%E0%A7%8D%E0%A6%B7%E0%A6%BE-%E0%A6%AA%E0%A7%8D%E0%A6%B0%E0%A6%A4%E0%A6%BF%E0%A6%B7%E0%A7%8D%E0%A6%A0%E0%A6%BE%E0%A6%A8-%E0%A6%96%E0%A7%81%E0%A6%B2%E0%A6%AC%E0%A7%87-%E0%A6%A8%E0%A6%BE-%E0%A6%AA%E0%A7%8D%E0%A6%B0%E0%A6%A7%E0%A6%BE%E0%A6%A8%E0%A6%AE%E0%A6%A8%E0%A7%8D%E0%A6%A4%E0%A7%8D%E0%A6%B0%E0%A7%80\n",
            "Description Updated\n",
            "941\n",
            "Status Type\n",
            "Continuing\n",
            "942\n",
            "Link Type\n",
            "https://www.bd24live.com/bangla/%e0%a6%95%e0%a6%b0%e0%a7%8b%e0%a6%a8%e0%a6%be%e0%a7%9f-%e0%a6%aa%e0%a7%8d%e0%a6%b0%e0%a6%a7%e0%a6%be%e0%a6%a8%e0%a6%ae%e0%a6%a8%e0%a7%8d%e0%a6%a4%e0%a7%8d%e0%a6%b0%e0%a7%80%e0%a6%b0-%e0%a6%89%e0%a6%aa/\n",
            "Description Updated\n",
            "943\n",
            "Status Type\n",
            "Continuing\n",
            "944\n",
            "Link Type\n",
            "https://www.kolkata24x7.com/kamala-harris-receives-coronavirus-vaccine/\n",
            "Description Updated\n",
            "945\n",
            "Status Type\n",
            "Continuing\n",
            "946\n",
            "Status Type\n",
            "Continuing\n",
            "947\n",
            "Link Type\n",
            "https://www.banglatribune.com/national/news/660017/%E0%A6%95%E0%A6%B0%E0%A7%8B%E0%A6%A8%E0%A6%BE-%E0%A6%AA%E0%A6%B0%E0%A6%BF%E0%A6%B8%E0%A7%8D%E0%A6%A5%E0%A6%BF%E0%A6%A4%E0%A6%BF-%E0%A6%85%E0%A6%A8%E0%A7%81%E0%A6%95%E0%A7%82%E0%A6%B2%E0%A7%87-%E0%A6%A8%E0%A6%BE-%E0%A6%86%E0%A6%B8%E0%A6%B2%E0%A7%87-%E0%A6%B6%E0%A6%BF%E0%A6%95%E0%A7%8D%E0%A6%B7%E0%A6%BE%E0%A6%AA%E0%A7%8D%E0%A6%B0%E0%A6%A4%E0%A6%BF%E0%A6%B7%E0%A7%8D%E0%A6%A0%E0%A6%BE%E0%A6%A8\n",
            "Description Updated\n",
            "948\n",
            "Link Type\n",
            "https://parstoday.com/bn/news/india-i85665\n",
            "Description Updated\n",
            "949\n",
            "Link Type\n",
            "https://www.somoynews.tv/pages/details/255188\n"
          ],
          "name": "stdout"
        },
        {
          "output_type": "stream",
          "text": [
            "WARNING:trafilatura.utils:wrong encoding detected: utf-8\n"
          ],
          "name": "stderr"
        },
        {
          "output_type": "stream",
          "text": [
            "Description Updated\n",
            "950\n",
            "Link Type\n",
            "https://www.jagonews24.com/international/news/633056\n",
            "Description Updated\n",
            "951\n",
            "Link Type\n",
            "https://www.dailynayadiganta.com/administration/551780/%E0%A6%86%E0%A6%AC%E0%A6%BE%E0%A6%B0-%E0%A6%95%E0%A6%B0%E0%A7%8B%E0%A6%A8%E0%A6%BE-%E0%A6%86%E0%A6%95%E0%A7%8D%E0%A6%B0%E0%A6%BE%E0%A6%A8%E0%A7%8D%E0%A6%A4-%E0%A6%AF%E0%A6%BE%E0%A6%A4%E0%A7%8D%E0%A6%B0%E0%A7%80-%E0%A6%86%E0%A6%A8%E0%A6%B2%E0%A7%87-%E0%A6%A4%E0%A6%BF%E0%A6%A8-%E0%A6%A6%E0%A6%BF%E0%A6%A8%E0%A7%87%E0%A6%B0-%E0%A6%AB%E0%A7%8D%E0%A6%B2%E0%A6%BE%E0%A6%87%E0%A6%9F-%E0%A6%AC%E0%A6%BE%E0%A6%A4%E0%A6%BF%E0%A6%B2\n",
            "Description Updated\n",
            "952\n",
            "Link Type\n",
            "https://www.banglanews24.com/international/news/bd/832470.details\n",
            "Description Updated\n",
            "953\n",
            "Link Type\n",
            "https://www.dailynayadiganta.com/uk/552437/%E0%A6%AF%E0%A7%81%E0%A6%95%E0%A7%8D%E0%A6%A4%E0%A6%B0%E0%A6%BE%E0%A6%9C%E0%A7%8D%E0%A6%AF%E0%A7%87-%E0%A6%95%E0%A6%B0%E0%A7%8B%E0%A6%A8%E0%A6%BE%E0%A6%B0-%E0%A6%9A%E0%A6%BE%E0%A6%AA-%E0%A6%A8%E0%A6%BF%E0%A6%A4%E0%A7%87-%E0%A6%AA%E0%A6%BE%E0%A6%B0%E0%A6%9B%E0%A7%87-%E0%A6%A8%E0%A6%BE-%E0%A6%B9%E0%A6%BE%E0%A6%B8%E0%A6%AA%E0%A6%BE%E0%A6%A4%E0%A6%BE%E0%A6%B2%E0%A6%97%E0%A7%81%E0%A6%B2%E0%A7%8B\n",
            "Description Updated\n",
            "954\n",
            "Status Type\n",
            "Continuing\n",
            "955\n",
            "Link Type\n",
            "https://ejobsresult.com/2020/12/28/%e0%a6%b9%e0%a6%9c%e0%a7%87-%e0%a6%97%e0%a6%bf%e0%a7%9f%e0%a7%87-%e0%a6%8f%e0%a6%96%e0%a6%a8-%e0%a6%aa%e0%a6%b0%e0%a7%8d%e0%a6%af%e0%a6%a8%e0%a7%8d%e0%a6%a4-%e0%a6%95%e0%a7%87%e0%a6%89-%e0%a6%95/\n",
            "Description Updated\n",
            "956\n",
            "Link Type\n",
            "https://www.sangbadpratidin.in/india/coronavirus-india-reports-16432-new-covid-19-cases-six-uk-returnees-found-positive-for-new-uk-variant/\n",
            "Description Updated\n",
            "957\n",
            "Link Type\n",
            "https://www.jagonews24.com/probash/news/633006\n",
            "Description Updated\n",
            "958\n",
            "Link Type\n",
            "https://banglavision.tv/international/64193/\n",
            "Description Updated\n",
            "959\n",
            "Link Type\n",
            "https://www.kolkata24x7.com/firhad-co_vaccine/\n",
            "Description Updated\n",
            "960\n",
            "Link Type\n",
            "https://banglavision.tv/%e0%a6%9c%e0%a6%be%e0%a6%a4%e0%a7%80%e0%a6%af%e0%a6%bc/63829/\n",
            "Description Updated\n",
            "961\n",
            "Status Type\n",
            "Continuing\n",
            "962\n",
            "Link Type\n",
            "https://dbcnews.tv/news/%E0%A6%AC%E0%A6%87-%E0%A6%89%E0%A7%8E%E0%A6%B8%E0%A6%AC-%E0%A6%89%E0%A6%A6%E0%A7%8D%E0%A6%AC%E0%A7%8B%E0%A6%A7%E0%A6%A8-%E0%A6%95%E0%A6%B0%E0%A6%B2%E0%A7%87%E0%A6%A8-%E0%A6%AA%E0%A7%8D%E0%A6%B0%E0%A6%A7%E0%A6%BE%E0%A6%A8%E0%A6%AE%E0%A6%A8%E0%A7%8D%E0%A6%A4%E0%A7%8D%E0%A6%B0%E0%A7%80\n",
            "Description Updated\n",
            "963\n",
            "Link Type\n",
            "https://dbcnews.tv/news/%E0%A6%A6%E0%A6%B2%E0%A7%87-%E0%A6%B6%E0%A7%81%E0%A6%A6%E0%A7%8D%E0%A6%A7%E0%A6%BF-%E0%A6%85%E0%A6%AD%E0%A6%BF%E0%A6%AF%E0%A6%BE%E0%A6%A8-%E0%A6%86%E0%A6%B0-%E0%A6%95%E0%A6%B0%E0%A7%8B%E0%A6%A8%E0%A6%BE-%E0%A6%AC%E0%A6%A8%E0%A7%8D%E0%A6%AF%E0%A6%BE%E0%A7%9F-%E0%A6%AE%E0%A6%BE%E0%A6%A8%E0%A7%81%E0%A6%B7%E0%A7%87%E0%A6%B0-%E0%A6%AA%E0%A6%BE%E0%A6%B6%E0%A7%87-%E0%A6%86%E0%A6%93%E0%A7%9F%E0%A6%BE%E0%A6%AE%E0%A7%80-%E0%A6%B2%E0%A7%80%E0%A6%97\n",
            "Description Updated\n",
            "964\n",
            "Link Type\n",
            "https://www.nytimesbd.com/probash/news/9178\n"
          ],
          "name": "stdout"
        },
        {
          "output_type": "stream",
          "text": [
            "ERROR:trafilatura.core:not enough text None\n"
          ],
          "name": "stderr"
        },
        {
          "output_type": "stream",
          "text": [
            "Description Updated\n",
            "965\n",
            "Link Type\n",
            "https://www.jagonews24.com/special-reports/news/631417\n"
          ],
          "name": "stdout"
        },
        {
          "output_type": "stream",
          "text": [
            "ERROR:trafilatura.utils:retries/redirects: https://www.ourislam24.com/2020/12/29/%e0%a6%a5%e0%a6%be%e0%a6%b0%e0%a7%8d%e0%a6%9f%e0%a6%bf-%e0%a6%ab%e0%a6%be%e0%a6%b0%e0%a7%8d%e0%a6%b8%e0%a7%8d%e0%a6%9f-%e0%a6%a8%e0%a6%be%e0%a6%87%e0%a6%9f%e0%a7%87-%e0%a6%95%e0%a7%8b%e0%a6%a8/ HTTPSConnectionPool(host='www.ourislam24.com', port=443): Max retries exceeded with url: /2020/12/29/%E0%A6%A5%E0%A6%BE%E0%A6%B0%E0%A7%8D%E0%A6%9F%E0%A6%BF-%E0%A6%AB%E0%A6%BE%E0%A6%B0%E0%A7%8D%E0%A6%B8%E0%A7%8D%E0%A6%9F-%E0%A6%A8%E0%A6%BE%E0%A6%87%E0%A6%9F%E0%A7%87-%E0%A6%95%E0%A7%8B%E0%A6%A8/ (Caused by ResponseError('too many 503 error responses'))\n",
            "ERROR:trafilatura.utils:parsing failed: Document is empty\n"
          ],
          "name": "stderr"
        },
        {
          "output_type": "stream",
          "text": [
            "Description Updated\n",
            "966\n",
            "Link Type\n",
            "https://www.ourislam24.com/2020/12/29/%e0%a6%a5%e0%a6%be%e0%a6%b0%e0%a7%8d%e0%a6%9f%e0%a6%bf-%e0%a6%ab%e0%a6%be%e0%a6%b0%e0%a7%8d%e0%a6%b8%e0%a7%8d%e0%a6%9f-%e0%a6%a8%e0%a6%be%e0%a6%87%e0%a6%9f%e0%a7%87-%e0%a6%95%e0%a7%8b%e0%a6%a8/\n",
            "None\n",
            "dropped\n",
            "967\n",
            "Link Type\n",
            "https://city24news.com/bn/archives/49619\n",
            "Description Updated\n",
            "968\n",
            "Link Type\n",
            "https://educationsinbd.com/bn/edu-news/13333/\n",
            "Description Updated\n",
            "969\n",
            "Link Type\n",
            "https://mzamin.com/article.php?mzamin=256591&cat=8%2F-%E0%A6%85%E0%A6%95%E0%A7%8D%E0%A6%B8%E0%A6%AB%E0%A7%8B%E0%A6%B0%E0%A7%8D%E0%A6%A1-%E0%A6%8F%E0%A6%B8%E0%A7%8D%E0%A6%9F%E0%A7%8D%E0%A6%B0%E0%A6%BE%E0%A6%9C%E0%A7%87%E0%A6%A8%E0%A7%87%E0%A6%95%E0%A6%BE%E0%A6%B0-%E0%A6%9F%E0%A6%BF%E0%A6%95%E0%A6%BE-%E0%A6%85%E0%A6%A8%E0%A7%81%E0%A6%AE%E0%A7%8B%E0%A6%A6%E0%A6%A8-%E0%A6%A6%E0%A6%BF%E0%A7%9F%E0%A7%87%E0%A6%9B%E0%A7%87-%E0%A6%AC%E0%A7%83%E0%A6%9F%E0%A7%87%E0%A6%A8\n",
            "Description Updated\n",
            "970\n",
            "Link Type\n",
            "https://banglanews24.com/saltamami/news/bd/832403.details\n",
            "Description Updated\n",
            "971\n",
            "Status Type\n",
            "Continuing\n",
            "972\n",
            "Link Type\n",
            "https://banglawashcricket.com/2020/12/30/1628/\n",
            "Description Updated\n",
            "973\n",
            "Link Type\n",
            "https://www.dailynayadiganta.com/middle-east/551861/%E0%A6%AE%E0%A6%BF%E0%A6%B8%E0%A6%B0%E0%A7%87-%E0%A6%95%E0%A6%B0%E0%A7%8B%E0%A6%A8%E0%A6%BE-%E0%A6%B9%E0%A6%BE%E0%A6%B8%E0%A6%AA%E0%A6%BE%E0%A6%A4%E0%A6%BE%E0%A6%B2%E0%A7%87-%E0%A6%86%E0%A6%97%E0%A7%81%E0%A6%A8-%E0%A6%B8%E0%A6%BE%E0%A6%A4%E0%A6%9C%E0%A6%A8%E0%A7%87%E0%A6%B0-%E0%A6%AE%E0%A7%83%E0%A6%A4%E0%A7%8D%E0%A6%AF%E0%A7%81\n",
            "Description Updated\n",
            "974\n",
            "Status Type\n",
            "Continuing\n",
            "975\n",
            "Link Type\n",
            "https://www.gulfbangla.com/news/8035\n"
          ],
          "name": "stdout"
        },
        {
          "output_type": "stream",
          "text": [
            "WARNING:trafilatura.metadata:no main title found\n",
            "WARNING:trafilatura.metadata:no h2 title found\n",
            "ERROR:trafilatura.core:not enough text None\n"
          ],
          "name": "stderr"
        },
        {
          "output_type": "stream",
          "text": [
            "Description Updated\n",
            "976\n",
            "Link Type\n",
            "https://www.amadershomoy.com/bn/2020/12/28/1264945.html\n",
            "Description Updated\n",
            "977\n",
            "Link Type\n",
            "https://www.nytimesbd.com/probash/news/9165\n"
          ],
          "name": "stdout"
        },
        {
          "output_type": "stream",
          "text": [
            "ERROR:trafilatura.core:not enough text None\n"
          ],
          "name": "stderr"
        },
        {
          "output_type": "stream",
          "text": [
            "Description Updated\n",
            "978\n",
            "Link Type\n",
            "https://mzamin.com/article.php?mzamin=256148&cat=8\n",
            "Description Updated\n",
            "979\n",
            "Link Type\n",
            "https://mymensinghlive.com/%E0%A6%8F%E0%A6%96%E0%A6%A8-%E0%A6%A5%E0%A7%87%E0%A6%95%E0%A7%87-%E0%A6%AE%E0%A7%9F%E0%A6%AE%E0%A6%A8%E0%A6%B8%E0%A6%BF%E0%A6%82%E0%A6%B9-%E0%A6%AE%E0%A7%87%E0%A6%A1%E0%A6%BF%E0%A6%95%E0%A7%87/\n"
          ],
          "name": "stdout"
        },
        {
          "output_type": "stream",
          "text": [
            "WARNING:trafilatura.core:unexpected in p: div \n",
            "                         বিদেশগামী বাংলাদেশি, প্রবাসী বা বিদেশি যাত্রীদের করোনামুক্ত সনদ দিতে ময়মনসিংহ মেডিকেল কলেজসহ ঢাকা ও ঢাকার বাইরে আরও ২১টি ল্যাবকে করোনা টেস্টের অনুমতি দিয়েছে স্বাস্থ্য মন্ত্রণালয়।\n",
            "ERROR:trafilatura.utils:retries/redirects: https://www.ourislam24.com/2020/12/28/%e0%a6%af%e0%a7%81%e0%a6%95%e0%a7%8d%e0%a6%a4%e0%a6%b0%e0%a6%be%e0%a6%9c%e0%a7%8d%e0%a6%af-%e0%a6%a5%e0%a7%87%e0%a6%95%e0%a7%87-%e0%a6%ab%e0%a6%bf%e0%a6%b0%e0%a6%b2%e0%a7%87%e0%a6%87-%e0%a7%a7/ HTTPSConnectionPool(host='www.ourislam24.com', port=443): Max retries exceeded with url: /2020/12/28/%E0%A6%AF%E0%A7%81%E0%A6%95%E0%A7%8D%E0%A6%A4%E0%A6%B0%E0%A6%BE%E0%A6%9C%E0%A7%8D%E0%A6%AF-%E0%A6%A5%E0%A7%87%E0%A6%95%E0%A7%87-%E0%A6%AB%E0%A6%BF%E0%A6%B0%E0%A6%B2%E0%A7%87%E0%A6%87-%E0%A7%A7/ (Caused by ResponseError('too many 503 error responses'))\n",
            "ERROR:trafilatura.utils:parsing failed: Document is empty\n"
          ],
          "name": "stderr"
        },
        {
          "output_type": "stream",
          "text": [
            "Description Updated\n",
            "980\n",
            "Link Type\n",
            "https://www.ourislam24.com/2020/12/28/%e0%a6%af%e0%a7%81%e0%a6%95%e0%a7%8d%e0%a6%a4%e0%a6%b0%e0%a6%be%e0%a6%9c%e0%a7%8d%e0%a6%af-%e0%a6%a5%e0%a7%87%e0%a6%95%e0%a7%87-%e0%a6%ab%e0%a6%bf%e0%a6%b0%e0%a6%b2%e0%a7%87%e0%a6%87-%e0%a7%a7/\n",
            "None\n",
            "dropped\n",
            "981\n",
            "Link Type\n",
            "https://www.jugantor.com/national/379441/%E0%A6%95%E0%A6%B0%E0%A7%8B%E0%A6%A8%E0%A6%BE%E0%A7%9F-%E0%A6%86%E0%A6%B0%E0%A6%93-%E0%A7%A8%E0%A7%AE-%E0%A6%9C%E0%A6%A8%E0%A7%87%E0%A6%B0-%E0%A6%AA%E0%A7%8D%E0%A6%B0%E0%A6%BE%E0%A6%A3%E0%A6%B9%E0%A6%BE%E0%A6%A8%E0%A6%BF-%E0%A6%A8%E0%A6%A4%E0%A7%81%E0%A6%A8-%E0%A6%B6%E0%A6%A8%E0%A6%BE%E0%A6%95%E0%A7%8D%E0%A6%A4-%E0%A7%A7%E0%A7%A6%E0%A7%A7%E0%A7%AA\n",
            "Description Updated\n",
            "982\n",
            "Link Type\n",
            "http://newzta.com/archives/980\n"
          ],
          "name": "stdout"
        },
        {
          "output_type": "stream",
          "text": [
            "ERROR:trafilatura.utils:not a 200 response: 403 for URL http://newzta.com/archives/980\n",
            "ERROR:trafilatura.utils:this type cannot be processed: <class 'NoneType'>\n"
          ],
          "name": "stderr"
        },
        {
          "output_type": "stream",
          "text": [
            "None\n",
            "dropped\n",
            "983\n",
            "Link Type\n",
            "https://www.dailyvorerpata.com/details.php?id=52688\n",
            "Description Updated\n",
            "984\n",
            "Status Type\n",
            "Continuing\n",
            "985\n",
            "Status Type\n",
            "Continuing\n",
            "986\n",
            "Link Type\n",
            "https://www.sangbadpratidin.in/bengal/covid-19-in-west-bengal-new-1170-positive-cases-in-last-24-hours-29-death/\n"
          ],
          "name": "stdout"
        },
        {
          "output_type": "stream",
          "text": [
            "ERROR:trafilatura.utils:not a 200 response: 403 for URL https://samakal.com/international/article/201248010/%E0%A6%95%E0%A7%8D%E0%A6%AF%E0%A6%BE%E0%A6%B2%E0%A6%BF%E0%A6%AB%E0%A7%8B%E0%A6%B0%E0%A7%8D%E0%A6%A8%E0%A6%BF%E0%A7%9F%E0%A6%BE%E0%A7%9F-%E0%A6%9F%E0%A6%BF%E0%A6%95%E0%A6%BE-%E0%A6%A8%E0%A7%87%E0%A6%93%E0%A7%9F%E0%A6%BE%E0%A6%B0-%E0%A7%A7-%E0%A6%B8%E0%A6%AA%E0%A7%8D%E0%A6%A4%E0%A6%BE%E0%A6%B9-%E0%A6%AA%E0%A6%B0-%E0%A6%95%E0%A6%B0%E0%A7%8B%E0%A6%A8%E0%A6%BE-%E0%A6%86%E0%A6%95%E0%A7%8D%E0%A6%B0%E0%A6%BE%E0%A6%A8%E0%A7%8D%E0%A6%A4-%E0%A6%A8%E0%A6%BE%E0%A6%B0%E0%A7%8D%E0%A6%B8\n",
            "ERROR:trafilatura.utils:this type cannot be processed: <class 'NoneType'>\n"
          ],
          "name": "stderr"
        },
        {
          "output_type": "stream",
          "text": [
            "Description Updated\n",
            "987\n",
            "Link Type\n",
            "https://samakal.com/international/article/201248010/%E0%A6%95%E0%A7%8D%E0%A6%AF%E0%A6%BE%E0%A6%B2%E0%A6%BF%E0%A6%AB%E0%A7%8B%E0%A6%B0%E0%A7%8D%E0%A6%A8%E0%A6%BF%E0%A7%9F%E0%A6%BE%E0%A7%9F-%E0%A6%9F%E0%A6%BF%E0%A6%95%E0%A6%BE-%E0%A6%A8%E0%A7%87%E0%A6%93%E0%A7%9F%E0%A6%BE%E0%A6%B0-%E0%A7%A7-%E0%A6%B8%E0%A6%AA%E0%A7%8D%E0%A6%A4%E0%A6%BE%E0%A6%B9-%E0%A6%AA%E0%A6%B0-%E0%A6%95%E0%A6%B0%E0%A7%8B%E0%A6%A8%E0%A6%BE-%E0%A6%86%E0%A6%95%E0%A7%8D%E0%A6%B0%E0%A6%BE%E0%A6%A8%E0%A7%8D%E0%A6%A4-%E0%A6%A8%E0%A6%BE%E0%A6%B0%E0%A7%8D%E0%A6%B8\n",
            "None\n",
            "dropped\n",
            "988\n",
            "Link Type\n",
            "https://www.bd24live.com/bangla/%e0%a7%a7%e0%a7%ae-%e0%a6%ac%e0%a6%9b%e0%a6%b0%e0%a7%87%e0%a6%b0-%e0%a6%95%e0%a6%ae-%e0%a6%ac%e0%a7%9f%e0%a6%b8%e0%a7%80%e0%a6%a6%e0%a7%87%e0%a6%b0-%e0%a6%95%e0%a6%b0%e0%a7%8b%e0%a6%a8%e0%a6%be/\n",
            "Description Updated\n",
            "989\n",
            "Link Type\n",
            "https://www.dailynayadiganta.com/disaster/552463/%E0%A6%A6%E0%A7%87%E0%A6%B6%E0%A7%87-%E0%A6%95%E0%A6%B0%E0%A7%8B%E0%A6%A8%E0%A6%BE%E0%A7%9F-%E0%A6%86%E0%A6%B0%E0%A7%8B-%E0%A7%A8%E0%A7%A8-%E0%A6%9C%E0%A6%A8%E0%A7%87%E0%A6%B0-%E0%A6%AE%E0%A7%83%E0%A6%A4%E0%A7%8D%E0%A6%AF%E0%A7%81\n",
            "Description Updated\n",
            "990\n",
            "Link Type\n",
            "https://www.sportsmail24.com/cricket/news/12373#.X-g7HA0zzsg.facebook\n"
          ],
          "name": "stdout"
        },
        {
          "output_type": "stream",
          "text": [
            "ERROR:trafilatura.utils:retries/redirects: https://www.clicknews24.com/?p=5868 HTTPSConnectionPool(host='www.clicknews24.com', port=443): Max retries exceeded with url: /?p=5868 (Caused by ProtocolError('Connection aborted.', ConnectionResetError(104, 'Connection reset by peer')))\n",
            "ERROR:trafilatura.utils:parsing failed: Document is empty\n"
          ],
          "name": "stderr"
        },
        {
          "output_type": "stream",
          "text": [
            "Description Updated\n",
            "991\n",
            "Link Type\n",
            "https://www.clicknews24.com/?p=5868\n",
            "Description Updated\n",
            "992\n",
            "Status Type\n",
            "Continuing\n",
            "993\n",
            "Status Type\n",
            "Continuing\n",
            "994\n",
            "Status Type\n",
            "Continuing\n",
            "995\n",
            "Link Type\n",
            "https://www.ittefaq.com.bd/looking-back-2020/210178/%E0%A6%AC%E0%A6%BF%E0%A6%A8%E0%A7%8B%E0%A6%A6%E0%A6%A8%E0%A7%87%E0%A6%B0-%E0%A6%96%E0%A6%B0%E0%A6%BE-%E0%A6%93-%E0%A6%B9%E0%A6%BE%E0%A6%B0%E0%A6%BE%E0%A6%A8%E0%A7%8B%E0%A6%B0-%E0%A6%AC%E0%A6%9B%E0%A6%B0\n",
            "Description Updated\n",
            "996\n",
            "Link Type\n",
            "https://www.anandabazar.com/lifestyle/year-end-special-2020-uncertainty-due-to-covid-19-will-be-the-hard-reality-of-2021-1.1248563?utm_source=facebook&utm_medium=social&utm_campaign=daily\n",
            "Description Updated\n",
            "997\n",
            "Status Type\n",
            "Continuing\n",
            "998\n",
            "Link Type\n",
            "https://bijoytimes.com/%E0%A6%B9%E0%A6%9C%E0%A7%87-%E0%A6%97%E0%A6%BF%E0%A7%9F%E0%A7%87-%E0%A6%95%E0%A7%87%E0%A6%89-%E0%A6%95%E0%A6%B0%E0%A7%8B%E0%A6%A8%E0%A6%BE-%E0%A6%86%E0%A6%95%E0%A7%8D%E0%A6%B0%E0%A6%BE%E0%A6%A8/\n",
            "Description Updated\n",
            "999\n",
            "Status Type\n",
            "Continuing\n",
            "1000\n",
            "Status Type\n",
            "Continuing\n",
            "1001\n",
            "Status Type\n",
            "Continuing\n",
            "1002\n",
            "Link Type\n",
            "https://www.somoynews.tv/pages/details/255549\n"
          ],
          "name": "stdout"
        },
        {
          "output_type": "stream",
          "text": [
            "WARNING:trafilatura.utils:wrong encoding detected: utf-8\n"
          ],
          "name": "stderr"
        },
        {
          "output_type": "stream",
          "text": [
            "Description Updated\n",
            "1003\n",
            "Link Type\n",
            "http://www.bd-pratidin.com/coronavirus/2020/12/30/602692\n",
            "Description Updated\n",
            "1004\n",
            "Link Type\n",
            "https://www.dailyinqilab.com/article/346300/%E0%A6%85%E0%A6%A7%E0%A7%8D%E0%A6%AF%E0%A6%BE%E0%A6%A6%E0%A7%87%E0%A6%B6-%E0%A6%9C%E0%A6%BE%E0%A6%B0%E0%A6%BF-%E0%A6%B9%E0%A6%B2%E0%A7%87%E0%A6%87-%E0%A6%9C%E0%A6%BE%E0%A6%A8%E0%A7%81%E0%A7%9F%E0%A6%BE%E0%A6%B0%E0%A6%BF%E0%A6%B0-%E0%A6%AA%E0%A7%8D%E0%A6%B0%E0%A6%A5%E0%A6%AE-%E0%A6%B8%E0%A6%AA%E0%A7%8D%E0%A6%A4%E0%A6%BE%E0%A6%B9%E0%A7%87-%E0%A6%8F%E0%A6%87%E0%A6%9A%E0%A6%8F%E0%A6%B8%E0%A6%B8%E0%A6%BF%E0%A6%B0-%E0%A6%AB%E0%A6%B2\n",
            "Description Updated\n",
            "1005\n",
            "Status Type\n",
            "Continuing\n",
            "1006\n",
            "Link Type\n",
            "https://akhonbangla.com/%E0%A6%8F%E0%A6%A5%E0%A7%87%E0%A6%A8%E0%A7%8D%E0%A6%B8%E0%A7%87%E0%A6%B0-%E0%A6%AA%E0%A7%8D%E0%A6%B0%E0%A6%A5%E0%A6%AE-%E0%A6%B8%E0%A6%B0%E0%A6%95%E0%A6%BE%E0%A6%B0%E0%A6%BF-%E0%A6%AE%E0%A6%B8/\n",
            "Description Updated\n",
            "1007\n",
            "Link Type\n",
            "https://banglanews24.com/daily-chittagong/news/bd/832369.details\n",
            "Description Updated\n",
            "1008\n",
            "Status Type\n",
            "Continuing\n",
            "1009\n",
            "Link Type\n",
            "https://www.prothomalo.com/world/south-america/%E0%A6%AC%E0%A7%8D%E0%A6%B0%E0%A6%BE%E0%A6%9C%E0%A6%BF%E0%A6%B2%E0%A7%87-%E0%A6%B2%E0%A6%BE%E0%A6%97%E0%A6%BE%E0%A6%AE%E0%A6%9B%E0%A6%BE%E0%A7%9C%E0%A6%BE-%E0%A6%B8%E0%A6%82%E0%A6%95%E0%A7%8D%E0%A6%B0%E0%A6%AE%E0%A6%A3-%E0%A6%9A%E0%A6%BF%E0%A6%A8%E0%A7%8D%E0%A6%A4%E0%A6%BE-%E0%A6%A8%E0%A7%87%E0%A6%87-%E0%A6%AC%E0%A6%B2%E0%A6%B8%E0%A7%8B%E0%A6%A8%E0%A6%BE%E0%A6%B0%E0%A7%8B%E0%A6%B0\n",
            "Description Updated\n",
            "1010\n",
            "Status Type\n",
            "Continuing\n",
            "1011\n",
            "Link Type\n",
            "https://www.somoynews.tv/pages/details/254897\n"
          ],
          "name": "stdout"
        },
        {
          "output_type": "stream",
          "text": [
            "WARNING:trafilatura.utils:wrong encoding detected: utf-8\n"
          ],
          "name": "stderr"
        },
        {
          "output_type": "stream",
          "text": [
            "Description Updated\n",
            "1012\n",
            "Link Type\n",
            "https://www.ittefaq.com.bd/wholecountry/209685/%E0%A6%AB%E0%A7%81%E0%A6%B2%E0%A6%AC%E0%A6%BE%E0%A7%9C%E0%A7%80%E0%A6%A4%E0%A7%87-%E0%A6%AC%E0%A7%87%E0%A7%9C%E0%A7%87%E0%A6%9B%E0%A7%87-%E0%A6%B6%E0%A6%BF%E0%A6%B6%E0%A7%81-%E0%A6%B6%E0%A7%8D%E0%A6%B0%E0%A6%AE%E0%A6%BF%E0%A6%95%E0%A7%87%E0%A6%B0-%E0%A6%B8%E0%A6%82%E0%A6%96%E0%A7%8D%E0%A6%AF%E0%A6%BE\n",
            "Description Updated\n",
            "1013\n",
            "Link Type\n",
            "https://www.channelionline.com/%e0%a6%9b%e0%a7%81%e0%a6%9f%e0%a6%bf%e0%a6%b0-%e0%a6%aa%e0%a6%b0-%e0%a6%95%e0%a6%b0%e0%a7%8b%e0%a6%a8%e0%a6%be-%e0%a6%aa%e0%a6%b0%e0%a6%bf%e0%a6%b8%e0%a7%8d%e0%a6%a5%e0%a6%bf%e0%a6%a4%e0%a6%bf/\n"
          ],
          "name": "stdout"
        },
        {
          "output_type": "stream",
          "text": [
            "ERROR:trafilatura.core:not enough text None\n",
            "ERROR:trafilatura.utils:not a 200 response: 403 for URL https://www.bangla.24livenewspaper.com/bangladesh/73198-under-the-age-of-18-will-not-get-the-vaccine\n",
            "ERROR:trafilatura.utils:this type cannot be processed: <class 'NoneType'>\n"
          ],
          "name": "stderr"
        },
        {
          "output_type": "stream",
          "text": [
            "Description Updated\n",
            "1014\n",
            "Link Type\n",
            "https://www.bangla.24livenewspaper.com/bangladesh/73198-under-the-age-of-18-will-not-get-the-vaccine\n",
            "None\n",
            "dropped\n",
            "1015\n",
            "Link Type\n",
            "https://www.emiratessangbad.com/archives/47849\n"
          ],
          "name": "stdout"
        },
        {
          "output_type": "stream",
          "text": [
            "ERROR:trafilatura.utils:retries/redirects: https://shikshabarta.com/%e0%a6%ad%e0%a7%8d%e0%a6%af%e0%a6%be%e0%a6%95%e0%a6%b8%e0%a6%bf%e0%a6%a8-%e0%a6%a8%e0%a7%87%e0%a6%93%e0%a7%9f%e0%a6%be%e0%a6%b0-%e0%a7%ae-%e0%a6%a6%e0%a6%bf%e0%a6%a8-%e0%a6%aa%e0%a6%b0-%e0%a6%95/ HTTPSConnectionPool(host='shikshabarta.com', port=443): Max retries exceeded with url: /%E0%A6%AD%E0%A7%8D%E0%A6%AF%E0%A6%BE%E0%A6%95%E0%A6%B8%E0%A6%BF%E0%A6%A8-%E0%A6%A8%E0%A7%87%E0%A6%93%E0%A7%9F%E0%A6%BE%E0%A6%B0-%E0%A7%AE-%E0%A6%A6%E0%A6%BF%E0%A6%A8-%E0%A6%AA%E0%A6%B0-%E0%A6%95/ (Caused by ResponseError('too many 503 error responses'))\n",
            "ERROR:trafilatura.utils:parsing failed: Document is empty\n"
          ],
          "name": "stderr"
        },
        {
          "output_type": "stream",
          "text": [
            "Description Updated\n",
            "1016\n",
            "Link Type\n",
            "https://shikshabarta.com/%e0%a6%ad%e0%a7%8d%e0%a6%af%e0%a6%be%e0%a6%95%e0%a6%b8%e0%a6%bf%e0%a6%a8-%e0%a6%a8%e0%a7%87%e0%a6%93%e0%a7%9f%e0%a6%be%e0%a6%b0-%e0%a7%ae-%e0%a6%a6%e0%a6%bf%e0%a6%a8-%e0%a6%aa%e0%a6%b0-%e0%a6%95/\n",
            "None\n",
            "dropped\n",
            "1017\n",
            "Link Type\n",
            "https://dbcnews.tv/news/%E0%A6%95%E0%A6%B0%E0%A7%8B%E0%A6%A8%E0%A6%BE-%E0%A6%86%E0%A6%95%E0%A7%8D%E0%A6%B0%E0%A6%BE%E0%A6%A8%E0%A7%8D%E0%A6%A4-%E0%A6%B9%E0%A7%9F%E0%A7%87-%E0%A6%AE%E0%A7%87%E0%A7%9F%E0%A6%B0-%E0%A6%AA%E0%A7%8D%E0%A6%B0%E0%A6%BE%E0%A6%B0%E0%A7%8D%E0%A6%A5%E0%A7%80%E0%A6%B0-%E0%A6%AE%E0%A7%83%E0%A6%A4%E0%A7%8D%E0%A6%AF%E0%A7%81-%E0%A6%AB%E0%A6%B2%E0%A6%BE%E0%A6%AB%E0%A6%B2-%E0%A6%B8%E0%A7%8D%E0%A6%A5%E0%A6%97%E0%A6%BF%E0%A6%A4\n"
          ],
          "name": "stdout"
        },
        {
          "output_type": "stream",
          "text": [
            "ERROR:trafilatura.utils:retries/redirects: https://www.ourislam24.com/2020/12/28/%e0%a6%95%e0%a6%b0%e0%a7%8b%e0%a6%a8%e0%a6%be%e0%a7%9f-%e0%a6%ae%e0%a6%be%e0%a6%b0%e0%a6%be-%e0%a6%97%e0%a7%87%e0%a6%b2%e0%a7%87%e0%a6%a8-%e0%a6%aa%e0%a7%8d%e0%a6%b0%e0%a6%a7%e0%a6%be%e0%a6%a8/ HTTPSConnectionPool(host='www.ourislam24.com', port=443): Max retries exceeded with url: /2020/12/28/%E0%A6%95%E0%A6%B0%E0%A7%8B%E0%A6%A8%E0%A6%BE%E0%A7%9F-%E0%A6%AE%E0%A6%BE%E0%A6%B0%E0%A6%BE-%E0%A6%97%E0%A7%87%E0%A6%B2%E0%A7%87%E0%A6%A8-%E0%A6%AA%E0%A7%8D%E0%A6%B0%E0%A6%A7%E0%A6%BE%E0%A6%A8/ (Caused by ResponseError('too many 503 error responses'))\n",
            "ERROR:trafilatura.utils:parsing failed: Document is empty\n"
          ],
          "name": "stderr"
        },
        {
          "output_type": "stream",
          "text": [
            "Description Updated\n",
            "1018\n",
            "Status Type\n",
            "Continuing\n",
            "1019\n",
            "Link Type\n",
            "https://www.ourislam24.com/2020/12/28/%e0%a6%95%e0%a6%b0%e0%a7%8b%e0%a6%a8%e0%a6%be%e0%a7%9f-%e0%a6%ae%e0%a6%be%e0%a6%b0%e0%a6%be-%e0%a6%97%e0%a7%87%e0%a6%b2%e0%a7%87%e0%a6%a8-%e0%a6%aa%e0%a7%8d%e0%a6%b0%e0%a6%a7%e0%a6%be%e0%a6%a8/\n",
            "None\n",
            "dropped\n",
            "1020\n",
            "Link Type\n",
            "https://www.jagonews24.com/education/news/632424\n",
            "Description Updated\n",
            "1021\n",
            "Status Type\n",
            "Continuing\n",
            "1022\n",
            "Status Type\n",
            "Continuing\n",
            "1023\n",
            "Link Type\n",
            "http://www.dhakarbarta.com/?p=118722\n",
            "Description Updated\n",
            "1024\n",
            "Link Type\n",
            "https://banglanews24.com/entertainment/news/bd/832074.details\n",
            "Description Updated\n",
            "1025\n",
            "Status Type\n",
            "Continuing\n",
            "1026\n",
            "Status Type\n",
            "Continuing\n",
            "1027\n",
            "Link Type\n",
            "https://www.banglaline24.com/2020/12/28/%e0%a6%93%e0%a6%ae%e0%a6%b0%e0%a6%be%e0%a6%b9-%e0%a6%95%e0%a6%b0%e0%a6%a4%e0%a7%87-%e0%a6%97%e0%a6%bf%e0%a7%9f%e0%a7%87-%e0%a6%95%e0%a7%87%e0%a6%89-%e0%a6%95%e0%a6%b0%e0%a7%8b%e0%a6%a8%e0%a6%be/\n",
            "Description Updated\n",
            "1028\n",
            "Link Type\n",
            "https://zeenews.india.com/bengali/nation/no-need-to-change-existing-treatment-protocol-in-view-of-new-covid-strain-says-govt-task-force_360534.html\n",
            "Description Updated\n",
            "1029\n",
            "Link Type\n",
            "https://bangla.bdnews24.com/world/article1843087.bdnews\n",
            "Description Updated\n",
            "1030\n",
            "Link Type\n",
            "http://chattogramnews.com/news-view/17492?n=%E0%A6%AE%E0%A7%83%E0%A6%A4%E0%A7%8D%E0%A6%AF%E0%A7%81%E0%A6%B9%E0%A7%80%E0%A6%A8+%E0%A6%86%E0%A6%B0%E0%A6%93+%E0%A6%8F%E0%A6%95%E0%A6%A6%E0%A6%BF%E0%A6%A8+%E0%A6%9A%E0%A6%9F%E0%A7%8D%E0%A6%9F%E0%A6%97%E0%A7%8D%E0%A6%B0%E0%A6%BE%E0%A6%AE%E0%A7%87%3A+%E0%A6%A8%E0%A6%A4%E0%A7%81%E0%A6%A8+%E0%A6%B6%E0%A6%A8%E0%A6%BE%E0%A6%95%E0%A7%8D%E0%A6%A4+%E0%A7%A7%E0%A7%A8%E0%A7%AB\n",
            "Description Updated\n",
            "1031\n",
            "Status Type\n",
            "Continuing\n",
            "1032\n",
            "Link Type\n",
            "https://www.bd24live.com/bangla/%e0%a6%a2%e0%a6%be%e0%a6%95%e0%a6%be%e0%a6%b0-%e0%a6%af%e0%a7%87%e0%a6%b8%e0%a6%ac-%e0%a6%b8%e0%a7%8d%e0%a6%a5%e0%a6%be%e0%a6%a8%e0%a7%87-%e0%a6%af%e0%a6%be%e0%a6%ac%e0%a7%87%e0%a6%a8-%e0%a6%a8-4/\n",
            "Description Updated\n",
            "1033\n",
            "Status Type\n",
            "Continuing\n",
            "1034\n",
            "Link Type\n",
            "https://dbcnews.tv/news/%E0%A6%AC%E0%A6%BF%E0%A6%B7%E0%A6%BE%E0%A6%A6%E0%A7%87%E0%A6%B0-%E0%A7%A8%E0%A7%A6%E0%A7%A8%E0%A7%A6-%E0%A6%9A%E0%A6%B2%E0%A7%87-%E0%A6%97%E0%A7%87%E0%A6%B2%E0%A7%87%E0%A6%A8-%E0%A6%85%E0%A6%A8%E0%A7%87%E0%A6%95%E0%A7%87%E0%A6%87\n",
            "Description Updated\n",
            "1035\n",
            "Link Type\n",
            "https://www.somoynews.tv/pages/details/255353\n",
            "Description Updated\n",
            "1036\n",
            "Link Type\n",
            "https://www.ntvbd.com/world/%E0%A6%AF%E0%A7%81%E0%A6%95%E0%A7%8D%E0%A6%A4%E0%A6%B0%E0%A6%BE%E0%A6%9C%E0%A7%8D%E0%A6%AF%E0%A7%87-%E0%A6%85%E0%A6%95%E0%A7%8D%E0%A6%B8%E0%A6%AB%E0%A7%8B%E0%A6%B0%E0%A7%8D%E0%A6%A1-%E0%A6%85%E0%A7%8D%E0%A6%AF%E0%A6%BE%E0%A6%B8%E0%A7%8D%E0%A6%9F%E0%A7%8D%E0%A6%B0%E0%A6%BE%E0%A6%9C%E0%A7%87%E0%A6%A8%E0%A7%87%E0%A6%95%E0%A6%BE%E0%A6%B0-%E0%A6%95%E0%A6%B0%E0%A7%8B%E0%A6%A8%E0%A6%BE-%E0%A6%9F%E0%A6%BF%E0%A6%95%E0%A6%BE-%E0%A6%AC%E0%A7%8D%E0%A6%AF%E0%A6%AC%E0%A6%B9%E0%A6%BE%E0%A6%B0%E0%A7%87%E0%A6%B0-%E0%A6%85%E0%A6%A8%E0%A7%81%E0%A6%AE%E0%A7%8B%E0%A6%A6%E0%A6%A8-847621\n",
            "Description Updated\n",
            "1037\n",
            "Status Type\n",
            "Continuing\n",
            "1038\n",
            "Link Type\n",
            "https://www.bhorerdarpan.com/bangladesh/national/details/26788/%e0%a6%a8%e0%a6%bf%e0%a6%b0%e0%a7%8d%e0%a6%a7%e0%a6%be%e0%a6%b0%e0%a6%bf%e0%a6%a4-%e0%a6%b8%e0%a6%ae%e0%a7%9f%e0%a7%87-%e0%a6%b9%e0%a6%9a%e0%a7%8d%e0%a6%9b%e0%a7%87-%e0%a6%a8%e0%a6%be-%e0%a6%ac/\n",
            "Description Updated\n",
            "1039\n",
            "Status Type\n",
            "Continuing\n",
            "1040\n",
            "Status Type\n",
            "Continuing\n",
            "1041\n",
            "Link Type\n",
            "https://www.dailyinqilab.com/article/346669/%E0%A6%87%E0%A6%B0%E0%A6%BE%E0%A6%A8%E0%A7%87-%E0%A6%A4%E0%A7%88%E0%A6%B0%E0%A6%BF-%E0%A6%A6%E0%A7%8D%E0%A6%AC%E0%A6%BF%E0%A6%A4%E0%A7%80%E0%A7%9F-%E0%A6%95%E0%A7%8B%E0%A6%AD%E0%A6%BF%E0%A6%A1-%E0%A6%AD%E0%A7%8D%E0%A6%AF%E0%A6%BE%E0%A6%95%E0%A6%B8%E0%A6%BF%E0%A6%A8-%E0%A6%8F%E0%A6%96%E0%A6%A8-%E0%A6%9F%E0%A7%8D%E0%A6%B0%E0%A6%BE%E0%A7%9F%E0%A6%BE%E0%A6%B2%E0%A7%87\n",
            "Description Updated\n",
            "1042\n",
            "Link Type\n",
            "https://www.dailyjagaran.com/entertainment/news/51847\n",
            "Description Updated\n",
            "1043\n",
            "Status Type\n",
            "Continuing\n",
            "1044\n",
            "Link Type\n",
            "https://www.kolkata24x7.com/dry-run-of-vaccination-in-4-state/\n",
            "Description Updated\n",
            "1045\n",
            "Link Type\n",
            "https://enews.bd24report.com/2020/12/29/%e0%a7%a8%e0%a7%a6%e0%a7%a8%e0%a7%a7-%e0%a6%b8%e0%a6%be%e0%a6%b2%e0%a7%87%e0%a6%b0-%e0%a6%8f%e0%a6%b8%e0%a6%8f%e0%a6%b8%e0%a6%b8%e0%a6%bf-%e0%a6%8f%e0%a6%87%e0%a6%9a%e0%a6%8f%e0%a6%b8%e0%a6%b8-2/\n",
            "Description Updated\n",
            "1046\n",
            "Link Type\n",
            "https://www.jagonews24.com/national/news/632756\n",
            "Description Updated\n",
            "1047\n",
            "Link Type\n",
            "https://www.bd24live.com/bangla/%e0%a6%ad%e0%a7%8b%e0%a6%9f-%e0%a6%9a%e0%a6%b2%e0%a6%be%e0%a6%95%e0%a6%be%e0%a6%b2%e0%a7%87%e0%a6%87-%e0%a6%ae%e0%a6%be%e0%a6%b0%e0%a6%be-%e0%a6%97%e0%a7%87%e0%a6%b2%e0%a7%87%e0%a6%a8-%e0%a6%ac/\n",
            "Description Updated\n",
            "1048\n",
            "Status Type\n",
            "Continuing\n",
            "1049\n",
            "Link Type\n",
            "https://www.rtvonline.com/bangladesh/114471/%E0%A6%8F%E0%A6%AC%E0%A6%BE%E0%A6%B0-%E0%A6%A5%E0%A6%BE%E0%A6%B0%E0%A7%8D%E0%A6%9F%E0%A6%BF-%E0%A6%AB%E0%A6%BE%E0%A6%B0%E0%A7%8D%E0%A6%B8%E0%A7%8D%E0%A6%9F%E0%A7%87-%E0%A6%B8%E0%A6%BE%E0%A6%A6%E0%A6%BE-%E0%A6%AA%E0%A7%8B%E0%A6%B6%E0%A6%BE%E0%A6%95%E0%A7%87-%E0%A6%85%E0%A6%B2%E0%A6%BF%E0%A6%97%E0%A6%B2%E0%A6%BF%E0%A6%A4%E0%A7%87-%E0%A6%B0%E2%80%8C%E0%A7%8D%E0%A6%AF%E0%A6%BE%E0%A6%AC-%E0%A6%98%E0%A6%B0%E0%A7%87-%E0%A6%89%E0%A6%A6%E0%A6%AF%E0%A6%BE%E0%A6%AA%E0%A6%A8%E0%A7%87%E0%A6%B0-%E0%A6%AA%E0%A6%B0%E0%A6%BE%E0%A6%AE%E0%A6%B0%E0%A7%8D%E0%A6%B6\n",
            "Description Updated\n",
            "1050\n",
            "Link Type\n",
            "https://bengali.abplive.com/news/alleged-corona-affected-person-behind-the-guise-of-santa-distributes-gifts-at-care-home-in-belgium-spread-infection-775785\n"
          ],
          "name": "stdout"
        },
        {
          "output_type": "stream",
          "text": [
            "ERROR:trafilatura.core:not enough text None\n"
          ],
          "name": "stderr"
        },
        {
          "output_type": "stream",
          "text": [
            "Description Updated\n",
            "1051\n",
            "Link Type\n",
            "http://probashbarta.com/2020/12/29/%e0%a6%ac%e0%a6%bf%e0%a6%a6%e0%a7%87%e0%a6%b6%e0%a6%97%e0%a6%be%e0%a6%ae%e0%a7%80-%e0%a6%95%e0%a6%b0%e0%a7%8d%e0%a6%ae%e0%a7%80%e0%a6%a6%e0%a7%87%e0%a6%b0-%e0%a6%95%e0%a6%b0%e0%a7%8b%e0%a6%a8-2/\n",
            "Description Updated\n",
            "1052\n",
            "Link Type\n",
            "https://ejobsresult.com/2020/12/28/%e0%a6%b9%e0%a6%9c%e0%a7%87-%e0%a6%97%e0%a6%bf%e0%a7%9f%e0%a7%87-%e0%a6%8f%e0%a6%96%e0%a6%a8-%e0%a6%aa%e0%a6%b0%e0%a7%8d%e0%a6%af%e0%a6%a8%e0%a7%8d%e0%a6%a4-%e0%a6%95%e0%a7%87%e0%a6%89-%e0%a6%95/\n",
            "Description Updated\n",
            "1053\n",
            "Status Type\n",
            "Continuing\n",
            "1054\n",
            "Link Type\n",
            "http://ajkerjholok.com/education-and-culture/10531/\n",
            "Description Updated\n",
            "1055\n",
            "Link Type\n",
            "https://www.jugantor.com/national/379402/%E0%A6%9C%E0%A6%BE%E0%A6%A4%E0%A7%80%E0%A7%9F-%E0%A6%AC%E0%A6%87-%E0%A6%89%E0%A7%8E%E0%A6%B8%E0%A6%AC%E0%A7%87%E0%A6%B0-%E0%A6%89%E0%A6%A6%E0%A7%8D%E0%A6%AC%E0%A7%8B%E0%A6%A7%E0%A6%A8%C2%A0\n",
            "Description Updated\n",
            "1056\n",
            "Link Type\n",
            "https://www.jagonews24.com/international/news/632999\n",
            "Description Updated\n",
            "1057\n",
            "Link Type\n",
            "https://www.anandabazar.com/national/new-corona-strain-6-people-tested-positive-in-india-1.1251460?utm_source=facebook&utm_medium=social&utm_campaign=daily\n",
            "Description Updated\n",
            "1058\n",
            "Status Type\n",
            "Continuing\n",
            "1059\n",
            "Status Type\n",
            "Continuing\n",
            "1060\n",
            "Link Type\n",
            "https://skmediabd.com/2020/12/27/%e0%a6%aa%e0%a7%8d%e0%a6%b0%e0%a6%a5%e0%a6%ae-%e0%a6%9a%e0%a6%b2%e0%a6%9a%e0%a7%8d%e0%a6%9a%e0%a6%bf%e0%a6%a4%e0%a7%8d%e0%a6%b0-%e0%a6%ac%e0%a6%bf%e0%a6%b6%e0%a7%8d%e0%a6%ac%e0%a6%b8%e0%a7%81/\n",
            "Description Updated\n",
            "1061\n",
            "Link Type\n",
            "https://www.kolkata24x7.com/covid-infected-santa-care-home-visit-kills-18-residents/\n",
            "Description Updated\n",
            "1062\n",
            "Link Type\n",
            "https://www.ittefaq.com.bd/capital/209897/%E0%A6%98%E0%A6%B0%E0%A7%87-%E0%A6%A5%E0%A6%BE%E0%A6%B0%E0%A7%8D%E0%A6%9F%E0%A6%BF-%E0%A6%AB%E0%A6%BE%E0%A6%B0%E0%A7%8D%E0%A6%B8%E0%A7%8D%E0%A6%9F-%E0%A6%A8%E0%A6%BE%E0%A6%87%E0%A6%9F-%E0%A6%AA%E0%A6%BE%E0%A6%B2%E0%A6%A8-%E0%A6%95%E0%A6%B0%E0%A7%81%E0%A6%A8--%E0%A6%B0%E2%80%8D%E0%A7%8D%E0%A6%AF%E0%A6%BE%E0%A6%AC\n",
            "Description Updated\n",
            "1063\n",
            "Link Type\n",
            "https://bengali.abplive.com/news/health-workers-infected-with-the-pfizer-vaccine-in-california-777387\n"
          ],
          "name": "stdout"
        },
        {
          "output_type": "stream",
          "text": [
            "ERROR:trafilatura.core:not enough text None\n"
          ],
          "name": "stderr"
        },
        {
          "output_type": "stream",
          "text": [
            "Description Updated\n",
            "1064\n",
            "Status Type\n",
            "Continuing\n",
            "1065\n",
            "Status Type\n",
            "Continuing\n",
            "1066\n",
            "Link Type\n",
            "http://www.kalerkantho.com/online/sport/2020/12/28/989919\n",
            "Description Updated\n",
            "1067\n",
            "Link Type\n",
            "https://www.somoynews.tv/pages/details/254839\n",
            "Description Updated\n",
            "1068\n",
            "Link Type\n",
            "https://www.aviationnewsbd.com/%e0%a6%ac%e0%a6%bf%e0%a6%a6%e0%a7%87%e0%a6%b6%e0%a6%97%e0%a6%be%e0%a6%ae%e0%a7%80-%e0%a6%af%e0%a6%be%e0%a6%a4%e0%a7%8d%e0%a6%b0%e0%a7%80%e0%a6%a6%e0%a7%87%e0%a6%b0-%e0%a6%95%e0%a6%b0%e0%a7%8b-2/\n"
          ],
          "name": "stdout"
        },
        {
          "output_type": "stream",
          "text": [
            "ERROR:trafilatura.core:not enough text None\n"
          ],
          "name": "stderr"
        },
        {
          "output_type": "stream",
          "text": [
            "Description Updated\n",
            "1069\n",
            "Link Type\n",
            "https://www.bd-pratidin.com/coronavirus/2020/12/28/601922\n",
            "Description Updated\n",
            "1070\n",
            "Link Type\n",
            "https://enews.bd24report.com/2020/12/28/%e0%a6%9a%e0%a6%be%e0%a6%aa%e0%a7%87%e0%a6%b0-%e0%a6%ae%e0%a7%81%e0%a6%96%e0%a7%87-%e0%a6%95%e0%a6%b0%e0%a7%8b%e0%a6%a8%e0%a6%be-%e0%a6%a4%e0%a7%8d%e0%a6%b0%e0%a6%be%e0%a6%a3-%e0%a6%b8%e0%a6%b9/\n",
            "Description Updated\n",
            "1071\n",
            "Link Type\n",
            "http://newzta.com/archives/941\n"
          ],
          "name": "stdout"
        },
        {
          "output_type": "stream",
          "text": [
            "ERROR:trafilatura.utils:not a 200 response: 403 for URL http://newzta.com/archives/941\n",
            "ERROR:trafilatura.utils:this type cannot be processed: <class 'NoneType'>\n"
          ],
          "name": "stderr"
        },
        {
          "output_type": "stream",
          "text": [
            "None\n",
            "dropped\n",
            "1072\n",
            "Link Type\n",
            "http://francebanglanews.com/%E0%A6%87%E0%A6%B0%E0%A6%BE%E0%A6%A8-%E0%A6%A5%E0%A7%87%E0%A6%95%E0%A7%87-%E0%A6%A4%E0%A7%81%E0%A6%B0%E0%A7%8D%E0%A6%95%E0%A6%BF-%E0%A6%AF%E0%A6%BE%E0%A6%93%E0%A7%9F%E0%A6%BE%E0%A6%B0-%E0%A6%AA/\n",
            "Description Updated\n",
            "1073\n",
            "Status Type\n",
            "Continuing\n",
            "1074\n",
            "Link Type\n",
            "https://www.bd-pratidin.com/coronavirus/2020/12/30/602595\n",
            "Description Updated\n",
            "1075\n",
            "Link Type\n",
            "https://news.bd24report.com/post/%e0%a6%ac%e0%a6%bf%e0%a6%b6%e0%a7%8d%e0%a6%ac-%e0%a6%87%e0%a6%9c%e0%a6%a4%e0%a7%87%e0%a6%ae%e0%a6%be-%e0%a6%b9%e0%a6%ac%e0%a7%87-%e0%a6%95%e0%a6%bf-%e0%a6%a8%e0%a6%be-%e0%a6%b8%e0%a7%87-%e0%a6%ac/\n",
            "Description Updated\n",
            "1076\n",
            "Link Type\n",
            "https://www.jagonews24.com/sports/cricket/633094\n",
            "Description Updated\n",
            "1077\n",
            "Status Type\n",
            "Continuing\n",
            "1078\n",
            "Status Type\n",
            "Continuing\n",
            "1079\n",
            "Status Type\n",
            "Continuing\n",
            "1080\n",
            "Link Type\n",
            "https://enews.bd24report.com/2020/12/27/%e0%a6%af%e0%a6%be%e0%a6%b0%e0%a6%be-%e0%a7%a7%e0%a7%ae-%e0%a6%ac%e0%a6%9b%e0%a6%b0%e0%a7%87%e0%a6%b0-%e0%a6%a8%e0%a6%bf%e0%a6%9a%e0%a7%87-%e0%a6%a4%e0%a6%be%e0%a6%b0%e0%a6%be-%e0%a6%ad%e0%a7%8d/\n",
            "Description Updated\n",
            "1081\n",
            "Status Type\n",
            "Continuing\n",
            "1082\n",
            "Status Type\n",
            "Continuing\n",
            "1083\n",
            "Link Type\n",
            "https://www.jugantor.com/todays-paper/first-page/379209/%E0%A6%A8%E0%A6%A4%E0%A7%81%E0%A6%A8-%E0%A6%AC%E0%A6%9B%E0%A6%B0%E0%A7%87-%E0%A6%95%E0%A6%B0%E0%A7%8B%E0%A6%A8%E0%A6%BE-%E0%A6%9C%E0%A7%9F-%E0%A6%95%E0%A6%B0%E0%A7%87-%E0%A6%9D%E0%A6%B2%E0%A6%AE%E0%A6%B2%E0%A7%87-%E0%A6%AC%E0%A6%BF%E0%A6%B6%E0%A7%8D%E0%A6%AC%E0%A7%87%E0%A6%B0-%E0%A6%86%E0%A6%B6%E0%A6%BE\n",
            "Description Updated\n",
            "1084\n",
            "Link Type\n",
            "https://www.rtvonline.com/bangladesh/114841/%E0%A6%95%E0%A6%B0%E0%A7%8B%E0%A6%A8%E0%A6%BE-%E0%A6%AA%E0%A6%B0%E0%A6%BF%E0%A6%B8%E0%A7%8D%E0%A6%A5%E0%A6%BF%E0%A6%A4%E0%A6%BF-%E0%A6%85%E0%A6%A8%E0%A7%81%E0%A6%95%E0%A7%82%E0%A6%B2%E0%A7%87-%E0%A6%A8%E0%A6%BE-%E0%A6%86%E0%A6%B8%E0%A6%B2%E0%A7%87-%E0%A6%B6%E0%A6%BF%E0%A6%95%E0%A7%8D%E0%A6%B7%E0%A6%BE%E0%A6%AA%E0%A7%8D%E0%A6%B0%E0%A6%A4%E0%A6%BF%E0%A6%B7%E0%A7%8D%E0%A6%A0%E0%A6%BE%E0%A6%A8-%E0%A6%96%E0%A7%8B%E0%A6%B2%E0%A6%BE-%E0%A6%B9%E0%A6%AC%E0%A7%87-%E0%A6%A8%E0%A6%BE-%E0%A6%AA%E0%A7%8D%E0%A6%B0%E0%A6%A7%E0%A6%BE%E0%A6%A8%E0%A6%AE%E0%A6%A8%E0%A7%8D%E0%A6%A4%E0%A7%8D%E0%A6%B0%E0%A7%80\n",
            "Description Updated\n",
            "1085\n",
            "Status Type\n",
            "Continuing\n",
            "1086\n",
            "Link Type\n",
            "https://dbcnews.tv/news/%E0%A6%AA%E0%A7%8D%E0%A6%B0%E0%A6%BE%E0%A6%A4%E0%A6%BF%E0%A6%B7%E0%A7%8D%E0%A6%A0%E0%A6%BE%E0%A6%A8%E0%A6%BF%E0%A6%95-%E0%A6%95%E0%A7%8B%E0%A7%9F%E0%A6%BE%E0%A6%B0%E0%A7%87%E0%A6%A8%E0%A7%8D%E0%A6%9F%E0%A6%BF%E0%A6%A8-%E0%A6%86%E0%A6%B6%E0%A6%95%E0%A7%8B%E0%A6%A8%E0%A6%BE-%E0%A7%AA%E0%A7%AB%E0%A7%A6-%E0%A6%A6%E0%A6%BF%E0%A7%9F%E0%A6%BE%E0%A6%AC%E0%A6%BE%E0%A7%9C%E0%A6%BF-%E0%A7%A7%E0%A7%AC%E0%A7%A6%E0%A7%A6-%E0%A6%9C%E0%A6%A8\n",
            "Description Updated\n",
            "1087\n",
            "Link Type\n",
            "https://bn.bdcrictime.com/%E0%A6%AC%E0%A6%BE%E0%A6%82%E0%A6%B2%E0%A6%BE%E0%A6%A6%E0%A7%87%E0%A6%B6-%E0%A6%B8%E0%A6%AB%E0%A6%B0%E0%A7%87-%E0%A6%85%E0%A6%A8%E0%A6%BE%E0%A6%97%E0%A7%8D%E0%A6%B0%E0%A6%B9%E0%A7%80-%E0%A6%93/?ref=bn\n",
            "Description Updated\n",
            "1088\n",
            "Link Type\n",
            "https://www.anandabazar.com/entertainment/veteran-singer-nirmala-mishra-s-health-follow-up-dgtl-1.1250151?utm_source=facebook&utm_medium=social&utm_campaign=daily\n",
            "Description Updated\n",
            "1089\n",
            "Link Type\n",
            "https://p.dw.com/p/3nD9T\n"
          ],
          "name": "stdout"
        },
        {
          "output_type": "stream",
          "text": [
            "ERROR:trafilatura.utils:not a 200 response: 404 for URL https://probashtime.com/2020/12/29/%E0%A6%93%E0%A6%AE%E0%A6%BE%E0%A6%A8%E0%A7%87-%E0%A6%95%E0%A6%B0%E0%A7%8B%E0%A6%A8%E0%A6%BE%E0%A7%9F-%E0%A6%A8%E0%A6%A4%E0%A7%81%E0%A6%A8-%E0%A6%86%E0%A6%95%E0%A7%8D%E0%A6%B0%E0%A6%BE%E0%A6%A8-9/\n",
            "ERROR:trafilatura.utils:this type cannot be processed: <class 'NoneType'>\n"
          ],
          "name": "stderr"
        },
        {
          "output_type": "stream",
          "text": [
            "Description Updated\n",
            "1090\n",
            "Link Type\n",
            "https://probashtime.com/2020/12/29/%E0%A6%93%E0%A6%AE%E0%A6%BE%E0%A6%A8%E0%A7%87-%E0%A6%95%E0%A6%B0%E0%A7%8B%E0%A6%A8%E0%A6%BE%E0%A7%9F-%E0%A6%A8%E0%A6%A4%E0%A7%81%E0%A6%A8-%E0%A6%86%E0%A6%95%E0%A7%8D%E0%A6%B0%E0%A6%BE%E0%A6%A8-9/\n",
            "None\n",
            "dropped\n",
            "1091\n",
            "Link Type\n",
            "http://fenirtalash.com/%ef%bf%bc-%e0%a6%ab%e0%a7%87%e0%a6%a8%e0%a7%80%e0%a6%a4%e0%a7%87-%e0%a6%8f%e0%a6%95-%e0%a6%b8%e0%a6%aa%e0%a7%8d%e0%a6%a4%e0%a6%be%e0%a6%b9%e0%a7%87-%e0%a6%a8%e0%a6%a4%e0%a7%81%e0%a6%a8-%e0%a7%a7/\n",
            "Description Updated\n",
            "1092\n",
            "Status Type\n",
            "Continuing\n",
            "1093\n",
            "Link Type\n",
            "https://www.somoynews.tv/pages/details/254772\n"
          ],
          "name": "stdout"
        },
        {
          "output_type": "stream",
          "text": [
            "WARNING:trafilatura.utils:wrong encoding detected: utf-8\n"
          ],
          "name": "stderr"
        },
        {
          "output_type": "stream",
          "text": [
            "Description Updated\n",
            "1094\n",
            "Link Type\n",
            "https://chandpurtimes.com/%e0%a6%9c%e0%a6%a8%e0%a6%b8%e0%a6%ae%e0%a6%be%e0%a6%97%e0%a6%ae-%e0%a6%8f%e0%a7%9c%e0%a6%be%e0%a6%a4%e0%a7%87-%e0%a6%ac%e0%a6%bf%e0%a6%95%e0%a6%be%e0%a6%b2-%e0%a7%ab%e0%a6%9f%e0%a6%be-%e0%a6%a5/\n",
            "Description Updated\n",
            "1095\n",
            "Link Type\n",
            "https://mzamin.com/article.php?mzamin=256733\n",
            "Description Updated\n",
            "1096\n",
            "Link Type\n",
            "https://festalnews.com/archives/21214\n",
            "Description Updated\n",
            "1097\n",
            "Link Type\n",
            "https://www.channel24bd.tv/international/article/157322/%E0%A6%AC%E0%A7%9C%E0%A6%A6%E0%A6%BF%E0%A6%A8%E0%A7%87%E0%A6%B0-%E0%A6%AA%E0%A6%B0-%E0%A6%87%E0%A6%82%E0%A6%B2%E0%A7%8D%E0%A6%AF%E0%A6%BE%E0%A6%A8%E0%A7%8D%E0%A6%A1%E0%A7%87-%E0%A6%B0%E0%A7%87%E0%A6%95%E0%A6%B0%E0%A7%8D%E0%A6%A1-%E0%A6%B8%E0%A6%82%E0%A6%96%E0%A7%8D%E0%A6%AF%E0%A6%95-%E0%A6%95%E0%A6%B0%E0%A7%8B%E0%A6%A8%E0%A6%BE-%E0%A6%86%E0%A6%95%E0%A7%8D%E0%A6%B0%E0%A6%BE%E0%A6%A8%E0%A7%8D%E0%A6%A4\n",
            "Description Updated\n",
            "1098\n",
            "Link Type\n",
            "https://www.channel24bd.tv/international/article/157269/%E0%A6%95%E0%A6%B0%E0%A7%8B%E0%A6%A8%E0%A6%BE%E0%A7%9F-%E0%A6%AC%E0%A6%BF%E0%A6%B6%E0%A7%8D%E0%A6%AC%E0%A6%9C%E0%A7%81%E0%A7%9C%E0%A7%87-%E0%A6%AA%E0%A7%8D%E0%A6%B0%E0%A6%BE%E0%A6%A3%E0%A6%B9%E0%A6%BE%E0%A6%A8%E0%A6%BF-%E0%A6%9B%E0%A6%BE%E0%A7%9C%E0%A6%BE%E0%A6%B2%E0%A7%8B-%E0%A7%A7%E0%A7%AD-%E0%A6%B2%E0%A6%BE%E0%A6%96-%E0%A7%AC%E0%A7%AA-%E0%A6%B9%E0%A6%BE%E0%A6%9C%E0%A6%BE%E0%A6%B0\n",
            "Description Updated\n",
            "1099\n",
            "Link Type\n",
            "https://www.ittefaq.com.bd/opinion/209891/%E0%A6%A8%E0%A6%A4%E0%A7%81%E0%A6%A8%E0%A6%B0%E0%A7%82%E0%A6%AA%E0%A7%87-%E0%A6%95%E0%A6%B0%E0%A7%8B%E0%A6%A8%E0%A6%BE-%E0%A6%AD%E0%A6%BE%E0%A6%87%E0%A6%B0%E0%A6%BE%E0%A6%B8%E0%A7%87%E0%A6%B0-%E0%A6%AA%E0%A7%8D%E0%A6%B0%E0%A6%BE%E0%A6%A6%E0%A7%81%E0%A6%B0%E0%A7%8D%E0%A6%AD%E0%A6%BE%E0%A6%AC\n",
            "Description Updated\n",
            "1100\n",
            "Link Type\n",
            "https://bijoytimes.com/%E0%A6%B9%E0%A6%9C%E0%A7%87-%E0%A6%97%E0%A6%BF%E0%A7%9F%E0%A7%87-%E0%A6%95%E0%A7%87%E0%A6%89-%E0%A6%95%E0%A6%B0%E0%A7%8B%E0%A6%A8%E0%A6%BE-%E0%A6%86%E0%A6%95%E0%A7%8D%E0%A6%B0%E0%A6%BE%E0%A6%A8/\n",
            "Description Updated\n",
            "1101\n",
            "Link Type\n",
            "https://dailycomillanews.com/%e0%a6%93%e0%a6%ae%e0%a6%b0%e0%a6%be%e0%a6%b9-%e0%a6%95%e0%a6%b0%e0%a6%a4%e0%a7%87-%e0%a6%97%e0%a6%bf%e0%a7%9f%e0%a7%87-%e0%a6%95%e0%a7%87%e0%a6%89-%e0%a6%95%e0%a6%b0%e0%a7%8b%e0%a6%a8%e0%a6%be\n",
            "Description Updated\n",
            "1102\n",
            "Link Type\n",
            "https://www.channelionline.com/%e0%a6%95%e0%a6%b0%e0%a7%8b%e0%a6%a8%e0%a6%be%e0%a6%ad%e0%a6%be%e0%a6%87%e0%a6%b0%e0%a6%be%e0%a6%b8-%e0%a6%ae%e0%a7%83%e0%a6%a4%e0%a7%87%e0%a6%b0-%e0%a6%b8%e0%a6%82%e0%a6%96%e0%a7%8d%e0%a6%af-7/\n"
          ],
          "name": "stdout"
        },
        {
          "output_type": "stream",
          "text": [
            "ERROR:trafilatura.core:not enough text None\n"
          ],
          "name": "stderr"
        },
        {
          "output_type": "stream",
          "text": [
            "Description Updated\n",
            "1103\n",
            "Link Type\n",
            "https://www.dailynayadiganta.com/law-and-justice/552252/%E0%A6%A1%E0%A6%BE.-%E0%A6%B8%E0%A6%BE%E0%A6%AC%E0%A6%B0%E0%A6%BF%E0%A6%A8%E0%A6%BE%E0%A6%B0-%E0%A6%9C%E0%A6%BE%E0%A6%AE%E0%A6%BF%E0%A6%A8-%E0%A6%86%E0%A6%AC%E0%A7%87%E0%A6%A6%E0%A6%A8-%E0%A6%96%E0%A6%BE%E0%A6%B0%E0%A6%BF%E0%A6%9C\n",
            "Description Updated\n",
            "1104\n",
            "Link Type\n",
            "http://newzvillas.com/archives/2588\n",
            "Description Updated\n",
            "1105\n",
            "Status Type\n",
            "Continuing\n",
            "1106\n",
            "Status Type\n",
            "Continuing\n",
            "1107\n",
            "Link Type\n",
            "https://www.emiratessangbad.com/archives/47939\n",
            "Description Updated\n",
            "1108\n",
            "Link Type\n",
            "https://www.nytimesbd.com/national/news/9094\n"
          ],
          "name": "stdout"
        },
        {
          "output_type": "stream",
          "text": [
            "ERROR:trafilatura.core:not enough text None\n"
          ],
          "name": "stderr"
        },
        {
          "output_type": "stream",
          "text": [
            "Description Updated\n",
            "1109\n",
            "Link Type\n",
            "https://dbcnews.tv/news/%E0%A6%AC%E0%A7%87%E0%A7%9C%E0%A7%87%E0%A6%9B%E0%A7%87-%E0%A6%95%E0%A6%B0%E0%A7%8B%E0%A6%A8%E0%A6%BE-%E0%A6%B6%E0%A6%A8%E0%A6%BE%E0%A6%95%E0%A7%8D%E0%A6%A4%E0%A7%87%E0%A6%B0-%E0%A6%B8%E0%A6%82%E0%A6%96%E0%A7%8D%E0%A6%AF%E0%A6%BE-%E0%A6%95%E0%A6%AE%E0%A7%87%E0%A6%9B%E0%A7%87-%E0%A6%AE%E0%A7%83%E0%A6%A4%E0%A7%8D%E0%A6%AF%E0%A7%81\n",
            "Description Updated\n",
            "1110\n",
            "Link Type\n",
            "https://www.jagonews24.com/international/news/632832\n",
            "Description Updated\n",
            "1111\n",
            "Link Type\n",
            "http://www.onebanglanews.com/news/136729\n",
            "Description Updated\n",
            "1112\n",
            "Link Type\n",
            "https://www.jugantor.com/covid-19/378719/%E0%A6%AC%E0%A6%BF%E0%A6%A6%E0%A7%87%E0%A6%B6%E0%A6%97%E0%A6%BE%E0%A6%AE%E0%A7%80-%E0%A6%B6%E0%A7%8D%E0%A6%B0%E0%A6%AE%E0%A6%BF%E0%A6%95%E0%A6%A6%E0%A7%87%E0%A6%B0-%E0%A6%95%E0%A6%B0%E0%A7%8B%E0%A6%A8%E0%A6%BE-%E0%A6%AA%E0%A6%B0%E0%A7%80%E0%A6%95%E0%A7%8D%E0%A6%B7%E0%A6%BE%E0%A6%B0-%E0%A6%A8%E0%A6%A4%E0%A7%81%E0%A6%A8-%E0%A6%AB%E0%A6%BF-%E0%A6%A8%E0%A6%BF%E0%A6%B0%E0%A7%8D%E0%A6%A7%E0%A6%BE%E0%A6%B0%E0%A6%A3\n",
            "Description Updated\n",
            "1113\n",
            "Status Type\n",
            "Continuing\n",
            "1114\n",
            "Link Type\n",
            "http://newzvillas.com/archives/2727\n",
            "Description Updated\n",
            "1115\n",
            "Link Type\n",
            "https://europentv.ntvbd.com/other-news/%E0%A6%93%E0%A6%AE%E0%A6%B0%E0%A6%BE%E0%A6%B9-%E0%A6%AA%E0%A6%BE%E0%A6%B2%E0%A6%A8%E0%A7%87-%E0%A7%AB%E0%A7%A6-%E0%A6%B2%E0%A6%BE%E0%A6%96-%E0%A6%AE%E0%A6%BE%E0%A6%A8%E0%A7%81%E0%A6%B7-%E0%A6%95%E0%A6%B0%E0%A7%8B%E0%A6%A8%E0%A6%BE-%E0%A6%B9%E0%A7%9F%E0%A6%A8%E0%A6%BF-%E0%A6%8F%E0%A6%95-%E0%A6%9C%E0%A6%A8%E0%A7%87%E0%A6%B0%E0%A6%93\n",
            "Description Updated\n",
            "1116\n",
            "Link Type\n",
            "https://news.bd24report.com/post/%e0%a6%87%e0%a6%a4%e0%a6%be%e0%a6%b2%e0%a6%bf%e0%a6%a4%e0%a7%87-%e0%a6%aa%e0%a7%8d%e0%a6%b0%e0%a6%a5%e0%a6%ae-%e0%a6%ad%e0%a7%8d%e0%a6%af%e0%a6%be%e0%a6%95%e0%a6%b8%e0%a6%bf%e0%a6%a8-%e0%a6%a8/\n",
            "Description Updated\n",
            "1117\n",
            "Status Type\n",
            "Continuing\n",
            "1118\n",
            "Link Type\n",
            "https://www.ittefaq.com.bd/worldnews/210118/%E0%A6%95%E0%A6%B0%E0%A7%8B%E0%A6%A8%E0%A6%BE-%E0%A6%AC%E0%A6%BF%E0%A6%A7%E0%A6%BF%E0%A6%B0-%E0%A6%AA%E0%A7%8D%E0%A6%B0%E0%A6%A4%E0%A6%BF%E0%A6%AC%E0%A6%BE%E0%A6%A6%E0%A7%87-%E0%A6%85%E0%A6%B8%E0%A6%82%E0%A6%96%E0%A7%8D%E0%A6%AF-%E0%A6%AF%E0%A7%81%E0%A6%97%E0%A6%B2%E0%A7%87%E0%A6%B0-%E0%A6%9A%E0%A7%81%E0%A6%AE%E0%A7%8D%E0%A6%AC%E0%A6%A8--%E0%A6%AD%E0%A6%BF%E0%A6%A1%E0%A6%BF%E0%A6%93-%E0%A6%AD%E0%A6%BE%E0%A6%87%E0%A6%B0%E0%A6%BE%E0%A6%B2\n",
            "Description Updated\n",
            "1119\n",
            "Link Type\n",
            "http://www.tritiyamatra.com/news/316892\n"
          ],
          "name": "stdout"
        },
        {
          "output_type": "stream",
          "text": [
            "ERROR:trafilatura.utils:not a 200 response: 404 for URL http://www.tritiyamatra.com/news/316892\n",
            "ERROR:trafilatura.utils:this type cannot be processed: <class 'NoneType'>\n"
          ],
          "name": "stderr"
        },
        {
          "output_type": "stream",
          "text": [
            "None\n",
            "dropped\n",
            "1120\n",
            "Link Type\n",
            "https://www.dailyjagaran.com/education/news/51748\n",
            "Description Updated\n",
            "1121\n",
            "Link Type\n",
            "http://cplusbd.net/%e0%a6%b8%e0%a6%be%e0%a6%ae%e0%a6%a8%e0%a7%87-%e0%a6%86%e0%a6%b0%e0%a7%8b-%e0%a6%ac%e0%a7%9c-%e0%a6%ae%e0%a6%b9%e0%a6%be%e0%a6%ae%e0%a6%be%e0%a6%b0%e0%a6%bf-%e0%a6%86%e0%a6%b8%e0%a6%a4%e0%a7%87/\n",
            "Description Updated\n",
            "1122\n",
            "Link Type\n",
            "https://enews.bd24report.com/2020/12/30/%e0%a6%ac%e0%a7%87%e0%a6%b6%e0%a6%bf-%e0%a6%96%e0%a7%87%e0%a6%b2%e0%a7%87-%e0%a6%b2%e0%a6%be%e0%a6%96-%e0%a6%9f%e0%a6%be%e0%a6%95%e0%a6%be-%e0%a6%9c%e0%a6%b0%e0%a6%bf%e0%a6%ae%e0%a6%be%e0%a6%a8/\n",
            "Description Updated\n",
            "1123\n",
            "Status Type\n",
            "Continuing\n",
            "1124\n",
            "Link Type\n",
            "https://mzamin.com/article.php?mzamin=256583\n",
            "Description Updated\n",
            "1125\n",
            "Link Type\n",
            "https://www.channelionline.com/%E0%A6%A6%E0%A7%87%E0%A6%B6%E0%A7%87-%E0%A6%A8%E0%A6%A4%E0%A7%81%E0%A6%A8-%E0%A6%B6%E0%A6%A8%E0%A6%BE%E0%A6%95%E0%A7%8D%E0%A6%A4-%E0%A7%A7%E0%A7%A6%E0%A7%A7%E0%A7%AA-%E0%A6%AE%E0%A7%83%E0%A6%A4/\n"
          ],
          "name": "stdout"
        },
        {
          "output_type": "stream",
          "text": [
            "ERROR:trafilatura.core:not enough text None\n"
          ],
          "name": "stderr"
        },
        {
          "output_type": "stream",
          "text": [
            "Description Updated\n",
            "1126\n",
            "Link Type\n",
            "https://www.nytimesbd.com/probash/news/9178\n"
          ],
          "name": "stdout"
        },
        {
          "output_type": "stream",
          "text": [
            "ERROR:trafilatura.core:not enough text None\n"
          ],
          "name": "stderr"
        },
        {
          "output_type": "stream",
          "text": [
            "Description Updated\n",
            "1127\n",
            "Status Type\n",
            "Continuing\n",
            "1128\n",
            "Link Type\n",
            "https://www.somoynews.tv/pages/details/255084\n",
            "Description Updated\n",
            "1129\n",
            "Status Type\n",
            "Continuing\n",
            "1130\n",
            "Link Type\n",
            "https://mzamin.com/article.php?mzamin=256726\n",
            "Description Updated\n",
            "1131\n",
            "Status Type\n",
            "Continuing\n",
            "1132\n",
            "Link Type\n",
            "https://www.voabangla.com/a/biden-slams-current-adm-for-not-sharing/5717106.html\n",
            "Description Updated\n",
            "1133\n",
            "Link Type\n",
            "https://www.jugantor.com/covid-19/378443/%E0%A6%95%E0%A6%B0%E0%A7%8B%E0%A6%A8%E0%A6%BE-%E0%A6%A8%E0%A6%BF%E0%A7%9F%E0%A7%87-%E0%A6%B0%E0%A6%BF%E0%A6%AA%E0%A7%8B%E0%A6%B0%E0%A7%8D%E0%A6%9F-%E0%A6%95%E0%A6%B0%E0%A6%BE-%E0%A6%9A%E0%A7%80%E0%A6%A8%E0%A6%BE-%E0%A6%B8%E0%A6%BE%E0%A6%82%E0%A6%AC%E0%A6%BE%E0%A6%A6%E0%A6%BF%E0%A6%95%E0%A7%87%E0%A6%B0-%E0%A6%AC%E0%A6%BF%E0%A6%9A%E0%A6%BE%E0%A6%B0-%E0%A6%B6%E0%A7%81%E0%A6%B0%E0%A7%81\n"
          ],
          "name": "stdout"
        },
        {
          "output_type": "stream",
          "text": [
            "ERROR:trafilatura.utils:not a 200 response: 403 for URL https://www.bangla.24livenewspaper.com/bangladesh/73293-ssc-may-june-in-next-year\n",
            "ERROR:trafilatura.utils:this type cannot be processed: <class 'NoneType'>\n"
          ],
          "name": "stderr"
        },
        {
          "output_type": "stream",
          "text": [
            "Description Updated\n",
            "1134\n",
            "Link Type\n",
            "https://www.bangla.24livenewspaper.com/bangladesh/73293-ssc-may-june-in-next-year\n",
            "None\n",
            "dropped\n",
            "1135\n",
            "Status Type\n",
            "Continuing\n",
            "1136\n",
            "Link Type\n",
            "https://www.banglanews24.com/information-technology/news/bd/832598.details\n"
          ],
          "name": "stdout"
        },
        {
          "output_type": "stream",
          "text": [
            "WARNING:trafilatura.core:unexpected in p: div \n",
            " \n",
            "\n"
          ],
          "name": "stderr"
        },
        {
          "output_type": "stream",
          "text": [
            "Description Updated\n",
            "1137\n",
            "Link Type\n",
            "https://www.bd24live.com/bangla/%e0%a6%b2%e0%a7%8b%e0%a6%95-%e0%a6%b8%e0%a6%ae%e0%a6%be%e0%a6%97%e0%a6%ae-%e0%a6%a8%e0%a6%bf%e0%a6%b7%e0%a7%87%e0%a6%a7-%e0%a6%ac%e0%a6%a8%e0%a7%8d%e0%a6%a7-%e0%a6%a5%e0%a6%be%e0%a6%95%e0%a6%ac/\n",
            "Description Updated\n",
            "1138\n",
            "Status Type\n",
            "Continuing\n",
            "1139\n",
            "Link Type\n",
            "https://banglatv.tv/news/2020/12/40098/\n",
            "Description Updated\n",
            "1140\n",
            "Link Type\n",
            "https://city24news.com/bn/archives/49640\n",
            "Description Updated\n",
            "1141\n",
            "Link Type\n",
            "https://www.somoynews.tv/pages/details/254862\n",
            "Description Updated\n",
            "1142\n",
            "Link Type\n",
            "https://www.dailynayadiganta.com/subcontinent/552241/%E0%A6%AC%E0%A7%8D%E0%A6%B0%E0%A6%BF%E0%A6%9F%E0%A7%87%E0%A6%A8-%E0%A6%A5%E0%A7%87%E0%A6%95%E0%A7%87-%E0%A6%AD%E0%A6%BE%E0%A6%B0%E0%A6%A4%E0%A7%87-%E0%A6%86%E0%A6%B8%E0%A6%BE-%E0%A7%AC-%E0%A6%9C%E0%A6%A8%E0%A7%87%E0%A6%B0-%E0%A6%B6%E0%A6%B0%E0%A7%80%E0%A6%B0%E0%A7%87-%E0%A6%B0%E0%A7%82%E0%A6%AA%E0%A6%BE%E0%A6%A8%E0%A7%8D%E0%A6%A4%E0%A6%B0%E0%A6%BF%E0%A6%A4-%E0%A6%95%E0%A6%B0%E0%A7%8B%E0%A6%A8%E0%A6%BE-%E0%A6%B6%E0%A6%A8%E0%A6%BE%E0%A6%95%E0%A7%8D%E0%A6%A4-\n",
            "Description Updated\n",
            "1143\n",
            "Link Type\n",
            "https://www.24ghonta.news/41796/%E0%A6%9A%E0%A6%9F%E0%A7%8D%E0%A6%9F%E0%A6%97%E0%A7%8D%E0%A6%B0%E0%A6%BE%E0%A6%AE%E0%A7%87-%E0%A6%A8%E0%A6%A4%E0%A7%81%E0%A6%A8-%E0%A7%A8%E0%A7%A7%E0%A7%A7-%E0%A6%9C%E0%A6%A8%E0%A7%87%E0%A6%B0/\n",
            "Description Updated\n",
            "1144\n",
            "Link Type\n",
            "http://ajkerjholok.com/education-and-culture/10531/\n"
          ],
          "name": "stdout"
        },
        {
          "output_type": "stream",
          "text": [
            "ERROR:trafilatura.utils:not a 200 response: 404 for URL https://probashtime.com/2020/12/29/%E0%A6%95%E0%A6%B0%E0%A7%8B%E0%A6%A8%E0%A6%BE-%E0%A6%A8%E0%A6%BF%E0%A7%9F%E0%A6%A8%E0%A7%8D%E0%A6%A4%E0%A7%8D%E0%A6%B0%E0%A6%A3%E0%A7%87-%E0%A6%86%E0%A6%B0%E0%A7%8B-%E0%A6%95%E0%A7%9C%E0%A6%BE/\n",
            "ERROR:trafilatura.utils:this type cannot be processed: <class 'NoneType'>\n"
          ],
          "name": "stderr"
        },
        {
          "output_type": "stream",
          "text": [
            "Description Updated\n",
            "1145\n",
            "Link Type\n",
            "https://probashtime.com/2020/12/29/%E0%A6%95%E0%A6%B0%E0%A7%8B%E0%A6%A8%E0%A6%BE-%E0%A6%A8%E0%A6%BF%E0%A7%9F%E0%A6%A8%E0%A7%8D%E0%A6%A4%E0%A7%8D%E0%A6%B0%E0%A6%A3%E0%A7%87-%E0%A6%86%E0%A6%B0%E0%A7%8B-%E0%A6%95%E0%A7%9C%E0%A6%BE/\n",
            "None\n",
            "dropped\n",
            "1146\n",
            "Link Type\n",
            "https://www.jugantor.com/country-news/378485/%E0%A6%AD%E0%A7%8B%E0%A6%9F-%E0%A6%9A%E0%A6%B2%E0%A6%BE%E0%A6%95%E0%A6%BE%E0%A6%B2%E0%A7%87%E0%A6%87-%E0%A6%AE%E0%A6%BE%E0%A6%B0%E0%A6%BE-%E0%A6%97%E0%A7%87%E0%A6%B2%E0%A7%87%E0%A6%A8-%E0%A6%AC%E0%A6%BF%E0%A6%8F%E0%A6%A8%E0%A6%AA%E0%A6%BF%E0%A6%B0-%E0%A6%AE%E0%A7%87%E0%A7%9F%E0%A6%B0-%E0%A6%AA%E0%A7%8D%E0%A6%B0%E0%A6%BE%E0%A6%B0%E0%A7%8D%E0%A6%A5%E0%A7%80-%E0%A6%86%E0%A6%AC%E0%A7%81%E0%A6%B2-%E0%A6%96%E0%A7%9F%E0%A7%87%E0%A6%B0\n",
            "Description Updated\n",
            "1147\n",
            "Status Type\n",
            "Continuing\n",
            "1148\n",
            "Link Type\n",
            "https://ejobsresult.com/2020/12/28/%e0%a6%b9%e0%a6%9c%e0%a7%87-%e0%a6%97%e0%a6%bf%e0%a7%9f%e0%a7%87-%e0%a6%8f%e0%a6%96%e0%a6%a8-%e0%a6%aa%e0%a6%b0%e0%a7%8d%e0%a6%af%e0%a6%a8%e0%a7%8d%e0%a6%a4-%e0%a6%95%e0%a7%87%e0%a6%89-%e0%a6%95/\n",
            "Description Updated\n",
            "1149\n",
            "Link Type\n",
            "https://city24news.com/bn/archives/49650\n",
            "Description Updated\n",
            "1150\n",
            "Link Type\n",
            "https://www.jagonews24.com/country/news/632436\n",
            "Description Updated\n",
            "1151\n",
            "Status Type\n",
            "Continuing\n",
            "1152\n",
            "Status Type\n",
            "Continuing\n",
            "1153\n",
            "Link Type\n",
            "https://newzrealty.com/archives/2748\n",
            "Description Updated\n",
            "1154\n",
            "Link Type\n",
            "https://bangla.bdnews24.com/bangladesh/article1842255.bdnews\n"
          ],
          "name": "stdout"
        },
        {
          "output_type": "stream",
          "text": [
            "ERROR:trafilatura.utils:retries/redirects: https://www.ittisam.com/%E0%A6%8F%E0%A6%AC%E0%A6%BE%E0%A6%B0-%E0%A6%B9%E0%A6%9A%E0%A7%8D%E0%A6%9B%E0%A7%87%E0%A6%A8%E0%A6%BE-%E0%A6%AC%E0%A6%BF%E0%A6%B6%E0%A7%8D%E0%A6%AC-%E0%A6%87%E0%A6%9C%E0%A6%A4%E0%A7%87%E0%A6%AE/ HTTPSConnectionPool(host='www.ittisam.com', port=443): Max retries exceeded with url: /%E0%A6%8F%E0%A6%AC%E0%A6%BE%E0%A6%B0-%E0%A6%B9%E0%A6%9A%E0%A7%8D%E0%A6%9B%E0%A7%87%E0%A6%A8%E0%A6%BE-%E0%A6%AC%E0%A6%BF%E0%A6%B6%E0%A7%8D%E0%A6%AC-%E0%A6%87%E0%A6%9C%E0%A6%A4%E0%A7%87%E0%A6%AE/ (Caused by NewConnectionError('<urllib3.connection.HTTPSConnection object at 0x7f96cbf884d0>: Failed to establish a new connection: [Errno -2] Name or service not known'))\n",
            "ERROR:trafilatura.utils:parsing failed: Document is empty\n"
          ],
          "name": "stderr"
        },
        {
          "output_type": "stream",
          "text": [
            "Description Updated\n",
            "1155\n",
            "Status Type\n",
            "Continuing\n",
            "1156\n",
            "Link Type\n",
            "https://www.ittisam.com/%E0%A6%8F%E0%A6%AC%E0%A6%BE%E0%A6%B0-%E0%A6%B9%E0%A6%9A%E0%A7%8D%E0%A6%9B%E0%A7%87%E0%A6%A8%E0%A6%BE-%E0%A6%AC%E0%A6%BF%E0%A6%B6%E0%A7%8D%E0%A6%AC-%E0%A6%87%E0%A6%9C%E0%A6%A4%E0%A7%87%E0%A6%AE/\n",
            "HTTPSConnectionPool(host='www.ittisam.com', port=443): Max retries exceeded with url: /%E0%A6%8F%E0%A6%AC%E0%A6%BE%E0%A6%B0-%E0%A6%B9%E0%A6%9A%E0%A7%8D%E0%A6%9B%E0%A7%87%E0%A6%A8%E0%A6%BE-%E0%A6%AC%E0%A6%BF%E0%A6%B6%E0%A7%8D%E0%A6%AC-%E0%A6%87%E0%A6%9C%E0%A6%A4%E0%A7%87%E0%A6%AE/ (Caused by NewConnectionError('<urllib3.connection.HTTPSConnection object at 0x7f96cc078d90>: Failed to establish a new connection: [Errno -2] Name or service not known'))\n",
            "dropped\n",
            "1157\n",
            "Link Type\n",
            "https://www.aviationnewsbd.com/%e0%a6%ab%e0%a7%87%e0%a6%b0-%e0%a6%95%e0%a6%b0%e0%a7%8b%e0%a6%a8%e0%a6%be-%e0%a6%86%e0%a6%95%e0%a7%8d%e0%a6%b0%e0%a6%be%e0%a6%a8%e0%a7%8d%e0%a6%a4-%e0%a6%af%e0%a6%be%e0%a6%a4%e0%a7%8d%e0%a6%b0/\n"
          ],
          "name": "stdout"
        },
        {
          "output_type": "stream",
          "text": [
            "ERROR:trafilatura.core:not enough text None\n"
          ],
          "name": "stderr"
        },
        {
          "output_type": "stream",
          "text": [
            "Description Updated\n",
            "1158\n",
            "Link Type\n",
            "https://www.dainikshiksha.com/%E0%A6%95%E0%A6%B0%E0%A7%8B%E0%A6%A8%E0%A6%BE-%E0%A6%B8%E0%A6%BE%E0%A6%B0%E0%A7%8D%E0%A6%9F%E0%A6%BF%E0%A6%AB%E0%A6%BF%E0%A6%95%E0%A7%87%E0%A6%9F-%E0%A6%9C%E0%A6%BE%E0%A6%B2%E0%A6%BF%E0%A7%9F%E0%A6%BE%E0%A6%A4%E0%A6%BF-%E0%A6%B9%E0%A6%BE%E0%A6%87%E0%A6%95%E0%A7%8B%E0%A6%B0%E0%A7%8D%E0%A6%9F%E0%A7%87-%E0%A6%9C%E0%A6%BE%E0%A6%AE%E0%A6%BF%E0%A6%A8-%E0%A6%AE%E0%A7%87%E0%A6%B2%E0%A7%87%E0%A6%A8%E0%A6%BF-%E0%A6%A1%E0%A6%BE-%E0%A6%B8%E0%A6%BE%E0%A6%AC%E0%A6%B0%E0%A6%BF%E0%A6%A8%E0%A6%BE%E0%A6%B0/201072/\n",
            "Description Updated\n",
            "1159\n",
            "Link Type\n",
            "https://www.ekushey-tv.com/corona-crisis/news/120103#.X-saC31M7bo.facebook\n",
            "Description Updated\n",
            "1160\n",
            "Link Type\n",
            "https://www.ittefaq.com.bd/capital/210360/%E0%A6%A5%E0%A6%BE%E0%A6%B0%E0%A7%8D%E0%A6%9F%E0%A6%BF-%E0%A6%AB%E0%A6%BE%E0%A6%B0%E0%A7%8D%E0%A6%B8%E0%A7%8D%E0%A6%9F%E0%A7%87-%E0%A6%95%E0%A7%9F%E0%A7%87%E0%A6%95-%E0%A6%8F%E0%A6%B2%E0%A6%BE%E0%A6%95%E0%A6%BE%E0%A7%9F-%E0%A6%9A%E0%A6%B2%E0%A6%BE%E0%A6%9A%E0%A6%B2%E0%A7%87-%E0%A6%A8%E0%A6%BF%E0%A6%B0%E0%A7%8D%E0%A6%A6%E0%A7%87%E0%A6%B6%E0%A6%A8%E0%A6%BE\n",
            "Description Updated\n",
            "1161\n",
            "Link Type\n",
            "https://www.thedailystar.net/bangla/%E0%A6%B6%E0%A7%80%E0%A6%B0%E0%A7%8D%E0%A6%B7-%E0%A6%96%E0%A6%AC%E0%A6%B0/%E0%A6%85%E0%A6%AC%E0%A6%B6%E0%A7%87%E0%A6%B7%E0%A7%87-%E0%A6%AC%E0%A7%88%E0%A6%A0%E0%A6%95%E0%A7%87-%E0%A6%AC%E0%A6%B8%E0%A6%9B%E0%A7%87-%E0%A6%B8%E0%A7%8D%E0%A6%AC%E0%A6%BE%E0%A6%B8%E0%A7%8D%E0%A6%A5%E0%A7%8D%E0%A6%AF-%E0%A6%AE%E0%A6%A8%E0%A7%8D%E0%A6%A4%E0%A7%8D%E0%A6%B0%E0%A6%A3%E0%A6%BE%E0%A6%B2%E0%A7%9F-%E0%A6%B8%E0%A6%AE%E0%A7%8D%E0%A6%AA%E0%A6%B0%E0%A7%8D%E0%A6%95%E0%A6%BF%E0%A6%A4-%E0%A6%B8%E0%A6%82%E0%A6%B8%E0%A6%A6%E0%A7%80%E0%A7%9F-%E0%A6%95%E0%A6%AE%E0%A6%BF%E0%A6%9F%E0%A6%BF-195533\n",
            "Description Updated\n",
            "1162\n",
            "Link Type\n",
            "http://chattogramnews.com/news-view/17347?n=%E0%A6%9A%E0%A6%9F%E0%A7%8D%E0%A6%9F%E0%A6%97%E0%A7%8D%E0%A6%B0%E0%A6%BE%E0%A6%AE%E0%A7%87%E0%A6%B0+%E0%A6%A8%E0%A6%A4%E0%A7%81%E0%A6%A8+%E0%A6%86%E0%A6%B0%E0%A6%93+%E0%A7%A7%E0%A7%A6%E0%A7%AD+%E0%A6%9C%E0%A6%A8+%E0%A6%95%E0%A6%B0%E0%A7%8B%E0%A6%A8%E0%A6%BE+%E0%A6%B0%E0%A7%8B%E0%A6%97%E0%A7%80+%E0%A6%B6%E0%A6%A8%E0%A6%BE%E0%A6%95%E0%A7%8D%E0%A6%A4\n",
            "Description Updated\n",
            "1163\n",
            "Link Type\n",
            "https://bengali.indianexpress.com/sports/rohit-sharma-may-replace-mayank-agarwal-in-sydney-test-276476/\n"
          ],
          "name": "stdout"
        },
        {
          "output_type": "stream",
          "text": [
            "ERROR:trafilatura.utils:retries/redirects: https://shikshabarta.com/%e0%a7%a7%e0%a7%ae-%e0%a6%8f%e0%a6%b0-%e0%a6%a8%e0%a6%bf%e0%a6%9a%e0%a7%87-%e0%a6%ad%e0%a7%8d%e0%a6%af%e0%a6%be%e0%a6%95%e0%a6%b8%e0%a6%bf%e0%a6%a8-%e0%a6%a8%e0%a7%9f/ HTTPSConnectionPool(host='shikshabarta.com', port=443): Max retries exceeded with url: /%E0%A7%A7%E0%A7%AE-%E0%A6%8F%E0%A6%B0-%E0%A6%A8%E0%A6%BF%E0%A6%9A%E0%A7%87-%E0%A6%AD%E0%A7%8D%E0%A6%AF%E0%A6%BE%E0%A6%95%E0%A6%B8%E0%A6%BF%E0%A6%A8-%E0%A6%A8%E0%A7%9F/ (Caused by ResponseError('too many 503 error responses'))\n",
            "ERROR:trafilatura.utils:parsing failed: Document is empty\n"
          ],
          "name": "stderr"
        },
        {
          "output_type": "stream",
          "text": [
            "Description Updated\n",
            "1164\n",
            "Link Type\n",
            "https://shikshabarta.com/%e0%a7%a7%e0%a7%ae-%e0%a6%8f%e0%a6%b0-%e0%a6%a8%e0%a6%bf%e0%a6%9a%e0%a7%87-%e0%a6%ad%e0%a7%8d%e0%a6%af%e0%a6%be%e0%a6%95%e0%a6%b8%e0%a6%bf%e0%a6%a8-%e0%a6%a8%e0%a7%9f/\n",
            "None\n",
            "dropped\n",
            "1165\n",
            "Link Type\n",
            "https://www.dailyinqilab.com/article/346775/%E0%A6%AD%E0%A7%8D%E0%A6%AF%E0%A6%BE%E0%A6%95%E0%A6%B8%E0%A6%BF%E0%A6%A8%E0%A7%87%E0%A6%B0-%E0%A6%A8%E0%A7%8D%E0%A6%AF%E0%A6%BE%E0%A6%AF%E0%A7%8D%E0%A6%AF-%E0%A6%AC%E0%A6%A3%E0%A7%8D%E0%A6%9F%E0%A6%A8-%E0%A6%9A%E0%A6%BE%E0%A7%9F-%E0%A6%AC%E0%A6%BF%E0%A6%B6%E0%A7%8D%E0%A6%AC-%E0%A6%B8%E0%A7%8D%E0%A6%AC%E0%A6%BE%E0%A6%B8%E0%A7%8D%E0%A6%A5%E0%A7%8D%E0%A6%AF-%E0%A6%B8%E0%A6%82%E0%A6%B8%E0%A7%8D%E0%A6%A5%E0%A6%BE\n",
            "Description Updated\n",
            "1166\n",
            "Status Type\n",
            "Continuing\n",
            "1167\n",
            "Status Type\n",
            "Continuing\n",
            "1168\n",
            "Link Type\n",
            "https://inabd.com/archives/9386\n",
            "Description Updated\n",
            "1169\n",
            "Link Type\n",
            "https://inabd.com/archives/8769\n",
            "Description Updated\n",
            "1170\n",
            "Link Type\n",
            "https://www.ekushey-tv.com/national/news/120177#.X-x459pTffA.facebook\n",
            "Description Updated\n",
            "1171\n",
            "Link Type\n",
            "https://www.dailyinqilab.com/article/345868/%E0%A6%B0%E0%A6%BE%E0%A6%9C%E0%A6%B6%E0%A6%BE%E0%A6%B9%E0%A7%80-%E0%A6%AC%E0%A6%BF%E0%A6%AD%E0%A6%BE%E0%A6%97%E0%A7%87-%E0%A7%A8%E0%A7%AA-%E0%A6%98%E0%A6%A8%E0%A7%8D%E0%A6%9F%E0%A6%BE%E0%A7%9F-%E0%A7%A8%E0%A7%AA%E0%A6%9C%E0%A6%A8-%E0%A6%95%E0%A6%B0%E0%A7%8B%E0%A6%A8%E0%A6%BE-%E0%A6%B0%E0%A7%8B%E0%A6%97%E0%A7%80-%E0%A6%B6%E0%A6%A8%E0%A6%BE%E0%A6%95%E0%A7%8D%E0%A6%A4\n",
            "Description Updated\n",
            "1172\n",
            "Link Type\n",
            "https://eisamay.indiatimes.com/west-bengal-news/kolkata-news/after-return-from-the-uk-new-covid19-strain-detected-in-kolkata-man/articleshow/80026913.cms\n",
            "Description Updated\n",
            "1173\n",
            "Link Type\n",
            "https://www.bd24live.com/bangla/%e0%a7%a8%e0%a7%a6%e0%a7%a8%e0%a7%a7-%e0%a6%b8%e0%a6%be%e0%a6%b2%e0%a7%87%e0%a6%b0-%e0%a6%8f%e0%a6%b8%e0%a6%8f%e0%a6%b8%e0%a6%b8%e0%a6%bf-%e0%a6%93-%e0%a6%8f%e0%a6%87%e0%a6%9a%e0%a6%8f%e0%a6%b8/\n",
            "Description Updated\n",
            "1174\n",
            "Link Type\n",
            "https://www.rtvonline.com/special-report/114784/%E0%A7%A8%E0%A7%A6%E0%A7%A8%E0%A7%A6-%E0%A6%8F%E0%A6%B0-%E0%A6%9A%E0%A6%BE%E0%A6%9E%E0%A7%8D%E0%A6%9A%E0%A6%B2%E0%A7%8D%E0%A6%AF%E0%A6%95%E0%A6%B0-%E0%A7%AE-%E0%A6%85%E0%A6%AD%E0%A6%BF%E0%A6%AF%E0%A6%BE%E0%A6%A8\n",
            "Description Updated\n",
            "1175\n",
            "Link Type\n",
            "https://www.deltatimes24.com/details.php?id=59664\n",
            "Description Updated\n",
            "1176\n",
            "Link Type\n",
            "https://beanibazartimes.com/%e0%a6%b8%e0%a7%8d%e0%a6%aa%e0%a7%87%e0%a6%a8%e0%a7%87-%e0%a6%aa%e0%a7%8d%e0%a6%b0%e0%a6%a5%e0%a6%ae-%e0%a6%ac%e0%a6%be%e0%a6%82%e0%a6%b2%e0%a6%be%e0%a6%a6%e0%a7%87%e0%a6%b6%e0%a6%bf-%e0%a6%b9/\n"
          ],
          "name": "stdout"
        },
        {
          "output_type": "stream",
          "text": [
            "ERROR:trafilatura.utils:not a 200 response: 404 for URL https://beanibazartimes.com/%e0%a6%b8%e0%a7%8d%e0%a6%aa%e0%a7%87%e0%a6%a8%e0%a7%87-%e0%a6%aa%e0%a7%8d%e0%a6%b0%e0%a6%a5%e0%a6%ae-%e0%a6%ac%e0%a6%be%e0%a6%82%e0%a6%b2%e0%a6%be%e0%a6%a6%e0%a7%87%e0%a6%b6%e0%a6%bf-%e0%a6%b9/\n",
            "ERROR:trafilatura.utils:this type cannot be processed: <class 'NoneType'>\n"
          ],
          "name": "stderr"
        },
        {
          "output_type": "stream",
          "text": [
            "None\n",
            "dropped\n",
            "1177\n",
            "Link Type\n",
            "https://cutt.ly/6jtiOav\n"
          ],
          "name": "stdout"
        },
        {
          "output_type": "stream",
          "text": [
            "WARNING:urllib3.connectionpool:Retrying (Retry(total=1, connect=None, read=None, redirect=None, status=None)) after connection broken by 'NewConnectionError('<urllib3.connection.HTTPSConnection object at 0x7f96cbf88ed0>: Failed to establish a new connection: [Errno -2] Name or service not known')': /2020/12/4.million.people.may.affected.by.coronavirus%20%20%20.html\n",
            "WARNING:urllib3.connectionpool:Retrying (Retry(total=0, connect=None, read=None, redirect=None, status=None)) after connection broken by 'NewConnectionError('<urllib3.connection.HTTPSConnection object at 0x7f96cc061710>: Failed to establish a new connection: [Errno -2] Name or service not known')': /2020/12/4.million.people.may.affected.by.coronavirus%20%20%20.html\n",
            "ERROR:trafilatura.utils:retries/redirects: https://cutt.ly/6jtiOav HTTPSConnectionPool(host='www.ovibashikantho.com', port=443): Max retries exceeded with url: /2020/12/4.million.people.may.affected.by.coronavirus%20%20%20.html (Caused by NewConnectionError('<urllib3.connection.HTTPSConnection object at 0x7f96cd7c9fd0>: Failed to establish a new connection: [Errno -2] Name or service not known'))\n",
            "ERROR:trafilatura.utils:parsing failed: Document is empty\n"
          ],
          "name": "stderr"
        },
        {
          "output_type": "stream",
          "text": [
            "HTTPSConnectionPool(host='www.ovibashikantho.com', port=443): Max retries exceeded with url: /2020/12/4.million.people.may.affected.by.coronavirus%20%20%20.html (Caused by NewConnectionError('<urllib3.connection.HTTPSConnection object at 0x7f96cd7c9a90>: Failed to establish a new connection: [Errno -2] Name or service not known'))\n",
            "dropped\n",
            "1178\n",
            "Link Type\n",
            "https://www.kalerkantho.com/print-edition/islamic-life/2020/12/31/990613\n",
            "Description Updated\n",
            "1179\n",
            "Link Type\n",
            "https://www.nytimesbd.com/coronavirus/news/9156\n"
          ],
          "name": "stdout"
        },
        {
          "output_type": "stream",
          "text": [
            "ERROR:trafilatura.core:not enough text None\n"
          ],
          "name": "stderr"
        },
        {
          "output_type": "stream",
          "text": [
            "Description Updated\n",
            "1180\n",
            "Link Type\n",
            "https://www.jagonews24.com/national/news/632605\n",
            "Description Updated\n",
            "1181\n",
            "Link Type\n",
            "https://www.channelionline.com/%E0%A6%95%E0%A6%B0%E0%A7%8B%E0%A6%A8%E0%A6%BE-%E0%A6%AE%E0%A6%B9%E0%A6%BE%E0%A6%AE%E0%A6%BE%E0%A6%B0%E0%A7%80-%E0%A6%A4%E0%A7%80%E0%A6%AC%E0%A7%8D%E0%A6%B0-%E0%A6%95%E0%A6%BF%E0%A6%A8%E0%A7%8D/\n"
          ],
          "name": "stdout"
        },
        {
          "output_type": "stream",
          "text": [
            "ERROR:trafilatura.core:not enough text None\n"
          ],
          "name": "stderr"
        },
        {
          "output_type": "stream",
          "text": [
            "Description Updated\n",
            "1182\n",
            "Link Type\n",
            "https://www.ittefaq.com.bd/opinion/210129/%E0%A6%89%E0%A6%A6%E0%A7%8D%E0%A6%AC%E0%A7%87%E0%A6%97-%E0%A6%89%E0%A7%8E%E0%A6%95%E0%A6%A8%E0%A7%8D%E0%A6%A0%E0%A6%BE%E0%A6%B0-%E0%A7%A8%E0%A7%A6%E0%A7%A8%E0%A7%A6;-%E0%A6%AA%E0%A7%8D%E0%A6%B0%E0%A6%A4%E0%A7%8D%E0%A6%AF%E0%A6%BE%E0%A6%B6%E0%A6%BE%E0%A6%B0-%E0%A7%A8%E0%A7%A6%E0%A7%A8%E0%A7%A7\n",
            "Description Updated\n",
            "1183\n",
            "Link Type\n",
            "https://www.bd24live.com/bangla/%e0%a6%85%e0%a6%95%e0%a7%8d%e0%a6%b8%e0%a6%ab%e0%a7%8b%e0%a6%b0%e0%a7%8d%e0%a6%a1%e0%a7%87%e0%a6%b0-%e0%a6%9f%e0%a6%bf%e0%a6%95%e0%a6%be-%e0%a6%9c%e0%a6%be%e0%a6%a8%e0%a7%81%e0%a7%9f%e0%a6%be%e0%a6%b0/\n",
            "Description Updated\n",
            "1184\n",
            "Link Type\n",
            "https://www.dailyinqilab.com/article/346150/%E0%A6%95%E0%A6%B0%E0%A7%8B%E0%A6%A8%E0%A6%BE%E0%A6%B0-%E0%A6%9F%E0%A6%BF%E0%A6%95%E0%A6%BE%E0%A6%A6%E0%A6%BE%E0%A6%A8-%E0%A6%B6%E0%A7%81%E0%A6%B0%E0%A7%81-%E0%A6%95%E0%A6%B0%E0%A6%B2%E0%A7%8B-%E0%A6%87%E0%A6%89%E0%A6%B0%E0%A7%8B%E0%A6%AA%E0%A7%87%E0%A6%B0-%E0%A7%A8%E0%A7%AD-%E0%A6%A6%E0%A7%87%E0%A6%B6\n",
            "Description Updated\n",
            "1185\n",
            "Link Type\n",
            "https://ctgpratidin.com/%e0%a6%9a%e0%a6%9f%e0%a7%8d%e0%a6%9f%e0%a6%97%e0%a7%8d%e0%a6%b0%e0%a6%be%e0%a6%ae%e0%a7%87-%e0%a6%b6%e0%a6%a8%e0%a6%be%e0%a6%95%e0%a7%8d%e0%a6%a4-%e0%a6%ac%e0%a7%87%e0%a7%9c%e0%a7%87-%e0%a6%a6/\n"
          ],
          "name": "stdout"
        },
        {
          "output_type": "stream",
          "text": [
            "ERROR:trafilatura.utils:not a 200 response: 403 for URL https://samakal.com/probas/article/201248083/%E0%A6%95%E0%A6%BE%E0%A6%A8%E0%A6%BE%E0%A6%A1%E0%A6%BE%E0%A6%AF%E0%A6%BC-%E0%A6%AA%E0%A7%8D%E0%A6%B0%E0%A6%AC%E0%A7%87%E0%A6%B6%E0%A7%87-%E0%A6%B2%E0%A6%BE%E0%A6%97%E0%A6%AC%E0%A7%87-%E0%A6%95%E0%A6%B0%E0%A7%8B%E0%A6%A8%E0%A6%BE-%E0%A6%A8%E0%A7%87%E0%A6%97%E0%A7%87%E0%A6%9F%E0%A6%BF%E0%A6%AD-%E0%A6%B8%E0%A6%A8%E0%A6%A6\n",
            "ERROR:trafilatura.utils:this type cannot be processed: <class 'NoneType'>\n"
          ],
          "name": "stderr"
        },
        {
          "output_type": "stream",
          "text": [
            "Description Updated\n",
            "1186\n",
            "Link Type\n",
            "https://samakal.com/probas/article/201248083/%E0%A6%95%E0%A6%BE%E0%A6%A8%E0%A6%BE%E0%A6%A1%E0%A6%BE%E0%A6%AF%E0%A6%BC-%E0%A6%AA%E0%A7%8D%E0%A6%B0%E0%A6%AC%E0%A7%87%E0%A6%B6%E0%A7%87-%E0%A6%B2%E0%A6%BE%E0%A6%97%E0%A6%AC%E0%A7%87-%E0%A6%95%E0%A6%B0%E0%A7%8B%E0%A6%A8%E0%A6%BE-%E0%A6%A8%E0%A7%87%E0%A6%97%E0%A7%87%E0%A6%9F%E0%A6%BF%E0%A6%AD-%E0%A6%B8%E0%A6%A8%E0%A6%A6\n",
            "None\n",
            "dropped\n",
            "1187\n",
            "Link Type\n",
            "https://dainikbidyaloy.com/2020/12/31/%e0%a6%95%e0%a6%b0%e0%a7%8b%e0%a6%a8%e0%a6%be-%e0%a6%aa%e0%a6%b0%e0%a6%bf%e0%a6%b8%e0%a7%8d%e0%a6%a5%e0%a6%bf%e0%a6%a4%e0%a6%bf-%e0%a6%85%e0%a6%a8%e0%a7%81%e0%a6%95%e0%a7%82%e0%a6%b2%e0%a7%87/#.X-18xJMJzv4.facebook\n",
            "Description Updated\n",
            "1188\n",
            "Link Type\n",
            "https://www.sangbadpratidin.in/bengal/1435-more-people-tested-covid-19-positive/\n",
            "Description Updated\n",
            "1189\n",
            "Status Type\n",
            "Continuing\n",
            "1190\n",
            "Status Type\n",
            "Continuing\n",
            "1191\n",
            "Link Type\n",
            "https://www.anandabazar.com/entertainment/veteran-singer-nirmala-mishra-will-discharge-tomorrow-dgtl-1.1251773?utm_source=facebook&utm_medium=social&utm_campaign=daily\n",
            "Description Updated\n",
            "1192\n",
            "Status Type\n",
            "Continuing\n",
            "1193\n",
            "Link Type\n",
            "https://www.sonalinews.com/national/news/136826\n",
            "Description Updated\n",
            "1194\n",
            "Link Type\n",
            "https://www.bd-pratidin.com/entertainment/2020/12/27/601681\n",
            "Description Updated\n",
            "1195\n",
            "Link Type\n",
            "https://news.bd24report.com/post/%e0%a6%95%e0%a6%b0%e0%a7%8b%e0%a6%a8%e0%a6%be%e0%a7%9f-%e0%a6%86%e0%a6%95%e0%a7%8d%e0%a6%b0%e0%a6%be%e0%a6%a8%e0%a7%8d%e0%a6%a4-%e0%a6%a4%e0%a6%be%e0%a6%b0%e0%a6%95%e0%a6%be-%e0%a6%85%e0%a6%ad/\n",
            "Description Updated\n",
            "1196\n",
            "Link Type\n",
            "http://www.kalerkantho.com/online/sport/2020/12/31/990837\n"
          ],
          "name": "stdout"
        },
        {
          "output_type": "stream",
          "text": [
            "ERROR:root:unknown error: ভোট চলাকালীন মেয়র প্রার্থীর মৃত্যু\n",
            "খুলনার দাকোপ উপজেলার চালনা পৌরসভা নির্বাচনে বিএনপির মনোনীত প্রার্থী আবুল খায়ের খান (৬০) চিকিৎসাধীন অবস্থায় মারা গেছেন (ইন্না লিল্লাহি ওয়া ইন্না ইলাইহি রাজিউন)। তিনি করোনা আক্রান্ত ছিলেন।\n",
            "সোমবার (২৮ ডিসেম্বর) বিকেল ৩টা ৫০ মিনিটে তার মৃত্যু হয়। ।\n",
            "সোমবার (২৮ ডিসেম্বর) বিকেল ৩টা ৫০ মিনিটে তার মৃত্যু হয়। ।\n",
            "করোনা আক্রান্ত হয়ে খুলনা মেডিকেল কলেজ হাসপাতালের করোনা ইউনিটে চিকিৎসাধীন ছিলেন আবুল খায়ের।\n",
            "তিনি স্ত্রী, একমাত্র মেয়েসহ অসংখ্য গুণগ্রাহী রেখে গেছেন।\n",
            "তিনি দাকোপের চালনা পৌরসভার নলোপাড়া গ্রামের মৃত আয়জ উদ্দিনের ছেলে।\n",
            "খুলনা জেলা বিএনপির সভাপতি অ্যাডভোকেট শফিকুল আলম মনা বিষয়টি নিশ্চিত করেন।\n",
            "গত ৩ ডিসেম্বর করোনা শনাক্ত হন মেয়রপ্রার্থী আবুল খায়ের। পরে তিনি খুলনার গাজী মেডিকেল কলেজ হাসপাতালে ভর্তি হন। প্রতীক বরাদ্দের পর তিনি আর এলাকায় ফিরতে পারেননি।\n",
            "২৩ ডিসেম্বর অবস্থার অবনতি হলে খুলনা মেডিকেল কলেজ হাসপাতালের করোনা ইউনিটে তাকে ভর্তি করা হয়। সেখানেই চিকিৎসাধীন অবস্থায় মৃত্যু হয়।\n",
            "দলীয় সূত্রে জানা গেছে, ১৯৭৮ সালে জাতীয়তাবাদী যুবদলের মাধ্যমে বিএনপির রাজনীতিতে সক্রিয় নেতৃত্বে অংশ নেন আবুল খায়ের। এরপর ১৯৮৮ সাল থেকে বিনা প্রতিদ্বন্দ্বিতায় দাকোপ উপজেলা বিএনপির সাধারণ সম্পাদক এবং সভাপতির দায়িত্ব পালন করেন। এছাড়া খুলনা জেলা বিএনপির সহ-সভাপতিসহ দলের বিভিন্ন দায়িত্ব পালন করেন তিনি।\n",
            "২০০৪ সালে চালনা পৌরসভার প্রশাসক হিসেবে ১৩ মাস দায়িত্ব পালন করেন বিএনপি নেতা আবুল খয়ের খান।\n",
            "আলমগীর হান্নান/এসআর/এমকেএইচ Failed to parse: ভোট চলাকালীন মেয়র প্রার্থীর মৃত্যু\n",
            "খুলনার দাকোপ উপজেলার চালনা পৌরসভা নির্বাচনে বিএনপির মনোনীত প্রার্থী আবুল খায়ের খান (৬০) চিকিৎসাধীন অবস্থায় মারা গেছেন (ইন্না লিল্লাহি ওয়া ইন্না ইলাইহি রাজিউন)। তিনি করোনা আক্রান্ত ছিলেন।\n",
            "সোমবার (২৮ ডিসেম্বর) বিকেল ৩টা ৫০ মিনিটে তার মৃত্যু হয়। ।\n",
            "সোমবার (২৮ ডিসেম্বর) বিকেল ৩টা ৫০ মিনিটে তার মৃত্যু হয়। ।\n",
            "করোনা আক্রান্ত হয়ে খুলনা মেডিকেল কলেজ হাসপাতালের করোনা ইউনিটে চিকিৎসাধীন ছিলেন আবুল খায়ের।\n",
            "তিনি স্ত্রী, একমাত্র মেয়েসহ অসংখ্য গুণগ্রাহী রেখে গেছেন।\n",
            "তিনি দাকোপের চালনা পৌরসভার নলোপাড়া গ্রামের মৃত আয়জ উদ্দিনের ছেলে।\n",
            "খুলনা জেলা বিএনপির সভাপতি অ্যাডভোকেট শফিকুল আলম মনা বিষয়টি নিশ্চিত করেন।\n",
            "গত ৩ ডিসেম্বর করোনা শনাক্ত হন মেয়রপ্রার্থী আবুল খায়ের। পরে তিনি খুলনার গাজী মেডিকেল কলেজ হাসপাতালে ভর্তি হন। প্রতীক বরাদ্দের পর তিনি আর এলাকায় ফিরতে পারেননি।\n",
            "২৩ ডিসেম্বর অবস্থার অবনতি হলে খুলনা মেডিকেল কলেজ হাসপাতালের করোনা ইউনিটে তাকে ভর্তি করা হয়। সেখানেই চিকিৎসাধীন অবস্থায় মৃত্যু হয়।\n",
            "দলীয় সূত্রে জানা গেছে, ১৯৭৮ সালে জাতীয়তাবাদী যুবদলের মাধ্যমে বিএনপির রাজনীতিতে সক্রিয় নেতৃত্বে অংশ নেন আবুল খায়ের। এরপর ১৯৮৮ সাল থেকে বিনা প্রতিদ্বন্দ্বিতায় দাকোপ উপজেলা বিএনপির সাধারণ সম্পাদক এবং সভাপতির দায়িত্ব পালন করেন। এছাড়া খুলনা জেলা বিএনপির সহ-সভাপতিসহ দলের বিভিন্ন দায়িত্ব পালন করেন তিনি।\n",
            "২০০৪ সালে চালনা পৌরসভার প্রশাসক হিসেবে ১৩ মাস দায়িত্ব পালন করেন বিএনপি নেতা আবুল খয়ের খান।\n",
            "আলমগীর হান্নান/এসআর/এমকেএইচ\n",
            "ERROR:trafilatura.utils:this type cannot be processed: <class 'NoneType'>\n"
          ],
          "name": "stderr"
        },
        {
          "output_type": "stream",
          "text": [
            "Description Updated\n",
            "1197\n",
            "Link Type\n",
            "ভোট চলাকালীন মেয়র প্রার্থীর মৃত্যু\n",
            "খুলনার দাকোপ উপজেলার চালনা পৌরসভা নির্বাচনে বিএনপির মনোনীত প্রার্থী আবুল খায়ের খান (৬০) চিকিৎসাধীন অবস্থায় মারা গেছেন (ইন্না লিল্লাহি ওয়া ইন্না ইলাইহি রাজিউন)। তিনি করোনা আক্রান্ত ছিলেন।\n",
            "সোমবার (২৮ ডিসেম্বর) বিকেল ৩টা ৫০ মিনিটে তার মৃত্যু হয়। ।\n",
            "সোমবার (২৮ ডিসেম্বর) বিকেল ৩টা ৫০ মিনিটে তার মৃত্যু হয়। ।\n",
            "করোনা আক্রান্ত হয়ে খুলনা মেডিকেল কলেজ হাসপাতালের করোনা ইউনিটে চিকিৎসাধীন ছিলেন আবুল খায়ের।\n",
            "তিনি স্ত্রী, একমাত্র মেয়েসহ অসংখ্য গুণগ্রাহী রেখে গেছেন।\n",
            "তিনি দাকোপের চালনা পৌরসভার নলোপাড়া গ্রামের মৃত আয়জ উদ্দিনের ছেলে।\n",
            "খুলনা জেলা বিএনপির সভাপতি অ্যাডভোকেট শফিকুল আলম মনা বিষয়টি নিশ্চিত করেন।\n",
            "গত ৩ ডিসেম্বর করোনা শনাক্ত হন মেয়রপ্রার্থী আবুল খায়ের। পরে তিনি খুলনার গাজী মেডিকেল কলেজ হাসপাতালে ভর্তি হন। প্রতীক বরাদ্দের পর তিনি আর এলাকায় ফিরতে পারেননি।\n",
            "২৩ ডিসেম্বর অবস্থার অবনতি হলে খুলনা মেডিকেল কলেজ হাসপাতালের করোনা ইউনিটে তাকে ভর্তি করা হয়। সেখানেই চিকিৎসাধীন অবস্থায় মৃত্যু হয়।\n",
            "দলীয় সূত্রে জানা গেছে, ১৯৭৮ সালে জাতীয়তাবাদী যুবদলের মাধ্যমে বিএনপির রাজনীতিতে সক্রিয় নেতৃত্বে অংশ নেন আবুল খায়ের। এরপর ১৯৮৮ সাল থেকে বিনা প্রতিদ্বন্দ্বিতায় দাকোপ উপজেলা বিএনপির সাধারণ সম্পাদক এবং সভাপতির দায়িত্ব পালন করেন। এছাড়া খুলনা জেলা বিএনপির সহ-সভাপতিসহ দলের বিভিন্ন দায়িত্ব পালন করেন তিনি।\n",
            "২০০৪ সালে চালনা পৌরসভার প্রশাসক হিসেবে ১৩ মাস দায়িত্ব পালন করেন বিএনপি নেতা আবুল খয়ের খান।\n",
            "আলমগীর হান্নান/এসআর/এমকেএইচ\n",
            "Failed to parse: ভোট চলাকালীন মেয়র প্রার্থীর মৃত্যু\n",
            "খুলনার দাকোপ উপজেলার চালনা পৌরসভা নির্বাচনে বিএনপির মনোনীত প্রার্থী আবুল খায়ের খান (৬০) চিকিৎসাধীন অবস্থায় মারা গেছেন (ইন্না লিল্লাহি ওয়া ইন্না ইলাইহি রাজিউন)। তিনি করোনা আক্রান্ত ছিলেন।\n",
            "সোমবার (২৮ ডিসেম্বর) বিকেল ৩টা ৫০ মিনিটে তার মৃত্যু হয়। ।\n",
            "সোমবার (২৮ ডিসেম্বর) বিকেল ৩টা ৫০ মিনিটে তার মৃত্যু হয়। ।\n",
            "করোনা আক্রান্ত হয়ে খুলনা মেডিকেল কলেজ হাসপাতালের করোনা ইউনিটে চিকিৎসাধীন ছিলেন আবুল খায়ের।\n",
            "তিনি স্ত্রী, একমাত্র মেয়েসহ অসংখ্য গুণগ্রাহী রেখে গেছেন।\n",
            "তিনি দাকোপের চালনা পৌরসভার নলোপাড়া গ্রামের মৃত আয়জ উদ্দিনের ছেলে।\n",
            "খুলনা জেলা বিএনপির সভাপতি অ্যাডভোকেট শফিকুল আলম মনা বিষয়টি নিশ্চিত করেন।\n",
            "গত ৩ ডিসেম্বর করোনা শনাক্ত হন মেয়রপ্রার্থী আবুল খায়ের। পরে তিনি খুলনার গাজী মেডিকেল কলেজ হাসপাতালে ভর্তি হন। প্রতীক বরাদ্দের পর তিনি আর এলাকায় ফিরতে পারেননি।\n",
            "২৩ ডিসেম্বর অবস্থার অবনতি হলে খুলনা মেডিকেল কলেজ হাসপাতালের করোনা ইউনিটে তাকে ভর্তি করা হয়। সেখানেই চিকিৎসাধীন অবস্থায় মৃত্যু হয়।\n",
            "দলীয় সূত্রে জানা গেছে, ১৯৭৮ সালে জাতীয়তাবাদী যুবদলের মাধ্যমে বিএনপির রাজনীতিতে সক্রিয় নেতৃত্বে অংশ নেন আবুল খায়ের। এরপর ১৯৮৮ সাল থেকে বিনা প্রতিদ্বন্দ্বিতায় দাকোপ উপজেলা বিএনপির সাধারণ সম্পাদক এবং সভাপতির দায়িত্ব পালন করেন। এছাড়া খুলনা জেলা বিএনপির সহ-সভাপতিসহ দলের বিভিন্ন দায়িত্ব পালন করেন তিনি।\n",
            "২০০৪ সালে চালনা পৌরসভার প্রশাসক হিসেবে ১৩ মাস দায়িত্ব পালন করেন বিএনপি নেতা আবুল খয়ের খান।\n",
            "আলমগীর হান্নান/এসআর/এমকেএইচ\n",
            "dropped\n",
            "1198\n",
            "Link Type\n",
            "http://www.kalerkantho.com/online/national/2020/12/30/990584\n",
            "Description Updated\n",
            "1199\n",
            "Status Type\n",
            "Continuing\n",
            "1200\n",
            "Link Type\n",
            "https://banglatraffic.com/bn/%E0%A6%AE%E0%A7%81%E0%A6%B8%E0%A6%B2%E0%A6%BF%E0%A6%AE%E0%A6%A6%E0%A7%87%E0%A6%B0-%E0%A6%9C%E0%A6%A8%E0%A7%8D%E0%A6%AF-%E0%A6%95%E0%A6%B0%E0%A7%8B%E0%A6%A8%E0%A6%BE-%E0%A6%AD%E0%A7%8D%E0%A6%AF/\n",
            "Description Updated\n",
            "1201\n",
            "Link Type\n",
            "https://mohanagarnews.com/%E0%A6%95%E0%A6%B0%E0%A7%8B%E0%A6%A8%E0%A6%BE%E0%A6%B0-%E0%A6%A8%E0%A6%A4%E0%A7%81%E0%A6%A8-%E0%A6%A7%E0%A6%B0%E0%A6%A8-%E0%A6%9A%E0%A6%9F%E0%A7%8D%E0%A6%9F%E0%A6%97%E0%A7%8D%E0%A6%B0%E0%A6%BE%E0%A6%AE%E0%A7%87%E0%A6%B0-%E0%A7%A9-%E0%A6%AC%E0%A6%BF%E0%A6%B6%E0%A7%87%E0%A6%B7%E0%A6%9C%E0%A7%8D%E0%A6%9E%E0%A7%87%E0%A6%B0-%E0%A6%B8%E0%A6%A4%E0%A6%B0%E0%A7%8D%E0%A6%95%E0%A6%AC%E0%A6%BE%E0%A6%B0%E0%A7%8D%E0%A6%A4%E0%A6%BE#.X-gVp9q4vpE.facebook\n",
            "Description Updated\n",
            "1202\n",
            "Link Type\n",
            "http://amaderkagoj.com/?page=post&id=16139\n",
            "Description Updated\n",
            "1203\n",
            "Link Type\n",
            "https://www.somoynews.tv/pages/details/255242\n"
          ],
          "name": "stdout"
        },
        {
          "output_type": "stream",
          "text": [
            "WARNING:trafilatura.utils:wrong encoding detected: utf-8\n"
          ],
          "name": "stderr"
        },
        {
          "output_type": "stream",
          "text": [
            "Description Updated\n",
            "1204\n",
            "Link Type\n",
            "https://www.maasranga24.com/?p=59079\n"
          ],
          "name": "stdout"
        },
        {
          "output_type": "stream",
          "text": [
            "ERROR:trafilatura.utils:not a 200 response: 404 for URL https://www.maasranga24.com/?p=59079\n",
            "ERROR:trafilatura.utils:this type cannot be processed: <class 'NoneType'>\n"
          ],
          "name": "stderr"
        },
        {
          "output_type": "stream",
          "text": [
            "None\n",
            "dropped\n",
            "1205\n",
            "Link Type\n",
            "https://www.ittefaq.com.bd/worldnews/210481/%E0%A6%9F%E0%A6%BF%E0%A6%95%E0%A6%BE-%E0%A6%A8%E0%A7%87%E0%A6%93%E0%A7%9F%E0%A6%BE%E0%A6%B0-%E0%A7%AE-%E0%A6%A6%E0%A6%BF%E0%A6%A8-%E0%A6%AA%E0%A6%B0%E0%A6%87-%E0%A6%95%E0%A6%B0%E0%A7%8B%E0%A6%A8%E0%A6%BE-%E0%A6%86%E0%A6%95%E0%A7%8D%E0%A6%B0%E0%A6%BE%E0%A6%A8%E0%A7%8D%E0%A6%A4\n",
            "Description Updated\n",
            "1206\n",
            "Link Type\n",
            "https://bengali.abplive.com/news/no-corona-corona-no-union-minister-ramdas-athawale-coins-slogan-new-coronavirus-strain-after-go-corona-go-775960\n"
          ],
          "name": "stdout"
        },
        {
          "output_type": "stream",
          "text": [
            "ERROR:trafilatura.core:not enough text None\n"
          ],
          "name": "stderr"
        },
        {
          "output_type": "stream",
          "text": [
            "Description Updated\n",
            "1207\n",
            "Status Type\n",
            "Continuing\n",
            "1208\n",
            "Status Type\n",
            "Continuing\n",
            "1209\n",
            "Link Type\n",
            "https://www.jagonews24.com/national/news/632970\n",
            "Description Updated\n",
            "1210\n",
            "Link Type\n",
            "https://bengali.abplive.com/news/states/coronavirus-updates-state-researchers-find-two-types-of-variants-of-coronavirus-in-bengal-776201\n"
          ],
          "name": "stdout"
        },
        {
          "output_type": "stream",
          "text": [
            "ERROR:trafilatura.core:not enough text None\n"
          ],
          "name": "stderr"
        },
        {
          "output_type": "stream",
          "text": [
            "Description Updated\n",
            "1211\n",
            "Link Type\n",
            "https://www.thedailystar.net/bangla/%E0%A6%B6%E0%A7%80%E0%A6%B0%E0%A7%8D%E0%A6%B7-%E0%A6%96%E0%A6%AC%E0%A6%B0/%E0%A7%AB%E0%A7%A6-%E0%A6%B2%E0%A6%BE%E0%A6%96-%E0%A6%93%E0%A6%8F%E0%A6%AE%E0%A6%8F%E0%A6%B8-%E0%A6%95%E0%A6%BE%E0%A6%B0%E0%A7%8D%E0%A6%A1%E0%A7%87%E0%A6%B0-%E0%A7%AD-%E0%A6%B2%E0%A6%BE%E0%A6%96-%E0%A6%AD%E0%A7%81%E0%A7%9F%E0%A6%BE-%E0%A6%96%E0%A6%BE%E0%A6%A6%E0%A7%8D%E0%A6%AF%E0%A6%AE%E0%A6%A8%E0%A7%8D%E0%A6%A4%E0%A7%8D%E0%A6%B0%E0%A7%80-195845\n",
            "Description Updated\n",
            "1212\n",
            "Status Type\n",
            "Continuing\n",
            "1213\n",
            "Status Type\n",
            "Continuing\n",
            "1214\n",
            "Status Type\n",
            "Continuing\n",
            "1215\n",
            "Link Type\n",
            "http://thecityvpn.com/?p=30961\n",
            "Description Updated\n",
            "1216\n",
            "Status Type\n",
            "Continuing\n",
            "1217\n",
            "Link Type\n",
            "https://www.somoynews.tv/pages/details/255290\n"
          ],
          "name": "stdout"
        },
        {
          "output_type": "stream",
          "text": [
            "WARNING:trafilatura.utils:wrong encoding detected: utf-8\n",
            "ERROR:root:unknown error: ভোট চলাকালীন মেয়র প্রার্থীর মৃত্যু\n",
            "খুলনার দাকোপ উপজেলার চালনা পৌরসভা নির্বাচনে বিএনপির মনোনীত প্রার্থী আবুল খায়ের খান (৬০) চিকিৎসাধীন অবস্থায় মারা গেছেন (ইন্না লিল্লাহি ওয়া ইন্না ইলাইহি রাজিউন)। তিনি করোনা আক্রান্ত ছিলেন।\n",
            "সোমবার (২৮ ডিসেম্বর) বিকেল ৩টা ৫০ মিনিটে তার মৃত্যু হয়। ।\n",
            "সোমবার (২৮ ডিসেম্বর) বিকেল ৩টা ৫০ মিনিটে তার মৃত্যু হয়। ।\n",
            "করোনা আক্রান্ত হয়ে খুলনা মেডিকেল কলেজ হাসপাতালের করোনা ইউনিটে চিকিৎসাধীন ছিলেন আবুল খায়ের।\n",
            "তিনি স্ত্রী, একমাত্র মেয়েসহ অসংখ্য গুণগ্রাহী রেখে গেছেন।\n",
            "তিনি দাকোপের চালনা পৌরসভার নলোপাড়া গ্রামের মৃত আয়জ উদ্দিনের ছেলে।\n",
            "খুলনা জেলা বিএনপির সভাপতি অ্যাডভোকেট শফিকুল আলম মনা বিষয়টি নিশ্চিত করেন।\n",
            "গত ৩ ডিসেম্বর করোনা শনাক্ত হন মেয়রপ্রার্থী আবুল খায়ের। পরে তিনি খুলনার গাজী মেডিকেল কলেজ হাসপাতালে ভর্তি হন। প্রতীক বরাদ্দের পর তিনি আর এলাকায় ফিরতে পারেননি।\n",
            "২৩ ডিসেম্বর অবস্থার অবনতি হলে খুলনা মেডিকেল কলেজ হাসপাতালের করোনা ইউনিটে তাকে ভর্তি করা হয়। সেখানেই চিকিৎসাধীন অবস্থায় মৃত্যু হয়।\n",
            "দলীয় সূত্রে জানা গেছে, ১৯৭৮ সালে জাতীয়তাবাদী যুবদলের মাধ্যমে বিএনপির রাজনীতিতে সক্রিয় নেতৃত্বে অংশ নেন আবুল খায়ের। এরপর ১৯৮৮ সাল থেকে বিনা প্রতিদ্বন্দ্বিতায় দাকোপ উপজেলা বিএনপির সাধারণ সম্পাদক এবং সভাপতির দায়িত্ব পালন করেন। এছাড়া খুলনা জেলা বিএনপির সহ-সভাপতিসহ দলের বিভিন্ন দায়িত্ব পালন করেন তিনি।\n",
            "২০০৪ সালে চালনা পৌরসভার প্রশাসক হিসেবে ১৩ মাস দায়িত্ব পালন করেন বিএনপি নেতা আবুল খয়ের খান।\n",
            "আলমগীর হান্নান/এসআর/এমকেএইচ Failed to parse: ভোট চলাকালীন মেয়র প্রার্থীর মৃত্যু\n",
            "খুলনার দাকোপ উপজেলার চালনা পৌরসভা নির্বাচনে বিএনপির মনোনীত প্রার্থী আবুল খায়ের খান (৬০) চিকিৎসাধীন অবস্থায় মারা গেছেন (ইন্না লিল্লাহি ওয়া ইন্না ইলাইহি রাজিউন)। তিনি করোনা আক্রান্ত ছিলেন।\n",
            "সোমবার (২৮ ডিসেম্বর) বিকেল ৩টা ৫০ মিনিটে তার মৃত্যু হয়। ।\n",
            "সোমবার (২৮ ডিসেম্বর) বিকেল ৩টা ৫০ মিনিটে তার মৃত্যু হয়। ।\n",
            "করোনা আক্রান্ত হয়ে খুলনা মেডিকেল কলেজ হাসপাতালের করোনা ইউনিটে চিকিৎসাধীন ছিলেন আবুল খায়ের।\n",
            "তিনি স্ত্রী, একমাত্র মেয়েসহ অসংখ্য গুণগ্রাহী রেখে গেছেন।\n",
            "তিনি দাকোপের চালনা পৌরসভার নলোপাড়া গ্রামের মৃত আয়জ উদ্দিনের ছেলে।\n",
            "খুলনা জেলা বিএনপির সভাপতি অ্যাডভোকেট শফিকুল আলম মনা বিষয়টি নিশ্চিত করেন।\n",
            "গত ৩ ডিসেম্বর করোনা শনাক্ত হন মেয়রপ্রার্থী আবুল খায়ের। পরে তিনি খুলনার গাজী মেডিকেল কলেজ হাসপাতালে ভর্তি হন। প্রতীক বরাদ্দের পর তিনি আর এলাকায় ফিরতে পারেননি।\n",
            "২৩ ডিসেম্বর অবস্থার অবনতি হলে খুলনা মেডিকেল কলেজ হাসপাতালের করোনা ইউনিটে তাকে ভর্তি করা হয়। সেখানেই চিকিৎসাধীন অবস্থায় মৃত্যু হয়।\n",
            "দলীয় সূত্রে জানা গেছে, ১৯৭৮ সালে জাতীয়তাবাদী যুবদলের মাধ্যমে বিএনপির রাজনীতিতে সক্রিয় নেতৃত্বে অংশ নেন আবুল খায়ের। এরপর ১৯৮৮ সাল থেকে বিনা প্রতিদ্বন্দ্বিতায় দাকোপ উপজেলা বিএনপির সাধারণ সম্পাদক এবং সভাপতির দায়িত্ব পালন করেন। এছাড়া খুলনা জেলা বিএনপির সহ-সভাপতিসহ দলের বিভিন্ন দায়িত্ব পালন করেন তিনি।\n",
            "২০০৪ সালে চালনা পৌরসভার প্রশাসক হিসেবে ১৩ মাস দায়িত্ব পালন করেন বিএনপি নেতা আবুল খয়ের খান।\n",
            "আলমগীর হান্নান/এসআর/এমকেএইচ\n",
            "ERROR:trafilatura.utils:this type cannot be processed: <class 'NoneType'>\n"
          ],
          "name": "stderr"
        },
        {
          "output_type": "stream",
          "text": [
            "Description Updated\n",
            "1218\n",
            "Link Type\n",
            "ভোট চলাকালীন মেয়র প্রার্থীর মৃত্যু\n",
            "খুলনার দাকোপ উপজেলার চালনা পৌরসভা নির্বাচনে বিএনপির মনোনীত প্রার্থী আবুল খায়ের খান (৬০) চিকিৎসাধীন অবস্থায় মারা গেছেন (ইন্না লিল্লাহি ওয়া ইন্না ইলাইহি রাজিউন)। তিনি করোনা আক্রান্ত ছিলেন।\n",
            "সোমবার (২৮ ডিসেম্বর) বিকেল ৩টা ৫০ মিনিটে তার মৃত্যু হয়। ।\n",
            "সোমবার (২৮ ডিসেম্বর) বিকেল ৩টা ৫০ মিনিটে তার মৃত্যু হয়। ।\n",
            "করোনা আক্রান্ত হয়ে খুলনা মেডিকেল কলেজ হাসপাতালের করোনা ইউনিটে চিকিৎসাধীন ছিলেন আবুল খায়ের।\n",
            "তিনি স্ত্রী, একমাত্র মেয়েসহ অসংখ্য গুণগ্রাহী রেখে গেছেন।\n",
            "তিনি দাকোপের চালনা পৌরসভার নলোপাড়া গ্রামের মৃত আয়জ উদ্দিনের ছেলে।\n",
            "খুলনা জেলা বিএনপির সভাপতি অ্যাডভোকেট শফিকুল আলম মনা বিষয়টি নিশ্চিত করেন।\n",
            "গত ৩ ডিসেম্বর করোনা শনাক্ত হন মেয়রপ্রার্থী আবুল খায়ের। পরে তিনি খুলনার গাজী মেডিকেল কলেজ হাসপাতালে ভর্তি হন। প্রতীক বরাদ্দের পর তিনি আর এলাকায় ফিরতে পারেননি।\n",
            "২৩ ডিসেম্বর অবস্থার অবনতি হলে খুলনা মেডিকেল কলেজ হাসপাতালের করোনা ইউনিটে তাকে ভর্তি করা হয়। সেখানেই চিকিৎসাধীন অবস্থায় মৃত্যু হয়।\n",
            "দলীয় সূত্রে জানা গেছে, ১৯৭৮ সালে জাতীয়তাবাদী যুবদলের মাধ্যমে বিএনপির রাজনীতিতে সক্রিয় নেতৃত্বে অংশ নেন আবুল খায়ের। এরপর ১৯৮৮ সাল থেকে বিনা প্রতিদ্বন্দ্বিতায় দাকোপ উপজেলা বিএনপির সাধারণ সম্পাদক এবং সভাপতির দায়িত্ব পালন করেন। এছাড়া খুলনা জেলা বিএনপির সহ-সভাপতিসহ দলের বিভিন্ন দায়িত্ব পালন করেন তিনি।\n",
            "২০০৪ সালে চালনা পৌরসভার প্রশাসক হিসেবে ১৩ মাস দায়িত্ব পালন করেন বিএনপি নেতা আবুল খয়ের খান।\n",
            "আলমগীর হান্নান/এসআর/এমকেএইচ\n",
            "Failed to parse: ভোট চলাকালীন মেয়র প্রার্থীর মৃত্যু\n",
            "খুলনার দাকোপ উপজেলার চালনা পৌরসভা নির্বাচনে বিএনপির মনোনীত প্রার্থী আবুল খায়ের খান (৬০) চিকিৎসাধীন অবস্থায় মারা গেছেন (ইন্না লিল্লাহি ওয়া ইন্না ইলাইহি রাজিউন)। তিনি করোনা আক্রান্ত ছিলেন।\n",
            "সোমবার (২৮ ডিসেম্বর) বিকেল ৩টা ৫০ মিনিটে তার মৃত্যু হয়। ।\n",
            "সোমবার (২৮ ডিসেম্বর) বিকেল ৩টা ৫০ মিনিটে তার মৃত্যু হয়। ।\n",
            "করোনা আক্রান্ত হয়ে খুলনা মেডিকেল কলেজ হাসপাতালের করোনা ইউনিটে চিকিৎসাধীন ছিলেন আবুল খায়ের।\n",
            "তিনি স্ত্রী, একমাত্র মেয়েসহ অসংখ্য গুণগ্রাহী রেখে গেছেন।\n",
            "তিনি দাকোপের চালনা পৌরসভার নলোপাড়া গ্রামের মৃত আয়জ উদ্দিনের ছেলে।\n",
            "খুলনা জেলা বিএনপির সভাপতি অ্যাডভোকেট শফিকুল আলম মনা বিষয়টি নিশ্চিত করেন।\n",
            "গত ৩ ডিসেম্বর করোনা শনাক্ত হন মেয়রপ্রার্থী আবুল খায়ের। পরে তিনি খুলনার গাজী মেডিকেল কলেজ হাসপাতালে ভর্তি হন। প্রতীক বরাদ্দের পর তিনি আর এলাকায় ফিরতে পারেননি।\n",
            "২৩ ডিসেম্বর অবস্থার অবনতি হলে খুলনা মেডিকেল কলেজ হাসপাতালের করোনা ইউনিটে তাকে ভর্তি করা হয়। সেখানেই চিকিৎসাধীন অবস্থায় মৃত্যু হয়।\n",
            "দলীয় সূত্রে জানা গেছে, ১৯৭৮ সালে জাতীয়তাবাদী যুবদলের মাধ্যমে বিএনপির রাজনীতিতে সক্রিয় নেতৃত্বে অংশ নেন আবুল খায়ের। এরপর ১৯৮৮ সাল থেকে বিনা প্রতিদ্বন্দ্বিতায় দাকোপ উপজেলা বিএনপির সাধারণ সম্পাদক এবং সভাপতির দায়িত্ব পালন করেন। এছাড়া খুলনা জেলা বিএনপির সহ-সভাপতিসহ দলের বিভিন্ন দায়িত্ব পালন করেন তিনি।\n",
            "২০০৪ সালে চালনা পৌরসভার প্রশাসক হিসেবে ১৩ মাস দায়িত্ব পালন করেন বিএনপি নেতা আবুল খয়ের খান।\n",
            "আলমগীর হান্নান/এসআর/এমকেএইচ\n",
            "dropped\n",
            "1219\n",
            "Link Type\n",
            "https://www.anandabazar.com/state/west-bengal-government-has-started-sending-sms-to-doctors-for-free-covid-vaccine-dgtl-1.1251598?utm_source=facebook&utm_medium=social&utm_campaign=daily\n",
            "Description Updated\n",
            "1220\n",
            "Link Type\n",
            "https://banglanews24.com/national/news/bd/832058.details\n",
            "Description Updated\n",
            "1221\n",
            "Status Type\n",
            "Continuing\n",
            "1222\n",
            "Status Type\n",
            "Continuing\n",
            "1223\n",
            "Link Type\n",
            "https://www.bharatbarta.com/dakhineswar-temple-is-close-for-visitor-on-1st-january-2021/\n",
            "Description Updated\n",
            "1224\n",
            "Link Type\n",
            "https://dhakalive.site/sree/?p=7790\n",
            "Description Updated\n",
            "1225\n",
            "Link Type\n",
            "https://www.dailyinqilab.com/article/346789/%E0%A6%95%E0%A7%81%E0%A6%B7%E0%A7%8D%E0%A6%9F%E0%A6%BF%E0%A7%9F%E0%A6%BE%E0%A7%9F-%E0%A7%A8%E0%A7%AA-%E0%A6%98%E0%A6%A8%E0%A7%8D%E0%A6%9F%E0%A6%BE%E0%A7%9F-%E0%A6%A8%E0%A6%A4%E0%A7%81%E0%A6%A8-%E0%A6%95%E0%A6%B0%E0%A7%87-%E0%A6%86%E0%A6%B0%E0%A7%8B-%E0%A7%AA-%E0%A6%9C%E0%A6%A8-%E0%A6%95%E0%A6%B0%E0%A7%8B%E0%A6%A8%E0%A6%BE-%E0%A6%B0%E0%A7%8B%E0%A6%97%E0%A7%80-%E0%A6%B6%E0%A6%A8%E0%A6%BE%E0%A6%95%E0%A7%8D%E0%A6%A4\n",
            "Description Updated\n",
            "1226\n",
            "Link Type\n",
            "https://www.risingbd.com/economics/corporate-corner/386872\n",
            "Description Updated\n",
            "1227\n",
            "Status Type\n",
            "Continuing\n",
            "1228\n",
            "Link Type\n",
            "https://mzamin.com/article.php?mzamin=256753&cat=1%2F%E0%A6%AF%E0%A7%81%E0%A6%95%E0%A7%8D%E0%A6%A4%E0%A6%B0%E0%A6%BE%E0%A6%B7%E0%A7%8D%E0%A6%9F%E0%A7%8D%E0%A6%B0%E0%A7%87-%E0%A7%A8%E0%A7%A6%E0%A7%A8%E0%A7%A7-%E0%A6%B8%E0%A6%BE%E0%A6%B2%E0%A7%87%E0%A6%87-%E0%A6%A8%E0%A6%BF%E0%A7%9F%E0%A6%A8%E0%A7%8D%E0%A6%A4%E0%A7%8D%E0%A6%B0%E0%A6%A3%E0%A7%87-%E0%A6%86%E0%A6%B8%E0%A6%AC%E0%A7%87-%E0%A6%95%E0%A6%B0%E0%A7%8B%E0%A6%A8%E0%A6%BE\n",
            "Description Updated\n",
            "1229\n",
            "Link Type\n",
            "https://www.jagonews24.com/international/news/632294\n",
            "Description Updated\n",
            "1230\n",
            "Link Type\n",
            "https://www.dailyinqilab.com/article/346033/%E0%A6%85%E0%A6%AC%E0%A6%B6%E0%A7%87%E0%A6%B7%E0%A7%87-%E0%A6%95%E0%A6%B0%E0%A7%8B%E0%A6%A8%E0%A6%BE-%E0%A6%B0%E0%A6%BF%E0%A6%B2%E0%A6%BF%E0%A6%AB-%E0%A6%AB%E0%A6%BE%E0%A6%A8%E0%A7%8D%E0%A6%A1%E0%A7%87-%E0%A6%9F%E0%A7%8D%E0%A6%B0%E0%A6%BE%E0%A6%AE%E0%A7%8D%E0%A6%AA%E0%A7%87%E0%A6%B0-%E0%A6%B8%E0%A7%8D%E0%A6%AC%E0%A6%BE%E0%A6%95%E0%A7%8D%E0%A6%B7%E0%A6%B0\n",
            "Description Updated\n",
            "1231\n",
            "Link Type\n",
            "https://bangla.bdnews24.com/world/article1842228.bdnews\n",
            "Description Updated\n",
            "1232\n",
            "Link Type\n",
            "https://www.rtvonline.com/special-report/114493/%E0%A6%95%E0%A6%B0%E0%A7%8B%E0%A6%A8%E0%A6%BE%E0%A6%B0-%E0%A6%A8%E0%A7%87%E0%A6%97%E0%A7%87%E0%A6%9F%E0%A6%BF%E0%A6%AD-%E0%A6%B0%E0%A7%87%E0%A6%9C%E0%A6%BE%E0%A6%B2%E0%A7%8D%E0%A6%9F-%E0%A6%A8%E0%A6%BF%E0%A7%9F%E0%A7%87-%E0%A6%AC%E0%A6%BF%E0%A6%A6%E0%A7%87%E0%A6%B6%E0%A6%AF%E0%A6%BE%E0%A6%A4%E0%A7%8D%E0%A6%B0%E0%A6%BE-%E0%A6%AC%E0%A7%88%E0%A6%9C%E0%A7%8D%E0%A6%9E%E0%A6%BE%E0%A6%A8%E0%A6%BF%E0%A6%95%E0%A6%AD%E0%A6%BE%E0%A6%AC%E0%A7%87-%E0%A6%AD%E0%A7%81%E0%A7%9F%E0%A6%BE\n",
            "Description Updated\n",
            "1233\n",
            "Link Type\n",
            "https://dailycomillanews.com/%e0%a6%8f%e0%a6%ae-%e0%a6%aa%e0%a6%bf-%e0%a6%ac%e0%a6%be%e0%a6%b9%e0%a6%be%e0%a6%b0%e0%a7%87%e0%a6%b0-%e0%a6%ac%e0%a7%8d%e0%a6%af%e0%a6%be%e0%a6%95%e0%a7%8d%e0%a6%a4%e0%a6%bf%e0%a6%97%e0%a6%a4\n",
            "Description Updated\n",
            "1234\n",
            "Status Type\n",
            "Continuing\n",
            "1235\n",
            "Link Type\n",
            "https://cutt.ly/DjeHnUk\n",
            "Description Updated\n",
            "1236\n",
            "Link Type\n",
            "https://www.bd-pratidin.com/mixter/2020/12/30/602712\n",
            "Description Updated\n",
            "1237\n",
            "Link Type\n",
            "https://bengali.news18.com/photogallery/coronavirus-latest-news/new-strain-of-coronavirus-found-in-six-passengers-returing-from-britain-541347.html\n"
          ],
          "name": "stdout"
        },
        {
          "output_type": "stream",
          "text": [
            "WARNING:trafilatura.utils:wrong encoding detected: utf-8\n"
          ],
          "name": "stderr"
        },
        {
          "output_type": "stream",
          "text": [
            "Description Updated\n",
            "1238\n",
            "Link Type\n",
            "https://banglanews24.com/health/news/bd/832523.details\n",
            "Description Updated\n",
            "1239\n",
            "Link Type\n",
            "https://www.prothomalo.com/world/south-america/%E0%A6%AC%E0%A7%8D%E0%A6%B0%E0%A6%BE%E0%A6%9C%E0%A6%BF%E0%A6%B2%E0%A7%87-%E0%A6%B2%E0%A6%BE%E0%A6%97%E0%A6%BE%E0%A6%AE%E0%A6%9B%E0%A6%BE%E0%A7%9C%E0%A6%BE-%E0%A6%B8%E0%A6%82%E0%A6%95%E0%A7%8D%E0%A6%B0%E0%A6%AE%E0%A6%A3-%E0%A6%9A%E0%A6%BF%E0%A6%A8%E0%A7%8D%E0%A6%A4%E0%A6%BE-%E0%A6%A8%E0%A7%87%E0%A6%87-%E0%A6%AC%E0%A6%B2%E0%A6%B8%E0%A7%8B%E0%A6%A8%E0%A6%BE%E0%A6%B0%E0%A7%8B%E0%A6%B0\n",
            "Description Updated\n",
            "1240\n",
            "Link Type\n",
            "https://www.ekushey-tv.com/corona-crisis/news/119999#.X-lf2XoQKpU.facebook\n",
            "Description Updated\n",
            "1241\n",
            "Link Type\n",
            "https://m.newztrip.com/article/adrija-after-a-cruise-short-dress-on-the-chest-of-the-sea/10175\n",
            "Description Updated\n",
            "1242\n",
            "Link Type\n",
            "https://www.somoynews.tv/pages/details/255581\n"
          ],
          "name": "stdout"
        },
        {
          "output_type": "stream",
          "text": [
            "WARNING:trafilatura.utils:wrong encoding detected: utf-8\n"
          ],
          "name": "stderr"
        },
        {
          "output_type": "stream",
          "text": [
            "Description Updated\n",
            "1243\n",
            "Link Type\n",
            "http://www.onebanglanews.com/news/136774\n",
            "Description Updated\n",
            "1244\n",
            "Link Type\n",
            "https://www.satv.tv/%e0%a7%af%e0%a7%a6-%e0%a6%b9%e0%a6%be%e0%a6%9c%e0%a6%be%e0%a6%b0-%e0%a6%95%e0%a7%8b%e0%a6%9f%e0%a6%bf-%e0%a6%a1%e0%a6%b2%e0%a6%be%e0%a6%b0%e0%a7%87%e0%a6%b0-%e0%a6%aa%e0%a7%8d%e0%a6%b0%e0%a6%a3/\n",
            "Description Updated\n",
            "1245\n",
            "Link Type\n",
            "https://www.sangbadpratidin.in/india/after-go-corona-athawale-coins-no-corona-slogan-for-new-covid-19-strain/\n"
          ],
          "name": "stdout"
        },
        {
          "output_type": "stream",
          "text": [
            "ERROR:trafilatura.utils:not a 200 response: 403 for URL https://samakal.com/whole-country/article/201247759/%E0%A6%AC%E0%A6%B0%E0%A6%BF%E0%A6%B6%E0%A6%BE%E0%A6%B2-%E0%A6%AC%E0%A6%BF%E0%A6%B6%E0%A7%8D%E0%A6%AC%E0%A6%AC%E0%A6%BF%E0%A6%A6%E0%A7%8D%E0%A6%AF%E0%A6%BE%E0%A6%B2%E0%A7%9F%E0%A7%87-%E0%A6%B8%E0%A7%8D%E0%A6%A8%E0%A6%BE%E0%A6%A4%E0%A6%95-%E0%A6%9A%E0%A7%82%E0%A7%9C%E0%A6%BE%E0%A6%A8%E0%A7%8D%E0%A6%A4-%E0%A6%AA%E0%A6%B0%E0%A7%8D%E0%A6%AC%E0%A7%87%E0%A6%B0-%E0%A6%AA%E0%A6%B0%E0%A7%80%E0%A6%95%E0%A7%8D%E0%A6%B7%E0%A6%BE-%E0%A6%B6%E0%A7%81%E0%A6%B0%E0%A7%81\n",
            "ERROR:trafilatura.utils:this type cannot be processed: <class 'NoneType'>\n"
          ],
          "name": "stderr"
        },
        {
          "output_type": "stream",
          "text": [
            "Description Updated\n",
            "1246\n",
            "Link Type\n",
            "https://samakal.com/whole-country/article/201247759/%E0%A6%AC%E0%A6%B0%E0%A6%BF%E0%A6%B6%E0%A6%BE%E0%A6%B2-%E0%A6%AC%E0%A6%BF%E0%A6%B6%E0%A7%8D%E0%A6%AC%E0%A6%AC%E0%A6%BF%E0%A6%A6%E0%A7%8D%E0%A6%AF%E0%A6%BE%E0%A6%B2%E0%A7%9F%E0%A7%87-%E0%A6%B8%E0%A7%8D%E0%A6%A8%E0%A6%BE%E0%A6%A4%E0%A6%95-%E0%A6%9A%E0%A7%82%E0%A7%9C%E0%A6%BE%E0%A6%A8%E0%A7%8D%E0%A6%A4-%E0%A6%AA%E0%A6%B0%E0%A7%8D%E0%A6%AC%E0%A7%87%E0%A6%B0-%E0%A6%AA%E0%A6%B0%E0%A7%80%E0%A6%95%E0%A7%8D%E0%A6%B7%E0%A6%BE-%E0%A6%B6%E0%A7%81%E0%A6%B0%E0%A7%81\n",
            "None\n",
            "dropped\n",
            "1247\n",
            "Link Type\n",
            "https://www.somoynews.tv/pages/details/255233\n",
            "Description Updated\n",
            "1248\n",
            "Link Type\n",
            "http://cplusbd.net/%e0%a6%ae%e0%a6%bf%e0%a6%b6%e0%a6%b0%e0%a7%87-%e0%a6%95%e0%a7%8b%e0%a6%ad%e0%a6%bf%e0%a6%a1-%e0%a6%b9%e0%a6%be%e0%a6%b8%e0%a6%aa%e0%a6%be%e0%a6%a4%e0%a6%be%e0%a6%b2%e0%a7%87-%e0%a6%86%e0%a6%97/\n",
            "Description Updated\n",
            "1249\n",
            "Link Type\n",
            "https://enews.bd24report.com/2020/12/29/%e0%a6%af%e0%a7%81%e0%a6%95%e0%a7%8d%e0%a6%a4%e0%a6%b0%e0%a6%be%e0%a6%9c%e0%a7%8d%e0%a6%af-%e0%a6%ab%e0%a7%87%e0%a6%b0%e0%a6%a4-%e0%a7%ac-%e0%a6%ad%e0%a6%be%e0%a6%b0%e0%a6%a4%e0%a7%80%e0%a7%9f/\n",
            "Description Updated\n",
            "1250\n",
            "Link Type\n",
            "https://www.jugantor.com/entertainment/379204/%E0%A7%A8%E0%A7%A6%E0%A7%A8%E0%A7%A6-%E0%A6%B8%E0%A6%BE%E0%A6%B2%E0%A7%87-%E0%A6%AF%E0%A7%87%E0%A6%B8%E0%A6%AC-%E0%A6%A4%E0%A6%BE%E0%A6%B0%E0%A6%95%E0%A6%BE%E0%A6%A6%E0%A7%87%E0%A6%B0-%E0%A6%B9%E0%A6%BE%E0%A6%B0%E0%A6%BF%E0%A7%9F%E0%A7%87%E0%A6%9B%E0%A6%BF\n",
            "Description Updated\n",
            "1251\n",
            "Link Type\n",
            "https://banglanews24.com/health/news/bd/832340.details\n",
            "Description Updated\n",
            "1252\n",
            "Link Type\n",
            "http://sramikawaz.com/news-details/17773\n"
          ],
          "name": "stdout"
        },
        {
          "output_type": "stream",
          "text": [
            "ERROR:trafilatura.core:not enough text None\n"
          ],
          "name": "stderr"
        },
        {
          "output_type": "stream",
          "text": [
            "Description Updated\n",
            "1253\n",
            "Link Type\n",
            "http://www.kalerkantho.com/online/sport/2020/12/31/990803\n",
            "Description Updated\n",
            "1254\n",
            "Link Type\n",
            "https://www.bd24live.com/bangla/%e0%a6%a2%e0%a6%be%e0%a6%ae%e0%a7%87%e0%a6%95%e0%a7%87-%e0%a6%95%e0%a6%b0%e0%a7%8b%e0%a6%a8%e0%a6%be%e0%a6%b0-%e0%a6%9a%e0%a7%87%e0%a7%9f%e0%a7%87-%e0%a6%a4%e0%a6%bf%e0%a6%a8%e0%a6%97%e0%a7%81/\n",
            "Description Updated\n",
            "1255\n",
            "Link Type\n",
            "http://newznyc.com/archives/4580\n",
            "Description Updated\n",
            "1256\n",
            "Status Type\n",
            "Continuing\n",
            "1257\n",
            "Link Type\n",
            "https://inabd.com/archives/8918\n",
            "Description Updated\n",
            "1258\n",
            "Link Type\n",
            "https://www.bd-pratidin.com/international-news/2020/12/29/602279\n",
            "Description Updated\n",
            "1259\n",
            "Link Type\n",
            "https://www.jugantor.com/todays-paper/last-page/378864/%E0%A6%AC%E0%A6%9B%E0%A6%B0%E0%A6%9C%E0%A7%81%E0%A7%9C%E0%A7%87-%E0%A6%86%E0%A6%B2%E0%A7%8B%E0%A6%9A%E0%A6%A8%E0%A6%BE%E0%A7%9F-%E0%A6%B0%E2%80%8C%E0%A7%8D%E0%A6%AF%E0%A6%BE%E0%A6%AC-%E0%A6%AA%E0%A7%81%E0%A6%B2%E0%A6%BF%E0%A6%B6%E0%A7%87%E0%A6%B0-%E0%A7%AF-%E0%A6%85%E0%A6%AD%E0%A6%BF%E0%A6%AF%E0%A6%BE%E0%A6%A8\n",
            "Description Updated\n",
            "1260\n",
            "Link Type\n",
            "https://www.mahanagarbarta.com/sonu-sood-visits-fans-food-stall/\n",
            "Description Updated\n",
            "1261\n",
            "Link Type\n",
            "https://inabd.com/archives/8971\n",
            "Description Updated\n",
            "1262\n",
            "Link Type\n",
            "https://www.bd-pratidin.com/coronavirus/2020/12/31/602948\n",
            "Description Updated\n",
            "1263\n",
            "Link Type\n",
            "https://www.dailynayadiganta.com/education/551789/%E0%A6%8F%E0%A6%87%E0%A6%9A%E0%A6%8F%E0%A6%B8%E0%A6%B8%E0%A6%BF%E0%A6%B0-%E0%A6%AB%E0%A6%B2-%E0%A6%95%E0%A6%AC%E0%A7%87-%E0%A6%AE%E0%A6%99%E0%A7%8D%E0%A6%97%E0%A6%B2%E0%A6%AC%E0%A6%BE%E0%A6%B0-%E0%A6%9C%E0%A6%BE%E0%A6%A8%E0%A6%BE%E0%A6%AC%E0%A7%87%E0%A6%A8-%E0%A6%B6%E0%A6%BF%E0%A6%95%E0%A7%8D%E0%A6%B7%E0%A6%BE%E0%A6%AE%E0%A6%A8%E0%A7%8D%E0%A6%A4%E0%A7%8D%E0%A6%B0%E0%A7%80\n",
            "Description Updated\n",
            "1264\n",
            "Status Type\n",
            "Continuing\n",
            "1265\n",
            "Link Type\n",
            "https://enews.bd24report.com/2020/12/27/%e0%a6%95%e0%a6%b0%e0%a7%8b%e0%a6%a8%e0%a6%be%e0%a6%ae%e0%a7%81%e0%a6%95%e0%a7%8d%e0%a6%a4-%e0%a6%b9%e0%a6%b2%e0%a7%87%e0%a6%a8-%e0%a6%b6%e0%a7%81%e0%a6%ad-%e0%a6%ab%e0%a6%be%e0%a6%b0%e0%a6%bf/\n",
            "Description Updated\n",
            "1266\n",
            "Link Type\n",
            "https://www.thedailystar.net/bangla/%E0%A6%B6%E0%A7%80%E0%A6%B0%E0%A7%8D%E0%A6%B7-%E0%A6%96%E0%A6%AC%E0%A6%B0/%E0%A6%A5%E0%A6%BE%E0%A6%B0%E0%A7%8D%E0%A6%9F%E0%A6%BF-%E0%A6%AB%E0%A6%BE%E0%A6%B0%E0%A7%8D%E0%A6%B8%E0%A7%8D%E0%A6%9F%E0%A7%87-%E0%A6%A1%E0%A6%BF%E0%A6%8F%E0%A6%AE%E0%A6%AA%E0%A6%BF%E0%A6%B0-%E0%A7%A7%E0%A7%A9-%E0%A6%A8%E0%A6%BF%E0%A6%B0%E0%A7%8D%E0%A6%A6%E0%A7%87%E0%A6%B6%E0%A6%A8%E0%A6%BE-195377\n",
            "Description Updated\n",
            "1267\n",
            "Status Type\n",
            "Continuing\n",
            "1268\n",
            "Link Type\n",
            "https://www.news24bd.tv/details/48243/%E0%A6%AA%E0%A6%B0%E0%A6%BF%E0%A6%B8%E0%A7%8D%E0%A6%A5%E0%A6%BF%E0%A6%A4%E0%A6%BF-%E0%A6%AD%E0%A6%BE%E0%A6%B2-%E0%A6%B9%E0%A6%B2%E0%A7%87-%E0%A7%A7%E0%A7%AB-%E0%A6%9C%E0%A6%BE%E0%A6%A8%E0%A7%81%E0%A7%9F%E0%A6%BE%E0%A6%B0%E0%A6%BF%E0%A6%B0-%E0%A6%AA%E0%A6%B0-%E0%A6%B6%E0%A6%BF%E0%A6%95%E0%A7%8D%E0%A6%B7%E0%A6%BE%E0%A6%AA%E0%A7%8D%E0%A6%B0%E0%A6%A4%E0%A6%BF%E0%A6%B7%E0%A7%8D%E0%A6%A0%E0%A6%BE%E0%A6%A8-%E0%A6%96%E0%A7%8B%E0%A6%B2%E0%A6%BE-%E0%A6%B9%E0%A6%AC%E0%A7%87:-%E0%A6%AA%E0%A7%8D%E0%A6%B0%E0%A6%A7%E0%A6%BE%E0%A6%A8%E0%A6%AE%E0%A6%A8%E0%A7%8D%E0%A6%A4%E0%A7%8D%E0%A6%B0%E0%A7%80\n",
            "Description Updated\n",
            "1269\n",
            "Link Type\n",
            "https://www.banglatribune.com/others/news/659884/%E0%A6%95%E0%A6%B0%E0%A7%8B%E0%A6%A8%E0%A6%BE-%E0%A6%86%E0%A6%95%E0%A7%8D%E0%A6%B0%E0%A6%BE%E0%A6%A8%E0%A7%8D%E0%A6%A4-%E0%A6%B9%E0%A7%9F%E0%A7%87-%E0%A6%86%E0%A6%B0%E0%A6%93-%E0%A6%8F%E0%A6%95-%E0%A6%9A%E0%A6%BF%E0%A6%95%E0%A6%BF%E0%A7%8E%E0%A6%B8%E0%A6%95%E0%A7%87%E0%A6%B0-%E0%A6%AE%E0%A7%83%E0%A6%A4%E0%A7%8D%E0%A6%AF%E0%A7%81\n",
            "Description Updated\n",
            "1270\n",
            "Link Type\n",
            "https://www.somoynews.tv/pages/details/255689/%E0%A6%AE%E0%A6%BE%E0%A6%B2%E0%A7%9F%E0%A7%87%E0%A6%B6%E0%A6%BF%E0%A7%9F%E0%A6%BE%E0%A7%9F-%E0%A6%AC%E0%A6%BE%E0%A6%82%E0%A6%B2%E0%A6%BE%E0%A6%A6%E0%A7%87%E0%A6%B6-%E0%A6%A6%E0%A7%82%E0%A6%A4%E0%A6%BE%E0%A6%AC%E0%A6%BE%E0%A6%B8%E0%A7%87%E0%A6%B0-%E0%A6%86%E0%A6%82%E0%A6%B6%E0%A6%BF%E0%A6%95-%E0%A6%95%E0%A6%BE%E0%A6%B0%E0%A7%8D%E0%A6%AF%E0%A6%95%E0%A7%8D%E0%A6%B0%E0%A6%AE-%E0%A6%AC%E0%A6%A8%E0%A7%8D%E0%A6%A7\n",
            "Description Updated\n",
            "1271\n",
            "Link Type\n",
            "https://www.somoynews.tv/pages/details/255581\n"
          ],
          "name": "stdout"
        },
        {
          "output_type": "stream",
          "text": [
            "WARNING:trafilatura.utils:wrong encoding detected: utf-8\n"
          ],
          "name": "stderr"
        },
        {
          "output_type": "stream",
          "text": [
            "Description Updated\n",
            "1272\n",
            "Link Type\n",
            "https://mzamin.com/article.php?mzamin=256440\n",
            "Description Updated\n",
            "1273\n",
            "Link Type\n",
            "https://www.jugantor.com/international/379181/%E0%A6%A6%E0%A6%95%E0%A7%8D%E0%A6%B7%E0%A6%BF%E0%A6%A3-%E0%A6%86%E0%A6%AB%E0%A7%8D%E0%A6%B0%E0%A6%BF%E0%A6%95%E0%A6%BE%E0%A7%9F-%E0%A6%95%E0%A6%B0%E0%A7%8B%E0%A6%A8%E0%A6%BE%E0%A7%9F-%E0%A6%AC%E0%A6%BE%E0%A6%82%E0%A6%B2%E0%A6%BE%E0%A6%A6%E0%A7%87%E0%A6%B6%E0%A6%BF%E0%A6%B0-%E0%A6%AE%E0%A7%83%E0%A6%A4%E0%A7%8D%E0%A6%AF%E0%A7%81%C2%A0\n",
            "Description Updated\n",
            "1274\n",
            "Link Type\n",
            "https://eisamay.indiatimes.com/nation/central-government-issues-sop-to-all-state-government-to-protect-new-corona-strain-spread/articleshow/80029347.cms\n",
            "Description Updated\n",
            "1275\n",
            "Status Type\n",
            "Continuing\n",
            "1276\n",
            "Status Type\n",
            "Continuing\n",
            "1277\n",
            "Link Type\n",
            "https://www.anandabazar.com/state/coronavirus-update-daily-death-number-29-on-last-day-of-the-year-dgtl-1.1252385?utm_source=facebook&utm_medium=social&utm_campaign=daily\n"
          ],
          "name": "stdout"
        },
        {
          "output_type": "stream",
          "text": [
            "ERROR:trafilatura.utils:not a 200 response: 404 for URL https://probashtime.com/2020/12/27/%e0%a6%aa%e0%a7%8d%e0%a6%b0%e0%a6%ac%e0%a6%be%e0%a6%b8%e0%a7%80%e0%a6%a6%e0%a7%87%e0%a6%b0-%e0%a6%ac%e0%a6%bf%e0%a6%a8%e0%a6%be%e0%a6%ae%e0%a7%82%e0%a6%b2%e0%a7%8d%e0%a6%af%e0%a7%87-%e0%a6%95%e0%a6%b0/\n",
            "ERROR:trafilatura.utils:this type cannot be processed: <class 'NoneType'>\n"
          ],
          "name": "stderr"
        },
        {
          "output_type": "stream",
          "text": [
            "Description Updated\n",
            "1278\n",
            "Link Type\n",
            "https://probashtime.com/2020/12/27/%e0%a6%aa%e0%a7%8d%e0%a6%b0%e0%a6%ac%e0%a6%be%e0%a6%b8%e0%a7%80%e0%a6%a6%e0%a7%87%e0%a6%b0-%e0%a6%ac%e0%a6%bf%e0%a6%a8%e0%a6%be%e0%a6%ae%e0%a7%82%e0%a6%b2%e0%a7%8d%e0%a6%af%e0%a7%87-%e0%a6%95%e0%a6%b0/\n",
            "None\n",
            "dropped\n",
            "1279\n",
            "Link Type\n",
            "https://www.dainikshiksha.com/%E0%A7%A7%E0%A7%A8-%E0%A6%A6%E0%A6%BF%E0%A6%A8%E0%A7%87-%E0%A6%AA%E0%A6%BE%E0%A6%A0%E0%A7%8D%E0%A6%AF%E0%A6%AC%E0%A6%87-%E0%A6%AC%E0%A6%BF%E0%A6%A4%E0%A6%B0%E0%A6%A3-%E0%A6%B9%E0%A6%AC%E0%A7%87/201080/\n",
            "Description Updated\n",
            "1280\n",
            "Link Type\n",
            "https://inabd.com/archives/9427\n",
            "Description Updated\n",
            "1281\n",
            "Link Type\n",
            "https://insaf24.net/thursday-31december-dotnet-news2/\n",
            "Description Updated\n",
            "1282\n",
            "Link Type\n",
            "https://www.ekushey-tv.com/corona-crisis/news/119961#.X-htG-1luQQ.facebook\n",
            "Description Updated\n",
            "1283\n",
            "Link Type\n",
            "https://amarsangbad24.com/2020/12/%e0%a6%b9%e0%a6%9c%e0%a7%87-%e0%a6%97%e0%a6%bf%e0%a7%9f%e0%a7%87-%e0%a6%95%e0%a7%87%e0%a6%89-%e0%a6%95%e0%a6%b0%e0%a7%8b%e0%a6%a8%e0%a6%be-%e0%a6%86%e0%a6%95%e0%a7%8d%e0%a6%b0%e0%a6%be%e0%a6%a8/\n",
            "Description Updated\n",
            "1284\n",
            "Status Type\n",
            "Continuing\n",
            "1285\n",
            "Link Type\n",
            "http://educationnews.online/2020/12/31/%e0%a7%a7%e0%a7%ab-%e0%a6%9c%e0%a6%be%e0%a6%a8%e0%a7%81%e0%a7%9f%e0%a6%be%e0%a6%b0%e0%a6%bf%e0%a6%b0-%e0%a6%aa%e0%a6%b0-%e0%a6%aa%e0%a6%b0%e0%a6%bf%e0%a6%b8%e0%a7%8d%e0%a6%a5%e0%a6%bf%e0%a6%a4/\n",
            "Description Updated\n",
            "1286\n",
            "Link Type\n",
            "https://www.banglarpran.com/the-prime-minister-gave-a-good-start-to-indias-first-driverless-train/\n",
            "Description Updated\n",
            "1287\n",
            "Link Type\n",
            "https://www.emiratessangbad.com/archives/47897\n",
            "Description Updated\n",
            "1288\n",
            "Status Type\n",
            "Continuing\n",
            "1289\n",
            "Link Type\n",
            "https://insaf24.net/news-december29-monday-dotnet12/\n",
            "Description Updated\n",
            "1290\n",
            "Link Type\n",
            "https://bengali.news18.com/news/coronavirus-latest-news/two-day-coronavirus-vaccine-dry-run-starts-in-four-states-today-sd-541046.html\n",
            "Description Updated\n",
            "1291\n",
            "Link Type\n",
            "https://www.anandabazar.com/state/coronavirus-in-west-bengal-total-covid-patient-is-near-about-5-50-lakh-dgtl-1.1251283?utm_source=facebook&utm_medium=social&utm_campaign=daily\n",
            "Description Updated\n",
            "1292\n",
            "Status Type\n",
            "Continuing\n",
            "1293\n",
            "Status Type\n",
            "Continuing\n",
            "1294\n",
            "Link Type\n",
            "https://www.daily-bangladesh.com/national/224173\n",
            "Description Updated\n",
            "1295\n",
            "Link Type\n",
            "https://www.banglatribune.com/tech-and-gadget/news/656097/%E0%A6%95%E0%A6%B0%E0%A7%8B%E0%A6%A8%E0%A6%BE%E0%A6%95%E0%A6%BE%E0%A6%B2%E0%A7%87-%E0%A6%AD%E0%A6%BE%E0%A6%B2%E0%A7%8B-%E0%A6%95%E0%A6%B0%E0%A6%9B%E0%A7%87-%E0%A6%B2%E0%A6%BE%E0%A6%B0%E0%A7%8D%E0%A6%A8%E0%A6%BF%E0%A6%82-%E0%A6%86%E0%A6%B0%E0%A7%8D%E0%A6%A8%E0%A6%BF%E0%A6%82-%E0%A6%AA%E0%A7%8D%E0%A6%B0%E0%A6%9C%E0%A7%87%E0%A6%95%E0%A7%8D%E0%A6%9F%E0%A7%87%E0%A6%B0\n",
            "Description Updated\n",
            "1296\n",
            "Link Type\n",
            "https://www.ntvbd.com/world/%E0%A6%95%E0%A7%8B%E0%A6%AD%E0%A6%BF%E0%A6%A1-%E0%A7%A7%E0%A7%AF-%E0%A6%AF%E0%A7%81%E0%A6%95%E0%A7%8D%E0%A6%A4%E0%A6%B0%E0%A6%BE%E0%A6%B7%E0%A7%8D%E0%A6%9F%E0%A7%8D%E0%A6%B0%E0%A7%87-%E0%A6%A8%E0%A6%AC%E0%A6%A8%E0%A6%BF%E0%A6%B0%E0%A7%8D%E0%A6%AC%E0%A6%BE%E0%A6%9A%E0%A6%BF%E0%A6%A4-%E0%A6%95%E0%A6%82%E0%A6%97%E0%A7%8D%E0%A6%B0%E0%A7%87%E0%A6%B8-%E0%A6%B8%E0%A6%A6%E0%A6%B8%E0%A7%8D%E0%A6%AF%E0%A7%87%E0%A6%B0-%E0%A6%AE%E0%A7%83%E0%A6%A4%E0%A7%8D%E0%A6%AF%E0%A7%81-847705\n",
            "Description Updated\n",
            "1297\n",
            "Status Type\n",
            "Continuing\n",
            "1298\n",
            "Link Type\n",
            "https://www.sangbadpratidin.in/world/coronavirus-cases-in-chinas-wuhan-may-be-10-times-higher-than-reported/\n",
            "Description Updated\n",
            "1299\n",
            "Link Type\n",
            "http://www.kalerkantho.com/online/national/2020/12/30/990589\n",
            "Description Updated\n",
            "1300\n",
            "Link Type\n",
            "https://bengali.abplive.com/news/astrazeneca-is-fully-effective-in-the-fight-against-covid-19-claimed-by-ceo-of-the-company-775830\n"
          ],
          "name": "stdout"
        },
        {
          "output_type": "stream",
          "text": [
            "ERROR:trafilatura.core:not enough text None\n"
          ],
          "name": "stderr"
        },
        {
          "output_type": "stream",
          "text": [
            "Description Updated\n",
            "1301\n",
            "Status Type\n",
            "Continuing\n",
            "1302\n",
            "Link Type\n",
            "https://www.bbc.com/bengali/news-55465016\n",
            "Description Updated\n",
            "1303\n",
            "Link Type\n",
            "https://mzamin.com/article.php?mzamin=256729\n",
            "Description Updated\n",
            "1304\n",
            "Link Type\n",
            "https://www.dhakatoday.com/%e0%a6%b9%e0%a6%9c%e0%a7%87-%e0%a6%97%e0%a6%bf%e0%a7%9f%e0%a7%87-%e0%a6%95%e0%a7%87%e0%a6%89-%e0%a6%95%e0%a6%b0%e0%a7%8b%e0%a6%a8%e0%a6%be-%e0%a6%86%e0%a6%95%e0%a7%8d%e0%a6%b0%e0%a6%be%e0%a6%a8/\n",
            "Description Updated\n",
            "1305\n",
            "Link Type\n",
            "https://www.jugantor.com/international/379181/%E0%A6%A6%E0%A6%95%E0%A7%8D%E0%A6%B7%E0%A6%BF%E0%A6%A3-%E0%A6%86%E0%A6%AB%E0%A7%8D%E0%A6%B0%E0%A6%BF%E0%A6%95%E0%A6%BE%E0%A7%9F-%E0%A6%95%E0%A6%B0%E0%A7%8B%E0%A6%A8%E0%A6%BE%E0%A7%9F-%E0%A6%AC%E0%A6%BE%E0%A6%82%E0%A6%B2%E0%A6%BE%E0%A6%A6%E0%A7%87%E0%A6%B6%E0%A6%BF%E0%A6%B0-%E0%A6%AE%E0%A7%83%E0%A6%A4%E0%A7%8D%E0%A6%AF%E0%A7%81%C2%A0\n",
            "Description Updated\n",
            "1306\n",
            "Status Type\n",
            "Continuing\n",
            "1307\n",
            "Status Type\n",
            "Continuing\n",
            "1308\n",
            "Link Type\n",
            "https://www.bd24live.com/bangla/%e0%a6%ac%e0%a6%bf%e0%a6%b6%e0%a7%8d%e0%a6%ac%e0%a7%87-%e0%a6%8f%e0%a6%95%e0%a6%a6%e0%a6%bf%e0%a6%a8%e0%a7%87-%e0%a6%95%e0%a6%b0%e0%a7%8b%e0%a6%a8%e0%a6%be-%e0%a6%b6%e0%a6%a8%e0%a6%be%e0%a6%95/\n",
            "Description Updated\n",
            "1309\n",
            "Link Type\n",
            "https://www.dailynayadiganta.com/asia/552011/%E0%A6%A6.-%E0%A6%95%E0%A7%8B%E0%A6%B0%E0%A6%BF%E0%A7%9F%E0%A6%BE%E0%A7%9F-%E0%A6%A8%E0%A6%A4%E0%A7%81%E0%A6%A8-%E0%A6%A7%E0%A6%B0%E0%A6%A8%E0%A7%87%E0%A6%B0-%E0%A6%95%E0%A6%B0%E0%A7%8B%E0%A6%A8%E0%A6%BE%E0%A6%AD%E0%A6%BE%E0%A6%87%E0%A6%B0%E0%A6%BE%E0%A6%B8%E0%A7%87-%E0%A6%86%E0%A6%95%E0%A7%8D%E0%A6%B0%E0%A6%BE%E0%A6%A8%E0%A7%8D%E0%A6%A4-%E0%A6%AA%E0%A7%8D%E0%A6%B0%E0%A6%A5%E0%A6%AE-%E0%A6%B0%E0%A7%8B%E0%A6%97%E0%A7%80-%E0%A6%B6%E0%A6%A8%E0%A6%BE%E0%A6%95%E0%A7%8D%E0%A6%A4\n",
            "Description Updated\n",
            "1310\n",
            "Status Type\n",
            "Continuing\n",
            "1311\n",
            "Link Type\n",
            "https://agamirbarta.com/archives/11005\n",
            "Description Updated\n",
            "1312\n",
            "Link Type\n",
            "http://www.millenniumpost.in/nation/house-to-house-survey-to-list-patients-with-comorbidities-427562\n",
            "Description Updated\n",
            "1313\n",
            "Link Type\n",
            "https://news.viewer.com.bd/2020/12/29/%e0%a6%b8%e0%a7%8c%e0%a6%a6%e0%a6%bf-%e0%a6%86%e0%a6%b0%e0%a6%ac%e0%a7%87-%e0%a6%86%e0%a6%9c-%e0%a7%a8%e0%a7%af-%e0%a7%a7%e0%a7%a8-%e0%a7%a8%e0%a7%a6%e0%a7%a8%e0%a7%a6-%e0%a6%a4%e0%a6%be%e0%a6%b0/\n",
            "Description Updated\n",
            "1314\n",
            "Link Type\n",
            "https://www.anandabazar.com/state/coronavirus-in-west-bengal-discharge-rate-increased-to-95-85-per-cent-27-dead-in-a-single-day-dgtl-1.1250770?utm_source=facebook&utm_medium=social&utm_campaign=daily\n",
            "Description Updated\n",
            "1315\n",
            "Status Type\n",
            "Continuing\n",
            "1316\n",
            "Link Type\n",
            "https://www.bbnews365.com/none-of-the-worshipers-were-attacked-during-the-holy-hajj-umrah/\n"
          ],
          "name": "stdout"
        },
        {
          "output_type": "stream",
          "text": [
            "ERROR:trafilatura.utils:retries/redirects: https://shikshabarta.com/%e0%a6%95%e0%a6%b0%e0%a7%8b%e0%a6%a8%e0%a6%be-%e0%a6%b6%e0%a7%87%e0%a6%b7-%e0%a6%ae%e0%a6%b9%e0%a6%be%e0%a6%ae%e0%a6%be%e0%a6%b0%e0%a6%bf-%e0%a6%a8%e0%a7%9f%e0%a6%83-%e0%a6%b9%e0%a7%81/ HTTPSConnectionPool(host='shikshabarta.com', port=443): Max retries exceeded with url: /%E0%A6%95%E0%A6%B0%E0%A7%8B%E0%A6%A8%E0%A6%BE-%E0%A6%B6%E0%A7%87%E0%A6%B7-%E0%A6%AE%E0%A6%B9%E0%A6%BE%E0%A6%AE%E0%A6%BE%E0%A6%B0%E0%A6%BF-%E0%A6%A8%E0%A7%9F%E0%A6%83-%E0%A6%B9%E0%A7%81/ (Caused by ResponseError('too many 503 error responses'))\n",
            "ERROR:trafilatura.utils:parsing failed: Document is empty\n"
          ],
          "name": "stderr"
        },
        {
          "output_type": "stream",
          "text": [
            "Description Updated\n",
            "1317\n",
            "Link Type\n",
            "https://shikshabarta.com/%e0%a6%95%e0%a6%b0%e0%a7%8b%e0%a6%a8%e0%a6%be-%e0%a6%b6%e0%a7%87%e0%a6%b7-%e0%a6%ae%e0%a6%b9%e0%a6%be%e0%a6%ae%e0%a6%be%e0%a6%b0%e0%a6%bf-%e0%a6%a8%e0%a7%9f%e0%a6%83-%e0%a6%b9%e0%a7%81/\n",
            "None\n",
            "dropped\n",
            "1318\n",
            "Link Type\n",
            "https://sports.bdtribunes24.com/%e0%a7%a7%e0%a7%ad-%e0%a6%ab%e0%a7%87%e0%a6%ac%e0%a7%8d%e0%a6%b0%e0%a7%81%e0%a6%af%e0%a6%bc%e0%a6%be%e0%a6%b0%e0%a6%bf-%e0%a6%ac%e0%a6%be%e0%a6%82%e0%a6%b2%e0%a6%be%e0%a6%a6%e0%a7%87%e0%a6%b6/\n",
            "Description Updated\n",
            "1319\n",
            "Link Type\n",
            "https://wp.me/pb1qmk-4re\n"
          ],
          "name": "stdout"
        },
        {
          "output_type": "stream",
          "text": [
            "ERROR:trafilatura.core:not enough text None\n",
            "ERROR:trafilatura.utils:retries/redirects: https://www.ourislam24.com/2020/12/31/%e0%a7%a7%e0%a7%a8-%e0%a6%a6%e0%a6%bf%e0%a6%a8%e0%a7%87%e0%a6%b0-%e0%a6%ae%e0%a6%a7%e0%a7%8d%e0%a6%af%e0%a7%87-%e0%a6%b6%e0%a6%bf%e0%a6%95%e0%a7%8d%e0%a6%b7%e0%a6%be%e0%a6%b0%e0%a7%8d%e0%a6%a5/ HTTPSConnectionPool(host='www.ourislam24.com', port=443): Max retries exceeded with url: /2020/12/31/%E0%A7%A7%E0%A7%A8-%E0%A6%A6%E0%A6%BF%E0%A6%A8%E0%A7%87%E0%A6%B0-%E0%A6%AE%E0%A6%A7%E0%A7%8D%E0%A6%AF%E0%A7%87-%E0%A6%B6%E0%A6%BF%E0%A6%95%E0%A7%8D%E0%A6%B7%E0%A6%BE%E0%A6%B0%E0%A7%8D%E0%A6%A5/ (Caused by ResponseError('too many 503 error responses'))\n",
            "ERROR:trafilatura.utils:parsing failed: Document is empty\n"
          ],
          "name": "stderr"
        },
        {
          "output_type": "stream",
          "text": [
            "Description Updated\n",
            "1320\n",
            "Status Type\n",
            "Continuing\n",
            "1321\n",
            "Status Type\n",
            "Continuing\n",
            "1322\n",
            "Link Type\n",
            "https://www.ourislam24.com/2020/12/31/%e0%a7%a7%e0%a7%a8-%e0%a6%a6%e0%a6%bf%e0%a6%a8%e0%a7%87%e0%a6%b0-%e0%a6%ae%e0%a6%a7%e0%a7%8d%e0%a6%af%e0%a7%87-%e0%a6%b6%e0%a6%bf%e0%a6%95%e0%a7%8d%e0%a6%b7%e0%a6%be%e0%a6%b0%e0%a7%8d%e0%a6%a5/\n",
            "None\n",
            "dropped\n",
            "1323\n",
            "Link Type\n",
            "https://enews.bd24report.com/2020/12/28/%e0%a6%8f%e0%a6%ac%e0%a6%be%e0%a6%b0-%e0%a6%a8%e0%a6%a4%e0%a7%81%e0%a6%a8-%e0%a6%95%e0%a6%b0%e0%a7%8b%e0%a6%a8%e0%a6%be-%e0%a6%b6%e0%a6%a8%e0%a6%be%e0%a6%95%e0%a7%8d%e0%a6%a4-%e0%a6%b9%e0%a6%b2/\n",
            "Description Updated\n",
            "1324\n",
            "Link Type\n",
            "https://mzamin.com/article.php?mzamin=256419\n",
            "Description Updated\n",
            "1325\n",
            "Link Type\n",
            "https://www.jagonews24.com/national/news/632972\n",
            "Description Updated\n",
            "1326\n",
            "Link Type\n",
            "https://www.dailyinqilab.com/article/346599/%E0%A6%B0%E0%A6%BE%E0%A6%B8%E0%A6%BF%E0%A6%95-%E0%A6%95%E0%A6%B0%E0%A7%8D%E0%A6%AE%E0%A7%80%E0%A6%A6%E0%A7%87%E0%A6%B0-%E0%A6%AE%E0%A6%BE%E0%A6%9D%E0%A7%87-%E0%A6%95%E0%A6%AE%E0%A7%8D%E0%A6%AC%E0%A6%B2-%E0%A6%93-%E0%A6%B8%E0%A6%BE%E0%A6%AC%E0%A6%BE%E0%A6%A8-%E0%A6%AC%E0%A6%BF%E0%A6%A4%E0%A6%B0%E0%A6%A3\n",
            "Description Updated\n",
            "1327\n",
            "Link Type\n",
            "https://www.banglatribune.com/country/news/659341/%E0%A6%A6%E0%A6%BF%E0%A6%A8%E0%A6%BE%E0%A6%9C%E0%A6%AA%E0%A7%81%E0%A6%B0%E0%A7%87-%E0%A6%AC%E0%A6%BE%E0%A7%9C%E0%A6%9B%E0%A7%87-%E0%A6%95%E0%A6%B0%E0%A7%8B%E0%A6%A8%E0%A6%BE%E0%A7%9F-%E0%A6%86%E0%A6%95%E0%A7%8D%E0%A6%B0%E0%A6%BE%E0%A6%A8%E0%A7%8D%E0%A6%A4%E0%A7%87%E0%A6%B0-%E0%A6%B8%E0%A6%82%E0%A6%96%E0%A7%8D%E0%A6%AF%E0%A6%BE-%E0%A6%AA%E0%A7%8D%E0%A6%B0%E0%A6%B8%E0%A7%8D%E0%A6%A4%E0%A7%81%E0%A6%A4\n",
            "Description Updated\n",
            "1328\n",
            "Link Type\n",
            "https://www.somoynews.tv/pages/details/255689/%E0%A6%AE%E0%A6%BE%E0%A6%B2%E0%A7%9F%E0%A7%87%E0%A6%B6%E0%A6%BF%E0%A7%9F%E0%A6%BE%E0%A7%9F-%E0%A6%AC%E0%A6%BE%E0%A6%82%E0%A6%B2%E0%A6%BE%E0%A6%A6%E0%A7%87%E0%A6%B6-%E0%A6%A6%E0%A7%82%E0%A6%A4%E0%A6%BE%E0%A6%AC%E0%A6%BE%E0%A6%B8%E0%A7%87%E0%A6%B0-%E0%A6%86%E0%A6%82%E0%A6%B6%E0%A6%BF%E0%A6%95-%E0%A6%95%E0%A6%BE%E0%A6%B0%E0%A7%8D%E0%A6%AF%E0%A6%95%E0%A7%8D%E0%A6%B0%E0%A6%AE-%E0%A6%AC%E0%A6%A8%E0%A7%8D%E0%A6%A7\n",
            "Description Updated\n",
            "1329\n",
            "Link Type\n",
            "https://www.jugantor.com/covid-19/379065/%E0%A6%95%E0%A6%B0%E0%A7%8B%E0%A6%A8%E0%A6%BE-%E0%A6%B6%E0%A6%AA%E0%A6%A5-%E0%A6%A8%E0%A7%87%E0%A7%9F%E0%A6%BE%E0%A6%B0-%E0%A6%86%E0%A6%97%E0%A7%87-%E0%A6%AE%E0%A6%BE%E0%A6%B0%E0%A6%BE-%E0%A6%97%E0%A7%87%E0%A6%B2%E0%A7%87%E0%A6%A8-%E0%A6%AE%E0%A6%BE%E0%A6%B0%E0%A7%8D%E0%A6%95%E0%A6%BF%E0%A6%A8-%E0%A6%86%E0%A6%87%E0%A6%A8%E0%A6%AA%E0%A7%8D%E0%A6%B0%E0%A6%A3%E0%A7%87%E0%A6%A4%E0%A6%BE\n",
            "Description Updated\n",
            "1330\n",
            "Link Type\n",
            "https://www.banglanews24.com/daily-chittagong/news/bd/832273.details\n",
            "Description Updated\n",
            "1331\n",
            "Link Type\n",
            "https://news.viewer.com.bd/2020/12/28/%e0%a6%ae%e0%a6%be%e0%a6%b2%e0%a7%9f%e0%a7%87%e0%a6%b6%e0%a6%bf%e0%a7%9f%e0%a6%be%e0%a7%9f-%e0%a6%ac%e0%a6%bf%e0%a6%a6%e0%a7%87%e0%a6%b6%e0%a7%80-%e0%a6%b6%e0%a7%8d%e0%a6%b0%e0%a6%ae%e0%a6%bf%e0%a6%95/\n",
            "Description Updated\n",
            "1332\n",
            "Link Type\n",
            "https://ekushernews.com/?p=23152\n",
            "Description Updated\n",
            "1333\n",
            "Link Type\n",
            "https://gulfbangla.com/news/8060\n"
          ],
          "name": "stdout"
        },
        {
          "output_type": "stream",
          "text": [
            "WARNING:trafilatura.metadata:no main title found\n",
            "WARNING:trafilatura.metadata:no h2 title found\n",
            "ERROR:trafilatura.core:not enough text None\n"
          ],
          "name": "stderr"
        },
        {
          "output_type": "stream",
          "text": [
            "Description Updated\n",
            "1334\n",
            "Status Type\n",
            "Continuing\n",
            "1335\n",
            "Link Type\n",
            "http://spicynews24.com/%e0%a6%aa%e0%a7%8d%e0%a6%b0%e0%a6%ac%e0%a6%be%e0%a6%b8%e0%a7%80%e0%a6%a6%e0%a7%87%e0%a6%b0-%e0%a6%9c%e0%a6%a8%e0%a7%8d%e0%a6%af-%e0%a6%95%e0%a6%b0%e0%a7%8b%e0%a6%a8%e0%a6%be-%e0%a6%aa%e0%a6%b0/\n",
            "Description Updated\n",
            "1336\n",
            "Link Type\n",
            "https://www.anandabazar.com/national/cbse-class-10-and-12-board-examinations-dates-for-2021-announced-dgtl-1.1252345?utm_source=facebook&utm_medium=social&utm_campaign=daily\n",
            "Description Updated\n",
            "1337\n",
            "Link Type\n",
            "https://www.banglanews24.com/education/news/bd/832129.details\n",
            "Description Updated\n",
            "1338\n",
            "Link Type\n",
            "https://primaryeduinfo.com/%e0%a6%ae%e0%a6%be%e0%a6%a8%e0%a6%a8%e0%a7%80%e0%a7%9f-%e0%a6%aa%e0%a7%8d%e0%a6%b0%e0%a6%a7%e0%a6%be%e0%a6%a8%e0%a6%ae%e0%a6%a8%e0%a7%8d%e0%a6%a4%e0%a7%8d%e0%a6%b0%e0%a7%80-%e0%a6%86%e0%a6%9c/\n",
            "Description Updated\n",
            "1339\n",
            "Link Type\n",
            "https://banglatraffic.com/bn/%E0%A6%93%E0%A6%AE%E0%A6%B0%E0%A6%BE%E0%A6%B9-%E0%A6%AA%E0%A6%BE%E0%A6%B2%E0%A6%A8%E0%A7%87-%E0%A7%AB%E0%A7%A6-%E0%A6%B2%E0%A6%BE%E0%A6%96-%E0%A6%AE%E0%A6%BE%E0%A6%A8%E0%A7%81%E0%A6%B7-%E0%A6%95/\n",
            "Description Updated\n",
            "1340\n",
            "Status Type\n",
            "Continuing\n",
            "1341\n",
            "Link Type\n",
            "https://www.banglatribune.com/others/news/659884/%E0%A6%95%E0%A6%B0%E0%A7%8B%E0%A6%A8%E0%A6%BE-%E0%A6%86%E0%A6%95%E0%A7%8D%E0%A6%B0%E0%A6%BE%E0%A6%A8%E0%A7%8D%E0%A6%A4-%E0%A6%B9%E0%A7%9F%E0%A7%87-%E0%A6%86%E0%A6%B0%E0%A6%93-%E0%A6%8F%E0%A6%95-%E0%A6%9A%E0%A6%BF%E0%A6%95%E0%A6%BF%E0%A7%8E%E0%A6%B8%E0%A6%95%E0%A7%87%E0%A6%B0-%E0%A6%AE%E0%A7%83%E0%A6%A4%E0%A7%8D%E0%A6%AF%E0%A7%81\n",
            "Description Updated\n",
            "1342\n",
            "Link Type\n",
            "https://www.somoynews.tv/pages/details/254883\n",
            "Description Updated\n",
            "1343\n",
            "Link Type\n",
            "http://www.kalerkantho.com/online/national/2020/12/28/989825\n",
            "Description Updated\n",
            "1344\n",
            "Link Type\n",
            "https://www.thedailystar.net/bangla/%E0%A6%B6%E0%A7%80%E0%A6%B0%E0%A7%8D%E0%A6%B7-%E0%A6%96%E0%A6%AC%E0%A6%B0/%E0%A6%86%E0%A6%B0%E0%A6%93-%E0%A6%AC%E0%A7%9C-%E0%A6%AE%E0%A6%B9%E0%A6%BE%E0%A6%AE%E0%A6%BE%E0%A6%B0%E0%A6%BF-%E0%A6%86%E0%A6%B8%E0%A6%A4%E0%A7%87-%E0%A6%AA%E0%A6%BE%E0%A6%B0%E0%A7%87-%E0%A6%B8%E0%A6%BE%E0%A6%AE%E0%A6%A8%E0%A7%87-%E0%A6%AC%E0%A6%BF%E0%A6%B6%E0%A7%8D%E0%A6%AC-%E0%A6%B8%E0%A7%8D%E0%A6%AC%E0%A6%BE%E0%A6%B8%E0%A7%8D%E0%A6%A5%E0%A7%8D%E0%A6%AF-%E0%A6%B8%E0%A6%82%E0%A6%B8%E0%A7%8D%E0%A6%A5%E0%A6%BE-195405\n",
            "Description Updated\n",
            "1345\n",
            "Link Type\n",
            "https://www.banglatribune.com/national/news/659946/%E0%A6%86%E0%A6%97%E0%A6%BE%E0%A6%AE%E0%A7%80%E0%A6%95%E0%A6%BE%E0%A6%B2-%E0%A6%AC%E0%A6%87-%E0%A6%89%E0%A7%8E%E0%A6%B8%E0%A6%AC%E0%A7%87%E0%A6%B0-%E0%A6%89%E0%A6%A6%E0%A7%8D%E0%A6%AC%E0%A7%8B%E0%A6%A7%E0%A6%A8-%E0%A6%95%E0%A6%B0%E0%A6%AC%E0%A7%87%E0%A6%A8-%E0%A6%AA%E0%A7%8D%E0%A6%B0%E0%A6%A7%E0%A6%BE%E0%A6%A8%E0%A6%AE%E0%A6%A8%E0%A7%8D%E0%A6%A4%E0%A7%8D%E0%A6%B0%E0%A7%80\n",
            "Description Updated\n",
            "1346\n",
            "Status Type\n",
            "Continuing\n",
            "1347\n",
            "Link Type\n",
            "https://dbcnews.tv/news/%E0%A6%95%E0%A6%B0%E0%A7%8B%E0%A6%A8%E0%A6%BE-%E0%A6%89%E0%A6%AA%E0%A7%87%E0%A6%95%E0%A7%8D%E0%A6%B7%E0%A6%BE-%E0%A6%95%E0%A6%B0%E0%A7%87-%E0%A6%AA%E0%A6%B0%E0%A7%8D%E0%A6%AF%E0%A6%9F%E0%A6%A8%E0%A6%95%E0%A7%87%E0%A6%A8%E0%A7%8D%E0%A6%A6%E0%A7%8D%E0%A6%B0%E0%A7%87-%E0%A6%AD%E0%A6%BF%E0%A7%9C-%E0%A6%AC%E0%A6%BE%E0%A6%A8%E0%A7%8D%E0%A6%A6%E0%A6%B0%E0%A6%AC%E0%A6%BE%E0%A6%A8%E0%A7%87-%E0%A6%85%E0%A6%A8%E0%A7%87%E0%A6%95%E0%A7%87%E0%A6%B0-%E0%A6%AE%E0%A7%81%E0%A6%96%E0%A7%87-%E0%A6%A8%E0%A7%87%E0%A6%87-%E0%A6%AE%E0%A6%BE%E0%A6%B8%E0%A7%8D%E0%A6%95\n",
            "Description Updated\n",
            "1348\n",
            "Link Type\n",
            "https://www.bd-pratidin.com/coronavirus/2020/12/31/602949\n",
            "Description Updated\n",
            "1349\n",
            "Link Type\n",
            "https://www.kalerkantho.com/online/national/2020/12/28/989987\n",
            "Description Updated\n",
            "1350\n",
            "Link Type\n",
            "https://bengali.abplive.com/news/kolkata-metro-rail-resume-pre-lockcown-normal-service-january-4-2020-776971\n"
          ],
          "name": "stdout"
        },
        {
          "output_type": "stream",
          "text": [
            "ERROR:trafilatura.core:not enough text None\n"
          ],
          "name": "stderr"
        },
        {
          "output_type": "stream",
          "text": [
            "Description Updated\n",
            "1351\n",
            "Status Type\n",
            "Continuing\n",
            "1352\n",
            "Link Type\n",
            "https://www.somoynews.tv/pages/details/254839\n",
            "Description Updated\n",
            "1353\n",
            "Link Type\n",
            "https://www.jeneniin.com/2020/12/29/%E0%A6%87%E0%A6%B8%E0%A6%B2%E0%A6%BE%E0%A6%AE-%E0%A6%A7%E0%A6%B0%E0%A7%8D%E0%A6%AE-%E0%A6%97%E0%A7%8D%E0%A6%B0%E0%A6%B9%E0%A6%A8-%E0%A6%95%E0%A6%B0%E0%A6%B2%E0%A7%87%E0%A6%A8-%E0%A6%85%E0%A6%AD/\n",
            "Description Updated\n",
            "1354\n",
            "Link Type\n",
            "http://businessnewsbd24.com/2020/12/31/%e0%a6%95%e0%a6%b0%e0%a7%8b%e0%a6%a8%e0%a6%be%e0%a6%b0-%e0%a6%ac%e0%a6%9b%e0%a6%b0%e0%a7%87%e0%a6%93-%e0%a6%b6%e0%a6%bf%e0%a6%ac%e0%a6%b2%e0%a7%80-%e0%a6%b0%e0%a7%81%e0%a6%ac%e0%a6%be%e0%a6%87/\n",
            "Description Updated\n",
            "1355\n",
            "Link Type\n",
            "https://on25.net/2020/12/27/335/\n"
          ],
          "name": "stdout"
        },
        {
          "output_type": "stream",
          "text": [
            "ERROR:trafilatura.utils:not a 200 response: 404 for URL https://on25.net/2020/12/27/335/\n",
            "ERROR:trafilatura.utils:this type cannot be processed: <class 'NoneType'>\n"
          ],
          "name": "stderr"
        },
        {
          "output_type": "stream",
          "text": [
            "None\n",
            "dropped\n",
            "1356\n",
            "Status Type\n",
            "Continuing\n",
            "1357\n",
            "Link Type\n",
            "https://assam.news18.com/news/assam/covid-vaccine-dry-run-to-start-in-assam-today-skd-92207.html\n",
            "Description Updated\n",
            "1358\n",
            "Link Type\n",
            "https://banglavision.tv/%e0%a6%9a%e0%a6%9f%e0%a7%8d%e0%a6%9f%e0%a6%97%e0%a7%8d%e0%a6%b0%e0%a6%be%e0%a6%ae/64017/\n"
          ],
          "name": "stdout"
        },
        {
          "output_type": "stream",
          "text": [
            "ERROR:trafilatura.utils:not a 200 response: 404 for URL https://banglavision.tv/%e0%a6%9a%e0%a6%9f%e0%a7%8d%e0%a6%9f%e0%a6%97%e0%a7%8d%e0%a6%b0%e0%a6%be%e0%a6%ae/64017/\n",
            "ERROR:trafilatura.utils:this type cannot be processed: <class 'NoneType'>\n"
          ],
          "name": "stderr"
        },
        {
          "output_type": "stream",
          "text": [
            "None\n",
            "dropped\n",
            "1359\n",
            "Link Type\n",
            "https://www.ittefaq.com.bd/worldnews/209843/%E0%A6%95%E0%A7%8D%E0%A6%B7%E0%A7%81%E0%A6%A6%E0%A7%8D%E0%A6%B0-%E0%A6%AD%E0%A6%BE%E0%A6%87%E0%A6%B0%E0%A6%BE%E0%A6%B8%E0%A7%87%E0%A6%B0-%E0%A6%A6%E0%A6%BE%E0%A6%A8%E0%A6%AC%E0%A7%80%E0%A7%9F-%E0%A6%9A%E0%A7%87%E0%A6%B9%E0%A6%BE%E0%A6%B0%E0%A6%BE\n",
            "Description Updated\n",
            "1360\n",
            "Link Type\n",
            "https://www.jugantor.com/covid-19/379411/%E0%A6%95%E0%A6%B0%E0%A7%8B%E0%A6%A8%E0%A6%BE-%E0%A6%9F%E0%A6%BF%E0%A6%95%E0%A6%BE%E0%A6%B0-%E0%A6%A8%E0%A7%8D%E0%A6%AF%E0%A6%BE%E0%A6%AF%E0%A7%8D%E0%A6%AF-%E0%A6%AC%E0%A6%A3%E0%A7%8D%E0%A6%9F%E0%A6%A8-%E0%A6%9A%E0%A6%BE%E0%A7%9F-%E0%A6%AC%E0%A6%BF%E0%A6%B6%E0%A7%8D%E0%A6%AC-%E0%A6%B8%E0%A7%8D%E0%A6%AC%E0%A6%BE%E0%A6%B8%E0%A7%8D%E0%A6%A5%E0%A7%8D%E0%A6%AF-%E0%A6%B8%E0%A6%82%E0%A6%B8%E0%A7%8D%E0%A6%A5%E0%A6%BE\n",
            "Description Updated\n",
            "1361\n",
            "Link Type\n",
            "https://p.dw.com/p/3nD9U\n",
            "Description Updated\n",
            "1362\n",
            "Link Type\n",
            "https://www.dailynayadiganta.com/asia/552026/%E0%A6%B0%E0%A7%82%E0%A6%AA%E0%A6%BE%E0%A6%A8%E0%A7%8D%E0%A6%A4%E0%A6%B0%E0%A6%BF%E0%A6%A4-%E0%A6%95%E0%A6%B0%E0%A7%8B%E0%A6%A8%E0%A6%BE-%E0%A6%9B%E0%A7%9C%E0%A6%BF%E0%A7%9F%E0%A7%87-%E0%A6%AA%E0%A7%9C%E0%A7%87%E0%A6%9B%E0%A7%87-%E0%A6%A6%E0%A6%95%E0%A7%8D%E0%A6%B7%E0%A6%BF%E0%A6%A3-%E0%A6%95%E0%A7%8B%E0%A6%B0%E0%A6%BF%E0%A7%9F%E0%A6%BE%E0%A6%A4%E0%A7%87%E0%A6%93\n",
            "Description Updated\n",
            "1363\n",
            "Status Type\n",
            "Continuing\n",
            "1364\n",
            "Link Type\n",
            "https://journalbd24.com/national/2020/12/28/20706\n",
            "Description Updated\n",
            "1365\n",
            "Link Type\n",
            "https://www.dailyjanakantha.com/details/article/545932/%E0%A6%B8%E0%A7%8D%E0%A6%95%E0%A7%81%E0%A6%B2-%E0%A6%95%E0%A6%B2%E0%A7%87%E0%A6%9C-%E0%A6%96%E0%A7%81%E0%A6%B2%E0%A6%AC%E0%A7%87-%E0%A6%AB%E0%A7%87%E0%A6%AC%E0%A7%8D%E0%A6%B0%E0%A7%81%E0%A7%9F%E0%A6%BE%E0%A6%B0%E0%A7%80%E0%A6%A4%E0%A7%87-%E0%A6%9C%E0%A7%81%E0%A6%A8%E0%A7%87-%E0%A6%A8%E0%A7%87%E0%A6%93%E0%A7%9F%E0%A6%BE-%E0%A6%B9%E0%A6%AC%E0%A7%87-%E0%A6%8F%E0%A6%B8%E0%A6%8F%E0%A6%B8%E0%A6%B8%E0%A6%BF-%E0%A6%9C%E0%A7%81%E0%A6%B2%E0%A6%BE%E0%A6%87%E0%A7%9F%E0%A7%87-%E0%A6%8F%E0%A6%87%E0%A6%9A%E0%A6%8F%E0%A6%B8%E0%A6%B8%E0%A6%BF/\n",
            "Description Updated\n",
            "1366\n",
            "Link Type\n",
            "https://birohimon.com/archives/105466.php\n",
            "Description Updated\n",
            "1367\n",
            "Status Type\n",
            "Continuing\n",
            "1368\n",
            "Link Type\n",
            "https://www.aviationnewsbd.com/%e0%a6%a8%e0%a6%bf%e0%a6%9c%e0%a7%87%e0%a6%a6%e0%a7%87%e0%a6%b0-%e0%a6%9f%e0%a6%bf%e0%a6%95%e0%a6%be%e0%a7%9f-%e0%a6%95%e0%a6%b0%e0%a7%8b%e0%a6%a8%e0%a6%be%e0%a6%ad%e0%a6%be%e0%a6%87%e0%a6%b0%e0%a6%be/\n"
          ],
          "name": "stdout"
        },
        {
          "output_type": "stream",
          "text": [
            "ERROR:trafilatura.core:not enough text None\n"
          ],
          "name": "stderr"
        },
        {
          "output_type": "stream",
          "text": [
            "Description Updated\n",
            "1369\n",
            "Link Type\n",
            "https://www.kolkata24x7.com/howrah-railway-museum-is-opening/\n",
            "Description Updated\n",
            "1370\n",
            "Link Type\n",
            "https://www.banglatribune.com/foreign/news/659478/%E0%A6%95%E0%A6%B0%E0%A7%8B%E0%A6%A8%E0%A6%BE-%E0%A6%AD%E0%A7%8D%E0%A6%AF%E0%A6%BE%E0%A6%95%E0%A6%B8%E0%A6%BF%E0%A6%A8%E0%A7%87%E0%A6%B0-%E2%80%98%E0%A6%89%E0%A6%87%E0%A6%A8%E0%A6%BF%E0%A6%82-%E0%A6%AB%E0%A6%B0%E0%A7%8D%E0%A6%AE%E0%A7%81%E0%A6%B2%E0%A6%BE%E2%80%99-%E0%A6%AA%E0%A6%BE%E0%A6%93%E0%A7%9F%E0%A6%BE%E0%A6%B0-%E0%A6%A6%E0%A6%BE%E0%A6%AC%E0%A6%BF\n",
            "Description Updated\n",
            "1371\n",
            "Status Type\n",
            "Continuing\n",
            "1372\n",
            "Status Type\n",
            "Continuing\n",
            "1373\n",
            "Status Type\n",
            "Continuing\n",
            "1374\n",
            "Link Type\n",
            "https://notout.com.bd/ViewDetails.aspx?PostID=6724&Title=%E0%A6%9F%E0%A7%87%E0%A6%B8%E0%A7%8D%E0%A6%9F+%E0%A6%AE%E0%A7%8D%E0%A6%AF%E0%A6%BE%E0%A6%9A+%E0%A6%AA%E0%A6%B0%E0%A6%BF%E0%A6%9A%E0%A6%BE%E0%A6%B2%E0%A6%A8%E0%A6%BE+%E0%A6%95%E0%A6%B0%E0%A6%BE+%E0%A6%B8%E0%A7%8C%E0%A6%AD%E0%A6%BE%E0%A6%97%E0%A7%8D%E0%A6%AF%E0%A7%87%E0%A6%B0+%E0%A6%AC%E0%A7%8D%E0%A6%AF%E0%A6%BE%E0%A6%AA%E0%A6%BE%E0%A6%B0%E0%A6%83+%E0%A6%8F%E0%A6%A8%E0%A6%BE%E0%A6%AE%E0%A7%81%E0%A6%B2+%E0%A6%B9%E0%A6%95\n",
            "Description Updated\n",
            "1375\n",
            "Link Type\n",
            "https://www.somoynews.tv/pages/details/255348\n"
          ],
          "name": "stdout"
        },
        {
          "output_type": "stream",
          "text": [
            "WARNING:trafilatura.utils:wrong encoding detected: utf-8\n"
          ],
          "name": "stderr"
        },
        {
          "output_type": "stream",
          "text": [
            "Description Updated\n",
            "1376\n",
            "Status Type\n",
            "Continuing\n",
            "1377\n",
            "Status Type\n",
            "Continuing\n",
            "1378\n",
            "Link Type\n",
            "https://www.channelionline.com/%e0%a6%a8%e0%a6%be%e0%a6%b0%e0%a7%80-%e0%a6%a6%e0%a6%b2%e0%a7%87%e0%a6%b0-%e0%a6%95%e0%a7%8d%e0%a6%af%e0%a6%be%e0%a6%ae%e0%a7%8d%e0%a6%aa%e0%a7%87-%e0%a6%a1%e0%a6%be%e0%a6%95/\n"
          ],
          "name": "stdout"
        },
        {
          "output_type": "stream",
          "text": [
            "ERROR:trafilatura.core:not enough text None\n"
          ],
          "name": "stderr"
        },
        {
          "output_type": "stream",
          "text": [
            "Description Updated\n",
            "1379\n",
            "Link Type\n",
            "https://www.ittefaq.com.bd/national/209703/%E0%A6%A1%E0%A6%BF%E0%A6%9C%E0%A6%BF%E0%A6%9F%E0%A6%BE%E0%A6%B2-%E0%A6%B8%E0%A7%87%E0%A6%AC%E0%A6%BE-%E0%A6%A8%E0%A6%BE-%E0%A6%A5%E0%A6%BE%E0%A6%95%E0%A6%B2%E0%A7%87-%E0%A6%AC%E0%A6%BF%E0%A6%B6%E0%A7%8D%E0%A6%AC-%E0%A6%A5%E0%A7%87%E0%A6%95%E0%A7%87-%E0%A6%AC%E0%A6%BF%E0%A6%9A%E0%A7%8D%E0%A6%9B%E0%A6%BF%E0%A6%A8%E0%A7%8D%E0%A6%A8-%E0%A6%B9%E0%A7%9F%E0%A7%87-%E0%A6%AF%E0%A7%87%E0%A6%A4%E0%A6%BE%E0%A6%AE-%E0%A6%A8%E0%A7%8C-%E0%A6%AA%E0%A7%8D%E0%A6%B0%E0%A6%A4%E0%A6%BF%E0%A6%AE%E0%A6%A8%E0%A7%8D%E0%A6%A4%E0%A7%8D%E0%A6%B0%E0%A7%80\n",
            "Description Updated\n",
            "1380\n",
            "Link Type\n",
            "https://www.ntvbd.com/world/%E0%A6%B6%E0%A6%99%E0%A7%8D%E0%A6%95%E0%A6%BE-%E0%A6%AF%E0%A7%81%E0%A6%A6%E0%A7%8D%E0%A6%A7-%E0%A6%AC%E0%A6%BF%E0%A6%95%E0%A7%8D%E0%A6%B7%E0%A7%8B%E0%A6%AD-%E0%A6%86%E0%A6%B0-%E0%A6%86%E0%A6%B6%E0%A6%BE-%E0%A6%A8%E0%A6%BF%E0%A7%9F%E0%A7%87-%E0%A6%98%E0%A6%9F%E0%A6%A8%E0%A6%BE%E0%A6%AC%E0%A6%B9%E0%A7%81%E0%A6%B2-%E0%A6%AC%E0%A6%9B%E0%A6%B0-847505\n",
            "Description Updated\n",
            "1381\n",
            "Status Type\n",
            "Continuing\n",
            "1382\n",
            "Link Type\n",
            "https://www.thedailystar.net/frontpage/news/no-covid-vaccine-under-18s-2018137\n",
            "Description Updated\n",
            "1383\n",
            "Link Type\n",
            "https://enews.bd24report.com/2020/12/28/%e0%a6%87%e0%a6%a4%e0%a6%bf%e0%a6%b9%e0%a6%be%e0%a6%b8-%e0%a6%b8%e0%a6%be%e0%a6%95%e0%a7%8d%e0%a6%b7%e0%a7%80-%e0%a6%8f%e0%a6%9f%e0%a6%be%e0%a6%87-%e0%a6%b6%e0%a7%87%e0%a6%b7-%e0%a6%ae%e0%a6%b9/\n",
            "Description Updated\n",
            "1384\n",
            "Link Type\n",
            "https://www.channelionline.com/%e0%a6%ac%e0%a6%bf%e0%a6%b6%e0%a7%87%e0%a6%b0-%e0%a6%a8%e0%a6%ac%e0%a6%a6%e0%a6%ae%e0%a7%8d%e0%a6%aa%e0%a6%a4%e0%a6%bf-%e0%a6%8f%e0%a6%95-%e0%a6%a8%e0%a6%9c%e0%a6%b0%e0%a7%87-%e0%a6%b9%e0%a6%b2/\n"
          ],
          "name": "stdout"
        },
        {
          "output_type": "stream",
          "text": [
            "ERROR:trafilatura.core:not enough text None\n"
          ],
          "name": "stderr"
        },
        {
          "output_type": "stream",
          "text": [
            "Description Updated\n",
            "1385\n",
            "Status Type\n",
            "Continuing\n",
            "1386\n",
            "Link Type\n",
            "https://dbcnews.tv/news/%E0%A6%95%E0%A6%B0%E0%A7%8B%E0%A6%A8%E0%A6%BE-%E0%A6%B6%E0%A6%A8%E0%A6%BE%E0%A6%95%E0%A7%8D%E0%A6%A4%E0%A7%87%E0%A6%B0-%E0%A7%A8%E0%A7%AF%E0%A7%AD%E0%A6%A4%E0%A6%AE-%E0%A6%A6%E0%A6%BF%E0%A6%A8%E0%A7%87-%E0%A7%A9%E0%A7%A6-%E0%A6%9C%E0%A6%A8%E0%A7%87%E0%A6%B0-%E0%A6%AA%E0%A7%8D%E0%A6%B0%E0%A6%BE%E0%A6%A3%E0%A6%B9%E0%A6%BE%E0%A6%A8%E0%A6%BF\n",
            "Description Updated\n",
            "1387\n",
            "Link Type\n",
            "http://www.dainikamadershomoy.com/post/293685\n",
            "Description Updated\n",
            "1388\n",
            "Link Type\n",
            "https://jamuna.tv/news/194648\n",
            "Description Updated\n",
            "1389\n",
            "Link Type\n",
            "https://www.sangbadpratidin.in/kolkata/another-police-officer-of-kolkata-passes-away-due-to-corona-virus/\n",
            "Description Updated\n",
            "1390\n",
            "Link Type\n",
            "https://www.jagonews24.com/international/news/632337\n",
            "Description Updated\n",
            "1391\n",
            "Link Type\n",
            "https://www.voabangla.com/a/no-signature-on-corona-relief/5714824.html\n",
            "Description Updated\n",
            "1392\n",
            "Status Type\n",
            "Continuing\n",
            "1393\n",
            "Status Type\n",
            "Continuing\n",
            "1394\n",
            "Status Type\n",
            "Continuing\n",
            "1395\n",
            "Link Type\n",
            "https://banglanews24.com/international/news/bd/831883.details\n"
          ],
          "name": "stdout"
        },
        {
          "output_type": "stream",
          "text": [
            "WARNING:trafilatura.core:unexpected in p: div \n",
            " \n",
            "\n"
          ],
          "name": "stderr"
        },
        {
          "output_type": "stream",
          "text": [
            "Description Updated\n",
            "1396\n",
            "Status Type\n",
            "Continuing\n",
            "1397\n",
            "Status Type\n",
            "Continuing\n",
            "1398\n",
            "Link Type\n",
            "https://jagoronnews.com/%e0%a6%93%e0%a6%ae%e0%a6%b0%e0%a6%be%e0%a6%b9-%e0%a6%aa%e0%a6%be%e0%a6%b2%e0%a6%a8%e0%a7%87-%e0%a7%ab%e0%a7%a6-%e0%a6%b2%e0%a6%be%e0%a6%96-%e0%a6%ae%e0%a6%be%e0%a6%a8%e0%a7%81%e0%a6%b7-%e0%a6%95/\n",
            "Description Updated\n",
            "1399\n",
            "Link Type\n",
            "https://bangla.dhakatribune.com/international/2020/12/30/30511/%E0%A6%AB%E0%A6%BE%E0%A6%87%E0%A6%9C%E0%A6%BE%E0%A6%B0%E0%A7%87%E0%A6%B0-%E0%A6%9F%E0%A6%BF%E0%A6%95%E0%A6%BE-%E0%A6%A8%E0%A7%87%E0%A6%93%E0%A6%AF%E0%A6%BC%E0%A6%BE%E0%A6%B0-%E0%A6%AA%E0%A6%B0%E0%A6%93-%E0%A6%95%E0%A7%8B%E0%A6%AD%E0%A6%BF%E0%A6%A1-%E0%A6%86%E0%A6%95%E0%A7%8D%E0%A6%B0%E0%A6%BE%E0%A6%A8%E0%A7%8D%E0%A6%A4-%E0%A6%A8%E0%A6%BE%E0%A6%B0%E0%A7%8D%E0%A6%B8/\n",
            "Description Updated\n",
            "1400\n",
            "Link Type\n",
            "https://banglatraffic.com/bn/%E0%A6%93%E0%A6%AE%E0%A6%B0%E0%A6%BE%E0%A6%B9-%E0%A6%AA%E0%A6%BE%E0%A6%B2%E0%A6%A8%E0%A7%87-%E0%A7%AB%E0%A7%A6-%E0%A6%B2%E0%A6%BE%E0%A6%96-%E0%A6%AE%E0%A6%BE%E0%A6%A8%E0%A7%81%E0%A6%B7-%E0%A6%95/\n",
            "Description Updated\n",
            "1401\n",
            "Link Type\n",
            "https://p.dw.com/p/3nLgM\n",
            "Description Updated\n",
            "1402\n",
            "Link Type\n",
            "https://wp.me/pb1qmk-4pR\n"
          ],
          "name": "stdout"
        },
        {
          "output_type": "stream",
          "text": [
            "ERROR:trafilatura.core:not enough text None\n"
          ],
          "name": "stderr"
        },
        {
          "output_type": "stream",
          "text": [
            "Description Updated\n",
            "1403\n",
            "Link Type\n",
            "http://chattogramnews.com/news-view/17400?n=%E0%A6%95%E0%A6%B0%E0%A7%8B%E0%A6%A8%E0%A6%BE%3A+%E0%A6%97%E0%A6%A4+%E0%A7%A8%E0%A7%AA+%E0%A6%98%E0%A6%A3%E0%A7%8D%E0%A6%9F%E0%A6%BE%E0%A7%9F+%E0%A6%95%E0%A6%B0%E0%A7%8B%E0%A6%A8%E0%A6%BE%E0%A7%9F+%E0%A6%AE%E0%A7%83%E0%A6%A4%E0%A7%8D%E0%A6%AF%E0%A7%81+%E0%A7%A8%E0%A7%AD%2C+%E0%A6%B6%E0%A6%A8%E0%A6%BE%E0%A6%95%E0%A7%8D%E0%A6%A4+%E0%A7%AF%E0%A7%A9%E0%A7%A8\n"
          ],
          "name": "stdout"
        },
        {
          "output_type": "stream",
          "text": [
            "ERROR:trafilatura.utils:not a 200 response: 403 for URL https://samakal.com/international/article/201247709/%E0%A6%95%E0%A6%AD%E0%A6%BF%E0%A6%A1-%E0%A6%A5%E0%A7%87%E0%A6%95%E0%A7%87-%E0%A6%B6%E0%A6%BF%E0%A6%95%E0%A7%8D%E0%A6%B7%E0%A6%BE-%E0%A6%A8%E0%A6%BF%E0%A6%A8-%E0%A6%8F%E0%A6%9F%E0%A6%BE%E0%A6%87-%E0%A6%B6%E0%A7%87%E0%A6%B7-%E0%A6%AE%E0%A6%B9%E0%A6%BE%E0%A6%AE%E0%A6%BE%E0%A6%B0%E0%A6%BF-%E0%A6%A8%E0%A7%9F-%E0%A6%AC%E0%A6%BF%E0%A6%B6%E0%A7%8D%E0%A6%AC-%E0%A6%B8%E0%A7%8D%E0%A6%AC%E0%A6%BE%E0%A6%B8%E0%A7%8D%E0%A6%A5%E0%A7%8D%E0%A6%AF-%E0%A6%B8%E0%A6%82%E0%A6%B8%E0%A7%8D%E0%A6%A5%E0%A6%BE\n",
            "ERROR:trafilatura.utils:this type cannot be processed: <class 'NoneType'>\n"
          ],
          "name": "stderr"
        },
        {
          "output_type": "stream",
          "text": [
            "Description Updated\n",
            "1404\n",
            "Status Type\n",
            "Continuing\n",
            "1405\n",
            "Link Type\n",
            "https://samakal.com/international/article/201247709/%E0%A6%95%E0%A6%AD%E0%A6%BF%E0%A6%A1-%E0%A6%A5%E0%A7%87%E0%A6%95%E0%A7%87-%E0%A6%B6%E0%A6%BF%E0%A6%95%E0%A7%8D%E0%A6%B7%E0%A6%BE-%E0%A6%A8%E0%A6%BF%E0%A6%A8-%E0%A6%8F%E0%A6%9F%E0%A6%BE%E0%A6%87-%E0%A6%B6%E0%A7%87%E0%A6%B7-%E0%A6%AE%E0%A6%B9%E0%A6%BE%E0%A6%AE%E0%A6%BE%E0%A6%B0%E0%A6%BF-%E0%A6%A8%E0%A7%9F-%E0%A6%AC%E0%A6%BF%E0%A6%B6%E0%A7%8D%E0%A6%AC-%E0%A6%B8%E0%A7%8D%E0%A6%AC%E0%A6%BE%E0%A6%B8%E0%A7%8D%E0%A6%A5%E0%A7%8D%E0%A6%AF-%E0%A6%B8%E0%A6%82%E0%A6%B8%E0%A7%8D%E0%A6%A5%E0%A6%BE\n",
            "None\n",
            "dropped\n",
            "1406\n",
            "Link Type\n",
            "http://newzwhois.com/archives/13859\n",
            "Description Updated\n",
            "1407\n",
            "Status Type\n",
            "Continuing\n",
            "1408\n",
            "Link Type\n",
            "https://news.viewer.com.bd/2020/12/29/%e0%a6%b8%e0%a7%8c%e0%a6%a6%e0%a6%bf-%e0%a6%b8%e0%a7%8d%e0%a6%ac%e0%a6%be%e0%a6%b8%e0%a7%8d%e0%a6%a5%e0%a7%8d%e0%a6%af-%e0%a6%ae%e0%a6%a8%e0%a7%8d%e0%a6%a4%e0%a7%8d%e0%a6%b0%e0%a6%a8%e0%a6%be%e0%a6%b2/\n",
            "Description Updated\n",
            "1409\n",
            "Link Type\n",
            "http://www.dhakarbarta.com/?p=119216\n",
            "Description Updated\n",
            "1410\n",
            "Link Type\n",
            "https://dainikazadi.net/%e0%a6%89%e0%a6%b9%e0%a6%be%e0%a6%a8%e0%a7%87-%e0%a6%86%e0%a6%95%e0%a7%8d%e0%a6%b0%e0%a6%be%e0%a6%a8%e0%a7%8d%e0%a6%a4-%e0%a6%b9%e0%a6%bf%e0%a6%b8%e0%a6%be%e0%a6%ac%e0%a7%87%e0%a6%b0-%e0%a7%a7/\n",
            "Description Updated\n",
            "1411\n",
            "Link Type\n",
            "https://www.bangladeshtoday.net/%e0%a6%ad%e0%a7%8d%e0%a6%af%e0%a6%be%e0%a6%95%e0%a6%b8%e0%a6%bf%e0%a6%a8-%e0%a6%97%e0%a7%8d%e0%a6%b0%e0%a6%b9%e0%a6%a3%e0%a7%87%e0%a6%b0-%e0%a7%ae-%e0%a6%a6%e0%a6%bf%e0%a6%a8-%e0%a6%aa%e0%a6%b0/\n"
          ],
          "name": "stdout"
        },
        {
          "output_type": "stream",
          "text": [
            "ERROR:trafilatura.core:not enough text None\n"
          ],
          "name": "stderr"
        },
        {
          "output_type": "stream",
          "text": [
            "Description Updated\n",
            "1412\n",
            "Status Type\n",
            "Continuing\n",
            "1413\n",
            "Link Type\n",
            "http://worldlivenewz.com/archives/17058\n",
            "Description Updated\n",
            "1414\n",
            "Link Type\n",
            "https://bijoytimes.com/%E0%A6%B9%E0%A6%9C%E0%A7%87-%E0%A6%97%E0%A6%BF%E0%A7%9F%E0%A7%87-%E0%A6%95%E0%A7%87%E0%A6%89-%E0%A6%95%E0%A6%B0%E0%A7%8B%E0%A6%A8%E0%A6%BE-%E0%A6%86%E0%A6%95%E0%A7%8D%E0%A6%B0%E0%A6%BE%E0%A6%A8/\n",
            "Description Updated\n",
            "1415\n",
            "Link Type\n",
            "https://gulfbangla.com/news/8037\n"
          ],
          "name": "stdout"
        },
        {
          "output_type": "stream",
          "text": [
            "WARNING:trafilatura.metadata:no main title found\n",
            "WARNING:trafilatura.metadata:no h2 title found\n",
            "ERROR:trafilatura.core:not enough text None\n"
          ],
          "name": "stderr"
        },
        {
          "output_type": "stream",
          "text": [
            "Description Updated\n",
            "1416\n",
            "Status Type\n",
            "Continuing\n",
            "1417\n",
            "Link Type\n",
            "https://bdlastupdate.com/news/43333/\n",
            "Description Updated\n",
            "1418\n",
            "Link Type\n",
            "https://www.jugantor.com/covid-19/378810/%E0%A6%A5%E0%A6%BE%E0%A6%B0%E0%A7%8D%E0%A6%9F%E0%A6%BF-%E0%A6%AB%E0%A6%BE%E0%A6%B0%E0%A7%8D%E0%A6%B8%E0%A7%8D%E0%A6%9F%E0%A7%87%E0%A6%B0-%E0%A6%85%E0%A6%A8%E0%A7%81%E0%A6%B7%E0%A7%8D%E0%A6%A0%E0%A6%BE%E0%A6%A8-%E0%A6%A8%E0%A6%BF%E0%A7%9F%E0%A7%87-%E0%A6%86%E0%A6%B0%E0%A6%8F%E0%A6%AE%E0%A6%AA%E0%A6%BF%E0%A6%B0-%E0%A6%A8%E0%A6%BF%E0%A6%B0%E0%A7%8D%E0%A6%A6%E0%A7%87%E0%A6%B6%E0%A6%A8%E0%A6%BE\n",
            "Description Updated\n",
            "1419\n",
            "Link Type\n",
            "https://eisamay.indiatimes.com/west-bengal-news/kolkata-news/within-last-24-hours-1028-people-effected-by-coronavirus-in-west-bengal-dead-27/articleshow/79996174.cms\n",
            "Description Updated\n",
            "1420\n",
            "Status Type\n",
            "Continuing\n",
            "1421\n",
            "Status Type\n",
            "Continuing\n",
            "1422\n",
            "Link Type\n",
            "http://spicynews24.com/%e0%a6%b8%e0%a7%8c%e0%a6%a6%e0%a6%bf%e0%a6%a4%e0%a7%87-%e0%a6%ac%e0%a6%bf%e0%a6%ae%e0%a6%be%e0%a6%a8-%e0%a6%9a%e0%a6%b2%e0%a6%be%e0%a6%9a%e0%a6%b2-%e0%a6%a8%e0%a6%bf%e0%a7%9f%e0%a7%87-%e0%a6%b8/\n",
            "Description Updated\n",
            "1423\n",
            "Link Type\n",
            "https://jamuna.tv/news/194660\n",
            "Description Updated\n",
            "1424\n",
            "Link Type\n",
            "https://www.bd24live.com/bangla/%e0%a6%ad%e0%a7%9f%e0%a6%82%e0%a6%95%e0%a6%b0-%e0%a6%b9%e0%a6%9a%e0%a7%8d%e0%a6%9b%e0%a7%87-%e0%a6%95%e0%a6%b0%e0%a7%8b%e0%a6%a8%e0%a6%be-%e0%a6%ac%e0%a6%bf%e0%a6%b6%e0%a7%8d%e0%a6%ac%e0%a7%87-2/\n",
            "Description Updated\n",
            "1425\n",
            "Link Type\n",
            "http://banglanewzz.com/archives/11064\n",
            "Description Updated\n",
            "1426\n",
            "Status Type\n",
            "Continuing\n",
            "1427\n",
            "Link Type\n",
            "https://newsworld41.com/december-news-flash-20201/\n"
          ],
          "name": "stdout"
        },
        {
          "output_type": "stream",
          "text": [
            "ERROR:trafilatura.utils:not a 200 response: 404 for URL https://newsworld41.com/december-news-flash-20201/\n",
            "ERROR:trafilatura.utils:this type cannot be processed: <class 'NoneType'>\n"
          ],
          "name": "stderr"
        },
        {
          "output_type": "stream",
          "text": [
            "None\n",
            "dropped\n",
            "1428\n",
            "Link Type\n",
            "https://www.nytimesbd.com/probash/news/9165\n"
          ],
          "name": "stdout"
        },
        {
          "output_type": "stream",
          "text": [
            "ERROR:trafilatura.core:not enough text None\n"
          ],
          "name": "stderr"
        },
        {
          "output_type": "stream",
          "text": [
            "Description Updated\n",
            "1429\n",
            "Link Type\n",
            "http://govtschooladmission.com/govt-school-admission-lottery-result/\n",
            "Description Updated\n",
            "1430\n",
            "Link Type\n",
            "http://banglanewzz.com/archives/10866\n",
            "Description Updated\n",
            "1431\n",
            "Link Type\n",
            "https://www.newsexpress24.info/%e0%a7%aa%e0%a7%a7-%e0%a7%aa%e0%a7%a8-%e0%a7%aa%e0%a7%a9-%e0%a6%93-%e0%a7%aa%e0%a7%aa%e0%a6%a4%e0%a6%ae-%e0%a6%ac%e0%a6%bf%e0%a6%b8%e0%a6%bf%e0%a6%8f%e0%a6%b8-%e0%a6%aa%e0%a7%8d%e0%a6%b0%e0%a6%be/\n"
          ],
          "name": "stdout"
        },
        {
          "output_type": "stream",
          "text": [
            "ERROR:trafilatura.utils:not a 200 response: 404 for URL https://probashtime.com/2020/12/27/%e0%a6%aa%e0%a7%8d%e0%a6%b0%e0%a6%ac%e0%a6%be%e0%a6%b8%e0%a7%80%e0%a6%a6%e0%a7%87%e0%a6%b0-%e0%a6%ac%e0%a6%bf%e0%a6%a8%e0%a6%be%e0%a6%ae%e0%a7%82%e0%a6%b2%e0%a7%8d%e0%a6%af%e0%a7%87-%e0%a6%95%e0%a6%b0/\n",
            "ERROR:trafilatura.utils:this type cannot be processed: <class 'NoneType'>\n"
          ],
          "name": "stderr"
        },
        {
          "output_type": "stream",
          "text": [
            "Description Updated\n",
            "1432\n",
            "Link Type\n",
            "https://probashtime.com/2020/12/27/%e0%a6%aa%e0%a7%8d%e0%a6%b0%e0%a6%ac%e0%a6%be%e0%a6%b8%e0%a7%80%e0%a6%a6%e0%a7%87%e0%a6%b0-%e0%a6%ac%e0%a6%bf%e0%a6%a8%e0%a6%be%e0%a6%ae%e0%a7%82%e0%a6%b2%e0%a7%8d%e0%a6%af%e0%a7%87-%e0%a6%95%e0%a6%b0/\n",
            "None\n",
            "dropped\n",
            "1433\n",
            "Link Type\n",
            "https://www.gulfbangla.com/news/8011\n"
          ],
          "name": "stdout"
        },
        {
          "output_type": "stream",
          "text": [
            "WARNING:trafilatura.metadata:no main title found\n",
            "WARNING:trafilatura.metadata:no h2 title found\n",
            "ERROR:trafilatura.core:not enough text None\n"
          ],
          "name": "stderr"
        },
        {
          "output_type": "stream",
          "text": [
            "Description Updated\n",
            "1434\n",
            "Link Type\n",
            "https://www.ittefaq.com.bd/looking-back-2020/210104/%E0%A6%AC%E0%A6%BF%E0%A6%9C%E0%A7%8D%E0%A6%9E%E0%A6%BE%E0%A6%A8-%E0%A6%93-%E0%A6%9F%E0%A7%87%E0%A6%95%E0%A7%87%E0%A6%B0-%E0%A6%9C%E0%A7%8B%E0%A7%9F%E0%A6%BE%E0%A6%B0\n",
            "Description Updated\n",
            "1435\n",
            "Link Type\n",
            "https://tv3bangla.com/%e0%a6%b2%e0%a6%a8%e0%a7%8d%e0%a6%a1%e0%a6%a8-%e0%a6%a5%e0%a7%87%e0%a6%95%e0%a7%87-%e0%a6%ab%e0%a6%bf%e0%a6%b0%e0%a6%b2%e0%a7%87%e0%a6%87-%e0%a7%a7%e0%a7%aa-%e0%a6%a6%e0%a6%bf%e0%a6%a8%e0%a7%87/\n",
            "Description Updated\n",
            "1436\n",
            "Link Type\n",
            "https://primaryeduinfo.com/%e0%a6%95%e0%a7%8d%e0%a6%b2%e0%a6%be%e0%a6%b8%e0%a7%8d%e0%a6%9f%e0%a6%be%e0%a6%b0%e0%a6%ad%e0%a6%bf%e0%a6%a4%e0%a7%8d%e0%a6%a4%e0%a6%bf%e0%a6%95/\n",
            "Description Updated\n",
            "1437\n",
            "Link Type\n",
            "http://dailycanews.com/%E0%A6%AE%E0%A6%BF%E0%A6%B6%E0%A6%B0%E0%A7%87-%E0%A6%95%E0%A6%B0%E0%A7%8B%E0%A6%A8%E0%A6%BE-%E0%A6%B9%E0%A6%BE%E0%A6%B8%E0%A6%AA%E0%A6%BE%E0%A6%A4%E0%A6%BE%E0%A6%B2%E0%A7%87-%E0%A6%AD%E0%A7%9F/\n"
          ],
          "name": "stdout"
        },
        {
          "output_type": "stream",
          "text": [
            "ERROR:trafilatura.utils:retries/redirects: http://dailycanews.com/%E0%A6%AE%E0%A6%BF%E0%A6%B6%E0%A6%B0%E0%A7%87-%E0%A6%95%E0%A6%B0%E0%A7%8B%E0%A6%A8%E0%A6%BE-%E0%A6%B9%E0%A6%BE%E0%A6%B8%E0%A6%AA%E0%A6%BE%E0%A6%A4%E0%A6%BE%E0%A6%B2%E0%A7%87-%E0%A6%AD%E0%A7%9F/ HTTPConnectionPool(host='dailycanews.com', port=80): Max retries exceeded with url: /%E0%A6%AE%E0%A6%BF%E0%A6%B6%E0%A6%B0%E0%A7%87-%E0%A6%95%E0%A6%B0%E0%A7%8B%E0%A6%A8%E0%A6%BE-%E0%A6%B9%E0%A6%BE%E0%A6%B8%E0%A6%AA%E0%A6%BE%E0%A6%A4%E0%A6%BE%E0%A6%B2%E0%A7%87-%E0%A6%AD%E0%A7%9F/ (Caused by NewConnectionError('<urllib3.connection.HTTPConnection object at 0x7f96ce4a0850>: Failed to establish a new connection: [Errno -2] Name or service not known'))\n",
            "ERROR:trafilatura.utils:parsing failed: Document is empty\n"
          ],
          "name": "stderr"
        },
        {
          "output_type": "stream",
          "text": [
            "HTTPConnectionPool(host='dailycanews.com', port=80): Max retries exceeded with url: /%E0%A6%AE%E0%A6%BF%E0%A6%B6%E0%A6%B0%E0%A7%87-%E0%A6%95%E0%A6%B0%E0%A7%8B%E0%A6%A8%E0%A6%BE-%E0%A6%B9%E0%A6%BE%E0%A6%B8%E0%A6%AA%E0%A6%BE%E0%A6%A4%E0%A6%BE%E0%A6%B2%E0%A7%87-%E0%A6%AD%E0%A7%9F/ (Caused by NewConnectionError('<urllib3.connection.HTTPConnection object at 0x7f96cb1ce110>: Failed to establish a new connection: [Errno -2] Name or service not known'))\n",
            "dropped\n",
            "1438\n",
            "Status Type\n",
            "Continuing\n",
            "1439\n",
            "Link Type\n",
            "https://www.ittefaq.com.bd/sports/210633/%E0%A6%AB%E0%A7%81%E0%A6%9F%E0%A6%AC%E0%A6%B2%E0%A6%BE%E0%A6%B0%E0%A6%A6%E0%A7%87%E0%A6%B0-%E0%A6%9C%E0%A6%A8%E0%A7%8D%E0%A6%AF-%E0%A6%AD%E0%A7%8D%E0%A6%AF%E0%A6%BE%E0%A6%95%E0%A6%B8%E0%A6%BF%E0%A6%A8-%E0%A6%9A%E0%A6%BE%E0%A6%87%E0%A6%AC%E0%A7%87-%E0%A6%AC%E0%A6%BE%E0%A6%AB%E0%A7%81%E0%A6%AB%E0%A7%87\n",
            "Description Updated\n",
            "1440\n",
            "Status Type\n",
            "Continuing\n",
            "1441\n",
            "Link Type\n",
            "https://www.dainikdigantor.com/2020/12/28/%e0%a6%b2%e0%a6%a8%e0%a7%8d%e0%a6%a1%e0%a6%a8-%e0%a6%a5%e0%a7%87%e0%a6%95%e0%a7%87-%e0%a6%a6%e0%a7%87%e0%a6%b6%e0%a7%87-%e0%a6%8f%e0%a6%b2%e0%a7%87%e0%a6%87-%e0%a6%ac%e0%a6%be%e0%a6%a7%e0%a7%8d/\n",
            "Description Updated\n",
            "1442\n",
            "Link Type\n",
            "https://mailexpress24.com/?p=8377\n",
            "Description Updated\n",
            "1443\n",
            "Link Type\n",
            "http://francebanglanews.com/%E0%A6%87%E0%A6%B0%E0%A6%BE%E0%A6%A8-%E0%A6%A5%E0%A7%87%E0%A6%95%E0%A7%87-%E0%A6%A4%E0%A7%81%E0%A6%B0%E0%A7%8D%E0%A6%95%E0%A6%BF-%E0%A6%AF%E0%A6%BE%E0%A6%93%E0%A7%9F%E0%A6%BE%E0%A6%B0-%E0%A6%AA/\n"
          ],
          "name": "stdout"
        },
        {
          "output_type": "stream",
          "text": [
            "ERROR:trafilatura.utils:retries/redirects: https://be.bangla.report/post/59395-cIEQLPOdy HTTPSConnectionPool(host='be.bangla.report', port=443): Max retries exceeded with url: /post/59395-cIEQLPOdy (Caused by ResponseError('too many 503 error responses'))\n",
            "ERROR:trafilatura.utils:parsing failed: Document is empty\n"
          ],
          "name": "stderr"
        },
        {
          "output_type": "stream",
          "text": [
            "Description Updated\n",
            "1444\n",
            "Status Type\n",
            "Continuing\n",
            "1445\n",
            "Status Type\n",
            "Continuing\n",
            "1446\n",
            "Status Type\n",
            "Continuing\n",
            "1447\n",
            "Link Type\n",
            "https://be.bangla.report/post/59395-cIEQLPOdy\n",
            "None\n",
            "dropped\n",
            "1448\n",
            "Link Type\n",
            "http://www.dainikamadershomoy.com/post/293382\n",
            "Description Updated\n",
            "1449\n",
            "Status Type\n",
            "Continuing\n",
            "1450\n",
            "Link Type\n",
            "https://banglavision.tv/international/63531/\n",
            "Description Updated\n",
            "1451\n",
            "Link Type\n",
            "https://www.ekushey-tv.com/corona-crisis/news/120155#.X-xALpkC2PI.facebook\n",
            "Description Updated\n",
            "1452\n",
            "Link Type\n",
            "https://www.jugantor.com/international/379192/%E0%A6%A5%E0%A6%BE%E0%A6%87%E0%A6%B2%E0%A7%8D%E0%A6%AF%E0%A6%BE%E0%A6%A8%E0%A7%8D%E0%A6%A1%E0%A7%87%E0%A6%B0-%E0%A6%AA%E0%A6%BE%E0%A6%A4%E0%A6%BE%E0%A7%9F%E0%A6%BE%E0%A7%9F-%E0%A6%A8%E0%A6%A4%E0%A7%81%E0%A6%A8-%E0%A6%95%E0%A6%B0%E0%A7%87-%E0%A6%B2%E0%A6%95%E0%A6%A1%E0%A6%BE%E0%A6%89%E0%A6%A8\n",
            "Description Updated\n",
            "1453\n",
            "Status Type\n",
            "Continuing\n",
            "1454\n",
            "Status Type\n",
            "Continuing\n",
            "1455\n",
            "Link Type\n",
            "https://jamuna.tv/news/194662\n",
            "Description Updated\n",
            "1456\n",
            "Link Type\n",
            "https://www.jagonews24.com/education/news/632282\n",
            "Description Updated\n",
            "1457\n",
            "Link Type\n",
            "https://www.channelionline.com/%e0%a6%95%e0%a7%8b%e0%a6%ad%e0%a6%bf%e0%a6%a1-%e0%a6%b8%e0%a7%83%e0%a6%9c%e0%a6%a8%e0%a6%b6%e0%a7%80%e0%a6%b2%e0%a6%a4%e0%a6%be-%e0%a6%a8%e0%a6%b7%e0%a7%8d%e0%a6%9f-%e0%a6%95%e0%a6%b0%e0%a7%87/\n"
          ],
          "name": "stdout"
        },
        {
          "output_type": "stream",
          "text": [
            "ERROR:trafilatura.core:not enough text None\n"
          ],
          "name": "stderr"
        },
        {
          "output_type": "stream",
          "text": [
            "Description Updated\n",
            "1458\n",
            "Link Type\n",
            "https://www.aviationnewsbd.com/%e0%a6%b2%e0%a6%a8%e0%a7%8d%e0%a6%a1%e0%a6%a8%e0%a7%87%e0%a6%b0-%e0%a6%b8%e0%a6%ac-%e0%a6%ab%e0%a7%8d%e0%a6%b2%e0%a6%be%e0%a6%87%e0%a6%9f-%e0%a6%ac%e0%a6%a8%e0%a7%8d%e0%a6%a7%e0%a7%87%e0%a6%b0/\n"
          ],
          "name": "stdout"
        },
        {
          "output_type": "stream",
          "text": [
            "ERROR:trafilatura.core:not enough text None\n"
          ],
          "name": "stderr"
        },
        {
          "output_type": "stream",
          "text": [
            "Description Updated\n",
            "1459\n",
            "Status Type\n",
            "Continuing\n",
            "1460\n",
            "Link Type\n",
            "https://www.bongnews24x7.com/central-government-give-a-notice-to-state-regarding-new-virus/\n"
          ],
          "name": "stdout"
        },
        {
          "output_type": "stream",
          "text": [
            "ERROR:trafilatura.core:not enough text None\n"
          ],
          "name": "stderr"
        },
        {
          "output_type": "stream",
          "text": [
            "Description Updated\n",
            "1461\n",
            "Link Type\n",
            "https://bengali.momspresso.com/parenting/tyaga/article/abhilasha-amara-lekhanite-jso8lgftckxe?utm_source=momspresso_facebook\n",
            "Description Updated\n",
            "1462\n",
            "Status Type\n",
            "Continuing\n",
            "1463\n",
            "Link Type\n",
            "https://news.viewer.com.bd/2020/12/29/%e0%a6%ae%e0%a6%be%e0%a6%b2%e0%a7%9f%e0%a7%87%e0%a6%b6%e0%a6%bf%e0%a7%9f%e0%a6%be-%e0%a6%97%e0%a6%a4-%e0%a7%a8%e0%a7%aa-%e0%a6%98%e0%a6%a8%e0%a7%8d%e0%a6%9f%e0%a6%be%e0%a6%b0-%e0%a6%95/\n",
            "Description Updated\n",
            "1464\n",
            "Status Type\n",
            "Continuing\n",
            "1465\n",
            "Link Type\n",
            "https://www.bd-pratidin.com/coronavirus/2020/12/26/601421\n",
            "Description Updated\n",
            "1466\n",
            "Link Type\n",
            "https://theindianews.org/bengali-news/new-guideline-for-preventing-covid-19/\n",
            "Description Updated\n",
            "1467\n",
            "Link Type\n",
            "https://www.satv.tv/%e0%a6%a6%e0%a7%87%e0%a6%b6%e0%a7%87%e0%a6%b0-%e0%a7%aa%e0%a7%a6-%e0%a6%b6%e0%a6%a4%e0%a6%be%e0%a6%82%e0%a6%b6-%e0%a6%ae%e0%a6%be%e0%a6%a8%e0%a7%81%e0%a6%b7%e0%a7%87%e0%a6%b0-%e0%a6%95%e0%a6%b0/\n"
          ],
          "name": "stdout"
        },
        {
          "output_type": "stream",
          "text": [
            "ERROR:trafilatura.utils:retries/redirects: https://www.ourislam24.com/2020/12/27/%e0%a6%95%e0%a6%b0%e0%a7%8b%e0%a6%a8%e0%a6%be%e0%a6%b0-%e0%a6%a8%e0%a6%a4%e0%a7%81%e0%a6%a8-%e0%a6%a7%e0%a6%b0%e0%a6%a8-%e0%a6%9b%e0%a7%9c%e0%a6%be%e0%a6%9a%e0%a7%8d%e0%a6%9b%e0%a7%87-%e0%a6%b8/ HTTPSConnectionPool(host='www.ourislam24.com', port=443): Max retries exceeded with url: /2020/12/27/%E0%A6%95%E0%A6%B0%E0%A7%8B%E0%A6%A8%E0%A6%BE%E0%A6%B0-%E0%A6%A8%E0%A6%A4%E0%A7%81%E0%A6%A8-%E0%A6%A7%E0%A6%B0%E0%A6%A8-%E0%A6%9B%E0%A7%9C%E0%A6%BE%E0%A6%9A%E0%A7%8D%E0%A6%9B%E0%A7%87-%E0%A6%B8/ (Caused by ResponseError('too many 503 error responses'))\n",
            "ERROR:trafilatura.utils:parsing failed: Document is empty\n"
          ],
          "name": "stderr"
        },
        {
          "output_type": "stream",
          "text": [
            "Description Updated\n",
            "1468\n",
            "Link Type\n",
            "https://www.ourislam24.com/2020/12/27/%e0%a6%95%e0%a6%b0%e0%a7%8b%e0%a6%a8%e0%a6%be%e0%a6%b0-%e0%a6%a8%e0%a6%a4%e0%a7%81%e0%a6%a8-%e0%a6%a7%e0%a6%b0%e0%a6%a8-%e0%a6%9b%e0%a7%9c%e0%a6%be%e0%a6%9a%e0%a7%8d%e0%a6%9b%e0%a7%87-%e0%a6%b8/\n",
            "None\n",
            "dropped\n",
            "1469\n",
            "Link Type\n",
            "https://worldskynews.com/archives/11089\n"
          ],
          "name": "stdout"
        },
        {
          "output_type": "stream",
          "text": [
            "ERROR:trafilatura.utils:not a 200 response: 404 for URL https://worldskynews.com/archives/11089\n",
            "ERROR:trafilatura.utils:this type cannot be processed: <class 'NoneType'>\n"
          ],
          "name": "stderr"
        },
        {
          "output_type": "stream",
          "text": [
            "None\n",
            "dropped\n",
            "1470\n",
            "Link Type\n",
            "https://www.jagonews24.com/country/news/633103\n",
            "Description Updated\n",
            "1471\n",
            "Link Type\n",
            "https://www.ekushey-tv.com/corona-crisis/news/119941#.X-gywVHY34Q.facebook\n",
            "Description Updated\n",
            "1472\n",
            "Link Type\n",
            "https://www.thebanglamagazine.com/2020/12/27/%e0%a7%ab%e0%a7%a6-%e0%a6%b2%e0%a6%be%e0%a6%96-%e0%a6%93%e0%a6%ae%e0%a6%b0%e0%a6%be%e0%a6%95%e0%a6%be%e0%a6%b0%e0%a7%80%e0%a6%b0-%e0%a6%95%e0%a7%87%e0%a6%89-%e0%a6%95%e0%a6%b0%e0%a7%8b%e0%a6%a8/\n"
          ],
          "name": "stdout"
        },
        {
          "output_type": "stream",
          "text": [
            "ERROR:trafilatura.utils:retries/redirects: https://www.thebanglamagazine.com/2020/12/27/%e0%a7%ab%e0%a7%a6-%e0%a6%b2%e0%a6%be%e0%a6%96-%e0%a6%93%e0%a6%ae%e0%a6%b0%e0%a6%be%e0%a6%95%e0%a6%be%e0%a6%b0%e0%a7%80%e0%a6%b0-%e0%a6%95%e0%a7%87%e0%a6%89-%e0%a6%95%e0%a6%b0%e0%a7%8b%e0%a6%a8/ HTTPSConnectionPool(host='www.thebanglamagazine.com', port=443): Max retries exceeded with url: /2020/12/27/%E0%A7%AB%E0%A7%A6-%E0%A6%B2%E0%A6%BE%E0%A6%96-%E0%A6%93%E0%A6%AE%E0%A6%B0%E0%A6%BE%E0%A6%95%E0%A6%BE%E0%A6%B0%E0%A7%80%E0%A6%B0-%E0%A6%95%E0%A7%87%E0%A6%89-%E0%A6%95%E0%A6%B0%E0%A7%8B%E0%A6%A8/ (Caused by ProtocolError('Connection aborted.', OSError(0, 'Error')))\n",
            "ERROR:trafilatura.utils:parsing failed: Document is empty\n",
            "ERROR:trafilatura.utils:not a 200 response: 404 for URL https://probashtime.com/2020/12/27/%E0%A6%AA%E0%A7%8D%E0%A6%B0%E0%A6%AC%E0%A6%BE%E0%A6%B8%E0%A7%80%E0%A6%A6%E0%A7%87%E0%A6%B0-%E0%A6%95%E0%A6%B0%E0%A7%8B%E0%A6%A8%E0%A6%BE%E0%A6%AE%E0%A7%81%E0%A6%95%E0%A7%8D%E0%A6%A4-%E0%A6%B8%E0%A6%A8/\n",
            "ERROR:trafilatura.utils:this type cannot be processed: <class 'NoneType'>\n"
          ],
          "name": "stderr"
        },
        {
          "output_type": "stream",
          "text": [
            "('Connection aborted.', OSError(0, 'Error'))\n",
            "dropped\n",
            "1473\n",
            "Status Type\n",
            "Continuing\n",
            "1474\n",
            "Link Type\n",
            "https://probashtime.com/2020/12/27/%E0%A6%AA%E0%A7%8D%E0%A6%B0%E0%A6%AC%E0%A6%BE%E0%A6%B8%E0%A7%80%E0%A6%A6%E0%A7%87%E0%A6%B0-%E0%A6%95%E0%A6%B0%E0%A7%8B%E0%A6%A8%E0%A6%BE%E0%A6%AE%E0%A7%81%E0%A6%95%E0%A7%8D%E0%A6%A4-%E0%A6%B8%E0%A6%A8/\n",
            "None\n",
            "dropped\n",
            "1475\n",
            "Link Type\n",
            "https://rajshahipost.com/campus/article/8975/%E0%A6%9C%E0%A6%BE%E0%A6%A4%E0%A7%80%E0%A7%9F-%E0%A6%AC%E0%A6%BF%E0%A6%B6%E0%A7%8D%E0%A6%AC%E0%A6%AC%E0%A6%BF%E0%A6%A6%E0%A7%8D%E0%A6%AF%E0%A6%BE%E0%A6%B2%E0%A7%9F%E0%A7%87%E0%A6%B0-%E0%A6%85%E0%A6%A8%E0%A6%BF%E0%A7%9F%E0%A6%AE%E0%A6%BF%E0%A6%A4-%E0%A6%B6%E0%A6%BF%E0%A6%95%E0%A7%8D%E0%A6%B7%E0%A6%BE%E0%A6%B0%E0%A7%8D%E0%A6%A5%E0%A7%80%E0%A6%A6%E0%A7%87%E0%A6%B0-%E0%A6%AB%E0%A6%B0%E0%A6%AE-%E0%A6%AA%E0%A7%82%E0%A6%B0%E0%A6%A3-%E0%A6%B6%E0%A7%81%E0%A6%B0%E0%A7%81\n",
            "Description Updated\n",
            "1476\n",
            "Link Type\n",
            "https://dainikbidyaloy.com/2020/12/31/%e0%a6%95%e0%a6%b0%e0%a7%8b%e0%a6%a8%e0%a6%be-%e0%a6%aa%e0%a6%b0%e0%a6%bf%e0%a6%b8%e0%a7%8d%e0%a6%a5%e0%a6%bf%e0%a6%a4%e0%a6%bf-%e0%a6%85%e0%a6%a8%e0%a7%81%e0%a6%95%e0%a7%82%e0%a6%b2%e0%a7%87/#.X-18xJMJzv4.facebook\n",
            "Description Updated\n",
            "1477\n",
            "Link Type\n",
            "https://inabd.com/archives/9427\n",
            "Description Updated\n",
            "1478\n",
            "Link Type\n",
            "https://bangla.bdnews24.com/world/article1843062.bdnews\n",
            "Description Updated\n",
            "1479\n",
            "Status Type\n",
            "Continuing\n",
            "1480\n",
            "Link Type\n",
            "http://francebanglanews.com/%E0%A6%87%E0%A6%B0%E0%A6%BE%E0%A6%A8-%E0%A6%A5%E0%A7%87%E0%A6%95%E0%A7%87-%E0%A6%A4%E0%A7%81%E0%A6%B0%E0%A7%8D%E0%A6%95%E0%A6%BF-%E0%A6%AF%E0%A6%BE%E0%A6%93%E0%A7%9F%E0%A6%BE%E0%A6%B0-%E0%A6%AA/\n",
            "Description Updated\n",
            "1481\n",
            "Link Type\n",
            "http://www.bd-pratidin.com/news/2020/12/28/601824\n",
            "Description Updated\n",
            "1482\n",
            "Link Type\n",
            "https://www.ekushey-tv.com/corona-crisis/news/120195#.X-y9_P1_V7A.facebook\n",
            "Description Updated\n",
            "1483\n",
            "Link Type\n",
            "http://www.kalerkantho.com/online/national/2020/12/29/990203\n",
            "Description Updated\n",
            "1484\n",
            "Link Type\n",
            "https://www.dailynayadiganta.com/miscellaneous/551786/%E0%A6%AC%E0%A6%BF%E0%A6%B6%E0%A7%8D%E0%A6%AC%E0%A6%AC%E0%A7%8D%E0%A6%AF%E0%A6%BE%E0%A6%AA%E0%A7%80-%E0%A6%95%E0%A6%B0%E0%A7%8B%E0%A6%A8%E0%A6%BE-%E0%A6%86%E0%A6%95%E0%A7%8D%E0%A6%B0%E0%A6%BE%E0%A6%A8%E0%A7%8D%E0%A6%A4-%E0%A7%AE-%E0%A6%95%E0%A7%8B%E0%A6%9F%E0%A6%BF-%E0%A6%9B%E0%A6%BE%E0%A7%9C%E0%A6%BE%E0%A6%B2\n",
            "Description Updated\n",
            "1485\n",
            "Link Type\n",
            "https://bengali.abplive.com/news/nation/serum-institute-vaccine-emergency-approval-expert-panel-to-meet-today-considering-serums-application-776866\n"
          ],
          "name": "stdout"
        },
        {
          "output_type": "stream",
          "text": [
            "ERROR:trafilatura.core:not enough text None\n"
          ],
          "name": "stderr"
        },
        {
          "output_type": "stream",
          "text": [
            "Description Updated\n",
            "1486\n",
            "Status Type\n",
            "Continuing\n",
            "1487\n",
            "Status Type\n",
            "Continuing\n",
            "1488\n",
            "Link Type\n",
            "https://www.kalerkantho.com/online/world/2020/12/29/990127\n",
            "Description Updated\n",
            "1489\n",
            "Link Type\n",
            "https://timesinnovation24.com/%e0%a6%98%e0%a6%b0%e0%a7%87-%e0%a6%a5%e0%a7%87%e0%a6%95%e0%a7%87-%e0%a6%a5%e0%a6%be%e0%a6%b0%e0%a7%8d%e0%a6%9f%e0%a6%bf-%e0%a6%ab%e0%a6%be%e0%a6%b0%e0%a7%8d%e0%a6%b8%e0%a7%8d%e0%a6%9f/\n"
          ],
          "name": "stdout"
        },
        {
          "output_type": "stream",
          "text": [
            "ERROR:trafilatura.utils:not a 200 response: 403 for URL https://www.bangla.24livenewspaper.com/bangladesh/73312-india-is-the-main-obstacle-to-getting-adequate-vaccines\n",
            "ERROR:trafilatura.utils:this type cannot be processed: <class 'NoneType'>\n"
          ],
          "name": "stderr"
        },
        {
          "output_type": "stream",
          "text": [
            "Description Updated\n",
            "1490\n",
            "Link Type\n",
            "https://www.bangla.24livenewspaper.com/bangladesh/73312-india-is-the-main-obstacle-to-getting-adequate-vaccines\n",
            "None\n",
            "dropped\n",
            "1491\n",
            "Link Type\n",
            "https://www.somoynews.tv/pages/details/255539\n"
          ],
          "name": "stdout"
        },
        {
          "output_type": "stream",
          "text": [
            "WARNING:trafilatura.utils:wrong encoding detected: utf-8\n"
          ],
          "name": "stderr"
        },
        {
          "output_type": "stream",
          "text": [
            "Description Updated\n",
            "1492\n",
            "Link Type\n",
            "https://www.kalerkantho.com/online/sport/2020/12/27/989485\n",
            "Description Updated\n",
            "1493\n",
            "Status Type\n",
            "Continuing\n",
            "1494\n",
            "Status Type\n",
            "Continuing\n",
            "1495\n",
            "Link Type\n",
            "https://inabd.com/archives/9601\n",
            "Description Updated\n",
            "1496\n",
            "Link Type\n",
            "https://www.thewall.in/?p=290804\n"
          ],
          "name": "stdout"
        },
        {
          "output_type": "stream",
          "text": [
            "ERROR:trafilatura.utils:not a 200 response: 404 for URL https://www.thewall.in/?p=290804\n",
            "ERROR:trafilatura.utils:this type cannot be processed: <class 'NoneType'>\n"
          ],
          "name": "stderr"
        },
        {
          "output_type": "stream",
          "text": [
            "None\n",
            "dropped\n",
            "1497\n",
            "Link Type\n",
            "https://www.kalerkantho.com/online/muslim-world/2020/12/30/990496\n",
            "Description Updated\n",
            "1498\n",
            "Status Type\n",
            "Continuing\n",
            "1499\n",
            "Status Type\n",
            "Continuing\n",
            "1500\n",
            "Status Type\n",
            "Continuing\n",
            "1501\n",
            "Link Type\n",
            "https://insaf24.net/news-december29-monday-dotnet12\n",
            "Description Updated\n",
            "1502\n",
            "Link Type\n",
            "https://www.bd-journal.com/international/india/144591/%E0%A6%AC%E0%A6%BE%E0%A6%A5%E0%A6%B0%E0%A7%81%E0%A6%AE%E0%A7%87-%E0%A6%95%E0%A6%B0%E0%A7%8B%E0%A6%A8%E0%A6%BE-%E0%A6%B0%E0%A7%8B%E0%A6%97%E0%A7%80%E0%A6%B0-%E0%A6%B8%E0%A6%99%E0%A7%8D%E0%A6%97%E0%A7%87-%E0%A6%AF%E0%A7%8C%E0%A6%A8%E0%A6%B8%E0%A6%AE%E0%A7%8D%E0%A6%AA%E0%A6%B0%E0%A7%8D%E0%A6%95-%E0%A6%AC%E0%A6%B0%E0%A6%96%E0%A6%BE%E0%A6%B8%E0%A7%8D%E0%A6%A4-%E0%A6%A8%E0%A6%BE%E0%A6%B0%E0%A7%8D%E0%A6%B8\n",
            "Description Updated\n",
            "1503\n",
            "Link Type\n",
            "https://banglawashcricket.com/2020/12/30/1637/\n",
            "Description Updated\n",
            "1504\n",
            "Link Type\n",
            "https://bangla.bdnews24.com/health/article1842738.bdnews\n",
            "Description Updated\n",
            "1505\n",
            "Link Type\n",
            "https://www.dailynayadiganta.com/international-organizations/552736/%E0%A6%A8%E0%A6%A4%E0%A7%81%E0%A6%A8-%E0%A6%AC%E0%A6%9B%E0%A6%B0-%E0%A6%AC%E0%A7%9F%E0%A7%87-%E0%A6%86%E0%A6%A8%E0%A7%81%E0%A6%95-%E0%A6%A8%E0%A6%BF%E0%A6%B0%E0%A6%BE%E0%A6%AE%E0%A7%9F-%E0%A6%86%E0%A6%B6%E0%A6%BE%E0%A6%B0-%E0%A6%86%E0%A6%B2%E0%A7%8B-%E0%A6%9C%E0%A6%BE%E0%A6%A4%E0%A6%BF%E0%A6%B8%E0%A6%99%E0%A7%8D%E0%A6%98-%E0%A6%AE%E0%A6%B9%E0%A6%BE%E0%A6%B8%E0%A6%9A%E0%A6%BF%E0%A6%AC\n",
            "Description Updated\n",
            "1506\n",
            "Link Type\n",
            "https://www.rtvonline.com/bangladesh/114826/%E0%A6%86%E0%A6%9C-%E0%A6%AC%E0%A6%87-%E0%A6%89%E0%A7%8E%E0%A6%B8%E0%A6%AC-%E0%A6%89%E0%A6%A6%E0%A7%8D%E0%A6%AC%E0%A7%8B%E0%A6%A7%E0%A6%A8-%E0%A6%95%E0%A6%B0%E0%A6%AC%E0%A7%87%E0%A6%A8-%E0%A6%AA%E0%A7%8D%E0%A6%B0%E0%A6%A7%E0%A6%BE%E0%A6%A8%E0%A6%AE%E0%A6%A8%E0%A7%8D%E0%A6%A4%E0%A7%8D%E0%A6%B0%E0%A7%80\n",
            "Description Updated\n",
            "1507\n",
            "Link Type\n",
            "http://dhakapostonline.com/archives/1198\n"
          ],
          "name": "stdout"
        },
        {
          "output_type": "stream",
          "text": [
            "ERROR:trafilatura.utils:not a 200 response: 404 for URL http://dhakapostonline.com/archives/1198\n",
            "ERROR:trafilatura.utils:this type cannot be processed: <class 'NoneType'>\n"
          ],
          "name": "stderr"
        },
        {
          "output_type": "stream",
          "text": [
            "None\n",
            "dropped\n",
            "1508\n",
            "Status Type\n",
            "Continuing\n",
            "1509\n",
            "Link Type\n",
            "https://www.somoynews.tv/pages/details/255573\n"
          ],
          "name": "stdout"
        },
        {
          "output_type": "stream",
          "text": [
            "ERROR:trafilatura.utils:retries/redirects: https://shikshabarta.com/%e0%a6%a8%e0%a6%a4%e0%a7%81%e0%a6%a8-%e0%a6%ac%e0%a6%87-%e0%a6%ac%e0%a6%bf%e0%a6%a4%e0%a6%b0%e0%a6%a3-%e0%a6%b6%e0%a7%81%e0%a6%b0%e0%a7%81-%e0%a6%b6%e0%a7%81%e0%a6%95%e0%a7%8d%e0%a6%b0%e0%a6%ac/ HTTPSConnectionPool(host='shikshabarta.com', port=443): Max retries exceeded with url: /%E0%A6%A8%E0%A6%A4%E0%A7%81%E0%A6%A8-%E0%A6%AC%E0%A6%87-%E0%A6%AC%E0%A6%BF%E0%A6%A4%E0%A6%B0%E0%A6%A3-%E0%A6%B6%E0%A7%81%E0%A6%B0%E0%A7%81-%E0%A6%B6%E0%A7%81%E0%A6%95%E0%A7%8D%E0%A6%B0%E0%A6%AC/ (Caused by ResponseError('too many 503 error responses'))\n",
            "ERROR:trafilatura.utils:parsing failed: Document is empty\n"
          ],
          "name": "stderr"
        },
        {
          "output_type": "stream",
          "text": [
            "Description Updated\n",
            "1510\n",
            "Link Type\n",
            "https://shikshabarta.com/%e0%a6%a8%e0%a6%a4%e0%a7%81%e0%a6%a8-%e0%a6%ac%e0%a6%87-%e0%a6%ac%e0%a6%bf%e0%a6%a4%e0%a6%b0%e0%a6%a3-%e0%a6%b6%e0%a7%81%e0%a6%b0%e0%a7%81-%e0%a6%b6%e0%a7%81%e0%a6%95%e0%a7%8d%e0%a6%b0%e0%a6%ac/\n",
            "None\n",
            "dropped\n",
            "1511\n",
            "Link Type\n",
            "https://www.ekushey-tv.com/international/news/120064#.X-qqtGKURCg.facebook\n",
            "Description Updated\n",
            "1512\n",
            "Link Type\n",
            "https://banglanews24.com/entertainment/news/bd/832459.details\n",
            "Description Updated\n",
            "1513\n",
            "Status Type\n",
            "Continuing\n",
            "1514\n",
            "Status Type\n",
            "Continuing\n",
            "1515\n",
            "Link Type\n",
            "https://www.kolkata24x7.com/mha-extends-covid-19-surveillance-till-january-31-containment-zones-to-remain-demarcated/\n",
            "Description Updated\n",
            "1516\n",
            "Link Type\n",
            "https://www.bd24live.com/bangla/%e0%a6%ac%e0%a6%bf%e0%a6%a6%e0%a7%87%e0%a6%b6%e0%a6%97%e0%a6%be%e0%a6%ae%e0%a7%80%e0%a6%a6%e0%a7%87%e0%a6%b0-%e0%a6%95%e0%a6%b0%e0%a7%8b%e0%a6%a8%e0%a6%be-%e0%a6%aa%e0%a6%b0%e0%a7%80%e0%a6%95%e0%a7%8d/\n",
            "Description Updated\n",
            "1517\n",
            "Status Type\n",
            "Continuing\n",
            "1518\n",
            "Status Type\n",
            "Continuing\n",
            "1519\n",
            "Status Type\n",
            "Continuing\n",
            "1520\n",
            "Link Type\n",
            "http://chattogramnews.com/news-view/17496?n=%E0%A6%95%E0%A6%B0%E0%A7%8B%E0%A6%A8%E0%A6%BE+%E0%A6%AA%E0%A6%B0%E0%A6%BF%E0%A6%B8%E0%A7%8D%E0%A6%A5%E0%A6%BF%E0%A6%A4%E0%A6%BF+%E0%A6%85%E0%A6%A8%E0%A7%81%E0%A6%95%E0%A7%82%E0%A6%B2%E0%A7%87+%E0%A6%A8%E0%A6%BE+%E0%A6%86%E0%A6%B8%E0%A6%B2%E0%A7%87+%E0%A6%B6%E0%A6%BF%E0%A6%95%E0%A7%8D%E0%A6%B7%E0%A6%BE+%E0%A6%AA%E0%A7%8D%E0%A6%B0%E0%A6%A4%E0%A6%BF%E0%A6%B7%E0%A7%8D%E0%A6%A0%E0%A6%BE%E0%A6%A8+%E0%A6%96%E0%A7%8B%E0%A6%B2%E0%A6%BE+%E0%A6%B9%E0%A6%AC%E0%A7%87+%E0%A6%A8%E0%A6%BE%3A+%E0%A6%AA%E0%A7%8D%E0%A6%B0%E0%A6%A7%E0%A6%BE%E0%A6%A8%E0%A6%AE%E0%A6%A8%E0%A7%8D%E0%A6%A4%E0%A7%8D%E0%A6%B0%E0%A7%80\n",
            "Description Updated\n",
            "1521\n",
            "Status Type\n",
            "Continuing\n",
            "1522\n",
            "Status Type\n",
            "Continuing\n",
            "1523\n",
            "Link Type\n",
            "https://viewer.com.bd/%e0%a6%b8%e0%a7%8c%e0%a6%a6%e0%a6%bf-%e0%a6%aa%e0%a7%8d%e0%a6%b0%e0%a6%ac%e0%a6%be%e0%a6%b8%e0%a7%80%e0%a6%a6%e0%a7%87%e0%a6%b0-%e0%a6%9f%e0%a6%be%e0%a6%95%e0%a6%be-%e0%a6%a8%e0%a6%bf%e0%a7%9f/\n"
          ],
          "name": "stdout"
        },
        {
          "output_type": "stream",
          "text": [
            "ERROR:trafilatura.utils:not a 200 response: 410 for URL https://viewer.com.bd/%e0%a6%b8%e0%a7%8c%e0%a6%a6%e0%a6%bf-%e0%a6%aa%e0%a7%8d%e0%a6%b0%e0%a6%ac%e0%a6%be%e0%a6%b8%e0%a7%80%e0%a6%a6%e0%a7%87%e0%a6%b0-%e0%a6%9f%e0%a6%be%e0%a6%95%e0%a6%be-%e0%a6%a8%e0%a6%bf%e0%a7%9f/\n",
            "ERROR:trafilatura.utils:this type cannot be processed: <class 'NoneType'>\n"
          ],
          "name": "stderr"
        },
        {
          "output_type": "stream",
          "text": [
            "None\n",
            "dropped\n",
            "1524\n",
            "Link Type\n",
            "https://www.gonews24.com/national/news/97047/%E0%A7%A7%E0%A7%AE-%E0%A6%AC%E0%A6%9B%E0%A6%B0%E0%A7%87%E0%A6%B0-%E0%A6%95%E0%A6%AE-%E0%A6%AC%E0%A7%9F%E0%A6%B8%E0%A7%80%E0%A6%A6%E0%A7%87%E0%A6%B0-%E0%A6%95%E0%A6%B0%E0%A7%8B%E0%A6%A8%E0%A6%BE-%E0%A6%AD%E0%A7%8D%E0%A6%AF%E0%A6%BE%E0%A6%95%E0%A6%B8%E0%A6%BF%E0%A6%A8-%E0%A6%B2%E0%A6%BE%E0%A6%97%E0%A6%AC%E0%A7%87-%E0%A6%A8%E0%A6%BE-%E0%A6%B8%E0%A7%8D%E0%A6%AC%E0%A6%BE%E0%A6%B8%E0%A7%8D%E0%A6%A5%E0%A7%8D%E0%A6%AF%E0%A6%AE%E0%A6%A8%E0%A7%8D%E0%A6%A4%E0%A7%8D%E0%A6%B0%E0%A7%80\n",
            "Description Updated\n",
            "1525\n",
            "Link Type\n",
            "https://mzamin.com/article.php?mzamin=256299\n",
            "Description Updated\n",
            "1526\n",
            "Link Type\n",
            "https://www.ekushey-tv.com/corona-crisis/news/120054#.X-oXszH59fg.facebook\n",
            "Description Updated\n",
            "1527\n",
            "Status Type\n",
            "Continuing\n",
            "1528\n",
            "Status Type\n",
            "Continuing\n",
            "1529\n",
            "Status Type\n",
            "Continuing\n",
            "1530\n",
            "Link Type\n",
            "https://www.satv.tv/%e0%a6%b2%e0%a6%a8%e0%a7%8d%e0%a6%a1%e0%a6%a8-%e0%a6%a5%e0%a7%87%e0%a6%95%e0%a7%87-%e0%a6%ab%e0%a6%bf%e0%a6%b0%e0%a6%b2%e0%a7%87%e0%a6%87-%e0%a7%a7%e0%a7%aa-%e0%a6%a6%e0%a6%bf%e0%a6%a8%e0%a7%87/\n",
            "Description Updated\n",
            "1531\n",
            "Link Type\n",
            "https://www.anandabazar.com/international/us-president-donald-trump-signed-coronavirus-relief-and-spending-package-bill-dgtl-1.1250513?utm_source=facebook&utm_medium=social&utm_campaign=daily\n",
            "Description Updated\n",
            "1532\n",
            "Link Type\n",
            "https://thebdreport.com/archives/46404\n"
          ],
          "name": "stdout"
        },
        {
          "output_type": "stream",
          "text": [
            "ERROR:trafilatura.utils:not a 200 response: 404 for URL https://thebdreport.com/archives/46404\n",
            "ERROR:trafilatura.utils:this type cannot be processed: <class 'NoneType'>\n"
          ],
          "name": "stderr"
        },
        {
          "output_type": "stream",
          "text": [
            "None\n",
            "dropped\n",
            "1533\n",
            "Link Type\n",
            "https://www.jagonews24.com/probash/news/632225\n",
            "Description Updated\n",
            "1534\n",
            "Link Type\n",
            "https://www.ummah24.com/?p=49466\n"
          ],
          "name": "stdout"
        },
        {
          "output_type": "stream",
          "text": [
            "ERROR:trafilatura.utils:not a 200 response: 404 for URL https://www.ummah24.com/?p=49466\n",
            "ERROR:trafilatura.utils:this type cannot be processed: <class 'NoneType'>\n",
            "ERROR:trafilatura.utils:not a 200 response: 403 for URL https://www.bangla.24livenewspaper.com/world/73207-china-to-leapfrog-us\n",
            "ERROR:trafilatura.utils:this type cannot be processed: <class 'NoneType'>\n"
          ],
          "name": "stderr"
        },
        {
          "output_type": "stream",
          "text": [
            "None\n",
            "dropped\n",
            "1535\n",
            "Link Type\n",
            "https://www.bangla.24livenewspaper.com/world/73207-china-to-leapfrog-us\n",
            "None\n",
            "dropped\n",
            "1536\n",
            "Link Type\n",
            "http://www.onnoekdiganta.com/article/detail/10602\n",
            "Description Updated\n",
            "1537\n",
            "Status Type\n",
            "Continuing\n",
            "1538\n",
            "Link Type\n",
            "https://www.dainikshiksha.com/%E0%A6%95%E0%A6%B0%E0%A7%8B%E0%A6%A8%E0%A6%BE-%E0%A6%AA%E0%A6%B0%E0%A6%BF%E0%A6%B8%E0%A7%8D%E0%A6%A5%E0%A6%BF%E0%A6%A4%E0%A6%BF-%E0%A6%85%E0%A6%A8%E0%A7%81%E0%A6%95%E0%A7%82%E0%A6%B2%E0%A7%87-%E0%A6%A8%E0%A6%BE-%E0%A6%86%E0%A6%B8%E0%A6%B2%E0%A7%87-%E0%A6%B6%E0%A6%BF%E0%A6%95%E0%A7%8D%E0%A6%B7%E0%A6%BE%E0%A6%AA%E0%A7%8D%E0%A6%B0%E0%A6%A4%E0%A6%BF%E0%A6%B7%E0%A7%8D%E0%A6%A0%E0%A6%BE%E0%A6%A8-%E0%A6%96%E0%A7%8B%E0%A6%B2%E0%A6%BE-%E0%A6%B9%E0%A6%AC%E0%A7%87-%E0%A6%A8%E0%A6%BE-%E0%A6%AA%E0%A7%8D%E0%A6%B0%E0%A6%A7%E0%A6%BE%E0%A6%A8%E0%A6%AE%E0%A6%A8%E0%A7%8D%E0%A6%A4%E0%A7%8D%E0%A6%B0%E0%A7%80/201172/\n",
            "Description Updated\n",
            "1539\n",
            "Link Type\n",
            "http://lavanewz.com/archives/3243\n",
            "Description Updated\n",
            "1540\n",
            "Link Type\n",
            "https://asifzonal.com/archives/2188\n",
            "Description Updated\n",
            "1541\n",
            "Link Type\n",
            "http://www.onebanglanews.com/news/136925\n",
            "Description Updated\n",
            "1542\n",
            "Link Type\n",
            "https://www.maasranga24.com/?p=59298\n"
          ],
          "name": "stdout"
        },
        {
          "output_type": "stream",
          "text": [
            "ERROR:trafilatura.utils:not a 200 response: 404 for URL https://www.maasranga24.com/?p=59298\n",
            "ERROR:trafilatura.utils:this type cannot be processed: <class 'NoneType'>\n"
          ],
          "name": "stderr"
        },
        {
          "output_type": "stream",
          "text": [
            "None\n",
            "dropped\n",
            "1543\n",
            "Link Type\n",
            "https://eisamay.indiatimes.com/west-bengal-news/kolkata-news/within-last-24-hours-1170-people-effected-by-coronavirus-in-west-bengal-dead-29/articleshow/80049848.cms\n",
            "Description Updated\n",
            "1544\n",
            "Link Type\n",
            "https://inabd.com/archives/9567\n",
            "Description Updated\n",
            "1545\n",
            "Link Type\n",
            "https://www.thewall.in/news-world-we-do-nothing-to-prevent-next-one-who-chiefs-warning-on-pandemics/\n"
          ],
          "name": "stdout"
        },
        {
          "output_type": "stream",
          "text": [
            "ERROR:trafilatura.core:not enough text None\n"
          ],
          "name": "stderr"
        },
        {
          "output_type": "stream",
          "text": [
            "Description Updated\n",
            "1546\n",
            "Link Type\n",
            "https://writebangla24.com/%e0%a6%86%e0%a6%b2%e0%a6%b9%e0%a6%be%e0%a6%ae%e0%a6%a6%e0%a7%81%e0%a6%b2%e0%a6%bf%e0%a6%b2%e0%a7%8d%e0%a6%b2%e0%a6%be%e0%a6%b9%e0%a7%8d%e2%80%8c-%e0%a6%93%e0%a6%ae%e0%a6%b0%e0%a6%be%e0%a6%b9/\n",
            "Description Updated\n",
            "1547\n",
            "Link Type\n",
            "https://banglavision.tv/%e0%a6%9c%e0%a6%be%e0%a6%a4%e0%a7%80%e0%a6%af%e0%a6%bc/63325/\n",
            "Description Updated\n",
            "1548\n",
            "Link Type\n",
            "https://bengali.news18.com/videos/kolkata/britain-kolkata-flight-suspended-till-7th-january-dc-541710.html\n"
          ],
          "name": "stdout"
        },
        {
          "output_type": "stream",
          "text": [
            "WARNING:trafilatura.utils:wrong encoding detected: utf-8\n"
          ],
          "name": "stderr"
        },
        {
          "output_type": "stream",
          "text": [
            "Description Updated\n",
            "1549\n",
            "Link Type\n",
            "https://news.bd24report.com/post/%e0%a6%a6%e0%a7%87%e0%a6%b6%e0%a7%87%e0%a6%b0-%e0%a7%a8%e0%a7%a6-%e0%a6%b6%e0%a6%a4%e0%a6%be%e0%a6%82%e0%a6%b6-%e0%a6%ae%e0%a6%be%e0%a6%a8%e0%a7%81%e0%a6%b7-%e0%a6%ad%e0%a7%8d%e0%a6%af%e0%a6%be/\n",
            "Description Updated\n",
            "1550\n",
            "Status Type\n",
            "Continuing\n",
            "1551\n",
            "Status Type\n",
            "Continuing\n",
            "1552\n",
            "Link Type\n",
            "https://www.somoynews.tv/pages/details/254856\n",
            "Description Updated\n",
            "1553\n",
            "Link Type\n",
            "http://ekhonkhobor.com/2020/12/28/haspatal-e-corona-akranto-okhil-giri/\n",
            "Description Updated\n",
            "1554\n",
            "Status Type\n",
            "Continuing\n",
            "1555\n",
            "Status Type\n",
            "Continuing\n",
            "1556\n",
            "Link Type\n",
            "https://www.somoynews.tv/pages/details/254984\n"
          ],
          "name": "stdout"
        },
        {
          "output_type": "stream",
          "text": [
            "WARNING:trafilatura.utils:wrong encoding detected: utf-8\n"
          ],
          "name": "stderr"
        },
        {
          "output_type": "stream",
          "text": [
            "Description Updated\n",
            "1557\n",
            "Link Type\n",
            "https://www.daily-bangladesh.com/national/223962\n"
          ],
          "name": "stdout"
        },
        {
          "output_type": "stream",
          "text": [
            "ERROR:trafilatura.utils:retries/redirects: https://www.ourislam24.com/2020/12/30/%e0%a6%9f%e0%a6%bf%e0%a6%95%e0%a6%be-%e0%a6%a8%e0%a7%87%e0%a6%93%e0%a7%9f%e0%a6%be%e0%a6%b0-%e0%a7%a7-%e0%a6%b8%e0%a6%aa%e0%a7%8d%e0%a6%a4%e0%a6%be%e0%a6%b9-%e0%a6%aa%e0%a6%b0-%e0%a6%95%e0%a6%b0/ HTTPSConnectionPool(host='www.ourislam24.com', port=443): Max retries exceeded with url: /2020/12/30/%E0%A6%9F%E0%A6%BF%E0%A6%95%E0%A6%BE-%E0%A6%A8%E0%A7%87%E0%A6%93%E0%A7%9F%E0%A6%BE%E0%A6%B0-%E0%A7%A7-%E0%A6%B8%E0%A6%AA%E0%A7%8D%E0%A6%A4%E0%A6%BE%E0%A6%B9-%E0%A6%AA%E0%A6%B0-%E0%A6%95%E0%A6%B0/ (Caused by ResponseError('too many 503 error responses'))\n",
            "ERROR:trafilatura.utils:parsing failed: Document is empty\n"
          ],
          "name": "stderr"
        },
        {
          "output_type": "stream",
          "text": [
            "Description Updated\n",
            "1558\n",
            "Link Type\n",
            "https://www.ourislam24.com/2020/12/30/%e0%a6%9f%e0%a6%bf%e0%a6%95%e0%a6%be-%e0%a6%a8%e0%a7%87%e0%a6%93%e0%a7%9f%e0%a6%be%e0%a6%b0-%e0%a7%a7-%e0%a6%b8%e0%a6%aa%e0%a7%8d%e0%a6%a4%e0%a6%be%e0%a6%b9-%e0%a6%aa%e0%a6%b0-%e0%a6%95%e0%a6%b0/\n",
            "None\n",
            "dropped\n",
            "1559\n",
            "Link Type\n",
            "https://www.bdnews24us.com/77539/index.html\n",
            "Description Updated\n",
            "1560\n",
            "Link Type\n",
            "https://greenbangladesh24.com/%E0%A6%93%E0%A6%AE%E0%A6%B0%E0%A6%BE%E0%A6%B9-%E0%A6%AA%E0%A6%BE%E0%A6%B2%E0%A6%A8%E0%A7%87-%E0%A7%AB%E0%A7%A6-%E0%A6%B2%E0%A6%BE%E0%A6%96-%E0%A6%AE%E0%A6%BE%E0%A6%A8%E0%A7%81%E0%A6%B7-%E0%A6%95/\n",
            "Description Updated\n",
            "1561\n",
            "Link Type\n",
            "https://www.jagonews24.com/politics/news/632943\n",
            "Description Updated\n",
            "1562\n",
            "Link Type\n",
            "https://bangla.bdnews24.com/bangladesh/article1842895.bdnews\n",
            "Description Updated\n",
            "1563\n",
            "Status Type\n",
            "Continuing\n",
            "1564\n",
            "Link Type\n",
            "https://ekushernews.com/?p=23298\n",
            "Description Updated\n",
            "1565\n",
            "Link Type\n",
            "https://www.bd-pratidin.com/probash-potro/2020/12/28/601912\n",
            "Description Updated\n",
            "1566\n",
            "Link Type\n",
            "https://www.jugantor.com/covid-19/378436/%E0%A6%AF%E0%A7%81%E0%A6%95%E0%A7%8D%E0%A6%A4%E0%A6%B0%E0%A6%BE%E0%A6%9C%E0%A7%8D%E0%A6%AF-%E0%A6%A5%E0%A7%87%E0%A6%95%E0%A7%87-%E0%A6%8F%E0%A6%B2%E0%A7%87%E0%A6%87-%E0%A7%A7%E0%A7%AA-%E0%A6%A6%E0%A6%BF%E0%A6%A8%E0%A7%87%E0%A6%B0-%E0%A6%95%E0%A7%8B%E0%A7%9F%E0%A6%BE%E0%A6%B0%E0%A7%87%E0%A6%A8%E0%A7%8D%E0%A6%9F%E0%A6%BF%E0%A6%A8\n",
            "Description Updated\n",
            "1567\n",
            "Link Type\n",
            "https://www.dailyinqilab.com/article/345787/%E0%A6%86%E0%A6%95%E0%A7%8D%E0%A6%B0%E0%A6%BE%E0%A6%A8%E0%A7%8D%E0%A6%A4-%E0%A6%95%E0%A6%AE%E0%A6%9B%E0%A7%87\n",
            "Description Updated\n",
            "1568\n",
            "Status Type\n",
            "Continuing\n",
            "1569\n",
            "Link Type\n",
            "https://ctgtimes.com/2020/12/international/22413/\n",
            "Description Updated\n",
            "1570\n",
            "Link Type\n",
            "https://www.banglatribune.com/others/news/659884/%E0%A6%95%E0%A6%B0%E0%A7%8B%E0%A6%A8%E0%A6%BE-%E0%A6%86%E0%A6%95%E0%A7%8D%E0%A6%B0%E0%A6%BE%E0%A6%A8%E0%A7%8D%E0%A6%A4-%E0%A6%B9%E0%A7%9F%E0%A7%87-%E0%A6%86%E0%A6%B0%E0%A6%93-%E0%A6%8F%E0%A6%95-%E0%A6%9A%E0%A6%BF%E0%A6%95%E0%A6%BF%E0%A7%8E%E0%A6%B8%E0%A6%95%E0%A7%87%E0%A6%B0-%E0%A6%AE%E0%A7%83%E0%A6%A4%E0%A7%8D%E0%A6%AF%E0%A7%81\n",
            "Description Updated\n",
            "1571\n",
            "Link Type\n",
            "https://news.bd24report.com/post/%e0%a6%9c%e0%a6%b0%e0%a7%81%e0%a6%b0%e0%a7%80-%e0%a6%a4%e0%a7%8d%e0%a6%b0%e0%a6%be%e0%a6%a3-%e0%a6%ac%e0%a6%bf%e0%a6%b2%e0%a7%87-%e0%a6%b8%e0%a7%8d%e0%a6%ac%e0%a6%be%e0%a6%95%e0%a7%8d%e0%a6%b7/\n",
            "Description Updated\n",
            "1572\n",
            "Link Type\n",
            "https://bangla.bdnews24.com/world/article1841816.bdnews\n",
            "Description Updated\n",
            "1573\n",
            "Link Type\n",
            "https://www.dailynayadiganta.com/europe/551790/%E0%A6%86%E0%A6%9C-%E0%A6%95%E0%A6%B0%E0%A7%8B%E0%A6%A8%E0%A6%BE-%E0%A6%9F%E0%A6%BF%E0%A6%95%E0%A6%BE-%E0%A6%A6%E0%A7%87%E0%A7%9F%E0%A6%BE-%E0%A6%B6%E0%A7%81%E0%A6%B0%E0%A7%81-%E0%A6%95%E0%A6%B0%E0%A6%9B%E0%A7%87-%E0%A6%87%E0%A6%87%E0%A6%89\n",
            "Description Updated\n",
            "1574\n",
            "Status Type\n",
            "Continuing\n",
            "1575\n",
            "Status Type\n",
            "Continuing\n",
            "1576\n",
            "Status Type\n",
            "Continuing\n",
            "1577\n",
            "Link Type\n",
            "https://insaf24.net/saturday-26december-dotnet-news102/\n",
            "Description Updated\n",
            "1578\n",
            "Link Type\n",
            "https://bijoytimes.com/%e0%a6%b8%e0%a7%8d%e0%a6%ac%e0%a6%be%e0%a6%ae%e0%a7%80%e0%a6%b0-%e0%a6%95%e0%a6%b0%e0%a7%8b%e0%a6%a8%e0%a6%be-%e0%a6%b8%e0%a7%8d%e0%a6%a4%e0%a7%8d%e0%a6%b0%e0%a7%80-%e0%a6%ac%e0%a6%be%e0%a6%aa/\n",
            "Description Updated\n",
            "1579\n",
            "Status Type\n",
            "Continuing\n",
            "1580\n",
            "Link Type\n",
            "https://bengali.news18.com/news/coronavirus-latest-news/india-extends-uk-flights-ban-till-january-7-ad-541726.html\n",
            "Description Updated\n",
            "1581\n",
            "Link Type\n",
            "https://www.ekushey-tv.com/education/news/120056#.X-qYkdRrw3o.facebook\n",
            "Description Updated\n",
            "1582\n",
            "Link Type\n",
            "https://m.bdnews24.com/bn/detail/cricket/1842093\n",
            "Description Updated\n",
            "1583\n",
            "Status Type\n",
            "Continuing\n",
            "1584\n",
            "Status Type\n",
            "Continuing\n",
            "1585\n",
            "Status Type\n",
            "Continuing\n",
            "1586\n",
            "Link Type\n",
            "https://www.ittefaq.com.bd/education/210141/%E0%A6%AC%E0%A6%BE%E0%A6%A4%E0%A6%BF%E0%A6%B2-%E0%A6%B9%E0%A6%9A%E0%A7%8D%E0%A6%9B%E0%A7%87-%E0%A6%B6%E0%A6%BF%E0%A6%95%E0%A7%8D%E0%A6%B7%E0%A6%BE%E0%A6%B0%E0%A7%8D%E0%A6%A5%E0%A7%80%E0%A6%A6%E0%A7%87%E0%A6%B0-%E0%A6%B0%E0%A7%8B%E0%A6%B2-%E0%A6%A8%E0%A6%AE%E0%A7%8D%E0%A6%AC%E0%A6%B0-%E0%A6%AA%E0%A7%8D%E0%A6%B0%E0%A6%A5%E0%A6%BE%C2%A0\n",
            "Description Updated\n",
            "1587\n",
            "Link Type\n",
            "http://ekhonkhobor.com/2020/12/28/corona-r-notun-strain-niye-sotorko-thakte-hobe/\n",
            "Description Updated\n",
            "1588\n",
            "Link Type\n",
            "https://bn.mpnews.com.bd/?other_posts=%E0%A6%86%E0%A6%9C-%E0%A6%AC%E0%A6%87-%E0%A6%89%E0%A7%8E%E0%A6%B8%E0%A6%AC-%E0%A6%89%E0%A6%A6%E0%A7%8D%E0%A6%AC%E0%A7%8B%E0%A6%A7%E0%A6%A8-%E0%A6%95%E0%A6%B0%E0%A6%B2%E0%A7%87%E0%A6%A8-%E0%A6%AA\n",
            "Description Updated\n",
            "1589\n",
            "Link Type\n",
            "https://www.calcuttanewstv.com/2020/12/chinese%20journalist%20arrested%20for%20reporting%20coronavirus%20in%20wuhan%20china.html\n",
            "Description Updated\n",
            "1590\n",
            "Link Type\n",
            "https://www.rtvonline.com/sports/114703/%E0%A6%95%E0%A6%B0%E0%A7%8B%E0%A6%A8%E0%A6%BE-%E0%A6%AD%E0%A7%9F-%E0%A6%A8%E0%A6%BF%E0%A7%9F%E0%A6%AE%E0%A6%BF%E0%A6%A4-%E0%A7%A7%E0%A7%A9-%E0%A6%B8%E0%A6%A6%E0%A6%B8%E0%A7%8D%E0%A6%AF-%E0%A6%9B%E0%A6%BE%E0%A7%9C%E0%A6%BE%E0%A6%87-%E0%A6%AC%E0%A6%BE%E0%A6%82%E0%A6%B2%E0%A6%BE%E0%A6%A6%E0%A7%87%E0%A6%B6-%E0%A6%B8%E0%A6%AB%E0%A6%B0%E0%A7%87%E0%A6%B0-%E0%A6%A6%E0%A6%B2-%E0%A6%89%E0%A6%87%E0%A6%A8%E0%A7%8D%E0%A6%A1%E0%A6%BF%E0%A6%9C%E0%A6%A6%E0%A7%87%E0%A6%B0\n",
            "Description Updated\n",
            "1591\n",
            "Link Type\n",
            "https://bengali.news18.com/photogallery/entertainment/bollywood-salman-khan-celebrate-his-birthday-at-his-panvel-farmhouse-with-family-photo-viral-arn-540830.html\n"
          ],
          "name": "stdout"
        },
        {
          "output_type": "stream",
          "text": [
            "WARNING:trafilatura.utils:wrong encoding detected: utf-8\n"
          ],
          "name": "stderr"
        },
        {
          "output_type": "stream",
          "text": [
            "Description Updated\n",
            "1592\n",
            "Link Type\n",
            "https://www.sangbadpratidin.in/india/coronavirus-with-18732-new-covid-19-infections-indias-total-cases-rise-to-10187850/\n"
          ],
          "name": "stdout"
        },
        {
          "output_type": "stream",
          "text": [
            "ERROR:trafilatura.utils:not a 200 response: 403 for URL https://samakal.com/entertainment/article/201248007/%E0%A6%AC%E0%A6%9B%E0%A6%B0%E0%A7%87%E0%A6%B0-%E0%A6%AA%E0%A7%8D%E0%A6%B0%E0%A6%A5%E0%A6%AE-%E0%A6%A6%E0%A6%BF%E0%A6%A8-%E0%A6%9C%E0%A6%BE%E0%A6%A8%E0%A6%BE-%E0%A6%AF%E0%A6%BE%E0%A6%AC%E0%A7%87-%E0%A6%AC%E0%A6%BF%E0%A6%9C%E0%A7%9F%E0%A7%80-%E0%A7%A9%E0%A7%A6-%E0%A6%9C%E0%A6%A8%E0%A7%87%E0%A6%B0-%E0%A6%A8%E0%A6%BE%E0%A6%AE\n",
            "ERROR:trafilatura.utils:this type cannot be processed: <class 'NoneType'>\n"
          ],
          "name": "stderr"
        },
        {
          "output_type": "stream",
          "text": [
            "Description Updated\n",
            "1593\n",
            "Link Type\n",
            "https://samakal.com/entertainment/article/201248007/%E0%A6%AC%E0%A6%9B%E0%A6%B0%E0%A7%87%E0%A6%B0-%E0%A6%AA%E0%A7%8D%E0%A6%B0%E0%A6%A5%E0%A6%AE-%E0%A6%A6%E0%A6%BF%E0%A6%A8-%E0%A6%9C%E0%A6%BE%E0%A6%A8%E0%A6%BE-%E0%A6%AF%E0%A6%BE%E0%A6%AC%E0%A7%87-%E0%A6%AC%E0%A6%BF%E0%A6%9C%E0%A7%9F%E0%A7%80-%E0%A7%A9%E0%A7%A6-%E0%A6%9C%E0%A6%A8%E0%A7%87%E0%A6%B0-%E0%A6%A8%E0%A6%BE%E0%A6%AE\n",
            "None\n",
            "dropped\n",
            "1594\n",
            "Status Type\n",
            "Continuing\n",
            "1595\n",
            "Link Type\n",
            "https://bn.mpnews.com.bd/?p=47703\n",
            "Description Updated\n",
            "1596\n",
            "Link Type\n",
            "https://jamuna.tv/news/194660\n",
            "Description Updated\n",
            "1597\n",
            "Link Type\n",
            "https://mzamin.com/article.php?mzamin=256551&cat=3%2F%E0%A6%A2%E0%A6%BE%E0%A6%AE%E0%A7%87%E0%A6%95%E0%A7%87-%E0%A6%95%E0%A6%B0%E0%A7%8B%E0%A6%A8%E0%A6%BE%E0%A6%B0-%E0%A6%9A%E0%A7%87%E0%A7%9F%E0%A7%87-%E0%A6%A4%E0%A6%BF%E0%A6%A8%E0%A6%97%E0%A7%81%E0%A6%A3-%E0%A6%AE%E0%A7%83%E0%A6%A4%E0%A7%8D%E0%A6%AF%E0%A7%81-%E0%A6%89%E0%A6%AA%E0%A6%B8%E0%A6%B0%E0%A7%8D%E0%A6%97-%E0%A6%A8%E0%A6%BF%E0%A7%9F%E0%A7%87\n",
            "Description Updated\n",
            "1598\n",
            "Link Type\n",
            "https://www.anandabazar.com/national/covid-vaccine-dry-run-starts-in-4-states-from-today-dgtl-1.1250539?utm_source=facebook&utm_medium=social&utm_campaign=daily\n",
            "Description Updated\n",
            "1599\n",
            "Link Type\n",
            "https://festalnews.com/archives/21232\n"
          ],
          "name": "stdout"
        },
        {
          "output_type": "stream",
          "text": [
            "ERROR:trafilatura.utils:not a 200 response: 404 for URL https://probashtime.com/2020/12/29/%e0%a6%b8%e0%a6%ae%e0%a6%97%e0%a7%8d%e0%a6%b0-%e0%a6%93%e0%a6%ae%e0%a6%be%e0%a6%a8%e0%a7%87-%e0%a6%b6%e0%a7%81%e0%a6%b0%e0%a7%81-%e0%a6%b9%e0%a6%b2%e0%a7%8b-%e0%a6%95%e0%a6%b0%e0%a7%8b%e0%a6%a8/\n",
            "ERROR:trafilatura.utils:this type cannot be processed: <class 'NoneType'>\n"
          ],
          "name": "stderr"
        },
        {
          "output_type": "stream",
          "text": [
            "Description Updated\n",
            "1600\n",
            "Link Type\n",
            "https://probashtime.com/2020/12/29/%e0%a6%b8%e0%a6%ae%e0%a6%97%e0%a7%8d%e0%a6%b0-%e0%a6%93%e0%a6%ae%e0%a6%be%e0%a6%a8%e0%a7%87-%e0%a6%b6%e0%a7%81%e0%a6%b0%e0%a7%81-%e0%a6%b9%e0%a6%b2%e0%a7%8b-%e0%a6%95%e0%a6%b0%e0%a7%8b%e0%a6%a8/\n",
            "None\n",
            "dropped\n",
            "1601\n",
            "Link Type\n",
            "https://enews.bd24report.com/2020/12/29/%e0%a6%ad%e0%a6%be%e0%a6%b0%e0%a6%a4-%e0%a6%93-%e0%a6%aa%e0%a6%be%e0%a6%95%e0%a6%bf%e0%a6%b8%e0%a7%8d%e0%a6%a4%e0%a6%be%e0%a6%a8%e0%a7%87-%e0%a6%ae%e0%a6%bf%e0%a6%b2%e0%a6%b2-%e0%a6%95%e0%a6%b0/\n",
            "Description Updated\n",
            "1602\n",
            "Link Type\n",
            "https://chandpurtimes.com/%e0%a6%b2%e0%a6%a8%e0%a7%8d%e0%a6%a1%e0%a6%a8-%e0%a6%a5%e0%a7%87%e0%a6%95%e0%a7%87-%e0%a6%ab%e0%a6%bf%e0%a6%b0%e0%a6%b2%e0%a7%87%e0%a6%87-%e0%a7%a7%e0%a7%aa-%e0%a6%a6%e0%a6%bf%e0%a6%a8%e0%a7%87/\n",
            "Description Updated\n",
            "1603\n",
            "Link Type\n",
            "https://www.jugantor.com/national/379402/%E0%A6%9C%E0%A6%BE%E0%A6%A4%E0%A7%80%E0%A7%9F-%E0%A6%AC%E0%A6%87-%E0%A6%89%E0%A7%8E%E0%A6%B8%E0%A6%AC%E0%A7%87%E0%A6%B0-%E0%A6%89%E0%A6%A6%E0%A7%8D%E0%A6%AC%E0%A7%8B%E0%A6%A7%E0%A6%A8%C2%A0\n",
            "Description Updated\n",
            "1604\n",
            "Status Type\n",
            "Continuing\n",
            "1605\n",
            "Link Type\n",
            "https://banglanews24.com/national/news/bd/831951.details\n"
          ],
          "name": "stdout"
        },
        {
          "output_type": "stream",
          "text": [
            "ERROR:trafilatura.utils:not a 200 response: 404 for URL https://probashtime.com/2020/12/27/%e0%a6%93%e0%a6%ae%e0%a6%be%e0%a6%a8%e0%a7%87-%e0%a6%86%e0%a6%a8%e0%a7%81%e0%a6%b7%e0%a7%8d%e0%a6%a0%e0%a6%be%e0%a6%a8%e0%a6%bf%e0%a6%95-%e0%a6%ad%e0%a6%be%e0%a6%ac%e0%a7%87-%e0%a6%b6%e0%a7%81/\n",
            "ERROR:trafilatura.utils:this type cannot be processed: <class 'NoneType'>\n"
          ],
          "name": "stderr"
        },
        {
          "output_type": "stream",
          "text": [
            "Description Updated\n",
            "1606\n",
            "Status Type\n",
            "Continuing\n",
            "1607\n",
            "Status Type\n",
            "Continuing\n",
            "1608\n",
            "Link Type\n",
            "https://probashtime.com/2020/12/27/%e0%a6%93%e0%a6%ae%e0%a6%be%e0%a6%a8%e0%a7%87-%e0%a6%86%e0%a6%a8%e0%a7%81%e0%a6%b7%e0%a7%8d%e0%a6%a0%e0%a6%be%e0%a6%a8%e0%a6%bf%e0%a6%95-%e0%a6%ad%e0%a6%be%e0%a6%ac%e0%a7%87-%e0%a6%b6%e0%a7%81/\n",
            "None\n",
            "dropped\n",
            "1609\n",
            "Status Type\n",
            "Continuing\n",
            "1610\n",
            "Status Type\n",
            "Continuing\n",
            "1611\n",
            "Link Type\n",
            "https://thedailycampus.com/national/60144\n",
            "Description Updated\n",
            "1612\n",
            "Link Type\n",
            "https://www.jagonews24.com/probash/article/632251\n",
            "Description Updated\n",
            "1613\n",
            "Link Type\n",
            "https://www.ittefaq.com.bd/capital/210354/%E0%A6%95%E0%A6%B0%E0%A7%87%E0%A6%BE%E0%A6%A8%E0%A6%BE%E0%A7%9F-%E0%A6%B0%E0%A6%BE%E0%A6%AC%E0%A6%BF%E0%A6%B0-%E0%A6%B8%E0%A6%BE%E0%A6%AC%E0%A7%87%E0%A6%95-%E0%A6%89%E0%A6%AA-%E0%A6%89%E0%A6%AA%E0%A6%BE%E0%A6%9A%E0%A6%BE%E0%A6%B0%E0%A7%8D%E0%A6%AF-%E0%A6%86%E0%A6%A4%E0%A6%AB%E0%A7%81%E0%A6%B2-%E0%A6%B9%E0%A6%BE%E0%A6%87-%E0%A6%B6%E0%A6%BF%E0%A6%AC%E0%A6%B2%E0%A7%80%E0%A6%B0-%E0%A6%AE%E0%A7%83%E0%A6%A4%E0%A7%8D%E0%A6%AF%E0%A7%81\n",
            "Description Updated\n",
            "1614\n",
            "Link Type\n",
            "https://banglanews24.com/education/news/bd/831995.details\n",
            "Description Updated\n",
            "1615\n",
            "Link Type\n",
            "http://www.kalerkantho.com/online/national/2020/12/29/990171\n",
            "Description Updated\n",
            "1616\n",
            "Link Type\n",
            "https://www.somoynews.tv/pages/details/255581\n"
          ],
          "name": "stdout"
        },
        {
          "output_type": "stream",
          "text": [
            "WARNING:trafilatura.utils:wrong encoding detected: utf-8\n"
          ],
          "name": "stderr"
        },
        {
          "output_type": "stream",
          "text": [
            "Description Updated\n",
            "1617\n",
            "Link Type\n",
            "https://bdcrime24.com/%E0%A6%A6%E0%A7%80%E0%A6%B0%E0%A7%8D%E0%A6%98-%E0%A7%AF-%E0%A6%AE%E0%A6%BE%E0%A6%B8-%E0%A6%AA%E0%A6%B0-%E0%A6%AC%E0%A6%AC%E0%A6%BF%E0%A6%A4%E0%A7%87-%E0%A6%AA%E0%A6%B0%E0%A7%80%E0%A6%95%E0%A7%8D/\n",
            "Description Updated\n",
            "1618\n",
            "Status Type\n",
            "Continuing\n",
            "1619\n",
            "Link Type\n",
            "https://www.nytimesbd.com/international/news/9231\n"
          ],
          "name": "stdout"
        },
        {
          "output_type": "stream",
          "text": [
            "ERROR:trafilatura.core:not enough text None\n"
          ],
          "name": "stderr"
        },
        {
          "output_type": "stream",
          "text": [
            "Description Updated\n",
            "1620\n",
            "Status Type\n",
            "Continuing\n",
            "1621\n",
            "Status Type\n",
            "Continuing\n",
            "1622\n",
            "Link Type\n",
            "https://www.nytimesbd.com/latest/news/9198\n"
          ],
          "name": "stdout"
        },
        {
          "output_type": "stream",
          "text": [
            "ERROR:trafilatura.core:not enough text None\n"
          ],
          "name": "stderr"
        },
        {
          "output_type": "stream",
          "text": [
            "Description Updated\n",
            "1623\n",
            "Link Type\n",
            "https://www.jagonews24.com/national/news/633128\n"
          ],
          "name": "stdout"
        },
        {
          "output_type": "stream",
          "text": [
            "ERROR:trafilatura.utils:not a 200 response: 404 for URL https://probashtime.com/2020/12/29/%e0%a6%93%e0%a6%ae%e0%a6%be%e0%a6%a8%e0%a7%87-%e0%a6%95%e0%a6%b0%e0%a7%8b%e0%a6%a8%e0%a6%be%e0%a7%9f-%e0%a6%a8%e0%a6%a4%e0%a7%81%e0%a6%a8-%e0%a6%86%e0%a6%95%e0%a7%8d%e0%a6%b0%e0%a6%be%e0%a6%a8-9/\n",
            "ERROR:trafilatura.utils:this type cannot be processed: <class 'NoneType'>\n"
          ],
          "name": "stderr"
        },
        {
          "output_type": "stream",
          "text": [
            "Description Updated\n",
            "1624\n",
            "Link Type\n",
            "https://probashtime.com/2020/12/29/%e0%a6%93%e0%a6%ae%e0%a6%be%e0%a6%a8%e0%a7%87-%e0%a6%95%e0%a6%b0%e0%a7%8b%e0%a6%a8%e0%a6%be%e0%a7%9f-%e0%a6%a8%e0%a6%a4%e0%a7%81%e0%a6%a8-%e0%a6%86%e0%a6%95%e0%a7%8d%e0%a6%b0%e0%a6%be%e0%a6%a8-9/\n",
            "None\n",
            "dropped\n",
            "1625\n",
            "Status Type\n",
            "Continuing\n",
            "1626\n",
            "Link Type\n",
            "http://educationbangla.com/2020/12/29/%e0%a6%9c%e0%a7%81%e0%a6%a8%e0%a7%87-%e0%a6%8f%e0%a6%b8%e0%a6%8f%e0%a6%b8%e0%a6%b8%e0%a6%bf-%e0%a6%9c%e0%a7%81%e0%a6%b2%e0%a6%be%e0%a6%87-%e0%a6%86%e0%a6%97%e0%a6%b8%e0%a7%8d%e0%a6%9f%e0%a7%87/\n"
          ],
          "name": "stdout"
        },
        {
          "output_type": "stream",
          "text": [
            "ERROR:trafilatura.utils:retries/redirects: https://shikshabarta.com/%e0%a6%ae%e0%a7%81%e0%a6%b9%e0%a7%81%e0%a6%b0%e0%a7%8d%e0%a6%a4%e0%a7%87%e0%a6%87-%e0%a6%95%e0%a6%b0%e0%a7%8b%e0%a6%a8%e0%a6%be-%e0%a6%b8%e0%a6%be%e0%a6%b0%e0%a6%be%e0%a6%ac%e0%a7%87-%e0%a6%94/ HTTPSConnectionPool(host='shikshabarta.com', port=443): Max retries exceeded with url: /%E0%A6%AE%E0%A7%81%E0%A6%B9%E0%A7%81%E0%A6%B0%E0%A7%8D%E0%A6%A4%E0%A7%87%E0%A6%87-%E0%A6%95%E0%A6%B0%E0%A7%8B%E0%A6%A8%E0%A6%BE-%E0%A6%B8%E0%A6%BE%E0%A6%B0%E0%A6%BE%E0%A6%AC%E0%A7%87-%E0%A6%94/ (Caused by ResponseError('too many 503 error responses'))\n",
            "ERROR:trafilatura.utils:parsing failed: Document is empty\n"
          ],
          "name": "stderr"
        },
        {
          "output_type": "stream",
          "text": [
            "Description Updated\n",
            "1627\n",
            "Link Type\n",
            "https://shikshabarta.com/%e0%a6%ae%e0%a7%81%e0%a6%b9%e0%a7%81%e0%a6%b0%e0%a7%8d%e0%a6%a4%e0%a7%87%e0%a6%87-%e0%a6%95%e0%a6%b0%e0%a7%8b%e0%a6%a8%e0%a6%be-%e0%a6%b8%e0%a6%be%e0%a6%b0%e0%a6%be%e0%a6%ac%e0%a7%87-%e0%a6%94/\n",
            "None\n",
            "dropped\n",
            "1628\n",
            "Link Type\n",
            "https://www.ittefaq.com.bd/worldnews/209838/%E0%A6%86%E0%A6%B0%E0%A7%8D%E0%A6%9C%E0%A7%87%E0%A6%A8%E0%A7%8D%E0%A6%9F%E0%A6%BF%E0%A6%A8%E0%A6%BE%E0%A7%9F-%E0%A6%AA%E0%A7%8C%E0%A6%81%E0%A6%9B%E0%A7%87%E0%A6%9B%E0%A7%87-%E0%A6%B0%E0%A7%81%E0%A6%B6-%E0%A6%AD%E0%A7%8D%E0%A6%AF%E0%A6%BE%E0%A6%95%E0%A6%B8%E0%A6%BF%E0%A6%A8-%E0%A6%B8%E0%A7%8D%E0%A6%AA%E0%A7%81%E0%A6%9F%E0%A6%A8%E0%A6%BF%E0%A6%95-%E0%A6%AD%E0%A6%BF\n",
            "Description Updated\n",
            "1629\n",
            "Link Type\n",
            "https://www.kalerkantho.com/online/world/2020/12/28/989801\n",
            "Description Updated\n",
            "1630\n",
            "Link Type\n",
            "https://www.dailynayadiganta.com/education/551829/%E0%A6%A2%E0%A6%BE%E0%A6%AC%E0%A6%BF-%E0%A6%85%E0%A6%A7%E0%A6%BF%E0%A6%AD%E0%A7%81%E0%A6%95%E0%A7%8D%E0%A6%A4-%E0%A6%B8%E0%A6%BE%E0%A6%A4-%E0%A6%95%E0%A6%B2%E0%A7%87%E0%A6%9C%E0%A7%87%E0%A6%B0-%E0%A6%A8%E0%A6%BE-%E0%A6%B9%E0%A6%93%E0%A7%9F%E0%A6%BE-%E0%A6%AA%E0%A6%B0%E0%A7%80%E0%A6%95%E0%A7%8D%E0%A6%B7%E0%A6%BE%E0%A6%B0-%E0%A6%A8%E0%A6%A4%E0%A7%81%E0%A6%A8-%E0%A6%A4%E0%A6%BE%E0%A6%B0%E0%A6%BF%E0%A6%96-%E0%A6%A8%E0%A6%BF%E0%A6%B0%E0%A7%8D%E0%A6%A7%E0%A6%BE%E0%A6%B0%E0%A6%A3\n",
            "Description Updated\n",
            "1631\n",
            "Status Type\n",
            "Continuing\n",
            "1632\n",
            "Link Type\n",
            "http://dailycanews.com/%E0%A6%AE%E0%A6%BF%E0%A6%B6%E0%A6%B0%E0%A7%87-%E0%A6%95%E0%A6%B0%E0%A7%8B%E0%A6%A8%E0%A6%BE-%E0%A6%B9%E0%A6%BE%E0%A6%B8%E0%A6%AA%E0%A6%BE%E0%A6%A4%E0%A6%BE%E0%A6%B2%E0%A7%87-%E0%A6%AD%E0%A7%9F/\n"
          ],
          "name": "stdout"
        },
        {
          "output_type": "stream",
          "text": [
            "ERROR:trafilatura.utils:retries/redirects: http://dailycanews.com/%E0%A6%AE%E0%A6%BF%E0%A6%B6%E0%A6%B0%E0%A7%87-%E0%A6%95%E0%A6%B0%E0%A7%8B%E0%A6%A8%E0%A6%BE-%E0%A6%B9%E0%A6%BE%E0%A6%B8%E0%A6%AA%E0%A6%BE%E0%A6%A4%E0%A6%BE%E0%A6%B2%E0%A7%87-%E0%A6%AD%E0%A7%9F/ HTTPConnectionPool(host='dailycanews.com', port=80): Max retries exceeded with url: /%E0%A6%AE%E0%A6%BF%E0%A6%B6%E0%A6%B0%E0%A7%87-%E0%A6%95%E0%A6%B0%E0%A7%8B%E0%A6%A8%E0%A6%BE-%E0%A6%B9%E0%A6%BE%E0%A6%B8%E0%A6%AA%E0%A6%BE%E0%A6%A4%E0%A6%BE%E0%A6%B2%E0%A7%87-%E0%A6%AD%E0%A7%9F/ (Caused by NewConnectionError('<urllib3.connection.HTTPConnection object at 0x7f96eb651ad0>: Failed to establish a new connection: [Errno -2] Name or service not known'))\n",
            "ERROR:trafilatura.utils:parsing failed: Document is empty\n"
          ],
          "name": "stderr"
        },
        {
          "output_type": "stream",
          "text": [
            "HTTPConnectionPool(host='dailycanews.com', port=80): Max retries exceeded with url: /%E0%A6%AE%E0%A6%BF%E0%A6%B6%E0%A6%B0%E0%A7%87-%E0%A6%95%E0%A6%B0%E0%A7%8B%E0%A6%A8%E0%A6%BE-%E0%A6%B9%E0%A6%BE%E0%A6%B8%E0%A6%AA%E0%A6%BE%E0%A6%A4%E0%A6%BE%E0%A6%B2%E0%A7%87-%E0%A6%AD%E0%A7%9F/ (Caused by NewConnectionError('<urllib3.connection.HTTPConnection object at 0x7f96cbf88f10>: Failed to establish a new connection: [Errno -2] Name or service not known'))\n",
            "dropped\n",
            "1633\n",
            "Link Type\n",
            "https://www.somoynews.tv/pages/details/254772\n"
          ],
          "name": "stdout"
        },
        {
          "output_type": "stream",
          "text": [
            "WARNING:trafilatura.utils:wrong encoding detected: utf-8\n"
          ],
          "name": "stderr"
        },
        {
          "output_type": "stream",
          "text": [
            "Description Updated\n",
            "1634\n",
            "Link Type\n",
            "https://theindianews.org/bengali-news/corona-vaccine-is-the-last-stage-said-the-prime-minister/\n",
            "Description Updated\n",
            "1635\n",
            "Link Type\n",
            "https://dbcnews.tv/news/%E0%A6%A4%E0%A7%8D%E0%A6%B0%E0%A6%BE%E0%A6%A3-%E0%A6%AA%E0%A7%8D%E0%A6%AF%E0%A6%BE%E0%A6%95%E0%A7%87%E0%A6%9C-%E0%A6%AC%E0%A6%BF%E0%A6%B2%E0%A7%87-%E0%A6%B8%E0%A6%87-%E0%A6%95%E0%A6%B0%E0%A6%B2%E0%A7%87%E0%A6%A8-%E0%A6%9F%E0%A7%8D%E0%A6%B0%E0%A6%BE%E0%A6%AE%E0%A7%8D%E0%A6%AA\n",
            "Description Updated\n",
            "1636\n",
            "Link Type\n",
            "https://mzamin.com/article.php?mzamin=256157\n"
          ],
          "name": "stdout"
        },
        {
          "output_type": "stream",
          "text": [
            "ERROR:trafilatura.utils:not a 200 response: 403 for URL https://samakal.com/international/article/201247665/%E0%A6%95%E0%A6%BE%E0%A7%9F%E0%A6%B0%E0%A7%8B%E0%A6%A4%E0%A7%87-%E0%A6%95%E0%A6%B0%E0%A7%8B%E0%A6%A8%E0%A6%BE-%E0%A6%B9%E0%A6%BE%E0%A6%B8%E0%A6%AA%E0%A6%BE%E0%A6%A4%E0%A6%BE%E0%A6%B2%E0%A7%87-%E0%A6%85%E0%A6%97%E0%A7%8D%E0%A6%A8%E0%A6%BF%E0%A6%95%E0%A6%BE%E0%A6%A3%E0%A7%8D%E0%A6%A1-%E0%A7%AD-%E0%A6%9C%E0%A6%A8%E0%A7%87%E0%A6%B0-%E0%A6%AE%E0%A7%83%E0%A6%A4%E0%A7%8D%E0%A6%AF%E0%A7%81\n",
            "ERROR:trafilatura.utils:this type cannot be processed: <class 'NoneType'>\n"
          ],
          "name": "stderr"
        },
        {
          "output_type": "stream",
          "text": [
            "Description Updated\n",
            "1637\n",
            "Link Type\n",
            "https://samakal.com/international/article/201247665/%E0%A6%95%E0%A6%BE%E0%A7%9F%E0%A6%B0%E0%A7%8B%E0%A6%A4%E0%A7%87-%E0%A6%95%E0%A6%B0%E0%A7%8B%E0%A6%A8%E0%A6%BE-%E0%A6%B9%E0%A6%BE%E0%A6%B8%E0%A6%AA%E0%A6%BE%E0%A6%A4%E0%A6%BE%E0%A6%B2%E0%A7%87-%E0%A6%85%E0%A6%97%E0%A7%8D%E0%A6%A8%E0%A6%BF%E0%A6%95%E0%A6%BE%E0%A6%A3%E0%A7%8D%E0%A6%A1-%E0%A7%AD-%E0%A6%9C%E0%A6%A8%E0%A7%87%E0%A6%B0-%E0%A6%AE%E0%A7%83%E0%A6%A4%E0%A7%8D%E0%A6%AF%E0%A7%81\n",
            "None\n",
            "dropped\n",
            "1638\n",
            "Link Type\n",
            "https://dailysangram.com/post/438905-%E0%A6%AB%E0%A7%87%E0%A6%AC%E0%A7%8D%E0%A6%B0%E0%A7%81%E0%A7%9F%E0%A6%BE%E0%A6%B0%E0%A6%BF%E0%A6%A4%E0%A7%87-%E0%A6%96%E0%A7%81%E0%A6%B2%E0%A6%9B%E0%A7%87-%E0%A6%B8%E0%A7%8D%E0%A6%95%E0%A7%81%E0%A6%B2-%E0%A6%95%E0%A6%B2%E0%A7%87%E0%A6%9C#.X-sKsZl4npQ.facebook\n",
            "Description Updated\n",
            "1639\n",
            "Link Type\n",
            "https://www.somoynews.tv/pages/details/254866\n",
            "Description Updated\n",
            "1640\n",
            "Link Type\n",
            "https://www.emiratessangbad.com/archives/47845\n",
            "Description Updated\n",
            "1641\n",
            "Status Type\n",
            "Continuing\n",
            "1642\n",
            "Link Type\n",
            "https://birohimon.com/archives/105466.php\n",
            "Description Updated\n",
            "1643\n",
            "Link Type\n",
            "https://www.somoynews.tv/pages/details/255345\n"
          ],
          "name": "stdout"
        },
        {
          "output_type": "stream",
          "text": [
            "WARNING:trafilatura.utils:wrong encoding detected: utf-8\n"
          ],
          "name": "stderr"
        },
        {
          "output_type": "stream",
          "text": [
            "Description Updated\n",
            "1644\n",
            "Link Type\n",
            "https://www.dailyjanakantha.com/details/article/544903/%E0%A6%AC%E0%A6%BE%E0%A6%82%E0%A6%B2%E0%A6%BE%E0%A6%A6%E0%A7%87%E0%A6%B6%E0%A7%87%E0%A6%93-%E0%A6%A8%E0%A6%A4%E0%A7%81%E0%A6%A8-%E0%A6%95%E0%A6%B0%E0%A7%8B%E0%A6%A8%E0%A6%BE-%E0%A6%B6%E0%A6%A8%E0%A6%BE%E0%A6%95%E0%A7%8D%E0%A6%A4-%E0%A6%AE%E0%A6%BF%E0%A6%B2-%E0%A6%86%E0%A6%9B%E0%A7%87-%E0%A6%AF%E0%A7%81%E0%A6%95%E0%A7%8D%E0%A6%A4%E0%A6%B0%E0%A6%BE%E0%A6%9C%E0%A7%8D%E0%A6%AF%E0%A7%87-%E0%A6%AA%E0%A6%BE%E0%A6%93%E0%A6%AF%E0%A6%BC%E0%A6%BE-%E0%A6%B8%E0%A7%8D%E0%A6%9F%E0%A7%8D%E0%A6%B0%E0%A7%87%E0%A6%87%E0%A6%A8%E0%A7%87%E0%A6%B0-%E0%A6%B8%E0%A6%99%E0%A7%8D%E0%A6%97%E0%A7%87/\n",
            "Description Updated\n",
            "1645\n",
            "Link Type\n",
            "https://www.bd-pratidin.com/national/2020/12/27/601620\n",
            "Description Updated\n",
            "1646\n",
            "Link Type\n",
            "https://www.bd-pratidin.com/coronavirus/2020/12/27/601632\n",
            "Description Updated\n",
            "1647\n",
            "Link Type\n",
            "https://bengali.news18.com/news/kolkata/kolkata-book-fair-postpone-am-540882.html\n",
            "Description Updated\n",
            "1648\n",
            "Status Type\n",
            "Continuing\n",
            "1649\n",
            "Link Type\n",
            "https://mzamin.com/article.php?mzamin=256418\n"
          ],
          "name": "stdout"
        },
        {
          "output_type": "stream",
          "text": [
            "ERROR:trafilatura.utils:not a 200 response: 403 for URL https://samakal.com/international/article/201248090/%E0%A6%9A%E0%A7%80%E0%A6%A8%E0%A7%87-%E0%A6%97%E0%A6%A3%E0%A6%B9%E0%A6%BE%E0%A6%B0%E0%A7%87-%E0%A6%9F%E0%A6%BF%E0%A6%95%E0%A6%BE-%E0%A6%AC%E0%A7%8D%E0%A6%AF%E0%A6%AC%E0%A6%B9%E0%A6%BE%E0%A6%B0%E0%A7%87%E0%A6%B0-%E0%A6%85%E0%A6%A8%E0%A7%81%E0%A6%AE%E0%A6%A4%E0%A6%BF\n",
            "ERROR:trafilatura.utils:this type cannot be processed: <class 'NoneType'>\n"
          ],
          "name": "stderr"
        },
        {
          "output_type": "stream",
          "text": [
            "Description Updated\n",
            "1650\n",
            "Link Type\n",
            "https://samakal.com/international/article/201248090/%E0%A6%9A%E0%A7%80%E0%A6%A8%E0%A7%87-%E0%A6%97%E0%A6%A3%E0%A6%B9%E0%A6%BE%E0%A6%B0%E0%A7%87-%E0%A6%9F%E0%A6%BF%E0%A6%95%E0%A6%BE-%E0%A6%AC%E0%A7%8D%E0%A6%AF%E0%A6%AC%E0%A6%B9%E0%A6%BE%E0%A6%B0%E0%A7%87%E0%A6%B0-%E0%A6%85%E0%A6%A8%E0%A7%81%E0%A6%AE%E0%A6%A4%E0%A6%BF\n",
            "None\n",
            "dropped\n",
            "1651\n",
            "Link Type\n",
            "https://www.anandabazar.com/calcutta/coronavirus-in-kolkata-kolkata-flouts-health-norms-of-covid-19-during-celebrations-1.1251440?utm_source=facebook&utm_medium=social&utm_campaign=daily\n",
            "Description Updated\n",
            "1652\n",
            "Link Type\n",
            "https://www.bd24live.com/bangla/%e0%a6%95%e0%a6%b0%e0%a7%8b%e0%a6%a8%e0%a6%be-%e0%a6%ad%e0%a7%9f%e0%a7%87-%e0%a6%a8%e0%a6%bf%e0%a7%9f%e0%a6%ae%e0%a6%bf%e0%a6%a4-%e0%a7%a7%e0%a7%a9-%e0%a6%96%e0%a7%87%e0%a6%b2%e0%a7%8b%e0%a7%9f/\n",
            "Description Updated\n",
            "1653\n",
            "Status Type\n",
            "Continuing\n",
            "1654\n",
            "Status Type\n",
            "Continuing\n",
            "1655\n",
            "Link Type\n",
            "https://inabd.com/archives/9469\n",
            "Description Updated\n",
            "1656\n",
            "Link Type\n",
            "https://banglavision.tv/international/63545/\n",
            "Description Updated\n",
            "1657\n",
            "Status Type\n",
            "Continuing\n",
            "1658\n",
            "Link Type\n",
            "https://www.mahanagarbarta.com/road-named-after-sonu-soods-mother/\n",
            "Description Updated\n",
            "1659\n",
            "Status Type\n",
            "Continuing\n",
            "1660\n",
            "Link Type\n",
            "https://jagoronnews.com/%e0%a6%ac%e0%a6%be%e0%a6%a5%e0%a6%b0%e0%a7%81%e0%a6%ae%e0%a7%87-%e0%a6%95%e0%a6%b0%e0%a7%8b%e0%a6%a8%e0%a6%be-%e0%a6%b0%e0%a7%8b%e0%a6%97%e0%a7%80%e0%a6%b0-%e0%a6%b8%e0%a6%99%e0%a7%8d%e0%a6%97/\n",
            "Description Updated\n",
            "1661\n",
            "Status Type\n",
            "Continuing\n",
            "1662\n",
            "Status Type\n",
            "Continuing\n",
            "1663\n",
            "Link Type\n",
            "https://timesinnovation24.com/%e0%a6%a5%e0%a6%be%e0%a6%b0%e0%a7%8d%e0%a6%9f%e0%a6%bf-%e0%a6%ab%e0%a6%be%e0%a6%b0%e0%a7%8d%e0%a6%b8%e0%a7%8d%e0%a6%9f-%e0%a6%a8%e0%a6%be%e0%a6%87%e0%a6%9f-%e0%a6%a1%e0%a6%bf%e0%a6%8f%e0%a6%ae/\n",
            "Description Updated\n",
            "1664\n",
            "Status Type\n",
            "Continuing\n",
            "1665\n",
            "Link Type\n",
            "https://www.uttarbangasambad.com/corona-is-not-the-last-epidemic-in-the-world-says-world-health-organization.html\n"
          ],
          "name": "stdout"
        },
        {
          "output_type": "stream",
          "text": [
            "ERROR:trafilatura.utils:not a 200 response: 404 for URL https://www.uttarbangasambad.com/corona-is-not-the-last-epidemic-in-the-world-says-world-health-organization.html\n",
            "ERROR:trafilatura.utils:this type cannot be processed: <class 'NoneType'>\n"
          ],
          "name": "stderr"
        },
        {
          "output_type": "stream",
          "text": [
            "None\n",
            "dropped\n",
            "1666\n",
            "Link Type\n",
            "https://www.dailyjanakantha.com/details/article/546037/%E0%A6%9C%E0%A6%B0%E0%A7%8D%E0%A6%A6%E0%A6%BE%E0%A6%A8-%E0%A6%AC%E0%A6%BE%E0%A6%82%E0%A6%B2%E0%A6%BE%E0%A6%A6%E0%A7%87%E0%A6%B6-%E0%A6%A5%E0%A7%87%E0%A6%95%E0%A7%87-%E0%A7%A7%E0%A7%A8-%E0%A6%B9%E0%A6%BE%E0%A6%9C%E0%A6%BE%E0%A6%B0-%E0%A6%AA%E0%A7%8B%E0%A6%B6%E0%A6%BE%E0%A6%95-%E0%A6%95%E0%A6%B0%E0%A7%8D%E0%A6%AE%E0%A7%80-%E0%A6%A8%E0%A7%87%E0%A6%AC%E0%A7%87/\n"
          ],
          "name": "stdout"
        },
        {
          "output_type": "stream",
          "text": [
            "ERROR:trafilatura.utils:not a 200 response: 403 for URL https://www.bangla.24livenewspaper.com/bangladesh/73296-educational-institutions-may-open-in-february\n",
            "ERROR:trafilatura.utils:this type cannot be processed: <class 'NoneType'>\n"
          ],
          "name": "stderr"
        },
        {
          "output_type": "stream",
          "text": [
            "Description Updated\n",
            "1667\n",
            "Link Type\n",
            "https://www.bangla.24livenewspaper.com/bangladesh/73296-educational-institutions-may-open-in-february\n",
            "None\n",
            "dropped\n",
            "1668\n",
            "Link Type\n",
            "https://bengali.abplive.com/news/world/china-wuhan-covid-19-cases-may-have-been-10-times-higher-than-estimated-funds-study-776861\n"
          ],
          "name": "stdout"
        },
        {
          "output_type": "stream",
          "text": [
            "ERROR:trafilatura.core:not enough text None\n"
          ],
          "name": "stderr"
        },
        {
          "output_type": "stream",
          "text": [
            "Description Updated\n",
            "1669\n",
            "Status Type\n",
            "Continuing\n",
            "1670\n",
            "Link Type\n",
            "https://newzdiscover.com/archives/17833\n",
            "Description Updated\n",
            "1671\n",
            "Link Type\n",
            "https://www.nytimesbd.com/latest/news/9198\n"
          ],
          "name": "stdout"
        },
        {
          "output_type": "stream",
          "text": [
            "ERROR:trafilatura.core:not enough text None\n"
          ],
          "name": "stderr"
        },
        {
          "output_type": "stream",
          "text": [
            "Description Updated\n",
            "1672\n",
            "Link Type\n",
            "https://gulfbangla.com/news/8059\n"
          ],
          "name": "stdout"
        },
        {
          "output_type": "stream",
          "text": [
            "WARNING:trafilatura.metadata:no main title found\n",
            "WARNING:trafilatura.metadata:no h2 title found\n",
            "ERROR:trafilatura.core:not enough text None\n"
          ],
          "name": "stderr"
        },
        {
          "output_type": "stream",
          "text": [
            "Description Updated\n",
            "1673\n",
            "Link Type\n",
            "https://cityrealnews.com/archives/25941\n",
            "Description Updated\n",
            "1674\n",
            "Status Type\n",
            "Continuing\n",
            "1675\n",
            "Link Type\n",
            "https://mzamin.com/article.php?mzamin=256232\n",
            "Description Updated\n",
            "1676\n",
            "Link Type\n",
            "https://www.jugantor.com/entertainment/379204/%E0%A7%A8%E0%A7%A6%E0%A7%A8%E0%A7%A6-%E0%A6%B8%E0%A6%BE%E0%A6%B2%E0%A7%87-%E0%A6%AF%E0%A7%87%E0%A6%B8%E0%A6%AC-%E0%A6%A4%E0%A6%BE%E0%A6%B0%E0%A6%95%E0%A6%BE%E0%A6%A6%E0%A7%87%E0%A6%B0-%E0%A6%B9%E0%A6%BE%E0%A6%B0%E0%A6%BF%E0%A7%9F%E0%A7%87%E0%A6%9B%E0%A6%BF\n",
            "Description Updated\n",
            "1677\n",
            "Link Type\n",
            "https://www.rtvonline.com/sports/114703/%E0%A6%95%E0%A6%B0%E0%A7%8B%E0%A6%A8%E0%A6%BE-%E0%A6%AD%E0%A7%9F-%E0%A6%A8%E0%A6%BF%E0%A7%9F%E0%A6%AE%E0%A6%BF%E0%A6%A4-%E0%A7%A7%E0%A7%A9-%E0%A6%B8%E0%A6%A6%E0%A6%B8%E0%A7%8D%E0%A6%AF-%E0%A6%9B%E0%A6%BE%E0%A7%9C%E0%A6%BE%E0%A6%87-%E0%A6%AC%E0%A6%BE%E0%A6%82%E0%A6%B2%E0%A6%BE%E0%A6%A6%E0%A7%87%E0%A6%B6-%E0%A6%B8%E0%A6%AB%E0%A6%B0%E0%A7%87%E0%A6%B0-%E0%A6%A6%E0%A6%B2-%E0%A6%89%E0%A6%87%E0%A6%A8%E0%A7%8D%E0%A6%A1%E0%A6%BF%E0%A6%9C%E0%A6%A6%E0%A7%87%E0%A6%B0\n",
            "Description Updated\n",
            "1678\n",
            "Status Type\n",
            "Continuing\n",
            "1679\n",
            "Status Type\n",
            "Continuing\n",
            "1680\n",
            "Link Type\n",
            "https://ekushernews.com/?p=23210\n",
            "Description Updated\n",
            "1681\n",
            "Link Type\n",
            "https://www.somoynews.tv/pages/details/255231\n"
          ],
          "name": "stdout"
        },
        {
          "output_type": "stream",
          "text": [
            "WARNING:trafilatura.utils:wrong encoding detected: utf-8\n"
          ],
          "name": "stderr"
        },
        {
          "output_type": "stream",
          "text": [
            "Description Updated\n",
            "1682\n",
            "Link Type\n",
            "https://www.nytimesbd.com/national/news/9185\n"
          ],
          "name": "stdout"
        },
        {
          "output_type": "stream",
          "text": [
            "ERROR:trafilatura.core:not enough text None\n"
          ],
          "name": "stderr"
        },
        {
          "output_type": "stream",
          "text": [
            "Description Updated\n",
            "1683\n",
            "Link Type\n",
            "http://www.coxsbazarnews.com/archives/303288.html\n",
            "Description Updated\n",
            "1684\n",
            "Link Type\n",
            "https://www.uttarbangasambad.com/bandurga-puja-in-rajganj.html\n"
          ],
          "name": "stdout"
        },
        {
          "output_type": "stream",
          "text": [
            "ERROR:trafilatura.utils:not a 200 response: 404 for URL https://www.uttarbangasambad.com/bandurga-puja-in-rajganj.html\n",
            "ERROR:trafilatura.utils:this type cannot be processed: <class 'NoneType'>\n"
          ],
          "name": "stderr"
        },
        {
          "output_type": "stream",
          "text": [
            "None\n",
            "dropped\n",
            "1685\n",
            "Link Type\n",
            "https://viewer.com.bd/%e0%a6%ac%e0%a6%a8%e0%a7%8d%e0%a6%a7%e0%a7%81%e0%a6%a4%e0%a7%8d%e0%a6%ac%e0%a7%87%e0%a6%b0-%e0%a6%b9%e0%a6%be%e0%a6%a4-%e0%a6%ac%e0%a6%be%e0%a7%9c%e0%a6%bf%e0%a7%9f%e0%a7%87-%e0%a6%a6%e0%a6%bf/\n",
            "Description Updated\n",
            "1686\n",
            "Link Type\n",
            "http://bddailynews.com/country-wide/5920-2020-12-29-06-46-11\n",
            "Description Updated\n",
            "1687\n",
            "Link Type\n",
            "https://banglanews24.com/health/news/bd/831940.details\n",
            "Description Updated\n",
            "1688\n",
            "Link Type\n",
            "https://www.banglatribune.com/national/news/660017/%E0%A6%95%E0%A6%B0%E0%A7%8B%E0%A6%A8%E0%A6%BE-%E0%A6%AA%E0%A6%B0%E0%A6%BF%E0%A6%B8%E0%A7%8D%E0%A6%A5%E0%A6%BF%E0%A6%A4%E0%A6%BF-%E0%A6%85%E0%A6%A8%E0%A7%81%E0%A6%95%E0%A7%82%E0%A6%B2%E0%A7%87-%E0%A6%A8%E0%A6%BE-%E0%A6%86%E0%A6%B8%E0%A6%B2%E0%A7%87-%E0%A6%B6%E0%A6%BF%E0%A6%95%E0%A7%8D%E0%A6%B7%E0%A6%BE%E0%A6%AA%E0%A7%8D%E0%A6%B0%E0%A6%A4%E0%A6%BF%E0%A6%B7%E0%A7%8D%E0%A6%A0%E0%A6%BE%E0%A6%A8\n",
            "Description Updated\n",
            "1689\n",
            "Link Type\n",
            "https://www.khabor24x7.com/news/national/the-central-government-has-warned-all-states-about-the-new-strain-of-coronavirus-35668/\n"
          ],
          "name": "stdout"
        },
        {
          "output_type": "stream",
          "text": [
            "ERROR:trafilatura.core:not enough text None\n"
          ],
          "name": "stderr"
        },
        {
          "output_type": "stream",
          "text": [
            "Description Updated\n",
            "1690\n",
            "Link Type\n",
            "https://parstoday.com/bn/news/world-i85710\n",
            "Description Updated\n",
            "1691\n",
            "Status Type\n",
            "Continuing\n",
            "1692\n",
            "Link Type\n",
            "https://chandpurtimes.com/%e0%a6%95%e0%a6%b0%e0%a7%8b%e0%a6%a8%e0%a6%be-%e0%a6%aa%e0%a6%b0%e0%a6%bf%e0%a6%b8%e0%a7%8d%e0%a6%a5%e0%a6%bf%e0%a6%a4%e0%a6%bf-%e0%a6%85%e0%a6%a8%e0%a7%81%e0%a6%95%e0%a7%82%e0%a6%b2%e0%a7%87/\n",
            "Description Updated\n",
            "1693\n",
            "Link Type\n",
            "https://mzamin.com/article.php?mzamin=256302&cat=8\n"
          ],
          "name": "stdout"
        },
        {
          "output_type": "stream",
          "text": [
            "ERROR:trafilatura.utils:not a 200 response: 403 for URL https://www.bangla.24livenewspaper.com/bangladesh/73391-bisso-ijtema-this-year\n",
            "ERROR:trafilatura.utils:this type cannot be processed: <class 'NoneType'>\n"
          ],
          "name": "stderr"
        },
        {
          "output_type": "stream",
          "text": [
            "Description Updated\n",
            "1694\n",
            "Link Type\n",
            "https://www.bangla.24livenewspaper.com/bangladesh/73391-bisso-ijtema-this-year\n",
            "None\n",
            "dropped\n",
            "1695\n",
            "Status Type\n",
            "Continuing\n",
            "1696\n",
            "Link Type\n",
            "https://www.dailyjagaran.com/education/news/51748\n",
            "Description Updated\n",
            "1697\n",
            "Link Type\n",
            "http://educationbangla.com/2020/12/28/%e0%a6%8f%e0%a6%b8%e0%a6%8f%e0%a6%b8%e0%a6%b8%e0%a6%bf-%e0%a6%93-%e0%a6%8f%e0%a6%87%e0%a6%9a%e0%a6%8f%e0%a6%b8%e0%a6%b8%e0%a6%bf-%e0%a6%aa%e0%a6%b0%e0%a7%80%e0%a6%95%e0%a7%8d%e0%a6%b7%e0%a6%be/\n"
          ],
          "name": "stdout"
        },
        {
          "output_type": "stream",
          "text": [
            "ERROR:trafilatura.utils:retries/redirects: https://modinanews.com/%e0%a6%b9%e0%a6%9c%e0%a7%87-%e0%a6%97%e0%a6%bf%e0%a7%9f%e0%a7%87-%e0%a6%95%e0%a7%87%e0%a6%89-%e0%a6%95%e0%a6%b0%e0%a7%8b%e0%a6%a8%e0%a6%be-%e0%a6%86%e0%a6%95%e0%a7%8d%e0%a6%b0%e0%a6%be%e0%a6%a8/ HTTPSConnectionPool(host='modinanews.com', port=443): Max retries exceeded with url: /%E0%A6%B9%E0%A6%9C%E0%A7%87-%E0%A6%97%E0%A6%BF%E0%A7%9F%E0%A7%87-%E0%A6%95%E0%A7%87%E0%A6%89-%E0%A6%95%E0%A6%B0%E0%A7%8B%E0%A6%A8%E0%A6%BE-%E0%A6%86%E0%A6%95%E0%A7%8D%E0%A6%B0%E0%A6%BE%E0%A6%A8/ (Caused by NewConnectionError('<urllib3.connection.HTTPSConnection object at 0x7f96ce4a0050>: Failed to establish a new connection: [Errno -2] Name or service not known'))\n",
            "ERROR:trafilatura.utils:parsing failed: Document is empty\n"
          ],
          "name": "stderr"
        },
        {
          "output_type": "stream",
          "text": [
            "Description Updated\n",
            "1698\n",
            "Link Type\n",
            "https://modinanews.com/%e0%a6%b9%e0%a6%9c%e0%a7%87-%e0%a6%97%e0%a6%bf%e0%a7%9f%e0%a7%87-%e0%a6%95%e0%a7%87%e0%a6%89-%e0%a6%95%e0%a6%b0%e0%a7%8b%e0%a6%a8%e0%a6%be-%e0%a6%86%e0%a6%95%e0%a7%8d%e0%a6%b0%e0%a6%be%e0%a6%a8/\n",
            "HTTPSConnectionPool(host='modinanews.com', port=443): Max retries exceeded with url: /%E0%A6%B9%E0%A6%9C%E0%A7%87-%E0%A6%97%E0%A6%BF%E0%A7%9F%E0%A7%87-%E0%A6%95%E0%A7%87%E0%A6%89-%E0%A6%95%E0%A6%B0%E0%A7%8B%E0%A6%A8%E0%A6%BE-%E0%A6%86%E0%A6%95%E0%A7%8D%E0%A6%B0%E0%A6%BE%E0%A6%A8/ (Caused by NewConnectionError('<urllib3.connection.HTTPSConnection object at 0x7f96cc375310>: Failed to establish a new connection: [Errno -2] Name or service not known'))\n",
            "dropped\n",
            "1699\n",
            "Status Type\n",
            "Continuing\n",
            "1700\n",
            "Link Type\n",
            "https://www.somoynews.tv/pages/details/255356\n"
          ],
          "name": "stdout"
        },
        {
          "output_type": "stream",
          "text": [
            "WARNING:trafilatura.utils:wrong encoding detected: utf-8\n"
          ],
          "name": "stderr"
        },
        {
          "output_type": "stream",
          "text": [
            "Description Updated\n",
            "1701\n",
            "Link Type\n",
            "https://www.sportshour24.com/article/81466/\n"
          ],
          "name": "stdout"
        },
        {
          "output_type": "stream",
          "text": [
            "ERROR:trafilatura.utils:not a 200 response: 404 for URL https://probashtime.com/2020/12/29/%e0%a6%b8%e0%a6%ae%e0%a6%97%e0%a7%8d%e0%a6%b0-%e0%a6%93%e0%a6%ae%e0%a6%be%e0%a6%a8%e0%a7%87-%e0%a6%b6%e0%a7%81%e0%a6%b0%e0%a7%81-%e0%a6%b9%e0%a6%b2%e0%a7%8b-%e0%a6%95%e0%a6%b0%e0%a7%8b%e0%a6%a8/\n",
            "ERROR:trafilatura.utils:this type cannot be processed: <class 'NoneType'>\n"
          ],
          "name": "stderr"
        },
        {
          "output_type": "stream",
          "text": [
            "Description Updated\n",
            "1702\n",
            "Link Type\n",
            "https://probashtime.com/2020/12/29/%e0%a6%b8%e0%a6%ae%e0%a6%97%e0%a7%8d%e0%a6%b0-%e0%a6%93%e0%a6%ae%e0%a6%be%e0%a6%a8%e0%a7%87-%e0%a6%b6%e0%a7%81%e0%a6%b0%e0%a7%81-%e0%a6%b9%e0%a6%b2%e0%a7%8b-%e0%a6%95%e0%a6%b0%e0%a7%8b%e0%a6%a8/\n",
            "None\n",
            "dropped\n",
            "1703\n",
            "Status Type\n",
            "Continuing\n",
            "1704\n",
            "Link Type\n",
            "http://demonewz.com/archives/6726\n",
            "Description Updated\n",
            "1705\n",
            "Link Type\n",
            "https://www.amadershomoy.com/bn/2020/12/31/1266548.html#.X-2Tc8RMgr4.facebook\n",
            "Description Updated\n",
            "1706\n",
            "Link Type\n",
            "https://www.kolkata24x7.com/inside-salman-khans-midnight-birthday-celebrations-with-paparazzi/\n",
            "Description Updated\n",
            "1707\n",
            "Link Type\n",
            "https://www.sangbadpratidin.in/world/covid-19-not-the-big-one-its-a-wake-up-call-who-official-issues-warning/\n",
            "Description Updated\n",
            "1708\n",
            "Link Type\n",
            "https://www.jagonews24.com/probash/news/632121\n",
            "Description Updated\n",
            "1709\n",
            "Link Type\n",
            "https://www.anandabazar.com/calcutta/new-town-coffee-house-started-online-booking-facility-1.1250347?utm_source=facebook&utm_medium=social&utm_campaign=daily\n",
            "Description Updated\n",
            "1710\n",
            "Link Type\n",
            "https://www.bd24live.com/bangla/%e0%a6%a5%e0%a6%be%e0%a6%b0%e0%a7%8d%e0%a6%9f%e0%a6%bf-%e0%a6%ab%e0%a6%be%e0%a6%b0%e0%a7%8d%e0%a6%b8%e0%a7%8d%e0%a6%9f-%e0%a6%a8%e0%a6%be%e0%a6%87%e0%a6%9f-%e0%a6%aa%e0%a6%be%e0%a6%b2%e0%a6%a8/\n",
            "Description Updated\n",
            "1711\n",
            "Link Type\n",
            "https://bangla.bdnews24.com/world/article1842465.bdnews\n",
            "Description Updated\n",
            "1712\n",
            "Status Type\n",
            "Continuing\n",
            "1713\n",
            "Link Type\n",
            "https://mailexpress24.com/?p=8377\n",
            "Description Updated\n",
            "1714\n",
            "Link Type\n",
            "https://mailexpress24.com/?p=8377\n",
            "Description Updated\n",
            "1715\n",
            "Link Type\n",
            "https://rajtvbd.com/%e0%a6%95%e0%a6%b0%e0%a7%8b%e0%a6%a8%e0%a6%be%e0%a6%ad%e0%a6%be%e0%a6%87%e0%a6%b0%e0%a6%be%e0%a6%b8-%e0%a6%a8%e0%a6%bf%e0%a6%b0%e0%a7%8d%e0%a6%a7%e0%a6%be%e0%a6%b0%e0%a6%bf%e0%a6%a4-%e0%a6%b8%e0%a6%ae/\n",
            "Description Updated\n",
            "1716\n",
            "Status Type\n",
            "Continuing\n",
            "1717\n",
            "Link Type\n",
            "https://bdtimesnews24.com/bdnews-update-4903/\n"
          ],
          "name": "stdout"
        },
        {
          "output_type": "stream",
          "text": [
            "WARNING:urllib3.connection:Certificate did not match expected hostname: bdtimesnews24.com. Certificate: {'subject': ((('commonName', '*.bdtimesnews24.com'),),), 'issuer': ((('countryName', 'US'),), (('organizationName', \"Let's Encrypt\"),), (('commonName', 'R3'),)), 'version': 3, 'serialNumber': '03340C329BAFE5491F1CB5BA41D8C80B7109', 'notBefore': 'Apr 29 22:13:40 2021 GMT', 'notAfter': 'Jul 28 22:13:40 2021 GMT', 'subjectAltName': (('DNS', '*.bdtimesnews24.com'),), 'OCSP': ('http://r3.o.lencr.org',), 'caIssuers': ('http://r3.i.lencr.org/',)}\n",
            "ERROR:trafilatura.utils:retries/redirects: https://bdtimesnews24.com/bdnews-update-4903/ HTTPSConnectionPool(host='bdtimesnews24.com', port=443): Max retries exceeded with url: /bdnews-update-4903/ (Caused by SSLError(SSLCertVerificationError(\"hostname 'bdtimesnews24.com' doesn't match '*.bdtimesnews24.com'\")))\n",
            "ERROR:trafilatura.utils:parsing failed: Document is empty\n",
            "WARNING:urllib3.connection:Certificate did not match expected hostname: bdtimesnews24.com. Certificate: {'subject': ((('commonName', '*.bdtimesnews24.com'),),), 'issuer': ((('countryName', 'US'),), (('organizationName', \"Let's Encrypt\"),), (('commonName', 'R3'),)), 'version': 3, 'serialNumber': '03340C329BAFE5491F1CB5BA41D8C80B7109', 'notBefore': 'Apr 29 22:13:40 2021 GMT', 'notAfter': 'Jul 28 22:13:40 2021 GMT', 'subjectAltName': (('DNS', '*.bdtimesnews24.com'),), 'OCSP': ('http://r3.o.lencr.org',), 'caIssuers': ('http://r3.i.lencr.org/',)}\n"
          ],
          "name": "stderr"
        },
        {
          "output_type": "stream",
          "text": [
            "HTTPSConnectionPool(host='bdtimesnews24.com', port=443): Max retries exceeded with url: /bdnews-update-4903/ (Caused by SSLError(SSLCertVerificationError(\"hostname 'bdtimesnews24.com' doesn't match '*.bdtimesnews24.com'\")))\n",
            "dropped\n",
            "1718\n",
            "Status Type\n",
            "Continuing\n",
            "1719\n",
            "Link Type\n",
            "https://dainikbidyaloy.com/2020/12/31/%e0%a6%95%e0%a6%b0%e0%a7%8b%e0%a6%a8%e0%a6%be-%e0%a6%aa%e0%a6%b0%e0%a6%bf%e0%a6%b8%e0%a7%8d%e0%a6%a5%e0%a6%bf%e0%a6%a4%e0%a6%bf-%e0%a6%85%e0%a6%a8%e0%a7%81%e0%a6%95%e0%a7%82%e0%a6%b2%e0%a7%87/#.X-18xJMJzv4.facebook\n",
            "Description Updated\n",
            "1720\n",
            "Link Type\n",
            "https://www.calcuttanewstv.com/2020/12/corona%20vaccination%20exercise%20begins%20in%204%20states%20of%20india%20today%20.html\n"
          ],
          "name": "stdout"
        },
        {
          "output_type": "stream",
          "text": [
            "ERROR:trafilatura.utils:retries/redirects: https://www.ourislam24.com/2020/12/28/%e0%a6%97%e0%a6%a4-%e0%a7%a8%e0%a7%aa-%e0%a6%98%e0%a6%a8%e0%a7%8d%e0%a6%9f%e0%a6%be%e0%a7%9f-%e0%a6%95%e0%a6%b0%e0%a7%8b%e0%a6%a8%e0%a6%be-%e0%a6%b6%e0%a6%a8%e0%a6%be%e0%a6%95%e0%a7%8d%e0%a6%a4/ HTTPSConnectionPool(host='www.ourislam24.com', port=443): Max retries exceeded with url: /2020/12/28/%E0%A6%97%E0%A6%A4-%E0%A7%A8%E0%A7%AA-%E0%A6%98%E0%A6%A8%E0%A7%8D%E0%A6%9F%E0%A6%BE%E0%A7%9F-%E0%A6%95%E0%A6%B0%E0%A7%8B%E0%A6%A8%E0%A6%BE-%E0%A6%B6%E0%A6%A8%E0%A6%BE%E0%A6%95%E0%A7%8D%E0%A6%A4/ (Caused by ResponseError('too many 503 error responses'))\n",
            "ERROR:trafilatura.utils:parsing failed: Document is empty\n"
          ],
          "name": "stderr"
        },
        {
          "output_type": "stream",
          "text": [
            "Description Updated\n",
            "1721\n",
            "Link Type\n",
            "https://www.ourislam24.com/2020/12/28/%e0%a6%97%e0%a6%a4-%e0%a7%a8%e0%a7%aa-%e0%a6%98%e0%a6%a8%e0%a7%8d%e0%a6%9f%e0%a6%be%e0%a7%9f-%e0%a6%95%e0%a6%b0%e0%a7%8b%e0%a6%a8%e0%a6%be-%e0%a6%b6%e0%a6%a8%e0%a6%be%e0%a6%95%e0%a7%8d%e0%a6%a4/\n",
            "None\n",
            "dropped\n",
            "1722\n",
            "Link Type\n",
            "http://www.bd-pratidin.com/last-page/2020/12/28/601792\n"
          ],
          "name": "stdout"
        },
        {
          "output_type": "stream",
          "text": [
            "ERROR:root:unknown error: ইতালিতে প্রথম করোনা ভ্যাকসিন নিলেন তিনজন\n",
            "ইতালির রোমে এন্টি-কোভিড প্রথম টিকা নিলেন স্পালানজানি হাসপাতালের তিন ইতালিয়ান। প্রফেসর মারিয়া রোজারিয়া কাপোবিয়ানঙ্কি, নার্স ক্লাউডিয়া আলিভেরনিনি এবং স্বাস্থ্য ও সমাজসেবক ওমর আলতোবেল্লি।\n",
            "স্থানীয় সময় সকাল ৭টা ২০ মিনিট রোমের স্প্যালানজানি জাতীয় সংক্রামক রোগ ইনস্টিটিউটের তিনজনের শরীরে কোভিড-১৯ টিকা দেয়া হয়েছে। এক টুইট বার্তায় প্রধানমন্ত্রী জুসেপ্পে কোন্তি বলেন, ‘আজ ইতালি নতুন করে জেগেছে এই দিনটি ভি-ডে অর্থাৎ ভ্যাকসিন এর দিন হিসেবে দেখছি’।\n",
            "‘আজকের এই দিনটি তাদের চিরকাল মনে থাকবে। প্রথমে স্বাস্থ্যকর্মী ও যারা চরম ভঙ্গুর অবস্থায় তাদের দিয়ে শুরু করা হয়েছে টিকা। এরপরে পুরো জনসংখ্যা।’ ইতালি এবং ইউরোপে ভি-ডে দিবসে অনাক্রম্যতা অর্জন এবং এ ভাইরাসকে নিশ্চিতভাবে পরাস্ত করার সম্ভাবনা প্রসারিত করা হবে এমন প্রত্যাশায় প্রধানমন্ত্রীর।\n",
            "রোমের স্প্যালানজানিতে প্রথম তিনটি টিকা দেয়ার পরপরই স্বাস্থ্যমন্ত্রী রবার্তো স্পেরানজা বলেন, এটি এমন একটি দিন আমরা এ সময়ের জন্য অপেক্ষা করছিলাম। আজ আলো আসছে তবে আমাদের আরও কয়েক মাস ধৈর্য ধরতে হবে। এখনও সমস্যা শেষ হয়নি। তাই আমাদের সর্বদা নিয়মকে সম্মান করে চলতে হবে।\n",
            "আজ ভ্যাকসিন দিবসে ইউরোপের দেশগুলিতে ফাইজার-বায়োএনটেকের ৯ হাজার ৭শ ৫০ ডোজ বিতরণ শুরু হয়েছে তাই এটিকে একটি ‘প্রতীকী’ সংখ্যা আখ্যা দিয়েছেন। স্বাস্থ্যমন্ত্রী এক নোটে বলা হয়েছে। ২৮ ডিসেম্বর থেকে শুরু হলে প্রতি সপ্তাহে প্রায় চারশ ৭০ হাজার ডোজ ইতালিতে পৌঁছার সম্ভাবনা রয়েছে।\n",
            "এমআরএম/এমকেএইচ Failed to parse: ইতালিতে প্রথম করোনা ভ্যাকসিন নিলেন তিনজন\n",
            "ইতালির রোমে এন্টি-কোভিড প্রথম টিকা নিলেন স্পালানজানি হাসপাতালের তিন ইতালিয়ান। প্রফেসর মারিয়া রোজারিয়া কাপোবিয়ানঙ্কি, নার্স ক্লাউডিয়া আলিভেরনিনি এবং স্বাস্থ্য ও সমাজসেবক ওমর আলতোবেল্লি।\n",
            "স্থানীয় সময় সকাল ৭টা ২০ মিনিট রোমের স্প্যালানজানি জাতীয় সংক্রামক রোগ ইনস্টিটিউটের তিনজনের শরীরে কোভিড-১৯ টিকা দেয়া হয়েছে। এক টুইট বার্তায় প্রধানমন্ত্রী জুসেপ্পে কোন্তি বলেন, ‘আজ ইতালি নতুন করে জেগেছে এই দিনটি ভি-ডে অর্থাৎ ভ্যাকসিন এর দিন হিসেবে দেখছি’।\n",
            "‘আজকের এই দিনটি তাদের চিরকাল মনে থাকবে। প্রথমে স্বাস্থ্যকর্মী ও যারা চরম ভঙ্গুর অবস্থায় তাদের দিয়ে শুরু করা হয়েছে টিকা। এরপরে পুরো জনসংখ্যা।’ ইতালি এবং ইউরোপে ভি-ডে দিবসে অনাক্রম্যতা অর্জন এবং এ ভাইরাসকে নিশ্চিতভাবে পরাস্ত করার সম্ভাবনা প্রসারিত করা হবে এমন প্রত্যাশায় প্রধানমন্ত্রীর।\n",
            "রোমের স্প্যালানজানিতে প্রথম তিনটি টিকা দেয়ার পরপরই স্বাস্থ্যমন্ত্রী রবার্তো স্পেরানজা বলেন, এটি এমন একটি দিন আমরা এ সময়ের জন্য অপেক্ষা করছিলাম। আজ আলো আসছে তবে আমাদের আরও কয়েক মাস ধৈর্য ধরতে হবে। এখনও সমস্যা শেষ হয়নি। তাই আমাদের সর্বদা নিয়মকে সম্মান করে চলতে হবে।\n",
            "আজ ভ্যাকসিন দিবসে ইউরোপের দেশগুলিতে ফাইজার-বায়োএনটেকের ৯ হাজার ৭শ ৫০ ডোজ বিতরণ শুরু হয়েছে তাই এটিকে একটি ‘প্রতীকী’ সংখ্যা আখ্যা দিয়েছেন। স্বাস্থ্যমন্ত্রী এক নোটে বলা হয়েছে। ২৮ ডিসেম্বর থেকে শুরু হলে প্রতি সপ্তাহে প্রায় চারশ ৭০ হাজার ডোজ ইতালিতে পৌঁছার সম্ভাবনা রয়েছে।\n",
            "এমআরএম/এমকেএইচ\n",
            "ERROR:trafilatura.utils:this type cannot be processed: <class 'NoneType'>\n"
          ],
          "name": "stderr"
        },
        {
          "output_type": "stream",
          "text": [
            "Description Updated\n",
            "1723\n",
            "Link Type\n",
            "ইতালিতে প্রথম করোনা ভ্যাকসিন নিলেন তিনজন\n",
            "ইতালির রোমে এন্টি-কোভিড প্রথম টিকা নিলেন স্পালানজানি হাসপাতালের তিন ইতালিয়ান। প্রফেসর মারিয়া রোজারিয়া কাপোবিয়ানঙ্কি, নার্স ক্লাউডিয়া আলিভেরনিনি এবং স্বাস্থ্য ও সমাজসেবক ওমর আলতোবেল্লি।\n",
            "স্থানীয় সময় সকাল ৭টা ২০ মিনিট রোমের স্প্যালানজানি জাতীয় সংক্রামক রোগ ইনস্টিটিউটের তিনজনের শরীরে কোভিড-১৯ টিকা দেয়া হয়েছে। এক টুইট বার্তায় প্রধানমন্ত্রী জুসেপ্পে কোন্তি বলেন, ‘আজ ইতালি নতুন করে জেগেছে এই দিনটি ভি-ডে অর্থাৎ ভ্যাকসিন এর দিন হিসেবে দেখছি’।\n",
            "‘আজকের এই দিনটি তাদের চিরকাল মনে থাকবে। প্রথমে স্বাস্থ্যকর্মী ও যারা চরম ভঙ্গুর অবস্থায় তাদের দিয়ে শুরু করা হয়েছে টিকা। এরপরে পুরো জনসংখ্যা।’ ইতালি এবং ইউরোপে ভি-ডে দিবসে অনাক্রম্যতা অর্জন এবং এ ভাইরাসকে নিশ্চিতভাবে পরাস্ত করার সম্ভাবনা প্রসারিত করা হবে এমন প্রত্যাশায় প্রধানমন্ত্রীর।\n",
            "রোমের স্প্যালানজানিতে প্রথম তিনটি টিকা দেয়ার পরপরই স্বাস্থ্যমন্ত্রী রবার্তো স্পেরানজা বলেন, এটি এমন একটি দিন আমরা এ সময়ের জন্য অপেক্ষা করছিলাম। আজ আলো আসছে তবে আমাদের আরও কয়েক মাস ধৈর্য ধরতে হবে। এখনও সমস্যা শেষ হয়নি। তাই আমাদের সর্বদা নিয়মকে সম্মান করে চলতে হবে।\n",
            "আজ ভ্যাকসিন দিবসে ইউরোপের দেশগুলিতে ফাইজার-বায়োএনটেকের ৯ হাজার ৭শ ৫০ ডোজ বিতরণ শুরু হয়েছে তাই এটিকে একটি ‘প্রতীকী’ সংখ্যা আখ্যা দিয়েছেন। স্বাস্থ্যমন্ত্রী এক নোটে বলা হয়েছে। ২৮ ডিসেম্বর থেকে শুরু হলে প্রতি সপ্তাহে প্রায় চারশ ৭০ হাজার ডোজ ইতালিতে পৌঁছার সম্ভাবনা রয়েছে।\n",
            "এমআরএম/এমকেএইচ\n",
            "Failed to parse: ইতালিতে প্রথম করোনা ভ্যাকসিন নিলেন তিনজন\n",
            "ইতালির রোমে এন্টি-কোভিড প্রথম টিকা নিলেন স্পালানজানি হাসপাতালের তিন ইতালিয়ান। প্রফেসর মারিয়া রোজারিয়া কাপোবিয়ানঙ্কি, নার্স ক্লাউডিয়া আলিভেরনিনি এবং স্বাস্থ্য ও সমাজসেবক ওমর আলতোবেল্লি।\n",
            "স্থানীয় সময় সকাল ৭টা ২০ মিনিট রোমের স্প্যালানজানি জাতীয় সংক্রামক রোগ ইনস্টিটিউটের তিনজনের শরীরে কোভিড-১৯ টিকা দেয়া হয়েছে। এক টুইট বার্তায় প্রধানমন্ত্রী জুসেপ্পে কোন্তি বলেন, ‘আজ ইতালি নতুন করে জেগেছে এই দিনটি ভি-ডে অর্থাৎ ভ্যাকসিন এর দিন হিসেবে দেখছি’।\n",
            "‘আজকের এই দিনটি তাদের চিরকাল মনে থাকবে। প্রথমে স্বাস্থ্যকর্মী ও যারা চরম ভঙ্গুর অবস্থায় তাদের দিয়ে শুরু করা হয়েছে টিকা। এরপরে পুরো জনসংখ্যা।’ ইতালি এবং ইউরোপে ভি-ডে দিবসে অনাক্রম্যতা অর্জন এবং এ ভাইরাসকে নিশ্চিতভাবে পরাস্ত করার সম্ভাবনা প্রসারিত করা হবে এমন প্রত্যাশায় প্রধানমন্ত্রীর।\n",
            "রোমের স্প্যালানজানিতে প্রথম তিনটি টিকা দেয়ার পরপরই স্বাস্থ্যমন্ত্রী রবার্তো স্পেরানজা বলেন, এটি এমন একটি দিন আমরা এ সময়ের জন্য অপেক্ষা করছিলাম। আজ আলো আসছে তবে আমাদের আরও কয়েক মাস ধৈর্য ধরতে হবে। এখনও সমস্যা শেষ হয়নি। তাই আমাদের সর্বদা নিয়মকে সম্মান করে চলতে হবে।\n",
            "আজ ভ্যাকসিন দিবসে ইউরোপের দেশগুলিতে ফাইজার-বায়োএনটেকের ৯ হাজার ৭শ ৫০ ডোজ বিতরণ শুরু হয়েছে তাই এটিকে একটি ‘প্রতীকী’ সংখ্যা আখ্যা দিয়েছেন। স্বাস্থ্যমন্ত্রী এক নোটে বলা হয়েছে। ২৮ ডিসেম্বর থেকে শুরু হলে প্রতি সপ্তাহে প্রায় চারশ ৭০ হাজার ডোজ ইতালিতে পৌঁছার সম্ভাবনা রয়েছে।\n",
            "এমআরএম/এমকেএইচ\n",
            "dropped\n",
            "1724\n",
            "Link Type\n",
            "https://www.dainikrangpur.com/%E0%A6%95%E0%A6%B0%E0%A7%8B%E0%A6%A8%E0%A6%BE-%E0%A6%AE%E0%A7%8B%E0%A6%95%E0%A6%BE%E0%A6%AC%E0%A7%87%E0%A6%B2%E0%A6%BE%E0%A7%9F-%E0%A6%A6%E0%A6%95%E0%A7%8D%E0%A6%B7%E0%A6%BF%E0%A6%A3-%E0%A6%8F%E0%A6%B6%E0%A6%BF%E0%A7%9F%E0%A6%BE%E0%A7%9F-%E0%A6%B6%E0%A7%80%E0%A6%B0%E0%A7%8D%E0%A6%B7%E0%A7%87-%E0%A6%AC%E0%A6%BE%E0%A6%82%E0%A6%B2%E0%A6%BE%E0%A6%A6%E0%A7%87%E0%A6%B6/28538\n",
            "Description Updated\n",
            "1725\n",
            "Link Type\n",
            "https://www.risingbd.com/economics/corporate-corner/386872\n",
            "Description Updated\n",
            "1726\n",
            "Status Type\n",
            "Continuing\n",
            "1727\n",
            "Link Type\n",
            "https://news.dailyekattor.com/59142/\n",
            "Description Updated\n",
            "1728\n",
            "Link Type\n",
            "https://kolkatatribune.in/muslims-wont-take-covid19-vaccine-says-imam-barkati/\n",
            "Description Updated\n",
            "1729\n",
            "Link Type\n",
            "https://dbcnews.tv/news/%E0%A6%86%E0%A6%AE%E0%A7%87%E0%A6%B0%E0%A6%BF%E0%A6%95%E0%A6%BE%E0%A6%A4%E0%A7%87%E0%A6%93-%E0%A6%95%E0%A6%B0%E0%A7%8B%E0%A6%A8%E0%A6%BE-%E0%A6%A8%E0%A6%A4%E0%A7%81%E0%A6%A8-%E0%A6%A7%E0%A6%B0%E0%A6%A8-%E0%A6%B6%E0%A6%A8%E0%A6%BE%E0%A6%95%E0%A7%8D%E0%A6%A4\n",
            "Description Updated\n",
            "1730\n",
            "Link Type\n",
            "https://news.bd24report.com/post/%e0%a6%8f%e0%a6%87%e0%a6%9a%e0%a6%8f%e0%a6%b8%e0%a6%b8%e0%a6%bf%e0%a6%b0-%e0%a6%ab%e0%a6%b2%e0%a6%be%e0%a6%ab%e0%a6%b2-%e0%a6%95%e0%a6%ac%e0%a7%87-%e0%a6%9c%e0%a6%be%e0%a6%a8%e0%a6%be%e0%a6%b2/\n",
            "Description Updated\n",
            "1731\n",
            "Link Type\n",
            "https://www.kalerkantho.com/online/world/2020/12/29/990154\n",
            "Description Updated\n",
            "1732\n",
            "Status Type\n",
            "Continuing\n",
            "1733\n",
            "Link Type\n",
            "http://dailycanews.com/%E0%A6%AE%E0%A6%BF%E0%A6%B6%E0%A6%B0%E0%A7%87-%E0%A6%95%E0%A6%B0%E0%A7%8B%E0%A6%A8%E0%A6%BE-%E0%A6%B9%E0%A6%BE%E0%A6%B8%E0%A6%AA%E0%A6%BE%E0%A6%A4%E0%A6%BE%E0%A6%B2%E0%A7%87-%E0%A6%AD%E0%A7%9F/\n"
          ],
          "name": "stdout"
        },
        {
          "output_type": "stream",
          "text": [
            "ERROR:trafilatura.utils:retries/redirects: http://dailycanews.com/%E0%A6%AE%E0%A6%BF%E0%A6%B6%E0%A6%B0%E0%A7%87-%E0%A6%95%E0%A6%B0%E0%A7%8B%E0%A6%A8%E0%A6%BE-%E0%A6%B9%E0%A6%BE%E0%A6%B8%E0%A6%AA%E0%A6%BE%E0%A6%A4%E0%A6%BE%E0%A6%B2%E0%A7%87-%E0%A6%AD%E0%A7%9F/ HTTPConnectionPool(host='dailycanews.com', port=80): Max retries exceeded with url: /%E0%A6%AE%E0%A6%BF%E0%A6%B6%E0%A6%B0%E0%A7%87-%E0%A6%95%E0%A6%B0%E0%A7%8B%E0%A6%A8%E0%A6%BE-%E0%A6%B9%E0%A6%BE%E0%A6%B8%E0%A6%AA%E0%A6%BE%E0%A6%A4%E0%A6%BE%E0%A6%B2%E0%A7%87-%E0%A6%AD%E0%A7%9F/ (Caused by NewConnectionError('<urllib3.connection.HTTPConnection object at 0x7f96cd357890>: Failed to establish a new connection: [Errno -2] Name or service not known'))\n",
            "ERROR:trafilatura.utils:parsing failed: Document is empty\n",
            "ERROR:trafilatura.utils:not a 200 response: 404 for URL https://probashtime.com/2020/12/30/%e0%a6%93%e0%a6%ae%e0%a6%be%e0%a6%a8%e0%a7%87-%e0%a6%86%e0%a6%9c-%e0%a6%86%e0%a6%95%e0%a7%8d%e0%a6%b0%e0%a6%be%e0%a6%a8%e0%a7%8d%e0%a6%a4-%e0%a7%ae%e0%a7%ac-%e0%a6%b9%e0%a6%b2%e0%a7%87%e0%a6%93/\n",
            "ERROR:trafilatura.utils:this type cannot be processed: <class 'NoneType'>\n"
          ],
          "name": "stderr"
        },
        {
          "output_type": "stream",
          "text": [
            "HTTPConnectionPool(host='dailycanews.com', port=80): Max retries exceeded with url: /%E0%A6%AE%E0%A6%BF%E0%A6%B6%E0%A6%B0%E0%A7%87-%E0%A6%95%E0%A6%B0%E0%A7%8B%E0%A6%A8%E0%A6%BE-%E0%A6%B9%E0%A6%BE%E0%A6%B8%E0%A6%AA%E0%A6%BE%E0%A6%A4%E0%A6%BE%E0%A6%B2%E0%A7%87-%E0%A6%AD%E0%A7%9F/ (Caused by NewConnectionError('<urllib3.connection.HTTPConnection object at 0x7f96cc646a90>: Failed to establish a new connection: [Errno -2] Name or service not known'))\n",
            "dropped\n",
            "1734\n",
            "Link Type\n",
            "https://probashtime.com/2020/12/30/%e0%a6%93%e0%a6%ae%e0%a6%be%e0%a6%a8%e0%a7%87-%e0%a6%86%e0%a6%9c-%e0%a6%86%e0%a6%95%e0%a7%8d%e0%a6%b0%e0%a6%be%e0%a6%a8%e0%a7%8d%e0%a6%a4-%e0%a7%ae%e0%a7%ac-%e0%a6%b9%e0%a6%b2%e0%a7%87%e0%a6%93/\n",
            "None\n",
            "dropped\n",
            "1735\n",
            "Link Type\n",
            "http://jalalabad24.com/site/details?id=3913\n",
            "Description Updated\n",
            "1736\n",
            "Link Type\n",
            "https://insaf24.net/insaf-news-december-29-2020-5/\n",
            "Description Updated\n",
            "1737\n",
            "Link Type\n",
            "https://jamuna.tv/news/194405\n",
            "Description Updated\n",
            "1738\n",
            "Link Type\n",
            "https://p.dw.com/p/3nGoV\n",
            "Description Updated\n",
            "1739\n",
            "Status Type\n",
            "Continuing\n",
            "1740\n",
            "Status Type\n",
            "Continuing\n",
            "1741\n",
            "Status Type\n",
            "Continuing\n",
            "1742\n",
            "Link Type\n",
            "https://www.uttarbangasambad.com/director-debidas-bhattacharya-passed-away.html\n"
          ],
          "name": "stdout"
        },
        {
          "output_type": "stream",
          "text": [
            "ERROR:trafilatura.utils:not a 200 response: 404 for URL https://www.uttarbangasambad.com/director-debidas-bhattacharya-passed-away.html\n",
            "ERROR:trafilatura.utils:this type cannot be processed: <class 'NoneType'>\n"
          ],
          "name": "stderr"
        },
        {
          "output_type": "stream",
          "text": [
            "None\n",
            "dropped\n",
            "1743\n",
            "Status Type\n",
            "Continuing\n",
            "1744\n",
            "Link Type\n",
            "http://nbtimes24.com/archives/1814\n",
            "Description Updated\n",
            "1745\n",
            "Link Type\n",
            "https://jagosdnews.com/%e0%a6%aa%e0%a7%81%e0%a6%b2%e0%a6%bf%e0%a6%b6%e0%a7%87%e0%a6%b0-%e0%a6%ac%e0%a6%bf%e0%a6%ad%e0%a6%bf%e0%a6%a8%e0%a7%8d%e0%a6%a8-%e0%a6%aa%e0%a6%a6%e0%a6%ae%e0%a6%b0%e0%a7%8d%e0%a6%af%e0%a6%be%e0%a6%a6/\n"
          ],
          "name": "stdout"
        },
        {
          "output_type": "stream",
          "text": [
            "ERROR:trafilatura.core:not enough text None\n"
          ],
          "name": "stderr"
        },
        {
          "output_type": "stream",
          "text": [
            "Description Updated\n",
            "1746\n",
            "Link Type\n",
            "https://rctvlive.in/disobeying-the-ban-of-the-forest-department-the-forest-food-is-eaten-in-baharail-forest/\n",
            "Description Updated\n",
            "1747\n",
            "Status Type\n",
            "Continuing\n",
            "1748\n",
            "Link Type\n",
            "https://www.banglanews24.com/daily-chittagong/news/bd/832032.details\n",
            "Description Updated\n",
            "1749\n",
            "Link Type\n",
            "https://www.ntvbd.com/entertainment/%E0%A7%A9%E0%A7%A7%E0%A7%AA-%E0%A6%95%E0%A7%8B%E0%A6%9F%E0%A6%BF%E0%A6%A4%E0%A7%87-%E0%A6%AC%E0%A6%95%E0%A7%8D%E0%A6%B8-%E0%A6%85%E0%A6%AB%E0%A6%BF%E0%A6%B8%E0%A7%87-%E0%A6%85%E0%A6%9C%E0%A7%9F-%E0%A6%A6%E0%A7%87%E0%A6%AC%E0%A6%97%E0%A6%A8%E0%A7%87%E0%A6%B0-%E0%A6%9D%E0%A7%9C-846797\n",
            "Description Updated\n",
            "1750\n",
            "Link Type\n",
            "https://www.nytimesbd.com/probash/news/9178\n"
          ],
          "name": "stdout"
        },
        {
          "output_type": "stream",
          "text": [
            "ERROR:trafilatura.core:not enough text None\n"
          ],
          "name": "stderr"
        },
        {
          "output_type": "stream",
          "text": [
            "Description Updated\n",
            "1751\n",
            "Link Type\n",
            "https://insaf24.net/insafnews_28december-monday-20_01014700/\n",
            "Description Updated\n",
            "1752\n",
            "Link Type\n",
            "https://agamirbarta.com/archives/11005\n",
            "Description Updated\n",
            "1753\n",
            "Link Type\n",
            "https://dainikbidyaloy.com/2020/12/31/%e0%a6%95%e0%a6%b0%e0%a7%8b%e0%a6%a8%e0%a6%be-%e0%a6%aa%e0%a6%b0%e0%a6%bf%e0%a6%b8%e0%a7%8d%e0%a6%a5%e0%a6%bf%e0%a6%a4%e0%a6%bf-%e0%a6%85%e0%a6%a8%e0%a7%81%e0%a6%95%e0%a7%82%e0%a6%b2%e0%a7%87/#.X-18xJMJzv4.facebook\n",
            "Description Updated\n",
            "1754\n",
            "Link Type\n",
            "https://www.agaminews.com/national/news/38598#.X-1z_rFmQNg.facebook\n",
            "Description Updated\n",
            "1755\n",
            "Link Type\n",
            "https://www.sangbadpratidin.in/world/us-president-donald-trump-signed-covid-19-relief-bill-significantly/\n",
            "Description Updated\n",
            "1756\n",
            "Link Type\n",
            "https://www.dailyinqilab.com/article/346287/%E0%A6%95%E0%A7%81%E0%A6%B7%E0%A7%8D%E0%A6%9F%E0%A6%BF%E0%A7%9F%E0%A6%BE%E0%A7%9F-%E0%A7%A8%E0%A7%AA-%E0%A6%98%E0%A6%A8%E0%A7%8D%E0%A6%9F%E0%A6%BE%E0%A7%9F-%E0%A6%A8%E0%A6%A4%E0%A7%81%E0%A6%A8-%E0%A6%95%E0%A6%B0%E0%A7%87-%E0%A6%86%E0%A6%B0%E0%A7%8B-%E0%A7%A7%E0%A7%A8-%E0%A6%9C%E0%A6%A8-%E0%A6%95%E0%A6%B0%E0%A7%8B%E0%A6%A8%E0%A6%BE-%E0%A6%B0%E0%A7%8B%E0%A6%97%E0%A7%80-%E0%A6%B6%E0%A6%A8%E0%A6%BE%E0%A6%95%E0%A7%8D%E0%A6%A4\n",
            "Description Updated\n",
            "1757\n",
            "Link Type\n",
            "https://www.dailynayadiganta.com/asia/552670/%E0%A6%9A%E0%A7%80%E0%A6%A8%E0%A7%87-%E0%A6%B8%E0%A6%BF%E0%A6%A8%E0%A7%8B%E0%A6%AB%E0%A6%BE%E0%A6%B0%E0%A7%8D%E0%A6%AE%E0%A7%87%E0%A6%B0-%E0%A6%9F%E0%A6%BF%E0%A6%95%E0%A6%BE-%E0%A6%AC%E0%A7%8D%E0%A6%AF%E0%A6%AC%E0%A6%B9%E0%A6%BE%E0%A6%B0%E0%A7%87%E0%A6%B0-%E0%A6%85%E0%A6%A8%E0%A7%81%E0%A6%AE%E0%A7%8B%E0%A6%A6%E0%A6%A8\n",
            "Description Updated\n",
            "1758\n",
            "Link Type\n",
            "https://www.nytimesbd.com/probash/news/9210\n"
          ],
          "name": "stdout"
        },
        {
          "output_type": "stream",
          "text": [
            "ERROR:trafilatura.core:not enough text None\n"
          ],
          "name": "stderr"
        },
        {
          "output_type": "stream",
          "text": [
            "Description Updated\n",
            "1759\n",
            "Link Type\n",
            "https://www.dailyinqilab.com/article/346551/%E0%A6%AF%E0%A7%81%E0%A6%95%E0%A7%8D%E0%A6%A4%E0%A6%B0%E0%A6%BE%E0%A6%9C%E0%A7%8D%E0%A6%AF%E0%A7%87-%E0%A6%85%E0%A6%A8%E0%A7%81%E0%A6%AE%E0%A7%8B%E0%A6%A6%E0%A6%A8-%E0%A6%AA%E0%A7%87%E0%A6%B2-%E0%A6%85%E0%A6%95%E0%A7%8D%E0%A6%B8%E0%A6%AB%E0%A7%8B%E0%A6%B0%E0%A7%8D%E0%A6%A1%E0%A7%87%E0%A6%B0-%E0%A6%AD%E0%A7%8D%E0%A6%AF%E0%A6%BE%E0%A6%95%E0%A6%B8%E0%A6%BF%E0%A6%A8\n",
            "Description Updated\n",
            "1760\n",
            "Status Type\n",
            "Continuing\n",
            "1761\n",
            "Status Type\n",
            "Continuing\n",
            "1762\n",
            "Status Type\n",
            "Continuing\n",
            "1763\n",
            "Link Type\n",
            "https://www.cvoice24.com/news/36118\n",
            "Description Updated\n",
            "1764\n",
            "Status Type\n",
            "Continuing\n",
            "1765\n",
            "Link Type\n",
            "http://banglanewzz.com/archives/10988\n",
            "Description Updated\n",
            "1766\n",
            "Link Type\n",
            "https://www.kalerkantho.com/online/entertainment/2020/12/31/990753\n",
            "Description Updated\n",
            "1767\n",
            "Link Type\n",
            "https://www.dailynayadiganta.com/miscellaneous/552009/%E0%A6%AC%E0%A6%BF%E0%A6%B6%E0%A7%8D%E0%A6%AC%E0%A7%87-%E0%A6%95%E0%A6%B0%E0%A7%8B%E0%A6%A8%E0%A6%BE-%E0%A6%86%E0%A6%95%E0%A7%8D%E0%A6%B0%E0%A6%BE%E0%A6%A8%E0%A7%8D%E0%A6%A4-%E0%A7%AE-%E0%A6%95%E0%A7%8B%E0%A6%9F%E0%A6%BF-%E0%A6%B8%E0%A6%BE%E0%A7%9C%E0%A7%87-%E0%A7%AD-%E0%A6%B2%E0%A6%BE%E0%A6%96-%E0%A6%9B%E0%A6%BE%E0%A7%9C%E0%A6%BE%E0%A6%B2\n",
            "Description Updated\n",
            "1768\n",
            "Status Type\n",
            "Continuing\n",
            "1769\n",
            "Link Type\n",
            "https://mohanagarnews.com/%E0%A6%95%E0%A6%B0%E0%A7%8B%E0%A6%A8%E0%A6%BE%E0%A6%B0-%E0%A6%A8%E0%A6%A4%E0%A7%81%E0%A6%A8-%E0%A6%A7%E0%A6%B0%E0%A6%A8-%E0%A6%9A%E0%A6%9F%E0%A7%8D%E0%A6%9F%E0%A6%97%E0%A7%8D%E0%A6%B0%E0%A6%BE%E0%A6%AE%E0%A7%87%E0%A6%B0-%E0%A7%A9-%E0%A6%AC%E0%A6%BF%E0%A6%B6%E0%A7%87%E0%A6%B7%E0%A6%9C%E0%A7%8D%E0%A6%9E%E0%A7%87%E0%A6%B0-%E0%A6%B8%E0%A6%A4%E0%A6%B0%E0%A7%8D%E0%A6%95%E0%A6%AC%E0%A6%BE%E0%A6%B0%E0%A7%8D%E0%A6%A4%E0%A6%BE#.X-gVigmZ5M0.facebook\n",
            "Description Updated\n",
            "1770\n",
            "Link Type\n",
            "https://www.odhikar.news/international/170520\n",
            "Description Updated\n",
            "1771\n",
            "Link Type\n",
            "https://insaf24.net/insafnews_28december-monday-20_01014700/\n"
          ],
          "name": "stdout"
        },
        {
          "output_type": "stream",
          "text": [
            "ERROR:trafilatura.utils:retries/redirects: https://www.ourislam24.com/2020/12/29/%e0%a6%95%e0%a6%b0%e0%a7%8b%e0%a6%a8%e0%a6%be%e0%a6%b0-%e0%a6%9f%e0%a6%bf%e0%a6%95%e0%a6%be-%e0%a6%97%e0%a7%8d%e0%a6%b0%e0%a6%b9%e0%a6%a3%e0%a6%95%e0%a7%87-%e0%a6%ac%e0%a7%88%e0%a6%a7-%e0%a6%ab/ HTTPSConnectionPool(host='www.ourislam24.com', port=443): Max retries exceeded with url: /2020/12/29/%E0%A6%95%E0%A6%B0%E0%A7%8B%E0%A6%A8%E0%A6%BE%E0%A6%B0-%E0%A6%9F%E0%A6%BF%E0%A6%95%E0%A6%BE-%E0%A6%97%E0%A7%8D%E0%A6%B0%E0%A6%B9%E0%A6%A3%E0%A6%95%E0%A7%87-%E0%A6%AC%E0%A7%88%E0%A6%A7-%E0%A6%AB/ (Caused by ResponseError('too many 503 error responses'))\n",
            "ERROR:trafilatura.utils:parsing failed: Document is empty\n"
          ],
          "name": "stderr"
        },
        {
          "output_type": "stream",
          "text": [
            "Description Updated\n",
            "1772\n",
            "Link Type\n",
            "https://www.ourislam24.com/2020/12/29/%e0%a6%95%e0%a6%b0%e0%a7%8b%e0%a6%a8%e0%a6%be%e0%a6%b0-%e0%a6%9f%e0%a6%bf%e0%a6%95%e0%a6%be-%e0%a6%97%e0%a7%8d%e0%a6%b0%e0%a6%b9%e0%a6%a3%e0%a6%95%e0%a7%87-%e0%a6%ac%e0%a7%88%e0%a6%a7-%e0%a6%ab/\n",
            "None\n",
            "dropped\n",
            "1773\n",
            "Link Type\n",
            "https://www.ourislam24.com/2020/12/28/%e0%a6%95%e0%a6%b0%e0%a7%8b%e0%a6%a8%e0%a6%be-%e0%a6%b0%e0%a7%8b%e0%a6%97%e0%a7%80-%e0%a6%b8%e0%a6%be%e0%a6%ae%e0%a6%b2%e0%a6%be%e0%a6%a4%e0%a7%87-%e0%a6%b9%e0%a6%bf%e0%a6%ae%e0%a6%b6%e0%a6%bf/\n"
          ],
          "name": "stdout"
        },
        {
          "output_type": "stream",
          "text": [
            "ERROR:trafilatura.utils:retries/redirects: https://www.ourislam24.com/2020/12/28/%e0%a6%95%e0%a6%b0%e0%a7%8b%e0%a6%a8%e0%a6%be-%e0%a6%b0%e0%a7%8b%e0%a6%97%e0%a7%80-%e0%a6%b8%e0%a6%be%e0%a6%ae%e0%a6%b2%e0%a6%be%e0%a6%a4%e0%a7%87-%e0%a6%b9%e0%a6%bf%e0%a6%ae%e0%a6%b6%e0%a6%bf/ HTTPSConnectionPool(host='www.ourislam24.com', port=443): Max retries exceeded with url: /2020/12/28/%E0%A6%95%E0%A6%B0%E0%A7%8B%E0%A6%A8%E0%A6%BE-%E0%A6%B0%E0%A7%8B%E0%A6%97%E0%A7%80-%E0%A6%B8%E0%A6%BE%E0%A6%AE%E0%A6%B2%E0%A6%BE%E0%A6%A4%E0%A7%87-%E0%A6%B9%E0%A6%BF%E0%A6%AE%E0%A6%B6%E0%A6%BF/ (Caused by ResponseError('too many 503 error responses'))\n",
            "ERROR:trafilatura.utils:parsing failed: Document is empty\n"
          ],
          "name": "stderr"
        },
        {
          "output_type": "stream",
          "text": [
            "None\n",
            "dropped\n",
            "1774\n",
            "Link Type\n",
            "https://www.ekushey-tv.com/national/news/120196#.X-0z-LAItrQ.facebook\n",
            "Description Updated\n",
            "1775\n",
            "Link Type\n",
            "https://www.dailynayadiganta.com/miscellaneous/552229/%E0%A6%AC%E0%A6%BF%E0%A6%B6%E0%A7%8D%E0%A6%AC%E0%A6%AC%E0%A7%8D%E0%A6%AF%E0%A6%BE%E0%A6%AA%E0%A7%80-%E0%A6%95%E0%A6%B0%E0%A7%8B%E0%A6%A8%E0%A6%BE-%E0%A6%86%E0%A6%95%E0%A7%8D%E0%A6%B0%E0%A6%BE%E0%A6%A8%E0%A7%8D%E0%A6%A4-%E0%A7%AE-%E0%A6%95%E0%A7%8B%E0%A6%9F%E0%A6%BF-%E0%A7%A7%E0%A7%A8-%E0%A6%B2%E0%A6%BE%E0%A6%96-%E0%A6%9B%E0%A6%BE%E0%A7%9C%E0%A6%BE%E0%A6%B2\n",
            "Description Updated\n",
            "1776\n",
            "Status Type\n",
            "Continuing\n",
            "1777\n",
            "Link Type\n",
            "http://dlvr.it/RpQQbT\n",
            "Description Updated\n",
            "1778\n",
            "Link Type\n",
            "https://www.somoynews.tv/pages/details/254896\n"
          ],
          "name": "stdout"
        },
        {
          "output_type": "stream",
          "text": [
            "WARNING:trafilatura.utils:wrong encoding detected: utf-8\n",
            "ERROR:trafilatura.utils:retries/redirects: https://shikshabarta.com/%e0%a7%ae-%e0%a6%9f%e0%a6%bf-%e0%a6%a8%e0%a6%bf%e0%a7%9f%e0%a6%ae%e0%a7%87%e0%a6%87-%e0%a6%b0%e0%a7%8b%e0%a6%97-%e0%a6%aa%e0%a7%8d%e0%a6%b0%e0%a6%a4%e0%a6%bf%e0%a6%b0%e0%a7%8b%e0%a6%a7-%e0%a6%95/ HTTPSConnectionPool(host='shikshabarta.com', port=443): Max retries exceeded with url: /%E0%A7%AE-%E0%A6%9F%E0%A6%BF-%E0%A6%A8%E0%A6%BF%E0%A7%9F%E0%A6%AE%E0%A7%87%E0%A6%87-%E0%A6%B0%E0%A7%8B%E0%A6%97-%E0%A6%AA%E0%A7%8D%E0%A6%B0%E0%A6%A4%E0%A6%BF%E0%A6%B0%E0%A7%8B%E0%A6%A7-%E0%A6%95/ (Caused by ResponseError('too many 503 error responses'))\n",
            "ERROR:trafilatura.utils:parsing failed: Document is empty\n"
          ],
          "name": "stderr"
        },
        {
          "output_type": "stream",
          "text": [
            "Description Updated\n",
            "1779\n",
            "Link Type\n",
            "https://shikshabarta.com/%e0%a7%ae-%e0%a6%9f%e0%a6%bf-%e0%a6%a8%e0%a6%bf%e0%a7%9f%e0%a6%ae%e0%a7%87%e0%a6%87-%e0%a6%b0%e0%a7%8b%e0%a6%97-%e0%a6%aa%e0%a7%8d%e0%a6%b0%e0%a6%a4%e0%a6%bf%e0%a6%b0%e0%a7%8b%e0%a6%a7-%e0%a6%95/\n",
            "None\n",
            "dropped\n",
            "1780\n",
            "Link Type\n",
            "https://www.bd-pratidin.com/probash-potro/2020/12/30/602782\n",
            "Description Updated\n",
            "1781\n",
            "Link Type\n",
            "https://p.dw.com/p/3apqb\n",
            "Description Updated\n",
            "1782\n",
            "Link Type\n",
            "https://banglanews24.com/law-court/news/bd/832091.details\n",
            "Description Updated\n",
            "1783\n",
            "Link Type\n",
            "https://bengali.abplive.com/news/aaj-focus-e/who-official-corona-app-world-health-organisation-launches-covid-19-app-counter-pandemic-misinformation-776143\n"
          ],
          "name": "stdout"
        },
        {
          "output_type": "stream",
          "text": [
            "ERROR:trafilatura.core:not enough text None\n"
          ],
          "name": "stderr"
        },
        {
          "output_type": "stream",
          "text": [
            "Description Updated\n",
            "1784\n",
            "Status Type\n",
            "Continuing\n",
            "1785\n",
            "Link Type\n",
            "http://prothom-feni.com/archives/60008\n",
            "Description Updated\n",
            "1786\n",
            "Link Type\n",
            "http://newzwhois.com/archives/13907\n",
            "Description Updated\n",
            "1787\n",
            "Status Type\n",
            "Continuing\n",
            "1788\n",
            "Link Type\n",
            "http://www.sylhetview24.net/news/details/Sylhet/204911\n",
            "Description Updated\n",
            "1789\n",
            "Link Type\n",
            "https://www.bd-pratidin.com/coronavirus/2020/12/27/601575\n",
            "Description Updated\n",
            "1790\n",
            "Link Type\n",
            "https://www.sangbadpratidin.in/bengal/more-than-1100-people-tested-corona-positive-in-last-24-hrs-in-wb/\n",
            "Description Updated\n",
            "1791\n",
            "Link Type\n",
            "https://www.jagonews24.com/probash/news/633155\n",
            "Description Updated\n",
            "1792\n",
            "Link Type\n",
            "https://www.kalerkantho.com/print-edition/first-page/2020/12/27/989323\n",
            "Description Updated\n",
            "1793\n",
            "Status Type\n",
            "Continuing\n",
            "1794\n",
            "Status Type\n",
            "Continuing\n",
            "1795\n",
            "Link Type\n",
            "http://banglanewzz.com/archives/10995\n",
            "Description Updated\n",
            "1796\n",
            "Link Type\n",
            "https://ajker-sangbad.com/2020/12/29/%E0%A6%8F%E0%A6%AC%E0%A6%BE%E0%A6%B0-%E0%A6%AA%E0%A7%87%E0%A6%9B%E0%A6%BE%E0%A6%B2-%E0%A7%A8%E0%A7%A6%E0%A7%A8%E0%A7%A7-%E0%A6%B8%E0%A6%BE%E0%A6%B2%E0%A7%87%E0%A6%B0-%E0%A6%8F%E0%A6%B8%E0%A6%8F/\n",
            "Description Updated\n",
            "1797\n",
            "Link Type\n",
            "http://www.onebanglanews.com/news/136729\n",
            "Description Updated\n",
            "1798\n",
            "Link Type\n",
            "https://www.bigganchinta.com/%E0%A6%95%E0%A6%B2%E0%A7%87%E0%A6%B0%E0%A6%BE-%E0%A6%A5%E0%A7%87%E0%A6%95%E0%A7%87-%E0%A6%95%E0%A6%B0%E0%A7%8B%E0%A6%A8%E0%A6%BE-%E0%A6%9C%E0%A6%BE%E0%A6%B0%E0%A7%8D%E0%A6%AE%E0%A6%BE%E0%A6%A8-%E0%A6%AC%E0%A6%BF%E0%A6%9C%E0%A7%8D%E0%A6%9E%E0%A6%BE%E0%A6%A8%E0%A7%80%E0%A6%A6%E0%A7%87%E0%A6%B0-%E0%A6%85%E0%A6%AC%E0%A6%A6%E0%A6%BE%E0%A6%A8\n",
            "Description Updated\n",
            "1799\n",
            "Status Type\n",
            "Continuing\n",
            "1800\n",
            "Link Type\n",
            "https://inabd.com/archives/9392\n",
            "Description Updated\n",
            "1801\n",
            "Link Type\n",
            "https://bengali.news18.com/news/coronavirus-latest-news/us-covid-outbreak-may-worsen-after-holidays-says-anthony-fauci-sda-541082.html\n",
            "Description Updated\n",
            "1802\n",
            "Link Type\n",
            "https://chandpurnews.com/%e0%a6%9a%e0%a6%be%e0%a6%81%e0%a6%a6%e0%a6%aa%e0%a7%81%e0%a6%b0%e0%a7%87-%e0%a6%a8%e0%a6%a4%e0%a7%81%e0%a6%a8-%e0%a6%86%e0%a6%b0%e0%a7%8b-%e0%a7%a9%e0%a7%aa-%e0%a6%b0%e0%a6%bf%e0%a6%aa%e0%a7%8b/\n",
            "Description Updated\n",
            "1803\n",
            "Status Type\n",
            "Continuing\n",
            "1804\n",
            "Link Type\n",
            "https://mailexpress24.com/?p=8377\n",
            "Description Updated\n",
            "1805\n",
            "Link Type\n",
            "https://thedailycampus.com/national/60292\n",
            "Description Updated\n",
            "1806\n",
            "Link Type\n",
            "https://www.dailyinqilab.com/article/346024/%E0%A6%AB%E0%A7%8D%E0%A6%B0%E0%A6%BE%E0%A6%A8%E0%A7%8D%E0%A6%B8-%E0%A6%B8%E0%A7%80%E0%A6%AE%E0%A6%BE%E0%A6%A8%E0%A7%8D%E0%A6%A4%E0%A7%87-%E0%A6%A6%E0%A7%80%E0%A6%B0%E0%A7%8D%E0%A6%98-%E0%A6%9C%E0%A7%8D%E0%A6%AF%E0%A6%BE%E0%A6%AE%E0%A7%87-%E0%A6%AC%E0%A6%B8%E0%A7%87-%E0%A6%AC%E0%A7%9C%E0%A6%A6%E0%A6%BF%E0%A6%A8-%E0%A6%89%E0%A6%A6%E0%A6%AF%E0%A6%BE%E0%A6%AA%E0%A6%A8-%E0%A6%95%E0%A6%B0%E0%A6%B2%E0%A7%8B-%E0%A7%A7%E0%A7%A6-%E0%A6%B9%E0%A6%BE%E0%A6%9C%E0%A6%BE%E0%A6%B0-%E0%A6%B2%E0%A6%B0%E0%A6%BF-%E0%A6%A1%E0%A7%8D%E0%A6%B0%E0%A6%BE%E0%A6%87%E0%A6%AD%E0%A6%BE%E0%A6%B0\n",
            "Description Updated\n",
            "1807\n",
            "Link Type\n",
            "https://www.rtvonline.com/others/health/coronavirus/114755/%E0%A6%95%E0%A6%B0%E0%A7%8B%E0%A6%A8%E0%A6%BE%E0%A7%9F-%E0%A6%9A%E0%A6%AC%E0%A7%8D%E0%A6%AC%E0%A6%BF%E0%A6%B6-%E0%A6%98%E0%A6%A3%E0%A7%8D%E0%A6%9F%E0%A6%BE%E0%A7%9F-%E0%A6%AE%E0%A7%83%E0%A6%A4%E0%A7%8D%E0%A6%AF%E0%A7%81-%E0%A6%95%E0%A6%AE%E0%A6%B2%E0%A7%8B\n",
            "Description Updated\n",
            "1808\n",
            "Status Type\n",
            "Continuing\n",
            "1809\n",
            "Status Type\n",
            "Continuing\n",
            "1810\n",
            "Link Type\n",
            "https://kolkatatribune.in/india-to-become-3rd-largest-economy-in-2031/\n",
            "Description Updated\n",
            "1811\n",
            "Link Type\n",
            "http://dhakapostonline.com/archives/1279\n"
          ],
          "name": "stdout"
        },
        {
          "output_type": "stream",
          "text": [
            "ERROR:trafilatura.utils:not a 200 response: 404 for URL http://dhakapostonline.com/archives/1279\n",
            "ERROR:trafilatura.utils:this type cannot be processed: <class 'NoneType'>\n"
          ],
          "name": "stderr"
        },
        {
          "output_type": "stream",
          "text": [
            "None\n",
            "dropped\n",
            "1812\n",
            "Link Type\n",
            "http://thecityvpn.com/?p=30985\n",
            "Description Updated\n",
            "1813\n",
            "Link Type\n",
            "https://bdupdatenews.com/archives/27322\n",
            "Description Updated\n",
            "1814\n",
            "Link Type\n",
            "http://fenirshomoy.com/?p=14807\n"
          ],
          "name": "stdout"
        },
        {
          "output_type": "stream",
          "text": [
            "ERROR:trafilatura.utils:not a 200 response: 404 for URL http://fenirshomoy.com/?p=14807\n",
            "ERROR:trafilatura.utils:this type cannot be processed: <class 'NoneType'>\n"
          ],
          "name": "stderr"
        },
        {
          "output_type": "stream",
          "text": [
            "None\n",
            "dropped\n",
            "1815\n",
            "Link Type\n",
            "https://www.somoynews.tv/pages/details/255689\n",
            "Description Updated\n",
            "1816\n",
            "Link Type\n",
            "https://dbcnews.tv/news/%E0%A6%B8%E0%A6%BE%E0%A6%B0%E0%A7%8D%E0%A6%AD%E0%A6%BE%E0%A6%B0-%E0%A6%B8%E0%A6%AE%E0%A6%B8%E0%A7%8D%E0%A6%AF%E0%A6%BE%E0%A6%B0-%E0%A6%95%E0%A6%BE%E0%A6%B0%E0%A6%A3%E0%A7%87-%E0%A6%95%E0%A6%B0%E0%A7%8B%E0%A6%A8%E0%A6%BE-%E0%A6%B8%E0%A6%A8%E0%A6%A6-%E0%A6%AA%E0%A6%BE%E0%A6%9A%E0%A7%8D%E0%A6%9B%E0%A7%87%E0%A6%A8-%E0%A6%A8%E0%A6%BE-%E0%A6%AC%E0%A6%BF%E0%A6%A6%E0%A7%87%E0%A6%B6%E0%A6%97%E0%A6%BE%E0%A6%AE%E0%A7%80%E0%A6%B0%E0%A6%BE\n",
            "Description Updated\n",
            "1817\n",
            "Link Type\n",
            "https://zeenews.india.com/bengali/sports/neymar-to-host-150-at-new-year-party_361104.html\n",
            "Description Updated\n",
            "1818\n",
            "Status Type\n",
            "Continuing\n",
            "1819\n",
            "Link Type\n",
            "https://www.dainikshiksha.com/%E0%A6%95%E0%A6%B0%E0%A7%8B%E0%A6%A8%E0%A6%BE-%E0%A6%AA%E0%A6%B0%E0%A6%BF%E0%A6%B8%E0%A7%8D%E0%A6%A5%E0%A6%BF%E0%A6%A4%E0%A6%BF-%E0%A6%85%E0%A6%A8%E0%A7%81%E0%A6%95%E0%A7%82%E0%A6%B2%E0%A7%87-%E0%A6%A8%E0%A6%BE-%E0%A6%86%E0%A6%B8%E0%A6%B2%E0%A7%87-%E0%A6%B6%E0%A6%BF%E0%A6%95%E0%A7%8D%E0%A6%B7%E0%A6%BE%E0%A6%AA%E0%A7%8D%E0%A6%B0%E0%A6%A4%E0%A6%BF%E0%A6%B7%E0%A7%8D%E0%A6%A0%E0%A6%BE%E0%A6%A8-%E0%A6%96%E0%A7%8B%E0%A6%B2%E0%A6%BE-%E0%A6%B9%E0%A6%AC%E0%A7%87-%E0%A6%A8%E0%A6%BE-%E0%A6%AA%E0%A7%8D%E0%A6%B0%E0%A6%A7%E0%A6%BE%E0%A6%A8%E0%A6%AE%E0%A6%A8%E0%A7%8D%E0%A6%A4%E0%A7%8D%E0%A6%B0%E0%A7%80/201172/\n",
            "Description Updated\n",
            "1820\n",
            "Link Type\n",
            "http://fenirtalash.com/%e0%a6%aa%e0%a6%b0%e0%a6%b6%e0%a7%81%e0%a6%b0%e0%a6%be%e0%a6%ae%e0%a7%87-%e0%a6%95%e0%a6%b0%e0%a7%8b%e0%a6%a8%e0%a6%be-%e0%a6%aa%e0%a7%8d%e0%a6%b0%e0%a6%95%e0%a7%8c%e0%a6%b6%e0%a6%b2%e0%a7%80%e0%a6%b0/\n",
            "Description Updated\n",
            "1821\n",
            "Link Type\n",
            "http://www.tritiyamatra.com/news/317896\n"
          ],
          "name": "stdout"
        },
        {
          "output_type": "stream",
          "text": [
            "ERROR:trafilatura.utils:not a 200 response: 404 for URL http://www.tritiyamatra.com/news/317896\n",
            "ERROR:trafilatura.utils:this type cannot be processed: <class 'NoneType'>\n"
          ],
          "name": "stderr"
        },
        {
          "output_type": "stream",
          "text": [
            "None\n",
            "dropped\n",
            "1822\n",
            "Link Type\n",
            "https://cityrealnews.com/archives/25941\n",
            "Description Updated\n",
            "1823\n",
            "Status Type\n",
            "Continuing\n",
            "1824\n",
            "Link Type\n",
            "https://timesbd20.com/archives/15791\n"
          ],
          "name": "stdout"
        },
        {
          "output_type": "stream",
          "text": [
            "ERROR:trafilatura.utils:retries/redirects: https://timesbd20.com/archives/15791 HTTPSConnectionPool(host='timesbd20.com', port=443): Max retries exceeded with url: /archives/15791 (Caused by SSLError(SSLCertVerificationError(1, '[SSL: CERTIFICATE_VERIFY_FAILED] certificate verify failed: certificate has expired (_ssl.c:1091)')))\n",
            "ERROR:trafilatura.utils:parsing failed: Document is empty\n"
          ],
          "name": "stderr"
        },
        {
          "output_type": "stream",
          "text": [
            "HTTPSConnectionPool(host='timesbd20.com', port=443): Max retries exceeded with url: /archives/15791 (Caused by SSLError(SSLCertVerificationError(1, '[SSL: CERTIFICATE_VERIFY_FAILED] certificate verify failed: certificate has expired (_ssl.c:1091)')))\n",
            "dropped\n",
            "1825\n",
            "Link Type\n",
            "https://www.amadershomoy.com/bn/2020/12/28/1264740.html\n",
            "Description Updated\n",
            "1826\n",
            "Link Type\n",
            "https://mzamin.com/article.php?mzamin=256339\n",
            "Description Updated\n",
            "1827\n",
            "Link Type\n",
            "https://www.dailyinqilab.com/article/346673/%E0%A6%AE%E0%A6%BE%E0%A6%B0%E0%A7%8D%E0%A6%95%E0%A6%BF%E0%A6%A8-%E0%A6%AF%E0%A7%81%E0%A6%95%E0%A7%8D%E0%A6%A4%E0%A6%B0%E0%A6%BE%E0%A6%B7%E0%A7%8D%E0%A6%9F%E0%A7%8D%E0%A6%B0-%E0%A6%93-%E0%A6%AD%E0%A6%BE%E0%A6%B0%E0%A6%A4%E0%A7%87-%E0%A6%95%E0%A7%8B%E0%A6%AD%E0%A6%BF%E0%A6%A1-%E0%A6%AD%E0%A6%BE%E0%A6%87%E0%A6%B0%E0%A6%BE%E0%A6%B8%E0%A7%87%E0%A6%B0-%E0%A6%A8%E0%A6%A4%E0%A7%81%E0%A6%A8-%E0%A6%B8%E0%A7%8D%E0%A6%9F%E0%A7%8D%E0%A6%B0%E0%A7%87%E0%A6%87%E0%A6%A8\n",
            "Description Updated\n",
            "1828\n",
            "Link Type\n",
            "https://bangla.bdnews24.com/cricket/article1842836.bdnews\n",
            "Description Updated\n",
            "1829\n",
            "Status Type\n",
            "Continuing\n",
            "1830\n",
            "Link Type\n",
            "https://www.emiratessangbad.com/archives/47842\n",
            "Description Updated\n",
            "1831\n",
            "Link Type\n",
            "http://chattogramnews.com/news-view/17369?n=%E0%A6%95%E0%A6%B0%E0%A7%8B%E0%A6%A8%E0%A6%BE%3A+%E0%A6%AA%E0%A7%8D%E0%A6%B0%E0%A7%9F%E0%A6%BE%E0%A6%A4+%E0%A6%8F%E0%A6%AE%E0%A6%AA%E0%A6%BF+%E0%A6%AC%E0%A6%BE%E0%A6%A6%E0%A6%B2%E0%A7%87%E0%A6%B0+%E0%A6%AD%E0%A6%BE%E0%A6%87+%E0%A6%AE%E0%A6%A8%E0%A6%BF%E0%A6%B0+%E0%A6%96%E0%A6%BE%E0%A6%A8%E0%A7%87%E0%A6%B0+%E0%A6%87%E0%A6%A8%E0%A7%8D%E0%A6%A4%E0%A7%87%E0%A6%95%E0%A6%BE%E0%A6%B2\n",
            "Description Updated\n",
            "1832\n",
            "Link Type\n",
            "https://shadhinkantha.tv/%e0%a6%95%e0%a6%b0%e0%a7%8b%e0%a6%a8%e0%a6%be-%e0%a6%86%e0%a6%95%e0%a7%8d%e0%a6%b0%e0%a6%be%e0%a6%a8%e0%a7%8d%e0%a6%a4-%e0%a6%b9%e0%a7%81%e0%a6%87%e0%a6%aa-%e0%a6%b8%e0%a6%be%e0%a6%ae%e0%a6%b6/\n",
            "Description Updated\n",
            "1833\n",
            "Link Type\n",
            "https://www.protidiner-bd.com/%E0%A6%8F%E0%A6%87%E0%A6%9A%E0%A6%8F%E0%A6%B8%E0%A6%B8%E0%A6%BF%E0%A6%B0-%E0%A6%AB%E0%A6%B2%E0%A6%93-%E0%A6%9C%E0%A6%BE%E0%A6%A8%E0%A6%BE-%E0%A6%AF%E0%A6%BE%E0%A6%AC%E0%A7%87-%E0%A6%8F%E0%A6%B8/\n",
            "Description Updated\n",
            "1834\n",
            "Status Type\n",
            "Continuing\n",
            "1835\n",
            "Status Type\n",
            "Continuing\n",
            "1836\n",
            "Link Type\n",
            "https://www.bd-pratidin.com/coronavirus/2020/12/27/601576\n",
            "Description Updated\n",
            "1837\n",
            "Link Type\n",
            "https://jamuna.tv/news/194648\n",
            "Description Updated\n",
            "1838\n",
            "Link Type\n",
            "https://www.banglanews24.com/daily-chittagong/news/bd/831810.details\n",
            "Description Updated\n",
            "1839\n",
            "Link Type\n",
            "https://www.dailynayadiganta.com/miscellaneous/551782/%E0%A6%B8%E0%A6%BE%E0%A6%B2%E0%A6%A4%E0%A6%BE%E0%A6%AE%E0%A6%BE%E0%A6%AE%E0%A6%BF-%E0%A7%A8%E0%A7%A6%E0%A7%A8%E0%A7%A6-%E0%A6%95%E0%A6%B0%E0%A7%8B%E0%A6%A8%E0%A6%BE-%E0%A6%AF%E0%A7%81%E0%A6%A6%E0%A7%8D%E0%A6%A7-%E0%A6%AC%E0%A6%BF%E0%A6%95%E0%A7%8D%E0%A6%B7%E0%A7%8B%E0%A6%AD-%E0%A6%AC%E0%A6%BF%E0%A6%B8%E0%A7%8D%E0%A6%AB%E0%A7%8B%E0%A6%B0%E0%A6%A3\n"
          ],
          "name": "stdout"
        },
        {
          "output_type": "stream",
          "text": [
            "ERROR:trafilatura.utils:not a 200 response: 404 for URL https://dhakatop.com/%E0%A6%95%E0%A6%B0%E0%A7%8B%E0%A6%A8%E0%A6%BE-%E0%A6%AA%E0%A6%B0%E0%A7%80%E0%A6%95%E0%A7%8D%E0%A6%B7%E0%A6%BE%E0%A6%B0-%E0%A6%B2%E0%A6%BE%E0%A6%87%E0%A6%A8%E0%A7%87-%E0%A6%A6%E0%A6%BE%E0%A6%81/\n",
            "ERROR:trafilatura.utils:this type cannot be processed: <class 'NoneType'>\n"
          ],
          "name": "stderr"
        },
        {
          "output_type": "stream",
          "text": [
            "Description Updated\n",
            "1840\n",
            "Status Type\n",
            "Continuing\n",
            "1841\n",
            "Link Type\n",
            "https://dhakatop.com/%E0%A6%95%E0%A6%B0%E0%A7%8B%E0%A6%A8%E0%A6%BE-%E0%A6%AA%E0%A6%B0%E0%A7%80%E0%A6%95%E0%A7%8D%E0%A6%B7%E0%A6%BE%E0%A6%B0-%E0%A6%B2%E0%A6%BE%E0%A6%87%E0%A6%A8%E0%A7%87-%E0%A6%A6%E0%A6%BE%E0%A6%81/\n",
            "None\n",
            "dropped\n",
            "1842\n",
            "Status Type\n",
            "Continuing\n",
            "1843\n",
            "Link Type\n",
            "https://thedailycampus.com/public-university/60199/%E0%A6%8F%E0%A6%87%E0%A6%9A%E0%A6%8F%E0%A6%B8%E0%A6%B8%E0%A6%BF%E0%A6%B0-%E0%A6%AB%E0%A6%B2%E0%A6%93-%E0%A6%9C%E0%A6%BE%E0%A6%A8%E0%A6%BE-%E0%A6%AF%E0%A6%BE%E0%A6%AC%E0%A7%87-%E0%A6%8F%E0%A6%B8%E0%A6%8F%E0%A6%AE%E0%A6%8F%E0%A6%B8%E0%A7%87\n",
            "Description Updated\n",
            "1844\n",
            "Link Type\n",
            "https://bdupdatereport.com/archives/5149\n"
          ],
          "name": "stdout"
        },
        {
          "output_type": "stream",
          "text": [
            "ERROR:trafilatura.utils:retries/redirects: https://www.ourislam24.com/2020/12/27/%e0%a6%95%e0%a6%b0%e0%a7%8b%e0%a6%a8%e0%a6%be%e0%a7%9f-%e0%a7%a8%e0%a7%aa-%e0%a6%98%e0%a6%a3%e0%a7%8d%e0%a6%9f%e0%a6%be%e0%a7%9f-%e0%a7%a8%e0%a7%aa-%e0%a6%ae%e0%a7%83%e0%a6%a4%e0%a7%8d%e0%a6%af/ HTTPSConnectionPool(host='www.ourislam24.com', port=443): Max retries exceeded with url: /2020/12/27/%E0%A6%95%E0%A6%B0%E0%A7%8B%E0%A6%A8%E0%A6%BE%E0%A7%9F-%E0%A7%A8%E0%A7%AA-%E0%A6%98%E0%A6%A3%E0%A7%8D%E0%A6%9F%E0%A6%BE%E0%A7%9F-%E0%A7%A8%E0%A7%AA-%E0%A6%AE%E0%A7%83%E0%A6%A4%E0%A7%8D%E0%A6%AF/ (Caused by ResponseError('too many 503 error responses'))\n",
            "ERROR:trafilatura.utils:parsing failed: Document is empty\n"
          ],
          "name": "stderr"
        },
        {
          "output_type": "stream",
          "text": [
            "Description Updated\n",
            "1845\n",
            "Link Type\n",
            "https://www.ourislam24.com/2020/12/27/%e0%a6%95%e0%a6%b0%e0%a7%8b%e0%a6%a8%e0%a6%be%e0%a7%9f-%e0%a7%a8%e0%a7%aa-%e0%a6%98%e0%a6%a3%e0%a7%8d%e0%a6%9f%e0%a6%be%e0%a7%9f-%e0%a7%a8%e0%a7%aa-%e0%a6%ae%e0%a7%83%e0%a6%a4%e0%a7%8d%e0%a6%af/\n",
            "None\n",
            "dropped\n",
            "1846\n",
            "Link Type\n",
            "https://www.protidinersangbad.com/national/249723/%E0%A6%86%E0%A6%9C-%E0%A6%AF%E0%A6%96%E0%A6%A8-%E0%A6%B9%E0%A6%BE%E0%A6%A4%E0%A6%BF%E0%A6%B0%E0%A6%9D%E0%A6%BF%E0%A6%B2%E0%A7%87-%E0%A6%AA%E0%A7%8D%E0%A6%B0%E0%A6%AC%E0%A7%87%E0%A6%B6%E0%A7%87-%E0%A6%A8%E0%A6%BF%E0%A6%B7%E0%A7%87%E0%A6%A7%E0%A6%BE%E0%A6%9C%E0%A7%8D%E0%A6%9E%E0%A6%BE\n",
            "Description Updated\n",
            "1847\n",
            "Link Type\n",
            "https://news.bd24report.com/post/%e0%a6%95%e0%a6%b0%e0%a7%8b%e0%a6%a8%e0%a6%be%e0%a7%9f-%e0%a6%ae%e0%a7%83%e0%a6%a4%e0%a7%87%e0%a6%b0-%e0%a6%b8%e0%a6%82%e0%a6%96%e0%a7%8d%e0%a6%af%e0%a6%be-%e0%a6%b8%e0%a6%be%e0%a7%9c%e0%a7%87/\n",
            "Description Updated\n",
            "1848\n",
            "Link Type\n",
            "https://banglanews24.com/education/news/bd/832138.details\n",
            "Description Updated\n",
            "1849\n",
            "Status Type\n",
            "Continuing\n",
            "1850\n",
            "Link Type\n",
            "https://tigerscricketnews.com/%e0%a6%a6%e0%a7%87%e0%a6%96%e0%a7%87-%e0%a6%a8%e0%a6%bf%e0%a6%a8-%e0%a6%ac%e0%a6%9b%e0%a6%b0-%e0%a6%b6%e0%a7%87%e0%a6%b7%e0%a7%87-%e0%a6%9f%e0%a7%87%e0%a6%b8%e0%a7%8d%e0%a6%9f-%e0%a6%b0%e2%80%8d/\n"
          ],
          "name": "stdout"
        },
        {
          "output_type": "stream",
          "text": [
            "ERROR:trafilatura.utils:retries/redirects: https://tigerscricketnews.com/%e0%a6%a6%e0%a7%87%e0%a6%96%e0%a7%87-%e0%a6%a8%e0%a6%bf%e0%a6%a8-%e0%a6%ac%e0%a6%9b%e0%a6%b0-%e0%a6%b6%e0%a7%87%e0%a6%b7%e0%a7%87-%e0%a6%9f%e0%a7%87%e0%a6%b8%e0%a7%8d%e0%a6%9f-%e0%a6%b0%e2%80%8d/ HTTPSConnectionPool(host='tigerscricketnews.com', port=443): Max retries exceeded with url: /%E0%A6%A6%E0%A7%87%E0%A6%96%E0%A7%87-%E0%A6%A8%E0%A6%BF%E0%A6%A8-%E0%A6%AC%E0%A6%9B%E0%A6%B0-%E0%A6%B6%E0%A7%87%E0%A6%B7%E0%A7%87-%E0%A6%9F%E0%A7%87%E0%A6%B8%E0%A7%8D%E0%A6%9F-%E0%A6%B0%E2%80%8D/ (Caused by NewConnectionError('<urllib3.connection.HTTPSConnection object at 0x7f96cd90f1d0>: Failed to establish a new connection: [Errno -2] Name or service not known'))\n",
            "ERROR:trafilatura.utils:parsing failed: Document is empty\n"
          ],
          "name": "stderr"
        },
        {
          "output_type": "stream",
          "text": [
            "HTTPSConnectionPool(host='tigerscricketnews.com', port=443): Max retries exceeded with url: /%E0%A6%A6%E0%A7%87%E0%A6%96%E0%A7%87-%E0%A6%A8%E0%A6%BF%E0%A6%A8-%E0%A6%AC%E0%A6%9B%E0%A6%B0-%E0%A6%B6%E0%A7%87%E0%A6%B7%E0%A7%87-%E0%A6%9F%E0%A7%87%E0%A6%B8%E0%A7%8D%E0%A6%9F-%E0%A6%B0%E2%80%8D/ (Caused by NewConnectionError('<urllib3.connection.HTTPSConnection object at 0x7f96cbb94090>: Failed to establish a new connection: [Errno -2] Name or service not known'))\n",
            "dropped\n",
            "1851\n",
            "Link Type\n",
            "http://newzta.com/archives/938\n"
          ],
          "name": "stdout"
        },
        {
          "output_type": "stream",
          "text": [
            "ERROR:trafilatura.utils:not a 200 response: 403 for URL http://newzta.com/archives/938\n",
            "ERROR:trafilatura.utils:this type cannot be processed: <class 'NoneType'>\n"
          ],
          "name": "stderr"
        },
        {
          "output_type": "stream",
          "text": [
            "None\n",
            "dropped\n",
            "1852\n",
            "Link Type\n",
            "http://surmanews24.net/?p=123163\n",
            "Description Updated\n",
            "1853\n",
            "Status Type\n",
            "Continuing\n",
            "1854\n",
            "Link Type\n",
            "https://p.dw.com/p/3nH6C\n",
            "Description Updated\n",
            "1855\n",
            "Link Type\n",
            "https://zeenews.india.com/bengali/entertainment/entertainment-news-roundup-bollywood-star-rishi-kapoor-sushant-singh-rajput-dies-and-more_361413.html?%3F%3F%3F%3F%3F%3F%3F%3F%3F%3F%3F%3F%3F%3F%3F%3F%3F%3F\n",
            "Description Updated\n",
            "1856\n",
            "Link Type\n",
            "https://www.thedailystar.net/bangla/%E0%A6%B6%E0%A7%80%E0%A6%B0%E0%A7%8D%E0%A6%B7-%E0%A6%96%E0%A6%AC%E0%A6%B0/%E0%A7%A7%E0%A7%A8-%E0%A6%B2%E0%A6%BE%E0%A6%96-%E0%A6%A1%E0%A7%8B%E0%A6%9C-%E0%A6%9A%E0%A7%80%E0%A6%A8%E0%A7%87%E0%A6%B0-%E0%A6%AD%E0%A7%8D%E0%A6%AF%E0%A6%BE%E0%A6%95%E0%A6%B8%E0%A6%BF%E0%A6%A8-%E0%A6%95%E0%A6%BF%E0%A6%A8%E0%A6%AC%E0%A7%87-%E0%A6%AA%E0%A6%BE%E0%A6%95%E0%A6%BF%E0%A6%B8%E0%A7%8D%E0%A6%A4%E0%A6%BE%E0%A6%A8-195797\n",
            "Description Updated\n",
            "1857\n",
            "Status Type\n",
            "Continuing\n",
            "1858\n",
            "Link Type\n",
            "http://newzvillas.com/archives/3011\n"
          ],
          "name": "stdout"
        },
        {
          "output_type": "stream",
          "text": [
            "ERROR:trafilatura.core:not enough text None\n"
          ],
          "name": "stderr"
        },
        {
          "output_type": "stream",
          "text": [
            "Description Updated\n",
            "1859\n",
            "Link Type\n",
            "https://www.google.com/amp/s/tbsnews.net/bangla/%25E0%25A6%25AC%25E0%25A6%25BE%25E0%25A6%2582%25E0%25A6%25B2%25E0%25A6%25BE%25E0%25A6%25A6%25E0%25A7%2587%25E0%25A6%25B6/%25E0%25A7%25A7%25E0%25A7%25AE-%25E0%25A6%25AC%25E0%25A6%259B%25E0%25A6%25B0%25E0%25A7%2587%25E0%25A6%25B0-%25E0%25A6%25A8%25E0%25A6%25BF%25E0%25A6%259A%25E0%25A7%2587-%25E0%25A6%2595%25E0%25A7%258B%25E0%25A6%25A8%25E0%25A7%258B-%25E0%25A6%259F%25E0%25A6%25BF%25E0%25A6%2595%25E0%25A6%25BE-%25E0%25A6%25A8%25E0%25A7%259F-%25E0%25A6%25B8%25E0%25A7%258D%25E0%25A6%25AC%25E0%25A6%25BE%25E0%25A6%25B8%25E0%25A7%258D%25E0%25A6%25A5%25E0%25A7%258D%25E0%25A6%25AF%25E0%25A6%25AE%25E0%25A6%25A8%25E0%25A7%258D%25E0%25A6%25A4%25E0%25A7%258D%25E0%25A6%25B0%25E0%25A7%2580%25C2%25A0%3famp\n",
            "Description Updated\n",
            "1860\n",
            "Link Type\n",
            "https://www.ittefaq.com.bd/national/210098/%E0%A7%A9%E0%A7%A6%E0%A7%A6-%E0%A6%9F%E0%A6%BE%E0%A6%95%E0%A6%BE%E0%A7%9F-%E0%A6%AC%E0%A6%BF%E0%A6%A6%E0%A7%87%E0%A6%B6%E0%A6%97%E0%A6%BE%E0%A6%AE%E0%A7%80%E0%A6%A6%E0%A7%87%E0%A6%B0-%E0%A6%95%E0%A6%B0%E0%A7%8B%E0%A6%A8%E0%A6%BE-%E0%A6%AA%E0%A6%B0%E0%A7%80%E0%A6%95%E0%A7%8D%E0%A6%B7%E0%A6%BE\n",
            "Description Updated\n",
            "1861\n",
            "Link Type\n",
            "https://saradesh24live.com/bn/9700/others/%e0%a6%8f%e0%a6%87%e0%a6%9a%e0%a6%8f%e0%a6%b8%e0%a6%b8%e0%a6%bf%e0%a6%b0-%e0%a6%ab%e0%a6%b2%e0%a6%be%e0%a6%ab%e0%a6%b2-%e0%a6%aa%e0%a7%8d%e0%a6%b0%e0%a6%b8%e0%a7%8d%e0%a6%a4%e0%a7%81%e0%a6%a4/\n",
            "Description Updated\n",
            "1862\n",
            "Status Type\n",
            "Continuing\n",
            "1863\n",
            "Status Type\n",
            "Continuing\n",
            "1864\n",
            "Link Type\n",
            "http://cplusbd.net/%e0%a6%9a%e0%a6%9f%e0%a7%8d%e0%a6%9f%e0%a6%97%e0%a7%8d%e0%a6%b0%e0%a6%be%e0%a6%ae%e0%a7%87-%e0%a6%8f%e0%a6%95%e0%a6%a6%e0%a6%bf%e0%a6%a8%e0%a7%87-%e0%a6%95%e0%a6%b0%e0%a7%8b%e0%a6%a8%e0%a6%be-10/\n",
            "Description Updated\n",
            "1865\n",
            "Link Type\n",
            "https://www.uttarbangasambad.com/the-country-has-become-atmanirbhar-in-the-epidemic-modis-call-for-a-boycott-of-plastics-on-mann-ki-baat.html\n"
          ],
          "name": "stdout"
        },
        {
          "output_type": "stream",
          "text": [
            "ERROR:trafilatura.utils:not a 200 response: 404 for URL https://www.uttarbangasambad.com/the-country-has-become-atmanirbhar-in-the-epidemic-modis-call-for-a-boycott-of-plastics-on-mann-ki-baat.html\n",
            "ERROR:trafilatura.utils:this type cannot be processed: <class 'NoneType'>\n"
          ],
          "name": "stderr"
        },
        {
          "output_type": "stream",
          "text": [
            "None\n",
            "dropped\n",
            "1866\n",
            "Link Type\n",
            "http://bartabazar.com/archives/248774\n"
          ],
          "name": "stdout"
        },
        {
          "output_type": "stream",
          "text": [
            "ERROR:trafilatura.core:not enough text None\n"
          ],
          "name": "stderr"
        },
        {
          "output_type": "stream",
          "text": [
            "Description Updated\n",
            "1867\n",
            "Link Type\n",
            "https://www.dailyinqilab.com/article/345903/%E0%A6%A8%E0%A6%BF%E0%A6%89-%E0%A6%A8%E0%A6%B0%E0%A7%8D%E0%A6%AE%E0%A6%BE%E0%A6%B2-%E0%A6%AF%E0%A7%81%E0%A6%97%E0%A7%87%E0%A6%B0-%E0%A6%85%E0%A7%8D%E0%A6%AF%E0%A6%BE%E0%A6%AC%E0%A6%A8%E0%A6%B0%E0%A7%8D%E0%A6%AE%E0%A6%BE%E0%A6%B2-%E0%A6%AD%E0%A6%BE%E0%A6%B0%E0%A6%A4\n",
            "Description Updated\n",
            "1868\n",
            "Link Type\n",
            "https://www.anandabazar.com/national/genome-sequencing-of-all-covid-19-positive-flyers-who-arrives-between-9-22-dec-dgtl-1.1251222?utm_source=facebook&utm_medium=social&utm_campaign=daily\n",
            "Description Updated\n",
            "1869\n",
            "Link Type\n",
            "https://www.dailynayadiganta.com/subcontinent/552674/%E0%A6%A8%E0%A6%A4%E0%A7%81%E0%A6%A8-%E0%A6%86%E0%A6%A4%E0%A6%99%E0%A7%8D%E0%A6%95-%E0%A6%B6%E0%A6%BF%E0%A6%97%E0%A7%87%E0%A6%B2%E0%A6%BE-%E0%A6%AC%E0%A7%8D%E0%A6%AF%E0%A6%BE%E0%A6%95%E0%A6%9F%E0%A7%87%E0%A6%B0%E0%A6%BF%E0%A7%9F%E0%A6%BE\n",
            "Description Updated\n",
            "1870\n",
            "Link Type\n",
            "http://newzreports.com/archives/19138\n",
            "Description Updated\n",
            "1871\n",
            "Link Type\n",
            "http://nbtimes24.com/archives/1541\n",
            "Description Updated\n",
            "1872\n",
            "Link Type\n",
            "https://journalbd24.com/national/2020/12/27/20682\n"
          ],
          "name": "stdout"
        },
        {
          "output_type": "stream",
          "text": [
            "ERROR:root:unknown error: ইতালিতে প্রথম করোনা ভ্যাকসিন নিলেন তিনজন\n",
            "ইতালির রোমে এন্টি-কোভিড প্রথম টিকা নিলেন স্পালানজানি হাসপাতালের তিন ইতালিয়ান। প্রফেসর মারিয়া রোজারিয়া কাপোবিয়ানঙ্কি, নার্স ক্লাউডিয়া আলিভেরনিনি এবং স্বাস্থ্য ও সমাজসেবক ওমর আলতোবেল্লি।\n",
            "স্থানীয় সময় সকাল ৭টা ২০ মিনিট রোমের স্প্যালানজানি জাতীয় সংক্রামক রোগ ইনস্টিটিউটের তিনজনের শরীরে কোভিড-১৯ টিকা দেয়া হয়েছে। এক টুইট বার্তায় প্রধানমন্ত্রী জুসেপ্পে কোন্তি বলেন, ‘আজ ইতালি নতুন করে জেগেছে এই দিনটি ভি-ডে অর্থাৎ ভ্যাকসিন এর দিন হিসেবে দেখছি’।\n",
            "‘আজকের এই দিনটি তাদের চিরকাল মনে থাকবে। প্রথমে স্বাস্থ্যকর্মী ও যারা চরম ভঙ্গুর অবস্থায় তাদের দিয়ে শুরু করা হয়েছে টিকা। এরপরে পুরো জনসংখ্যা।’ ইতালি এবং ইউরোপে ভি-ডে দিবসে অনাক্রম্যতা অর্জন এবং এ ভাইরাসকে নিশ্চিতভাবে পরাস্ত করার সম্ভাবনা প্রসারিত করা হবে এমন প্রত্যাশায় প্রধানমন্ত্রীর।\n",
            "রোমের স্প্যালানজানিতে প্রথম তিনটি টিকা দেয়ার পরপরই স্বাস্থ্যমন্ত্রী রবার্তো স্পেরানজা বলেন, এটি এমন একটি দিন আমরা এ সময়ের জন্য অপেক্ষা করছিলাম। আজ আলো আসছে তবে আমাদের আরও কয়েক মাস ধৈর্য ধরতে হবে। এখনও সমস্যা শেষ হয়নি। তাই আমাদের সর্বদা নিয়মকে সম্মান করে চলতে হবে।\n",
            "আজ ভ্যাকসিন দিবসে ইউরোপের দেশগুলিতে ফাইজার-বায়োএনটেকের ৯ হাজার ৭শ ৫০ ডোজ বিতরণ শুরু হয়েছে তাই এটিকে একটি ‘প্রতীকী’ সংখ্যা আখ্যা দিয়েছেন। স্বাস্থ্যমন্ত্রী এক নোটে বলা হয়েছে। ২৮ ডিসেম্বর থেকে শুরু হলে প্রতি সপ্তাহে প্রায় চারশ ৭০ হাজার ডোজ ইতালিতে পৌঁছার সম্ভাবনা রয়েছে।\n",
            "এমআরএম/এমকেএইচ Failed to parse: ইতালিতে প্রথম করোনা ভ্যাকসিন নিলেন তিনজন\n",
            "ইতালির রোমে এন্টি-কোভিড প্রথম টিকা নিলেন স্পালানজানি হাসপাতালের তিন ইতালিয়ান। প্রফেসর মারিয়া রোজারিয়া কাপোবিয়ানঙ্কি, নার্স ক্লাউডিয়া আলিভেরনিনি এবং স্বাস্থ্য ও সমাজসেবক ওমর আলতোবেল্লি।\n",
            "স্থানীয় সময় সকাল ৭টা ২০ মিনিট রোমের স্প্যালানজানি জাতীয় সংক্রামক রোগ ইনস্টিটিউটের তিনজনের শরীরে কোভিড-১৯ টিকা দেয়া হয়েছে। এক টুইট বার্তায় প্রধানমন্ত্রী জুসেপ্পে কোন্তি বলেন, ‘আজ ইতালি নতুন করে জেগেছে এই দিনটি ভি-ডে অর্থাৎ ভ্যাকসিন এর দিন হিসেবে দেখছি’।\n",
            "‘আজকের এই দিনটি তাদের চিরকাল মনে থাকবে। প্রথমে স্বাস্থ্যকর্মী ও যারা চরম ভঙ্গুর অবস্থায় তাদের দিয়ে শুরু করা হয়েছে টিকা। এরপরে পুরো জনসংখ্যা।’ ইতালি এবং ইউরোপে ভি-ডে দিবসে অনাক্রম্যতা অর্জন এবং এ ভাইরাসকে নিশ্চিতভাবে পরাস্ত করার সম্ভাবনা প্রসারিত করা হবে এমন প্রত্যাশায় প্রধানমন্ত্রীর।\n",
            "রোমের স্প্যালানজানিতে প্রথম তিনটি টিকা দেয়ার পরপরই স্বাস্থ্যমন্ত্রী রবার্তো স্পেরানজা বলেন, এটি এমন একটি দিন আমরা এ সময়ের জন্য অপেক্ষা করছিলাম। আজ আলো আসছে তবে আমাদের আরও কয়েক মাস ধৈর্য ধরতে হবে। এখনও সমস্যা শেষ হয়নি। তাই আমাদের সর্বদা নিয়মকে সম্মান করে চলতে হবে।\n",
            "আজ ভ্যাকসিন দিবসে ইউরোপের দেশগুলিতে ফাইজার-বায়োএনটেকের ৯ হাজার ৭শ ৫০ ডোজ বিতরণ শুরু হয়েছে তাই এটিকে একটি ‘প্রতীকী’ সংখ্যা আখ্যা দিয়েছেন। স্বাস্থ্যমন্ত্রী এক নোটে বলা হয়েছে। ২৮ ডিসেম্বর থেকে শুরু হলে প্রতি সপ্তাহে প্রায় চারশ ৭০ হাজার ডোজ ইতালিতে পৌঁছার সম্ভাবনা রয়েছে।\n",
            "এমআরএম/এমকেএইচ\n",
            "ERROR:trafilatura.utils:this type cannot be processed: <class 'NoneType'>\n"
          ],
          "name": "stderr"
        },
        {
          "output_type": "stream",
          "text": [
            "Description Updated\n",
            "1873\n",
            "Link Type\n",
            "ইতালিতে প্রথম করোনা ভ্যাকসিন নিলেন তিনজন\n",
            "ইতালির রোমে এন্টি-কোভিড প্রথম টিকা নিলেন স্পালানজানি হাসপাতালের তিন ইতালিয়ান। প্রফেসর মারিয়া রোজারিয়া কাপোবিয়ানঙ্কি, নার্স ক্লাউডিয়া আলিভেরনিনি এবং স্বাস্থ্য ও সমাজসেবক ওমর আলতোবেল্লি।\n",
            "স্থানীয় সময় সকাল ৭টা ২০ মিনিট রোমের স্প্যালানজানি জাতীয় সংক্রামক রোগ ইনস্টিটিউটের তিনজনের শরীরে কোভিড-১৯ টিকা দেয়া হয়েছে। এক টুইট বার্তায় প্রধানমন্ত্রী জুসেপ্পে কোন্তি বলেন, ‘আজ ইতালি নতুন করে জেগেছে এই দিনটি ভি-ডে অর্থাৎ ভ্যাকসিন এর দিন হিসেবে দেখছি’।\n",
            "‘আজকের এই দিনটি তাদের চিরকাল মনে থাকবে। প্রথমে স্বাস্থ্যকর্মী ও যারা চরম ভঙ্গুর অবস্থায় তাদের দিয়ে শুরু করা হয়েছে টিকা। এরপরে পুরো জনসংখ্যা।’ ইতালি এবং ইউরোপে ভি-ডে দিবসে অনাক্রম্যতা অর্জন এবং এ ভাইরাসকে নিশ্চিতভাবে পরাস্ত করার সম্ভাবনা প্রসারিত করা হবে এমন প্রত্যাশায় প্রধানমন্ত্রীর।\n",
            "রোমের স্প্যালানজানিতে প্রথম তিনটি টিকা দেয়ার পরপরই স্বাস্থ্যমন্ত্রী রবার্তো স্পেরানজা বলেন, এটি এমন একটি দিন আমরা এ সময়ের জন্য অপেক্ষা করছিলাম। আজ আলো আসছে তবে আমাদের আরও কয়েক মাস ধৈর্য ধরতে হবে। এখনও সমস্যা শেষ হয়নি। তাই আমাদের সর্বদা নিয়মকে সম্মান করে চলতে হবে।\n",
            "আজ ভ্যাকসিন দিবসে ইউরোপের দেশগুলিতে ফাইজার-বায়োএনটেকের ৯ হাজার ৭শ ৫০ ডোজ বিতরণ শুরু হয়েছে তাই এটিকে একটি ‘প্রতীকী’ সংখ্যা আখ্যা দিয়েছেন। স্বাস্থ্যমন্ত্রী এক নোটে বলা হয়েছে। ২৮ ডিসেম্বর থেকে শুরু হলে প্রতি সপ্তাহে প্রায় চারশ ৭০ হাজার ডোজ ইতালিতে পৌঁছার সম্ভাবনা রয়েছে।\n",
            "এমআরএম/এমকেএইচ\n",
            "Failed to parse: ইতালিতে প্রথম করোনা ভ্যাকসিন নিলেন তিনজন\n",
            "ইতালির রোমে এন্টি-কোভিড প্রথম টিকা নিলেন স্পালানজানি হাসপাতালের তিন ইতালিয়ান। প্রফেসর মারিয়া রোজারিয়া কাপোবিয়ানঙ্কি, নার্স ক্লাউডিয়া আলিভেরনিনি এবং স্বাস্থ্য ও সমাজসেবক ওমর আলতোবেল্লি।\n",
            "স্থানীয় সময় সকাল ৭টা ২০ মিনিট রোমের স্প্যালানজানি জাতীয় সংক্রামক রোগ ইনস্টিটিউটের তিনজনের শরীরে কোভিড-১৯ টিকা দেয়া হয়েছে। এক টুইট বার্তায় প্রধানমন্ত্রী জুসেপ্পে কোন্তি বলেন, ‘আজ ইতালি নতুন করে জেগেছে এই দিনটি ভি-ডে অর্থাৎ ভ্যাকসিন এর দিন হিসেবে দেখছি’।\n",
            "‘আজকের এই দিনটি তাদের চিরকাল মনে থাকবে। প্রথমে স্বাস্থ্যকর্মী ও যারা চরম ভঙ্গুর অবস্থায় তাদের দিয়ে শুরু করা হয়েছে টিকা। এরপরে পুরো জনসংখ্যা।’ ইতালি এবং ইউরোপে ভি-ডে দিবসে অনাক্রম্যতা অর্জন এবং এ ভাইরাসকে নিশ্চিতভাবে পরাস্ত করার সম্ভাবনা প্রসারিত করা হবে এমন প্রত্যাশায় প্রধানমন্ত্রীর।\n",
            "রোমের স্প্যালানজানিতে প্রথম তিনটি টিকা দেয়ার পরপরই স্বাস্থ্যমন্ত্রী রবার্তো স্পেরানজা বলেন, এটি এমন একটি দিন আমরা এ সময়ের জন্য অপেক্ষা করছিলাম। আজ আলো আসছে তবে আমাদের আরও কয়েক মাস ধৈর্য ধরতে হবে। এখনও সমস্যা শেষ হয়নি। তাই আমাদের সর্বদা নিয়মকে সম্মান করে চলতে হবে।\n",
            "আজ ভ্যাকসিন দিবসে ইউরোপের দেশগুলিতে ফাইজার-বায়োএনটেকের ৯ হাজার ৭শ ৫০ ডোজ বিতরণ শুরু হয়েছে তাই এটিকে একটি ‘প্রতীকী’ সংখ্যা আখ্যা দিয়েছেন। স্বাস্থ্যমন্ত্রী এক নোটে বলা হয়েছে। ২৮ ডিসেম্বর থেকে শুরু হলে প্রতি সপ্তাহে প্রায় চারশ ৭০ হাজার ডোজ ইতালিতে পৌঁছার সম্ভাবনা রয়েছে।\n",
            "এমআরএম/এমকেএইচ\n",
            "dropped\n",
            "1874\n",
            "Link Type\n",
            "https://enews.bd24report.com/2020/12/27/%e0%a6%af%e0%a7%81%e0%a6%95%e0%a7%8d%e0%a6%a4%e0%a6%b0%e0%a6%be%e0%a6%9c%e0%a7%8d%e0%a6%af%e0%a7%87-%e0%a6%9b%e0%a7%9c%e0%a6%be%e0%a6%a8%e0%a7%8b-%e0%a6%a8%e0%a6%a4%e0%a7%81%e0%a6%a8-%e0%a6%95/\n",
            "Description Updated\n",
            "1875\n",
            "Status Type\n",
            "Continuing\n",
            "1876\n",
            "Status Type\n",
            "Continuing\n",
            "1877\n",
            "Link Type\n",
            "https://www.nst.com.my/news/nation/2020/12/651952/mas-continue-london-flights-despite-new-uk-covid-19-strain#.X-RGdU0QY-M.facebook\n"
          ],
          "name": "stdout"
        },
        {
          "output_type": "stream",
          "text": [
            "ERROR:trafilatura.core:not enough text None\n"
          ],
          "name": "stderr"
        },
        {
          "output_type": "stream",
          "text": [
            "Description Updated\n",
            "1878\n",
            "Link Type\n",
            "http://surmanews24.net/?p=122642\n",
            "Description Updated\n",
            "1879\n",
            "Link Type\n",
            "http://cplusbd.net/%e0%a6%ac%e0%a6%bf%e0%a6%b6%e0%a7%8d%e0%a6%ac%e0%a7%87-%e0%a6%95%e0%a6%b0%e0%a7%8b%e0%a6%a8%e0%a6%be%e0%a7%9f-%e0%a6%86%e0%a6%95%e0%a7%8d%e0%a6%b0%e0%a6%be%e0%a6%a8%e0%a7%8d%e0%a6%a4-%e0%a7%ae/\n",
            "Description Updated\n",
            "1880\n",
            "Link Type\n",
            "https://dailyvorerpata.com/details.php?id=52835\n",
            "Description Updated\n",
            "1881\n",
            "Status Type\n",
            "Continuing\n",
            "1882\n",
            "Link Type\n",
            "https://www.emiratessangbad.com/archives/47953\n"
          ],
          "name": "stdout"
        },
        {
          "output_type": "stream",
          "text": [
            "ERROR:trafilatura.utils:not a 200 response: 404 for URL https://probashtime.com/2020/12/28/%e0%a6%ae%e0%a6%be%e0%a6%a4%e0%a7%8d%e0%a6%b0-%e0%a7%a9%e0%a7%a6%e0%a7%a6-%e0%a6%9f%e0%a6%be%e0%a6%95%e0%a6%be%e0%a7%9f-%e0%a6%95%e0%a6%b0%e0%a7%8b%e0%a6%a8%e0%a6%be-%e0%a6%aa%e0%a6%b0%e0%a7%80/\n",
            "ERROR:trafilatura.utils:this type cannot be processed: <class 'NoneType'>\n"
          ],
          "name": "stderr"
        },
        {
          "output_type": "stream",
          "text": [
            "Description Updated\n",
            "1883\n",
            "Link Type\n",
            "https://probashtime.com/2020/12/28/%e0%a6%ae%e0%a6%be%e0%a6%a4%e0%a7%8d%e0%a6%b0-%e0%a7%a9%e0%a7%a6%e0%a7%a6-%e0%a6%9f%e0%a6%be%e0%a6%95%e0%a6%be%e0%a7%9f-%e0%a6%95%e0%a6%b0%e0%a7%8b%e0%a6%a8%e0%a6%be-%e0%a6%aa%e0%a6%b0%e0%a7%80/\n",
            "None\n",
            "dropped\n",
            "1884\n",
            "Status Type\n",
            "Continuing\n",
            "1885\n",
            "Status Type\n",
            "Continuing\n",
            "1886\n",
            "Link Type\n",
            "https://www.nytimesbd.com/international/news/9231\n"
          ],
          "name": "stdout"
        },
        {
          "output_type": "stream",
          "text": [
            "ERROR:trafilatura.core:not enough text None\n",
            "ERROR:trafilatura.utils:retries/redirects: https://shikshabarta.com/%e0%a7%a8%e0%a7%aa-%e0%a6%98%e0%a6%a3%e0%a7%8d%e0%a6%9f%e0%a6%be%e0%a7%9f-%e0%a6%95%e0%a6%b0%e0%a7%8b%e0%a6%a8%e0%a6%be%e0%a7%9f-%e0%a6%86%e0%a6%b0%e0%a6%93-%e0%a7%a8%e0%a7%ae-%e0%a6%9c%e0%a6%a8/ HTTPSConnectionPool(host='shikshabarta.com', port=443): Max retries exceeded with url: /%E0%A7%A8%E0%A7%AA-%E0%A6%98%E0%A6%A3%E0%A7%8D%E0%A6%9F%E0%A6%BE%E0%A7%9F-%E0%A6%95%E0%A6%B0%E0%A7%8B%E0%A6%A8%E0%A6%BE%E0%A7%9F-%E0%A6%86%E0%A6%B0%E0%A6%93-%E0%A7%A8%E0%A7%AE-%E0%A6%9C%E0%A6%A8/ (Caused by ResponseError('too many 503 error responses'))\n",
            "ERROR:trafilatura.utils:parsing failed: Document is empty\n"
          ],
          "name": "stderr"
        },
        {
          "output_type": "stream",
          "text": [
            "Description Updated\n",
            "1887\n",
            "Link Type\n",
            "https://shikshabarta.com/%e0%a7%a8%e0%a7%aa-%e0%a6%98%e0%a6%a3%e0%a7%8d%e0%a6%9f%e0%a6%be%e0%a7%9f-%e0%a6%95%e0%a6%b0%e0%a7%8b%e0%a6%a8%e0%a6%be%e0%a7%9f-%e0%a6%86%e0%a6%b0%e0%a6%93-%e0%a7%a8%e0%a7%ae-%e0%a6%9c%e0%a6%a8/\n",
            "None\n",
            "dropped\n",
            "1888\n",
            "Link Type\n",
            "https://www.news24bd.tv/details/48199/%E0%A6%A6%E0%A7%87%E0%A6%B6%E0%A7%87-%E0%A7%A8%E0%A7%AA-%E0%A6%98%E0%A6%A8%E0%A7%8D%E0%A6%9F%E0%A6%BE%E0%A7%9F-%E0%A6%95%E0%A6%B0%E0%A7%8B%E0%A6%A8%E0%A6%BE%E0%A7%9F-%E0%A6%AE%E0%A7%83%E0%A6%A4%E0%A7%8D%E0%A6%AF%E0%A7%81-%E0%A6%95%E0%A6%AE%E0%A6%B2\n"
          ],
          "name": "stdout"
        },
        {
          "output_type": "stream",
          "text": [
            "ERROR:trafilatura.utils:not a 200 response: 403 for URL https://www.bangla.24livenewspaper.com/world/73185-new-corona-spread\n",
            "ERROR:trafilatura.utils:this type cannot be processed: <class 'NoneType'>\n"
          ],
          "name": "stderr"
        },
        {
          "output_type": "stream",
          "text": [
            "Description Updated\n",
            "1889\n",
            "Link Type\n",
            "https://www.bangla.24livenewspaper.com/world/73185-new-corona-spread\n",
            "None\n",
            "dropped\n",
            "1890\n",
            "Status Type\n",
            "Continuing\n",
            "1891\n",
            "Link Type\n",
            "http://dailycanews.com/%E0%A6%AE%E0%A6%BF%E0%A6%B6%E0%A6%B0%E0%A7%87-%E0%A6%95%E0%A6%B0%E0%A7%8B%E0%A6%A8%E0%A6%BE-%E0%A6%B9%E0%A6%BE%E0%A6%B8%E0%A6%AA%E0%A6%BE%E0%A6%A4%E0%A6%BE%E0%A6%B2%E0%A7%87-%E0%A6%AD%E0%A7%9F/\n"
          ],
          "name": "stdout"
        },
        {
          "output_type": "stream",
          "text": [
            "ERROR:trafilatura.utils:retries/redirects: http://dailycanews.com/%E0%A6%AE%E0%A6%BF%E0%A6%B6%E0%A6%B0%E0%A7%87-%E0%A6%95%E0%A6%B0%E0%A7%8B%E0%A6%A8%E0%A6%BE-%E0%A6%B9%E0%A6%BE%E0%A6%B8%E0%A6%AA%E0%A6%BE%E0%A6%A4%E0%A6%BE%E0%A6%B2%E0%A7%87-%E0%A6%AD%E0%A7%9F/ HTTPConnectionPool(host='dailycanews.com', port=80): Max retries exceeded with url: /%E0%A6%AE%E0%A6%BF%E0%A6%B6%E0%A6%B0%E0%A7%87-%E0%A6%95%E0%A6%B0%E0%A7%8B%E0%A6%A8%E0%A6%BE-%E0%A6%B9%E0%A6%BE%E0%A6%B8%E0%A6%AA%E0%A6%BE%E0%A6%A4%E0%A6%BE%E0%A6%B2%E0%A7%87-%E0%A6%AD%E0%A7%9F/ (Caused by NewConnectionError('<urllib3.connection.HTTPConnection object at 0x7f96cd014ad0>: Failed to establish a new connection: [Errno -2] Name or service not known'))\n",
            "ERROR:trafilatura.utils:parsing failed: Document is empty\n"
          ],
          "name": "stderr"
        },
        {
          "output_type": "stream",
          "text": [
            "HTTPConnectionPool(host='dailycanews.com', port=80): Max retries exceeded with url: /%E0%A6%AE%E0%A6%BF%E0%A6%B6%E0%A6%B0%E0%A7%87-%E0%A6%95%E0%A6%B0%E0%A7%8B%E0%A6%A8%E0%A6%BE-%E0%A6%B9%E0%A6%BE%E0%A6%B8%E0%A6%AA%E0%A6%BE%E0%A6%A4%E0%A6%BE%E0%A6%B2%E0%A7%87-%E0%A6%AD%E0%A7%9F/ (Caused by NewConnectionError('<urllib3.connection.HTTPConnection object at 0x7f96cb83ec50>: Failed to establish a new connection: [Errno -2] Name or service not known'))\n",
            "dropped\n",
            "1892\n",
            "Link Type\n",
            "https://www.protidinersangbad.com/national/249723/%E0%A6%86%E0%A6%9C-%E0%A6%AF%E0%A6%96%E0%A6%A8-%E0%A6%B9%E0%A6%BE%E0%A6%A4%E0%A6%BF%E0%A6%B0%E0%A6%9D%E0%A6%BF%E0%A6%B2%E0%A7%87-%E0%A6%AA%E0%A7%8D%E0%A6%B0%E0%A6%AC%E0%A7%87%E0%A6%B6%E0%A7%87-%E0%A6%A8%E0%A6%BF%E0%A6%B7%E0%A7%87%E0%A6%A7%E0%A6%BE%E0%A6%9C%E0%A7%8D%E0%A6%9E%E0%A6%BE\n",
            "Description Updated\n",
            "1893\n",
            "Link Type\n",
            "https://www.protidinersangbad.com/national/249075/%E0%A6%A5%E0%A6%BE%E0%A6%B0%E0%A7%8D%E0%A6%9F%E0%A6%BF-%E0%A6%AB%E0%A6%BE%E0%A6%B0%E0%A7%8D%E0%A6%B8%E0%A7%8D%E0%A6%9F-%E0%A6%A8%E0%A6%BE%E0%A6%87%E0%A6%9F-%E0%A6%89%E0%A6%A6%E0%A6%AF%E0%A6%BE%E0%A6%AA%E0%A6%A8%E0%A7%87-%E0%A6%AF%E0%A7%87-%E0%A6%AA%E0%A6%B0%E0%A6%BE%E0%A6%AE%E0%A6%B0%E0%A7%8D%E0%A6%B6-%E0%A6%A6%E0%A6%BF%E0%A6%B2%E0%A7%8B-%E0%A6%B0%E2%80%8C%E0%A7%8D%E0%A6%AF%E0%A6%BE%E0%A6%AC\n",
            "Description Updated\n",
            "1894\n",
            "Link Type\n",
            "https://www.rtvonline.com/bangladesh/114625/%E0%A6%9C%E0%A6%BE%E0%A6%AE%E0%A6%BF%E0%A6%A8-%E0%A6%AA%E0%A6%BE%E0%A6%A8%E0%A6%A8%E0%A6%BF-%E0%A6%A1%E0%A6%BE.-%E0%A6%B8%E0%A6%BE%E0%A6%AC%E0%A6%B0%E0%A6%BF%E0%A6%A8%E0%A6%BE\n",
            "Description Updated\n",
            "1895\n",
            "Status Type\n",
            "Continuing\n",
            "1896\n",
            "Status Type\n",
            "Continuing\n",
            "1897\n",
            "Link Type\n",
            "https://sarabangla.net/post/sb-501083/\n",
            "Description Updated\n",
            "1898\n",
            "Link Type\n",
            "https://www.bd-pratidin.com/entertainment/2020/12/29/602251\n"
          ],
          "name": "stdout"
        },
        {
          "output_type": "stream",
          "text": [
            "ERROR:trafilatura.utils:not a 200 response: 403 for URL https://www.bangla.24livenewspaper.com/world/73349-first-batch-covid-19-vaccines-arrives-turkey\n",
            "ERROR:trafilatura.utils:this type cannot be processed: <class 'NoneType'>\n"
          ],
          "name": "stderr"
        },
        {
          "output_type": "stream",
          "text": [
            "Description Updated\n",
            "1899\n",
            "Link Type\n",
            "https://www.bangla.24livenewspaper.com/world/73349-first-batch-covid-19-vaccines-arrives-turkey\n",
            "None\n",
            "dropped\n",
            "1900\n",
            "Link Type\n",
            "https://www.bangla.24livenewspaper.com/sports/cricket/73256-slc-invite-bcb\n"
          ],
          "name": "stdout"
        },
        {
          "output_type": "stream",
          "text": [
            "ERROR:trafilatura.utils:not a 200 response: 403 for URL https://www.bangla.24livenewspaper.com/sports/cricket/73256-slc-invite-bcb\n",
            "ERROR:trafilatura.utils:this type cannot be processed: <class 'NoneType'>\n"
          ],
          "name": "stderr"
        },
        {
          "output_type": "stream",
          "text": [
            "None\n",
            "dropped\n",
            "1901\n",
            "Link Type\n",
            "https://www.rtvonline.com/special-report/114671/%E0%A6%95%E0%A6%B0%E0%A7%8B%E0%A6%A8%E0%A6%BE%E0%A6%B0-%E0%A6%95%E0%A7%8D%E0%A6%B7%E0%A6%A4-%E0%A6%AA%E0%A7%81%E0%A6%B7%E0%A6%BF%E0%A7%9F%E0%A7%87-%E0%A6%98%E0%A7%81%E0%A6%B0%E0%A7%87-%E0%A6%A6%E0%A6%BE%E0%A6%81%E0%A7%9C%E0%A6%BE%E0%A6%9A%E0%A7%8D%E0%A6%9B%E0%A7%87-%E0%A6%85%E0%A6%B0%E0%A7%8D%E0%A6%A5%E0%A6%A8%E0%A7%80%E0%A6%A4%E0%A6%BF%E0%A6%B0-%E0%A6%9A%E0%A6%BE%E0%A6%95%E0%A6%BE-(%E0%A6%AD%E0%A6%BF%E0%A6%A1%E0%A6%BF%E0%A6%93)\n",
            "Description Updated\n",
            "1902\n",
            "Link Type\n",
            "https://www.rtvonline.com/country/dhaka/114421/\n"
          ],
          "name": "stdout"
        },
        {
          "output_type": "stream",
          "text": [
            "ERROR:trafilatura.utils:not a 200 response: 404 for URL https://probashtime.com/2020/12/29/%e0%a6%93%e0%a6%ae%e0%a6%be%e0%a6%a8%e0%a7%87-%e0%a6%95%e0%a6%b0%e0%a7%8b%e0%a6%a8%e0%a6%be%e0%a7%9f-%e0%a6%a8%e0%a6%a4%e0%a7%81%e0%a6%a8-%e0%a6%86%e0%a6%95%e0%a7%8d%e0%a6%b0%e0%a6%be%e0%a6%a8-9/\n",
            "ERROR:trafilatura.utils:this type cannot be processed: <class 'NoneType'>\n"
          ],
          "name": "stderr"
        },
        {
          "output_type": "stream",
          "text": [
            "Description Updated\n",
            "1903\n",
            "Status Type\n",
            "Continuing\n",
            "1904\n",
            "Status Type\n",
            "Continuing\n",
            "1905\n",
            "Link Type\n",
            "https://probashtime.com/2020/12/29/%e0%a6%93%e0%a6%ae%e0%a6%be%e0%a6%a8%e0%a7%87-%e0%a6%95%e0%a6%b0%e0%a7%8b%e0%a6%a8%e0%a6%be%e0%a7%9f-%e0%a6%a8%e0%a6%a4%e0%a7%81%e0%a6%a8-%e0%a6%86%e0%a6%95%e0%a7%8d%e0%a6%b0%e0%a6%be%e0%a6%a8-9/\n",
            "None\n",
            "dropped\n",
            "1906\n",
            "Status Type\n",
            "Continuing\n",
            "1907\n",
            "Link Type\n",
            "https://www.ummah24.com/?p=49466\n"
          ],
          "name": "stdout"
        },
        {
          "output_type": "stream",
          "text": [
            "ERROR:trafilatura.utils:not a 200 response: 404 for URL https://www.ummah24.com/?p=49466\n",
            "ERROR:trafilatura.utils:this type cannot be processed: <class 'NoneType'>\n"
          ],
          "name": "stderr"
        },
        {
          "output_type": "stream",
          "text": [
            "None\n",
            "dropped\n",
            "1908\n",
            "Link Type\n",
            "https://sarabangla.net/post/sb-500342/\n",
            "Description Updated\n",
            "1909\n",
            "Link Type\n",
            "https://pavilion.com.bd/details/news/19061/%E0%A7%A8%E0%A7%A6%E0%A7%A8%E0%A7%A6-%E0%A6%AB%E0%A7%81%E0%A6%9F%E0%A6%AC%E0%A6%B2:-%E0%A6%95%E0%A6%B0%E0%A7%8B%E0%A6%A8%E0%A6%BE%E0%A6%AD%E0%A6%BE%E0%A6%87%E0%A6%B0%E0%A6%BE%E0%A6%B8-%E0%A6%93-%E0%A6%AE%E0%A7%8D%E0%A6%AF%E0%A6%BE%E0%A6%B0%E0%A6%BE%E0%A6%A1%E0%A7%8B%E0%A6%A8%E0%A6%BE%E0%A6%95%E0%A7%87-%E0%A6%B9%E0%A6%BE%E0%A6%B0%E0%A6%BE%E0%A6%A8%E0%A7%8B%E0%A6%B0-%E0%A6%AC%E0%A6%9B%E0%A6%B0\n",
            "Description Updated\n",
            "1910\n",
            "Link Type\n",
            "https://www.arthosuchak.com/archives/625894/%e0%a6%ac%e0%a6%bf%e0%a6%95%e0%a7%87%e0%a6%b2-%e0%a7%ab%e0%a6%9f%e0%a6%be%e0%a6%b0-%e0%a6%aa%e0%a6%b0-%e0%a6%a5%e0%a7%87%e0%a6%95%e0%a7%87-%e0%a6%b9%e0%a6%be%e0%a6%a4%e0%a6%bf%e0%a6%b0%e0%a6%9d/\n",
            "Description Updated\n",
            "1911\n",
            "Link Type\n",
            "https://www.arthosuchak.com/archives/625877/%e0%a6%95%e0%a6%b0%e0%a7%8b%e0%a6%a8%e0%a6%be-%e0%a6%85%e0%a6%a8%e0%a7%81%e0%a6%95%e0%a7%82%e0%a6%b2%e0%a7%87-%e0%a6%a8%e0%a6%be-%e0%a6%86%e0%a6%b8%e0%a6%b2%e0%a7%87-%e0%a6%b6%e0%a6%bf%e0%a6%95/\n",
            "Description Updated\n",
            "1912\n",
            "Link Type\n",
            "https://www.banglatribune.com/foreign/news/659392/%E0%A6%AE%E0%A6%BF%E0%A6%B8%E0%A6%B0%E0%A7%87%E0%A6%B0-%E0%A6%95%E0%A7%8B%E0%A6%AD%E0%A6%BF%E0%A6%A1-%E0%A6%B9%E0%A6%BE%E0%A6%B8%E0%A6%AA%E0%A6%BE%E0%A6%A4%E0%A6%BE%E0%A6%B2%E0%A7%87-%E0%A6%AD%E0%A7%9F%E0%A6%BE%E0%A6%AC%E0%A6%B9-%E0%A6%86%E0%A6%97%E0%A7%81%E0%A6%A8-%E0%A6%A8%E0%A6%BF%E0%A6%B9%E0%A6%A4-%E0%A6%85%E0%A6%A8%E0%A7%8D%E0%A6%A4%E0%A6%A4-%E0%A7%AD\n",
            "Description Updated\n",
            "1913\n",
            "Link Type\n",
            "https://www.jagonews24.com/international/news/632780\n",
            "Description Updated\n",
            "1914\n",
            "Link Type\n",
            "http://www.kalerkantho.com/online/sport/2020/12/31/990889\n",
            "Description Updated\n",
            "1915\n",
            "Link Type\n",
            "https://thedailycampus.com/public-university/60267/%E0%A6%95%E0%A6%B0%E0%A7%8B%E0%A6%A8%E0%A6%BE%E0%A6%B0-%E0%A6%9B%E0%A7%81%E0%A6%9F%E0%A6%BF%E0%A6%A4%E0%A7%87%E0%A6%93-%E0%A6%AE%E0%A6%BE%E0%A6%AE%E0%A6%B2%E0%A6%BE-%E0%A6%97%E0%A7%8D%E0%A6%B0%E0%A7%87%E0%A6%AB%E0%A6%A4%E0%A6%BE%E0%A6%B0-%E0%A6%86%E0%A6%B0-%E0%A6%AC%E0%A6%B0%E0%A6%96%E0%A6%BE%E0%A6%B8%E0%A7%8D%E0%A6%A4%E0%A7%87-%E0%A6%B8%E0%A6%B0%E0%A6%97%E0%A6%B0%E0%A6%AE-%E0%A6%9B%E0%A6%BF%E0%A6%B2%E0%A7%8B-%E0%A6%AC%E0%A7%87%E0%A6%B0%E0%A7%8B%E0%A6%AC%E0%A6%BF\n",
            "Description Updated\n",
            "1916\n",
            "Status Type\n",
            "Continuing\n",
            "1917\n",
            "Status Type\n",
            "Continuing\n",
            "1918\n",
            "Link Type\n",
            "https://www.24ghonta.news/41763/%E0%A6%95%E0%A6%B0%E0%A7%8B%E0%A6%A8%E0%A6%BE%E0%A7%9F-%E0%A7%A8%E0%A7%AA-%E0%A6%98%E0%A6%A3%E0%A7%8D%E0%A6%9F%E0%A6%BE%E0%A7%9F-%E0%A6%AE%E0%A7%83%E0%A6%A4%E0%A7%8D%E0%A6%AF%E0%A7%81-%E0%A7%A8/\n",
            "Description Updated\n",
            "1919\n",
            "Link Type\n",
            "http://saradin.news/archives/53573\n",
            "Description Updated\n",
            "1920\n",
            "Link Type\n",
            "http://businessnewsbd24.com/2020/12/31/%e0%a6%95%e0%a6%b0%e0%a7%8b%e0%a6%a8%e0%a6%be%e0%a6%b0-%e0%a6%ac%e0%a6%9b%e0%a6%b0%e0%a7%87%e0%a6%93-%e0%a6%b6%e0%a6%bf%e0%a6%ac%e0%a6%b2%e0%a7%80-%e0%a6%b0%e0%a7%81%e0%a6%ac%e0%a6%be%e0%a6%87/\n",
            "Description Updated\n",
            "1921\n",
            "Status Type\n",
            "Continuing\n",
            "1922\n",
            "Link Type\n",
            "https://inabd.com/archives/9558\n",
            "Description Updated\n",
            "1923\n",
            "Link Type\n",
            "https://www.thenewsbangla.com/corona-new-strain-britain-six-indian-affected-covid-19/\n",
            "Description Updated\n",
            "1924\n",
            "Link Type\n",
            "https://www.jugantor.com/todays-paper/ten-horizon/378322/%E0%A6%AC%E0%A6%BF%E0%A6%B6%E0%A7%8D%E0%A6%AC%E0%A6%A8%E0%A7%87%E0%A6%A4%E0%A6%BE%E0%A6%A6%E0%A7%87%E0%A6%B0-%E0%A6%95%E0%A6%BE%E0%A6%89%E0%A6%95%E0%A7%87%E0%A6%87-%E0%A6%95%E0%A6%BE%E0%A6%AC%E0%A7%81-%E0%A6%95%E0%A6%B0%E0%A6%A4%E0%A7%87-%E0%A6%AA%E0%A6%BE%E0%A6%B0%E0%A7%87%E0%A6%A8%E0%A6%BF-%E0%A6%95%E0%A6%B0%E0%A7%8B%E0%A6%A8%E0%A6%BE\n",
            "Description Updated\n",
            "1925\n",
            "Status Type\n",
            "Continuing\n",
            "1926\n",
            "Link Type\n",
            "https://m.somoynews.tv/pages/details/255581\n",
            "Description Updated\n",
            "1927\n",
            "Link Type\n",
            "https://news.viewer.com.bd/2020/12/30/%e0%a6%ae%e0%a6%be%e0%a6%b2%e0%a7%9f%e0%a7%87%e0%a6%b6%e0%a6%bf%e0%a7%9f%e0%a6%be%e0%a6%b0-%e0%a6%b8%e0%a6%b0%e0%a7%8d%e0%a6%ac%e0%a6%b6%e0%a7%87%e0%a6%b7-%e0%a6%95%e0%a6%b0%e0%a7%8b%e0%a6%a8%e0%a6%be/\n",
            "Description Updated\n",
            "1928\n",
            "Status Type\n",
            "Continuing\n",
            "1929\n",
            "Link Type\n",
            "https://jagoronnews.com/%e0%a6%ac%e0%a6%be%e0%a6%a5%e0%a6%b0%e0%a7%81%e0%a6%ae%e0%a7%87-%e0%a6%95%e0%a6%b0%e0%a7%8b%e0%a6%a8%e0%a6%be-%e0%a6%b0%e0%a7%8b%e0%a6%97%e0%a7%80%e0%a6%b0-%e0%a6%b8%e0%a6%99%e0%a7%8d%e0%a6%97/\n",
            "Description Updated\n",
            "1930\n",
            "Link Type\n",
            "https://banglanews24.com/cricket/news/bd/832248.details\n",
            "Description Updated\n",
            "1931\n",
            "Status Type\n",
            "Continuing\n",
            "1932\n",
            "Link Type\n",
            "https://www.bd24live.com/bangla/saudi-receives-five-million-pilgrims-since-resuming-umrah-no-covid-19-cases-detected/\n",
            "Description Updated\n",
            "1933\n",
            "Status Type\n",
            "Continuing\n",
            "1934\n",
            "Link Type\n",
            "https://www.protidinershomoy.com/2020/12/28/%e0%a6%a0%e0%a6%be%e0%a6%95%e0%a7%81%e0%a6%b0%e0%a6%97%e0%a6%be%e0%a6%81%e0%a6%93%e0%a7%9f%e0%a7%87-%e0%a6%aa%e0%a6%b0%e0%a6%bf%e0%a6%9a%e0%a7%8d%e0%a6%9b%e0%a6%a8%e0%a7%8d%e0%a6%a8%e0%a6%a4%e0%a6%be/\n",
            "Description Updated\n",
            "1935\n",
            "Link Type\n",
            "http://www.coxsbazarnews.com/archives/303561.html\n"
          ],
          "name": "stdout"
        },
        {
          "output_type": "stream",
          "text": [
            "ERROR:trafilatura.utils:retries/redirects: https://www.clicknews24.com/?p=7028 HTTPSConnectionPool(host='www.clicknews24.com', port=443): Max retries exceeded with url: /?p=7028 (Caused by ProtocolError('Connection aborted.', ConnectionResetError(104, 'Connection reset by peer')))\n",
            "ERROR:trafilatura.utils:parsing failed: Document is empty\n"
          ],
          "name": "stderr"
        },
        {
          "output_type": "stream",
          "text": [
            "Description Updated\n",
            "1936\n",
            "Status Type\n",
            "Continuing\n",
            "1937\n",
            "Status Type\n",
            "Continuing\n",
            "1938\n",
            "Link Type\n",
            "https://www.clicknews24.com/?p=7028\n",
            "Description Updated\n",
            "1939\n",
            "Link Type\n",
            "https://jamuna.tv/news/193911\n"
          ],
          "name": "stdout"
        },
        {
          "output_type": "stream",
          "text": [
            "ERROR:trafilatura.utils:not a 200 response: 403 for URL https://samakal.com/bangladesh/article/201247708/%E0%A6%A2%E0%A6%BE%E0%A6%AC%E0%A6%BF%E0%A6%B0-%E0%A6%85%E0%A6%A7%E0%A6%BF%E0%A6%AD%E0%A7%81%E0%A6%95%E0%A7%8D%E0%A6%A4-%E0%A7%AD-%E0%A6%95%E0%A6%B2%E0%A7%87%E0%A6%9C%E0%A7%87%E0%A6%B0-%E0%A6%AA%E0%A6%B0%E0%A7%80%E0%A6%95%E0%A7%8D%E0%A6%B7%E0%A6%BE-%E0%A6%A8%E0%A7%87%E0%A6%93%E0%A7%9F%E0%A6%BE%E0%A6%B0-%E0%A6%B8%E0%A6%BF%E0%A6%A6%E0%A7%8D%E0%A6%A7%E0%A6%BE%E0%A6%A8%E0%A7%8D%E0%A6%A4\n",
            "ERROR:trafilatura.utils:this type cannot be processed: <class 'NoneType'>\n"
          ],
          "name": "stderr"
        },
        {
          "output_type": "stream",
          "text": [
            "Description Updated\n",
            "1940\n",
            "Link Type\n",
            "https://samakal.com/bangladesh/article/201247708/%E0%A6%A2%E0%A6%BE%E0%A6%AC%E0%A6%BF%E0%A6%B0-%E0%A6%85%E0%A6%A7%E0%A6%BF%E0%A6%AD%E0%A7%81%E0%A6%95%E0%A7%8D%E0%A6%A4-%E0%A7%AD-%E0%A6%95%E0%A6%B2%E0%A7%87%E0%A6%9C%E0%A7%87%E0%A6%B0-%E0%A6%AA%E0%A6%B0%E0%A7%80%E0%A6%95%E0%A7%8D%E0%A6%B7%E0%A6%BE-%E0%A6%A8%E0%A7%87%E0%A6%93%E0%A7%9F%E0%A6%BE%E0%A6%B0-%E0%A6%B8%E0%A6%BF%E0%A6%A6%E0%A7%8D%E0%A6%A7%E0%A6%BE%E0%A6%A8%E0%A7%8D%E0%A6%A4\n",
            "None\n",
            "dropped\n",
            "1941\n",
            "Link Type\n",
            "https://www.rtvonline.com/international/asia/114896/%E0%A6%8F%E0%A6%B6%E0%A6%BF%E0%A7%9F%E0%A6%BE%E0%A6%B0-%E0%A6%B6%E0%A7%80%E0%A6%B0%E0%A7%8D%E0%A6%B7-%E0%A6%A7%E0%A6%A8%E0%A7%80-%E0%A6%B9%E0%A6%B2%E0%A7%87%E0%A6%A8-%E0%A6%AA%E0%A6%BE%E0%A6%A8%E0%A6%BF-%E0%A6%AC%E0%A7%8D%E0%A6%AF%E0%A6%AC%E0%A6%B8%E0%A6%BE%E0%A7%9F%E0%A7%80\n",
            "Description Updated\n",
            "1942\n",
            "Link Type\n",
            "https://www.chattogramersomoy.com/2020/12/31/%E0%A6%AE%E0%A6%BE%E0%A6%A8%E0%A6%AC-%E0%A6%B8%E0%A7%87%E0%A6%AC%E0%A6%BE%E0%A7%9F-%E0%A6%A8%E0%A6%BF%E0%A6%B0%E0%A6%A8%E0%A7%8D%E0%A6%A4%E0%A6%B0-%E0%A6%AA%E0%A6%A5-%E0%A6%9A%E0%A6%B2%E0%A6%BE/\n"
          ],
          "name": "stdout"
        },
        {
          "output_type": "stream",
          "text": [
            "ERROR:trafilatura.utils:retries/redirects: https://www.chattogramersomoy.com/2020/12/31/%E0%A6%AE%E0%A6%BE%E0%A6%A8%E0%A6%AC-%E0%A6%B8%E0%A7%87%E0%A6%AC%E0%A6%BE%E0%A7%9F-%E0%A6%A8%E0%A6%BF%E0%A6%B0%E0%A6%A8%E0%A7%8D%E0%A6%A4%E0%A6%B0-%E0%A6%AA%E0%A6%A5-%E0%A6%9A%E0%A6%B2%E0%A6%BE/ HTTPSConnectionPool(host='www.chattogramersomoy.com', port=443): Max retries exceeded with url: /2020/12/31/%E0%A6%AE%E0%A6%BE%E0%A6%A8%E0%A6%AC-%E0%A6%B8%E0%A7%87%E0%A6%AC%E0%A6%BE%E0%A7%9F-%E0%A6%A8%E0%A6%BF%E0%A6%B0%E0%A6%A8%E0%A7%8D%E0%A6%A4%E0%A6%B0-%E0%A6%AA%E0%A6%A5-%E0%A6%9A%E0%A6%B2%E0%A6%BE/ (Caused by SSLError(SSLCertVerificationError(1, '[SSL: CERTIFICATE_VERIFY_FAILED] certificate verify failed: self signed certificate (_ssl.c:1091)')))\n",
            "ERROR:trafilatura.utils:parsing failed: Document is empty\n"
          ],
          "name": "stderr"
        },
        {
          "output_type": "stream",
          "text": [
            "HTTPSConnectionPool(host='www.chattogramersomoy.com', port=443): Max retries exceeded with url: /2020/12/31/%E0%A6%AE%E0%A6%BE%E0%A6%A8%E0%A6%AC-%E0%A6%B8%E0%A7%87%E0%A6%AC%E0%A6%BE%E0%A7%9F-%E0%A6%A8%E0%A6%BF%E0%A6%B0%E0%A6%A8%E0%A7%8D%E0%A6%A4%E0%A6%B0-%E0%A6%AA%E0%A6%A5-%E0%A6%9A%E0%A6%B2%E0%A6%BE/ (Caused by SSLError(SSLCertVerificationError(1, '[SSL: CERTIFICATE_VERIFY_FAILED] certificate verify failed: self signed certificate (_ssl.c:1091)')))\n",
            "dropped\n",
            "1943\n",
            "Status Type\n",
            "Continuing\n",
            "1944\n",
            "Status Type\n",
            "Continuing\n",
            "1945\n",
            "Status Type\n",
            "Continuing\n",
            "1946\n",
            "Status Type\n",
            "Continuing\n",
            "1947\n",
            "Status Type\n",
            "Continuing\n",
            "1948\n",
            "Link Type\n",
            "https://thedailycampus.com/public-university/60199/%E0%A6%8F%E0%A6%87%E0%A6%9A%E0%A6%8F%E0%A6%B8%E0%A6%B8%E0%A6%BF%E0%A6%B0-%E0%A6%AB%E0%A6%B2%E0%A6%93-%E0%A6%9C%E0%A6%BE%E0%A6%A8%E0%A6%BE-%E0%A6%AF%E0%A6%BE%E0%A6%AC%E0%A7%87-%E0%A6%8F%E0%A6%B8%E0%A6%8F%E0%A6%AE%E0%A6%8F%E0%A6%B8%E0%A7%87\n",
            "Description Updated\n",
            "1949\n",
            "Link Type\n",
            "https://banglanews24.com/education/news/bd/832301.details\n"
          ],
          "name": "stdout"
        },
        {
          "output_type": "stream",
          "text": [
            "WARNING:trafilatura.core:unexpected in p: div \n",
            " \n",
            "স্বাস্থ্যবিধি মেনে প্রাথমিক স্তরে তিনদিন এবং মাধ্যমিক স্তরে ১২ দিন বই বিতরণ করা হবে বলে জানিয়েছে দুই মন্ত্রণালয়। \n"
          ],
          "name": "stderr"
        },
        {
          "output_type": "stream",
          "text": [
            "Description Updated\n",
            "1950\n",
            "Link Type\n",
            "https://www.dailynayadiganta.com/administration/551780/%E0%A6%86%E0%A6%AC%E0%A6%BE%E0%A6%B0-%E0%A6%95%E0%A6%B0%E0%A7%8B%E0%A6%A8%E0%A6%BE-%E0%A6%86%E0%A6%95%E0%A7%8D%E0%A6%B0%E0%A6%BE%E0%A6%A8%E0%A7%8D%E0%A6%A4-%E0%A6%AF%E0%A6%BE%E0%A6%A4%E0%A7%8D%E0%A6%B0%E0%A7%80-%E0%A6%86%E0%A6%A8%E0%A6%B2%E0%A7%87-%E0%A6%A4%E0%A6%BF%E0%A6%A8-%E0%A6%A6%E0%A6%BF%E0%A6%A8%E0%A7%87%E0%A6%B0-%E0%A6%AB%E0%A7%8D%E0%A6%B2%E0%A6%BE%E0%A6%87%E0%A6%9F-%E0%A6%AC%E0%A6%BE%E0%A6%A4%E0%A6%BF%E0%A6%B2\n",
            "Description Updated\n",
            "1951\n",
            "Link Type\n",
            "http://govtschooladmission.com/govt-school-admission-lottery-result/\n",
            "Description Updated\n",
            "1952\n",
            "Link Type\n",
            "http://surmanews24.net/?p=122813\n",
            "Description Updated\n",
            "1953\n",
            "Link Type\n",
            "https://rajtvbd.com/%e0%a6%95%e0%a6%b0%e0%a7%8b%e0%a6%a8%e0%a6%be-%e0%a6%aa%e0%a6%b0%e0%a7%80%e0%a6%95%e0%a7%8d%e0%a6%b7%e0%a6%be%e0%a6%b0-%e0%a6%b2%e0%a6%be%e0%a6%87%e0%a6%a8%e0%a7%87-%e0%a6%a6%e0%a6%be%e0%a6%81/\n",
            "Description Updated\n",
            "1954\n",
            "Link Type\n",
            "https://dainikbidyaloy.com/2020/12/31/%e0%a6%95%e0%a6%b0%e0%a7%8b%e0%a6%a8%e0%a6%be-%e0%a6%aa%e0%a6%b0%e0%a6%bf%e0%a6%b8%e0%a7%8d%e0%a6%a5%e0%a6%bf%e0%a6%a4%e0%a6%bf-%e0%a6%85%e0%a6%a8%e0%a7%81%e0%a6%95%e0%a7%82%e0%a6%b2%e0%a7%87/#.X-18xJMJzv4.facebook\n",
            "Description Updated\n",
            "1955\n",
            "Status Type\n",
            "Continuing\n",
            "1956\n",
            "Link Type\n",
            "https://www.bd-pratidin.com/coronavirus/2020/12/31/603003\n",
            "Description Updated\n",
            "1957\n",
            "Link Type\n",
            "https://www.ittefaq.com.bd/looking-back-2020/210396/%E0%A6%96%E0%A7%87%E0%A6%B2%E0%A6%BE%E0%A6%B0-%E0%A6%AE%E0%A6%BE%E0%A6%A0%E0%A7%87-%E0%A6%B9%E0%A6%B0%E0%A6%BF%E0%A6%B7%E0%A7%87-%E0%A6%AC%E0%A6%BF%E0%A6%B7%E0%A6%BE%E0%A6%A6\n",
            "Description Updated\n",
            "1958\n",
            "Link Type\n",
            "https://www.dailynayadiganta.com/uk/552675/%E0%A6%8F%E0%A6%AA%E0%A7%8D%E0%A6%B0%E0%A6%BF%E0%A6%B2%E0%A7%87%E0%A6%B0-%E0%A6%AA%E0%A6%B0-%E0%A6%8F%E0%A6%95%E0%A6%A6%E0%A6%BF%E0%A6%A8%E0%A7%87-%E0%A6%B8%E0%A6%B0%E0%A7%8D%E0%A6%AC%E0%A7%8B%E0%A6%9A%E0%A7%8D%E0%A6%9A-%E0%A6%AE%E0%A7%83%E0%A6%A4%E0%A7%8D%E0%A6%AF%E0%A7%81-%E0%A6%A6%E0%A7%87%E0%A6%96%E0%A6%B2-%E0%A6%AC%E0%A7%8D%E0%A6%B0%E0%A6%BF%E0%A6%9F%E0%A7%87%E0%A6%A8\n",
            "Description Updated\n",
            "1959\n",
            "Link Type\n",
            "https://www.dailynayadiganta.com/administration/552045/%E0%A6%B2%E0%A6%A8%E0%A7%8D%E0%A6%A1%E0%A6%A8-%E0%A6%A5%E0%A7%87%E0%A6%95%E0%A7%87-%E0%A6%AB%E0%A6%BF%E0%A6%B0%E0%A6%B2%E0%A7%87-%E0%A7%A7%E0%A7%AA-%E0%A6%A6%E0%A6%BF%E0%A6%A8-%E0%A6%95%E0%A7%8B%E0%A7%9F%E0%A6%BE%E0%A6%B0%E0%A7%87%E0%A6%A8%E0%A7%8D%E0%A6%9F%E0%A6%BF%E0%A6%A8-%E0%A6%AC%E0%A6%BE%E0%A6%A7%E0%A7%8D%E0%A6%AF%E0%A6%A4%E0%A6%BE%E0%A6%AE%E0%A7%82%E0%A6%B2%E0%A6%95\n",
            "Description Updated\n",
            "1960\n",
            "Link Type\n",
            "https://www.emiratessangbad.com/archives/47953\n",
            "Description Updated\n",
            "1961\n",
            "Link Type\n",
            "http://newznyc.com/archives/4209\n",
            "Description Updated\n",
            "1962\n",
            "Link Type\n",
            "https://www.aviationnewsbd.com/%e0%a6%ac%e0%a6%bf%e0%a6%ae%e0%a6%be%e0%a6%a8%e0%a6%af%e0%a6%be%e0%a6%a4%e0%a7%8d%e0%a6%b0%e0%a7%80%e0%a6%a6%e0%a7%87%e0%a6%b0-%e0%a6%95%e0%a6%b0%e0%a7%8b%e0%a6%a8%e0%a6%be%e0%a6%ad%e0%a6%be%e0%a6%87/\n"
          ],
          "name": "stdout"
        },
        {
          "output_type": "stream",
          "text": [
            "ERROR:trafilatura.core:not enough text None\n"
          ],
          "name": "stderr"
        },
        {
          "output_type": "stream",
          "text": [
            "Description Updated\n",
            "1963\n",
            "Status Type\n",
            "Continuing\n",
            "1964\n",
            "Link Type\n",
            "https://www.bd-pratidin.com/coronavirus/2020/12/28/601997\n",
            "Description Updated\n",
            "1965\n",
            "Link Type\n",
            "https://www.kolkata24x7.com/breaking-india-reports-20550-new-covid-19-case/\n",
            "Description Updated\n",
            "1966\n",
            "Link Type\n",
            "https://www.arthosuchak.com/archives/625791/%e0%a6%9f%e0%a6%bf%e0%a6%95%e0%a6%be-%e0%a6%a8%e0%a7%87%e0%a6%93%e0%a7%9f%e0%a6%be%e0%a6%b0-%e0%a7%a7-%e0%a6%b8%e0%a6%aa%e0%a7%8d%e0%a6%a4%e0%a6%be%e0%a6%b9-%e0%a6%aa%e0%a6%b0-%e0%a6%95%e0%a6%b0/\n",
            "Description Updated\n",
            "1967\n",
            "Link Type\n",
            "https://mzamin.com/article.php?mzamin=256311&cat=4\n"
          ],
          "name": "stdout"
        },
        {
          "output_type": "stream",
          "text": [
            "ERROR:trafilatura.utils:not a 200 response: 403 for URL https://samakal.com/bangladesh/article/201248132/%E0%A6%95%E0%A7%8D%E0%A6%B7%E0%A7%81%E0%A6%A6%E0%A7%8D%E0%A6%B0-%E0%A6%89%E0%A6%A6%E0%A7%8D%E0%A6%AF%E0%A7%8B%E0%A6%95%E0%A7%8D%E0%A6%A4%E0%A6%BE-%E0%A6%93-%E0%A6%95%E0%A7%83%E0%A6%B7%E0%A6%95%E0%A6%A6%E0%A7%87%E0%A6%B0-%E0%A6%9C%E0%A6%A8%E0%A7%8D%E0%A6%AF-%E0%A6%86%E0%A6%B0%E0%A6%93-%E0%A7%A7%E0%A7%AE%E0%A7%A6%E0%A7%AD-%E0%A6%95%E0%A7%8B%E0%A6%9F%E0%A6%BF-%E0%A6%A1%E0%A6%B2%E0%A6%BE%E0%A6%B0-%E0%A6%8B%E0%A6%A3-%E0%A6%A6%E0%A7%87%E0%A6%AC%E0%A7%87-%E0%A6%87%E0%A6%AB%E0%A6%BE%E0%A6%A6\n",
            "ERROR:trafilatura.utils:this type cannot be processed: <class 'NoneType'>\n"
          ],
          "name": "stderr"
        },
        {
          "output_type": "stream",
          "text": [
            "Description Updated\n",
            "1968\n",
            "Link Type\n",
            "https://samakal.com/bangladesh/article/201248132/%E0%A6%95%E0%A7%8D%E0%A6%B7%E0%A7%81%E0%A6%A6%E0%A7%8D%E0%A6%B0-%E0%A6%89%E0%A6%A6%E0%A7%8D%E0%A6%AF%E0%A7%8B%E0%A6%95%E0%A7%8D%E0%A6%A4%E0%A6%BE-%E0%A6%93-%E0%A6%95%E0%A7%83%E0%A6%B7%E0%A6%95%E0%A6%A6%E0%A7%87%E0%A6%B0-%E0%A6%9C%E0%A6%A8%E0%A7%8D%E0%A6%AF-%E0%A6%86%E0%A6%B0%E0%A6%93-%E0%A7%A7%E0%A7%AE%E0%A7%A6%E0%A7%AD-%E0%A6%95%E0%A7%8B%E0%A6%9F%E0%A6%BF-%E0%A6%A1%E0%A6%B2%E0%A6%BE%E0%A6%B0-%E0%A6%8B%E0%A6%A3-%E0%A6%A6%E0%A7%87%E0%A6%AC%E0%A7%87-%E0%A6%87%E0%A6%AB%E0%A6%BE%E0%A6%A6\n",
            "None\n",
            "dropped\n",
            "1969\n",
            "Link Type\n",
            "https://osomapto-valobasha.com/321701/\n"
          ],
          "name": "stdout"
        },
        {
          "output_type": "stream",
          "text": [
            "ERROR:trafilatura.core:not enough text None\n"
          ],
          "name": "stderr"
        },
        {
          "output_type": "stream",
          "text": [
            "Description Updated\n",
            "1970\n",
            "Link Type\n",
            "https://expressbengal.com/2020/12/23/ihfdaf-dlf-dsfdldsf-lfd-flfds-fldskdsd-sfdlsfds-fdfldsf-dsdkdklds/\n",
            "Description Updated\n",
            "1971\n",
            "Link Type\n",
            "https://on25.net/2020/12/30/419/\n",
            "Description Updated\n",
            "1972\n",
            "Link Type\n",
            "https://www.somoynews.tv/pages/details/255689/%E0%A6%AE%E0%A6%BE%E0%A6%B2%E0%A7%9F%E0%A7%87%E0%A6%B6%E0%A6%BF%E0%A7%9F%E0%A6%BE%E0%A7%9F-%E0%A6%AC%E0%A6%BE%E0%A6%82%E0%A6%B2%E0%A6%BE%E0%A6%A6%E0%A7%87%E0%A6%B6-%E0%A6%A6%E0%A7%82%E0%A6%A4%E0%A6%BE%E0%A6%AC%E0%A6%BE%E0%A6%B8%E0%A7%87%E0%A6%B0-%E0%A6%86%E0%A6%82%E0%A6%B6%E0%A6%BF%E0%A6%95-%E0%A6%95%E0%A6%BE%E0%A6%B0%E0%A7%8D%E0%A6%AF%E0%A6%95%E0%A7%8D%E0%A6%B0%E0%A6%AE-%E0%A6%AC%E0%A6%A8%E0%A7%8D%E0%A6%A7\n",
            "Description Updated\n",
            "1973\n",
            "Link Type\n",
            "https://inabd.com/archives/9200\n",
            "Description Updated\n",
            "1974\n",
            "Link Type\n",
            "https://www.daily-bangladesh.com/national/224173\n"
          ],
          "name": "stdout"
        },
        {
          "output_type": "stream",
          "text": [
            "ERROR:trafilatura.utils:retries/redirects: https://www.ourislam24.com/2020/12/29/%e0%a6%af%e0%a7%81%e0%a6%95%e0%a7%8d%e0%a6%a4%e0%a6%b0%e0%a6%be%e0%a6%b7%e0%a7%8d%e0%a6%9f%e0%a7%8d%e0%a6%b0%e0%a7%87-%e0%a6%95%e0%a6%b0%e0%a7%8b%e0%a6%a8%e0%a6%be-%e0%a6%b6%e0%a6%a8%e0%a6%be%e0%a6%95/ HTTPSConnectionPool(host='www.ourislam24.com', port=443): Max retries exceeded with url: /2020/12/29/%E0%A6%AF%E0%A7%81%E0%A6%95%E0%A7%8D%E0%A6%A4%E0%A6%B0%E0%A6%BE%E0%A6%B7%E0%A7%8D%E0%A6%9F%E0%A7%8D%E0%A6%B0%E0%A7%87-%E0%A6%95%E0%A6%B0%E0%A7%8B%E0%A6%A8%E0%A6%BE-%E0%A6%B6%E0%A6%A8%E0%A6%BE%E0%A6%95/ (Caused by ResponseError('too many 503 error responses'))\n",
            "ERROR:trafilatura.utils:parsing failed: Document is empty\n"
          ],
          "name": "stderr"
        },
        {
          "output_type": "stream",
          "text": [
            "Description Updated\n",
            "1975\n",
            "Link Type\n",
            "https://www.ourislam24.com/2020/12/29/%e0%a6%af%e0%a7%81%e0%a6%95%e0%a7%8d%e0%a6%a4%e0%a6%b0%e0%a6%be%e0%a6%b7%e0%a7%8d%e0%a6%9f%e0%a7%8d%e0%a6%b0%e0%a7%87-%e0%a6%95%e0%a6%b0%e0%a7%8b%e0%a6%a8%e0%a6%be-%e0%a6%b6%e0%a6%a8%e0%a6%be%e0%a6%95/\n",
            "None\n",
            "dropped\n",
            "1976\n",
            "Link Type\n",
            "https://www.sangbadpratidin.in/bangladesh/quarantine-must-for-london-returnees-in-bangladesh/\n",
            "Description Updated\n",
            "1977\n",
            "Link Type\n",
            "https://www.ekushey-tv.com/corona-crisis/news/120057#.X-qcFFKG4js.facebook\n",
            "Description Updated\n",
            "1978\n",
            "Link Type\n",
            "https://www.rtvonline.com/bangladesh/114625/%E0%A6%9C%E0%A6%BE%E0%A6%AE%E0%A6%BF%E0%A6%A8-%E0%A6%AA%E0%A6%BE%E0%A6%A8%E0%A6%A8%E0%A6%BF-%E0%A6%A1%E0%A6%BE.-%E0%A6%B8%E0%A6%BE%E0%A6%AC%E0%A6%B0%E0%A6%BF%E0%A6%A8%E0%A6%BE\n",
            "Description Updated\n",
            "1979\n",
            "Link Type\n",
            "https://patharghatabarta.com/2020/12/29/%E0%A6%9C%E0%A7%87%E0%A6%8F%E0%A6%B8%E0%A6%B8%E0%A6%BF-%E0%A6%9C%E0%A7%87%E0%A6%A1%E0%A6%BF%E0%A6%B8%E0%A6%BF%E0%A6%A4%E0%A7%87-%E0%A6%85%E0%A6%9F%E0%A7%8B%E0%A6%AA%E0%A6%BE%E0%A6%B8%E0%A7%87/\n",
            "Description Updated\n",
            "1980\n",
            "Status Type\n",
            "Continuing\n",
            "1981\n",
            "Status Type\n",
            "Continuing\n",
            "1982\n",
            "Link Type\n",
            "http://www.abnews24.com/health/110038/%E0%A7%A7%E0%A7%AE-%E0%A6%AC%E0%A6%9B%E0%A6%B0%E0%A7%87%E0%A6%B0-%E0%A6%95%E0%A6%AE-%E0%A6%AC%E0%A7%9F%E0%A6%B8%E0%A7%80%E0%A6%A6%E0%A7%87%E0%A6%B0-%E0%A6%AD%E0%A7%8D%E0%A6%AF%E0%A6%BE%E0%A6%95%E0%A6%B8%E0%A6%BF%E0%A6%A8-%E0%A6%A8%E0%A7%9F--%E0%A6%B8%E0%A7%8D%E0%A6%AC%E0%A6%BE%E0%A6%B8%E0%A7%8D%E0%A6%A5%E0%A7%8D%E0%A6%AF%E0%A6%AE%E0%A6%A8%E0%A7%8D%E0%A6%A4%E0%A7%8D%E0%A6%B0%E0%A7%80\n"
          ],
          "name": "stdout"
        },
        {
          "output_type": "stream",
          "text": [
            "ERROR:trafilatura.utils:not a 200 response: 403 for URL https://samakal.com/international/article/201247753/%E0%A6%95%E0%A6%B0%E0%A7%8B%E0%A6%A8%E0%A6%BE-%E0%A6%A8%E0%A6%BF%E0%A7%9F%E0%A7%87-%E0%A6%B0%E0%A6%BF%E0%A6%AA%E0%A7%8B%E0%A6%B0%E0%A7%8D%E0%A6%9F-%E0%A6%95%E0%A6%B0%E0%A6%BE%E0%A7%9F-%E0%A6%9A%E0%A7%80%E0%A6%A8%E0%A6%BE-%E0%A6%B8%E0%A6%BE%E0%A6%82%E0%A6%AC%E0%A6%BE%E0%A6%A6%E0%A6%BF%E0%A6%95%E0%A7%87%E0%A6%B0-%E0%A6%95%E0%A6%BE%E0%A6%B0%E0%A6%BE%E0%A6%A6%E0%A6%A3%E0%A7%8D%E0%A6%A1\n",
            "ERROR:trafilatura.utils:this type cannot be processed: <class 'NoneType'>\n"
          ],
          "name": "stderr"
        },
        {
          "output_type": "stream",
          "text": [
            "Description Updated\n",
            "1983\n",
            "Link Type\n",
            "https://samakal.com/international/article/201247753/%E0%A6%95%E0%A6%B0%E0%A7%8B%E0%A6%A8%E0%A6%BE-%E0%A6%A8%E0%A6%BF%E0%A7%9F%E0%A7%87-%E0%A6%B0%E0%A6%BF%E0%A6%AA%E0%A7%8B%E0%A6%B0%E0%A7%8D%E0%A6%9F-%E0%A6%95%E0%A6%B0%E0%A6%BE%E0%A7%9F-%E0%A6%9A%E0%A7%80%E0%A6%A8%E0%A6%BE-%E0%A6%B8%E0%A6%BE%E0%A6%82%E0%A6%AC%E0%A6%BE%E0%A6%A6%E0%A6%BF%E0%A6%95%E0%A7%87%E0%A6%B0-%E0%A6%95%E0%A6%BE%E0%A6%B0%E0%A6%BE%E0%A6%A6%E0%A6%A3%E0%A7%8D%E0%A6%A1\n",
            "None\n",
            "dropped\n",
            "1984\n",
            "Link Type\n",
            "https://www.jagonews24.com/law-courts/news/633005\n",
            "Description Updated\n",
            "1985\n",
            "Link Type\n",
            "https://www.rtvonline.com/special-report/114494/%E0%A6%95%E0%A6%B0%E0%A7%8B%E0%A6%A8%E0%A6%BE%E0%A7%9F-%E0%A7%AC-%E0%A6%AE%E0%A6%BE%E0%A6%B8%E0%A7%87%E0%A6%B0-%E0%A6%A7%E0%A6%BE%E0%A6%95%E0%A7%8D%E0%A6%95%E0%A6%BE-%E0%A6%B8%E0%A6%BE%E0%A6%AE%E0%A6%B2%E0%A7%87-%E0%A6%97%E0%A6%A4%E0%A6%BF-%E0%A6%AB%E0%A6%BF%E0%A6%B0%E0%A6%9B%E0%A7%87-%E0%A6%9B%E0%A7%9F-%E0%A6%AA%E0%A7%8D%E0%A6%B0%E0%A6%95%E0%A6%B2%E0%A7%8D%E0%A6%AA%E0%A7%87-(%E0%A6%AD%E0%A6%BF%E0%A6%A1%E0%A6%BF%E0%A6%93)\n",
            "Description Updated\n",
            "1986\n",
            "Status Type\n",
            "Continuing\n",
            "1987\n",
            "Link Type\n",
            "http://thirdnewz.com/archives/6353\n",
            "Description Updated\n",
            "1988\n",
            "Link Type\n",
            "https://www.gulfbangla.com/news/8000\n"
          ],
          "name": "stdout"
        },
        {
          "output_type": "stream",
          "text": [
            "WARNING:trafilatura.metadata:no main title found\n",
            "WARNING:trafilatura.metadata:no h2 title found\n",
            "ERROR:trafilatura.core:not enough text None\n"
          ],
          "name": "stderr"
        },
        {
          "output_type": "stream",
          "text": [
            "Description Updated\n",
            "1989\n",
            "Link Type\n",
            "http://surmanews24.net/?p=123013\n",
            "Description Updated\n",
            "1990\n",
            "Link Type\n",
            "http://independent24.com/details/69067/%E0%A6%95%E0%A6%B0%E0%A7%8B%E0%A6%A8%E0%A6%BE%20%E0%A6%A8%E0%A6%BE%20%E0%A6%95%E0%A6%AE%E0%A6%B2%E0%A7%87%20%E0%A6%A1%E0%A6%BF%E0%A6%9C%E0%A6%BF%E0%A6%9F%E0%A6%BE%E0%A6%B2%20%E0%A6%AA%E0%A6%A6%E0%A7%8D%E0%A6%A7%E0%A6%A4%E0%A6%BF%E0%A6%A4%E0%A7%87%20%E0%A6%B6%E0%A6%BF%E0%A6%95%E0%A7%8D%E0%A6%B7%E0%A6%BE%20%E0%A6%95%E0%A6%BE%E0%A6%B0%E0%A7%8D%E0%A6%AF%E0%A6%95%E0%A7%8D%E0%A6%B0%E0%A6%AE:%20%E0%A6%AA%E0%A7%8D%E0%A6%B0%E0%A6%A7%E0%A6%BE%E0%A6%A8%E0%A6%AE%E0%A6%A8%E0%A7%8D%E0%A6%A4%E0%A7%8D%E0%A6%B0%E0%A7%80\n",
            "Description Updated\n",
            "1991\n",
            "Link Type\n",
            "https://dainikpurbokone.net/chattogram/167327/%e0%a6%9a%e0%a6%9f%e0%a7%8d%e0%a6%9f%e0%a6%97%e0%a7%8d%e0%a6%b0%e0%a6%be%e0%a6%ae%e0%a7%87-%e0%a6%95%e0%a6%b0%e0%a7%8b%e0%a6%a8%e0%a6%be%e0%a7%9f-%e0%a7%a8-%e0%a6%9c%e0%a6%a8%e0%a7%87%e0%a6%b0-5/\n"
          ],
          "name": "stdout"
        },
        {
          "output_type": "stream",
          "text": [
            "WARNING:trafilatura.utils:wrong encoding detected: utf-8\n"
          ],
          "name": "stderr"
        },
        {
          "output_type": "stream",
          "text": [
            "Description Updated\n",
            "1992\n",
            "Link Type\n",
            "https://dmpnews.org/%e0%a6%a5%e0%a6%be%e0%a6%b0%e0%a7%8d%e0%a6%9f%e0%a6%bf-%e0%a6%ab%e0%a6%be%e0%a6%b0%e0%a7%8d%e0%a6%b8%e0%a7%8d%e0%a6%9f-%e0%a6%a8%e0%a6%be%e0%a6%87%e0%a6%9f%e0%a6%95%e0%a7%87-%e0%a6%98%e0%a6%bf/\n"
          ],
          "name": "stdout"
        },
        {
          "output_type": "stream",
          "text": [
            "ERROR:trafilatura.utils:retries/redirects: https://www.ourislam24.com/2020/12/31/%e0%a6%95%e0%a6%b0%e0%a7%8b%e0%a6%a8%e0%a6%be%e0%a6%b0-%e0%a6%9f%e0%a6%bf%e0%a6%95%e0%a6%be-%e0%a6%a8%e0%a7%8d%e0%a6%af%e0%a6%be%e0%a6%af%e0%a7%8d%e0%a6%af%e0%a6%ad%e0%a6%be%e0%a6%ac%e0%a7%87/ HTTPSConnectionPool(host='www.ourislam24.com', port=443): Max retries exceeded with url: /2020/12/31/%E0%A6%95%E0%A6%B0%E0%A7%8B%E0%A6%A8%E0%A6%BE%E0%A6%B0-%E0%A6%9F%E0%A6%BF%E0%A6%95%E0%A6%BE-%E0%A6%A8%E0%A7%8D%E0%A6%AF%E0%A6%BE%E0%A6%AF%E0%A7%8D%E0%A6%AF%E0%A6%AD%E0%A6%BE%E0%A6%AC%E0%A7%87/ (Caused by ResponseError('too many 503 error responses'))\n",
            "ERROR:trafilatura.utils:parsing failed: Document is empty\n"
          ],
          "name": "stderr"
        },
        {
          "output_type": "stream",
          "text": [
            "Description Updated\n",
            "1993\n",
            "Link Type\n",
            "https://www.ourislam24.com/2020/12/31/%e0%a6%95%e0%a6%b0%e0%a7%8b%e0%a6%a8%e0%a6%be%e0%a6%b0-%e0%a6%9f%e0%a6%bf%e0%a6%95%e0%a6%be-%e0%a6%a8%e0%a7%8d%e0%a6%af%e0%a6%be%e0%a6%af%e0%a7%8d%e0%a6%af%e0%a6%ad%e0%a6%be%e0%a6%ac%e0%a7%87/\n",
            "None\n",
            "dropped\n",
            "1994\n",
            "Link Type\n",
            "https://www.ourislam24.com/2020/12/30/%e0%a6%86%e0%a6%97%e0%a6%be%e0%a6%ae%e0%a7%80%e0%a6%95%e0%a6%be%e0%a6%b2-%e0%a6%ac%e0%a6%87-%e0%a6%89%e0%a7%8e%e0%a6%b8%e0%a6%ac%e0%a7%87%e0%a6%b0-%e0%a6%89%e0%a6%a6%e0%a7%8d%e0%a6%ac%e0%a7%8b/\n"
          ],
          "name": "stdout"
        },
        {
          "output_type": "stream",
          "text": [
            "ERROR:trafilatura.utils:retries/redirects: https://www.ourislam24.com/2020/12/30/%e0%a6%86%e0%a6%97%e0%a6%be%e0%a6%ae%e0%a7%80%e0%a6%95%e0%a6%be%e0%a6%b2-%e0%a6%ac%e0%a6%87-%e0%a6%89%e0%a7%8e%e0%a6%b8%e0%a6%ac%e0%a7%87%e0%a6%b0-%e0%a6%89%e0%a6%a6%e0%a7%8d%e0%a6%ac%e0%a7%8b/ HTTPSConnectionPool(host='www.ourislam24.com', port=443): Max retries exceeded with url: /2020/12/30/%E0%A6%86%E0%A6%97%E0%A6%BE%E0%A6%AE%E0%A7%80%E0%A6%95%E0%A6%BE%E0%A6%B2-%E0%A6%AC%E0%A6%87-%E0%A6%89%E0%A7%8E%E0%A6%B8%E0%A6%AC%E0%A7%87%E0%A6%B0-%E0%A6%89%E0%A6%A6%E0%A7%8D%E0%A6%AC%E0%A7%8B/ (Caused by ResponseError('too many 503 error responses'))\n",
            "ERROR:trafilatura.utils:parsing failed: Document is empty\n"
          ],
          "name": "stderr"
        },
        {
          "output_type": "stream",
          "text": [
            "None\n",
            "dropped\n",
            "1995\n",
            "Link Type\n",
            "https://www.jugantor.com/todays-paper/last-page/378563/%E0%A7%A8%E0%A7%AA%E0%A7%AA-%E0%A6%89%E0%A6%A8%E0%A7%8D%E0%A6%A8%E0%A7%9F%E0%A6%A8-%E0%A6%95%E0%A7%8C%E0%A6%B6%E0%A6%B2-%E0%A6%A8%E0%A6%BF%E0%A6%9A%E0%A7%8D%E0%A6%9B%E0%A7%87-%E0%A6%B8%E0%A6%B0%E0%A6%95%E0%A6%BE%E0%A6%B0\n",
            "Description Updated\n",
            "1996\n",
            "Link Type\n",
            "https://www.somoynews.tv/pages/details/255231\n"
          ],
          "name": "stdout"
        },
        {
          "output_type": "stream",
          "text": [
            "WARNING:trafilatura.utils:wrong encoding detected: utf-8\n"
          ],
          "name": "stderr"
        },
        {
          "output_type": "stream",
          "text": [
            "Description Updated\n",
            "1997\n",
            "Status Type\n",
            "Continuing\n",
            "1998\n",
            "Link Type\n",
            "https://saradesh24live.com/bn/9695/others/%e0%a7%a8%e0%a7%a6%e0%a7%a8%e0%a7%a7-%e0%a6%b8%e0%a6%be%e0%a6%b2%e0%a7%87%e0%a6%b0-%e0%a6%8f%e0%a6%87%e0%a6%9a%e0%a6%8f%e0%a6%b8%e0%a6%b8%e0%a6%bf-%e0%a6%aa%e0%a6%b0%e0%a7%80%e0%a6%95%e0%a7%8d/\n",
            "Description Updated\n",
            "1999\n",
            "Link Type\n",
            "https://btcnews.com.bd/%e0%a6%ab%e0%a6%bf%e0%a6%b0%e0%a7%87-%e0%a6%a6%e0%a7%87%e0%a6%96%e0%a6%be-%e0%a6%b9%e0%a6%be%e0%a6%ac%e0%a6%bf%e0%a6%aa%e0%a7%8d%e0%a6%b0%e0%a6%ac%e0%a6%bf-%e0%a7%a8%e0%a7%a6%e0%a7%a8%e0%a7%a6/\n"
          ],
          "name": "stdout"
        },
        {
          "output_type": "stream",
          "text": [
            "ERROR:trafilatura.core:not enough text None\n"
          ],
          "name": "stderr"
        },
        {
          "output_type": "stream",
          "text": [
            "Description Updated\n",
            "/content/drive/MyDrive/Try CSV/Crawled/Dec 26_editedcrawled.csv created\n"
          ],
          "name": "stdout"
        }
      ]
    },
    {
      "cell_type": "markdown",
      "metadata": {
        "id": "WOiB7dLXIN_x"
      },
      "source": [
        "# **Testing**"
      ]
    },
    {
      "cell_type": "code",
      "metadata": {
        "id": "Z8v_M8tfgqXj"
      },
      "source": [
        "single_url = 'https://www.analysisbd.net/archives/15992'\n",
        "\n",
        "text = extract_text_from_single_web_page(url=single_url)\n",
        "\n",
        "    \n",
        "print(text)\n",
        "if text is np.nan:\n",
        "  print('NAN')"
      ],
      "execution_count": null,
      "outputs": []
    }
  ]
}